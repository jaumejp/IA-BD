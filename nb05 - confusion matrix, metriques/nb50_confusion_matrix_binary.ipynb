{
 "cells": [
  {
   "cell_type": "markdown",
   "id": "a41ef21f",
   "metadata": {},
   "source": [
    "### Model evaluation. Confusion matrix and performance measures"
   ]
  },
  {
   "cell_type": "markdown",
   "id": "682cbd7c",
   "metadata": {},
   "source": [
    "Evaluem com de bo és un model"
   ]
  },
  {
   "cell_type": "code",
   "execution_count": 1,
   "id": "2c0e08a3",
   "metadata": {},
   "outputs": [],
   "source": [
    "import pandas as pd\n",
    "from sklearn.model_selection import train_test_split"
   ]
  },
  {
   "cell_type": "code",
   "execution_count": 2,
   "id": "ecc9e3c5",
   "metadata": {},
   "outputs": [],
   "source": [
    "df = pd.read_csv('../Dades/sms/SMSSpamCollection', header=None, sep='\\t', names=['Label', 'SMS'])"
   ]
  },
  {
   "cell_type": "code",
   "execution_count": 3,
   "id": "0e6151c7",
   "metadata": {},
   "outputs": [
    {
     "data": {
      "text/html": [
       "<div>\n",
       "<style scoped>\n",
       "    .dataframe tbody tr th:only-of-type {\n",
       "        vertical-align: middle;\n",
       "    }\n",
       "\n",
       "    .dataframe tbody tr th {\n",
       "        vertical-align: top;\n",
       "    }\n",
       "\n",
       "    .dataframe thead th {\n",
       "        text-align: right;\n",
       "    }\n",
       "</style>\n",
       "<table border=\"1\" class=\"dataframe\">\n",
       "  <thead>\n",
       "    <tr style=\"text-align: right;\">\n",
       "      <th></th>\n",
       "      <th>Label</th>\n",
       "      <th>SMS</th>\n",
       "    </tr>\n",
       "  </thead>\n",
       "  <tbody>\n",
       "    <tr>\n",
       "      <th>0</th>\n",
       "      <td>ham</td>\n",
       "      <td>Go until jurong point, crazy.. Available only ...</td>\n",
       "    </tr>\n",
       "    <tr>\n",
       "      <th>1</th>\n",
       "      <td>ham</td>\n",
       "      <td>Ok lar... Joking wif u oni...</td>\n",
       "    </tr>\n",
       "    <tr>\n",
       "      <th>2</th>\n",
       "      <td>spam</td>\n",
       "      <td>Free entry in 2 a wkly comp to win FA Cup fina...</td>\n",
       "    </tr>\n",
       "    <tr>\n",
       "      <th>3</th>\n",
       "      <td>ham</td>\n",
       "      <td>U dun say so early hor... U c already then say...</td>\n",
       "    </tr>\n",
       "    <tr>\n",
       "      <th>4</th>\n",
       "      <td>ham</td>\n",
       "      <td>Nah I don't think he goes to usf, he lives aro...</td>\n",
       "    </tr>\n",
       "  </tbody>\n",
       "</table>\n",
       "</div>"
      ],
      "text/plain": [
       "  Label                                                SMS\n",
       "0   ham  Go until jurong point, crazy.. Available only ...\n",
       "1   ham                      Ok lar... Joking wif u oni...\n",
       "2  spam  Free entry in 2 a wkly comp to win FA Cup fina...\n",
       "3   ham  U dun say so early hor... U c already then say...\n",
       "4   ham  Nah I don't think he goes to usf, he lives aro..."
      ]
     },
     "execution_count": 3,
     "metadata": {},
     "output_type": "execute_result"
    }
   ],
   "source": [
    "df.head()"
   ]
  },
  {
   "cell_type": "code",
   "execution_count": 4,
   "id": "054bdb86",
   "metadata": {},
   "outputs": [
    {
     "data": {
      "text/plain": [
       "((4457, 2), (1115, 2))"
      ]
     },
     "execution_count": 4,
     "metadata": {},
     "output_type": "execute_result"
    }
   ],
   "source": [
    "X_train, X_test = train_test_split(df, test_size = 0.2, random_state = 1234)\n",
    "X_train.shape, X_test.shape"
   ]
  },
  {
   "cell_type": "code",
   "execution_count": 5,
   "id": "ae9cfa14",
   "metadata": {},
   "outputs": [],
   "source": [
    "from nbc import NBCtext"
   ]
  },
  {
   "cell_type": "code",
   "execution_count": 6,
   "id": "4a99f9ca",
   "metadata": {},
   "outputs": [],
   "source": [
    "_nbc = NBCtext()"
   ]
  },
  {
   "cell_type": "code",
   "execution_count": 7,
   "id": "62e5e148",
   "metadata": {},
   "outputs": [],
   "source": [
    "_nbc.fit(X_train[['SMS', 'Label']])"
   ]
  },
  {
   "cell_type": "code",
   "execution_count": 8,
   "id": "47c72db9",
   "metadata": {},
   "outputs": [],
   "source": [
    "X_test['predict'] = X_test.SMS.apply(lambda x: _nbc.predict(x, alpha = 1, soft = False))"
   ]
  },
  {
   "cell_type": "code",
   "execution_count": 9,
   "id": "d5a3e358",
   "metadata": {},
   "outputs": [
    {
     "data": {
      "text/html": [
       "<div>\n",
       "<style scoped>\n",
       "    .dataframe tbody tr th:only-of-type {\n",
       "        vertical-align: middle;\n",
       "    }\n",
       "\n",
       "    .dataframe tbody tr th {\n",
       "        vertical-align: top;\n",
       "    }\n",
       "\n",
       "    .dataframe thead th {\n",
       "        text-align: right;\n",
       "    }\n",
       "</style>\n",
       "<table border=\"1\" class=\"dataframe\">\n",
       "  <thead>\n",
       "    <tr style=\"text-align: right;\">\n",
       "      <th></th>\n",
       "      <th></th>\n",
       "      <th>predict</th>\n",
       "      <th>predict</th>\n",
       "    </tr>\n",
       "    <tr>\n",
       "      <th>Label</th>\n",
       "      <th>predict</th>\n",
       "      <th></th>\n",
       "      <th></th>\n",
       "    </tr>\n",
       "  </thead>\n",
       "  <tbody>\n",
       "    <tr>\n",
       "      <th rowspan=\"2\" valign=\"top\">ham</th>\n",
       "      <th>ham</th>\n",
       "      <td>957</td>\n",
       "      <td>0.994802</td>\n",
       "    </tr>\n",
       "    <tr>\n",
       "      <th>spam</th>\n",
       "      <td>5</td>\n",
       "      <td>0.005198</td>\n",
       "    </tr>\n",
       "    <tr>\n",
       "      <th rowspan=\"2\" valign=\"top\">spam</th>\n",
       "      <th>spam</th>\n",
       "      <td>141</td>\n",
       "      <td>0.921569</td>\n",
       "    </tr>\n",
       "    <tr>\n",
       "      <th>ham</th>\n",
       "      <td>12</td>\n",
       "      <td>0.078431</td>\n",
       "    </tr>\n",
       "  </tbody>\n",
       "</table>\n",
       "</div>"
      ],
      "text/plain": [
       "               predict   predict\n",
       "Label predict                   \n",
       "ham   ham          957  0.994802\n",
       "      spam           5  0.005198\n",
       "spam  spam         141  0.921569\n",
       "      ham           12  0.078431"
      ]
     },
     "execution_count": 9,
     "metadata": {},
     "output_type": "execute_result"
    }
   ],
   "source": [
    "pd.concat((X_test.groupby('Label').predict.value_counts(), X_test.groupby('Label').predict.value_counts(normalize = True)), axis = 1)"
   ]
  },
  {
   "cell_type": "markdown",
   "id": "f30c4ffa",
   "metadata": {},
   "source": [
    "En compte de medir ham/spam. Fem hard-desese i tenim aquesta taula: \n",
    "- sa: en predim 99% bé\n",
    "- malalt: en predim 95% bé (tenim 5% que estan bé i els hi diguem que estan malament)\n",
    "\n",
    "Altre model: \n",
    "- sa: en prediu 75% bé\n",
    "- malalt: en prediu 99% bé\n",
    "\n",
    "Millor el segon:\n",
    "- És més dificil enganxar un malalt perquè n'hi ha menys.\n",
    "- Al primer hi ha un 5% dels malalts que els deixem fora (no els hi diguem que estan malalts).\n",
    "- El segon, a un sa li diguem que està malalt, però en realitat està sa (li hem de fer més proves). \n",
    "\n",
    "Conclusió:\n",
    "- Mirant nomès aquestes dades, no n'hi ha prou, s'han d'interpretar les dades bé."
   ]
  },
  {
   "cell_type": "markdown",
   "id": "294d1d66",
   "metadata": {},
   "source": [
    "### Confusion Matrix for binary classification"
   ]
  },
  {
   "attachments": {
    "image.png": {
     "image/png": "[encoded data removed]"
    }
   },
   "cell_type": "markdown",
   "id": "692e1d42",
   "metadata": {},
   "source": [
    "<div>\n",
    "<img src=\"attachment:image.png\" align=\"left\" width=\"400\"/>\n",
    "</div>\n"
   ]
  },
  {
   "cell_type": "code",
   "execution_count": 10,
   "id": "e0d2aa1a",
   "metadata": {},
   "outputs": [],
   "source": [
    "import matplotlib.pyplot as plt\n",
    "import seaborn as sns\n",
    "from sklearn.metrics import ConfusionMatrixDisplay"
   ]
  },
  {
   "cell_type": "code",
   "execution_count": 11,
   "id": "6d2a9bca",
   "metadata": {},
   "outputs": [
    {
     "data": {
      "text/html": [
       "<div>\n",
       "<style scoped>\n",
       "    .dataframe tbody tr th:only-of-type {\n",
       "        vertical-align: middle;\n",
       "    }\n",
       "\n",
       "    .dataframe tbody tr th {\n",
       "        vertical-align: top;\n",
       "    }\n",
       "\n",
       "    .dataframe thead th {\n",
       "        text-align: right;\n",
       "    }\n",
       "</style>\n",
       "<table border=\"1\" class=\"dataframe\">\n",
       "  <thead>\n",
       "    <tr style=\"text-align: right;\">\n",
       "      <th></th>\n",
       "      <th>Label</th>\n",
       "      <th>SMS</th>\n",
       "      <th>predict</th>\n",
       "    </tr>\n",
       "  </thead>\n",
       "  <tbody>\n",
       "    <tr>\n",
       "      <th>1537</th>\n",
       "      <td>ham</td>\n",
       "      <td>How's it feel? Mr. Your not my real Valentine ...</td>\n",
       "      <td>ham</td>\n",
       "    </tr>\n",
       "    <tr>\n",
       "      <th>963</th>\n",
       "      <td>ham</td>\n",
       "      <td>Watching cartoon, listening music &amp;amp; at eve...</td>\n",
       "      <td>ham</td>\n",
       "    </tr>\n",
       "  </tbody>\n",
       "</table>\n",
       "</div>"
      ],
      "text/plain": [
       "     Label                                                SMS predict\n",
       "1537   ham  How's it feel? Mr. Your not my real Valentine ...     ham\n",
       "963    ham  Watching cartoon, listening music &amp; at eve...     ham"
      ]
     },
     "execution_count": 11,
     "metadata": {},
     "output_type": "execute_result"
    }
   ],
   "source": [
    "X_test.head(2)"
   ]
  },
  {
   "cell_type": "code",
   "execution_count": 12,
   "id": "14f2b499",
   "metadata": {},
   "outputs": [
    {
     "data": {
      "text/plain": [
       "<sklearn.metrics._plot.confusion_matrix.ConfusionMatrixDisplay at 0x28eb9962f50>"
      ]
     },
     "execution_count": 12,
     "metadata": {},
     "output_type": "execute_result"
    },
    {
     "data": {
      "image/png": "[encoded data removed]",
      "text/plain": [
       "<Figure size 640x480 with 2 Axes>"
      ]
     },
     "metadata": {},
     "output_type": "display_data"
    }
   ],
   "source": [
    "# Li passem el dataframe amb la columna original i el predict i mostra la figura.\n",
    "ConfusionMatrixDisplay.from_predictions(X_test.Label, X_test.predict)"
   ]
  },
  {
   "cell_type": "markdown",
   "id": "50434325",
   "metadata": {},
   "source": [
    "#### improved confusion matrix visualization"
   ]
  },
  {
   "cell_type": "code",
   "execution_count": 13,
   "id": "5779565c",
   "metadata": {},
   "outputs": [],
   "source": [
    "sns.set_theme(context = 'notebook', style = \"white\", font_scale = 1.0)"
   ]
  },
  {
   "cell_type": "code",
   "execution_count": 14,
   "id": "44cf3a49",
   "metadata": {},
   "outputs": [
    {
     "data": {
      "image/png": "[encoded data removed]",
      "text/plain": [
       "<Figure size 400x400 with 1 Axes>"
      ]
     },
     "metadata": {},
     "output_type": "display_data"
    }
   ],
   "source": [
    "_, axs = plt.subplots(1, 1, figsize = (4, 4))\n",
    "ConfusionMatrixDisplay.from_predictions(\n",
    "    X_test.Label,\n",
    "    X_test.predict,\n",
    "    ax = axs,\n",
    "    colorbar = False,\n",
    "    cmap = 'GnBu'\n",
    ");"
   ]
  },
  {
   "cell_type": "markdown",
   "id": "dde4c101",
   "metadata": {},
   "source": [
    "#### A la diagonal hi han els que hem predit bé. I amb el color també mirem on hi ha el gruix dels predits."
   ]
  },
  {
   "cell_type": "markdown",
   "id": "48ccebae",
   "metadata": {},
   "source": [
    "###  Performance measures for binary classification"
   ]
  },
  {
   "cell_type": "markdown",
   "id": "96db46c8",
   "metadata": {},
   "source": [
    "En un exemple binari nomès tenim: \n",
    "- Sa/hams (positiu) (P) de les files\n",
    "- Negatiu/spam (negatiu) (N) de les files\n",
    "- P de les columnes, va amb un barret a sobre i és la predicció.\n",
    "- TP &rarr; true positive &rarr; l'hem predit bé a positiu\n",
    "| |P|N|\n",
    "|-|-|-|\n",
    "|P|TP|FN|\n",
    "|N|FP|TN|\n",
    "- TP + FN + FP + TN = Nº observacions del set de test o 1 si ho fem amb proporcions"
   ]
  },
  {
   "cell_type": "markdown",
   "id": "261e6548",
   "metadata": {},
   "source": [
    "- **Accuracy**: proportion of correctly predicted examples,\n",
    "\n",
    "$$Acc=\\frac{TP+TN}{P+N}=\\frac{TP+TN}{TP+FN+FP+TN}$$"
   ]
  },
  {
   "cell_type": "markdown",
   "id": "7b95bb86",
   "metadata": {},
   "source": [
    "## Accuracy:\n",
    "Numero d'observacions que hem encertat, els dos que hem encertat dividit pel total que tenim.\n",
    "- 1000 persones &rarr; 900 sans i 100 malalts. Fem el Acerteme el 90% dels sans i el 75% bé dels malalts\n",
    "- Model: \n",
    "| |P|N|\n",
    "|-|-|-|\n",
    "|P(900p)|(810/1000=0.81)(810p)|0.09(90p)|\n",
    "|N(100p)|0.025(25p)|0.075(75p)|\n",
    "- Acc = 0.81 + 0.075 / 1 = 0.885\n",
    "- Acc = 810 + 75 / 1000 = 0.885\n",
    "- <hr/>\n",
    "- Si evaluem el model a base del `acc = 0.885` &rarr; 89% com de significatiu és aquest 89%, aquest valor per si sol no diu res. El model no funciona un 89 de rendiment, perquè els malalts peta molt més d'això que diu. perque fa un promig dels que ha predit bé i dels que no. tens moltes errades. Els malalts no els estem predint amb aquest `acc`. sería millor dir el 90 i 75 inicials.\n",
    "- Al fer un split train/test donarà diferent (diferents `acc`) podríem fer un promig, pero ho veurem més endavant: `cross-validation`.\n",
    "- Nomès en fem 1, primer tenim el problema de dir com de bé funciona el model. Aquesta metrica `acc`, és una metrica però no diu tota la veritat. \n",
    "- Si tenim 25 dades, hauríem de donar 25 (90 i 75) i és dificil de digerir, ho hem de compactar. \n",
    "- El `acc` està amagant biaixos.\n",
    "- Tenim altres mesures. \n",
    "\n",
    "#### Calculem l'accuracy:"
   ]
  },
  {
   "cell_type": "code",
   "execution_count": 15,
   "id": "f18e81fc",
   "metadata": {},
   "outputs": [
    {
     "data": {
      "text/plain": [
       "Label      0.984753\n",
       "SMS        0.984753\n",
       "predict    0.984753\n",
       "dtype: float64"
      ]
     },
     "execution_count": 15,
     "metadata": {},
     "output_type": "execute_result"
    }
   ],
   "source": [
    "X_test[X_test.Label == X_test.predict].count() /X_test.shape[0]"
   ]
  },
  {
   "cell_type": "code",
   "execution_count": 16,
   "id": "604758bd",
   "metadata": {},
   "outputs": [
    {
     "data": {
      "text/plain": [
       "0.9847533632286996"
      ]
     },
     "execution_count": 16,
     "metadata": {},
     "output_type": "execute_result"
    }
   ],
   "source": [
    "# Aquí el .Label es per fer-ho nomès per una columna.\n",
    "X_test[X_test.Label == X_test.predict].Label.count() /X_test.shape[0]"
   ]
  },
  {
   "cell_type": "code",
   "execution_count": 17,
   "id": "0d7041bc",
   "metadata": {},
   "outputs": [
    {
     "data": {
      "text/plain": [
       "0.9847533632286996"
      ]
     },
     "execution_count": 17,
     "metadata": {},
     "output_type": "execute_result"
    }
   ],
   "source": [
    "from sklearn.metrics import accuracy_score\n",
    "accuracy_score(X_test.Label, X_test.predict)"
   ]
  },
  {
   "cell_type": "markdown",
   "id": "1fa003db",
   "metadata": {},
   "source": [
    "## Altres mesures: \n",
    "\n",
    "- **Presició** &rarr; les vegades que l'encerto, per les vegades que fem aquella predicció: \n",
    "    - Predicció positiva: TP / TP + FN\n",
    "    - Prediccció negativa: TN / TN + FN\n",
    "    - Cada columna tindría la seva presició\n",
    "    - Última fila\n",
    "    - Com predim\n",
    "- **Recall** &rarr; de tots els positius que hi ha, quants sóc capaç de predir\n",
    "    - Última columna\n",
    "    - com de bé recuperem les etiquetes reals\n",
    "    \n",
    "| |P|N|recall|\n",
    "|-|-|-|-|\n",
    "|P(900p)|(810/1000=0.81)(810p)|0.09(90p)|TP / (TP+FN)|\n",
    "|N(100p)|0.025(25p)|0.075(75p)|TN/(TN+FP)|\n",
    "|precisió|(TP/(TP+FP)|(TN/(TN+FN)|(TP+TN)/(tots)|\n",
    "\n",
    "- **El de baix a la dreta del tot és l'accuracy. el de sobre seu el recall i el de la esquerre la presició**\n"
   ]
  },
  {
   "cell_type": "markdown",
   "id": "88e4c4fd",
   "metadata": {},
   "source": [
    "- **Recall**: fraction of positive examples correctly predicted as positives (it is a measure of *quantity*, also called **sensitivity** or **true positive rate**)\n",
    "\n",
    "$$Recall=\\frac{TP}{P}=\\frac{TP}{TP+FN}$$"
   ]
  },
  {
   "cell_type": "markdown",
   "id": "2980fe23",
   "metadata": {},
   "source": [
    "- **Precision**: fraction of predicted positive examples wich are actually positive (it is a measure of *quality* of the prediction)\n",
    "\n",
    "$$Precision=\\frac{TP}{PP}=\\frac{TP}{TP+FP}$$"
   ]
  },
  {
   "cell_type": "markdown",
   "id": "bf2ef995",
   "metadata": {},
   "source": [
    "- **$F_1$ score**: An average measure of performance taking into account both, *Recall* and *Precision* (harmonic mean of *Recall* and *Precision*, ex. the harmonic mean is zero whenever $Precision=0$ or $Recall=0$ while a classifier with $Precision=1$ and $Recall=0$ has an arithmetic mean of 0.5). \n",
    "\n",
    "$$F_1=\\frac{2\\,Recall\\,Precision}{Recall+Precision}=\\frac{2\\,TP}{2\\,TP+FP+FN}$$"
   ]
  },
  {
   "cell_type": "code",
   "execution_count": 18,
   "id": "bbe354f0",
   "metadata": {},
   "outputs": [],
   "source": [
    "from sklearn.metrics import precision_recall_fscore_support as prf"
   ]
  },
  {
   "cell_type": "markdown",
   "id": "bfec78dd",
   "metadata": {},
   "source": [
    "- L'penultim és el `fscore` &rarr; per comprimir més aqeusta informació.\n",
    "    - És la combinació: la mitja armonica del presicion i el recall. \n",
    "        - mitja aritmetica: la normal &rarr; suma numeros dividit per n. \n",
    "        - **mitja armonica**: invers de la mitja dels inversos &rarr; n/sum(1/Xi) &rarr; 1/((1/n)*sum(1/Xi)) \n",
    "            - &rarr; És la millor forma de reduir a un sol número tota la informació de la predicció, el recall i accuracy (està implicit amb tot això), encara que no es faci servir directament per calcular-lo.\n",
    "\n",
    "- L'últim és com de balansejat està el model. Són els valors reals, que en el set de test tenim: **962 ham i 153 spam**"
   ]
  },
  {
   "cell_type": "code",
   "execution_count": 19,
   "id": "aa3e5ead",
   "metadata": {},
   "outputs": [
    {
     "data": {
      "text/plain": [
       "(array([0.9876161 , 0.96575342]),\n",
       " array([0.99480249, 0.92156863]),\n",
       " array([0.99119627, 0.94314381]),\n",
       " array([962, 153], dtype=int64))"
      ]
     },
     "execution_count": 19,
     "metadata": {},
     "output_type": "execute_result"
    }
   ],
   "source": [
    "prf(X_test.Label, X_test.predict)"
   ]
  },
  {
   "cell_type": "markdown",
   "id": "15983645",
   "metadata": {},
   "source": [
    "El `fscore` és per positius i per negatius, en tenim dos (TP/(TP+FP)) / (TP/(TP+TN))"
   ]
  },
  {
   "cell_type": "markdown",
   "id": "60404045",
   "metadata": {},
   "source": [
    "- **El macro-average:** és al recall (en tenim dos) dividit per dos. &rarr; a cada classe li donem el mateix pes. (Si tinguessim 500 i 500) estaría bé, però no és el cas. \n",
    "- **En el weightd:** cada un pesa la seva proporció\n",
    "- **En el micro:** No el tenim amb compte encara  "
   ]
  },
  {
   "cell_type": "markdown",
   "id": "2a1920c1",
   "metadata": {},
   "source": [
    "##### Averaged performance measures"
   ]
  },
  {
   "cell_type": "markdown",
   "id": "f4fbffb1",
   "metadata": {},
   "source": [
    "- **macro-average**\n",
    "\n",
    "performance metrics are computed independently for each class and averaged afterwards (hence all classes have the same weight in the average)"
   ]
  },
  {
   "cell_type": "code",
   "execution_count": 20,
   "id": "20d78065",
   "metadata": {},
   "outputs": [
    {
     "name": "stdout",
     "output_type": "stream",
     "text": [
      "+++ average performance measures\n",
      "Precision  0.9767\n",
      "Recall     0.9582\n",
      "f_score    0.9672\n",
      "Suppport   None\n"
     ]
    }
   ],
   "source": [
    "prc, rcl, f1, sup = prf(X_test.Label, X_test.predict, average = 'macro')\n",
    "print('+++ average performance measures')\n",
    "print('Precision  %6.4f' %prc)\n",
    "print('Recall     %6.4f' %rcl)\n",
    "print('f_score    %6.4f' %f1)\n",
    "print('Suppport   %s' %sup)"
   ]
  },
  {
   "cell_type": "markdown",
   "id": "2cdbe25a",
   "metadata": {},
   "source": [
    "- **micro-average**\n",
    "\n",
    "performance metrics are computed by aggregating the contributions of all classes (hence preferable in case of class imbalance), in this case *recall*, *precision* and *$F_1$score* are all equal, i.e.\n",
    "\n",
    "$$\\text{microRecall}=\\frac{\\sum_c\\,TP_c}{\\sum_c\\,P_c}\\;\\equiv\\;\\text{microPrecision}=\\frac{\\sum_c\\,TP_c}{\\sum_c\\,PP_c}\\;\\equiv\\;\\text{micro}F_1$$"
   ]
  },
  {
   "cell_type": "markdown",
   "id": "5021ee33",
   "metadata": {},
   "source": [
    "- **weighted-average**\n",
    "\n",
    "performance metrics are computed by weighting the contributions of all classes (also preferable in case of class imbalance), e.g.\n",
    "\n",
    "$$\\text{microRecall}=\\sum_c\\frac{n_c}{n}\\,\\frac{TP_c}{P_c}\\,,\\; \\text{microPrecision}=\\sum_c\\frac{n_c}{n}\\,\\frac{TP_c}{PP_c}$$"
   ]
  },
  {
   "cell_type": "code",
   "execution_count": 21,
   "id": "e1be3b1c",
   "metadata": {},
   "outputs": [
    {
     "data": {
      "text/html": [
       "<div>\n",
       "<style scoped>\n",
       "    .dataframe tbody tr th:only-of-type {\n",
       "        vertical-align: middle;\n",
       "    }\n",
       "\n",
       "    .dataframe tbody tr th {\n",
       "        vertical-align: top;\n",
       "    }\n",
       "\n",
       "    .dataframe thead th {\n",
       "        text-align: right;\n",
       "    }\n",
       "</style>\n",
       "<table border=\"1\" class=\"dataframe\">\n",
       "  <thead>\n",
       "    <tr style=\"text-align: right;\">\n",
       "      <th></th>\n",
       "      <th>precision</th>\n",
       "      <th>recall</th>\n",
       "      <th>f-score</th>\n",
       "    </tr>\n",
       "  </thead>\n",
       "  <tbody>\n",
       "    <tr>\n",
       "      <th>macro</th>\n",
       "      <td>0.976685</td>\n",
       "      <td>0.958186</td>\n",
       "      <td>0.967170</td>\n",
       "    </tr>\n",
       "    <tr>\n",
       "      <th>micro</th>\n",
       "      <td>0.984753</td>\n",
       "      <td>0.984753</td>\n",
       "      <td>0.984753</td>\n",
       "    </tr>\n",
       "    <tr>\n",
       "      <th>weighted</th>\n",
       "      <td>0.984616</td>\n",
       "      <td>0.984753</td>\n",
       "      <td>0.984603</td>\n",
       "    </tr>\n",
       "  </tbody>\n",
       "</table>\n",
       "</div>"
      ],
      "text/plain": [
       "          precision    recall   f-score\n",
       "macro      0.976685  0.958186  0.967170\n",
       "micro      0.984753  0.984753  0.984753\n",
       "weighted   0.984616  0.984753  0.984603"
      ]
     },
     "execution_count": 21,
     "metadata": {},
     "output_type": "execute_result"
    }
   ],
   "source": [
    "avrgs = ['macro', 'micro', 'weighted']\n",
    "pd.DataFrame([prf(X_test.Label, X_test.predict, average = mode)[:3] for mode in avrgs], columns = ['precision', 'recall', 'f-score'], index = avrgs)"
   ]
  }
 ],
 "metadata": {
  "kernelspec": {
   "display_name": "Python 3 (ipykernel)",
   "language": "python",
   "name": "python3"
  },
  "language_info": {
   "codemirror_mode": {
    "name": "ipython",
    "version": 3
   },
   "file_extension": ".py",
   "mimetype": "text/x-python",
   "name": "python",
   "nbconvert_exporter": "python",
   "pygments_lexer": "ipython3",
   "version": "3.11.5"
  }
 },
 "nbformat": 4,
 "nbformat_minor": 5
}
