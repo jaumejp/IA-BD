{
 "cells": [
  {
   "cell_type": "markdown",
   "id": "25208131",
   "metadata": {},
   "source": [
    "### Logistic regression"
   ]
  },
  {
   "cell_type": "markdown",
   "id": "1d8d99d1",
   "metadata": {},
   "source": [
    "#### the sigmoid function\n",
    "\n",
    "- the ***sigmoid function*** is defined as: $f\\left(x\\right)=\\frac{1}{1 +\\,\\exp{\\left(-x\\right)}}$\n",
    "\n",
    "\n",
    "- the sigmoid function maps real values in the interval $(-\\infty,\\,+\\infty)$ to the interval $\\left(0, 1\\right)$\n",
    "\n",
    "    - $\\text{for}\\; x=-\\infty\\; \\text{we have,}\\; \\exp{-\\left(-\\infty\\right)}= \\exp{\\left(+\\infty\\right)}=\\infty\\,\\Rightarrow f\\left(-\\infty\\right)=\\frac{1}{1 +\\infty}=\\frac{1}{\\infty}=0$\n",
    "    \n",
    "    - $\\text{for}; x=+\\infty\\; \\text{we have,}\\; \\exp{-\\left(+\\infty\\right)}= \\exp{\\left(-\\infty\\right)}=\\frac{1}{\\exp\\left(+\\infty\\right)}=\\frac{1}{\\infty}=0\\Rightarrow f\\left(+\\infty\\right)=\\frac{1}{1 +0}=1$\n",
    "    \n",
    "    \n",
    "- with this mapping we can convert a numerical regression $x\\in\\left(-\\infty, +\\infty\\right)$ into a probability $f\\left(x\\right)\\in\\left(0, 1\\right)$\n",
    "\n",
    "- therefore we can use logistic regression to solve a classification problem"
   ]
  },
  {
   "cell_type": "code",
   "execution_count": 1,
   "id": "46dcc1bf",
   "metadata": {},
   "outputs": [],
   "source": [
    "import numpy as np\n",
    "import matplotlib.pyplot as plt\n",
    "import seaborn as sns\n",
    "sns.set_theme()"
   ]
  },
  {
   "cell_type": "code",
   "execution_count": 2,
   "id": "dcf201b1",
   "metadata": {},
   "outputs": [],
   "source": [
    "x = np.linspace(-5, 5, 10000)"
   ]
  },
  {
   "cell_type": "code",
   "execution_count": 3,
   "id": "e21973de",
   "metadata": {},
   "outputs": [],
   "source": [
    "y = 1 /(1 + np.exp(-x))"
   ]
  },
  {
   "cell_type": "code",
   "execution_count": 4,
   "id": "0d4662ec",
   "metadata": {},
   "outputs": [
    {
     "data": {
      "text/plain": [
       "<matplotlib.lines.Line2D at 0x1dddc426510>"
      ]
     },
     "execution_count": 4,
     "metadata": {},
     "output_type": "execute_result"
    },
    {
     "data": {
      "image/png": "[encoded data removed]",
      "text/plain": [
       "<Figure size 640x480 with 1 Axes>"
      ]
     },
     "metadata": {},
     "output_type": "display_data"
    }
   ],
   "source": [
    "plt.plot(x, y)\n",
    "plt.axhline(0, c = 'r', linestyle = '--')\n",
    "plt.axhline(0.5, c = 'r', linestyle = '--')\n",
    "plt.axhline(1, c = 'r', linestyle = '--')\n",
    "plt.axvline(0, c = 'k', linestyle = '--')"
   ]
  },
  {
   "cell_type": "markdown",
   "id": "ac963954",
   "metadata": {},
   "source": [
    "#### example:\n",
    "- predicting if a person would buy a life insurance based on his age"
   ]
  },
  {
   "cell_type": "code",
   "execution_count": 5,
   "id": "d14c48f5",
   "metadata": {},
   "outputs": [],
   "source": [
    "import pandas as pd\n",
    "from sklearn.linear_model import LogisticRegression"
   ]
  },
  {
   "cell_type": "code",
   "execution_count": 6,
   "id": "4f9a05cf",
   "metadata": {},
   "outputs": [
    {
     "data": {
      "text/html": [
       "<div>\n",
       "<style scoped>\n",
       "    .dataframe tbody tr th:only-of-type {\n",
       "        vertical-align: middle;\n",
       "    }\n",
       "\n",
       "    .dataframe tbody tr th {\n",
       "        vertical-align: top;\n",
       "    }\n",
       "\n",
       "    .dataframe thead th {\n",
       "        text-align: right;\n",
       "    }\n",
       "</style>\n",
       "<table border=\"1\" class=\"dataframe\">\n",
       "  <thead>\n",
       "    <tr style=\"text-align: right;\">\n",
       "      <th></th>\n",
       "      <th>age</th>\n",
       "      <th>bought_insurance</th>\n",
       "    </tr>\n",
       "  </thead>\n",
       "  <tbody>\n",
       "    <tr>\n",
       "      <th>0</th>\n",
       "      <td>22</td>\n",
       "      <td>0</td>\n",
       "    </tr>\n",
       "    <tr>\n",
       "      <th>1</th>\n",
       "      <td>25</td>\n",
       "      <td>0</td>\n",
       "    </tr>\n",
       "    <tr>\n",
       "      <th>2</th>\n",
       "      <td>47</td>\n",
       "      <td>1</td>\n",
       "    </tr>\n",
       "    <tr>\n",
       "      <th>3</th>\n",
       "      <td>52</td>\n",
       "      <td>0</td>\n",
       "    </tr>\n",
       "    <tr>\n",
       "      <th>4</th>\n",
       "      <td>46</td>\n",
       "      <td>1</td>\n",
       "    </tr>\n",
       "  </tbody>\n",
       "</table>\n",
       "</div>"
      ],
      "text/plain": [
       "   age  bought_insurance\n",
       "0   22                 0\n",
       "1   25                 0\n",
       "2   47                 1\n",
       "3   52                 0\n",
       "4   46                 1"
      ]
     },
     "execution_count": 6,
     "metadata": {},
     "output_type": "execute_result"
    }
   ],
   "source": [
    "df = pd.read_csv('../Dades/regression/insurance_data.csv')\n",
    "df.head()"
   ]
  },
  {
   "cell_type": "code",
   "execution_count": 7,
   "id": "5b3f5049",
   "metadata": {},
   "outputs": [
    {
     "data": {
      "image/png": "[encoded data removed]",
      "text/plain": [
       "<Figure size 600x400 with 1 Axes>"
      ]
     },
     "metadata": {},
     "output_type": "display_data"
    }
   ],
   "source": [
    "_, axs = plt.subplots(1, 1, figsize = (6, 4))\n",
    "axs.scatter(df.age, df.bought_insurance, marker = '+', s = 50, color = 'b')\n",
    "plt.axhline(0, c = 'r', linestyle = '--', linewidth = 0.7)\n",
    "plt.axhline(0.5, c = 'r', linestyle = '--', linewidth = 0.7)\n",
    "plt.axhline(1, c = 'r', linestyle = '--', linewidth = 0.7)\n",
    "axs.set_xlabel('age');"
   ]
  },
  {
   "cell_type": "markdown",
   "id": "4d7f75c5",
   "metadata": {},
   "source": [
    "#### build the model\n",
    "\n",
    "- internally, the logistic regression performs two steps:\n",
    "\n",
    "    - first, it builds a linear regression model like $y_{linear}=\\beta_0+\\beta_1\\,x_{linear}$\n",
    "    \n",
    "    - second, it maps the result $y_{linear}$ into the interval $\\left(0, 1\\right)$ by making,\n",
    "    \n",
    "    $y_{logistic}=\\frac{1}{1 +\\exp\\left(-y_{linear}\\right)}=\\frac{1}{1 +\\exp{\\left(-\\left(\\beta_0+\\beta_1\\,x_{linear}\\right)\\right)}}$"
   ]
  },
  {
   "cell_type": "code",
   "execution_count": 8,
   "id": "87f3d286",
   "metadata": {},
   "outputs": [],
   "source": [
    "# independent variable\n",
    "X = df.age.to_numpy().reshape(-1, 1)\n",
    "# dependent variable\n",
    "y = df.bought_insurance"
   ]
  },
  {
   "cell_type": "code",
   "execution_count": 9,
   "id": "154095ea",
   "metadata": {},
   "outputs": [],
   "source": [
    "model = LogisticRegression().fit(X, y)"
   ]
  },
  {
   "cell_type": "code",
   "execution_count": 10,
   "id": "d30a6251",
   "metadata": {},
   "outputs": [
    {
     "name": "stdout",
     "output_type": "stream",
     "text": [
      "β1: 0.13547\n",
      "β0: -5.26280\n",
      "R^2: 0.8888888888888888\n"
     ]
    },
    {
     "name": "stderr",
     "output_type": "stream",
     "text": [
      "C:\\Users\\jaume\\AppData\\Local\\Temp\\ipykernel_3576\\2572710785.py:2: DeprecationWarning: Conversion of an array with ndim > 0 to a scalar is deprecated, and will error in future. Ensure you extract a single element from your array before performing this operation. (Deprecated NumPy 1.25.)\n",
      "  print('\\u03B21: %.5f' % model.coef_)\n",
      "C:\\Users\\jaume\\AppData\\Local\\Temp\\ipykernel_3576\\2572710785.py:4: DeprecationWarning: Conversion of an array with ndim > 0 to a scalar is deprecated, and will error in future. Ensure you extract a single element from your array before performing this operation. (Deprecated NumPy 1.25.)\n",
      "  print('\\u03B20: %.5f' % model.intercept_)\n"
     ]
    }
   ],
   "source": [
    "# Coeficient\n",
    "print('\\u03B21: %.5f' % model.coef_)\n",
    "# Intercept (x = 0)\n",
    "print('\\u03B20: %.5f' % model.intercept_)\n",
    "# error\n",
    "print('R^2:', model.score(X, y))"
   ]
  },
  {
   "cell_type": "markdown",
   "id": "7c7fa910",
   "metadata": {},
   "source": [
    "- now we can make predict the probability of bying a life inssurance for any value of age"
   ]
  },
  {
   "cell_type": "code",
   "execution_count": 11,
   "id": "e877b774",
   "metadata": {},
   "outputs": [
    {
     "data": {
      "text/plain": [
       "array([1], dtype=int64)"
      ]
     },
     "execution_count": 11,
     "metadata": {},
     "output_type": "execute_result"
    }
   ],
   "source": [
    "model.predict(np.array([[65]]))"
   ]
  },
  {
   "cell_type": "markdown",
   "id": "0137f2a0",
   "metadata": {},
   "source": [
    "- we can get a visualization of the model by making predictions for the whole range of the independent variable (age)"
   ]
  },
  {
   "cell_type": "code",
   "execution_count": 12,
   "id": "8b7373d6",
   "metadata": {},
   "outputs": [
    {
     "data": {
      "text/plain": [
       "<matplotlib.lines.Line2D at 0x1dddd70c150>"
      ]
     },
     "execution_count": 12,
     "metadata": {},
     "output_type": "execute_result"
    },
    {
     "data": {
      "image/png": "[encoded data removed]",
      "text/plain": [
       "<Figure size 600x500 with 1 Axes>"
      ]
     },
     "metadata": {},
     "output_type": "display_data"
    }
   ],
   "source": [
    "X = np.linspace(0, 100, 101).reshape(-1, 1)\n",
    "Y = model.predict(X)\n",
    "#\n",
    "_, axs = plt.subplots(1, 1, figsize = (6, 5))\n",
    "axs.plot(X, Y)\n",
    "axs.axhline(0, c = 'r', linestyle = '--')\n",
    "axs.axhline(0.5, c = 'r', linestyle = '--')\n",
    "axs.axhline(1, c = 'r', linestyle = '--')"
   ]
  },
  {
   "cell_type": "markdown",
   "id": "fec97704",
   "metadata": {},
   "source": [
    "- the inflection point is the value of age at which the probability is 0.5"
   ]
  },
  {
   "cell_type": "code",
   "execution_count": 13,
   "id": "859fbf1c",
   "metadata": {},
   "outputs": [
    {
     "data": {
      "text/plain": [
       "array([0, 0, 0, 0, 0, 0, 0, 0, 0, 0, 0, 0, 0, 0, 0, 0, 0, 0, 0, 0, 0, 0,\n",
       "       0, 0, 0, 0, 0, 0, 0, 0, 0, 0, 0, 0, 0, 0, 0, 0, 0, 1, 1, 1, 1, 1,\n",
       "       1, 1, 1, 1, 1, 1, 1, 1, 1, 1, 1, 1, 1, 1, 1, 1, 1, 1, 1, 1, 1, 1,\n",
       "       1, 1, 1, 1, 1, 1, 1, 1, 1, 1, 1, 1, 1, 1, 1, 1, 1, 1, 1, 1, 1, 1,\n",
       "       1, 1, 1, 1, 1, 1, 1, 1, 1, 1, 1, 1, 1], dtype=int64)"
      ]
     },
     "execution_count": 13,
     "metadata": {},
     "output_type": "execute_result"
    }
   ],
   "source": [
    "X = np.linspace(0, 100, 101).reshape(-1, 1)\n",
    "Y = model.predict(X)\n",
    "Y"
   ]
  },
  {
   "cell_type": "code",
   "execution_count": 14,
   "id": "ebdaee75",
   "metadata": {},
   "outputs": [
    {
     "name": "stdout",
     "output_type": "stream",
     "text": [
      "the inflection point is at age 38.84 for which the probability is 0.0000\n"
     ]
    },
    {
     "name": "stderr",
     "output_type": "stream",
     "text": [
      "C:\\Users\\jaume\\AppData\\Local\\Temp\\ipykernel_3576\\1758277544.py:6: DeprecationWarning: Conversion of an array with ndim > 0 to a scalar is deprecated, and will error in future. Ensure you extract a single element from your array before performing this operation. (Deprecated NumPy 1.25.)\n",
      "  print('the inflection point is at age %5.2f for which the probability is %6.4f' %(X[inflection], Y[inflection]))\n"
     ]
    }
   ],
   "source": [
    "# the probability changes abruptly from o to 1\n",
    "# let's use higher precision to find the inflection point\n",
    "X = np.linspace(0, 100, 10000).reshape(-1, 1)\n",
    "Y = model.predict(X)\n",
    "inflection = np.where(Y <= 0.5)[0][-1]\n",
    "print('the inflection point is at age %5.2f for which the probability is %6.4f' %(X[inflection], Y[inflection]))"
   ]
  },
  {
   "cell_type": "markdown",
   "id": "8fbecebf",
   "metadata": {},
   "source": [
    "- El model hauría de ser una més soft.\n",
    "- Ara puja molt abruptament.\n",
    "- És perquè hi ha poques dades i el model ho té clarrisim. \n",
    "- També perque tenim pocs atributs (només si o no).\n",
    "- Busca les desviacions mínimes.\n",
    "- El logistic, resolem el problema de solució binaria, amb les asumpsions de la variable independent, arriba un punt que canvia i això no té marxa enrrere. \n",
    "- En comptes de fer unic, podem fer regressio logistica multivariant, després si que ho podríem representar. \n",
    "- Els de 80 anys no compren quan tenen el sou baix, aquest model tindria una altre dimensió, les curves són diferents, sería la mateixa pero amb profunditat i pot baixar més de un costat que de l'altre per la dimensió sou. "
   ]
  },
  {
   "cell_type": "markdown",
   "id": "5c62e39e",
   "metadata": {},
   "source": [
    "## Ara multivariant (nb58)"
   ]
  },
  {
   "cell_type": "code",
   "execution_count": 15,
   "id": "3319a482",
   "metadata": {},
   "outputs": [],
   "source": [
    "# Atribut catagoric a numeric\n",
    "# \n",
    "# df[['age', 'estimated salary']].describe().T\n",
    "# rangs diferents afecta al model, reescalar (normalitzar, posar rang entre 0 i 1) \n",
    "# i el estanderització = restar mitjana / dividir variança, standar escaled, posa \n",
    "# la mitjana a 0, les variançes les posa totes iguals a 1\n",
    "# El model no es veurà afectat per això. "
   ]
  },
  {
   "cell_type": "code",
   "execution_count": 16,
   "id": "3edb5af6",
   "metadata": {},
   "outputs": [
    {
     "data": {
      "text/html": [
       "<div>\n",
       "<style scoped>\n",
       "    .dataframe tbody tr th:only-of-type {\n",
       "        vertical-align: middle;\n",
       "    }\n",
       "\n",
       "    .dataframe tbody tr th {\n",
       "        vertical-align: top;\n",
       "    }\n",
       "\n",
       "    .dataframe thead th {\n",
       "        text-align: right;\n",
       "    }\n",
       "</style>\n",
       "<table border=\"1\" class=\"dataframe\">\n",
       "  <thead>\n",
       "    <tr style=\"text-align: right;\">\n",
       "      <th></th>\n",
       "      <th>User ID</th>\n",
       "      <th>Gender</th>\n",
       "      <th>Age</th>\n",
       "      <th>EstimatedSalary</th>\n",
       "      <th>Purchased</th>\n",
       "    </tr>\n",
       "  </thead>\n",
       "  <tbody>\n",
       "    <tr>\n",
       "      <th>0</th>\n",
       "      <td>15624510</td>\n",
       "      <td>Male</td>\n",
       "      <td>19</td>\n",
       "      <td>19000</td>\n",
       "      <td>0</td>\n",
       "    </tr>\n",
       "    <tr>\n",
       "      <th>1</th>\n",
       "      <td>15810944</td>\n",
       "      <td>Male</td>\n",
       "      <td>35</td>\n",
       "      <td>20000</td>\n",
       "      <td>0</td>\n",
       "    </tr>\n",
       "    <tr>\n",
       "      <th>2</th>\n",
       "      <td>15668575</td>\n",
       "      <td>Female</td>\n",
       "      <td>26</td>\n",
       "      <td>43000</td>\n",
       "      <td>0</td>\n",
       "    </tr>\n",
       "    <tr>\n",
       "      <th>3</th>\n",
       "      <td>15603246</td>\n",
       "      <td>Female</td>\n",
       "      <td>27</td>\n",
       "      <td>57000</td>\n",
       "      <td>0</td>\n",
       "    </tr>\n",
       "    <tr>\n",
       "      <th>4</th>\n",
       "      <td>15804002</td>\n",
       "      <td>Male</td>\n",
       "      <td>19</td>\n",
       "      <td>76000</td>\n",
       "      <td>0</td>\n",
       "    </tr>\n",
       "  </tbody>\n",
       "</table>\n",
       "</div>"
      ],
      "text/plain": [
       "    User ID  Gender  Age  EstimatedSalary  Purchased\n",
       "0  15624510    Male   19            19000          0\n",
       "1  15810944    Male   35            20000          0\n",
       "2  15668575  Female   26            43000          0\n",
       "3  15603246  Female   27            57000          0\n",
       "4  15804002    Male   19            76000          0"
      ]
     },
     "execution_count": 16,
     "metadata": {},
     "output_type": "execute_result"
    }
   ],
   "source": [
    "df = pd.read_csv('../Dades/regression/Social_Network_Ads.csv')\n",
    "df.head()"
   ]
  },
  {
   "cell_type": "code",
   "execution_count": 17,
   "id": "d01e9a37",
   "metadata": {},
   "outputs": [],
   "source": [
    "# Convertir atributs numerics\n",
    "# df['Gender'] = df['Gender'].apply(lambda x: 1 if x == 'Male' else 0)\n",
    "df['Gender'] = df['Gender'].map({'Male': 1, 'Female': 0})"
   ]
  },
  {
   "cell_type": "code",
   "execution_count": 18,
   "id": "0e732c25",
   "metadata": {},
   "outputs": [
    {
     "data": {
      "text/html": [
       "<div>\n",
       "<style scoped>\n",
       "    .dataframe tbody tr th:only-of-type {\n",
       "        vertical-align: middle;\n",
       "    }\n",
       "\n",
       "    .dataframe tbody tr th {\n",
       "        vertical-align: top;\n",
       "    }\n",
       "\n",
       "    .dataframe thead th {\n",
       "        text-align: right;\n",
       "    }\n",
       "</style>\n",
       "<table border=\"1\" class=\"dataframe\">\n",
       "  <thead>\n",
       "    <tr style=\"text-align: right;\">\n",
       "      <th></th>\n",
       "      <th>User ID</th>\n",
       "      <th>Gender</th>\n",
       "      <th>Age</th>\n",
       "      <th>EstimatedSalary</th>\n",
       "      <th>Purchased</th>\n",
       "    </tr>\n",
       "  </thead>\n",
       "  <tbody>\n",
       "    <tr>\n",
       "      <th>0</th>\n",
       "      <td>15624510</td>\n",
       "      <td>1</td>\n",
       "      <td>19</td>\n",
       "      <td>19000</td>\n",
       "      <td>0</td>\n",
       "    </tr>\n",
       "    <tr>\n",
       "      <th>1</th>\n",
       "      <td>15810944</td>\n",
       "      <td>1</td>\n",
       "      <td>35</td>\n",
       "      <td>20000</td>\n",
       "      <td>0</td>\n",
       "    </tr>\n",
       "    <tr>\n",
       "      <th>2</th>\n",
       "      <td>15668575</td>\n",
       "      <td>0</td>\n",
       "      <td>26</td>\n",
       "      <td>43000</td>\n",
       "      <td>0</td>\n",
       "    </tr>\n",
       "    <tr>\n",
       "      <th>3</th>\n",
       "      <td>15603246</td>\n",
       "      <td>0</td>\n",
       "      <td>27</td>\n",
       "      <td>57000</td>\n",
       "      <td>0</td>\n",
       "    </tr>\n",
       "    <tr>\n",
       "      <th>4</th>\n",
       "      <td>15804002</td>\n",
       "      <td>1</td>\n",
       "      <td>19</td>\n",
       "      <td>76000</td>\n",
       "      <td>0</td>\n",
       "    </tr>\n",
       "  </tbody>\n",
       "</table>\n",
       "</div>"
      ],
      "text/plain": [
       "    User ID  Gender  Age  EstimatedSalary  Purchased\n",
       "0  15624510       1   19            19000          0\n",
       "1  15810944       1   35            20000          0\n",
       "2  15668575       0   26            43000          0\n",
       "3  15603246       0   27            57000          0\n",
       "4  15804002       1   19            76000          0"
      ]
     },
     "execution_count": 18,
     "metadata": {},
     "output_type": "execute_result"
    }
   ],
   "source": [
    "df.head()"
   ]
  },
  {
   "cell_type": "code",
   "execution_count": 19,
   "id": "9b9285a8",
   "metadata": {},
   "outputs": [],
   "source": [
    "# Train/test\n",
    "from sklearn.model_selection import train_test_split\n",
    "X_train, X_test = train_test_split(df, test_size = 0.2, random_state = 53)"
   ]
  },
  {
   "cell_type": "code",
   "execution_count": 20,
   "id": "3aed0549",
   "metadata": {},
   "outputs": [
    {
     "data": {
      "text/html": [
       "<div>\n",
       "<style scoped>\n",
       "    .dataframe tbody tr th:only-of-type {\n",
       "        vertical-align: middle;\n",
       "    }\n",
       "\n",
       "    .dataframe tbody tr th {\n",
       "        vertical-align: top;\n",
       "    }\n",
       "\n",
       "    .dataframe thead th {\n",
       "        text-align: right;\n",
       "    }\n",
       "</style>\n",
       "<table border=\"1\" class=\"dataframe\">\n",
       "  <thead>\n",
       "    <tr style=\"text-align: right;\">\n",
       "      <th></th>\n",
       "      <th>count</th>\n",
       "      <th>mean</th>\n",
       "      <th>std</th>\n",
       "      <th>min</th>\n",
       "      <th>25%</th>\n",
       "      <th>50%</th>\n",
       "      <th>75%</th>\n",
       "      <th>max</th>\n",
       "    </tr>\n",
       "  </thead>\n",
       "  <tbody>\n",
       "    <tr>\n",
       "      <th>Age</th>\n",
       "      <td>400.0</td>\n",
       "      <td>37.655</td>\n",
       "      <td>10.482877</td>\n",
       "      <td>18.0</td>\n",
       "      <td>29.75</td>\n",
       "      <td>37.0</td>\n",
       "      <td>46.0</td>\n",
       "      <td>60.0</td>\n",
       "    </tr>\n",
       "    <tr>\n",
       "      <th>EstimatedSalary</th>\n",
       "      <td>400.0</td>\n",
       "      <td>69742.500</td>\n",
       "      <td>34096.960282</td>\n",
       "      <td>15000.0</td>\n",
       "      <td>43000.00</td>\n",
       "      <td>70000.0</td>\n",
       "      <td>88000.0</td>\n",
       "      <td>150000.0</td>\n",
       "    </tr>\n",
       "  </tbody>\n",
       "</table>\n",
       "</div>"
      ],
      "text/plain": [
       "                 count       mean           std      min       25%      50%  \\\n",
       "Age              400.0     37.655     10.482877     18.0     29.75     37.0   \n",
       "EstimatedSalary  400.0  69742.500  34096.960282  15000.0  43000.00  70000.0   \n",
       "\n",
       "                     75%       max  \n",
       "Age                 46.0      60.0  \n",
       "EstimatedSalary  88000.0  150000.0  "
      ]
     },
     "execution_count": 20,
     "metadata": {},
     "output_type": "execute_result"
    }
   ],
   "source": [
    "# Les dades estan molt separades en l'espai, molts rangs diferents, s'han de reescalar.\n",
    "df[['Age', 'EstimatedSalary']].describe().T"
   ]
  },
  {
   "cell_type": "code",
   "execution_count": 21,
   "id": "e17511c2",
   "metadata": {},
   "outputs": [],
   "source": [
    "# Les dades de test les hem d'escalar amb el que hem fitat amb les dades de train.\n",
    "# Hem d'imaginar que les dades de test no tenim el resultat (com a producció).\n",
    "# Per tant fem scaler de train i després reescalem el test amb aquest scaler.\n",
    "# Resumint, no fem serivir les dades de test per fer l'objecte scaler"
   ]
  },
  {
   "cell_type": "code",
   "execution_count": 22,
   "id": "6a5e8612",
   "metadata": {},
   "outputs": [],
   "source": [
    "# Reescalem les variables\n",
    "from sklearn.preprocessing import StandardScaler\n",
    "s = StandardScaler()"
   ]
  },
  {
   "cell_type": "code",
   "execution_count": 23,
   "id": "c456f6d7",
   "metadata": {},
   "outputs": [
    {
     "data": {
      "text/plain": [
       "Index(['Age', 'EstimatedSalary'], dtype='object')"
      ]
     },
     "execution_count": 23,
     "metadata": {},
     "output_type": "execute_result"
    }
   ],
   "source": [
    "X_train.columns[[2, 3]]"
   ]
  },
  {
   "cell_type": "code",
   "execution_count": 24,
   "id": "cb63e7e2",
   "metadata": {},
   "outputs": [
    {
     "data": {
      "text/html": [
       "<div>\n",
       "<style scoped>\n",
       "    .dataframe tbody tr th:only-of-type {\n",
       "        vertical-align: middle;\n",
       "    }\n",
       "\n",
       "    .dataframe tbody tr th {\n",
       "        vertical-align: top;\n",
       "    }\n",
       "\n",
       "    .dataframe thead th {\n",
       "        text-align: right;\n",
       "    }\n",
       "</style>\n",
       "<table border=\"1\" class=\"dataframe\">\n",
       "  <thead>\n",
       "    <tr style=\"text-align: right;\">\n",
       "      <th></th>\n",
       "      <th>Age</th>\n",
       "      <th>EstimatedSalary</th>\n",
       "    </tr>\n",
       "  </thead>\n",
       "  <tbody>\n",
       "    <tr>\n",
       "      <th>281</th>\n",
       "      <td>35</td>\n",
       "      <td>61000</td>\n",
       "    </tr>\n",
       "    <tr>\n",
       "      <th>94</th>\n",
       "      <td>29</td>\n",
       "      <td>83000</td>\n",
       "    </tr>\n",
       "  </tbody>\n",
       "</table>\n",
       "</div>"
      ],
      "text/plain": [
       "     Age  EstimatedSalary\n",
       "281   35            61000\n",
       "94    29            83000"
      ]
     },
     "execution_count": 24,
     "metadata": {},
     "output_type": "execute_result"
    }
   ],
   "source": [
    "X_train[['Age', 'EstimatedSalary']].head(2)"
   ]
  },
  {
   "cell_type": "code",
   "execution_count": 25,
   "id": "93fc0066",
   "metadata": {},
   "outputs": [
    {
     "data": {
      "text/html": [
       "<style>#sk-container-id-1 {color: black;background-color: white;}#sk-container-id-1 pre{padding: 0;}#sk-container-id-1 div.sk-toggleable {background-color: white;}#sk-container-id-1 label.sk-toggleable__label {cursor: pointer;display: block;width: 100%;margin-bottom: 0;padding: 0.3em;box-sizing: border-box;text-align: center;}#sk-container-id-1 label.sk-toggleable__label-arrow:before {content: \"▸\";float: left;margin-right: 0.25em;color: #696969;}#sk-container-id-1 label.sk-toggleable__label-arrow:hover:before {color: black;}#sk-container-id-1 div.sk-estimator:hover label.sk-toggleable__label-arrow:before {color: black;}#sk-container-id-1 div.sk-toggleable__content {max-height: 0;max-width: 0;overflow: hidden;text-align: left;background-color: #f0f8ff;}#sk-container-id-1 div.sk-toggleable__content pre {margin: 0.2em;color: black;border-radius: 0.25em;background-color: #f0f8ff;}#sk-container-id-1 input.sk-toggleable__control:checked~div.sk-toggleable__content {max-height: 200px;max-width: 100%;overflow: auto;}#sk-container-id-1 input.sk-toggleable__control:checked~label.sk-toggleable__label-arrow:before {content: \"▾\";}#sk-container-id-1 div.sk-estimator input.sk-toggleable__control:checked~label.sk-toggleable__label {background-color: #d4ebff;}#sk-container-id-1 div.sk-label input.sk-toggleable__control:checked~label.sk-toggleable__label {background-color: #d4ebff;}#sk-container-id-1 input.sk-hidden--visually {border: 0;clip: rect(1px 1px 1px 1px);clip: rect(1px, 1px, 1px, 1px);height: 1px;margin: -1px;overflow: hidden;padding: 0;position: absolute;width: 1px;}#sk-container-id-1 div.sk-estimator {font-family: monospace;background-color: #f0f8ff;border: 1px dotted black;border-radius: 0.25em;box-sizing: border-box;margin-bottom: 0.5em;}#sk-container-id-1 div.sk-estimator:hover {background-color: #d4ebff;}#sk-container-id-1 div.sk-parallel-item::after {content: \"\";width: 100%;border-bottom: 1px solid gray;flex-grow: 1;}#sk-container-id-1 div.sk-label:hover label.sk-toggleable__label {background-color: #d4ebff;}#sk-container-id-1 div.sk-serial::before {content: \"\";position: absolute;border-left: 1px solid gray;box-sizing: border-box;top: 0;bottom: 0;left: 50%;z-index: 0;}#sk-container-id-1 div.sk-serial {display: flex;flex-direction: column;align-items: center;background-color: white;padding-right: 0.2em;padding-left: 0.2em;position: relative;}#sk-container-id-1 div.sk-item {position: relative;z-index: 1;}#sk-container-id-1 div.sk-parallel {display: flex;align-items: stretch;justify-content: center;background-color: white;position: relative;}#sk-container-id-1 div.sk-item::before, #sk-container-id-1 div.sk-parallel-item::before {content: \"\";position: absolute;border-left: 1px solid gray;box-sizing: border-box;top: 0;bottom: 0;left: 50%;z-index: -1;}#sk-container-id-1 div.sk-parallel-item {display: flex;flex-direction: column;z-index: 1;position: relative;background-color: white;}#sk-container-id-1 div.sk-parallel-item:first-child::after {align-self: flex-end;width: 50%;}#sk-container-id-1 div.sk-parallel-item:last-child::after {align-self: flex-start;width: 50%;}#sk-container-id-1 div.sk-parallel-item:only-child::after {width: 0;}#sk-container-id-1 div.sk-dashed-wrapped {border: 1px dashed gray;margin: 0 0.4em 0.5em 0.4em;box-sizing: border-box;padding-bottom: 0.4em;background-color: white;}#sk-container-id-1 div.sk-label label {font-family: monospace;font-weight: bold;display: inline-block;line-height: 1.2em;}#sk-container-id-1 div.sk-label-container {text-align: center;}#sk-container-id-1 div.sk-container {/* jupyter's `normalize.less` sets `[hidden] { display: none; }` but bootstrap.min.css set `[hidden] { display: none !important; }` so we also need the `!important` here to be able to override the default hidden behavior on the sphinx rendered scikit-learn.org. See: https://github.com/scikit-learn/scikit-learn/issues/21755 */display: inline-block !important;position: relative;}#sk-container-id-1 div.sk-text-repr-fallback {display: none;}</style><div id=\"sk-container-id-1\" class=\"sk-top-container\"><div class=\"sk-text-repr-fallback\"><pre>StandardScaler()</pre><b>In a Jupyter environment, please rerun this cell to show the HTML representation or trust the notebook. <br />On GitHub, the HTML representation is unable to render, please try loading this page with nbviewer.org.</b></div><div class=\"sk-container\" hidden><div class=\"sk-item\"><div class=\"sk-estimator sk-toggleable\"><input class=\"sk-toggleable__control sk-hidden--visually\" id=\"sk-estimator-id-1\" type=\"checkbox\" checked><label for=\"sk-estimator-id-1\" class=\"sk-toggleable__label sk-toggleable__label-arrow\">StandardScaler</label><div class=\"sk-toggleable__content\"><pre>StandardScaler()</pre></div></div></div></div></div>"
      ],
      "text/plain": [
       "StandardScaler()"
      ]
     },
     "execution_count": 25,
     "metadata": {},
     "output_type": "execute_result"
    }
   ],
   "source": [
    "scaler = s.fit(X_train[['Age', 'EstimatedSalary']])\n",
    "scaler\n",
    "\n",
    "# Per fer-ho directe: \n",
    "# X_train[['Age', 'EstimatedSalary']] = scaler.fit_transform(X_train[['Age', 'EstimatedSalary']])\n",
    "# Però no l'estaríem guardant fer reescalar les variables de test."
   ]
  },
  {
   "cell_type": "code",
   "execution_count": 26,
   "id": "9d8033a8",
   "metadata": {},
   "outputs": [],
   "source": [
    "X_train[['Age', 'EstimatedSalary']] = scaler.transform(X_train[['Age', 'EstimatedSalary']])"
   ]
  },
  {
   "cell_type": "code",
   "execution_count": 27,
   "id": "6841554b",
   "metadata": {},
   "outputs": [
    {
     "data": {
      "text/html": [
       "<div>\n",
       "<style scoped>\n",
       "    .dataframe tbody tr th:only-of-type {\n",
       "        vertical-align: middle;\n",
       "    }\n",
       "\n",
       "    .dataframe tbody tr th {\n",
       "        vertical-align: top;\n",
       "    }\n",
       "\n",
       "    .dataframe thead th {\n",
       "        text-align: right;\n",
       "    }\n",
       "</style>\n",
       "<table border=\"1\" class=\"dataframe\">\n",
       "  <thead>\n",
       "    <tr style=\"text-align: right;\">\n",
       "      <th></th>\n",
       "      <th>User ID</th>\n",
       "      <th>Gender</th>\n",
       "      <th>Age</th>\n",
       "      <th>EstimatedSalary</th>\n",
       "      <th>Purchased</th>\n",
       "    </tr>\n",
       "  </thead>\n",
       "  <tbody>\n",
       "    <tr>\n",
       "      <th>281</th>\n",
       "      <td>15685536</td>\n",
       "      <td>1</td>\n",
       "      <td>-0.216807</td>\n",
       "      <td>-0.189304</td>\n",
       "      <td>0</td>\n",
       "    </tr>\n",
       "    <tr>\n",
       "      <th>94</th>\n",
       "      <td>15786993</td>\n",
       "      <td>0</td>\n",
       "      <td>-0.790973</td>\n",
       "      <td>0.465908</td>\n",
       "      <td>0</td>\n",
       "    </tr>\n",
       "  </tbody>\n",
       "</table>\n",
       "</div>"
      ],
      "text/plain": [
       "      User ID  Gender       Age  EstimatedSalary  Purchased\n",
       "281  15685536       1 -0.216807        -0.189304          0\n",
       "94   15786993       0 -0.790973         0.465908          0"
      ]
     },
     "execution_count": 27,
     "metadata": {},
     "output_type": "execute_result"
    }
   ],
   "source": [
    "X_train.head(2)"
   ]
  },
  {
   "cell_type": "code",
   "execution_count": 28,
   "id": "f57d83c2",
   "metadata": {},
   "outputs": [
    {
     "data": {
      "text/html": [
       "<div>\n",
       "<style scoped>\n",
       "    .dataframe tbody tr th:only-of-type {\n",
       "        vertical-align: middle;\n",
       "    }\n",
       "\n",
       "    .dataframe tbody tr th {\n",
       "        vertical-align: top;\n",
       "    }\n",
       "\n",
       "    .dataframe thead th {\n",
       "        text-align: right;\n",
       "    }\n",
       "</style>\n",
       "<table border=\"1\" class=\"dataframe\">\n",
       "  <thead>\n",
       "    <tr style=\"text-align: right;\">\n",
       "      <th></th>\n",
       "      <th>User ID</th>\n",
       "      <th>Gender</th>\n",
       "      <th>Age</th>\n",
       "      <th>EstimatedSalary</th>\n",
       "      <th>Purchased</th>\n",
       "    </tr>\n",
       "  </thead>\n",
       "  <tbody>\n",
       "    <tr>\n",
       "      <th>281</th>\n",
       "      <td>15685536</td>\n",
       "      <td>1</td>\n",
       "      <td>-0.216807</td>\n",
       "      <td>-0.189304</td>\n",
       "      <td>0</td>\n",
       "    </tr>\n",
       "    <tr>\n",
       "      <th>94</th>\n",
       "      <td>15786993</td>\n",
       "      <td>0</td>\n",
       "      <td>-0.790973</td>\n",
       "      <td>0.465908</td>\n",
       "      <td>0</td>\n",
       "    </tr>\n",
       "    <tr>\n",
       "      <th>73</th>\n",
       "      <td>15782530</td>\n",
       "      <td>0</td>\n",
       "      <td>-0.408196</td>\n",
       "      <td>1.359378</td>\n",
       "      <td>0</td>\n",
       "    </tr>\n",
       "    <tr>\n",
       "      <th>166</th>\n",
       "      <td>15762228</td>\n",
       "      <td>0</td>\n",
       "      <td>-1.460833</td>\n",
       "      <td>-0.367998</td>\n",
       "      <td>0</td>\n",
       "    </tr>\n",
       "    <tr>\n",
       "      <th>360</th>\n",
       "      <td>15577514</td>\n",
       "      <td>1</td>\n",
       "      <td>0.548747</td>\n",
       "      <td>1.835896</td>\n",
       "      <td>1</td>\n",
       "    </tr>\n",
       "  </tbody>\n",
       "</table>\n",
       "</div>"
      ],
      "text/plain": [
       "      User ID  Gender       Age  EstimatedSalary  Purchased\n",
       "281  15685536       1 -0.216807        -0.189304          0\n",
       "94   15786993       0 -0.790973         0.465908          0\n",
       "73   15782530       0 -0.408196         1.359378          0\n",
       "166  15762228       0 -1.460833        -0.367998          0\n",
       "360  15577514       1  0.548747         1.835896          1"
      ]
     },
     "execution_count": 28,
     "metadata": {},
     "output_type": "execute_result"
    }
   ],
   "source": [
    "X_train.head()"
   ]
  },
  {
   "cell_type": "code",
   "execution_count": 29,
   "id": "e00a553b",
   "metadata": {},
   "outputs": [
    {
     "data": {
      "text/plain": [
       "Index(['Gender', 'Age', 'EstimatedSalary'], dtype='object')"
      ]
     },
     "execution_count": 29,
     "metadata": {},
     "output_type": "execute_result"
    }
   ],
   "source": [
    "predictors = X_train.columns[[1, 2, 3]]\n",
    "predictors"
   ]
  },
  {
   "cell_type": "code",
   "execution_count": 30,
   "id": "30a1ea0e",
   "metadata": {},
   "outputs": [
    {
     "data": {
      "text/plain": [
       "Index(['Purchased'], dtype='object')"
      ]
     },
     "execution_count": 30,
     "metadata": {},
     "output_type": "execute_result"
    }
   ],
   "source": [
    "to_predict = X_train.columns[[4]]\n",
    "to_predict"
   ]
  },
  {
   "cell_type": "code",
   "execution_count": 31,
   "id": "78b7cf78",
   "metadata": {},
   "outputs": [],
   "source": [
    "# variables dependents\n",
    "X = X_train[predictors].to_numpy()\n",
    "# variable independent\n",
    "y = X_train[to_predict]"
   ]
  },
  {
   "cell_type": "code",
   "execution_count": 32,
   "id": "d6be6071",
   "metadata": {},
   "outputs": [
    {
     "name": "stderr",
     "output_type": "stream",
     "text": [
      "C:\\Users\\jaume\\miniconda3\\envs\\entorn_1_Jaume\\Lib\\site-packages\\sklearn\\utils\\validation.py:1143: DataConversionWarning: A column-vector y was passed when a 1d array was expected. Please change the shape of y to (n_samples, ), for example using ravel().\n",
      "  y = column_or_1d(y, warn=True)\n"
     ]
    }
   ],
   "source": [
    "model = LogisticRegression().fit(X, y)"
   ]
  },
  {
   "cell_type": "code",
   "execution_count": 33,
   "id": "f7b8a3e5",
   "metadata": {},
   "outputs": [
    {
     "name": "stdout",
     "output_type": "stream",
     "text": [
      "R^2: 0.8625\n"
     ]
    }
   ],
   "source": [
    "print('R^2:', model.score(X, y))"
   ]
  },
  {
   "cell_type": "code",
   "execution_count": 34,
   "id": "c734e11f",
   "metadata": {},
   "outputs": [
    {
     "data": {
      "text/html": [
       "<div>\n",
       "<style scoped>\n",
       "    .dataframe tbody tr th:only-of-type {\n",
       "        vertical-align: middle;\n",
       "    }\n",
       "\n",
       "    .dataframe tbody tr th {\n",
       "        vertical-align: top;\n",
       "    }\n",
       "\n",
       "    .dataframe thead th {\n",
       "        text-align: right;\n",
       "    }\n",
       "</style>\n",
       "<table border=\"1\" class=\"dataframe\">\n",
       "  <thead>\n",
       "    <tr style=\"text-align: right;\">\n",
       "      <th></th>\n",
       "      <th>User ID</th>\n",
       "      <th>Gender</th>\n",
       "      <th>Age</th>\n",
       "      <th>EstimatedSalary</th>\n",
       "      <th>Purchased</th>\n",
       "    </tr>\n",
       "  </thead>\n",
       "  <tbody>\n",
       "    <tr>\n",
       "      <th>161</th>\n",
       "      <td>15670619</td>\n",
       "      <td>1</td>\n",
       "      <td>25</td>\n",
       "      <td>90000</td>\n",
       "      <td>0</td>\n",
       "    </tr>\n",
       "    <tr>\n",
       "      <th>174</th>\n",
       "      <td>15644296</td>\n",
       "      <td>0</td>\n",
       "      <td>34</td>\n",
       "      <td>72000</td>\n",
       "      <td>0</td>\n",
       "    </tr>\n",
       "  </tbody>\n",
       "</table>\n",
       "</div>"
      ],
      "text/plain": [
       "      User ID  Gender  Age  EstimatedSalary  Purchased\n",
       "161  15670619       1   25            90000          0\n",
       "174  15644296       0   34            72000          0"
      ]
     },
     "execution_count": 34,
     "metadata": {},
     "output_type": "execute_result"
    }
   ],
   "source": [
    "X_test.head(2)"
   ]
  },
  {
   "cell_type": "code",
   "execution_count": 35,
   "id": "8c34fd97",
   "metadata": {},
   "outputs": [],
   "source": [
    "# Reescalem el dataset de X_test: \n",
    "X_test[['Age', 'EstimatedSalary']] = scaler.transform(X_test[['Age', 'EstimatedSalary']])"
   ]
  },
  {
   "cell_type": "code",
   "execution_count": 36,
   "id": "4426b8cb",
   "metadata": {},
   "outputs": [
    {
     "name": "stderr",
     "output_type": "stream",
     "text": [
      "C:\\Users\\jaume\\miniconda3\\envs\\entorn_1_Jaume\\Lib\\site-packages\\sklearn\\base.py:432: UserWarning: X has feature names, but LogisticRegression was fitted without feature names\n",
      "  warnings.warn(\n"
     ]
    }
   ],
   "source": [
    "# Fem la predicció: \n",
    "X_test['predicted'] = model.predict(X_test[predictors])"
   ]
  },
  {
   "cell_type": "code",
   "execution_count": 37,
   "id": "29806aee",
   "metadata": {},
   "outputs": [
    {
     "data": {
      "text/html": [
       "<div>\n",
       "<style scoped>\n",
       "    .dataframe tbody tr th:only-of-type {\n",
       "        vertical-align: middle;\n",
       "    }\n",
       "\n",
       "    .dataframe tbody tr th {\n",
       "        vertical-align: top;\n",
       "    }\n",
       "\n",
       "    .dataframe thead th {\n",
       "        text-align: right;\n",
       "    }\n",
       "</style>\n",
       "<table border=\"1\" class=\"dataframe\">\n",
       "  <thead>\n",
       "    <tr style=\"text-align: right;\">\n",
       "      <th></th>\n",
       "      <th>User ID</th>\n",
       "      <th>Gender</th>\n",
       "      <th>Age</th>\n",
       "      <th>EstimatedSalary</th>\n",
       "      <th>Purchased</th>\n",
       "      <th>predicted</th>\n",
       "    </tr>\n",
       "  </thead>\n",
       "  <tbody>\n",
       "    <tr>\n",
       "      <th>161</th>\n",
       "      <td>15670619</td>\n",
       "      <td>1</td>\n",
       "      <td>-1.173750</td>\n",
       "      <td>0.674384</td>\n",
       "      <td>0</td>\n",
       "      <td>0</td>\n",
       "    </tr>\n",
       "    <tr>\n",
       "      <th>174</th>\n",
       "      <td>15644296</td>\n",
       "      <td>0</td>\n",
       "      <td>-0.312502</td>\n",
       "      <td>0.138302</td>\n",
       "      <td>0</td>\n",
       "      <td>0</td>\n",
       "    </tr>\n",
       "    <tr>\n",
       "      <th>199</th>\n",
       "      <td>15708228</td>\n",
       "      <td>1</td>\n",
       "      <td>-0.216807</td>\n",
       "      <td>-1.350816</td>\n",
       "      <td>0</td>\n",
       "      <td>0</td>\n",
       "    </tr>\n",
       "    <tr>\n",
       "      <th>181</th>\n",
       "      <td>15774727</td>\n",
       "      <td>0</td>\n",
       "      <td>-0.599585</td>\n",
       "      <td>0.108519</td>\n",
       "      <td>0</td>\n",
       "      <td>0</td>\n",
       "    </tr>\n",
       "    <tr>\n",
       "      <th>363</th>\n",
       "      <td>15768293</td>\n",
       "      <td>0</td>\n",
       "      <td>0.453053</td>\n",
       "      <td>0.346778</td>\n",
       "      <td>0</td>\n",
       "      <td>0</td>\n",
       "    </tr>\n",
       "  </tbody>\n",
       "</table>\n",
       "</div>"
      ],
      "text/plain": [
       "      User ID  Gender       Age  EstimatedSalary  Purchased  predicted\n",
       "161  15670619       1 -1.173750         0.674384          0          0\n",
       "174  15644296       0 -0.312502         0.138302          0          0\n",
       "199  15708228       1 -0.216807        -1.350816          0          0\n",
       "181  15774727       0 -0.599585         0.108519          0          0\n",
       "363  15768293       0  0.453053         0.346778          0          0"
      ]
     },
     "execution_count": 37,
     "metadata": {},
     "output_type": "execute_result"
    }
   ],
   "source": [
    "X_test.head()"
   ]
  },
  {
   "cell_type": "code",
   "execution_count": 38,
   "id": "e3ff09a4",
   "metadata": {},
   "outputs": [],
   "source": [
    "from sklearn.metrics import ConfusionMatrixDisplay\n",
    "import matplotlib.pyplot as plt\n",
    "import seaborn as sns\n",
    "\n",
    "sns.set_theme(context = 'notebook', style = \"white\", font_scale = 1.0)"
   ]
  },
  {
   "cell_type": "code",
   "execution_count": 39,
   "id": "f062b9dd",
   "metadata": {},
   "outputs": [
    {
     "data": {
      "image/png": "[encoded data removed]",
      "text/plain": [
       "<Figure size 400x400 with 1 Axes>"
      ]
     },
     "metadata": {},
     "output_type": "display_data"
    }
   ],
   "source": [
    "_, axs = plt.subplots(1, 1, figsize = (4, 4))\n",
    "ConfusionMatrixDisplay.from_predictions(\n",
    "    X_test.Purchased,\n",
    "    X_test.predicted,\n",
    "    ax = axs,\n",
    "    colorbar = False,\n",
    "    cmap = 'GnBu'\n",
    ");"
   ]
  },
  {
   "cell_type": "code",
   "execution_count": null,
   "id": "bed04c50",
   "metadata": {},
   "outputs": [],
   "source": []
  },
  {
   "cell_type": "code",
   "execution_count": null,
   "id": "ecf903d6",
   "metadata": {},
   "outputs": [],
   "source": []
  }
 ],
 "metadata": {
  "kernelspec": {
   "display_name": "Python 3 (ipykernel)",
   "language": "python",
   "name": "python3"
  },
  "language_info": {
   "codemirror_mode": {
    "name": "ipython",
    "version": 3
   },
   "file_extension": ".py",
   "mimetype": "text/x-python",
   "name": "python",
   "nbconvert_exporter": "python",
   "pygments_lexer": "ipython3",
   "version": "3.11.5"
  }
 },
 "nbformat": 4,
 "nbformat_minor": 5
}
