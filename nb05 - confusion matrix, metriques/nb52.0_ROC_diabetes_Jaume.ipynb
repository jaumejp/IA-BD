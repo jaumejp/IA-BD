{
 "cells": [
  {
   "cell_type": "code",
   "execution_count": 1,
   "id": "d03e01ca",
   "metadata": {},
   "outputs": [],
   "source": [
    "import numpy as np\n",
    "import pandas as pd\n",
    "from sklearn.model_selection import train_test_split"
   ]
  },
  {
   "cell_type": "code",
   "execution_count": 2,
   "id": "c3dcf269",
   "metadata": {},
   "outputs": [
    {
     "data": {
      "text/html": [
       "<div>\n",
       "<style scoped>\n",
       "    .dataframe tbody tr th:only-of-type {\n",
       "        vertical-align: middle;\n",
       "    }\n",
       "\n",
       "    .dataframe tbody tr th {\n",
       "        vertical-align: top;\n",
       "    }\n",
       "\n",
       "    .dataframe thead th {\n",
       "        text-align: right;\n",
       "    }\n",
       "</style>\n",
       "<table border=\"1\" class=\"dataframe\">\n",
       "  <thead>\n",
       "    <tr style=\"text-align: right;\">\n",
       "      <th></th>\n",
       "      <th>Pregnancies</th>\n",
       "      <th>Glucose</th>\n",
       "      <th>BloodPressure</th>\n",
       "      <th>SkinThickness</th>\n",
       "      <th>Insulin</th>\n",
       "      <th>BMI</th>\n",
       "      <th>DiabetesPedigreeFunction</th>\n",
       "      <th>Age</th>\n",
       "      <th>Outcome</th>\n",
       "    </tr>\n",
       "  </thead>\n",
       "  <tbody>\n",
       "    <tr>\n",
       "      <th>0</th>\n",
       "      <td>6</td>\n",
       "      <td>148</td>\n",
       "      <td>72</td>\n",
       "      <td>35</td>\n",
       "      <td>0</td>\n",
       "      <td>33.6</td>\n",
       "      <td>0.627</td>\n",
       "      <td>50</td>\n",
       "      <td>1</td>\n",
       "    </tr>\n",
       "    <tr>\n",
       "      <th>1</th>\n",
       "      <td>1</td>\n",
       "      <td>85</td>\n",
       "      <td>66</td>\n",
       "      <td>29</td>\n",
       "      <td>0</td>\n",
       "      <td>26.6</td>\n",
       "      <td>0.351</td>\n",
       "      <td>31</td>\n",
       "      <td>0</td>\n",
       "    </tr>\n",
       "    <tr>\n",
       "      <th>2</th>\n",
       "      <td>8</td>\n",
       "      <td>183</td>\n",
       "      <td>64</td>\n",
       "      <td>0</td>\n",
       "      <td>0</td>\n",
       "      <td>23.3</td>\n",
       "      <td>0.672</td>\n",
       "      <td>32</td>\n",
       "      <td>1</td>\n",
       "    </tr>\n",
       "    <tr>\n",
       "      <th>3</th>\n",
       "      <td>1</td>\n",
       "      <td>89</td>\n",
       "      <td>66</td>\n",
       "      <td>23</td>\n",
       "      <td>94</td>\n",
       "      <td>28.1</td>\n",
       "      <td>0.167</td>\n",
       "      <td>21</td>\n",
       "      <td>0</td>\n",
       "    </tr>\n",
       "    <tr>\n",
       "      <th>4</th>\n",
       "      <td>0</td>\n",
       "      <td>137</td>\n",
       "      <td>40</td>\n",
       "      <td>35</td>\n",
       "      <td>168</td>\n",
       "      <td>43.1</td>\n",
       "      <td>2.288</td>\n",
       "      <td>33</td>\n",
       "      <td>1</td>\n",
       "    </tr>\n",
       "    <tr>\n",
       "      <th>...</th>\n",
       "      <td>...</td>\n",
       "      <td>...</td>\n",
       "      <td>...</td>\n",
       "      <td>...</td>\n",
       "      <td>...</td>\n",
       "      <td>...</td>\n",
       "      <td>...</td>\n",
       "      <td>...</td>\n",
       "      <td>...</td>\n",
       "    </tr>\n",
       "    <tr>\n",
       "      <th>763</th>\n",
       "      <td>10</td>\n",
       "      <td>101</td>\n",
       "      <td>76</td>\n",
       "      <td>48</td>\n",
       "      <td>180</td>\n",
       "      <td>32.9</td>\n",
       "      <td>0.171</td>\n",
       "      <td>63</td>\n",
       "      <td>0</td>\n",
       "    </tr>\n",
       "    <tr>\n",
       "      <th>764</th>\n",
       "      <td>2</td>\n",
       "      <td>122</td>\n",
       "      <td>70</td>\n",
       "      <td>27</td>\n",
       "      <td>0</td>\n",
       "      <td>36.8</td>\n",
       "      <td>0.340</td>\n",
       "      <td>27</td>\n",
       "      <td>0</td>\n",
       "    </tr>\n",
       "    <tr>\n",
       "      <th>765</th>\n",
       "      <td>5</td>\n",
       "      <td>121</td>\n",
       "      <td>72</td>\n",
       "      <td>23</td>\n",
       "      <td>112</td>\n",
       "      <td>26.2</td>\n",
       "      <td>0.245</td>\n",
       "      <td>30</td>\n",
       "      <td>0</td>\n",
       "    </tr>\n",
       "    <tr>\n",
       "      <th>766</th>\n",
       "      <td>1</td>\n",
       "      <td>126</td>\n",
       "      <td>60</td>\n",
       "      <td>0</td>\n",
       "      <td>0</td>\n",
       "      <td>30.1</td>\n",
       "      <td>0.349</td>\n",
       "      <td>47</td>\n",
       "      <td>1</td>\n",
       "    </tr>\n",
       "    <tr>\n",
       "      <th>767</th>\n",
       "      <td>1</td>\n",
       "      <td>93</td>\n",
       "      <td>70</td>\n",
       "      <td>31</td>\n",
       "      <td>0</td>\n",
       "      <td>30.4</td>\n",
       "      <td>0.315</td>\n",
       "      <td>23</td>\n",
       "      <td>0</td>\n",
       "    </tr>\n",
       "  </tbody>\n",
       "</table>\n",
       "<p>768 rows × 9 columns</p>\n",
       "</div>"
      ],
      "text/plain": [
       "     Pregnancies  Glucose  BloodPressure  SkinThickness  Insulin   BMI  \\\n",
       "0              6      148             72             35        0  33.6   \n",
       "1              1       85             66             29        0  26.6   \n",
       "2              8      183             64              0        0  23.3   \n",
       "3              1       89             66             23       94  28.1   \n",
       "4              0      137             40             35      168  43.1   \n",
       "..           ...      ...            ...            ...      ...   ...   \n",
       "763           10      101             76             48      180  32.9   \n",
       "764            2      122             70             27        0  36.8   \n",
       "765            5      121             72             23      112  26.2   \n",
       "766            1      126             60              0        0  30.1   \n",
       "767            1       93             70             31        0  30.4   \n",
       "\n",
       "     DiabetesPedigreeFunction  Age  Outcome  \n",
       "0                       0.627   50        1  \n",
       "1                       0.351   31        0  \n",
       "2                       0.672   32        1  \n",
       "3                       0.167   21        0  \n",
       "4                       2.288   33        1  \n",
       "..                        ...  ...      ...  \n",
       "763                     0.171   63        0  \n",
       "764                     0.340   27        0  \n",
       "765                     0.245   30        0  \n",
       "766                     0.349   47        1  \n",
       "767                     0.315   23        0  \n",
       "\n",
       "[768 rows x 9 columns]"
      ]
     },
     "execution_count": 2,
     "metadata": {},
     "output_type": "execute_result"
    }
   ],
   "source": [
    "df = pd.read_csv('../Dades/diabetes/diabetes.csv')\n",
    "df"
   ]
  },
  {
   "cell_type": "code",
   "execution_count": 3,
   "id": "3d4d006d",
   "metadata": {},
   "outputs": [
    {
     "data": {
      "text/plain": [
       "{'Pregnancies': {'sa': None, 'malalt': None},\n",
       " 'Glucose': {'sa': None, 'malalt': None},\n",
       " 'BloodPressure': {'sa': None, 'malalt': None},\n",
       " 'SkinThickness': {'sa': None, 'malalt': None},\n",
       " 'Insulin': {'sa': None, 'malalt': None},\n",
       " 'BMI': {'sa': None, 'malalt': None},\n",
       " 'DiabetesPedigreeFunction': {'sa': None, 'malalt': None},\n",
       " 'Age': {'sa': None, 'malalt': None}}"
      ]
     },
     "execution_count": 3,
     "metadata": {},
     "output_type": "execute_result"
    }
   ],
   "source": [
    "# Inicialitzar el diccinari on hi hauran les funcions de likelihoods. Una per cada columna/variable.\n",
    "likelihoods = {\n",
    "    col: {\n",
    "        'sa': None,\n",
    "        'malalt': None\n",
    "    } for col in list(df.columns)[:-1]\n",
    "}\n",
    "likelihoods"
   ]
  },
  {
   "cell_type": "code",
   "execution_count": 4,
   "id": "d8327461",
   "metadata": {},
   "outputs": [],
   "source": [
    "# Afegir etiqueta target amb el nom de si està sà o no\n",
    "df['target'] = df.Outcome.map({0: 'sa', 1: 'malalt'})"
   ]
  },
  {
   "cell_type": "code",
   "execution_count": 5,
   "id": "61f82f9a",
   "metadata": {},
   "outputs": [
    {
     "data": {
      "text/html": [
       "<div>\n",
       "<style scoped>\n",
       "    .dataframe tbody tr th:only-of-type {\n",
       "        vertical-align: middle;\n",
       "    }\n",
       "\n",
       "    .dataframe tbody tr th {\n",
       "        vertical-align: top;\n",
       "    }\n",
       "\n",
       "    .dataframe thead th {\n",
       "        text-align: right;\n",
       "    }\n",
       "</style>\n",
       "<table border=\"1\" class=\"dataframe\">\n",
       "  <thead>\n",
       "    <tr style=\"text-align: right;\">\n",
       "      <th></th>\n",
       "      <th>Pregnancies</th>\n",
       "      <th>Glucose</th>\n",
       "      <th>BloodPressure</th>\n",
       "      <th>SkinThickness</th>\n",
       "      <th>Insulin</th>\n",
       "      <th>BMI</th>\n",
       "      <th>DiabetesPedigreeFunction</th>\n",
       "      <th>Age</th>\n",
       "      <th>Outcome</th>\n",
       "      <th>target</th>\n",
       "    </tr>\n",
       "  </thead>\n",
       "  <tbody>\n",
       "    <tr>\n",
       "      <th>0</th>\n",
       "      <td>6</td>\n",
       "      <td>148</td>\n",
       "      <td>72</td>\n",
       "      <td>35</td>\n",
       "      <td>0</td>\n",
       "      <td>33.6</td>\n",
       "      <td>0.627</td>\n",
       "      <td>50</td>\n",
       "      <td>1</td>\n",
       "      <td>malalt</td>\n",
       "    </tr>\n",
       "    <tr>\n",
       "      <th>1</th>\n",
       "      <td>1</td>\n",
       "      <td>85</td>\n",
       "      <td>66</td>\n",
       "      <td>29</td>\n",
       "      <td>0</td>\n",
       "      <td>26.6</td>\n",
       "      <td>0.351</td>\n",
       "      <td>31</td>\n",
       "      <td>0</td>\n",
       "      <td>sa</td>\n",
       "    </tr>\n",
       "    <tr>\n",
       "      <th>2</th>\n",
       "      <td>8</td>\n",
       "      <td>183</td>\n",
       "      <td>64</td>\n",
       "      <td>0</td>\n",
       "      <td>0</td>\n",
       "      <td>23.3</td>\n",
       "      <td>0.672</td>\n",
       "      <td>32</td>\n",
       "      <td>1</td>\n",
       "      <td>malalt</td>\n",
       "    </tr>\n",
       "    <tr>\n",
       "      <th>3</th>\n",
       "      <td>1</td>\n",
       "      <td>89</td>\n",
       "      <td>66</td>\n",
       "      <td>23</td>\n",
       "      <td>94</td>\n",
       "      <td>28.1</td>\n",
       "      <td>0.167</td>\n",
       "      <td>21</td>\n",
       "      <td>0</td>\n",
       "      <td>sa</td>\n",
       "    </tr>\n",
       "    <tr>\n",
       "      <th>4</th>\n",
       "      <td>0</td>\n",
       "      <td>137</td>\n",
       "      <td>40</td>\n",
       "      <td>35</td>\n",
       "      <td>168</td>\n",
       "      <td>43.1</td>\n",
       "      <td>2.288</td>\n",
       "      <td>33</td>\n",
       "      <td>1</td>\n",
       "      <td>malalt</td>\n",
       "    </tr>\n",
       "  </tbody>\n",
       "</table>\n",
       "</div>"
      ],
      "text/plain": [
       "   Pregnancies  Glucose  BloodPressure  SkinThickness  Insulin   BMI  \\\n",
       "0            6      148             72             35        0  33.6   \n",
       "1            1       85             66             29        0  26.6   \n",
       "2            8      183             64              0        0  23.3   \n",
       "3            1       89             66             23       94  28.1   \n",
       "4            0      137             40             35      168  43.1   \n",
       "\n",
       "   DiabetesPedigreeFunction  Age  Outcome  target  \n",
       "0                     0.627   50        1  malalt  \n",
       "1                     0.351   31        0      sa  \n",
       "2                     0.672   32        1  malalt  \n",
       "3                     0.167   21        0      sa  \n",
       "4                     2.288   33        1  malalt  "
      ]
     },
     "execution_count": 5,
     "metadata": {},
     "output_type": "execute_result"
    }
   ],
   "source": [
    "df.head()"
   ]
  },
  {
   "cell_type": "code",
   "execution_count": 6,
   "id": "36494145",
   "metadata": {},
   "outputs": [],
   "source": [
    "from sklearn.model_selection import train_test_split"
   ]
  },
  {
   "cell_type": "code",
   "execution_count": 7,
   "id": "ed5c4afb",
   "metadata": {},
   "outputs": [],
   "source": [
    "# Separar les dades de train/test \n",
    "X_train, X_test = train_test_split(df, test_size = 0.2, random_state = 52)"
   ]
  },
  {
   "cell_type": "code",
   "execution_count": 8,
   "id": "060bbd7a",
   "metadata": {},
   "outputs": [
    {
     "data": {
      "text/plain": [
       "sa        0.651466\n",
       "malalt    0.348534\n",
       "Name: target, dtype: float64"
      ]
     },
     "execution_count": 8,
     "metadata": {},
     "output_type": "execute_result"
    }
   ],
   "source": [
    "prior = X_train.target.value_counts(normalize = True)\n",
    "prior"
   ]
  },
  {
   "cell_type": "code",
   "execution_count": 9,
   "id": "bc86b868",
   "metadata": {},
   "outputs": [
    {
     "data": {
      "text/plain": [
       "0.3485342019543974"
      ]
     },
     "execution_count": 9,
     "metadata": {},
     "output_type": "execute_result"
    }
   ],
   "source": [
    "# probabilitat d'estar malalt sense tenir amb compte els parametres és del 34%\n",
    "prior_malalt = prior['malalt']\n",
    "prior_malalt"
   ]
  },
  {
   "cell_type": "code",
   "execution_count": 10,
   "id": "027bc9cf",
   "metadata": {},
   "outputs": [],
   "source": [
    "prior_sa = prior['sa']"
   ]
  },
  {
   "cell_type": "code",
   "execution_count": 11,
   "id": "ee26b652",
   "metadata": {},
   "outputs": [],
   "source": [
    "# Crear la conditional distribution que és la funció likelyhood de cada parametre vs si és sa/malalt\n",
    "from scipy.stats import gaussian_kde"
   ]
  },
  {
   "cell_type": "code",
   "execution_count": 12,
   "id": "93dadcac",
   "metadata": {},
   "outputs": [
    {
     "data": {
      "text/plain": [
       "{'Pregnancies': {'sa': <scipy.stats._kde.gaussian_kde at 0x191a08b8410>,\n",
       "  'malalt': <scipy.stats._kde.gaussian_kde at 0x191a08f0790>},\n",
       " 'Glucose': {'sa': <scipy.stats._kde.gaussian_kde at 0x191a091d950>,\n",
       "  'malalt': <scipy.stats._kde.gaussian_kde at 0x191a0115d90>},\n",
       " 'BloodPressure': {'sa': <scipy.stats._kde.gaussian_kde at 0x191a0924250>,\n",
       "  'malalt': <scipy.stats._kde.gaussian_kde at 0x191a0924950>},\n",
       " 'SkinThickness': {'sa': <scipy.stats._kde.gaussian_kde at 0x191a0924d50>,\n",
       "  'malalt': <scipy.stats._kde.gaussian_kde at 0x191a0925050>},\n",
       " 'Insulin': {'sa': <scipy.stats._kde.gaussian_kde at 0x191a0924fd0>,\n",
       "  'malalt': <scipy.stats._kde.gaussian_kde at 0x191a09252d0>},\n",
       " 'BMI': {'sa': <scipy.stats._kde.gaussian_kde at 0x191a0925350>,\n",
       "  'malalt': <scipy.stats._kde.gaussian_kde at 0x191a0925550>},\n",
       " 'DiabetesPedigreeFunction': {'sa': <scipy.stats._kde.gaussian_kde at 0x191a09255d0>,\n",
       "  'malalt': <scipy.stats._kde.gaussian_kde at 0x191a0925850>},\n",
       " 'Age': {'sa': <scipy.stats._kde.gaussian_kde at 0x191a09258d0>,\n",
       "  'malalt': <scipy.stats._kde.gaussian_kde at 0x191a0925b50>}}"
      ]
     },
     "execution_count": 12,
     "metadata": {},
     "output_type": "execute_result"
    }
   ],
   "source": [
    "# Emplenar diccionari amb les funcions: \n",
    "for key, value in likelihoods.items():\n",
    "    likelihoods[key]['sa'] = gaussian_kde(X_train[key].loc[X_train.target == 'sa'], bw_method='scott')\n",
    "    likelihoods[key]['malalt'] = gaussian_kde(X_train[key].loc[X_train.target == 'malalt'], bw_method = 'scott')     \n",
    "\n",
    "likelihoods"
   ]
  },
  {
   "cell_type": "code",
   "execution_count": 13,
   "id": "2ef520fc",
   "metadata": {},
   "outputs": [],
   "source": [
    "def evaluate_post(row):\n",
    "    post_sa = prior_sa\n",
    "    post_malalt = prior_malalt\n",
    "    \n",
    "    for key, value in likelihoods.items():\n",
    "        lkh_sa = likelihoods[key]['sa']\n",
    "        lkh_malalt = likelihoods[key]['malalt']\n",
    "        \n",
    "        post_sa *= lkh_sa.evaluate(row[key])[0]\n",
    "        post_malalt *= lkh_malalt.evaluate(row[key])[0]\n",
    "\n",
    "    if post_sa > post_malalt:\n",
    "        return 'sa'\n",
    "    elif post_malalt > post_sa:\n",
    "        return 'malalt'\n",
    "    else: \n",
    "        return '??'"
   ]
  },
  {
   "cell_type": "code",
   "execution_count": 14,
   "id": "6e7ab9e4",
   "metadata": {},
   "outputs": [],
   "source": [
    "# Per els registres de test, evaluem cada parametre a les lkh_sa/malalt i multipliquem el resultat per la prior\n",
    "# Corresponent. Al final ens quedem amb la prior més gran i serà el que té més probabilitats de ser.\n",
    "X_test['predicted'] = df.apply(lambda row: evaluate_post(row), axis = 1)"
   ]
  },
  {
   "cell_type": "code",
   "execution_count": 15,
   "id": "0529942c",
   "metadata": {},
   "outputs": [
    {
     "data": {
      "text/html": [
       "<div>\n",
       "<style scoped>\n",
       "    .dataframe tbody tr th:only-of-type {\n",
       "        vertical-align: middle;\n",
       "    }\n",
       "\n",
       "    .dataframe tbody tr th {\n",
       "        vertical-align: top;\n",
       "    }\n",
       "\n",
       "    .dataframe thead th {\n",
       "        text-align: right;\n",
       "    }\n",
       "</style>\n",
       "<table border=\"1\" class=\"dataframe\">\n",
       "  <thead>\n",
       "    <tr style=\"text-align: right;\">\n",
       "      <th></th>\n",
       "      <th>Pregnancies</th>\n",
       "      <th>Glucose</th>\n",
       "      <th>BloodPressure</th>\n",
       "      <th>SkinThickness</th>\n",
       "      <th>Insulin</th>\n",
       "      <th>BMI</th>\n",
       "      <th>DiabetesPedigreeFunction</th>\n",
       "      <th>Age</th>\n",
       "      <th>Outcome</th>\n",
       "      <th>target</th>\n",
       "      <th>predicted</th>\n",
       "    </tr>\n",
       "  </thead>\n",
       "  <tbody>\n",
       "    <tr>\n",
       "      <th>40</th>\n",
       "      <td>3</td>\n",
       "      <td>180</td>\n",
       "      <td>64</td>\n",
       "      <td>25</td>\n",
       "      <td>70</td>\n",
       "      <td>34.0</td>\n",
       "      <td>0.271</td>\n",
       "      <td>26</td>\n",
       "      <td>0</td>\n",
       "      <td>sa</td>\n",
       "      <td>malalt</td>\n",
       "    </tr>\n",
       "    <tr>\n",
       "      <th>316</th>\n",
       "      <td>3</td>\n",
       "      <td>99</td>\n",
       "      <td>80</td>\n",
       "      <td>11</td>\n",
       "      <td>64</td>\n",
       "      <td>19.3</td>\n",
       "      <td>0.284</td>\n",
       "      <td>30</td>\n",
       "      <td>0</td>\n",
       "      <td>sa</td>\n",
       "      <td>sa</td>\n",
       "    </tr>\n",
       "    <tr>\n",
       "      <th>199</th>\n",
       "      <td>4</td>\n",
       "      <td>148</td>\n",
       "      <td>60</td>\n",
       "      <td>27</td>\n",
       "      <td>318</td>\n",
       "      <td>30.9</td>\n",
       "      <td>0.150</td>\n",
       "      <td>29</td>\n",
       "      <td>1</td>\n",
       "      <td>malalt</td>\n",
       "      <td>sa</td>\n",
       "    </tr>\n",
       "    <tr>\n",
       "      <th>473</th>\n",
       "      <td>7</td>\n",
       "      <td>136</td>\n",
       "      <td>90</td>\n",
       "      <td>0</td>\n",
       "      <td>0</td>\n",
       "      <td>29.9</td>\n",
       "      <td>0.210</td>\n",
       "      <td>50</td>\n",
       "      <td>0</td>\n",
       "      <td>sa</td>\n",
       "      <td>malalt</td>\n",
       "    </tr>\n",
       "    <tr>\n",
       "      <th>418</th>\n",
       "      <td>1</td>\n",
       "      <td>83</td>\n",
       "      <td>68</td>\n",
       "      <td>0</td>\n",
       "      <td>0</td>\n",
       "      <td>18.2</td>\n",
       "      <td>0.624</td>\n",
       "      <td>27</td>\n",
       "      <td>0</td>\n",
       "      <td>sa</td>\n",
       "      <td>sa</td>\n",
       "    </tr>\n",
       "  </tbody>\n",
       "</table>\n",
       "</div>"
      ],
      "text/plain": [
       "     Pregnancies  Glucose  BloodPressure  SkinThickness  Insulin   BMI  \\\n",
       "40             3      180             64             25       70  34.0   \n",
       "316            3       99             80             11       64  19.3   \n",
       "199            4      148             60             27      318  30.9   \n",
       "473            7      136             90              0        0  29.9   \n",
       "418            1       83             68              0        0  18.2   \n",
       "\n",
       "     DiabetesPedigreeFunction  Age  Outcome  target predicted  \n",
       "40                      0.271   26        0      sa    malalt  \n",
       "316                     0.284   30        0      sa        sa  \n",
       "199                     0.150   29        1  malalt        sa  \n",
       "473                     0.210   50        0      sa    malalt  \n",
       "418                     0.624   27        0      sa        sa  "
      ]
     },
     "execution_count": 15,
     "metadata": {},
     "output_type": "execute_result"
    }
   ],
   "source": [
    "X_test.head()"
   ]
  },
  {
   "cell_type": "code",
   "execution_count": 16,
   "id": "d0c2013a",
   "metadata": {},
   "outputs": [
    {
     "data": {
      "text/html": [
       "<div>\n",
       "<style scoped>\n",
       "    .dataframe tbody tr th:only-of-type {\n",
       "        vertical-align: middle;\n",
       "    }\n",
       "\n",
       "    .dataframe tbody tr th {\n",
       "        vertical-align: top;\n",
       "    }\n",
       "\n",
       "    .dataframe thead th {\n",
       "        text-align: right;\n",
       "    }\n",
       "</style>\n",
       "<table border=\"1\" class=\"dataframe\">\n",
       "  <thead>\n",
       "    <tr style=\"text-align: right;\">\n",
       "      <th></th>\n",
       "      <th>target</th>\n",
       "      <th>predicted</th>\n",
       "    </tr>\n",
       "  </thead>\n",
       "  <tbody>\n",
       "    <tr>\n",
       "      <th>40</th>\n",
       "      <td>sa</td>\n",
       "      <td>malalt</td>\n",
       "    </tr>\n",
       "    <tr>\n",
       "      <th>316</th>\n",
       "      <td>sa</td>\n",
       "      <td>sa</td>\n",
       "    </tr>\n",
       "    <tr>\n",
       "      <th>199</th>\n",
       "      <td>malalt</td>\n",
       "      <td>sa</td>\n",
       "    </tr>\n",
       "  </tbody>\n",
       "</table>\n",
       "</div>"
      ],
      "text/plain": [
       "     target predicted\n",
       "40       sa    malalt\n",
       "316      sa        sa\n",
       "199  malalt        sa"
      ]
     },
     "execution_count": 16,
     "metadata": {},
     "output_type": "execute_result"
    }
   ],
   "source": [
    "X_test[['target', 'predicted']].head(3)"
   ]
  },
  {
   "cell_type": "code",
   "execution_count": 17,
   "id": "2c1a587e",
   "metadata": {},
   "outputs": [],
   "source": [
    "import matplotlib.pyplot as plt\n",
    "import seaborn as sns\n",
    "from sklearn.metrics import ConfusionMatrixDisplay\n",
    "\n",
    "sns.set_theme(context = 'notebook', style = \"white\", font_scale = 1.0)"
   ]
  },
  {
   "cell_type": "code",
   "execution_count": 18,
   "id": "7d046d78",
   "metadata": {},
   "outputs": [
    {
     "data": {
      "image/png": "[encoded data removed]",
      "text/plain": [
       "<Figure size 1500x600 with 3 Axes>"
      ]
     },
     "metadata": {},
     "output_type": "display_data"
    }
   ],
   "source": [
    "titles = ['Suma Valors', 'Normalización Recall', 'Normalización Presició']\n",
    "\n",
    "_, axs = plt.subplots(1, 3, figsize = (15, 6), sharey = True)\n",
    "for i, (norm, title) in enumerate(zip([None, 'true', 'pred'], titles)):\n",
    "    # true: Normalització respecte true són els valors dividits pel total. Per la casella del la diagonal és el recall\n",
    "    # pred: Normalització respecte els que hem predit (la vertical) a la diagonal la presició\n",
    "    ConfusionMatrixDisplay.from_predictions(\n",
    "        X_test.target,\n",
    "        X_test.predicted,\n",
    "        normalize = norm, # Posem aquesta informació aquí.\n",
    "        values_format = '.2f' if norm is not None else '.0f',\n",
    "        ax = axs[i],\n",
    "        colorbar = False,\n",
    "        cmap = 'GnBu',\n",
    "        xticks_rotation = 90\n",
    "    )\n",
    "    axs[i].set_title(title)\n",
    "plt.tight_layout();"
   ]
  },
  {
   "cell_type": "code",
   "execution_count": 19,
   "id": "1f7a1a10",
   "metadata": {},
   "outputs": [
    {
     "data": {
      "text/plain": [
       "0.7727272727272727"
      ]
     },
     "execution_count": 19,
     "metadata": {},
     "output_type": "execute_result"
    }
   ],
   "source": [
    "from sklearn.metrics import accuracy_score\n",
    "accuracy_score(X_test.target, X_test.predicted)"
   ]
  },
  {
   "cell_type": "code",
   "execution_count": 20,
   "id": "f7f910cb",
   "metadata": {},
   "outputs": [
    {
     "data": {
      "text/plain": [
       "(array([0.68627451, 0.81553398]),\n",
       " array([0.64814815, 0.84      ]),\n",
       " array([0.66666667, 0.82758621]),\n",
       " array([ 54, 100], dtype=int64))"
      ]
     },
     "execution_count": 20,
     "metadata": {},
     "output_type": "execute_result"
    }
   ],
   "source": [
    "from sklearn.metrics import precision_recall_fscore_support as prf\n",
    "prf(X_test.target, X_test.predicted)\n",
    "# presicion, recall, f_score, nºmostres"
   ]
  },
  {
   "cell_type": "code",
   "execution_count": 21,
   "id": "7c8aa971",
   "metadata": {},
   "outputs": [
    {
     "data": {
      "text/html": [
       "<div>\n",
       "<style scoped>\n",
       "    .dataframe tbody tr th:only-of-type {\n",
       "        vertical-align: middle;\n",
       "    }\n",
       "\n",
       "    .dataframe tbody tr th {\n",
       "        vertical-align: top;\n",
       "    }\n",
       "\n",
       "    .dataframe thead th {\n",
       "        text-align: right;\n",
       "    }\n",
       "</style>\n",
       "<table border=\"1\" class=\"dataframe\">\n",
       "  <thead>\n",
       "    <tr style=\"text-align: right;\">\n",
       "      <th></th>\n",
       "      <th>precision</th>\n",
       "      <th>recall</th>\n",
       "      <th>f-score</th>\n",
       "    </tr>\n",
       "  </thead>\n",
       "  <tbody>\n",
       "    <tr>\n",
       "      <th>macro</th>\n",
       "      <td>0.750904</td>\n",
       "      <td>0.744074</td>\n",
       "      <td>0.747126</td>\n",
       "    </tr>\n",
       "    <tr>\n",
       "      <th>micro</th>\n",
       "      <td>0.772727</td>\n",
       "      <td>0.772727</td>\n",
       "      <td>0.772727</td>\n",
       "    </tr>\n",
       "    <tr>\n",
       "      <th>weighted</th>\n",
       "      <td>0.770209</td>\n",
       "      <td>0.772727</td>\n",
       "      <td>0.771160</td>\n",
       "    </tr>\n",
       "  </tbody>\n",
       "</table>\n",
       "</div>"
      ],
      "text/plain": [
       "          precision    recall   f-score\n",
       "macro      0.750904  0.744074  0.747126\n",
       "micro      0.772727  0.772727  0.772727\n",
       "weighted   0.770209  0.772727  0.771160"
      ]
     },
     "execution_count": 21,
     "metadata": {},
     "output_type": "execute_result"
    }
   ],
   "source": [
    "avrgs = ['macro', 'micro', 'weighted']\n",
    "pd.DataFrame([prf(X_test.target, X_test.predicted, average = mode)[:3] for mode in avrgs], columns = ['precision', 'recall', 'f-score'], index = avrgs)"
   ]
  }
 ],
 "metadata": {
  "kernelspec": {
   "display_name": "Python 3 (ipykernel)",
   "language": "python",
   "name": "python3"
  },
  "language_info": {
   "codemirror_mode": {
    "name": "ipython",
    "version": 3
   },
   "file_extension": ".py",
   "mimetype": "text/x-python",
   "name": "python",
   "nbconvert_exporter": "python",
   "pygments_lexer": "ipython3",
   "version": "3.11.5"
  }
 },
 "nbformat": 4,
 "nbformat_minor": 5
}
