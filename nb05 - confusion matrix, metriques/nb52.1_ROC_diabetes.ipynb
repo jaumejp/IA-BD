{
 "cells": [
  {
   "cell_type": "markdown",
   "id": "24b5ae60",
   "metadata": {},
   "source": [
    "### Model evaluation. ROC curves, AUC, Precision-Recall curves"
   ]
  },
  {
   "cell_type": "markdown",
   "id": "f47abd55",
   "metadata": {},
   "source": [
    "- ROC curves depict the relation of the true positive rate (TPR) versus the false positive rate (FPR) as a function of the classification threshold.\n",
    "- This depiction is helpful in the evaluation of the model under different cost scenarios."
   ]
  },
  {
   "attachments": {
    "image.png": {
     "image/png": "[encoded data removed]"
    }
   },
   "cell_type": "markdown",
   "id": "c70bf131",
   "metadata": {},
   "source": [
    "<div>\n",
    "<img src=\"attachment:image.png\" align=\"center\" width=\"300\"/>\n",
    "</div>"
   ]
  },
  {
   "cell_type": "markdown",
   "id": "c59ef374",
   "metadata": {},
   "source": [
    "- **True positive rate**: fraction of positive examples correctly predicted as positives (it is a measure of *quantity*, also called **Recall** or **sensitivity**)\n",
    "\n",
    "$$TPR=\\frac{TP}{P}=\\frac{TP}{TP+FN}$$\n",
    "\n",
    "- **False positive rate**: fraction of predicted positive examples wich are actually negative (it is a measure of *quality* of the prediction)\n",
    "\n",
    "$$FPR=\\frac{FP}{N}=\\frac{FP}{FP+TN}$$\n"
   ]
  },
  {
   "cell_type": "markdown",
   "id": "918ecfe2",
   "metadata": {},
   "source": [
    "### Apunts meus a posteriori (en el moment d'estudiar): \n",
    "- 1 = Positius = Malalts\n",
    "- 0 = Negatius = Sans\n",
    "<br/>\n",
    "<br/>\n",
    "- **TPR** = True positive rate = Recall = $\\frac{Predits\\,Bé}{Total\\,Classe}$\n",
    "<br/>\n",
    "<br/>\n",
    "- **FPR** = False positive rate = $\\frac{Predits\\,Malament}{Tots\\,Els\\,Mal} = \\frac{Predits\\,Pos\\,Pero\\,Era\\,Neg}{Tots\\,Els\\,Neg}$\n",
    "    - Proporció que hem predit com a positiu però són negatius &rarr; $\\frac{FP}{FP+TN}$\n",
    "<br/>\n",
    "<br/>\n",
    "- **Presició** = Proporció dels que hem predit bé respecte tots els que hem predit com a tal. (predit bé o malament).\n",
    "- **Recall** = Proporció dels que hem predit bé respecte els que realment ho eren. (predit bé o malament). \n",
    "<br/>\n",
    "<br/>\n",
    "- **FN** = Hem dit que era *negatiu* però era *positiu*.\n",
    "- **FP** = Hem dit que era *positiu* però era *negatiu*.\n",
    "    - Per exemple amb el COVID-19, si ser negatiu és estar sà i positiu estar malalt (infectat). \n",
    "        - Fals Positiu era quan et feies un test i sortia positiu (malalt) però en realitat no ho estabes (estabes realment sà). Et quedaves a casa i en veritat estabes bé. \n",
    "        - False Negatiu era quan et feies un test i sortia negatiu (sà) però en relitat no ho estabes (estabes realment infecta). Per tant podies sortir de casa infectat (cosa molt més perillosa de predir).\n",
    "<br/>\n",
    "<br/>\n",
    "- **TPR** = Fració de positius predits respecte els que ho són (tots). = Els malalts que tenen una `soft_pred` més gran que el **thr** = $\\frac{TP}{Total}$\n",
    "- **FPR** = Els sans que tenen una `soft_pred` més gran que el **thr** = $\\frac{Predits\\,Malament}{Tots\\,Els\\,Neg}$\n",
    "    - Sans que han passat per positius (malalts)\n",
    "<br/>\n",
    "<br/>\n",
    "<hr/>\n",
    "<br/>\n",
    "\n",
    "- Representació del thr en una taula de confusió: \n",
    "\n",
    "|Real|$\\hat{P}$|$\\hat{N}$|\n",
    "|----|---------|---------|\n",
    "|P|TP|FN|\n",
    "|N|FP|TN|\n",
    "|----1----|&larr; thr &rarr;|----0----|\n",
    "\n",
    "- Si posem els valors que han sortit a sobre d'aquesta taula ordenats de menys a més (esquerra a dreta), i ho fem com fins ara (el que té mes probabilitat s'emporta el resultat) tindrem un **thr** de 0.5 (perquè estaría justa a la meitat).\n",
    "\n",
    "||||\n",
    "|----|---------|---------|\n",
    "| |0.5 mig|\n",
    "| |TP: 0.8 - 0.6|FN: 0.4 - 0.2|\n",
    "|----1----|&larr; thr &rarr;|----0----|\n",
    "\n",
    "<br/>\n",
    "<br/>\n",
    "\n",
    "- Si fem el **thr** &darr; (més petit) llavors (acostar la linia imaginaria que separa el TP del FN), llavors hi haurà menys FN perquè hi ha menys espai (n'entren menys) quan fem la evaluació de si el model l'evaula com a tal o no.\n",
    "\n",
    "|||\n",
    "|-|-|\n",
    "|TP &uarr;|**FN &darr;**|\n",
    "|FP &uarr;|TN &darr;|\n",
    "\n",
    "|||\n",
    "|-|-|\n",
    "|TP|**FN + cost tenir-ne**|\n",
    "|FP|TN|\n",
    "\n",
    "- Consequències de fer això: \n",
    "    - Els que predim que si &rarr; és menys fiable (*2). \n",
    "    - Però estem baixant els que fallavem (dient ok i estaba malalt). **És on hi ha el cost de fer-ho malament i el que volem evitar**.\n",
    "    - En el COVID-19. En el test, baixar aquest valor sería: quan et fas el test si surt negatiu (sà) però ets positiu (malalt) té un cost molt elevat, per tant tindría sentit optimitzar així. \n",
    "    - Per optimitzar així, tirariem la linia del thr cap a la dreta (fer-lo petit) (la fracció que queda dins dels FN és menor).\n",
    "   \n",
    "<br/>\n",
    "<br/>\n",
    "\n",
    "- Si fem el **thr** &uarr; (més gran) llavors:\n",
    "\n",
    "|||\n",
    "|-|-|\n",
    "|TP &darr;|FN &uarr;|\n",
    "|FP &darr;|TN &uarr;|\n",
    "\n",
    "\n",
    "|||\n",
    "|-|-|\n",
    "|TP|FN|\n",
    "|**FP + cost tenir-ne**|TN|\n",
    "\n",
    "- Consequències de fer això: \n",
    "    - Hem dit que malalt, però no ho era. \n",
    "    - Exemple dels mosquits. (Reconeixament de mosquits, no volem que els experts perdin temps amb els que segur que si, sino, que perdin temps evaluant els que hi ha més dubte). Si una persona envia una imatge que no ho és, queda malament dir-li que si automaticament, abans de passar per l'expert. \n",
    "    - Quan podem fallar més però a canvi els que si que predim &rarr; són segur que sí, al contrari que (*2)."
   ]
  },
  {
   "cell_type": "code",
   "execution_count": 1,
   "id": "1a455e10",
   "metadata": {},
   "outputs": [],
   "source": [
    "import numpy as np\n",
    "import pandas as pd\n",
    "import matplotlib.pyplot as plt"
   ]
  },
  {
   "cell_type": "code",
   "execution_count": 2,
   "id": "6b638d3e",
   "metadata": {},
   "outputs": [],
   "source": [
    "from scipy.stats import gaussian_kde"
   ]
  },
  {
   "cell_type": "code",
   "execution_count": 3,
   "id": "7e57d17e",
   "metadata": {},
   "outputs": [],
   "source": [
    "from sklearn.model_selection import train_test_split"
   ]
  },
  {
   "cell_type": "code",
   "execution_count": 4,
   "id": "3ea7dff3",
   "metadata": {},
   "outputs": [],
   "source": [
    "from sklearn.metrics import ConfusionMatrixDisplay\n",
    "from sklearn.metrics import precision_recall_fscore_support as prfs"
   ]
  },
  {
   "cell_type": "markdown",
   "id": "c0aedc7f",
   "metadata": {},
   "source": [
    "#### dataset"
   ]
  },
  {
   "cell_type": "markdown",
   "id": "09c414a4",
   "metadata": {},
   "source": [
    "https://github.com/npradaschnor/Pima-Indians-Diabetes-Dataset/blob/master/diabetes.csv"
   ]
  },
  {
   "cell_type": "code",
   "execution_count": 5,
   "id": "9b8768a1",
   "metadata": {},
   "outputs": [],
   "source": [
    "df = pd.read_csv('../Dades/diabetes/diabetes.csv')"
   ]
  },
  {
   "cell_type": "code",
   "execution_count": 6,
   "id": "4a60e507",
   "metadata": {},
   "outputs": [
    {
     "data": {
      "text/html": [
       "<div>\n",
       "<style scoped>\n",
       "    .dataframe tbody tr th:only-of-type {\n",
       "        vertical-align: middle;\n",
       "    }\n",
       "\n",
       "    .dataframe tbody tr th {\n",
       "        vertical-align: top;\n",
       "    }\n",
       "\n",
       "    .dataframe thead th {\n",
       "        text-align: right;\n",
       "    }\n",
       "</style>\n",
       "<table border=\"1\" class=\"dataframe\">\n",
       "  <thead>\n",
       "    <tr style=\"text-align: right;\">\n",
       "      <th></th>\n",
       "      <th>Pregnancies</th>\n",
       "      <th>Glucose</th>\n",
       "      <th>BloodPressure</th>\n",
       "      <th>SkinThickness</th>\n",
       "      <th>Insulin</th>\n",
       "      <th>BMI</th>\n",
       "      <th>DiabetesPedigreeFunction</th>\n",
       "      <th>Age</th>\n",
       "      <th>Outcome</th>\n",
       "    </tr>\n",
       "  </thead>\n",
       "  <tbody>\n",
       "    <tr>\n",
       "      <th>0</th>\n",
       "      <td>6</td>\n",
       "      <td>148</td>\n",
       "      <td>72</td>\n",
       "      <td>35</td>\n",
       "      <td>0</td>\n",
       "      <td>33.6</td>\n",
       "      <td>0.627</td>\n",
       "      <td>50</td>\n",
       "      <td>1</td>\n",
       "    </tr>\n",
       "    <tr>\n",
       "      <th>1</th>\n",
       "      <td>1</td>\n",
       "      <td>85</td>\n",
       "      <td>66</td>\n",
       "      <td>29</td>\n",
       "      <td>0</td>\n",
       "      <td>26.6</td>\n",
       "      <td>0.351</td>\n",
       "      <td>31</td>\n",
       "      <td>0</td>\n",
       "    </tr>\n",
       "    <tr>\n",
       "      <th>2</th>\n",
       "      <td>8</td>\n",
       "      <td>183</td>\n",
       "      <td>64</td>\n",
       "      <td>0</td>\n",
       "      <td>0</td>\n",
       "      <td>23.3</td>\n",
       "      <td>0.672</td>\n",
       "      <td>32</td>\n",
       "      <td>1</td>\n",
       "    </tr>\n",
       "    <tr>\n",
       "      <th>3</th>\n",
       "      <td>1</td>\n",
       "      <td>89</td>\n",
       "      <td>66</td>\n",
       "      <td>23</td>\n",
       "      <td>94</td>\n",
       "      <td>28.1</td>\n",
       "      <td>0.167</td>\n",
       "      <td>21</td>\n",
       "      <td>0</td>\n",
       "    </tr>\n",
       "    <tr>\n",
       "      <th>4</th>\n",
       "      <td>0</td>\n",
       "      <td>137</td>\n",
       "      <td>40</td>\n",
       "      <td>35</td>\n",
       "      <td>168</td>\n",
       "      <td>43.1</td>\n",
       "      <td>2.288</td>\n",
       "      <td>33</td>\n",
       "      <td>1</td>\n",
       "    </tr>\n",
       "  </tbody>\n",
       "</table>\n",
       "</div>"
      ],
      "text/plain": [
       "   Pregnancies  Glucose  BloodPressure  SkinThickness  Insulin   BMI  \\\n",
       "0            6      148             72             35        0  33.6   \n",
       "1            1       85             66             29        0  26.6   \n",
       "2            8      183             64              0        0  23.3   \n",
       "3            1       89             66             23       94  28.1   \n",
       "4            0      137             40             35      168  43.1   \n",
       "\n",
       "   DiabetesPedigreeFunction  Age  Outcome  \n",
       "0                     0.627   50        1  \n",
       "1                     0.351   31        0  \n",
       "2                     0.672   32        1  \n",
       "3                     0.167   21        0  \n",
       "4                     2.288   33        1  "
      ]
     },
     "execution_count": 6,
     "metadata": {},
     "output_type": "execute_result"
    }
   ],
   "source": [
    "df.head()"
   ]
  },
  {
   "cell_type": "markdown",
   "id": "fa21d0dc",
   "metadata": {},
   "source": [
    "##### map Outcome to target "
   ]
  },
  {
   "cell_type": "code",
   "execution_count": 7,
   "id": "9ae2c644",
   "metadata": {},
   "outputs": [
    {
     "data": {
      "text/html": [
       "<div>\n",
       "<style scoped>\n",
       "    .dataframe tbody tr th:only-of-type {\n",
       "        vertical-align: middle;\n",
       "    }\n",
       "\n",
       "    .dataframe tbody tr th {\n",
       "        vertical-align: top;\n",
       "    }\n",
       "\n",
       "    .dataframe thead th {\n",
       "        text-align: right;\n",
       "    }\n",
       "</style>\n",
       "<table border=\"1\" class=\"dataframe\">\n",
       "  <thead>\n",
       "    <tr style=\"text-align: right;\">\n",
       "      <th></th>\n",
       "      <th>Pregnancies</th>\n",
       "      <th>Glucose</th>\n",
       "      <th>BloodPressure</th>\n",
       "      <th>SkinThickness</th>\n",
       "      <th>Insulin</th>\n",
       "      <th>BMI</th>\n",
       "      <th>DiabetesPedigreeFunction</th>\n",
       "      <th>Age</th>\n",
       "      <th>Outcome</th>\n",
       "      <th>target</th>\n",
       "    </tr>\n",
       "  </thead>\n",
       "  <tbody>\n",
       "    <tr>\n",
       "      <th>0</th>\n",
       "      <td>6</td>\n",
       "      <td>148</td>\n",
       "      <td>72</td>\n",
       "      <td>35</td>\n",
       "      <td>0</td>\n",
       "      <td>33.6</td>\n",
       "      <td>0.627</td>\n",
       "      <td>50</td>\n",
       "      <td>1</td>\n",
       "      <td>malalt</td>\n",
       "    </tr>\n",
       "    <tr>\n",
       "      <th>1</th>\n",
       "      <td>1</td>\n",
       "      <td>85</td>\n",
       "      <td>66</td>\n",
       "      <td>29</td>\n",
       "      <td>0</td>\n",
       "      <td>26.6</td>\n",
       "      <td>0.351</td>\n",
       "      <td>31</td>\n",
       "      <td>0</td>\n",
       "      <td>sa</td>\n",
       "    </tr>\n",
       "    <tr>\n",
       "      <th>2</th>\n",
       "      <td>8</td>\n",
       "      <td>183</td>\n",
       "      <td>64</td>\n",
       "      <td>0</td>\n",
       "      <td>0</td>\n",
       "      <td>23.3</td>\n",
       "      <td>0.672</td>\n",
       "      <td>32</td>\n",
       "      <td>1</td>\n",
       "      <td>malalt</td>\n",
       "    </tr>\n",
       "    <tr>\n",
       "      <th>3</th>\n",
       "      <td>1</td>\n",
       "      <td>89</td>\n",
       "      <td>66</td>\n",
       "      <td>23</td>\n",
       "      <td>94</td>\n",
       "      <td>28.1</td>\n",
       "      <td>0.167</td>\n",
       "      <td>21</td>\n",
       "      <td>0</td>\n",
       "      <td>sa</td>\n",
       "    </tr>\n",
       "    <tr>\n",
       "      <th>4</th>\n",
       "      <td>0</td>\n",
       "      <td>137</td>\n",
       "      <td>40</td>\n",
       "      <td>35</td>\n",
       "      <td>168</td>\n",
       "      <td>43.1</td>\n",
       "      <td>2.288</td>\n",
       "      <td>33</td>\n",
       "      <td>1</td>\n",
       "      <td>malalt</td>\n",
       "    </tr>\n",
       "  </tbody>\n",
       "</table>\n",
       "</div>"
      ],
      "text/plain": [
       "   Pregnancies  Glucose  BloodPressure  SkinThickness  Insulin   BMI  \\\n",
       "0            6      148             72             35        0  33.6   \n",
       "1            1       85             66             29        0  26.6   \n",
       "2            8      183             64              0        0  23.3   \n",
       "3            1       89             66             23       94  28.1   \n",
       "4            0      137             40             35      168  43.1   \n",
       "\n",
       "   DiabetesPedigreeFunction  Age  Outcome  target  \n",
       "0                     0.627   50        1  malalt  \n",
       "1                     0.351   31        0      sa  \n",
       "2                     0.672   32        1  malalt  \n",
       "3                     0.167   21        0      sa  \n",
       "4                     2.288   33        1  malalt  "
      ]
     },
     "execution_count": 7,
     "metadata": {},
     "output_type": "execute_result"
    }
   ],
   "source": [
    "df['target'] = df.Outcome.map({0: 'sa', 1: 'malalt'})\n",
    "df.head()"
   ]
  },
  {
   "cell_type": "markdown",
   "id": "b1514c75",
   "metadata": {},
   "source": [
    "#### check features (not-null, data-type)"
   ]
  },
  {
   "cell_type": "code",
   "execution_count": 8,
   "id": "97ec1a60",
   "metadata": {
    "scrolled": true
   },
   "outputs": [
    {
     "data": {
      "text/html": [
       "<div>\n",
       "<style scoped>\n",
       "    .dataframe tbody tr th:only-of-type {\n",
       "        vertical-align: middle;\n",
       "    }\n",
       "\n",
       "    .dataframe tbody tr th {\n",
       "        vertical-align: top;\n",
       "    }\n",
       "\n",
       "    .dataframe thead th {\n",
       "        text-align: right;\n",
       "    }\n",
       "</style>\n",
       "<table border=\"1\" class=\"dataframe\">\n",
       "  <thead>\n",
       "    <tr style=\"text-align: right;\">\n",
       "      <th></th>\n",
       "      <th>Pregnancies</th>\n",
       "      <th>Glucose</th>\n",
       "      <th>BloodPressure</th>\n",
       "      <th>SkinThickness</th>\n",
       "      <th>Insulin</th>\n",
       "      <th>BMI</th>\n",
       "      <th>DiabetesPedigreeFunction</th>\n",
       "      <th>Age</th>\n",
       "      <th>Outcome</th>\n",
       "    </tr>\n",
       "  </thead>\n",
       "  <tbody>\n",
       "    <tr>\n",
       "      <th>count</th>\n",
       "      <td>768.000000</td>\n",
       "      <td>768.000000</td>\n",
       "      <td>768.000000</td>\n",
       "      <td>768.000000</td>\n",
       "      <td>768.000000</td>\n",
       "      <td>768.000000</td>\n",
       "      <td>768.000000</td>\n",
       "      <td>768.000000</td>\n",
       "      <td>768.000000</td>\n",
       "    </tr>\n",
       "    <tr>\n",
       "      <th>mean</th>\n",
       "      <td>3.845052</td>\n",
       "      <td>120.894531</td>\n",
       "      <td>69.105469</td>\n",
       "      <td>20.536458</td>\n",
       "      <td>79.799479</td>\n",
       "      <td>31.992578</td>\n",
       "      <td>0.471876</td>\n",
       "      <td>33.240885</td>\n",
       "      <td>0.348958</td>\n",
       "    </tr>\n",
       "    <tr>\n",
       "      <th>std</th>\n",
       "      <td>3.369578</td>\n",
       "      <td>31.972618</td>\n",
       "      <td>19.355807</td>\n",
       "      <td>15.952218</td>\n",
       "      <td>115.244002</td>\n",
       "      <td>7.884160</td>\n",
       "      <td>0.331329</td>\n",
       "      <td>11.760232</td>\n",
       "      <td>0.476951</td>\n",
       "    </tr>\n",
       "    <tr>\n",
       "      <th>min</th>\n",
       "      <td>0.000000</td>\n",
       "      <td>0.000000</td>\n",
       "      <td>0.000000</td>\n",
       "      <td>0.000000</td>\n",
       "      <td>0.000000</td>\n",
       "      <td>0.000000</td>\n",
       "      <td>0.078000</td>\n",
       "      <td>21.000000</td>\n",
       "      <td>0.000000</td>\n",
       "    </tr>\n",
       "    <tr>\n",
       "      <th>25%</th>\n",
       "      <td>1.000000</td>\n",
       "      <td>99.000000</td>\n",
       "      <td>62.000000</td>\n",
       "      <td>0.000000</td>\n",
       "      <td>0.000000</td>\n",
       "      <td>27.300000</td>\n",
       "      <td>0.243750</td>\n",
       "      <td>24.000000</td>\n",
       "      <td>0.000000</td>\n",
       "    </tr>\n",
       "    <tr>\n",
       "      <th>50%</th>\n",
       "      <td>3.000000</td>\n",
       "      <td>117.000000</td>\n",
       "      <td>72.000000</td>\n",
       "      <td>23.000000</td>\n",
       "      <td>30.500000</td>\n",
       "      <td>32.000000</td>\n",
       "      <td>0.372500</td>\n",
       "      <td>29.000000</td>\n",
       "      <td>0.000000</td>\n",
       "    </tr>\n",
       "    <tr>\n",
       "      <th>75%</th>\n",
       "      <td>6.000000</td>\n",
       "      <td>140.250000</td>\n",
       "      <td>80.000000</td>\n",
       "      <td>32.000000</td>\n",
       "      <td>127.250000</td>\n",
       "      <td>36.600000</td>\n",
       "      <td>0.626250</td>\n",
       "      <td>41.000000</td>\n",
       "      <td>1.000000</td>\n",
       "    </tr>\n",
       "    <tr>\n",
       "      <th>max</th>\n",
       "      <td>17.000000</td>\n",
       "      <td>199.000000</td>\n",
       "      <td>122.000000</td>\n",
       "      <td>99.000000</td>\n",
       "      <td>846.000000</td>\n",
       "      <td>67.100000</td>\n",
       "      <td>2.420000</td>\n",
       "      <td>81.000000</td>\n",
       "      <td>1.000000</td>\n",
       "    </tr>\n",
       "  </tbody>\n",
       "</table>\n",
       "</div>"
      ],
      "text/plain": [
       "       Pregnancies     Glucose  BloodPressure  SkinThickness     Insulin  \\\n",
       "count   768.000000  768.000000     768.000000     768.000000  768.000000   \n",
       "mean      3.845052  120.894531      69.105469      20.536458   79.799479   \n",
       "std       3.369578   31.972618      19.355807      15.952218  115.244002   \n",
       "min       0.000000    0.000000       0.000000       0.000000    0.000000   \n",
       "25%       1.000000   99.000000      62.000000       0.000000    0.000000   \n",
       "50%       3.000000  117.000000      72.000000      23.000000   30.500000   \n",
       "75%       6.000000  140.250000      80.000000      32.000000  127.250000   \n",
       "max      17.000000  199.000000     122.000000      99.000000  846.000000   \n",
       "\n",
       "              BMI  DiabetesPedigreeFunction         Age     Outcome  \n",
       "count  768.000000                768.000000  768.000000  768.000000  \n",
       "mean    31.992578                  0.471876   33.240885    0.348958  \n",
       "std      7.884160                  0.331329   11.760232    0.476951  \n",
       "min      0.000000                  0.078000   21.000000    0.000000  \n",
       "25%     27.300000                  0.243750   24.000000    0.000000  \n",
       "50%     32.000000                  0.372500   29.000000    0.000000  \n",
       "75%     36.600000                  0.626250   41.000000    1.000000  \n",
       "max     67.100000                  2.420000   81.000000    1.000000  "
      ]
     },
     "execution_count": 8,
     "metadata": {},
     "output_type": "execute_result"
    }
   ],
   "source": [
    "df.describe()"
   ]
  },
  {
   "cell_type": "markdown",
   "id": "0339a701",
   "metadata": {},
   "source": [
    "#### Train/Test split"
   ]
  },
  {
   "cell_type": "code",
   "execution_count": 9,
   "id": "78f019d8",
   "metadata": {},
   "outputs": [],
   "source": [
    "Xtrain, Xtest = train_test_split(df, test_size = 0.20, random_state = 52)"
   ]
  },
  {
   "cell_type": "markdown",
   "id": "7288e181",
   "metadata": {},
   "source": [
    "#### Prior"
   ]
  },
  {
   "cell_type": "code",
   "execution_count": 10,
   "id": "20797ff5",
   "metadata": {},
   "outputs": [
    {
     "data": {
      "text/html": [
       "<div>\n",
       "<style scoped>\n",
       "    .dataframe tbody tr th:only-of-type {\n",
       "        vertical-align: middle;\n",
       "    }\n",
       "\n",
       "    .dataframe tbody tr th {\n",
       "        vertical-align: top;\n",
       "    }\n",
       "\n",
       "    .dataframe thead th {\n",
       "        text-align: right;\n",
       "    }\n",
       "</style>\n",
       "<table border=\"1\" class=\"dataframe\">\n",
       "  <thead>\n",
       "    <tr style=\"text-align: right;\">\n",
       "      <th></th>\n",
       "      <th>target</th>\n",
       "      <th>target</th>\n",
       "    </tr>\n",
       "  </thead>\n",
       "  <tbody>\n",
       "    <tr>\n",
       "      <th>sa</th>\n",
       "      <td>400</td>\n",
       "      <td>0.651466</td>\n",
       "    </tr>\n",
       "    <tr>\n",
       "      <th>malalt</th>\n",
       "      <td>214</td>\n",
       "      <td>0.348534</td>\n",
       "    </tr>\n",
       "  </tbody>\n",
       "</table>\n",
       "</div>"
      ],
      "text/plain": [
       "        target    target\n",
       "sa         400  0.651466\n",
       "malalt     214  0.348534"
      ]
     },
     "execution_count": 10,
     "metadata": {},
     "output_type": "execute_result"
    }
   ],
   "source": [
    "pd.concat((Xtrain.target.value_counts(), Xtrain.target.value_counts(normalize = True)), axis = 1)"
   ]
  },
  {
   "cell_type": "code",
   "execution_count": 11,
   "id": "95f7c766",
   "metadata": {},
   "outputs": [
    {
     "data": {
      "text/plain": [
       "sa        0.651466\n",
       "malalt    0.348534\n",
       "Name: target, dtype: float64"
      ]
     },
     "execution_count": 11,
     "metadata": {},
     "output_type": "execute_result"
    }
   ],
   "source": [
    "prior = Xtrain.target.value_counts(normalize = True)\n",
    "prior"
   ]
  },
  {
   "cell_type": "markdown",
   "id": "9e8c8ab5",
   "metadata": {},
   "source": [
    "#### Likelihood functions (all features are continuous)"
   ]
  },
  {
   "cell_type": "code",
   "execution_count": 12,
   "id": "0231b4ee",
   "metadata": {},
   "outputs": [],
   "source": [
    "lkhDict = {Xj: {'lkh0': None, 'lkh1': None} for Xj in Xtrain.columns[:-2]}"
   ]
  },
  {
   "cell_type": "code",
   "execution_count": 13,
   "id": "e28623a7",
   "metadata": {},
   "outputs": [],
   "source": [
    "for Xj in lkhDict:\n",
    "    lkhDict[Xj]['lkh0'] = gaussian_kde(Xtrain[Xj].loc[Xtrain.target == 'sa'], bw_method = 'scott')\n",
    "    lkhDict[Xj]['lkh1'] = gaussian_kde(Xtrain[Xj].loc[Xtrain.target == 'malalt'], bw_method = 'scott')"
   ]
  },
  {
   "cell_type": "markdown",
   "id": "bc03b2a3",
   "metadata": {},
   "source": [
    "#### naive-bayes  posterior probability function"
   ]
  },
  {
   "cell_type": "code",
   "execution_count": 14,
   "id": "18de8fe4",
   "metadata": {},
   "outputs": [],
   "source": [
    "def evaluate_post(row):\n",
    "    post0, post1 = prior\n",
    "    for Xj in lkhDict:\n",
    "        post0 *= lkhDict[Xj]['lkh0'].evaluate(row[Xj])[0]\n",
    "        post1 *= lkhDict[Xj]['lkh1'].evaluate(row[Xj])[0]\n",
    "    return post0 /(post0 +post1),  post1 /(post0 +post1)"
   ]
  },
  {
   "cell_type": "code",
   "execution_count": 15,
   "id": "70a7f251",
   "metadata": {},
   "outputs": [
    {
     "data": {
      "text/plain": [
       "sa        0.651466\n",
       "malalt    0.348534\n",
       "Name: target, dtype: float64"
      ]
     },
     "execution_count": 15,
     "metadata": {},
     "output_type": "execute_result"
    }
   ],
   "source": [
    "prior"
   ]
  },
  {
   "cell_type": "markdown",
   "id": "d03ea3a3",
   "metadata": {},
   "source": [
    "##### soft prediction"
   ]
  },
  {
   "cell_type": "code",
   "execution_count": 16,
   "id": "ab677a8b",
   "metadata": {},
   "outputs": [],
   "source": [
    "Xtest['pred_soft'] = Xtest.apply(lambda row: evaluate_post(row), axis = 1)"
   ]
  },
  {
   "cell_type": "markdown",
   "id": "10fcd326",
   "metadata": {},
   "source": [
    "##### hard prediction"
   ]
  },
  {
   "cell_type": "code",
   "execution_count": 17,
   "id": "d84b3b25",
   "metadata": {},
   "outputs": [],
   "source": [
    "Xtest['pred_hard'] = Xtest['pred_soft'].apply(lambda x: 'malalt' if x[1] > x[0] else 'sa')"
   ]
  },
  {
   "cell_type": "code",
   "execution_count": 18,
   "id": "8cd43b5f",
   "metadata": {
    "scrolled": false
   },
   "outputs": [
    {
     "data": {
      "text/html": [
       "<div>\n",
       "<style scoped>\n",
       "    .dataframe tbody tr th:only-of-type {\n",
       "        vertical-align: middle;\n",
       "    }\n",
       "\n",
       "    .dataframe tbody tr th {\n",
       "        vertical-align: top;\n",
       "    }\n",
       "\n",
       "    .dataframe thead th {\n",
       "        text-align: right;\n",
       "    }\n",
       "</style>\n",
       "<table border=\"1\" class=\"dataframe\">\n",
       "  <thead>\n",
       "    <tr style=\"text-align: right;\">\n",
       "      <th></th>\n",
       "      <th>Outcome</th>\n",
       "      <th>target</th>\n",
       "      <th>pred_soft</th>\n",
       "      <th>pred_hard</th>\n",
       "    </tr>\n",
       "  </thead>\n",
       "  <tbody>\n",
       "    <tr>\n",
       "      <th>40</th>\n",
       "      <td>0</td>\n",
       "      <td>sa</td>\n",
       "      <td>(0.44629826764286107, 0.5537017323571389)</td>\n",
       "      <td>malalt</td>\n",
       "    </tr>\n",
       "    <tr>\n",
       "      <th>316</th>\n",
       "      <td>0</td>\n",
       "      <td>sa</td>\n",
       "      <td>(0.9911761515839266, 0.00882384841607346)</td>\n",
       "      <td>sa</td>\n",
       "    </tr>\n",
       "    <tr>\n",
       "      <th>199</th>\n",
       "      <td>1</td>\n",
       "      <td>malalt</td>\n",
       "      <td>(0.5811320427313371, 0.4188679572686629)</td>\n",
       "      <td>sa</td>\n",
       "    </tr>\n",
       "    <tr>\n",
       "      <th>473</th>\n",
       "      <td>0</td>\n",
       "      <td>sa</td>\n",
       "      <td>(0.32492842660814325, 0.6750715733918567)</td>\n",
       "      <td>malalt</td>\n",
       "    </tr>\n",
       "    <tr>\n",
       "      <th>418</th>\n",
       "      <td>0</td>\n",
       "      <td>sa</td>\n",
       "      <td>(0.9981957211958316, 0.0018042788041684142)</td>\n",
       "      <td>sa</td>\n",
       "    </tr>\n",
       "  </tbody>\n",
       "</table>\n",
       "</div>"
      ],
      "text/plain": [
       "     Outcome  target                                    pred_soft pred_hard\n",
       "40         0      sa    (0.44629826764286107, 0.5537017323571389)    malalt\n",
       "316        0      sa    (0.9911761515839266, 0.00882384841607346)        sa\n",
       "199        1  malalt     (0.5811320427313371, 0.4188679572686629)        sa\n",
       "473        0      sa    (0.32492842660814325, 0.6750715733918567)    malalt\n",
       "418        0      sa  (0.9981957211958316, 0.0018042788041684142)        sa"
      ]
     },
     "execution_count": 18,
     "metadata": {},
     "output_type": "execute_result"
    }
   ],
   "source": [
    "Xtest.iloc[:, -4:].head()"
   ]
  },
  {
   "cell_type": "markdown",
   "id": "86074337",
   "metadata": {},
   "source": [
    "#### confusion matrix"
   ]
  },
  {
   "cell_type": "code",
   "execution_count": 19,
   "id": "8863d536",
   "metadata": {},
   "outputs": [
    {
     "data": {
      "image/png": "[encoded data removed]",
      "text/plain": [
       "<Figure size 1200x400 with 3 Axes>"
      ]
     },
     "metadata": {},
     "output_type": "display_data"
    }
   ],
   "source": [
    "fig, axs = plt.subplots(1, 3, figsize = (12, 4))\n",
    "for i, norm in enumerate([None, 'true', 'pred']):\n",
    "    ConfusionMatrixDisplay.from_predictions(\n",
    "        Xtest.target,\n",
    "        Xtest.pred_hard,\n",
    "        normalize = norm,\n",
    "        ax = axs[i],\n",
    "        cmap = 'GnBu',\n",
    "        colorbar = False)\n",
    "plt.tight_layout()"
   ]
  },
  {
   "cell_type": "markdown",
   "id": "c64fa450",
   "metadata": {},
   "source": [
    "#### average metrics"
   ]
  },
  {
   "cell_type": "code",
   "execution_count": 20,
   "id": "9c75f9c4",
   "metadata": {},
   "outputs": [
    {
     "data": {
      "text/html": [
       "<div>\n",
       "<style scoped>\n",
       "    .dataframe tbody tr th:only-of-type {\n",
       "        vertical-align: middle;\n",
       "    }\n",
       "\n",
       "    .dataframe tbody tr th {\n",
       "        vertical-align: top;\n",
       "    }\n",
       "\n",
       "    .dataframe thead th {\n",
       "        text-align: right;\n",
       "    }\n",
       "</style>\n",
       "<table border=\"1\" class=\"dataframe\">\n",
       "  <thead>\n",
       "    <tr style=\"text-align: right;\">\n",
       "      <th></th>\n",
       "      <th>prc</th>\n",
       "      <th>rcl</th>\n",
       "      <th>f1</th>\n",
       "      <th>sup</th>\n",
       "    </tr>\n",
       "  </thead>\n",
       "  <tbody>\n",
       "    <tr>\n",
       "      <th>macro</th>\n",
       "      <td>0.750904</td>\n",
       "      <td>0.744074</td>\n",
       "      <td>0.747126</td>\n",
       "      <td>None</td>\n",
       "    </tr>\n",
       "    <tr>\n",
       "      <th>micro</th>\n",
       "      <td>0.772727</td>\n",
       "      <td>0.772727</td>\n",
       "      <td>0.772727</td>\n",
       "      <td>None</td>\n",
       "    </tr>\n",
       "    <tr>\n",
       "      <th>weighted</th>\n",
       "      <td>0.770209</td>\n",
       "      <td>0.772727</td>\n",
       "      <td>0.771160</td>\n",
       "      <td>None</td>\n",
       "    </tr>\n",
       "  </tbody>\n",
       "</table>\n",
       "</div>"
      ],
      "text/plain": [
       "               prc       rcl        f1   sup\n",
       "macro     0.750904  0.744074  0.747126  None\n",
       "micro     0.772727  0.772727  0.772727  None\n",
       "weighted  0.770209  0.772727  0.771160  None"
      ]
     },
     "execution_count": 20,
     "metadata": {},
     "output_type": "execute_result"
    }
   ],
   "source": [
    "avrgs = ['macro', 'micro', 'weighted']\n",
    "pd.DataFrame([prfs(Xtest.target, Xtest.pred_hard, average = avg) for avg in avrgs], columns = ['prc', 'rcl', 'f1', 'sup'], index = avrgs)"
   ]
  },
  {
   "cell_type": "code",
   "execution_count": 21,
   "id": "27e40fdf",
   "metadata": {},
   "outputs": [
    {
     "data": {
      "text/html": [
       "<div>\n",
       "<style scoped>\n",
       "    .dataframe tbody tr th:only-of-type {\n",
       "        vertical-align: middle;\n",
       "    }\n",
       "\n",
       "    .dataframe tbody tr th {\n",
       "        vertical-align: top;\n",
       "    }\n",
       "\n",
       "    .dataframe thead th {\n",
       "        text-align: right;\n",
       "    }\n",
       "</style>\n",
       "<table border=\"1\" class=\"dataframe\">\n",
       "  <thead>\n",
       "    <tr style=\"text-align: right;\">\n",
       "      <th></th>\n",
       "      <th>Pregnancies</th>\n",
       "      <th>Glucose</th>\n",
       "      <th>BloodPressure</th>\n",
       "      <th>SkinThickness</th>\n",
       "      <th>Insulin</th>\n",
       "      <th>BMI</th>\n",
       "      <th>DiabetesPedigreeFunction</th>\n",
       "      <th>Age</th>\n",
       "      <th>Outcome</th>\n",
       "      <th>target</th>\n",
       "      <th>pred_soft</th>\n",
       "      <th>pred_hard</th>\n",
       "    </tr>\n",
       "  </thead>\n",
       "  <tbody>\n",
       "    <tr>\n",
       "      <th>40</th>\n",
       "      <td>3</td>\n",
       "      <td>180</td>\n",
       "      <td>64</td>\n",
       "      <td>25</td>\n",
       "      <td>70</td>\n",
       "      <td>34.0</td>\n",
       "      <td>0.271</td>\n",
       "      <td>26</td>\n",
       "      <td>0</td>\n",
       "      <td>sa</td>\n",
       "      <td>(0.44629826764286107, 0.5537017323571389)</td>\n",
       "      <td>malalt</td>\n",
       "    </tr>\n",
       "    <tr>\n",
       "      <th>316</th>\n",
       "      <td>3</td>\n",
       "      <td>99</td>\n",
       "      <td>80</td>\n",
       "      <td>11</td>\n",
       "      <td>64</td>\n",
       "      <td>19.3</td>\n",
       "      <td>0.284</td>\n",
       "      <td>30</td>\n",
       "      <td>0</td>\n",
       "      <td>sa</td>\n",
       "      <td>(0.9911761515839266, 0.00882384841607346)</td>\n",
       "      <td>sa</td>\n",
       "    </tr>\n",
       "    <tr>\n",
       "      <th>199</th>\n",
       "      <td>4</td>\n",
       "      <td>148</td>\n",
       "      <td>60</td>\n",
       "      <td>27</td>\n",
       "      <td>318</td>\n",
       "      <td>30.9</td>\n",
       "      <td>0.150</td>\n",
       "      <td>29</td>\n",
       "      <td>1</td>\n",
       "      <td>malalt</td>\n",
       "      <td>(0.5811320427313371, 0.4188679572686629)</td>\n",
       "      <td>sa</td>\n",
       "    </tr>\n",
       "    <tr>\n",
       "      <th>473</th>\n",
       "      <td>7</td>\n",
       "      <td>136</td>\n",
       "      <td>90</td>\n",
       "      <td>0</td>\n",
       "      <td>0</td>\n",
       "      <td>29.9</td>\n",
       "      <td>0.210</td>\n",
       "      <td>50</td>\n",
       "      <td>0</td>\n",
       "      <td>sa</td>\n",
       "      <td>(0.32492842660814325, 0.6750715733918567)</td>\n",
       "      <td>malalt</td>\n",
       "    </tr>\n",
       "    <tr>\n",
       "      <th>418</th>\n",
       "      <td>1</td>\n",
       "      <td>83</td>\n",
       "      <td>68</td>\n",
       "      <td>0</td>\n",
       "      <td>0</td>\n",
       "      <td>18.2</td>\n",
       "      <td>0.624</td>\n",
       "      <td>27</td>\n",
       "      <td>0</td>\n",
       "      <td>sa</td>\n",
       "      <td>(0.9981957211958316, 0.0018042788041684142)</td>\n",
       "      <td>sa</td>\n",
       "    </tr>\n",
       "  </tbody>\n",
       "</table>\n",
       "</div>"
      ],
      "text/plain": [
       "     Pregnancies  Glucose  BloodPressure  SkinThickness  Insulin   BMI  \\\n",
       "40             3      180             64             25       70  34.0   \n",
       "316            3       99             80             11       64  19.3   \n",
       "199            4      148             60             27      318  30.9   \n",
       "473            7      136             90              0        0  29.9   \n",
       "418            1       83             68              0        0  18.2   \n",
       "\n",
       "     DiabetesPedigreeFunction  Age  Outcome  target  \\\n",
       "40                      0.271   26        0      sa   \n",
       "316                     0.284   30        0      sa   \n",
       "199                     0.150   29        1  malalt   \n",
       "473                     0.210   50        0      sa   \n",
       "418                     0.624   27        0      sa   \n",
       "\n",
       "                                       pred_soft pred_hard  \n",
       "40     (0.44629826764286107, 0.5537017323571389)    malalt  \n",
       "316    (0.9911761515839266, 0.00882384841607346)        sa  \n",
       "199     (0.5811320427313371, 0.4188679572686629)        sa  \n",
       "473    (0.32492842660814325, 0.6750715733918567)    malalt  \n",
       "418  (0.9981957211958316, 0.0018042788041684142)        sa  "
      ]
     },
     "execution_count": 21,
     "metadata": {},
     "output_type": "execute_result"
    }
   ],
   "source": [
    "Xtest.head(5)"
   ]
  },
  {
   "cell_type": "markdown",
   "id": "26ce9027",
   "metadata": {},
   "source": [
    "## Aquest model té la premisa de normalitzar les posteriors i les dues sumen 1. \n",
    "\n",
    "## La que és més gran guanya el hard prediction\n",
    "\n",
    "\n",
    "## Ara: \n",
    "- Predicció de que un positiu sigui positiu. \n",
    "- Si pasa del 0.5 és una cosa i sino una altre (\n",
    "|Nºmostres|P predits|N predits|recall|\n",
    "|-|-|-|-|\n",
    "|P reals|TP|FN|TP / (TP+FN)|\n",
    "|N reals|FP|TN|TN/(TN+FP)|\n",
    "|precisió|TP/(TP+FP)|TN/(TN+FN)|**Acc=**(TP+TN)/Nºmostres|"
   ]
  },
  {
   "cell_type": "markdown",
   "id": "0d4db000",
   "metadata": {},
   "source": [
    "#### ROC curve"
   ]
  },
  {
   "cell_type": "markdown",
   "id": "10f6848a",
   "metadata": {},
   "source": [
    "Ajuda a buscar el threshold que més interessa"
   ]
  },
  {
   "cell_type": "markdown",
   "id": "d9459e26",
   "metadata": {},
   "source": [
    "- the *standard* classification criterium is:\n",
    "    - **positive** when *probability_positive > probability_negative*, **negative** otherwise\n",
    "    - equivalent to considering a classification $threshold = 0.5$\n",
    "- ***the ROC curve depicts the relation between TPR and FPR for a classification threshold ranging from 0 to 1.***"
   ]
  },
  {
   "cell_type": "code",
   "execution_count": 22,
   "id": "d64e3309",
   "metadata": {},
   "outputs": [
    {
     "data": {
      "text/plain": [
       "array([0.  , 0.01, 0.02, 0.03, 0.04, 0.05, 0.06, 0.07, 0.08, 0.09, 0.1 ,\n",
       "       0.11, 0.12, 0.13, 0.14, 0.15, 0.16, 0.17, 0.18, 0.19, 0.2 , 0.21,\n",
       "       0.22, 0.23, 0.24, 0.25, 0.26, 0.27, 0.28, 0.29, 0.3 , 0.31, 0.32,\n",
       "       0.33, 0.34, 0.35, 0.36, 0.37, 0.38, 0.39, 0.4 , 0.41, 0.42, 0.43,\n",
       "       0.44, 0.45, 0.46, 0.47, 0.48, 0.49, 0.5 , 0.51, 0.52, 0.53, 0.54,\n",
       "       0.55, 0.56, 0.57, 0.58, 0.59, 0.6 , 0.61, 0.62, 0.63, 0.64, 0.65,\n",
       "       0.66, 0.67, 0.68, 0.69, 0.7 , 0.71, 0.72, 0.73, 0.74, 0.75, 0.76,\n",
       "       0.77, 0.78, 0.79, 0.8 , 0.81, 0.82, 0.83, 0.84, 0.85, 0.86, 0.87,\n",
       "       0.88, 0.89, 0.9 , 0.91, 0.92, 0.93, 0.94, 0.95, 0.96, 0.97, 0.98,\n",
       "       0.99, 1.  ])"
      ]
     },
     "execution_count": 22,
     "metadata": {},
     "output_type": "execute_result"
    }
   ],
   "source": [
    "np.linspace(0, 1, 101)"
   ]
  },
  {
   "cell_type": "code",
   "execution_count": 23,
   "id": "ab3ad4e0",
   "metadata": {},
   "outputs": [],
   "source": [
    "ROC = {}\n",
    "\n",
    "# Total positius i total negatius\n",
    "neg, pos = Xtest['Outcome'].value_counts()\n",
    "\n",
    "# Distribució de valors entre 0 i 1, ho partim entre 101 parts\n",
    "for thr in np.round(np.linspace(0, 1, 101), 2):\n",
    "    \n",
    "    # Per cada llindar/threahod, tpr són els estan malalts i la soft prediction està per sobre del threadhold\n",
    "    # La probabilitat de malalt és la segona. Està per sobre, per tant true positive, entra al true positive rate\n",
    "    # La probabilitat d'estar malalt està per sobre del threadhold, el contem i dividim pel total per saber el recall\n",
    "    # estan malalts i la predicció és més gran que el thread, és un true positive, esta a les esquerra de la barra.\n",
    "    tpr = Xtest[(Xtest['Outcome'] == 1) & (Xtest['pred_soft'].apply(lambda x: x[1] > thr))].Outcome.count() /pos\n",
    "    \n",
    "    # Dels que estan sans, els que estem predin com a malalts. Son sans pero la meva predicció esta per sobre el threadhold\n",
    "    # Per tant ho contem com a malalt. \n",
    "    # Els fp, false positive, els que estan sans (0) però amb la condició de que sigui sa que la probabilitat d'estar malalt\n",
    "    # està per sobre.\n",
    "    fpr = Xtest[(Xtest['Outcome'] == 0) & (Xtest['pred_soft'].apply(lambda x: x[1] > thr))].Outcome.count() /neg\n",
    "    \n",
    "    # clau threahold: tpr i fpr com a valor\n",
    "    ROC[thr] = {'tpr': tpr, 'fpr': fpr}"
   ]
  },
  {
   "cell_type": "code",
   "execution_count": 24,
   "id": "0e1c66f7",
   "metadata": {},
   "outputs": [
    {
     "data": {
      "text/plain": [
       "0    100\n",
       "1     54\n",
       "Name: Outcome, dtype: int64"
      ]
     },
     "execution_count": 24,
     "metadata": {},
     "output_type": "execute_result"
    }
   ],
   "source": [
    "counts = Xtest['Outcome'].value_counts()\n",
    "counts"
   ]
  },
  {
   "cell_type": "code",
   "execution_count": 25,
   "id": "0f20de4f",
   "metadata": {},
   "outputs": [
    {
     "data": {
      "text/plain": [
       "54"
      ]
     },
     "execution_count": 25,
     "metadata": {},
     "output_type": "execute_result"
    }
   ],
   "source": [
    "counts[1]"
   ]
  },
  {
   "cell_type": "code",
   "execution_count": 26,
   "id": "7c55c776",
   "metadata": {},
   "outputs": [
    {
     "data": {
      "text/html": [
       "<div>\n",
       "<style scoped>\n",
       "    .dataframe tbody tr th:only-of-type {\n",
       "        vertical-align: middle;\n",
       "    }\n",
       "\n",
       "    .dataframe tbody tr th {\n",
       "        vertical-align: top;\n",
       "    }\n",
       "\n",
       "    .dataframe thead th {\n",
       "        text-align: right;\n",
       "    }\n",
       "</style>\n",
       "<table border=\"1\" class=\"dataframe\">\n",
       "  <thead>\n",
       "    <tr style=\"text-align: right;\">\n",
       "      <th></th>\n",
       "      <th>Pregnancies</th>\n",
       "      <th>Glucose</th>\n",
       "      <th>BloodPressure</th>\n",
       "      <th>SkinThickness</th>\n",
       "      <th>Insulin</th>\n",
       "      <th>BMI</th>\n",
       "      <th>DiabetesPedigreeFunction</th>\n",
       "      <th>Age</th>\n",
       "      <th>Outcome</th>\n",
       "      <th>target</th>\n",
       "      <th>pred_soft</th>\n",
       "      <th>pred_hard</th>\n",
       "    </tr>\n",
       "  </thead>\n",
       "  <tbody>\n",
       "    <tr>\n",
       "      <th>199</th>\n",
       "      <td>4</td>\n",
       "      <td>148</td>\n",
       "      <td>60</td>\n",
       "      <td>27</td>\n",
       "      <td>318</td>\n",
       "      <td>30.9</td>\n",
       "      <td>0.150</td>\n",
       "      <td>29</td>\n",
       "      <td>1</td>\n",
       "      <td>malalt</td>\n",
       "      <td>(0.5811320427313371, 0.4188679572686629)</td>\n",
       "      <td>sa</td>\n",
       "    </tr>\n",
       "    <tr>\n",
       "      <th>322</th>\n",
       "      <td>0</td>\n",
       "      <td>124</td>\n",
       "      <td>70</td>\n",
       "      <td>20</td>\n",
       "      <td>0</td>\n",
       "      <td>27.4</td>\n",
       "      <td>0.254</td>\n",
       "      <td>36</td>\n",
       "      <td>1</td>\n",
       "      <td>malalt</td>\n",
       "      <td>(0.9240723332320562, 0.07592766676794374)</td>\n",
       "      <td>sa</td>\n",
       "    </tr>\n",
       "  </tbody>\n",
       "</table>\n",
       "</div>"
      ],
      "text/plain": [
       "     Pregnancies  Glucose  BloodPressure  SkinThickness  Insulin   BMI  \\\n",
       "199            4      148             60             27      318  30.9   \n",
       "322            0      124             70             20        0  27.4   \n",
       "\n",
       "     DiabetesPedigreeFunction  Age  Outcome  target  \\\n",
       "199                     0.150   29        1  malalt   \n",
       "322                     0.254   36        1  malalt   \n",
       "\n",
       "                                     pred_soft pred_hard  \n",
       "199   (0.5811320427313371, 0.4188679572686629)        sa  \n",
       "322  (0.9240723332320562, 0.07592766676794374)        sa  "
      ]
     },
     "execution_count": 26,
     "metadata": {},
     "output_type": "execute_result"
    }
   ],
   "source": [
    "# Els malalts / positius\n",
    "Xtest[(Xtest['Outcome'] == 1)].head(2)"
   ]
  },
  {
   "cell_type": "code",
   "execution_count": 27,
   "id": "ed69b2d9",
   "metadata": {},
   "outputs": [
    {
     "data": {
      "text/html": [
       "<div>\n",
       "<style scoped>\n",
       "    .dataframe tbody tr th:only-of-type {\n",
       "        vertical-align: middle;\n",
       "    }\n",
       "\n",
       "    .dataframe tbody tr th {\n",
       "        vertical-align: top;\n",
       "    }\n",
       "\n",
       "    .dataframe thead th {\n",
       "        text-align: right;\n",
       "    }\n",
       "</style>\n",
       "<table border=\"1\" class=\"dataframe\">\n",
       "  <thead>\n",
       "    <tr style=\"text-align: right;\">\n",
       "      <th></th>\n",
       "      <th>Pregnancies</th>\n",
       "      <th>Glucose</th>\n",
       "      <th>BloodPressure</th>\n",
       "      <th>SkinThickness</th>\n",
       "      <th>Insulin</th>\n",
       "      <th>BMI</th>\n",
       "      <th>DiabetesPedigreeFunction</th>\n",
       "      <th>Age</th>\n",
       "      <th>Outcome</th>\n",
       "      <th>target</th>\n",
       "      <th>pred_soft</th>\n",
       "      <th>pred_hard</th>\n",
       "      <th>prova</th>\n",
       "    </tr>\n",
       "  </thead>\n",
       "  <tbody>\n",
       "    <tr>\n",
       "      <th>40</th>\n",
       "      <td>3</td>\n",
       "      <td>180</td>\n",
       "      <td>64</td>\n",
       "      <td>25</td>\n",
       "      <td>70</td>\n",
       "      <td>34.0</td>\n",
       "      <td>0.271</td>\n",
       "      <td>26</td>\n",
       "      <td>0</td>\n",
       "      <td>sa</td>\n",
       "      <td>(0.44629826764286107, 0.5537017323571389)</td>\n",
       "      <td>malalt</td>\n",
       "      <td>False</td>\n",
       "    </tr>\n",
       "    <tr>\n",
       "      <th>316</th>\n",
       "      <td>3</td>\n",
       "      <td>99</td>\n",
       "      <td>80</td>\n",
       "      <td>11</td>\n",
       "      <td>64</td>\n",
       "      <td>19.3</td>\n",
       "      <td>0.284</td>\n",
       "      <td>30</td>\n",
       "      <td>0</td>\n",
       "      <td>sa</td>\n",
       "      <td>(0.9911761515839266, 0.00882384841607346)</td>\n",
       "      <td>sa</td>\n",
       "      <td>False</td>\n",
       "    </tr>\n",
       "  </tbody>\n",
       "</table>\n",
       "</div>"
      ],
      "text/plain": [
       "     Pregnancies  Glucose  BloodPressure  SkinThickness  Insulin   BMI  \\\n",
       "40             3      180             64             25       70  34.0   \n",
       "316            3       99             80             11       64  19.3   \n",
       "\n",
       "     DiabetesPedigreeFunction  Age  Outcome target  \\\n",
       "40                      0.271   26        0     sa   \n",
       "316                     0.284   30        0     sa   \n",
       "\n",
       "                                     pred_soft pred_hard  prova  \n",
       "40   (0.44629826764286107, 0.5537017323571389)    malalt  False  \n",
       "316  (0.9911761515839266, 0.00882384841607346)        sa  False  "
      ]
     },
     "execution_count": 27,
     "metadata": {},
     "output_type": "execute_result"
    }
   ],
   "source": [
    "# Els que la seva soft pred és més gran que el thr\n",
    "def prova(cell_row):\n",
    "    condition = cell_row[1] > thr\n",
    "    # o al return fer-ho entre () pq sinó nomès retorna lo primer.\n",
    "    return condition\n",
    "\n",
    "Xtest['prova'] = Xtest['pred_soft'].apply(prova)\n",
    "Xtest.head(2)"
   ]
  },
  {
   "cell_type": "code",
   "execution_count": 28,
   "id": "b836e963",
   "metadata": {},
   "outputs": [
    {
     "data": {
      "text/html": [
       "<div>\n",
       "<style scoped>\n",
       "    .dataframe tbody tr th:only-of-type {\n",
       "        vertical-align: middle;\n",
       "    }\n",
       "\n",
       "    .dataframe tbody tr th {\n",
       "        vertical-align: top;\n",
       "    }\n",
       "\n",
       "    .dataframe thead th {\n",
       "        text-align: right;\n",
       "    }\n",
       "</style>\n",
       "<table border=\"1\" class=\"dataframe\">\n",
       "  <thead>\n",
       "    <tr style=\"text-align: right;\">\n",
       "      <th></th>\n",
       "      <th>Pregnancies</th>\n",
       "      <th>Glucose</th>\n",
       "      <th>BloodPressure</th>\n",
       "      <th>SkinThickness</th>\n",
       "      <th>Insulin</th>\n",
       "      <th>BMI</th>\n",
       "      <th>DiabetesPedigreeFunction</th>\n",
       "      <th>Age</th>\n",
       "      <th>Outcome</th>\n",
       "      <th>target</th>\n",
       "      <th>pred_soft</th>\n",
       "      <th>pred_hard</th>\n",
       "      <th>prova</th>\n",
       "    </tr>\n",
       "  </thead>\n",
       "  <tbody>\n",
       "  </tbody>\n",
       "</table>\n",
       "</div>"
      ],
      "text/plain": [
       "Empty DataFrame\n",
       "Columns: [Pregnancies, Glucose, BloodPressure, SkinThickness, Insulin, BMI, DiabetesPedigreeFunction, Age, Outcome, target, pred_soft, pred_hard, prova]\n",
       "Index: []"
      ]
     },
     "execution_count": 28,
     "metadata": {},
     "output_type": "execute_result"
    }
   ],
   "source": [
    "Xtest[Xtest['pred_soft'].apply(lambda x: x[1] > thr)].head(2)"
   ]
  },
  {
   "cell_type": "code",
   "execution_count": 29,
   "id": "a4d36f14",
   "metadata": {},
   "outputs": [
    {
     "data": {
      "text/plain": [
       "0.0"
      ]
     },
     "execution_count": 29,
     "metadata": {},
     "output_type": "execute_result"
    }
   ],
   "source": [
    "# Mirem els de la columna outcome i dividim pel total\n",
    "Xtest[(Xtest['Outcome'] == 1) & (Xtest['pred_soft'].apply(lambda x: x[1] > thr))].Outcome.count() /pos"
   ]
  },
  {
   "cell_type": "markdown",
   "id": "a5ff14f1",
   "metadata": {},
   "source": [
    "**En aquest codi:**\n",
    "\n",
    "- El TPR, calcula els predits bé respecte tots els reals que teniem. \n",
    "    - Agafem tots els malalts que passen el filtre de malalt (true positive)\n",
    "        - tots els malalts &rarr; (Xtest['Outcome'] == 1)\n",
    "        - que passen el filtre de malalt &rarr; la soft_pred a la posició 1 és més gran que el thr = Xtest['pred_soft'].apply(lambda x: x[1] > thr))\n",
    "        - valors soft_pred &rarr; ((% d'estar sa), (% d'estar malalt))\n",
    "    - Contem quants n'hi ha d'aquests (seríen TP &rarr; true positive) respecte el total de positius (malalts) que tenim (tots) &rarr; per això fa el count de dalt, on ha mirat quants realment estaben malalts. \n",
    "<br />\n",
    "<br />\n",
    "- El FPR: calcula la proporció que hem predit com a positiu però són negatius &rarr; Predit Pos pero era Neg / Tots els Neg\n",
    "    - Agafem tots els positius que passen el filtre de malalt (fals positiu)\n",
    "        - totls els sans &rarr; (Xtest['Outcome'] == 0)\n",
    "        - que passen el filtre (thr) per ser malalt (positius) &rarr; (Xtest['pred_soft'].apply(lambda x: x[1] > thr))\n",
    "    - Després igual que l'altre, els contem tots i ho dividim per els negatius en aquest cas."
   ]
  },
  {
   "cell_type": "code",
   "execution_count": 30,
   "id": "7be22b97",
   "metadata": {},
   "outputs": [],
   "source": [
    "fpr = Xtest[(Xtest['Outcome'] == 0) & (Xtest['pred_soft'].apply(lambda x: x[1] > thr))].Outcome.count() /neg"
   ]
  },
  {
   "cell_type": "code",
   "execution_count": 31,
   "id": "e67144b9",
   "metadata": {},
   "outputs": [
    {
     "data": {
      "text/plain": [
       "{'tpr': 0.6481481481481481, 'fpr': 0.16}"
      ]
     },
     "execution_count": 31,
     "metadata": {},
     "output_type": "execute_result"
    }
   ],
   "source": [
    "ROC[0.50]"
   ]
  },
  {
   "cell_type": "markdown",
   "id": "79350210",
   "metadata": {},
   "source": [
    "- these results match with the confusion matrix"
   ]
  },
  {
   "cell_type": "markdown",
   "id": "9e22ec85",
   "metadata": {},
   "source": [
    "##### plot the ROC curve"
   ]
  },
  {
   "cell_type": "code",
   "execution_count": 32,
   "id": "9c771e9e",
   "metadata": {},
   "outputs": [],
   "source": [
    "def plotROC(ROC, thr, axs):\n",
    "    # plot fpr, tpr series\n",
    "    tpr, fpr = [val['tpr'] for key, val in ROC.items()], [val['fpr'] for key, val in ROC.items()]\n",
    "    axs.plot(fpr, tpr)\n",
    "    # show threshold lines\n",
    "    tpr_thr, fpr_thr = ROC[thr]['tpr'], ROC[thr]['fpr']\n",
    "    axs.plot((fpr_thr, fpr_thr), (0, tpr_thr), '--r', linewidth = 0.8)\n",
    "    axs.plot((0, fpr_thr), (tpr_thr, tpr_thr), '--r', linewidth = 0.8)\n",
    "    axs.text(0.0, (tpr_thr +0.02), 'tpr: %4.2f' %tpr_thr, c = 'r', fontsize = 'x-small')\n",
    "    axs.text((fpr_thr +0.02), 0.0, 'fpr: %4.2f' %fpr_thr, c = 'r', fontsize = 'x-small')\n",
    "    # plot diagonal (AUC = 0.5)\n",
    "    axs.plot((0.0, 1.0), (0.0, 1.0), '--k', linewidth = 0.8);"
   ]
  },
  {
   "cell_type": "code",
   "execution_count": 33,
   "id": "b503c4db",
   "metadata": {},
   "outputs": [
    {
     "data": {
      "image/png": "[encoded data removed]",
      "text/plain": [
       "<Figure size 500x500 with 1 Axes>"
      ]
     },
     "metadata": {},
     "output_type": "display_data"
    }
   ],
   "source": [
    "fig, axs = plt.subplots(figsize = (5, 5))\n",
    "plotROC(ROC, 0.50, axs)"
   ]
  },
  {
   "cell_type": "markdown",
   "id": "fe2c3f2c",
   "metadata": {},
   "source": [
    "Per buscar el thr més proper al punt (0,1), hauríem de fer algo així: \n",
    "- Iterar per tots els valors del diccionary ROC i el que el seu parell de valors tpr i fpr, que representen un punt en l'espai\n",
    "- El que tingui el modul de la resta dels dos punts / vectores desde el (0,0) més petit, serà el guanyador. Ens quedarem\n",
    "- Amb la seva key que es thr.\n",
    "- Per restar els dos punts/vectors, ho fem component a component i per fer el modul, fem servir el teorema de pitagores d'aquestes coordenadess\n",
    "- Si son vectors, sería respecte l'origen (0,0), llavors, podem fer la operació (resta) directament amb els punts"
   ]
  },
  {
   "cell_type": "code",
   "execution_count": 34,
   "id": "9c2cf4d1",
   "metadata": {},
   "outputs": [
    {
     "data": {
      "text/plain": [
       "(0.26,\n",
       " 0.3431876713662333,\n",
       " {'tpr': 0.8333333333333334, 'fpr': 0.3, 'dist': 0.3431876713662333})"
      ]
     },
     "execution_count": 34,
     "metadata": {},
     "output_type": "execute_result"
    }
   ],
   "source": [
    "# punt de dalt a la esquerre:\n",
    "U = np.array([0, 1])\n",
    "\n",
    "# Inicialitzem el mínim amb un punt que sería el primer element (un qualsevol)\n",
    "better_thr = 0\n",
    "V = np.array([ROC[0]['fpr'], ROC[0]['tpr']])\n",
    "d_min = np.sqrt(np.sum((U -V)**2))\n",
    "\n",
    "for key, value in ROC.items():\n",
    "    V = np.array([value['fpr'], value['tpr']])\n",
    "    d_uv = np.sqrt(np.sum((U -V)**2))\n",
    "    ROC[key]['dist'] = d_uv\n",
    "    \n",
    "    if d_uv < d_min: \n",
    "        d_min = d_uv\n",
    "        better_thr = key\n",
    "        \n",
    "better_thr, d_min, ROC[0.26]"
   ]
  },
  {
   "cell_type": "markdown",
   "id": "33778317",
   "metadata": {},
   "source": [
    "```python\n",
    "distances = {\n",
    "    key : \n",
    "    {\n",
    "        'fpr': value['fpr'],\n",
    "        'tpr': value['tpr'], \n",
    "        'dist': np.sqrt(np.sum((O - np.array([value['fpr'], value['tpr']]))**2))\n",
    "    }\n",
    "    \n",
    "    for key, value in ROC.items()\n",
    "}\n",
    "\n",
    "```"
   ]
  },
  {
   "cell_type": "code",
   "execution_count": 53,
   "id": "acfb263e",
   "metadata": {},
   "outputs": [
    {
     "data": {
      "text/plain": [
       "(0.26, {'fpr': 0.3, 'tpr': 0.8333333333333334, 'dist': 0.3431876713662333})"
      ]
     },
     "execution_count": 53,
     "metadata": {},
     "output_type": "execute_result"
    }
   ],
   "source": [
    "# better thr: \n",
    "# Punto de la esquina superior izquierda\n",
    "O = np.array([0, 1])\n",
    "\n",
    "# Utilizando dict comprehension\n",
    "distances = {key: {'fpr': value['fpr'], 'tpr': value['tpr'], 'dist': np.sqrt(np.sum((O - np.array([value['fpr'], value['tpr']]))**2))} for key, value in ROC.items()}\n",
    "\n",
    "min_item = min(distances.items(), key=lambda x: x[1]['dist'])\n",
    "min_item"
   ]
  },
  {
   "cell_type": "code",
   "execution_count": 56,
   "id": "72cd5ae4",
   "metadata": {},
   "outputs": [
    {
     "data": {
      "text/plain": [
       "0.26"
      ]
     },
     "execution_count": 56,
     "metadata": {},
     "output_type": "execute_result"
    }
   ],
   "source": [
    "min({key: {'fpr': value['fpr'], 'tpr': value['tpr'], 'dist': np.sqrt(np.sum((O - np.array([value['fpr'], value['tpr']]))**2))} for key, value in ROC.items()}.items(), key=lambda x: x[1]['dist'])[0]"
   ]
  },
  {
   "cell_type": "code",
   "execution_count": 54,
   "id": "3aaf8ae6",
   "metadata": {},
   "outputs": [
    {
     "data": {
      "text/plain": [
       "(0.26,\n",
       " 0.3431876713662333,\n",
       " {'tpr': 0.8333333333333334, 'fpr': 0.3, 'dist': 0.3431876713662333})"
      ]
     },
     "execution_count": 54,
     "metadata": {},
     "output_type": "execute_result"
    }
   ],
   "source": [
    "better_thr = min_item[0]\n",
    "min_distance = min_item[1]['dist']\n",
    "\n",
    "better_thr, min_distance, ROC[better_thr]"
   ]
  },
  {
   "cell_type": "code",
   "execution_count": 37,
   "id": "b8fdc3ab",
   "metadata": {},
   "outputs": [
    {
     "data": {
      "text/plain": [
       "{'fpr': 0.3, 'tpr': 0.8333333333333334, 'dist': 0.3431876713662333}"
      ]
     },
     "execution_count": 37,
     "metadata": {},
     "output_type": "execute_result"
    }
   ],
   "source": [
    "distances[0.26]"
   ]
  },
  {
   "cell_type": "code",
   "execution_count": 38,
   "id": "c5f98c5c",
   "metadata": {},
   "outputs": [],
   "source": [
    "def plotROC_dist(ROC, axs):\n",
    "    # plot fpr, tpr series\n",
    "    tpr, fpr = [val['tpr'] for key, val in ROC.items()], [val['fpr'] for key, val in ROC.items()]\n",
    "    axs.plot(fpr, tpr)\n",
    "    # plot diagonal (AUC = 0.5)\n",
    "    axs.plot((0.0, 1.0), (0.0, 1.0), '--k', linewidth = 0.8);\n",
    "    # distances\n",
    "    ROC_list = [(value['fpr'], value['tpr'], value['dist']) for key, value in ROC.items()]\n",
    "    for point in ROC_list:\n",
    "        axs.plot([0, point[0]], [1, point[1]], '--', linewidth=0.5, color= 'red' if point[2] == d_min else 'yellow')"
   ]
  },
  {
   "cell_type": "code",
   "execution_count": 39,
   "id": "6c91e701",
   "metadata": {},
   "outputs": [
    {
     "data": {
      "image/png": "[encoded data removed]",
      "text/plain": [
       "<Figure size 500x500 with 1 Axes>"
      ]
     },
     "metadata": {},
     "output_type": "display_data"
    }
   ],
   "source": [
    "fig, axs = plt.subplots(figsize = (5, 5))\n",
    "plotROC_dist(ROC, axs)"
   ]
  },
  {
   "cell_type": "markdown",
   "id": "88e74b2f",
   "metadata": {},
   "source": [
    "el threahold és nomès una etiqueta que porta els altres dos i ens serveix per pintar la corba (la corba és el conjunt de punts formats d'evaluar el thr a diferents punts, com hem fet a dalt). "
   ]
  },
  {
   "cell_type": "markdown",
   "id": "0eb0ee1b",
   "metadata": {},
   "source": [
    "- threshold = 0 sería a dalt a la dreta de la recta diagonal. Un model que asigna 50% de ser un o de ser l'altre. Els rates valen 1 (false positive rate i l'altre). Perque la linia del mig de la confuxion matrix va a la dreta del tot. Ho començem a tirar-ho cap a la esquerre (del mig de la confusion matrix). Anem baixant per la linia diagonal del mig. \n",
    "- a poc que faci bé el model, lu logic es que passin més de true positive que false positive.\n",
    "- qualsevol model que tinguem si calculem els true/false rate, si l'evaluem per diferents threshold, obtindrem punts que estiguin per sobre la diagonal.\n",
    "- com més cap a la esquerre, millor ho està fent. \n",
    "- com millor model, més la curva tira cap a dalt a les esquerre, a mida que pujem el thread el true positive rate es mante bé. i el false positive rate.\n",
    "- La curva presenta parells de valors per diferents threadholds, un punt de la corva té el fpr i tpr, per threadhold 0, és el valor que fa que surti a dalt a la dreta. \n",
    "- fixa threadhold 0, 0.1, 0.2 ... 1 (amb el pas que vulguis) 0 surt a dalt a la dreta i 1 a baix a la esquerre\n",
    "- tenim les soft predictions\n",
    "- mirem quan una observacio és tp a fn i de fp a tn\n",
    "- calculem els tpr i fpr (valors de dalt) true false positive rate\n",
    "- això ens va donant dues coordenades, x i y\n",
    "- En comptes d'afaborir el recall volem afaborir la presicio, aniriem a recalls molt alts, cada cop que es positiu ho hes de debor (no ens equivoquem) diferent del altre. \n",
    "- per test covid\n",
    "- presicio implica que cada vegada que dius que ho està realment ho està\n",
    "- no vol dir que cada vegada que ho digui ho estiguis\n",
    "- si ens hem d'equivocar, que és millor, \n",
    "- recall millor, si s'ha d'equivocar, que ho faci diguent que té covid quan en ralitat no ho té\n",
    "- el baixariem per sota del 0.5 pq predis amb més probabilitat els que ho estan (recoll)\n",
    "- dd\n",
    "- quin threadhold ens quedem?\n",
    "- un punt intermig, el punt que està més a prop de la cantonada de dalt a la esquerre. n'hi ha dos.\n",
    "- dd\n",
    "- On té més cost equivocar-se? per tirar la ralla cap a la dreta o esquerre. "
   ]
  },
  {
   "cell_type": "markdown",
   "id": "f7e2557c",
   "metadata": {},
   "source": [
    "### what if we consider a different threshold?"
   ]
  },
  {
   "cell_type": "markdown",
   "id": "ddbd7890",
   "metadata": {},
   "source": [
    "#### Case 1. increase the recall of our model (decrease the  number of FN)"
   ]
  },
  {
   "cell_type": "markdown",
   "id": "f5cc9c8f",
   "metadata": {},
   "source": [
    "- in the case of a diagnostic model even a moderate *false negative rate* $\\text{FNR}=\\text{FN}\\,/\\,\\text{P}$ may not be admissible\n",
    "- we can chose whatever threshold below 0.50 to increase the *TPR* and reduce the *FNR*\n",
    "- ***the consequence of increasing the TPR is an increase also in the FPR ***"
   ]
  },
  {
   "cell_type": "markdown",
   "id": "dd32bf13",
   "metadata": {},
   "source": [
    "##### example: compute the confusion matrix for threshold = 0.50, 0.40, 0.30"
   ]
  },
  {
   "cell_type": "markdown",
   "id": "936b3880",
   "metadata": {},
   "source": [
    "- Calculem tres thr i calcules les prediccions. \n",
    "- Mirem que la probabilitat de malalt més alta que el thr, mirem, van del 0 a la dreta al 1 a la dreta. \n",
    "- "
   ]
  },
  {
   "cell_type": "code",
   "execution_count": 40,
   "id": "9a48feb3",
   "metadata": {},
   "outputs": [
    {
     "data": {
      "image/png": "[encoded data removed]",
      "text/plain": [
       "<Figure size 1300x800 with 6 Axes>"
      ]
     },
     "metadata": {},
     "output_type": "display_data"
    }
   ],
   "source": [
    "fig, axs = plt.subplots(2, 3, figsize = (13, 8))\n",
    "for i, thr in enumerate([0.50, 0.40, 0.30]):\n",
    "    # hard predictions with new threshold\n",
    "    pred_thr = Xtest['pred_soft'].apply(lambda x: 'malalt' if x[1] > thr else 'sa')\n",
    "    # confusion matrix with new threshold\n",
    "    ConfusionMatrixDisplay.from_predictions(\n",
    "        Xtest.target,\n",
    "        pred_thr,\n",
    "        normalize = None,\n",
    "        ax = axs[0, i],\n",
    "        cmap = 'GnBu',\n",
    "        colorbar = False)\n",
    "    axs[1, i].set_title('thr.%4.2f, fnr.%4.2f, fpr.%4.2f' %(thr, (1 -ROC[thr]['tpr']), ROC[thr]['fpr']))\n",
    "    # ROC curve\n",
    "    plotROC(ROC, thr, axs[1, i])\n",
    "plt.tight_layout();"
   ]
  },
  {
   "cell_type": "markdown",
   "id": "070760dd",
   "metadata": {},
   "source": [
    "#### Case 2. increase the precision of our model (decrease the number of FP)"
   ]
  },
  {
   "cell_type": "markdown",
   "id": "e2646fc2",
   "metadata": {},
   "source": [
    "- if our interest were to decrease the FPR we can increase the threshold\n",
    "- consequently the FNR will increase"
   ]
  },
  {
   "cell_type": "markdown",
   "id": "c8c8cd62",
   "metadata": {},
   "source": [
    "El cos fort el tenim en el false positive. Com per exemple en el cas del mosquit tigre, qeu classifica les imatges i el model busca l'especie de la imatge i enviem un sms gracies per la imatge, el mosquit identificat és aquest. resulta que la imatge és un cul xd, gracies jajaja. la reputació baixa, volem un model amb molta presició, en tot cas si no pot identificar amb prou presició, que digui: no he pogut abans que jugarse-la a dir algo, models en que interesa ser precís. no intersesa falsos positius. "
   ]
  },
  {
   "cell_type": "markdown",
   "id": "872333a0",
   "metadata": {},
   "source": [
    "Si es un positiu i no l'hem detectat, tots passen per una revisió humana. Cada imatge que valida sigui bona. Segur que no hi ha un mosquit. aixo es mosquit 99% no cal. "
   ]
  },
  {
   "cell_type": "markdown",
   "id": "70450e9c",
   "metadata": {},
   "source": [
    "Moltes no podem classificar, es igual, ja s'ho miraran els experts"
   ]
  },
  {
   "cell_type": "markdown",
   "id": "a1de87d8",
   "metadata": {},
   "source": [
    "##### example"
   ]
  },
  {
   "cell_type": "code",
   "execution_count": 41,
   "id": "e81123b7",
   "metadata": {},
   "outputs": [
    {
     "data": {
      "image/png": "[encoded data removed]",
      "text/plain": [
       "<Figure size 1300x800 with 6 Axes>"
      ]
     },
     "metadata": {},
     "output_type": "display_data"
    }
   ],
   "source": [
    "fig, axs = plt.subplots(2, 3, figsize = (13, 8))\n",
    "for i, thr in enumerate([0.50, 0.60, 0.71]):\n",
    "    # hard predictions with new threshold\n",
    "    pred_thr = Xtest['pred_soft'].apply(lambda x: 'malalt' if x[1] > thr else 'sa')\n",
    "    # confusion matrix with new threshold\n",
    "    ConfusionMatrixDisplay.from_predictions(\n",
    "        Xtest.target,\n",
    "        pred_thr,\n",
    "        normalize = None,\n",
    "        ax = axs[0, i],\n",
    "        cmap = 'GnBu',\n",
    "        colorbar = False)\n",
    "    axs[1, i].set_title('thr.%4.2f, fnr.%4.2f, fpr.%4.2f' %(thr, (1 -ROC[thr]['tpr']), ROC[thr]['fpr']))\n",
    "    # ROC curve\n",
    "    plotROC(ROC, thr, axs[1, i])\n",
    "plt.tight_layout();"
   ]
  },
  {
   "cell_type": "markdown",
   "id": "159ef0a8",
   "metadata": {},
   "source": [
    "El recall baixa però els falsos positius baixen gairabé a zero. "
   ]
  },
  {
   "cell_type": "markdown",
   "id": "59725cf8",
   "metadata": {},
   "source": [
    "Aquí el punt més proper no és el millor"
   ]
  },
  {
   "cell_type": "markdown",
   "id": "372ba0ef",
   "metadata": {},
   "source": [
    "Això depen de la interpretació del cost de fer l'error. "
   ]
  },
  {
   "cell_type": "markdown",
   "id": "c926621c",
   "metadata": {},
   "source": [
    "el thr optim que s'acosta a la punta, seria en el cas que els costos siguin equivalents. Inclus quan els costos siguin iguals, el 0.5 no és la millor opció. true positve rate alt cap a la dreta false negative rate baix cap a la esquerre."
   ]
  },
  {
   "cell_type": "markdown",
   "id": "bf3c2b93",
   "metadata": {},
   "source": [
    "Si sumes els de la diagonal invertida siguin els minims, minimitza l'error. Potser si el dataset estigues 50% sería així. Podem tenir una variable que biaixa les dades cap a un lloc. "
   ]
  },
  {
   "cell_type": "markdown",
   "id": "fed9ae8f",
   "metadata": {},
   "source": [
    "Dir que algo que té 30% de ser blanc dir-ho, ens pot ajudar perque potser que el dataset com estigui construit nomès representa una part de la realitat."
   ]
  },
  {
   "cell_type": "markdown",
   "id": "2dcf7a4e",
   "metadata": {},
   "source": [
    "### using scikit-learn metrics module"
   ]
  },
  {
   "cell_type": "code",
   "execution_count": 42,
   "id": "2c5e7782",
   "metadata": {},
   "outputs": [],
   "source": [
    "from sklearn.metrics import roc_curve, auc, RocCurveDisplay"
   ]
  },
  {
   "cell_type": "code",
   "execution_count": 43,
   "id": "09f7407f",
   "metadata": {},
   "outputs": [],
   "source": [
    "FPR, TPR, thresholds = roc_curve(Xtest['Outcome'], Xtest['pred_soft'].apply(lambda x: x[1]), pos_label = 1)"
   ]
  },
  {
   "cell_type": "markdown",
   "id": "c3ff7ae8",
   "metadata": {},
   "source": [
    "##### plot ROC using our plotRoc() function"
   ]
  },
  {
   "cell_type": "code",
   "execution_count": 44,
   "id": "2957b43d",
   "metadata": {},
   "outputs": [],
   "source": [
    "roc = {np.round(thr, 4): {'fpr': fpr, 'tpr': tpr} for thr, fpr, tpr in zip(thresholds, FPR, TPR)}"
   ]
  },
  {
   "cell_type": "code",
   "execution_count": 45,
   "id": "6c4112d7",
   "metadata": {},
   "outputs": [
    {
     "data": {
      "text/plain": [
       "(0.5044, {'fpr': 0.16, 'tpr': 0.6481481481481481})"
      ]
     },
     "execution_count": 45,
     "metadata": {},
     "output_type": "execute_result"
    }
   ],
   "source": [
    "thr50 = [thr for thr in roc.keys() if thr > .50][-1]\n",
    "thr50, roc[thr50]"
   ]
  },
  {
   "cell_type": "code",
   "execution_count": 46,
   "id": "8c3395c8",
   "metadata": {},
   "outputs": [
    {
     "data": {
      "image/png": "[encoded data removed]",
      "text/plain": [
       "<Figure size 500x500 with 1 Axes>"
      ]
     },
     "metadata": {},
     "output_type": "display_data"
    }
   ],
   "source": [
    "fig, axs = plt.subplots(figsize = (5, 5))\n",
    "plotROC(roc, 0.5044, axs)"
   ]
  },
  {
   "cell_type": "markdown",
   "id": "d5226f5c",
   "metadata": {},
   "source": [
    "#### area-under-the-curve (AUC)\n",
    "- AUC is another global measure of performance that takes into account the whole range of thresholds\n",
    "- $0\\le AUC\\le 1$; 0 meaning a random model and 1 meaning a perfect model"
   ]
  },
  {
   "cell_type": "code",
   "execution_count": 47,
   "id": "0bd2f7d9",
   "metadata": {},
   "outputs": [
    {
     "data": {
      "text/plain": [
       "0.8311111111111111"
      ]
     },
     "execution_count": 47,
     "metadata": {},
     "output_type": "execute_result"
    }
   ],
   "source": [
    "roc_auc = auc(FPR, TPR)\n",
    "roc_auc"
   ]
  },
  {
   "cell_type": "markdown",
   "id": "c7e185c5",
   "metadata": {},
   "source": [
    "##### plot ROC using sklearn.metrics.RocCurveDisplay()"
   ]
  },
  {
   "cell_type": "code",
   "execution_count": 48,
   "id": "31ec65e0",
   "metadata": {},
   "outputs": [
    {
     "data": {
      "image/png": "[encoded data removed]",
      "text/plain": [
       "<Figure size 640x480 with 1 Axes>"
      ]
     },
     "metadata": {},
     "output_type": "display_data"
    }
   ],
   "source": [
    "RocCurveDisplay(fpr = FPR, tpr = TPR, roc_auc = roc_auc).plot()\n",
    "plt.plot([0, 1], [0, 1], \"k--\", linewidth = 0.8, label = \"chance level (AUC = 0.5)\")\n",
    "plt.axis(\"square\")\n",
    "plt.legend();"
   ]
  },
  {
   "cell_type": "markdown",
   "id": "b21c62bc",
   "metadata": {},
   "source": [
    "### Precision-Recall curves"
   ]
  },
  {
   "cell_type": "code",
   "execution_count": 49,
   "id": "3a5df0ad",
   "metadata": {},
   "outputs": [],
   "source": [
    "from sklearn.metrics import precision_recall_curve, PrecisionRecallDisplay"
   ]
  },
  {
   "cell_type": "code",
   "execution_count": 50,
   "id": "46351d9f",
   "metadata": {},
   "outputs": [],
   "source": [
    "prc, rec, thr = precision_recall_curve(Xtest['Outcome'], Xtest['pred_soft'].apply(lambda x: x[1]), pos_label = 1)"
   ]
  },
  {
   "cell_type": "code",
   "execution_count": 51,
   "id": "b806c5f2",
   "metadata": {},
   "outputs": [
    {
     "data": {
      "image/png": "[encoded data removed]",
      "text/plain": [
       "<Figure size 640x480 with 1 Axes>"
      ]
     },
     "metadata": {},
     "output_type": "display_data"
    }
   ],
   "source": [
    "PrecisionRecallDisplay(precision = prc, recall = rec).plot();"
   ]
  }
 ],
 "metadata": {
  "kernelspec": {
   "display_name": "Python 3 (ipykernel)",
   "language": "python",
   "name": "python3"
  },
  "language_info": {
   "codemirror_mode": {
    "name": "ipython",
    "version": 3
   },
   "file_extension": ".py",
   "mimetype": "text/x-python",
   "name": "python",
   "nbconvert_exporter": "python",
   "pygments_lexer": "ipython3",
   "version": "3.11.5"
  }
 },
 "nbformat": 4,
 "nbformat_minor": 5
}
