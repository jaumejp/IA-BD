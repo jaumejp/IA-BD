{
 "cells": [
  {
   "cell_type": "markdown",
   "id": "6bec375c",
   "metadata": {},
   "source": [
    "#### Numpy basics 2\n",
    "- most common numpy functions"
   ]
  },
  {
   "cell_type": "code",
   "execution_count": 1,
   "id": "cec744ea",
   "metadata": {},
   "outputs": [],
   "source": [
    "import numpy as np"
   ]
  },
  {
   "cell_type": "markdown",
   "id": "833a3cce",
   "metadata": {},
   "source": [
    "#### array generation functions"
   ]
  },
  {
   "cell_type": "code",
   "execution_count": 2,
   "id": "0dbdd5fd",
   "metadata": {},
   "outputs": [
    {
     "data": {
      "text/plain": [
       "array([0., 0., 0., 0., 0., 0., 0., 0., 0., 0.])"
      ]
     },
     "execution_count": 2,
     "metadata": {},
     "output_type": "execute_result"
    }
   ],
   "source": [
    "# initialize array with zeros\n",
    "np.zeros(10) # floats de 64 bits"
   ]
  },
  {
   "cell_type": "code",
   "execution_count": 3,
   "id": "94788f4d",
   "metadata": {},
   "outputs": [
    {
     "data": {
      "text/plain": [
       "array([1., 1., 1., 1., 1., 1., 1., 1.])"
      ]
     },
     "execution_count": 3,
     "metadata": {},
     "output_type": "execute_result"
    }
   ],
   "source": [
    "# initialize arrays with ones\n",
    "np.ones(8)"
   ]
  },
  {
   "cell_type": "code",
   "execution_count": 28,
   "id": "d9712d22",
   "metadata": {},
   "outputs": [
    {
     "name": "stdout",
     "output_type": "stream",
     "text": [
      "[2 3 4 5]\n"
     ]
    },
    {
     "data": {
      "text/plain": [
       "array([ 0,  1,  2,  3,  4,  5,  6,  7,  8,  9, 10, 11])"
      ]
     },
     "execution_count": 28,
     "metadata": {},
     "output_type": "execute_result"
    }
   ],
   "source": [
    "# range array\n",
    "np.arange(12)"
   ]
  },
  {
   "cell_type": "code",
   "execution_count": 29,
   "id": "1f06ab8d",
   "metadata": {},
   "outputs": [
    {
     "data": {
      "text/plain": [
       "array([2, 3, 4, 5])"
      ]
     },
     "execution_count": 29,
     "metadata": {},
     "output_type": "execute_result"
    }
   ],
   "source": [
    "# rang\n",
    "np.arange(2,6)"
   ]
  },
  {
   "cell_type": "markdown",
   "id": "57d3e2a0",
   "metadata": {},
   "source": [
    "Fa un span del rang amb tants punts com li especifiquem"
   ]
  },
  {
   "cell_type": "code",
   "execution_count": 32,
   "id": "8dca8a36",
   "metadata": {},
   "outputs": [
    {
     "data": {
      "text/plain": [
       "array([-1. , -0.9, -0.8, -0.7, -0.6, -0.5, -0.4, -0.3, -0.2, -0.1,  0. ,\n",
       "        0.1,  0.2,  0.3,  0.4,  0.5,  0.6,  0.7,  0.8,  0.9,  1. ])"
      ]
     },
     "execution_count": 32,
     "metadata": {},
     "output_type": "execute_result"
    }
   ],
   "source": [
    "# span array\n",
    "np.linspace(-1, 1, 21)"
   ]
  },
  {
   "cell_type": "code",
   "execution_count": 31,
   "id": "f69171e8",
   "metadata": {},
   "outputs": [
    {
     "data": {
      "text/plain": [
       "21"
      ]
     },
     "execution_count": 31,
     "metadata": {},
     "output_type": "execute_result"
    }
   ],
   "source": [
    "len(np.linspace(-1,1,21))"
   ]
  },
  {
   "cell_type": "code",
   "execution_count": 35,
   "id": "0580c058",
   "metadata": {},
   "outputs": [
    {
     "data": {
      "text/plain": [
       "array([ 1. ,  2.5,  4. ,  5.5,  7. ,  8.5, 10. ])"
      ]
     },
     "execution_count": 35,
     "metadata": {},
     "output_type": "execute_result"
    }
   ],
   "source": [
    "np.linspace(1, 10, 7) # 7 punts"
   ]
  },
  {
   "cell_type": "code",
   "execution_count": 39,
   "id": "0ac35ca7",
   "metadata": {},
   "outputs": [
    {
     "data": {
      "text/plain": [
       "array([100., 101., 102., 103., 104., 105., 106., 107., 108., 109., 110.,\n",
       "       111., 112., 113., 114., 115., 116., 117., 118., 119., 120., 121.,\n",
       "       122., 123., 124., 125., 126., 127., 128., 129., 130., 131., 132.,\n",
       "       133., 134., 135., 136., 137., 138., 139., 140., 141., 142., 143.,\n",
       "       144., 145., 146., 147., 148., 149., 150., 151., 152., 153., 154.,\n",
       "       155., 156., 157., 158., 159., 160., 161., 162., 163., 164., 165.,\n",
       "       166., 167., 168., 169., 170., 171., 172., 173., 174., 175., 176.,\n",
       "       177., 178., 179., 180., 181., 182., 183., 184., 185., 186., 187.,\n",
       "       188., 189., 190., 191., 192., 193., 194., 195., 196., 197., 198.,\n",
       "       199., 200.])"
      ]
     },
     "execution_count": 39,
     "metadata": {},
     "output_type": "execute_result"
    }
   ],
   "source": [
    "np.linspace(100, 200, 101) # Si vols dividir un segment amb dos trosos, necesites tres punts, si vols 3 trosos, necesites 4\n",
    "# haurem de posar un tros més"
   ]
  },
  {
   "cell_type": "markdown",
   "id": "ed5b5bc6",
   "metadata": {},
   "source": [
    "#### random integer arrays"
   ]
  },
  {
   "cell_type": "code",
   "execution_count": 46,
   "id": "c309a98b",
   "metadata": {},
   "outputs": [
    {
     "data": {
      "text/plain": [
       "array([2, 1, 2, 2, 1, 5, 5, 5, 4, 2])"
      ]
     },
     "execution_count": 46,
     "metadata": {},
     "output_type": "execute_result"
    }
   ],
   "source": [
    "# array of random integers between a given range\n",
    "np.random.randint(1, 6, 10) # 10 tirades de dau diferents"
   ]
  },
  {
   "cell_type": "markdown",
   "id": "ce302cf2",
   "metadata": {},
   "source": [
    "### Proccesos estocastics\n",
    "- Proccès que hi ha una certa aletorietat. \n",
    "- Les coses corresponen a una certa probabilitat. \n",
    "- Les coses no es poden determinar al 100%.\n",
    "\n",
    "### procesos determistics\n",
    "- Si sempre tens un input sempre tindras el mateix output.\n",
    "- Podem determinar com funciona, donada una entrada, podem predir la sortida.\n",
    "\n",
    "1. El que volem fer amb IA, és modelitzar proccesos, que en si són deterministics (predir temperatura) el clima obeix a unes condicions físiques (la natura oveix aquestes lleis). \n",
    "\n",
    "2. La majoría de vegades els sistemes són tant complexes (com el clima) hi entren tantes variables que acaba siguent impossible fer una predicció deterministica, són sistemes complexes.\n",
    "\n",
    "3. Aquests sistemes es tracten estocasticament (amb probabilitat). Les prediccions tenen una certa probabilitat asociada no són 100% exactes. \n",
    "\n",
    "``Un ordinador, executa una seqüència lògica, són 0 i 1, hauríem de poder determinar la sortida, per definició és tot determinista``\n",
    "\n",
    "Com pot ser que existeixi el ``randint`` &rarr; Pots predir la sortida del metode, no és aleatori 100%. "
   ]
  },
  {
   "cell_type": "code",
   "execution_count": 60,
   "id": "b7d17f38",
   "metadata": {},
   "outputs": [
    {
     "data": {
      "text/plain": [
       "array([1, 3, 1, 4, 2, 3, 4, 1, 3, 4])"
      ]
     },
     "execution_count": 60,
     "metadata": {},
     "output_type": "execute_result"
    }
   ],
   "source": [
    "#np.random.seed(2345) # Si la fixem sempre sortirà el mateix\n",
    "np.random.randint(1,6,10)"
   ]
  },
  {
   "cell_type": "markdown",
   "id": "bf2dca8f",
   "metadata": {},
   "source": [
    "##### Ex. binary array fo size 20"
   ]
  },
  {
   "cell_type": "code",
   "execution_count": 63,
   "id": "e8d0eca7",
   "metadata": {},
   "outputs": [
    {
     "data": {
      "text/plain": [
       "array([0, 1, 1, 0, 0, 1, 0, 0, 0, 1, 0, 0, 1, 1, 0, 0, 1, 0, 1, 1])"
      ]
     },
     "execution_count": 63,
     "metadata": {},
     "output_type": "execute_result"
    }
   ],
   "source": [
    "np.random.randint(0, 2, 20)"
   ]
  },
  {
   "cell_type": "markdown",
   "id": "a65a6035",
   "metadata": {},
   "source": [
    "#### random float arrays"
   ]
  },
  {
   "cell_type": "code",
   "execution_count": 7,
   "id": "a4e429f7",
   "metadata": {},
   "outputs": [
    {
     "data": {
      "text/plain": [
       "array([0.80566894, 0.58009891, 0.52379074, 0.72216026])"
      ]
     },
     "execution_count": 7,
     "metadata": {},
     "output_type": "execute_result"
    }
   ],
   "source": [
    "# array of random floats in the half-open interval [0, 1) (0 <= x < 1)\n",
    "np.random.rand(4)"
   ]
  },
  {
   "cell_type": "code",
   "execution_count": 70,
   "id": "8eb50de2",
   "metadata": {},
   "outputs": [
    {
     "data": {
      "text/plain": [
       "array([7.52987512, 9.11041522, 8.3200959 , 9.63352644, 7.83074111,\n",
       "       8.00817724, 2.19547772, 3.74302061, 9.67938349, 6.11470745])"
      ]
     },
     "execution_count": 70,
     "metadata": {},
     "output_type": "execute_result"
    }
   ],
   "source": [
    "# array of random numbers such that 0 <= x < 10\n",
    "np.random.rand(10) *10"
   ]
  },
  {
   "cell_type": "markdown",
   "id": "8a056c4a",
   "metadata": {},
   "source": [
    "### range(1,10)\n",
    "Array of random numbers such that 1 <= x < 10"
   ]
  },
  {
   "cell_type": "code",
   "execution_count": 71,
   "id": "e9eebcb1",
   "metadata": {},
   "outputs": [
    {
     "data": {
      "text/plain": [
       "array([0.34294253, 0.11076002, 0.93890696, 0.92979875, 0.59061872,\n",
       "       0.50167879, 0.65813965, 0.4499934 , 0.29864814, 0.00204729])"
      ]
     },
     "execution_count": 71,
     "metadata": {},
     "output_type": "execute_result"
    }
   ],
   "source": [
    "np.random.rand(10)"
   ]
  },
  {
   "cell_type": "code",
   "execution_count": 104,
   "id": "0ef89528",
   "metadata": {},
   "outputs": [
    {
     "data": {
      "text/plain": [
       "array([3.20477024, 8.48067016, 1.42760029, 6.58266437, 8.98184197,\n",
       "       8.84046661, 1.92253241, 7.43681967, 7.49518592, 0.52650326])"
      ]
     },
     "execution_count": 104,
     "metadata": {},
     "output_type": "execute_result"
    }
   ],
   "source": [
    "np.random.rand(10) * (10 - 1) # 9 = el que medeix l'interval i a ++ quan val 0 al (0,1) volem que equivalqui a 1 (per això suma 1 a baix)\n",
    "# np.random(10) * (10 - 0) + 0"
   ]
  },
  {
   "cell_type": "code",
   "execution_count": 102,
   "id": "87d5e34a",
   "metadata": {},
   "outputs": [
    {
     "data": {
      "text/plain": [
       "array([6.00426795, 5.48467651, 8.70374485, 2.15692987, 4.18452817,\n",
       "       7.82324979, 3.4373435 , 5.95960677, 1.156009  , 4.40670337])"
      ]
     },
     "execution_count": 102,
     "metadata": {},
     "output_type": "execute_result"
    }
   ],
   "source": [
    "# array of random numbers such that 1 <= x < 10\n",
    "np.random.rand(10) * (10 - 1) + 1"
   ]
  },
  {
   "cell_type": "markdown",
   "id": "5b29177c",
   "metadata": {},
   "source": [
    "##### Ex. array of random numbers such that 100 <= x < 200 ?"
   ]
  },
  {
   "cell_type": "code",
   "execution_count": 109,
   "id": "fac7febb",
   "metadata": {},
   "outputs": [
    {
     "data": {
      "text/plain": [
       "array([190.49291941, 128.27285222, 134.60086945, 143.0118507 ,\n",
       "       119.67989241, 119.46135842, 134.21333917, 124.56333933,\n",
       "       140.33723008, 161.88782246, 135.26723326, 176.88585282,\n",
       "       171.96619855, 100.0658776 , 150.28953062, 161.34895944,\n",
       "       172.14843069, 153.62239868, 142.82528542, 166.83823946,\n",
       "       127.61730961, 172.03413584, 158.09494893, 189.85035853,\n",
       "       148.02889287, 163.16330716, 133.87318413, 164.57322017,\n",
       "       163.86081151, 167.54063715, 141.97818634, 170.6233112 ,\n",
       "       198.30222518, 191.24858712, 123.04197644, 190.08150807,\n",
       "       130.6898975 , 112.57375015, 128.58769891, 150.46577372,\n",
       "       124.81892214, 106.65776514, 198.22385465, 116.62918072,\n",
       "       177.43870645, 158.26186899, 185.52485609, 113.4841224 ,\n",
       "       108.71253218, 197.84936285, 169.62436668, 149.28644169,\n",
       "       160.05118165, 123.07092255, 129.91257958, 154.28303649,\n",
       "       141.49812248, 197.62703883, 115.33710958, 107.14374486,\n",
       "       175.97167395, 192.12997539, 102.62988585, 140.56154475,\n",
       "       192.89574568, 186.31874154, 148.4224315 , 150.0253624 ,\n",
       "       159.46590428, 182.88025118, 124.98758979, 116.36219785,\n",
       "       179.16028876, 184.93382703, 124.08822849, 133.16005514,\n",
       "       148.6250285 , 183.73099439, 117.68629024, 179.30914539,\n",
       "       186.79261923, 184.04770885, 104.35779905, 188.56180452,\n",
       "       147.19920878, 106.57148318, 168.44435224, 149.80818731,\n",
       "       186.81493018, 117.58035534, 119.17339351, 135.59823621,\n",
       "       184.62442956, 173.19820558, 104.21596299, 120.4573371 ,\n",
       "       110.01622332, 162.07588603, 138.32547786, 186.34875371])"
      ]
     },
     "execution_count": 109,
     "metadata": {},
     "output_type": "execute_result"
    }
   ],
   "source": [
    "np.random.rand(100) * (200 - 100) + 100"
   ]
  },
  {
   "cell_type": "code",
   "execution_count": 110,
   "id": "89012c9d",
   "metadata": {},
   "outputs": [
    {
     "data": {
      "text/plain": [
       "5.150036222500209"
      ]
     },
     "execution_count": 110,
     "metadata": {},
     "output_type": "execute_result"
    }
   ],
   "source": [
    "# Fer-ho directament\n",
    "# És un wrapper (funció que envolcalla una altre (la de abans))\n",
    "np.random.uniform(10)"
   ]
  },
  {
   "cell_type": "markdown",
   "id": "157bf73f",
   "metadata": {},
   "source": [
    "Distribucions de probabilitat, la més normal és la distribució uniforme, donat un proces estocastic, asigna la mateixa probabilitat a totes les seves possibles respostes (tirar un dau) &rarr; és un proccès estocastic amb 6 sortides amb la mateixa probabilitat (1/6). Distribució uniforme, si no ho apliquem no sobre un dau, sino sobre un interval. \n",
    "\n",
    "Cara o creu (0.5)\n",
    "\n",
    "Podem fer diferents distribucions de probabilitat, canviar que surti més una cara que una altre."
   ]
  },
  {
   "cell_type": "markdown",
   "id": "b3d9b0bf",
   "metadata": {},
   "source": [
    "#### nd-arrays"
   ]
  },
  {
   "cell_type": "code",
   "execution_count": 10,
   "id": "6e45b320",
   "metadata": {},
   "outputs": [
    {
     "data": {
      "text/plain": [
       "(array([[1, 3, 7, 2],\n",
       "        [7, 8, 1, 5]]),\n",
       " (2, 4))"
      ]
     },
     "execution_count": 10,
     "metadata": {},
     "output_type": "execute_result"
    }
   ],
   "source": [
    "# 2d-array\n",
    "x2d = np.array([[1, 3, 7, 2], [7, 8, 1, 5]])\n",
    "x2d, x2d.shape"
   ]
  },
  {
   "cell_type": "markdown",
   "id": "cf635660",
   "metadata": {},
   "source": [
    "Un array de dos dimensions és una matriu. Canvia de pandas que es numpy i tindrà altres metodes"
   ]
  },
  {
   "cell_type": "code",
   "execution_count": 11,
   "id": "9f742a39",
   "metadata": {},
   "outputs": [
    {
     "data": {
      "text/plain": [
       "(array([[[8, 2, 3],\n",
       "         [8, 2, 5],\n",
       "         [3, 4, 2]]]),\n",
       " (1, 3, 3))"
      ]
     },
     "execution_count": 11,
     "metadata": {},
     "output_type": "execute_result"
    }
   ],
   "source": [
    "### 3d-array\n",
    "x3d = np.array([[[8, 2, 3], [8, 2, 5], [3, 4, 2]]])\n",
    "x3d, x3d.shape"
   ]
  },
  {
   "cell_type": "code",
   "execution_count": 12,
   "id": "f96dee7d",
   "metadata": {},
   "outputs": [
    {
     "data": {
      "text/plain": [
       "(array([[[8, 2, 3],\n",
       "         [8, 2, 5],\n",
       "         [3, 4, 2]],\n",
       " \n",
       "        [[7, 1, 2],\n",
       "         [7, 1, 4],\n",
       "         [2, 3, 1]]]),\n",
       " (2, 3, 3))"
      ]
     },
     "execution_count": 12,
     "metadata": {},
     "output_type": "execute_result"
    }
   ],
   "source": [
    "### 3d-array\n",
    "x3d = np.array([[[8, 2, 3], [8, 2, 5], [3, 4, 2]], [[7, 1, 2], [7, 1, 4], [2, 3, 1]]])\n",
    "x3d, x3d.shape"
   ]
  },
  {
   "cell_type": "code",
   "execution_count": 13,
   "id": "592b2e6f",
   "metadata": {},
   "outputs": [
    {
     "data": {
      "text/plain": [
       "(array([[[8, 2, 3],\n",
       "         [8, 2, 5],\n",
       "         [3, 4, 2]],\n",
       " \n",
       "        [[7, 1, 2],\n",
       "         [7, 1, 4],\n",
       "         [2, 3, 1]],\n",
       " \n",
       "        [[6, 0, 1],\n",
       "         [6, 0, 3],\n",
       "         [1, 2, 0]]]),\n",
       " (3, 3, 3))"
      ]
     },
     "execution_count": 13,
     "metadata": {},
     "output_type": "execute_result"
    }
   ],
   "source": [
    "### 3d-array\n",
    "x3d = np.array([[[8, 2, 3], [8, 2, 5], [3, 4, 2]], [[7, 1, 2], [7, 1, 4], [2, 3, 1]], [[6, 0, 1], [6, 0, 3], [1, 2, 0]] ])\n",
    "x3d, x3d.shape"
   ]
  },
  {
   "cell_type": "markdown",
   "id": "1c4e4e8c",
   "metadata": {},
   "source": [
    "##### Ex. generate 3d-array of shape (3, 3, 4)"
   ]
  },
  {
   "cell_type": "code",
   "execution_count": 124,
   "id": "108f1fa2",
   "metadata": {},
   "outputs": [
    {
     "data": {
      "text/plain": [
       "(3, 3, 4)"
      ]
     },
     "execution_count": 124,
     "metadata": {},
     "output_type": "execute_result"
    }
   ],
   "source": [
    "# Per formatejar i veure-ho bé, a sota per executar\n",
    "x3d = np.array([\n",
    "    [[8, 2, 3, 3], [8, 2, 5, 4], [3, 4, 2, 4]], \n",
    "    [[7, 1, 2, 4], [7, 1, 4, 4], [2, 3, 1, 4]], \n",
    "    [[6, 0, 1, 4], [6, 0, 3, 4], [1, 2, 0, 4]]\n",
    "])\n",
    "x3d.shape"
   ]
  },
  {
   "cell_type": "markdown",
   "id": "47950bf3",
   "metadata": {},
   "source": [
    "##### Ex. generate 3d-array of shape (4, 3, 3)"
   ]
  },
  {
   "cell_type": "code",
   "execution_count": 125,
   "id": "af44b707",
   "metadata": {},
   "outputs": [],
   "source": [
    "x3d = np.array([\n",
    "    [[8, 2, 3], [8, 2, 5], [3, 4, 2]], \n",
    "    [[7, 1, 2], [7, 1, 4], [2, 3, 1]],\n",
    "    [[7, 1, 2], [7, 1, 4], [2, 3, 1]],\n",
    "    [[6, 0, 1], [6, 0, 3], [1, 2, 0]]\n",
    "])"
   ]
  },
  {
   "cell_type": "code",
   "execution_count": 126,
   "id": "39b6a90a",
   "metadata": {},
   "outputs": [
    {
     "data": {
      "text/plain": [
       "(4, 3, 3)"
      ]
     },
     "execution_count": 126,
     "metadata": {},
     "output_type": "execute_result"
    }
   ],
   "source": [
    "x3d.shape"
   ]
  },
  {
   "cell_type": "markdown",
   "id": "31fd8fb4",
   "metadata": {},
   "source": [
    "##### Ex. generate 3d-array of shape (3, 4, 3)"
   ]
  },
  {
   "cell_type": "code",
   "execution_count": 129,
   "id": "ec39ca1c",
   "metadata": {},
   "outputs": [
    {
     "data": {
      "text/plain": [
       "(3, 4, 3)"
      ]
     },
     "execution_count": 129,
     "metadata": {},
     "output_type": "execute_result"
    }
   ],
   "source": [
    "x3d = np.array([\n",
    "    [[8, 2, 3], [8, 2, 5], [3, 4, 2], [3, 4, 2]], \n",
    "    [[7, 1, 2], [7, 1, 4], [2, 3, 1], [3, 4, 2]],\n",
    "    [[6, 0, 1], [6, 0, 3], [1, 2, 0], [3, 4, 2]]\n",
    "])\n",
    "x3d.shape"
   ]
  },
  {
   "cell_type": "markdown",
   "id": "ef135a7e",
   "metadata": {},
   "source": [
    "#### array reshape functions"
   ]
  },
  {
   "cell_type": "code",
   "execution_count": 14,
   "id": "86cd0f0a",
   "metadata": {},
   "outputs": [
    {
     "data": {
      "text/plain": [
       "(array([ 0,  1,  2,  3,  4,  5,  6,  7,  8,  9, 10, 11, 12, 13, 14, 15, 16,\n",
       "        17, 18, 19, 20, 21, 22, 23]),\n",
       " (24,))"
      ]
     },
     "execution_count": 14,
     "metadata": {},
     "output_type": "execute_result"
    }
   ],
   "source": [
    "# 1d array\n",
    "x1d = np.arange(24)\n",
    "x1d, x1d.shape"
   ]
  },
  {
   "cell_type": "code",
   "execution_count": 15,
   "id": "85ace3f6",
   "metadata": {},
   "outputs": [
    {
     "data": {
      "text/plain": [
       "(array([[ 0,  1,  2,  3],\n",
       "        [ 4,  5,  6,  7],\n",
       "        [ 8,  9, 10, 11],\n",
       "        [12, 13, 14, 15],\n",
       "        [16, 17, 18, 19],\n",
       "        [20, 21, 22, 23]]),\n",
       " (6, 4))"
      ]
     },
     "execution_count": 15,
     "metadata": {},
     "output_type": "execute_result"
    }
   ],
   "source": [
    "# 2d reshape\n",
    "x2d = np.arange(24).reshape(6, 4)\n",
    "x2d, x2d.shape"
   ]
  },
  {
   "cell_type": "code",
   "execution_count": 16,
   "id": "cc1a5d5b",
   "metadata": {},
   "outputs": [
    {
     "data": {
      "text/plain": [
       "(array([[[ 0,  1,  2,  3],\n",
       "         [ 4,  5,  6,  7]],\n",
       " \n",
       "        [[ 8,  9, 10, 11],\n",
       "         [12, 13, 14, 15]],\n",
       " \n",
       "        [[16, 17, 18, 19],\n",
       "         [20, 21, 22, 23]]]),\n",
       " (3, 2, 4))"
      ]
     },
     "execution_count": 16,
     "metadata": {},
     "output_type": "execute_result"
    }
   ],
   "source": [
    "# 3d reshape\n",
    "x3d = np.arange(24).reshape(3, 2, 4)\n",
    "x3d, x3d.shape"
   ]
  },
  {
   "cell_type": "code",
   "execution_count": 17,
   "id": "1606c5b8",
   "metadata": {},
   "outputs": [
    {
     "data": {
      "text/plain": [
       "(array([[[ 0,  1,  2,  3,  4,  5],\n",
       "         [ 6,  7,  8,  9, 10, 11]],\n",
       " \n",
       "        [[12, 13, 14, 15, 16, 17],\n",
       "         [18, 19, 20, 21, 22, 23]]]),\n",
       " (3, 2, 4))"
      ]
     },
     "execution_count": 17,
     "metadata": {},
     "output_type": "execute_result"
    }
   ],
   "source": [
    "# reshape view\n",
    "x3d.reshape(2, 2, 6), x3d.shape"
   ]
  },
  {
   "cell_type": "code",
   "execution_count": 18,
   "id": "722224a2",
   "metadata": {},
   "outputs": [
    {
     "data": {
      "text/plain": [
       "(array([[[ 0,  1],\n",
       "         [ 2,  3],\n",
       "         [ 4,  5]],\n",
       " \n",
       "        [[ 6,  7],\n",
       "         [ 8,  9],\n",
       "         [10, 11]],\n",
       " \n",
       "        [[12, 13],\n",
       "         [14, 15],\n",
       "         [16, 17]],\n",
       " \n",
       "        [[18, 19],\n",
       "         [20, 21],\n",
       "         [22, 23]]]),\n",
       " (4, 3, 2))"
      ]
     },
     "execution_count": 18,
     "metadata": {},
     "output_type": "execute_result"
    }
   ],
   "source": [
    "# reshape in place\n",
    "x3d.shape = (4, 3, 2)\n",
    "x3d, x3d.shape"
   ]
  },
  {
   "cell_type": "code",
   "execution_count": 19,
   "id": "3dd5a558",
   "metadata": {},
   "outputs": [
    {
     "data": {
      "text/plain": [
       "(array([ 0,  1,  2,  3,  4,  5,  6,  7,  8,  9, 10, 11, 12, 13, 14, 15, 16,\n",
       "        17, 18, 19, 20, 21, 22, 23]),\n",
       " (4, 3, 2))"
      ]
     },
     "execution_count": 19,
     "metadata": {},
     "output_type": "execute_result"
    }
   ],
   "source": [
    "# flattened view (faster)\n",
    "x3d.ravel(), x3d.shape"
   ]
  },
  {
   "cell_type": "code",
   "execution_count": 20,
   "id": "5044d378",
   "metadata": {},
   "outputs": [
    {
     "data": {
      "text/plain": [
       "(array([ 0,  1,  2,  3,  4,  5,  6,  7,  8,  9, 10, 11, 12, 13, 14, 15, 16,\n",
       "        17, 18, 19, 20, 21, 22, 23]),\n",
       " (4, 3, 2))"
      ]
     },
     "execution_count": 20,
     "metadata": {},
     "output_type": "execute_result"
    }
   ],
   "source": [
    "# flattened copy (slower)\n",
    "x3d.flatten(), x3d.shape"
   ]
  },
  {
   "cell_type": "markdown",
   "id": "5a4a8d22",
   "metadata": {},
   "source": [
    "#### Conditional functions"
   ]
  },
  {
   "cell_type": "code",
   "execution_count": 21,
   "id": "b2933d3c",
   "metadata": {},
   "outputs": [
    {
     "data": {
      "text/plain": [
       "array([7, 6, 3, 7, 2, 8, 7, 1, 4, 1, 7, 3, 1, 8, 2, 3, 2, 9, 3, 2])"
      ]
     },
     "execution_count": 21,
     "metadata": {},
     "output_type": "execute_result"
    }
   ],
   "source": [
    "x = np.random.randint(1, 10, 20)\n",
    "x"
   ]
  },
  {
   "cell_type": "code",
   "execution_count": 22,
   "id": "62e82249",
   "metadata": {},
   "outputs": [
    {
     "data": {
      "text/plain": [
       "array([ True,  True, False,  True, False,  True,  True, False, False,\n",
       "       False,  True, False, False,  True, False, False, False,  True,\n",
       "       False, False])"
      ]
     },
     "execution_count": 22,
     "metadata": {},
     "output_type": "execute_result"
    }
   ],
   "source": [
    "x > 5"
   ]
  },
  {
   "cell_type": "code",
   "execution_count": 23,
   "id": "a5ff2660",
   "metadata": {},
   "outputs": [
    {
     "data": {
      "text/plain": [
       "array([7, 6, 7, 8, 7, 7, 8, 9])"
      ]
     },
     "execution_count": 23,
     "metadata": {},
     "output_type": "execute_result"
    }
   ],
   "source": [
    "x[x > 5]"
   ]
  },
  {
   "cell_type": "code",
   "execution_count": 24,
   "id": "d1f2dd27",
   "metadata": {},
   "outputs": [
    {
     "data": {
      "text/plain": [
       "(array([ 0,  1,  3,  5,  6, 10, 13, 17], dtype=int64),)"
      ]
     },
     "execution_count": 24,
     "metadata": {},
     "output_type": "execute_result"
    }
   ],
   "source": [
    "# position indexes\n",
    "np.where(x > 5)"
   ]
  },
  {
   "cell_type": "code",
   "execution_count": 25,
   "id": "9e98a35b",
   "metadata": {},
   "outputs": [
    {
     "data": {
      "text/plain": [
       "array([7, 6, 7, 8, 7, 7, 8, 9])"
      ]
     },
     "execution_count": 25,
     "metadata": {},
     "output_type": "execute_result"
    }
   ],
   "source": [
    "# position values\n",
    "x[np.where(x > 5)]"
   ]
  },
  {
   "cell_type": "markdown",
   "id": "a2311d8a",
   "metadata": {},
   "source": [
    "#### Conditional functions on two arrays"
   ]
  },
  {
   "cell_type": "code",
   "execution_count": 130,
   "id": "bab09f49",
   "metadata": {},
   "outputs": [
    {
     "name": "stdout",
     "output_type": "stream",
     "text": [
      "x\n",
      "[7 6 3 7 2 8 7 1 4 1 7 3 1 8 2 3 2 9 3 2]\n",
      "y\n",
      "[1 4 4 9 2 2 6 7 8 5 6 7 7 4 1 7 3 2 5 3]\n"
     ]
    },
    {
     "data": {
      "text/plain": [
       "(array([7, 6, 3, 7, 2, 8, 7, 1, 4, 1, 7, 3, 1, 8, 2, 3, 2, 9, 3, 2]),\n",
       " array([1, 4, 4, 9, 2, 2, 6, 7, 8, 5, 6, 7, 7, 4, 1, 7, 3, 2, 5, 3]))"
      ]
     },
     "execution_count": 130,
     "metadata": {},
     "output_type": "execute_result"
    }
   ],
   "source": [
    "y = np.random.randint(1, 10, 20)\n",
    "print(\"x\")\n",
    "print(x)\n",
    "print(\"y\")\n",
    "print(y)\n",
    "x, y"
   ]
  },
  {
   "cell_type": "code",
   "execution_count": 131,
   "id": "1f5dc3e9",
   "metadata": {},
   "outputs": [
    {
     "data": {
      "text/plain": [
       "array([1, 4, 3, 7, 2, 2, 6, 1, 4, 1, 6, 3, 1, 4, 1, 3, 2, 2, 3, 2])"
      ]
     },
     "execution_count": 131,
     "metadata": {},
     "output_type": "execute_result"
    }
   ],
   "source": [
    "np.where(x < y, x, y) # retorna el més petit, sempre retorna un. x sigui més petit que y, retorna x sino y"
   ]
  }
 ],
 "metadata": {
  "kernelspec": {
   "display_name": "Python 3 (ipykernel)",
   "language": "python",
   "name": "python3"
  },
  "language_info": {
   "codemirror_mode": {
    "name": "ipython",
    "version": 3
   },
   "file_extension": ".py",
   "mimetype": "text/x-python",
   "name": "python",
   "nbconvert_exporter": "python",
   "pygments_lexer": "ipython3",
   "version": "3.11.5"
  }
 },
 "nbformat": 4,
 "nbformat_minor": 5
}
