{
 "cells": [
  {
   "cell_type": "markdown",
   "metadata": {},
   "source": [
    "### Pandas basics 2"
   ]
  },
  {
   "cell_type": "code",
   "execution_count": 1,
   "metadata": {},
   "outputs": [],
   "source": [
    "import pandas as pd"
   ]
  },
  {
   "cell_type": "code",
   "execution_count": 1,
   "metadata": {},
   "outputs": [
    {
     "ename": "NameError",
     "evalue": "name 'pd' is not defined",
     "output_type": "error",
     "traceback": [
      "\u001b[1;31m---------------------------------------------------------------------------\u001b[0m",
      "\u001b[1;31mNameError\u001b[0m                                 Traceback (most recent call last)",
      "Cell \u001b[1;32mIn[1], line 2\u001b[0m\n\u001b[0;32m      1\u001b[0m \u001b[38;5;66;03m# Carreguem el dataset d'exemple dels cotxes\u001b[39;00m\n\u001b[1;32m----> 2\u001b[0m cotxes \u001b[38;5;241m=\u001b[39m pd\u001b[38;5;241m.\u001b[39mread_csv(\u001b[38;5;124m'\u001b[39m\u001b[38;5;124m../Notebooks/Dades/cars/venda-cotxes-segona-ma.csv\u001b[39m\u001b[38;5;124m'\u001b[39m, index_col\u001b[38;5;241m=\u001b[39m\u001b[38;5;28;01mFalse\u001b[39;00m)\n\u001b[0;32m      3\u001b[0m cotxes\u001b[38;5;241m.\u001b[39mhead(\u001b[38;5;241m3\u001b[39m)\n",
      "\u001b[1;31mNameError\u001b[0m: name 'pd' is not defined"
     ]
    }
   ],
   "source": [
    "# Carreguem el dataset d'exemple dels cotxes\n",
    "cotxes = pd.read_csv('../Notebooks/Dades/cars/venda-cotxes-segona-ma.csv', index_col=False)\n",
    "cotxes.head(3)"
   ]
  },
  {
   "cell_type": "markdown",
   "metadata": {},
   "source": [
    "### Dtypes: tipus de dades"
   ]
  },
  {
   "cell_type": "markdown",
   "metadata": {},
   "source": [
    "Si definim un tipus de dades nosaltres, serà un object"
   ]
  },
  {
   "cell_type": "code",
   "execution_count": 3,
   "metadata": {},
   "outputs": [
    {
     "name": "stdout",
     "output_type": "stream",
     "text": [
      "<class 'pandas.core.frame.DataFrame'>\n",
      "RangeIndex: 5000 entries, 0 to 4999\n",
      "Data columns (total 20 columns):\n",
      " #   Column           Non-Null Count  Dtype  \n",
      "---  ------           --------------  -----  \n",
      " 0   company          5000 non-null   object \n",
      " 1   make             5000 non-null   object \n",
      " 2   model            4996 non-null   object \n",
      " 3   version          5000 non-null   object \n",
      " 4   price            5000 non-null   int64  \n",
      " 5   price_financed   2268 non-null   float64\n",
      " 6   fuel             4992 non-null   object \n",
      " 7   year             5000 non-null   int64  \n",
      " 8   kms              5000 non-null   int64  \n",
      " 9   power            4054 non-null   float64\n",
      " 10  doors            4996 non-null   float64\n",
      " 11  shift            4990 non-null   object \n",
      " 12  color            4942 non-null   object \n",
      " 13  photos           5000 non-null   int64  \n",
      " 14  is_professional  5000 non-null   bool   \n",
      " 15  dealer           5000 non-null   object \n",
      " 16  phone            5000 non-null   object \n",
      " 17  province         5000 non-null   object \n",
      " 18  publish_date     5000 non-null   object \n",
      " 19  insert_date      5000 non-null   object \n",
      "dtypes: bool(1), float64(3), int64(4), object(12)\n",
      "memory usage: 747.2+ KB\n"
     ]
    }
   ],
   "source": [
    "cotxes.info()"
   ]
  },
  {
   "cell_type": "markdown",
   "metadata": {},
   "source": [
    "Mitjançant la propietat `dtype` i `dtypes` podem veure el tipus de dades d'una columna o de totes les columnes del DataFrame.\n",
    "[Documentació oficial](https://pandas.pydata.org/pandas-docs/stable/reference/api/pandas.DataFrame.dtypes.html)"
   ]
  },
  {
   "cell_type": "code",
   "execution_count": 4,
   "metadata": {},
   "outputs": [
    {
     "data": {
      "text/plain": [
       "dtype('O')"
      ]
     },
     "execution_count": 4,
     "metadata": {},
     "output_type": "execute_result"
    }
   ],
   "source": [
    "cotxes.make.dtype"
   ]
  },
  {
   "cell_type": "code",
   "execution_count": 5,
   "metadata": {},
   "outputs": [
    {
     "data": {
      "text/plain": [
       "company             object\n",
       "make                object\n",
       "model               object\n",
       "version             object\n",
       "price                int64\n",
       "price_financed     float64\n",
       "fuel                object\n",
       "year                 int64\n",
       "kms                  int64\n",
       "power              float64\n",
       "doors              float64\n",
       "shift               object\n",
       "color               object\n",
       "photos               int64\n",
       "is_professional       bool\n",
       "dealer              object\n",
       "phone               object\n",
       "province            object\n",
       "publish_date        object\n",
       "insert_date         object\n",
       "dtype: object"
      ]
     },
     "execution_count": 5,
     "metadata": {},
     "output_type": "execute_result"
    }
   ],
   "source": [
    "cotxes.dtypes"
   ]
  },
  {
   "cell_type": "markdown",
   "metadata": {},
   "source": [
    "### `fillna()`\n",
    "\n",
    "Substituir els valors NaN és una operació que utilitzem sovint. Pandas ofereix el mètode `fillna()` per solucionar aquest problema."
   ]
  },
  {
   "cell_type": "code",
   "execution_count": 6,
   "metadata": {},
   "outputs": [
    {
     "data": {
      "text/plain": [
       "0        Carnival\n",
       "1         Serie 5\n",
       "2             500\n",
       "3           Astra\n",
       "4         Clase C\n",
       "          ...    \n",
       "4995        Corsa\n",
       "4996        Auris\n",
       "4997      Partner\n",
       "4998    GLC Coupé\n",
       "4999     Clase SL\n",
       "Name: model, Length: 5000, dtype: object"
      ]
     },
     "execution_count": 6,
     "metadata": {},
     "output_type": "execute_result"
    }
   ],
   "source": [
    "cotxes_fill = cotxes.model.fillna(\"Model desconegut\")\n",
    "cotxes_fill"
   ]
  },
  {
   "cell_type": "code",
   "execution_count": 7,
   "metadata": {},
   "outputs": [
    {
     "data": {
      "text/html": [
       "<div>\n",
       "<style scoped>\n",
       "    .dataframe tbody tr th:only-of-type {\n",
       "        vertical-align: middle;\n",
       "    }\n",
       "\n",
       "    .dataframe tbody tr th {\n",
       "        vertical-align: top;\n",
       "    }\n",
       "\n",
       "    .dataframe thead th {\n",
       "        text-align: right;\n",
       "    }\n",
       "</style>\n",
       "<table border=\"1\" class=\"dataframe\">\n",
       "  <thead>\n",
       "    <tr style=\"text-align: right;\">\n",
       "      <th></th>\n",
       "      <th>company</th>\n",
       "      <th>make</th>\n",
       "      <th>model</th>\n",
       "      <th>version</th>\n",
       "      <th>price</th>\n",
       "      <th>price_financed</th>\n",
       "      <th>fuel</th>\n",
       "      <th>year</th>\n",
       "      <th>kms</th>\n",
       "      <th>power</th>\n",
       "      <th>doors</th>\n",
       "      <th>shift</th>\n",
       "      <th>color</th>\n",
       "      <th>photos</th>\n",
       "      <th>is_professional</th>\n",
       "      <th>dealer</th>\n",
       "      <th>phone</th>\n",
       "      <th>province</th>\n",
       "      <th>publish_date</th>\n",
       "      <th>insert_date</th>\n",
       "    </tr>\n",
       "  </thead>\n",
       "  <tbody>\n",
       "    <tr>\n",
       "      <th>68</th>\n",
       "      <td>9881BCDD5A0AD4733037B3FB25E69C3A</td>\n",
       "      <td>VOLVO</td>\n",
       "      <td>NaN</td>\n",
       "      <td>VOLVO FL 240 EE5</td>\n",
       "      <td>29900</td>\n",
       "      <td>NaN</td>\n",
       "      <td>NaN</td>\n",
       "      <td>2013</td>\n",
       "      <td>434000</td>\n",
       "      <td>NaN</td>\n",
       "      <td>NaN</td>\n",
       "      <td>NaN</td>\n",
       "      <td>Capacidad carga útil:</td>\n",
       "      <td>10</td>\n",
       "      <td>True</td>\n",
       "      <td>Dial Truck Valencia</td>\n",
       "      <td>616930100</td>\n",
       "      <td>Valencia</td>\n",
       "      <td>2020-12-17 15:59:42</td>\n",
       "      <td>2020-12-25 00:00:00</td>\n",
       "    </tr>\n",
       "    <tr>\n",
       "      <th>1923</th>\n",
       "      <td>9881BCDD5A0AD4733037B3FB25E69C3A</td>\n",
       "      <td>MERCEDES-BENZ</td>\n",
       "      <td>NaN</td>\n",
       "      <td>MERCEDES-BENZ SPRINTER 314CDI CC 3T5 E6 FURG</td>\n",
       "      <td>20000</td>\n",
       "      <td>NaN</td>\n",
       "      <td>NaN</td>\n",
       "      <td>2017</td>\n",
       "      <td>105235</td>\n",
       "      <td>NaN</td>\n",
       "      <td>NaN</td>\n",
       "      <td>NaN</td>\n",
       "      <td>Capacidad carga útil:</td>\n",
       "      <td>7</td>\n",
       "      <td>True</td>\n",
       "      <td>Ventatruck</td>\n",
       "      <td>670808888</td>\n",
       "      <td>Madrid</td>\n",
       "      <td>2020-12-02 17:49:58</td>\n",
       "      <td>2020-12-04 00:00:00</td>\n",
       "    </tr>\n",
       "    <tr>\n",
       "      <th>3699</th>\n",
       "      <td>9881BCDD5A0AD4733037B3FB25E69C3A</td>\n",
       "      <td>ISUZU</td>\n",
       "      <td>NaN</td>\n",
       "      <td>ISUZU 3.5T M21 CAJA FIJA GRUA PALTFINGER</td>\n",
       "      <td>49900</td>\n",
       "      <td>NaN</td>\n",
       "      <td>NaN</td>\n",
       "      <td>2020</td>\n",
       "      <td>10</td>\n",
       "      <td>NaN</td>\n",
       "      <td>NaN</td>\n",
       "      <td>NaN</td>\n",
       "      <td>Capacidad carga útil:</td>\n",
       "      <td>17</td>\n",
       "      <td>True</td>\n",
       "      <td>Rofervigo Vehículos Industriales - ISUZU</td>\n",
       "      <td>689692254</td>\n",
       "      <td>Pontevedra</td>\n",
       "      <td>2020-12-19 11:14:13</td>\n",
       "      <td>2021-01-14 00:00:00</td>\n",
       "    </tr>\n",
       "    <tr>\n",
       "      <th>4236</th>\n",
       "      <td>9881BCDD5A0AD4733037B3FB25E69C3A</td>\n",
       "      <td>SEAT</td>\n",
       "      <td>NaN</td>\n",
       "      <td>SEAT Leon  5p.</td>\n",
       "      <td>3500</td>\n",
       "      <td>NaN</td>\n",
       "      <td>Diésel</td>\n",
       "      <td>2003</td>\n",
       "      <td>333000</td>\n",
       "      <td>NaN</td>\n",
       "      <td>5.0</td>\n",
       "      <td>Manual</td>\n",
       "      <td>Negro</td>\n",
       "      <td>5</td>\n",
       "      <td>False</td>\n",
       "      <td>1281D0AC7A74EB91550FF52A02862CDA</td>\n",
       "      <td>B4CEFD0C67E27273E45A99531764FBDF</td>\n",
       "      <td>León</td>\n",
       "      <td>2020-11-30 17:20:22</td>\n",
       "      <td>2020-12-14 00:00:00</td>\n",
       "    </tr>\n",
       "  </tbody>\n",
       "</table>\n",
       "</div>"
      ],
      "text/plain": [
       "                               company           make model  \\\n",
       "68    9881BCDD5A0AD4733037B3FB25E69C3A          VOLVO   NaN   \n",
       "1923  9881BCDD5A0AD4733037B3FB25E69C3A  MERCEDES-BENZ   NaN   \n",
       "3699  9881BCDD5A0AD4733037B3FB25E69C3A          ISUZU   NaN   \n",
       "4236  9881BCDD5A0AD4733037B3FB25E69C3A           SEAT   NaN   \n",
       "\n",
       "                                            version  price  price_financed  \\\n",
       "68                                VOLVO FL 240 EE5   29900             NaN   \n",
       "1923  MERCEDES-BENZ SPRINTER 314CDI CC 3T5 E6 FURG   20000             NaN   \n",
       "3699     ISUZU 3.5T M21 CAJA FIJA GRUA PALTFINGER    49900             NaN   \n",
       "4236                                 SEAT Leon  5p.   3500             NaN   \n",
       "\n",
       "        fuel  year     kms  power  doors   shift                  color  \\\n",
       "68       NaN  2013  434000    NaN    NaN     NaN  Capacidad carga útil:   \n",
       "1923     NaN  2017  105235    NaN    NaN     NaN  Capacidad carga útil:   \n",
       "3699     NaN  2020      10    NaN    NaN     NaN  Capacidad carga útil:   \n",
       "4236  Diésel  2003  333000    NaN    5.0  Manual                  Negro   \n",
       "\n",
       "      photos  is_professional                                    dealer  \\\n",
       "68        10             True                       Dial Truck Valencia   \n",
       "1923       7             True                                Ventatruck   \n",
       "3699      17             True  Rofervigo Vehículos Industriales - ISUZU   \n",
       "4236       5            False          1281D0AC7A74EB91550FF52A02862CDA   \n",
       "\n",
       "                                 phone    province         publish_date  \\\n",
       "68                           616930100    Valencia  2020-12-17 15:59:42   \n",
       "1923                         670808888      Madrid  2020-12-02 17:49:58   \n",
       "3699                         689692254  Pontevedra  2020-12-19 11:14:13   \n",
       "4236  B4CEFD0C67E27273E45A99531764FBDF        León  2020-11-30 17:20:22   \n",
       "\n",
       "              insert_date  \n",
       "68    2020-12-25 00:00:00  \n",
       "1923  2020-12-04 00:00:00  \n",
       "3699  2021-01-14 00:00:00  \n",
       "4236  2020-12-14 00:00:00  "
      ]
     },
     "execution_count": 7,
     "metadata": {},
     "output_type": "execute_result"
    }
   ],
   "source": [
    "cotxes[cotxes.model.isna()]"
   ]
  },
  {
   "cell_type": "markdown",
   "metadata": {},
   "source": [
    "### `replace()`\n",
    "\n",
    "Pandas ofereix el mètode `replace()` per substituir un valor per un altre.\n",
    "\n"
   ]
  },
  {
   "cell_type": "code",
   "execution_count": 8,
   "metadata": {},
   "outputs": [],
   "source": [
    "cotxes.fuel.replace(\"Gasolina\", \"Benzina\")\n",
    "cotxes.fuel.replace(\"Gasolina\", \"Benzina\", inplace = True)\n",
    "# Això va al dataframe i ho canvia, no mostra una vista"
   ]
  },
  {
   "cell_type": "code",
   "execution_count": 9,
   "metadata": {},
   "outputs": [
    {
     "data": {
      "text/plain": [
       "Diésel                3099\n",
       "Benzina               1661\n",
       "Híbrido                128\n",
       "Híbrido enchufable      48\n",
       "Eléctrico               37\n",
       "Gas natural (CNG)       10\n",
       "Gas licuado (GLP)        9\n",
       "Name: fuel, dtype: int64"
      ]
     },
     "execution_count": 9,
     "metadata": {},
     "output_type": "execute_result"
    }
   ],
   "source": [
    "cotxes.fuel.value_counts()"
   ]
  },
  {
   "cell_type": "markdown",
   "metadata": {},
   "source": [
    "El mètode `replace()` el podem utilitzar per substituir les dades que falten mitjançant algun sentinella \"Desconegut\", \"No divulgat\", \"No vàlid\", etc."
   ]
  },
  {
   "cell_type": "markdown",
   "metadata": {},
   "source": [
    "#### Map\n",
    "\n",
    "La funció map ens serveix per aplicar un canvi/funció a un pd.Series() o una columna d'un DataFrame."
   ]
  },
  {
   "cell_type": "code",
   "execution_count": 10,
   "metadata": {},
   "outputs": [
    {
     "data": {
      "text/plain": [
       "0       1.0\n",
       "1       1.0\n",
       "2       NaN\n",
       "3       1.0\n",
       "4       1.0\n",
       "       ... \n",
       "4995    NaN\n",
       "4996    NaN\n",
       "4997    1.0\n",
       "4998    1.0\n",
       "4999    NaN\n",
       "Name: fuel, Length: 5000, dtype: float64"
      ]
     },
     "execution_count": 10,
     "metadata": {},
     "output_type": "execute_result"
    }
   ],
   "source": [
    "# podem fer un replace() però més potent passant un diccionari amb els valors a reemplaçar\n",
    "cotxes.fuel.map({'Diésel': 1, 'Gasolina': 2})\n",
    "# Canvia els valors d'una columna per els que volguem, tenim vàries opcions\n",
    "# Tampoc ho hem fet inplace (aquí no funciona (hi han cops que no van))"
   ]
  },
  {
   "cell_type": "markdown",
   "metadata": {},
   "source": [
    "### Automatizar-ho\n",
    "1. Agafem els valors unics\n"
   ]
  },
  {
   "cell_type": "code",
   "execution_count": 11,
   "metadata": {},
   "outputs": [
    {
     "data": {
      "text/plain": [
       "[('Diésel', 0),\n",
       " ('Benzina', 1),\n",
       " (nan, 2),\n",
       " ('Híbrido enchufable', 3),\n",
       " ('Híbrido', 4),\n",
       " ('Gas licuado (GLP)', 5),\n",
       " ('Eléctrico', 6),\n",
       " ('Gas natural (CNG)', 7)]"
      ]
     },
     "execution_count": 11,
     "metadata": {},
     "output_type": "execute_result"
    }
   ],
   "source": [
    "[(key, val) for val, key in enumerate(cotxes.fuel.unique())]"
   ]
  },
  {
   "cell_type": "markdown",
   "metadata": {},
   "source": [
    "El ``enumerate`` per la llista, quan iterem, el iterador torna el valor i el index. Com un bucle normal però retornat amb una tupla."
   ]
  },
  {
   "cell_type": "code",
   "execution_count": 12,
   "metadata": {},
   "outputs": [
    {
     "data": {
      "text/plain": [
       "{'Diésel': 0,\n",
       " 'Benzina': 1,\n",
       " nan: 2,\n",
       " 'Híbrido enchufable': 3,\n",
       " 'Híbrido': 4,\n",
       " 'Gas licuado (GLP)': 5,\n",
       " 'Eléctrico': 6,\n",
       " 'Gas natural (CNG)': 7}"
      ]
     },
     "execution_count": 12,
     "metadata": {},
     "output_type": "execute_result"
    }
   ],
   "source": [
    "{key: val for val, key in enumerate(cotxes.fuel.unique())}"
   ]
  },
  {
   "cell_type": "markdown",
   "metadata": {},
   "source": [
    "2. En comptes de posar el {}, posem la funcio"
   ]
  },
  {
   "cell_type": "code",
   "execution_count": 13,
   "metadata": {},
   "outputs": [
    {
     "data": {
      "text/plain": [
       "0       0\n",
       "1       0\n",
       "2       1\n",
       "3       0\n",
       "4       0\n",
       "       ..\n",
       "4995    1\n",
       "4996    1\n",
       "4997    0\n",
       "4998    0\n",
       "4999    1\n",
       "Name: fuel, Length: 5000, dtype: int64"
      ]
     },
     "execution_count": 13,
     "metadata": {},
     "output_type": "execute_result"
    }
   ],
   "source": [
    "cotxes.fuel.map({key: val for val, key in enumerate(cotxes.fuel.unique())})"
   ]
  },
  {
   "cell_type": "markdown",
   "metadata": {},
   "source": [
    "Exemple separat:\n",
    "```python \n",
    "d = {key: val for val, key in enumerate(cotxes.fuel.unique())}\n",
    "fuel_mapped = cotxes.fuel.map(d)\n",
    "total_fuel = fuel_mapped.value_counts()\n",
    "```"
   ]
  },
  {
   "cell_type": "code",
   "execution_count": 14,
   "metadata": {},
   "outputs": [
    {
     "data": {
      "text/plain": [
       "0    3099\n",
       "1    1661\n",
       "4     128\n",
       "3      48\n",
       "6      37\n",
       "7      10\n",
       "5       9\n",
       "2       8\n",
       "Name: fuel, dtype: int64"
      ]
     },
     "execution_count": 14,
     "metadata": {},
     "output_type": "execute_result"
    }
   ],
   "source": [
    "cotxes.fuel.map({key: val for val, key in enumerate(cotxes.fuel.unique())}).value_counts()"
   ]
  },
  {
   "cell_type": "markdown",
   "metadata": {},
   "source": [
    "<hr />"
   ]
  },
  {
   "cell_type": "code",
   "execution_count": 15,
   "metadata": {},
   "outputs": [
    {
     "data": {
      "text/plain": [
       "0        9720\n",
       "1        3600\n",
       "2       12980\n",
       "3       11100\n",
       "4       23980\n",
       "        ...  \n",
       "4995    20400\n",
       "4996    15300\n",
       "4997    12400\n",
       "4998    99800\n",
       "4999    25900\n",
       "Name: price, Length: 5000, dtype: int64"
      ]
     },
     "execution_count": 15,
     "metadata": {},
     "output_type": "execute_result"
    }
   ],
   "source": [
    "# El de sota pas a pas: \n",
    "def doblar_preu(p):\n",
    "    return p *2\n",
    "\n",
    "cotxes.price.map(doblar_preu)"
   ]
  },
  {
   "cell_type": "code",
   "execution_count": 16,
   "metadata": {
    "scrolled": true
   },
   "outputs": [
    {
     "data": {
      "text/plain": [
       "0        9720\n",
       "1        3600\n",
       "2       12980\n",
       "3       11100\n",
       "4       23980\n",
       "        ...  \n",
       "4995    20400\n",
       "4996    15300\n",
       "4997    12400\n",
       "4998    99800\n",
       "4999    25900\n",
       "Name: price, Length: 5000, dtype: int64"
      ]
     },
     "execution_count": 16,
     "metadata": {},
     "output_type": "execute_result"
    }
   ],
   "source": [
    "# podem aplicar una funció per doblar el preu dels cotxes\n",
    "cotxes.price.map(lambda p: p *2)"
   ]
  },
  {
   "cell_type": "code",
   "execution_count": 17,
   "metadata": {},
   "outputs": [],
   "source": [
    "# Lambda inplace, no tindrem output perquè estem modificant el dataframe\n",
    "cotxes['price'] = cotxes.price.map(lambda x: x * 2)"
   ]
  },
  {
   "cell_type": "markdown",
   "metadata": {},
   "source": [
    "### Si la funció fos més complicada faríem servir &darr;\n",
    "\n",
    "Això el mètode ``apply`` que hi ha a sota"
   ]
  },
  {
   "cell_type": "markdown",
   "metadata": {},
   "source": [
    "Si necessitem calcular el total d'una columna, fem servir map. "
   ]
  },
  {
   "cell_type": "markdown",
   "metadata": {},
   "source": [
    "<hr />"
   ]
  },
  {
   "cell_type": "code",
   "execution_count": 18,
   "metadata": {},
   "outputs": [
    {
     "data": {
      "text/html": [
       "<div>\n",
       "<style scoped>\n",
       "    .dataframe tbody tr th:only-of-type {\n",
       "        vertical-align: middle;\n",
       "    }\n",
       "\n",
       "    .dataframe tbody tr th {\n",
       "        vertical-align: top;\n",
       "    }\n",
       "\n",
       "    .dataframe thead th {\n",
       "        text-align: right;\n",
       "    }\n",
       "</style>\n",
       "<table border=\"1\" class=\"dataframe\">\n",
       "  <thead>\n",
       "    <tr style=\"text-align: right;\">\n",
       "      <th></th>\n",
       "      <th>fuel</th>\n",
       "      <th>price</th>\n",
       "    </tr>\n",
       "  </thead>\n",
       "  <tbody>\n",
       "    <tr>\n",
       "      <th>0</th>\n",
       "      <td>Diésel</td>\n",
       "      <td>9720</td>\n",
       "    </tr>\n",
       "    <tr>\n",
       "      <th>1</th>\n",
       "      <td>Diésel</td>\n",
       "      <td>3600</td>\n",
       "    </tr>\n",
       "    <tr>\n",
       "      <th>2</th>\n",
       "      <td>Benzina</td>\n",
       "      <td>12980</td>\n",
       "    </tr>\n",
       "  </tbody>\n",
       "</table>\n",
       "</div>"
      ],
      "text/plain": [
       "      fuel  price\n",
       "0   Diésel   9720\n",
       "1   Diésel   3600\n",
       "2  Benzina  12980"
      ]
     },
     "execution_count": 18,
     "metadata": {},
     "output_type": "execute_result"
    }
   ],
   "source": [
    "# fixeu-vos que no s'ha modificat el dataframe (conserva els valors originals)\n",
    "cotxes[['fuel', 'price']].head(3)"
   ]
  },
  {
   "cell_type": "markdown",
   "metadata": {},
   "source": [
    "#### Apply\n",
    "\n",
    "Apply és equivalent a map(), però:\n",
    "- no accepta diccionaris\n",
    "- permet aplicar funcions més complexes i que admeten arguments\n",
    "- és pot aplicar a tota la fila"
   ]
  },
  {
   "cell_type": "markdown",
   "metadata": {},
   "source": [
    "Per una columna (canviar valor d'una columna, map (els dos casos que hem fet a dalt)\n",
    "\n",
    "Apply, fem canvis a tota la fila.\n",
    "\n",
    "La lambda no rep el valor que ve de la columna, sinó que és tota la fila que estem iterant. Després podem accedir a les files i modificar-ne el valor"
   ]
  },
  {
   "cell_type": "code",
   "execution_count": 19,
   "metadata": {},
   "outputs": [
    {
     "data": {
      "text/plain": [
       "'Hola, 9'"
      ]
     },
     "execution_count": 19,
     "metadata": {},
     "output_type": "execute_result"
    }
   ],
   "source": [
    "'%s, %d' %(\"Hola\", 9)"
   ]
  },
  {
   "cell_type": "code",
   "execution_count": 20,
   "metadata": {},
   "outputs": [
    {
     "data": {
      "text/plain": [
       "'hola, 9'"
      ]
     },
     "execution_count": 20,
     "metadata": {},
     "output_type": "execute_result"
    }
   ],
   "source": [
    "x = 9\n",
    "f'hola, {9}'"
   ]
  },
  {
   "cell_type": "markdown",
   "metadata": {},
   "source": [
    "axis = 1 &rarr; per files\n",
    "\n",
    "axis = 0 &rarr; per una columna"
   ]
  },
  {
   "cell_type": "code",
   "execution_count": null,
   "metadata": {},
   "outputs": [],
   "source": []
  },
  {
   "cell_type": "code",
   "execution_count": 21,
   "metadata": {},
   "outputs": [
    {
     "data": {
      "text/plain": [
       "0       Carnival, KIA Carnival 2.9 CRDi VGT EX 5p., Di...\n",
       "1                       Serie 5, BMW Serie 5  4p., Diésel\n",
       "2       500, FIAT 500 1.2 8v 51kW 69CV Lounge 3p., Ben...\n",
       "3                          Astra, OPEL Astra  3p., Diésel\n",
       "4       Clase C, MERCEDES-BENZ Clase C C 220 CDI AVANT...\n",
       "                              ...                        \n",
       "4995    Corsa, OPEL Corsa 1.4 66kW 90CV Selective 5p.,...\n",
       "4996    Auris, TOYOTA Auris 1.2 120T Active Touring Sp...\n",
       "4997                Partner, PEUGEOT Partner  5p., Diésel\n",
       "4998    GLC Coupé, MERCEDES-BENZ GLC Coupe GLC 220 d 4...\n",
       "4999    Clase SL, MERCEDES-BENZ Clase SL SL 500 2p., B...\n",
       "Length: 5000, dtype: object"
      ]
     },
     "execution_count": 21,
     "metadata": {},
     "output_type": "execute_result"
    }
   ],
   "source": [
    "# axis = 1 indica que apply s'aplica a la fila en conjunt (podem utilitzar qualsevol camp de les columnes)\n",
    "cotxes.apply(lambda fila: '%s, %s, %s' %(fila.model, fila.version, fila.fuel), axis =1)"
   ]
  },
  {
   "cell_type": "markdown",
   "metadata": {},
   "source": [
    "Fer-ho amb map:"
   ]
  },
  {
   "cell_type": "code",
   "execution_count": 22,
   "metadata": {},
   "outputs": [
    {
     "data": {
      "text/plain": [
       "0       0\n",
       "1       0\n",
       "2       1\n",
       "3       0\n",
       "4       0\n",
       "       ..\n",
       "4995    1\n",
       "4996    1\n",
       "4997    0\n",
       "4998    0\n",
       "4999    1\n",
       "Name: fuel, Length: 5000, dtype: int64"
      ]
     },
     "execution_count": 22,
     "metadata": {},
     "output_type": "execute_result"
    }
   ],
   "source": [
    "map_dict = {key: val for val, key in enumerate(cotxes.fuel.unique())}\n",
    "\n",
    "def apply_map(key):\n",
    "   return map_dict[key] \n",
    "\n",
    "cotxes.fuel.apply(apply_map)"
   ]
  },
  {
   "cell_type": "code",
   "execution_count": 23,
   "metadata": {},
   "outputs": [
    {
     "data": {
      "text/plain": [
       "0              KIA,  Carnival 2.9 CRDi VGT EX 5p., Diésel\n",
       "1                              BMW,  Serie 5  4p., Diésel\n",
       "2         FIAT,  500 1.2 8v 51kW 69CV Lounge 3p., Benzina\n",
       "3                               OPEL,  Astra  3p., Diésel\n",
       "4       MERCEDES-BENZ,  Clase C C 220 CDI AVANTGARDE 4...\n",
       "                              ...                        \n",
       "4995    OPEL,  Corsa 1.4 66kW 90CV Selective 5p., Benzina\n",
       "4996    TOYOTA,  Auris 1.2 120T Active Touring Sports ...\n",
       "4997                       PEUGEOT,  Partner  5p., Diésel\n",
       "4998    MERCEDES-BENZ,  GLC Coupe GLC 220 d 4MATIC 5p....\n",
       "4999         MERCEDES-BENZ,  Clase SL SL 500 2p., Benzina\n",
       "Length: 5000, dtype: object"
      ]
     },
     "execution_count": 23,
     "metadata": {},
     "output_type": "execute_result"
    }
   ],
   "source": [
    "def llista(row):\n",
    "    row.fillna('__')\n",
    "    return '%s, %s, %s' %(row.make, row.version.strip(row.make), row.fuel)\n",
    "\n",
    "cotxes.apply(llista, axis = 1)"
   ]
  },
  {
   "cell_type": "markdown",
   "metadata": {},
   "source": [
    "### to_frame()"
   ]
  },
  {
   "cell_type": "code",
   "execution_count": 24,
   "metadata": {},
   "outputs": [
    {
     "data": {
      "text/html": [
       "<div>\n",
       "<style scoped>\n",
       "    .dataframe tbody tr th:only-of-type {\n",
       "        vertical-align: middle;\n",
       "    }\n",
       "\n",
       "    .dataframe tbody tr th {\n",
       "        vertical-align: top;\n",
       "    }\n",
       "\n",
       "    .dataframe thead th {\n",
       "        text-align: right;\n",
       "    }\n",
       "</style>\n",
       "<table border=\"1\" class=\"dataframe\">\n",
       "  <thead>\n",
       "    <tr style=\"text-align: right;\">\n",
       "      <th></th>\n",
       "      <th>llista</th>\n",
       "    </tr>\n",
       "  </thead>\n",
       "  <tbody>\n",
       "    <tr>\n",
       "      <th>0</th>\n",
       "      <td>KIA,  Carnival 2.9 CRDi VGT EX 5p., Diésel</td>\n",
       "    </tr>\n",
       "    <tr>\n",
       "      <th>1</th>\n",
       "      <td>BMW,  Serie 5  4p., Diésel</td>\n",
       "    </tr>\n",
       "    <tr>\n",
       "      <th>2</th>\n",
       "      <td>FIAT,  500 1.2 8v 51kW 69CV Lounge 3p., Benzina</td>\n",
       "    </tr>\n",
       "  </tbody>\n",
       "</table>\n",
       "</div>"
      ],
      "text/plain": [
       "                                            llista\n",
       "0       KIA,  Carnival 2.9 CRDi VGT EX 5p., Diésel\n",
       "1                       BMW,  Serie 5  4p., Diésel\n",
       "2  FIAT,  500 1.2 8v 51kW 69CV Lounge 3p., Benzina"
      ]
     },
     "execution_count": 24,
     "metadata": {},
     "output_type": "execute_result"
    }
   ],
   "source": [
    "cotxes.apply(llista, axis = 1).to_frame('llista').head(3)"
   ]
  },
  {
   "cell_type": "markdown",
   "metadata": {},
   "source": []
  },
  {
   "cell_type": "markdown",
   "metadata": {},
   "source": [
    "### to_list()"
   ]
  },
  {
   "cell_type": "code",
   "execution_count": 25,
   "metadata": {},
   "outputs": [
    {
     "data": {
      "text/plain": [
       "['KIA,  Carnival 2.9 CRDi VGT EX 5p., Diésel',\n",
       " 'BMW,  Serie 5  4p., Diésel',\n",
       " 'FIAT,  500 1.2 8v 51kW 69CV Lounge 3p., Benzina',\n",
       " 'OPEL,  Astra  3p., Diésel',\n",
       " 'MERCEDES-BENZ,  Clase C C 220 CDI AVANTGARDE 4p., Diésel',\n",
       " 'OPEL,  Zafira  5p., Diésel',\n",
       " 'PEUGEOT,  3008 1.2 PURETECH 130 HP ALLURE SS 5p., Benzina',\n",
       " 'VOLKSWAGEN,  Polo  5p., Diésel',\n",
       " 'OPEL,  Insignia ST 2.0 CDTI ecoFLEX SS 140 CV Selective 5p., Diésel',\n",
       " 'FORD,  Focus  3p., Benzina']"
      ]
     },
     "execution_count": 25,
     "metadata": {},
     "output_type": "execute_result"
    }
   ],
   "source": [
    "cotxes.apply(llista, axis = 1).to_list()[:10]"
   ]
  },
  {
   "cell_type": "markdown",
   "metadata": {},
   "source": [
    "#### Afegir columna"
   ]
  },
  {
   "cell_type": "code",
   "execution_count": 26,
   "metadata": {},
   "outputs": [
    {
     "data": {
      "text/html": [
       "<div>\n",
       "<style scoped>\n",
       "    .dataframe tbody tr th:only-of-type {\n",
       "        vertical-align: middle;\n",
       "    }\n",
       "\n",
       "    .dataframe tbody tr th {\n",
       "        vertical-align: top;\n",
       "    }\n",
       "\n",
       "    .dataframe thead th {\n",
       "        text-align: right;\n",
       "    }\n",
       "</style>\n",
       "<table border=\"1\" class=\"dataframe\">\n",
       "  <thead>\n",
       "    <tr style=\"text-align: right;\">\n",
       "      <th></th>\n",
       "      <th>make</th>\n",
       "      <th>version</th>\n",
       "      <th>price</th>\n",
       "      <th>price_dte</th>\n",
       "    </tr>\n",
       "  </thead>\n",
       "  <tbody>\n",
       "    <tr>\n",
       "      <th>0</th>\n",
       "      <td>KIA</td>\n",
       "      <td>KIA Carnival 2.9 CRDi VGT EX 5p.</td>\n",
       "      <td>9720</td>\n",
       "      <td>1944.0</td>\n",
       "    </tr>\n",
       "    <tr>\n",
       "      <th>1</th>\n",
       "      <td>BMW</td>\n",
       "      <td>BMW Serie 5  4p.</td>\n",
       "      <td>3600</td>\n",
       "      <td>720.0</td>\n",
       "    </tr>\n",
       "    <tr>\n",
       "      <th>2</th>\n",
       "      <td>FIAT</td>\n",
       "      <td>FIAT 500 1.2 8v 51kW 69CV Lounge 3p.</td>\n",
       "      <td>12980</td>\n",
       "      <td>2596.0</td>\n",
       "    </tr>\n",
       "  </tbody>\n",
       "</table>\n",
       "</div>"
      ],
      "text/plain": [
       "   make                               version  price  price_dte\n",
       "0   KIA      KIA Carnival 2.9 CRDi VGT EX 5p.   9720     1944.0\n",
       "1   BMW                      BMW Serie 5  4p.   3600      720.0\n",
       "2  FIAT  FIAT 500 1.2 8v 51kW 69CV Lounge 3p.  12980     2596.0"
      ]
     },
     "execution_count": 26,
     "metadata": {},
     "output_type": "execute_result"
    }
   ],
   "source": [
    "# Afegim una nova columna al final del DataFrame\n",
    "cotxes['price_dte'] = cotxes.price * 0.20\n",
    "cotxes[['make', 'version', 'price', 'price_dte']].head(3)"
   ]
  },
  {
   "cell_type": "code",
   "execution_count": 27,
   "metadata": {},
   "outputs": [
    {
     "data": {
      "text/html": [
       "<div>\n",
       "<style scoped>\n",
       "    .dataframe tbody tr th:only-of-type {\n",
       "        vertical-align: middle;\n",
       "    }\n",
       "\n",
       "    .dataframe tbody tr th {\n",
       "        vertical-align: top;\n",
       "    }\n",
       "\n",
       "    .dataframe thead th {\n",
       "        text-align: right;\n",
       "    }\n",
       "</style>\n",
       "<table border=\"1\" class=\"dataframe\">\n",
       "  <thead>\n",
       "    <tr style=\"text-align: right;\">\n",
       "      <th></th>\n",
       "      <th>make</th>\n",
       "      <th>model</th>\n",
       "      <th>version</th>\n",
       "      <th>price</th>\n",
       "      <th>price_50%dte</th>\n",
       "      <th>price_financed</th>\n",
       "    </tr>\n",
       "  </thead>\n",
       "  <tbody>\n",
       "    <tr>\n",
       "      <th>0</th>\n",
       "      <td>KIA</td>\n",
       "      <td>Carnival</td>\n",
       "      <td>KIA Carnival 2.9 CRDi VGT EX 5p.</td>\n",
       "      <td>9720</td>\n",
       "      <td>4860.0</td>\n",
       "      <td>4860.0</td>\n",
       "    </tr>\n",
       "    <tr>\n",
       "      <th>1</th>\n",
       "      <td>BMW</td>\n",
       "      <td>Serie 5</td>\n",
       "      <td>BMW Serie 5  4p.</td>\n",
       "      <td>3600</td>\n",
       "      <td>1800.0</td>\n",
       "      <td>NaN</td>\n",
       "    </tr>\n",
       "    <tr>\n",
       "      <th>2</th>\n",
       "      <td>FIAT</td>\n",
       "      <td>500</td>\n",
       "      <td>FIAT 500 1.2 8v 51kW 69CV Lounge 3p.</td>\n",
       "      <td>12980</td>\n",
       "      <td>6490.0</td>\n",
       "      <td>6490.0</td>\n",
       "    </tr>\n",
       "  </tbody>\n",
       "</table>\n",
       "</div>"
      ],
      "text/plain": [
       "   make     model                               version  price  price_50%dte  \\\n",
       "0   KIA  Carnival      KIA Carnival 2.9 CRDi VGT EX 5p.   9720        4860.0   \n",
       "1   BMW   Serie 5                      BMW Serie 5  4p.   3600        1800.0   \n",
       "2  FIAT       500  FIAT 500 1.2 8v 51kW 69CV Lounge 3p.  12980        6490.0   \n",
       "\n",
       "   price_financed  \n",
       "0          4860.0  \n",
       "1             NaN  \n",
       "2          6490.0  "
      ]
     },
     "execution_count": 27,
     "metadata": {},
     "output_type": "execute_result"
    }
   ],
   "source": [
    "#Afegim una nova columna en una ubicació espcífica.\n",
    "cotxes.insert(5, 'price_50%dte', cotxes.price *0.50)\n",
    "cotxes.iloc[:, [1, 2, 3, 4, 5, 6]].head(3)"
   ]
  },
  {
   "cell_type": "markdown",
   "metadata": {},
   "source": [
    "#### Eliminar una columna"
   ]
  },
  {
   "cell_type": "code",
   "execution_count": 28,
   "metadata": {},
   "outputs": [
    {
     "data": {
      "text/html": [
       "<div>\n",
       "<style scoped>\n",
       "    .dataframe tbody tr th:only-of-type {\n",
       "        vertical-align: middle;\n",
       "    }\n",
       "\n",
       "    .dataframe tbody tr th {\n",
       "        vertical-align: top;\n",
       "    }\n",
       "\n",
       "    .dataframe thead th {\n",
       "        text-align: right;\n",
       "    }\n",
       "</style>\n",
       "<table border=\"1\" class=\"dataframe\">\n",
       "  <thead>\n",
       "    <tr style=\"text-align: right;\">\n",
       "      <th></th>\n",
       "      <th>make</th>\n",
       "      <th>model</th>\n",
       "      <th>version</th>\n",
       "      <th>price</th>\n",
       "      <th>price_financed</th>\n",
       "      <th>fuel</th>\n",
       "    </tr>\n",
       "  </thead>\n",
       "  <tbody>\n",
       "    <tr>\n",
       "      <th>0</th>\n",
       "      <td>KIA</td>\n",
       "      <td>Carnival</td>\n",
       "      <td>KIA Carnival 2.9 CRDi VGT EX 5p.</td>\n",
       "      <td>9720</td>\n",
       "      <td>4860.0</td>\n",
       "      <td>Diésel</td>\n",
       "    </tr>\n",
       "    <tr>\n",
       "      <th>1</th>\n",
       "      <td>BMW</td>\n",
       "      <td>Serie 5</td>\n",
       "      <td>BMW Serie 5  4p.</td>\n",
       "      <td>3600</td>\n",
       "      <td>NaN</td>\n",
       "      <td>Diésel</td>\n",
       "    </tr>\n",
       "    <tr>\n",
       "      <th>2</th>\n",
       "      <td>FIAT</td>\n",
       "      <td>500</td>\n",
       "      <td>FIAT 500 1.2 8v 51kW 69CV Lounge 3p.</td>\n",
       "      <td>12980</td>\n",
       "      <td>6490.0</td>\n",
       "      <td>Benzina</td>\n",
       "    </tr>\n",
       "  </tbody>\n",
       "</table>\n",
       "</div>"
      ],
      "text/plain": [
       "   make     model                               version  price  \\\n",
       "0   KIA  Carnival      KIA Carnival 2.9 CRDi VGT EX 5p.   9720   \n",
       "1   BMW   Serie 5                      BMW Serie 5  4p.   3600   \n",
       "2  FIAT       500  FIAT 500 1.2 8v 51kW 69CV Lounge 3p.  12980   \n",
       "\n",
       "   price_financed     fuel  \n",
       "0          4860.0   Diésel  \n",
       "1             NaN   Diésel  \n",
       "2          6490.0  Benzina  "
      ]
     },
     "execution_count": 28,
     "metadata": {},
     "output_type": "execute_result"
    }
   ],
   "source": [
    "# En el apply, axis = 1, és per totes columnes (pasa'm per totes les columnes)\n",
    "# Elimine'm de quin eix. \n",
    "# Si vols fer delete de una fila -> axis = 0\n",
    "\n",
    "# Insert no fa implace específic i drop s\n",
    "cotxes.drop('price_50%dte', axis = 1, inplace = True)\n",
    "\n",
    "cotxes.iloc[:, [1, 2, 3, 4, 5, 6]].head(3)"
   ]
  },
  {
   "cell_type": "markdown",
   "metadata": {},
   "source": [
    "### Renombrar una columna\n",
    "\n"
   ]
  },
  {
   "cell_type": "code",
   "execution_count": 29,
   "metadata": {},
   "outputs": [
    {
     "data": {
      "text/plain": [
       "Index(['company', 'make', 'model', 'version', 'price', 'price_financed',\n",
       "       'fuel', 'year', 'kms', 'power', 'doors', 'shift', 'color', 'photos',\n",
       "       'is_professional', 'dealer', 'phone', 'province', 'publish_date',\n",
       "       'insert_date', 'price_dte'],\n",
       "      dtype='object')"
      ]
     },
     "execution_count": 29,
     "metadata": {},
     "output_type": "execute_result"
    }
   ],
   "source": [
    "cotxes.rename(columns = {'price': 'preu'}).head(3)\n",
    "cotxes.columns"
   ]
  },
  {
   "cell_type": "code",
   "execution_count": 30,
   "metadata": {},
   "outputs": [
    {
     "data": {
      "text/html": [
       "<div>\n",
       "<style scoped>\n",
       "    .dataframe tbody tr th:only-of-type {\n",
       "        vertical-align: middle;\n",
       "    }\n",
       "\n",
       "    .dataframe tbody tr th {\n",
       "        vertical-align: top;\n",
       "    }\n",
       "\n",
       "    .dataframe thead th {\n",
       "        text-align: right;\n",
       "    }\n",
       "</style>\n",
       "<table border=\"1\" class=\"dataframe\">\n",
       "  <thead>\n",
       "    <tr style=\"text-align: right;\">\n",
       "      <th></th>\n",
       "      <th>company</th>\n",
       "      <th>make</th>\n",
       "      <th>model</th>\n",
       "      <th>version</th>\n",
       "      <th>preu</th>\n",
       "      <th>price_financed</th>\n",
       "      <th>fuel</th>\n",
       "      <th>year</th>\n",
       "      <th>kms</th>\n",
       "      <th>power</th>\n",
       "      <th>...</th>\n",
       "      <th>shift</th>\n",
       "      <th>color</th>\n",
       "      <th>photos</th>\n",
       "      <th>is_professional</th>\n",
       "      <th>dealer</th>\n",
       "      <th>phone</th>\n",
       "      <th>province</th>\n",
       "      <th>publish_date</th>\n",
       "      <th>insert_date</th>\n",
       "      <th>price_dte</th>\n",
       "    </tr>\n",
       "  </thead>\n",
       "  <tbody>\n",
       "    <tr>\n",
       "      <th>0</th>\n",
       "      <td>9881BCDD5A0AD4733037B3FB25E69C3A</td>\n",
       "      <td>KIA</td>\n",
       "      <td>Carnival</td>\n",
       "      <td>KIA Carnival 2.9 CRDi VGT EX 5p.</td>\n",
       "      <td>9720</td>\n",
       "      <td>4860.0</td>\n",
       "      <td>Diésel</td>\n",
       "      <td>2007</td>\n",
       "      <td>221000</td>\n",
       "      <td>185.0</td>\n",
       "      <td>...</td>\n",
       "      <td>Manual</td>\n",
       "      <td>Beige (champagne)</td>\n",
       "      <td>8</td>\n",
       "      <td>True</td>\n",
       "      <td>VM Motor</td>\n",
       "      <td>928493782</td>\n",
       "      <td>Las Palmas</td>\n",
       "      <td>2020-12-22 13:28:36</td>\n",
       "      <td>2020-12-25 00:00:00</td>\n",
       "      <td>1944.0</td>\n",
       "    </tr>\n",
       "    <tr>\n",
       "      <th>1</th>\n",
       "      <td>9881BCDD5A0AD4733037B3FB25E69C3A</td>\n",
       "      <td>BMW</td>\n",
       "      <td>Serie 5</td>\n",
       "      <td>BMW Serie 5  4p.</td>\n",
       "      <td>3600</td>\n",
       "      <td>NaN</td>\n",
       "      <td>Diésel</td>\n",
       "      <td>2001</td>\n",
       "      <td>205000</td>\n",
       "      <td>NaN</td>\n",
       "      <td>...</td>\n",
       "      <td>Manual</td>\n",
       "      <td>Verde</td>\n",
       "      <td>0</td>\n",
       "      <td>False</td>\n",
       "      <td>3F128E570B3A9009D7B52A0523AF43DD</td>\n",
       "      <td>DBB2949B54A306BA299A791B860EEBF6</td>\n",
       "      <td>Tarragona</td>\n",
       "      <td>2020-12-14 07:02:22</td>\n",
       "      <td>2020-12-26 00:00:00</td>\n",
       "      <td>720.0</td>\n",
       "    </tr>\n",
       "    <tr>\n",
       "      <th>2</th>\n",
       "      <td>9881BCDD5A0AD4733037B3FB25E69C3A</td>\n",
       "      <td>FIAT</td>\n",
       "      <td>500</td>\n",
       "      <td>FIAT 500 1.2 8v 51kW 69CV Lounge 3p.</td>\n",
       "      <td>12980</td>\n",
       "      <td>6490.0</td>\n",
       "      <td>Benzina</td>\n",
       "      <td>2017</td>\n",
       "      <td>75000</td>\n",
       "      <td>69.0</td>\n",
       "      <td>...</td>\n",
       "      <td>Manual</td>\n",
       "      <td>Negro</td>\n",
       "      <td>7</td>\n",
       "      <td>True</td>\n",
       "      <td>LAS PALMAS MOTOR</td>\n",
       "      <td>653895468</td>\n",
       "      <td>Las Palmas</td>\n",
       "      <td>2020-11-20 18:30:00</td>\n",
       "      <td>2020-12-08 00:00:00</td>\n",
       "      <td>2596.0</td>\n",
       "    </tr>\n",
       "  </tbody>\n",
       "</table>\n",
       "<p>3 rows × 21 columns</p>\n",
       "</div>"
      ],
      "text/plain": [
       "                            company  make     model  \\\n",
       "0  9881BCDD5A0AD4733037B3FB25E69C3A   KIA  Carnival   \n",
       "1  9881BCDD5A0AD4733037B3FB25E69C3A   BMW   Serie 5   \n",
       "2  9881BCDD5A0AD4733037B3FB25E69C3A  FIAT       500   \n",
       "\n",
       "                                version   preu  price_financed     fuel  year  \\\n",
       "0      KIA Carnival 2.9 CRDi VGT EX 5p.   9720          4860.0   Diésel  2007   \n",
       "1                      BMW Serie 5  4p.   3600             NaN   Diésel  2001   \n",
       "2  FIAT 500 1.2 8v 51kW 69CV Lounge 3p.  12980          6490.0  Benzina  2017   \n",
       "\n",
       "      kms  power  ...   shift              color photos  is_professional  \\\n",
       "0  221000  185.0  ...  Manual  Beige (champagne)      8             True   \n",
       "1  205000    NaN  ...  Manual              Verde      0            False   \n",
       "2   75000   69.0  ...  Manual              Negro      7             True   \n",
       "\n",
       "                             dealer                             phone  \\\n",
       "0                          VM Motor                         928493782   \n",
       "1  3F128E570B3A9009D7B52A0523AF43DD  DBB2949B54A306BA299A791B860EEBF6   \n",
       "2                  LAS PALMAS MOTOR                         653895468   \n",
       "\n",
       "     province         publish_date          insert_date price_dte  \n",
       "0  Las Palmas  2020-12-22 13:28:36  2020-12-25 00:00:00    1944.0  \n",
       "1   Tarragona  2020-12-14 07:02:22  2020-12-26 00:00:00     720.0  \n",
       "2  Las Palmas  2020-11-20 18:30:00  2020-12-08 00:00:00    2596.0  \n",
       "\n",
       "[3 rows x 21 columns]"
      ]
     },
     "execution_count": 30,
     "metadata": {},
     "output_type": "execute_result"
    }
   ],
   "source": [
    "# canviar el nom in-place\n",
    "cotxes.rename(columns = {'price': 'preu'}, inplace = True)\n",
    "cotxes.head(3)"
   ]
  },
  {
   "cell_type": "markdown",
   "metadata": {},
   "source": [
    "#### reindexar"
   ]
  },
  {
   "cell_type": "code",
   "execution_count": 31,
   "metadata": {},
   "outputs": [
    {
     "data": {
      "text/html": [
       "<div>\n",
       "<style scoped>\n",
       "    .dataframe tbody tr th:only-of-type {\n",
       "        vertical-align: middle;\n",
       "    }\n",
       "\n",
       "    .dataframe tbody tr th {\n",
       "        vertical-align: top;\n",
       "    }\n",
       "\n",
       "    .dataframe thead th {\n",
       "        text-align: right;\n",
       "    }\n",
       "</style>\n",
       "<table border=\"1\" class=\"dataframe\">\n",
       "  <thead>\n",
       "    <tr style=\"text-align: right;\">\n",
       "      <th></th>\n",
       "      <th>company</th>\n",
       "      <th>model</th>\n",
       "      <th>version</th>\n",
       "      <th>preu</th>\n",
       "      <th>price_financed</th>\n",
       "      <th>fuel</th>\n",
       "      <th>year</th>\n",
       "      <th>kms</th>\n",
       "      <th>power</th>\n",
       "      <th>doors</th>\n",
       "      <th>shift</th>\n",
       "      <th>color</th>\n",
       "      <th>photos</th>\n",
       "      <th>is_professional</th>\n",
       "      <th>dealer</th>\n",
       "      <th>phone</th>\n",
       "      <th>province</th>\n",
       "      <th>publish_date</th>\n",
       "      <th>insert_date</th>\n",
       "      <th>price_dte</th>\n",
       "    </tr>\n",
       "    <tr>\n",
       "      <th>make</th>\n",
       "      <th></th>\n",
       "      <th></th>\n",
       "      <th></th>\n",
       "      <th></th>\n",
       "      <th></th>\n",
       "      <th></th>\n",
       "      <th></th>\n",
       "      <th></th>\n",
       "      <th></th>\n",
       "      <th></th>\n",
       "      <th></th>\n",
       "      <th></th>\n",
       "      <th></th>\n",
       "      <th></th>\n",
       "      <th></th>\n",
       "      <th></th>\n",
       "      <th></th>\n",
       "      <th></th>\n",
       "      <th></th>\n",
       "      <th></th>\n",
       "    </tr>\n",
       "  </thead>\n",
       "  <tbody>\n",
       "    <tr>\n",
       "      <th>OPEL</th>\n",
       "      <td>9881BCDD5A0AD4733037B3FB25E69C3A</td>\n",
       "      <td>Astra</td>\n",
       "      <td>OPEL Astra  3p.</td>\n",
       "      <td>11100</td>\n",
       "      <td>NaN</td>\n",
       "      <td>Diésel</td>\n",
       "      <td>2009</td>\n",
       "      <td>137000</td>\n",
       "      <td>NaN</td>\n",
       "      <td>3.0</td>\n",
       "      <td>Manual</td>\n",
       "      <td>Rojo</td>\n",
       "      <td>0</td>\n",
       "      <td>False</td>\n",
       "      <td>22003DEA67E7C5BE6022A29E677668BC</td>\n",
       "      <td>67990DA67E557C1D0C1B6D1DB731938C</td>\n",
       "      <td>Barcelona</td>\n",
       "      <td>2020-11-21 16:37:13</td>\n",
       "      <td>2020-11-24 00:00:00</td>\n",
       "      <td>2220.0</td>\n",
       "    </tr>\n",
       "    <tr>\n",
       "      <th>OPEL</th>\n",
       "      <td>9881BCDD5A0AD4733037B3FB25E69C3A</td>\n",
       "      <td>Zafira</td>\n",
       "      <td>OPEL Zafira  5p.</td>\n",
       "      <td>2000</td>\n",
       "      <td>NaN</td>\n",
       "      <td>Diésel</td>\n",
       "      <td>2002</td>\n",
       "      <td>400000</td>\n",
       "      <td>NaN</td>\n",
       "      <td>5.0</td>\n",
       "      <td>Manual</td>\n",
       "      <td>Gris / Plata</td>\n",
       "      <td>0</td>\n",
       "      <td>False</td>\n",
       "      <td>BC2AB28E4CDA984CA76646874371E864</td>\n",
       "      <td>75793CB4F71AC1B3C89CF649FFC18C56</td>\n",
       "      <td>Lleida</td>\n",
       "      <td>2020-11-24 16:34:59</td>\n",
       "      <td>2021-01-13 00:00:00</td>\n",
       "      <td>400.0</td>\n",
       "    </tr>\n",
       "    <tr>\n",
       "      <th>OPEL</th>\n",
       "      <td>9881BCDD5A0AD4733037B3FB25E69C3A</td>\n",
       "      <td>Insignia</td>\n",
       "      <td>OPEL Insignia ST 2.0 CDTI ecoFLEX SS 140 CV Se...</td>\n",
       "      <td>16400</td>\n",
       "      <td>NaN</td>\n",
       "      <td>Diésel</td>\n",
       "      <td>2015</td>\n",
       "      <td>119000</td>\n",
       "      <td>140.0</td>\n",
       "      <td>5.0</td>\n",
       "      <td>Manual</td>\n",
       "      <td>Blanco</td>\n",
       "      <td>6</td>\n",
       "      <td>False</td>\n",
       "      <td>177DACB14B34103960EC27BA29BD686B</td>\n",
       "      <td>4658AA3778BC282BF1CD28EF70287566</td>\n",
       "      <td>Valladolid</td>\n",
       "      <td>2020-12-16 13:37:39</td>\n",
       "      <td>2020-12-26 00:00:00</td>\n",
       "      <td>3280.0</td>\n",
       "    </tr>\n",
       "  </tbody>\n",
       "</table>\n",
       "</div>"
      ],
      "text/plain": [
       "                               company     model  \\\n",
       "make                                               \n",
       "OPEL  9881BCDD5A0AD4733037B3FB25E69C3A     Astra   \n",
       "OPEL  9881BCDD5A0AD4733037B3FB25E69C3A    Zafira   \n",
       "OPEL  9881BCDD5A0AD4733037B3FB25E69C3A  Insignia   \n",
       "\n",
       "                                                version   preu  \\\n",
       "make                                                             \n",
       "OPEL                                    OPEL Astra  3p.  11100   \n",
       "OPEL                                   OPEL Zafira  5p.   2000   \n",
       "OPEL  OPEL Insignia ST 2.0 CDTI ecoFLEX SS 140 CV Se...  16400   \n",
       "\n",
       "      price_financed    fuel  year     kms  power  doors   shift  \\\n",
       "make                                                               \n",
       "OPEL             NaN  Diésel  2009  137000    NaN    3.0  Manual   \n",
       "OPEL             NaN  Diésel  2002  400000    NaN    5.0  Manual   \n",
       "OPEL             NaN  Diésel  2015  119000  140.0    5.0  Manual   \n",
       "\n",
       "             color  photos  is_professional                            dealer  \\\n",
       "make                                                                            \n",
       "OPEL          Rojo       0            False  22003DEA67E7C5BE6022A29E677668BC   \n",
       "OPEL  Gris / Plata       0            False  BC2AB28E4CDA984CA76646874371E864   \n",
       "OPEL        Blanco       6            False  177DACB14B34103960EC27BA29BD686B   \n",
       "\n",
       "                                 phone    province         publish_date  \\\n",
       "make                                                                      \n",
       "OPEL  67990DA67E557C1D0C1B6D1DB731938C   Barcelona  2020-11-21 16:37:13   \n",
       "OPEL  75793CB4F71AC1B3C89CF649FFC18C56      Lleida  2020-11-24 16:34:59   \n",
       "OPEL  4658AA3778BC282BF1CD28EF70287566  Valladolid  2020-12-16 13:37:39   \n",
       "\n",
       "              insert_date  price_dte  \n",
       "make                                  \n",
       "OPEL  2020-11-24 00:00:00     2220.0  \n",
       "OPEL  2021-01-13 00:00:00      400.0  \n",
       "OPEL  2020-12-26 00:00:00     3280.0  "
      ]
     },
     "execution_count": 31,
     "metadata": {},
     "output_type": "execute_result"
    }
   ],
   "source": [
    "cotxes.set_index('make').loc['OPEL'].head(3)"
   ]
  },
  {
   "cell_type": "code",
   "execution_count": 32,
   "metadata": {},
   "outputs": [
    {
     "data": {
      "text/html": [
       "<div>\n",
       "<style scoped>\n",
       "    .dataframe tbody tr th:only-of-type {\n",
       "        vertical-align: middle;\n",
       "    }\n",
       "\n",
       "    .dataframe tbody tr th {\n",
       "        vertical-align: top;\n",
       "    }\n",
       "\n",
       "    .dataframe thead th {\n",
       "        text-align: right;\n",
       "    }\n",
       "</style>\n",
       "<table border=\"1\" class=\"dataframe\">\n",
       "  <thead>\n",
       "    <tr style=\"text-align: right;\">\n",
       "      <th></th>\n",
       "      <th>company</th>\n",
       "      <th>make</th>\n",
       "      <th>model</th>\n",
       "      <th>version</th>\n",
       "      <th>preu</th>\n",
       "      <th>price_financed</th>\n",
       "      <th>fuel</th>\n",
       "      <th>year</th>\n",
       "      <th>kms</th>\n",
       "      <th>power</th>\n",
       "      <th>...</th>\n",
       "      <th>shift</th>\n",
       "      <th>color</th>\n",
       "      <th>photos</th>\n",
       "      <th>is_professional</th>\n",
       "      <th>dealer</th>\n",
       "      <th>phone</th>\n",
       "      <th>province</th>\n",
       "      <th>publish_date</th>\n",
       "      <th>insert_date</th>\n",
       "      <th>price_dte</th>\n",
       "    </tr>\n",
       "  </thead>\n",
       "  <tbody>\n",
       "    <tr>\n",
       "      <th>3</th>\n",
       "      <td>9881BCDD5A0AD4733037B3FB25E69C3A</td>\n",
       "      <td>OPEL</td>\n",
       "      <td>Astra</td>\n",
       "      <td>OPEL Astra  3p.</td>\n",
       "      <td>11100</td>\n",
       "      <td>NaN</td>\n",
       "      <td>Diésel</td>\n",
       "      <td>2009</td>\n",
       "      <td>137000</td>\n",
       "      <td>NaN</td>\n",
       "      <td>...</td>\n",
       "      <td>Manual</td>\n",
       "      <td>Rojo</td>\n",
       "      <td>0</td>\n",
       "      <td>False</td>\n",
       "      <td>22003DEA67E7C5BE6022A29E677668BC</td>\n",
       "      <td>67990DA67E557C1D0C1B6D1DB731938C</td>\n",
       "      <td>Barcelona</td>\n",
       "      <td>2020-11-21 16:37:13</td>\n",
       "      <td>2020-11-24 00:00:00</td>\n",
       "      <td>2220.0</td>\n",
       "    </tr>\n",
       "    <tr>\n",
       "      <th>5</th>\n",
       "      <td>9881BCDD5A0AD4733037B3FB25E69C3A</td>\n",
       "      <td>OPEL</td>\n",
       "      <td>Zafira</td>\n",
       "      <td>OPEL Zafira  5p.</td>\n",
       "      <td>2000</td>\n",
       "      <td>NaN</td>\n",
       "      <td>Diésel</td>\n",
       "      <td>2002</td>\n",
       "      <td>400000</td>\n",
       "      <td>NaN</td>\n",
       "      <td>...</td>\n",
       "      <td>Manual</td>\n",
       "      <td>Gris / Plata</td>\n",
       "      <td>0</td>\n",
       "      <td>False</td>\n",
       "      <td>BC2AB28E4CDA984CA76646874371E864</td>\n",
       "      <td>75793CB4F71AC1B3C89CF649FFC18C56</td>\n",
       "      <td>Lleida</td>\n",
       "      <td>2020-11-24 16:34:59</td>\n",
       "      <td>2021-01-13 00:00:00</td>\n",
       "      <td>400.0</td>\n",
       "    </tr>\n",
       "    <tr>\n",
       "      <th>8</th>\n",
       "      <td>9881BCDD5A0AD4733037B3FB25E69C3A</td>\n",
       "      <td>OPEL</td>\n",
       "      <td>Insignia</td>\n",
       "      <td>OPEL Insignia ST 2.0 CDTI ecoFLEX SS 140 CV Se...</td>\n",
       "      <td>16400</td>\n",
       "      <td>NaN</td>\n",
       "      <td>Diésel</td>\n",
       "      <td>2015</td>\n",
       "      <td>119000</td>\n",
       "      <td>140.0</td>\n",
       "      <td>...</td>\n",
       "      <td>Manual</td>\n",
       "      <td>Blanco</td>\n",
       "      <td>6</td>\n",
       "      <td>False</td>\n",
       "      <td>177DACB14B34103960EC27BA29BD686B</td>\n",
       "      <td>4658AA3778BC282BF1CD28EF70287566</td>\n",
       "      <td>Valladolid</td>\n",
       "      <td>2020-12-16 13:37:39</td>\n",
       "      <td>2020-12-26 00:00:00</td>\n",
       "      <td>3280.0</td>\n",
       "    </tr>\n",
       "  </tbody>\n",
       "</table>\n",
       "<p>3 rows × 21 columns</p>\n",
       "</div>"
      ],
      "text/plain": [
       "                            company  make     model  \\\n",
       "3  9881BCDD5A0AD4733037B3FB25E69C3A  OPEL     Astra   \n",
       "5  9881BCDD5A0AD4733037B3FB25E69C3A  OPEL    Zafira   \n",
       "8  9881BCDD5A0AD4733037B3FB25E69C3A  OPEL  Insignia   \n",
       "\n",
       "                                             version   preu  price_financed  \\\n",
       "3                                    OPEL Astra  3p.  11100             NaN   \n",
       "5                                   OPEL Zafira  5p.   2000             NaN   \n",
       "8  OPEL Insignia ST 2.0 CDTI ecoFLEX SS 140 CV Se...  16400             NaN   \n",
       "\n",
       "     fuel  year     kms  power  ...   shift         color photos  \\\n",
       "3  Diésel  2009  137000    NaN  ...  Manual          Rojo      0   \n",
       "5  Diésel  2002  400000    NaN  ...  Manual  Gris / Plata      0   \n",
       "8  Diésel  2015  119000  140.0  ...  Manual        Blanco      6   \n",
       "\n",
       "   is_professional                            dealer  \\\n",
       "3            False  22003DEA67E7C5BE6022A29E677668BC   \n",
       "5            False  BC2AB28E4CDA984CA76646874371E864   \n",
       "8            False  177DACB14B34103960EC27BA29BD686B   \n",
       "\n",
       "                              phone    province         publish_date  \\\n",
       "3  67990DA67E557C1D0C1B6D1DB731938C   Barcelona  2020-11-21 16:37:13   \n",
       "5  75793CB4F71AC1B3C89CF649FFC18C56      Lleida  2020-11-24 16:34:59   \n",
       "8  4658AA3778BC282BF1CD28EF70287566  Valladolid  2020-12-16 13:37:39   \n",
       "\n",
       "           insert_date price_dte  \n",
       "3  2020-11-24 00:00:00    2220.0  \n",
       "5  2021-01-13 00:00:00     400.0  \n",
       "8  2020-12-26 00:00:00    3280.0  \n",
       "\n",
       "[3 rows x 21 columns]"
      ]
     },
     "execution_count": 32,
     "metadata": {},
     "output_type": "execute_result"
    }
   ],
   "source": [
    "# seria el mateix que\n",
    "cotxes[cotxes.make == 'OPEL'].head(3)"
   ]
  },
  {
   "cell_type": "markdown",
   "metadata": {},
   "source": [
    "## Exportació\n",
    "-------------\n",
    "\n",
    "(https://pandas.pydata.org/docs/reference/io.html)[https://pandas.pydata.org/docs/reference/io.html]\n",
    "\n",
    "Per la exportació de DataFrames tenim diferents mètodes, però potser els més utilitzats són:\n",
    "* `to_csv()`\n",
    "* `to_excel()`\n",
    "* `to_json()`\n",
    "* `to_html()`"
   ]
  },
  {
   "cell_type": "raw",
   "metadata": {},
   "source": [
    "# Que no guardi els index (index = False) perquè ja es tornaran a generar quan els tornem a generar xD.\n",
    "cotxes.to_csv('./cotxes_exp.csv', index = False)"
   ]
  }
 ],
 "metadata": {
  "kernelspec": {
   "display_name": "Python 3 (ipykernel)",
   "language": "python",
   "name": "python3"
  },
  "language_info": {
   "codemirror_mode": {
    "name": "ipython",
    "version": 3
   },
   "file_extension": ".py",
   "mimetype": "text/x-python",
   "name": "python",
   "nbconvert_exporter": "python",
   "pygments_lexer": "ipython3",
   "version": "3.11.5"
  },
  "vscode": {
   "interpreter": {
    "hash": "cf02e6bf250f77d388a6bc5f87ea1eec704c2fee4b623a6d66585fe8e13b7d67"
   }
  }
 },
 "nbformat": 4,
 "nbformat_minor": 4
}
