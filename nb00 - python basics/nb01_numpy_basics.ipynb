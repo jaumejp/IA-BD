{
 "cells": [
  {
   "cell_type": "markdown",
   "id": "31323c1a",
   "metadata": {},
   "source": [
    "### Numpy basics"
   ]
  },
  {
   "cell_type": "markdown",
   "id": "b09dab3d",
   "metadata": {},
   "source": [
    "- arrays: vectors and matrices\n",
    "- slicing\n",
    "\n"
   ]
  },
  {
   "cell_type": "code",
   "execution_count": 4,
   "id": "e7c4862c",
   "metadata": {},
   "outputs": [],
   "source": [
    "import numpy as np"
   ]
  },
  {
   "cell_type": "code",
   "execution_count": null,
   "id": "cdd647cc",
   "metadata": {},
   "outputs": [],
   "source": []
  },
  {
   "cell_type": "markdown",
   "id": "2b11982f",
   "metadata": {},
   "source": [
    "#### Arrays"
   ]
  },
  {
   "cell_type": "code",
   "execution_count": 5,
   "id": "080479da",
   "metadata": {},
   "outputs": [
    {
     "data": {
      "text/plain": [
       "array([3, 7, 1, 8, 3, 9])"
      ]
     },
     "execution_count": 5,
     "metadata": {},
     "output_type": "execute_result"
    }
   ],
   "source": [
    "# an array is a collection of numbers\n",
    "np.array([3, 7, 1, 8, 3, 9])"
   ]
  },
  {
   "cell_type": "markdown",
   "id": "eb90eb52",
   "metadata": {},
   "source": [
    "#### Vectors"
   ]
  },
  {
   "cell_type": "code",
   "execution_count": 6,
   "id": "a3652fcd",
   "metadata": {},
   "outputs": [
    {
     "data": {
      "text/plain": [
       "array([3, 7, 1, 8, 3, 9])"
      ]
     },
     "execution_count": 6,
     "metadata": {},
     "output_type": "execute_result"
    }
   ],
   "source": [
    "# a vector is an array where the elements are arranged in a single row\n",
    "v = np.array([3, 7, 1, 8, 3, 9])\n",
    "v"
   ]
  },
  {
   "cell_type": "code",
   "execution_count": 7,
   "id": "b0288491",
   "metadata": {},
   "outputs": [
    {
     "data": {
      "text/plain": [
       "6"
      ]
     },
     "execution_count": 7,
     "metadata": {},
     "output_type": "execute_result"
    }
   ],
   "source": [
    "# length of a vector\n",
    "len(v)"
   ]
  },
  {
   "cell_type": "code",
   "execution_count": 8,
   "id": "66ca8c52",
   "metadata": {},
   "outputs": [
    {
     "data": {
      "text/plain": [
       "(6,)"
      ]
     },
     "execution_count": 8,
     "metadata": {},
     "output_type": "execute_result"
    }
   ],
   "source": [
    "# shape of a vector\n",
    "v.shape"
   ]
  },
  {
   "cell_type": "code",
   "execution_count": 9,
   "id": "de65ec35",
   "metadata": {},
   "outputs": [
    {
     "data": {
      "text/plain": [
       "8"
      ]
     },
     "execution_count": 9,
     "metadata": {},
     "output_type": "execute_result"
    }
   ],
   "source": [
    "# get an element from a vector\n",
    "v[3]"
   ]
  },
  {
   "cell_type": "code",
   "execution_count": 10,
   "id": "da5408a0",
   "metadata": {},
   "outputs": [
    {
     "data": {
      "text/plain": [
       "array([ 3,  7,  1, 12,  3,  9])"
      ]
     },
     "execution_count": 10,
     "metadata": {},
     "output_type": "execute_result"
    }
   ],
   "source": [
    "# set an element of a vector\n",
    "v[3] = 12\n",
    "v"
   ]
  },
  {
   "cell_type": "markdown",
   "id": "6fd69b2a",
   "metadata": {},
   "source": [
    "#### Matrices"
   ]
  },
  {
   "cell_type": "code",
   "execution_count": 11,
   "id": "b3c9be08",
   "metadata": {},
   "outputs": [
    {
     "data": {
      "text/plain": [
       "array([[3, 7, 1],\n",
       "       [8, 3, 9]])"
      ]
     },
     "execution_count": 11,
     "metadata": {},
     "output_type": "execute_result"
    }
   ],
   "source": [
    "# a matrix is an array where the elements are arranged in several rows (or rows and columns)\n",
    "m = np.array([[3, 7, 1], [8, 3, 9]])\n",
    "m"
   ]
  },
  {
   "cell_type": "code",
   "execution_count": 12,
   "id": "fe7fb0ea",
   "metadata": {},
   "outputs": [
    {
     "data": {
      "text/plain": [
       "2"
      ]
     },
     "execution_count": 12,
     "metadata": {},
     "output_type": "execute_result"
    }
   ],
   "source": [
    "# length of a matrix (!!)\n",
    "len(m)"
   ]
  },
  {
   "cell_type": "code",
   "execution_count": 13,
   "id": "a840bff1",
   "metadata": {},
   "outputs": [
    {
     "data": {
      "text/plain": [
       "6"
      ]
     },
     "execution_count": 13,
     "metadata": {},
     "output_type": "execute_result"
    }
   ],
   "source": [
    "# size of a matrix: total number of elements\n",
    "m.size"
   ]
  },
  {
   "cell_type": "code",
   "execution_count": 14,
   "id": "730d42da",
   "metadata": {},
   "outputs": [
    {
     "data": {
      "text/plain": [
       "(2, 3)"
      ]
     },
     "execution_count": 14,
     "metadata": {},
     "output_type": "execute_result"
    }
   ],
   "source": [
    "# shape of a matrix\n",
    "m.shape"
   ]
  },
  {
   "cell_type": "code",
   "execution_count": 15,
   "id": "9453f89d",
   "metadata": {},
   "outputs": [
    {
     "data": {
      "text/plain": [
       "2"
      ]
     },
     "execution_count": 15,
     "metadata": {},
     "output_type": "execute_result"
    }
   ],
   "source": [
    "# number of rows\n",
    "m.shape[0]"
   ]
  },
  {
   "cell_type": "code",
   "execution_count": 16,
   "id": "d10cc455",
   "metadata": {},
   "outputs": [
    {
     "data": {
      "text/plain": [
       "3"
      ]
     },
     "execution_count": 16,
     "metadata": {},
     "output_type": "execute_result"
    }
   ],
   "source": [
    "# number of columns\n",
    "m.shape[1]"
   ]
  },
  {
   "cell_type": "code",
   "execution_count": 17,
   "id": "c387b6f4",
   "metadata": {},
   "outputs": [
    {
     "data": {
      "text/plain": [
       "8"
      ]
     },
     "execution_count": 17,
     "metadata": {},
     "output_type": "execute_result"
    }
   ],
   "source": [
    "# get an element of a matrix: (row, column) coordinates\n",
    "m[1, 0]"
   ]
  },
  {
   "cell_type": "code",
   "execution_count": 18,
   "id": "7fd4ad42",
   "metadata": {},
   "outputs": [
    {
     "data": {
      "text/plain": [
       "array([[ 3,  7,  1],\n",
       "       [25,  3,  9]])"
      ]
     },
     "execution_count": 18,
     "metadata": {},
     "output_type": "execute_result"
    }
   ],
   "source": [
    "# set an element of a matrix\n",
    "m[1, 0] = 25\n",
    "m"
   ]
  },
  {
   "cell_type": "markdown",
   "id": "576c5112",
   "metadata": {},
   "source": [
    "#### slicing"
   ]
  },
  {
   "cell_type": "code",
   "execution_count": 19,
   "id": "9473ab34",
   "metadata": {},
   "outputs": [
    {
     "data": {
      "text/plain": [
       "array([ 3,  7,  1, 12,  3,  9])"
      ]
     },
     "execution_count": 19,
     "metadata": {},
     "output_type": "execute_result"
    }
   ],
   "source": [
    "# vector\n",
    "v"
   ]
  },
  {
   "cell_type": "code",
   "execution_count": 20,
   "id": "f172c825",
   "metadata": {},
   "outputs": [
    {
     "data": {
      "text/plain": [
       "array([3, 7, 1])"
      ]
     },
     "execution_count": 20,
     "metadata": {},
     "output_type": "execute_result"
    }
   ],
   "source": [
    "# front slice\n",
    "v[:3]"
   ]
  },
  {
   "cell_type": "code",
   "execution_count": 21,
   "id": "bb701df9",
   "metadata": {},
   "outputs": [
    {
     "data": {
      "text/plain": [
       "array([3, 9])"
      ]
     },
     "execution_count": 21,
     "metadata": {},
     "output_type": "execute_result"
    }
   ],
   "source": [
    "# back slice\n",
    "v[-2:]"
   ]
  },
  {
   "cell_type": "code",
   "execution_count": 22,
   "id": "21f695ed",
   "metadata": {},
   "outputs": [
    {
     "data": {
      "text/plain": [
       "array([[ 3,  7,  1],\n",
       "       [25,  3,  9]])"
      ]
     },
     "execution_count": 22,
     "metadata": {},
     "output_type": "execute_result"
    }
   ],
   "source": [
    "# matrix\n",
    "m"
   ]
  },
  {
   "cell_type": "code",
   "execution_count": 23,
   "id": "c8d469ac",
   "metadata": {},
   "outputs": [
    {
     "data": {
      "text/plain": [
       "array([25,  3,  9])"
      ]
     },
     "execution_count": 23,
     "metadata": {},
     "output_type": "execute_result"
    }
   ],
   "source": [
    "# row slicing\n",
    "m[1, :]"
   ]
  },
  {
   "cell_type": "code",
   "execution_count": 24,
   "id": "ada21558",
   "metadata": {},
   "outputs": [
    {
     "data": {
      "text/plain": [
       "array([25,  3,  9])"
      ]
     },
     "execution_count": 24,
     "metadata": {},
     "output_type": "execute_result"
    }
   ],
   "source": [
    "m[1]"
   ]
  },
  {
   "cell_type": "code",
   "execution_count": 25,
   "id": "bbb40d76",
   "metadata": {},
   "outputs": [
    {
     "data": {
      "text/plain": [
       "array([1, 9])"
      ]
     },
     "execution_count": 25,
     "metadata": {},
     "output_type": "execute_result"
    }
   ],
   "source": [
    "# column slicing\n",
    "m[:, 2]"
   ]
  },
  {
   "cell_type": "code",
   "execution_count": 26,
   "id": "2f24884b",
   "metadata": {},
   "outputs": [
    {
     "data": {
      "text/plain": [
       "array([[3, 9]])"
      ]
     },
     "execution_count": 26,
     "metadata": {},
     "output_type": "execute_result"
    }
   ],
   "source": [
    "# slice\n",
    "m[1:, 1:]"
   ]
  },
  {
   "cell_type": "code",
   "execution_count": 31,
   "id": "2149d3a6",
   "metadata": {},
   "outputs": [
    {
     "data": {
      "text/plain": [
       "array([[ 1,  2,  3,  4],\n",
       "       [ 5,  6,  7,  8],\n",
       "       [ 9, 10, 11, 12],\n",
       "       [13, 14, 15, 16]])"
      ]
     },
     "execution_count": 31,
     "metadata": {},
     "output_type": "execute_result"
    }
   ],
   "source": [
    "m2 = np.array([[1,2,3,4], [5,6,7,8], [9,10,11,12], [13,14,15,16]])\n",
    "m2"
   ]
  },
  {
   "cell_type": "code",
   "execution_count": 41,
   "id": "df24099d",
   "metadata": {},
   "outputs": [
    {
     "data": {
      "text/plain": [
       "array([[ 6,  7],\n",
       "       [10, 11]])"
      ]
     },
     "execution_count": 41,
     "metadata": {},
     "output_type": "execute_result"
    }
   ],
   "source": [
    "# Per files i columnes\n",
    "m2[1:3, 1:3]"
   ]
  },
  {
   "cell_type": "code",
   "execution_count": 47,
   "id": "8da93a2a",
   "metadata": {},
   "outputs": [
    {
     "name": "stdout",
     "output_type": "stream",
     "text": [
      "[[ 6  7  8]\n",
      " [10 11 12]\n",
      " [14 15 16]]\n",
      "[[ 6  7  8]\n",
      " [10 11 12]\n",
      " [14 15 16]]\n"
     ]
    }
   ],
   "source": [
    "print(m2[1:4, 1:4])\n",
    "\n",
    "print(m2[1::, 1::])"
   ]
  },
  {
   "cell_type": "code",
   "execution_count": 46,
   "id": "c62d9d1b",
   "metadata": {},
   "outputs": [
    {
     "data": {
      "text/plain": [
       "3"
      ]
     },
     "execution_count": 46,
     "metadata": {},
     "output_type": "execute_result"
    }
   ],
   "source": [
    "m2[0,2]"
   ]
  },
  {
   "cell_type": "markdown",
   "id": "200d3b14",
   "metadata": {},
   "source": [
    "#### iterate on vectors/matrices"
   ]
  },
  {
   "cell_type": "code",
   "execution_count": 28,
   "id": "41af0097",
   "metadata": {},
   "outputs": [
    {
     "name": "stdout",
     "output_type": "stream",
     "text": [
      "3\n",
      "7\n",
      "1\n",
      "12\n",
      "3\n",
      "9\n"
     ]
    }
   ],
   "source": [
    "for x in v: print(x)"
   ]
  },
  {
   "cell_type": "code",
   "execution_count": 25,
   "id": "ea0c5ab2",
   "metadata": {},
   "outputs": [
    {
     "name": "stdout",
     "output_type": "stream",
     "text": [
      "[3 7 1]\n",
      "[25  3  9]\n"
     ]
    }
   ],
   "source": [
    "for row in m: print(row)"
   ]
  },
  {
   "cell_type": "code",
   "execution_count": 26,
   "id": "91f7e1ee",
   "metadata": {},
   "outputs": [
    {
     "name": "stdout",
     "output_type": "stream",
     "text": [
      "[3 7 1]\n",
      "3\n",
      "7\n",
      "1\n",
      "[25  3  9]\n",
      "25\n",
      "3\n",
      "9\n"
     ]
    }
   ],
   "source": [
    "for row in m:\n",
    "    print(row)\n",
    "    for x in row:\n",
    "        print(x)"
   ]
  },
  {
   "cell_type": "markdown",
   "id": "4af9e559",
   "metadata": {},
   "source": [
    "#### iterate using indexes"
   ]
  },
  {
   "cell_type": "code",
   "execution_count": 57,
   "id": "6a222c2f",
   "metadata": {},
   "outputs": [
    {
     "name": "stdout",
     "output_type": "stream",
     "text": [
      "[[ 3  7  1]\n",
      " [25  3  9]]\n",
      "\n",
      "(2, 3)\n",
      "\n",
      "i = 0\n",
      "[ 3 25]\n",
      "\n",
      "i = 1\n",
      "[7 3]\n",
      "\n",
      "i = 2\n",
      "[1 9]\n",
      "\n"
     ]
    }
   ],
   "source": [
    "print(m)\n",
    "print()\n",
    "print(m.shape)\n",
    "print()\n",
    "\n",
    "for column_index in range(m.shape[1]): \n",
    "    print(\"i =\",column_index)\n",
    "    print(m[:, column_index])\n",
    "    print()"
   ]
  },
  {
   "cell_type": "code",
   "execution_count": 80,
   "id": "a4696084",
   "metadata": {},
   "outputs": [
    {
     "name": "stdout",
     "output_type": "stream",
     "text": [
      "matriu: \n",
      " [[ 1  2  3  4]\n",
      " [ 5  6  7  8]\n",
      " [ 9 10 11 12]\n",
      " [13 14 15 16]]\n",
      "\n",
      "[ 3  7 11 15]\n",
      "[ 4  8 12 16]\n",
      "\n",
      "[[ 3  4]\n",
      " [ 7  8]\n",
      " [11 12]\n",
      " [15 16]]\n",
      "\n",
      "[ 3  7 11 15]\n",
      "[ 4  8 12 16]\n"
     ]
    }
   ],
   "source": [
    "# Treure files i columnes de la  matriu anterior \n",
    "print(\"matriu: \\n\", m2)\n",
    "\n",
    "print()\n",
    "for column_index in range(m2.shape[1]): \n",
    "    if column_index > 1:\n",
    "        print(m2[:, column_index])\n",
    "\n",
    "print()\n",
    "print(m2[:,2::])\n",
    "\n",
    "print()\n",
    "for column_index in range(2, m2.shape[1]): \n",
    "    print(m2[:, column_index])"
   ]
  },
  {
   "cell_type": "code",
   "execution_count": 82,
   "id": "d56255d0",
   "metadata": {},
   "outputs": [
    {
     "name": "stdout",
     "output_type": "stream",
     "text": [
      "[[ 3  7  1]\n",
      " [25  3  9]]\n",
      "\n",
      "[ 3 25]\n",
      "3\n",
      "25\n",
      "[7 3]\n",
      "7\n",
      "3\n",
      "[1 9]\n",
      "1\n",
      "9\n"
     ]
    }
   ],
   "source": [
    "# Iterar per cada element de una matriu però tinguent amb compte les files i les columnes pas a pas\n",
    "print(m)\n",
    "print()\n",
    "\n",
    "for colIdx in range(m.shape[1]):\n",
    "    print(m[:, colIdx])\n",
    "    for rowIdx in range(m.shape[0]):\n",
    "        print(m[rowIdx, colIdx])"
   ]
  },
  {
   "cell_type": "code",
   "execution_count": 90,
   "id": "d2ea5b49",
   "metadata": {},
   "outputs": [
    {
     "name": "stdout",
     "output_type": "stream",
     "text": [
      "[[ 3  7  1]\n",
      " [25  3  9]]\n",
      "\n",
      "[3 7 1]\n",
      "3\n",
      "7\n",
      "1\n",
      "\n",
      "[25  3  9]\n",
      "25\n",
      "3\n",
      "9\n",
      "\n"
     ]
    }
   ],
   "source": [
    "# Ara el revés, iterar primer per les files i després imprimir les columnes\n",
    "print(m)\n",
    "\n",
    "print()\n",
    "for rowIdx in range(m.shape[0]):\n",
    "    print(m[rowIdx, :])\n",
    "    for colIdx in range(m.shape[1]):\n",
    "        print(m[rowIdx, colIdx])\n",
    "    print()"
   ]
  }
 ],
 "metadata": {
  "kernelspec": {
   "display_name": "Python 3 (ipykernel)",
   "language": "python",
   "name": "python3"
  },
  "language_info": {
   "codemirror_mode": {
    "name": "ipython",
    "version": 3
   },
   "file_extension": ".py",
   "mimetype": "text/x-python",
   "name": "python",
   "nbconvert_exporter": "python",
   "pygments_lexer": "ipython3",
   "version": "3.11.5"
  }
 },
 "nbformat": 4,
 "nbformat_minor": 5
}
