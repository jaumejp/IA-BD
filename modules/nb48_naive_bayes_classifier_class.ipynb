{
 "cells": [
  {
   "cell_type": "code",
   "execution_count": 1,
   "metadata": {
    "id": "hHWnnU5pLLA5"
   },
   "outputs": [],
   "source": [
    "import numpy as np\n",
    "import matplotlib.pyplot as plt\n",
    "import pandas as pd\n",
    "import seaborn as sns\n",
    "from sklearn.model_selection import train_test_split\n",
    "sns.set_theme()\n",
    "import string\n",
    "import random"
   ]
  },
  {
   "cell_type": "markdown",
   "metadata": {
    "id": "JKtiR2TBd9S7"
   },
   "source": [
    "## Per tal que la classe que fem vagi bé, determinem que haurà de tenir dues columnes:\n",
    "- Label (on hi han les variables categoriques de classificació).\n",
    "- Text on hi haurà el text a classificar."
   ]
  },
  {
   "cell_type": "code",
   "execution_count": 2,
   "metadata": {
    "id": "SDTm8OqqLgbF"
   },
   "outputs": [],
   "source": [
    "file_path = '../Dades/SMSSpamCollection'"
   ]
  },
  {
   "cell_type": "code",
   "execution_count": 3,
   "metadata": {
    "id": "W-GkMyvMLgjU"
   },
   "outputs": [],
   "source": [
    "df = pd.read_csv(file_path, header=None, sep='\\t', names=['Label', 'Text'])"
   ]
  },
  {
   "cell_type": "code",
   "execution_count": 4,
   "metadata": {
    "id": "_9iNKoYlLgps"
   },
   "outputs": [
    {
     "data": {
      "text/html": [
       "<div>\n",
       "<style scoped>\n",
       "    .dataframe tbody tr th:only-of-type {\n",
       "        vertical-align: middle;\n",
       "    }\n",
       "\n",
       "    .dataframe tbody tr th {\n",
       "        vertical-align: top;\n",
       "    }\n",
       "\n",
       "    .dataframe thead th {\n",
       "        text-align: right;\n",
       "    }\n",
       "</style>\n",
       "<table border=\"1\" class=\"dataframe\">\n",
       "  <thead>\n",
       "    <tr style=\"text-align: right;\">\n",
       "      <th></th>\n",
       "      <th>Label</th>\n",
       "      <th>Text</th>\n",
       "    </tr>\n",
       "  </thead>\n",
       "  <tbody>\n",
       "    <tr>\n",
       "      <th>0</th>\n",
       "      <td>ham</td>\n",
       "      <td>Go until jurong point, crazy.. Available only ...</td>\n",
       "    </tr>\n",
       "    <tr>\n",
       "      <th>1</th>\n",
       "      <td>ham</td>\n",
       "      <td>Ok lar... Joking wif u oni...</td>\n",
       "    </tr>\n",
       "    <tr>\n",
       "      <th>2</th>\n",
       "      <td>spam</td>\n",
       "      <td>Free entry in 2 a wkly comp to win FA Cup fina...</td>\n",
       "    </tr>\n",
       "    <tr>\n",
       "      <th>3</th>\n",
       "      <td>ham</td>\n",
       "      <td>U dun say so early hor... U c already then say...</td>\n",
       "    </tr>\n",
       "    <tr>\n",
       "      <th>4</th>\n",
       "      <td>ham</td>\n",
       "      <td>Nah I don't think he goes to usf, he lives aro...</td>\n",
       "    </tr>\n",
       "  </tbody>\n",
       "</table>\n",
       "</div>"
      ],
      "text/plain": [
       "  Label                                               Text\n",
       "0   ham  Go until jurong point, crazy.. Available only ...\n",
       "1   ham                      Ok lar... Joking wif u oni...\n",
       "2  spam  Free entry in 2 a wkly comp to win FA Cup fina...\n",
       "3   ham  U dun say so early hor... U c already then say...\n",
       "4   ham  Nah I don't think he goes to usf, he lives aro..."
      ]
     },
     "execution_count": 4,
     "metadata": {},
     "output_type": "execute_result"
    }
   ],
   "source": [
    "df.head()"
   ]
  },
  {
   "cell_type": "markdown",
   "metadata": {
    "id": "ExFiqCTyLwdc"
   },
   "source": [
    "## Fem una classe on li passem un dataframe com el que tenim d'exemple i ens realitzi tots els calculs del naive bayes.\n",
    "\n",
    "### Mètodes principals:\n",
    "2. Fit\n",
    "1. Evaluate\n",
    "\n",
    "- **Soft classification:** probabilitats per cada classe. Tornar dataframe amb la probabilitat de que sigui spam i una altre columna de que sigui ham. (una columna nova per cada variabler categorica que tinguem).\n",
    "- **Hard classification:** la funció ens retornaria la que té superior probabilitat. dataframe on hi ha la predicció.\n",
    "<hr/>\n",
    "- Després podem generalitzar de si passem les etiquetes son ham, spam, content trist, etc.\n",
    "- Haurem de fer un sentiment analysis classificats amb 6 classes. Hauría de ser un parametre de init i si vols tenen aquest nom. O, que el dataframe ja estigui *tractat* i que ho generi automaticament la classe."
   ]
  },
  {
   "cell_type": "code",
   "execution_count": 5,
   "metadata": {
    "id": "uikjRB1GLgwU"
   },
   "outputs": [],
   "source": [
    "def print_first_n_elements(dictionary, n):\n",
    "    count = 0\n",
    "    msg = \"\"\n",
    "    for key, value in dictionary.items():\n",
    "        msg += f\"{key}: {value} \\n\"\n",
    "        count += 1\n",
    "        if count == n:\n",
    "            break\n",
    "    return msg\n",
    "\n",
    "class NaiveBayes():\n",
    "\n",
    "    def __init__(self, train):\n",
    "        # *1 -> Per facilitat de lectura, no es recomenable fer el \"fit\" al \"init\"\n",
    "        df = self.add_tokenize_col(train)\n",
    "        self.init_dictionary(df)\n",
    "        self.fill_dictionary(df)\n",
    "        self.set_n_words_for_label(df)\n",
    "        self.set_prior(df)\n",
    "\n",
    "    # Representation of the object when using the print() function.\n",
    "    def __repr__(self):\n",
    "        return '+++ head of test data: \\n%s' %(print_first_n_elements(self.dictionary, 3))\n",
    "\n",
    "    # print the n, first registers of the dictionary\n",
    "    def head(self, n=5):\n",
    "        print('+++ first %d elements of test data: \\n%s' %(n, print_first_n_elements(self.dictionary, n)))\n",
    "\n",
    "    # Add the column tokenize to the dataframe\n",
    "    def add_tokenize_col(self, df):\n",
    "        df['tokens'] = df.Text.apply(self.tokenize)\n",
    "        return df\n",
    "\n",
    "    # Given a message (a group of words), this function returns an array containing each word separately.\n",
    "    # It processes the message by replacing punctuation with spaces, converting to lowercase, and then splitting into individual words.\n",
    "    def tokenize(self, message):\n",
    "        for p in string.punctuation:\n",
    "            message = message.replace(p, ' ')\n",
    "        return message.lower().split()\n",
    "\n",
    "    # Create a dictionary where each unique word is a key, and the corresponding value is another dictionary.\n",
    "    # The inner dictionary contains all possible labels from the 'Label' column in the DataFrame,\n",
    "    # and each label is initialized with a counter set to 0.\n",
    "    def init_dictionary(self, df):\n",
    "        self.dictionary = { word: {label: 0 for label in df.Label.unique()} for word in list(set(df['tokens'].sum())) }\n",
    "        # Això és poc eficient, com ho ha fet ella al nbc.py està millor\n",
    "    \n",
    "    # Check all 'tokens' columns in every row. Every time a word appears, increase the counter for that word\n",
    "    # in the current 'label' being processed.\n",
    "    def fill_dictionary(self, df):\n",
    "        _ = df.apply(self.count_words, axis = 1)\n",
    "        del _\n",
    "\n",
    "    def count_words(self, message):\n",
    "        for word in message.tokens:\n",
    "            self.dictionary[word][message.Label] +=1\n",
    "\n",
    "    # We aim to count the occurrences of each word or token for a specific label ('ham' or 'spam', for example).\n",
    "    # Iterate through all key-value pairs in the dictionary. The key is 'word' and the value is 'counts'\n",
    "    # The value or 'counts' is another dictionary representing counts for each label. Ex: 'love' : {'ham': 0, 'spam': 25}.\n",
    "    # Access all the words and retrieve their counts in the inner dictionary with the specified label to create a list.\n",
    "    # Finally, apply the sum() function to calculate the total occurrences of a word with the specified label.\n",
    "    # So, we do it for all the possible labels\n",
    "    def set_n_words_for_label(self, df):\n",
    "        self.n_words_for_label = { f'n_{label}': sum(counts[label] for word, counts in self.dictionary.items()) for label in df.Label.unique() }\n",
    "\n",
    "    # Set all the priors (how many times appears each label in the dataset)\n",
    "    def set_prior(self, df):\n",
    "        self.prior = df.Label.value_counts(normalize = True)\n",
    "\n",
    "    # Given new data, overrides all the train data given on the __init__ method.\n",
    "    def fit(self, new_train_data):\n",
    "        self.__init__(new_train_data)\n",
    "\n",
    "    # Show histogram of frequency of words\n",
    "    def hist_word_count_plt(self, col='', n=100):\n",
    "        if col == '':\n",
    "            col = next(iter(next(iter(self.dictionary.items()))[1].items()))[0]\n",
    "        try:\n",
    "            if int(n) <= 0:\n",
    "                n = 100\n",
    "        except ValueError:\n",
    "            n = 100\n",
    "\n",
    "        random_keys = random.sample(self.dictionary.keys(), n)\n",
    "        random_records = {key: self.dictionary[key] for key in random_keys}\n",
    "\n",
    "        df = pd.DataFrame(random_records).T\n",
    "        plt.figure(figsize=(12, 26))\n",
    "        sns.barplot(x=df[col], y=df.index, color='red')\n",
    "        plt.title(f'Frequency of words that are {col}')\n",
    "        plt.xlabel('Frequency')\n",
    "        plt.ylabel('Word')\n",
    "        plt.xticks(fontsize=6)\n",
    "        plt.show()\n",
    "\n",
    "    def x_word_likelihood(self, label, word, alpha):\n",
    "        if word in self.dictionary:\n",
    "            return (self.dictionary[word][label] + alpha) /(self.n_words_for_label[f'n_{label}'] +(len(self.dictionary) *alpha))\n",
    "        else:\n",
    "            return 1\n",
    "\n",
    "    def classify(self, tokens, alpha):\n",
    "        posts = { key: value for key, value in self.prior.items() }\n",
    "\n",
    "        for word in tokens:\n",
    "            for key, value in posts.items():\n",
    "                posts[key] *= self.x_word_likelihood(key, word, alpha)\n",
    "\n",
    "        # Rename the dictionary key with post_ on the beginning\n",
    "        return { f'post_{key}' : value for key, value in posts.items() }\n",
    "\n",
    "    def expandir_diccionario(self, row):\n",
    "        return pd.Series(row['predicted'])\n",
    "\n",
    "    def obtener_clave_valor_mas_alto(self, dictionary):\n",
    "        all_zeros = all(value == 0 for value in dictionary.values())\n",
    "        if all_zeros:\n",
    "            return '??'\n",
    "\n",
    "        max_key = max(dictionary, key=dictionary.get)\n",
    "        return max_key.split('_')[1]\n",
    "\n",
    "    # *2-> No fer-ho per un dataframe sino per una row i cridar-lo desde fora\n",
    "    def soft_eval(self, test, alpha=1):\n",
    "        df = self.add_tokenize_col(test)\n",
    "        df['predicted'] = df.tokens.apply(lambda x: self.classify(x, alpha))\n",
    "        df_expandido = pd.concat([df, df.apply(self.expandir_diccionario, axis=1)], axis=1)\n",
    "        df_expandido = df_expandido.drop('predicted', axis=1)\n",
    "        return df_expandido\n",
    "\n",
    "    def hard_eval(self, test, alpha=1):\n",
    "        df = self.add_tokenize_col(test)\n",
    "        df['predicted_aux'] = df.tokens.apply(lambda x: self.classify(x, alpha))\n",
    "        df['predicted'] = df['predicted_aux'].apply(self.obtener_clave_valor_mas_alto)\n",
    "        df = df.drop('predicted_aux', axis=1)\n",
    "        return df\n",
    "\n",
    "    def percentages_eval(self, test, alpha=1):\n",
    "        df = self.add_tokenize_col(test)\n",
    "        df = self.hard_eval(df, alpha)\n",
    "        return pd.concat((df.groupby('Label').predicted.value_counts(), df.groupby('Label').predicted.value_counts(normalize = True)), axis = 1)"
   ]
  },
  {
   "cell_type": "markdown",
   "metadata": {},
   "source": [
    "### *1 i *2 comentaris que he pres a classe. "
   ]
  },
  {
   "cell_type": "code",
   "execution_count": 6,
   "metadata": {
    "colab": {
     "base_uri": "https://localhost:8080/",
     "height": 112
    },
    "id": "BYpSaVuBS4Eg",
    "outputId": "dc733604-5592-4885-9a48-dd514f928b5a"
   },
   "outputs": [
    {
     "data": {
      "text/html": [
       "<div>\n",
       "<style scoped>\n",
       "    .dataframe tbody tr th:only-of-type {\n",
       "        vertical-align: middle;\n",
       "    }\n",
       "\n",
       "    .dataframe tbody tr th {\n",
       "        vertical-align: top;\n",
       "    }\n",
       "\n",
       "    .dataframe thead th {\n",
       "        text-align: right;\n",
       "    }\n",
       "</style>\n",
       "<table border=\"1\" class=\"dataframe\">\n",
       "  <thead>\n",
       "    <tr style=\"text-align: right;\">\n",
       "      <th></th>\n",
       "      <th>Label</th>\n",
       "      <th>Text</th>\n",
       "    </tr>\n",
       "  </thead>\n",
       "  <tbody>\n",
       "    <tr>\n",
       "      <th>0</th>\n",
       "      <td>ham</td>\n",
       "      <td>Go until jurong point, crazy.. Available only ...</td>\n",
       "    </tr>\n",
       "    <tr>\n",
       "      <th>1</th>\n",
       "      <td>ham</td>\n",
       "      <td>Ok lar... Joking wif u oni...</td>\n",
       "    </tr>\n",
       "  </tbody>\n",
       "</table>\n",
       "</div>"
      ],
      "text/plain": [
       "  Label                                               Text\n",
       "0   ham  Go until jurong point, crazy.. Available only ...\n",
       "1   ham                      Ok lar... Joking wif u oni..."
      ]
     },
     "execution_count": 6,
     "metadata": {},
     "output_type": "execute_result"
    }
   ],
   "source": [
    "df = pd.read_csv(file_path, header=None, sep='\\t', names=['Label', 'Text'])\n",
    "df.head(2)"
   ]
  },
  {
   "cell_type": "code",
   "execution_count": 7,
   "metadata": {
    "id": "usyqGdV470qO"
   },
   "outputs": [],
   "source": [
    "X_train, X_test = train_test_split(df, test_size = 0.2, random_state = 2873)"
   ]
  },
  {
   "cell_type": "code",
   "execution_count": 8,
   "metadata": {
    "id": "w_AsBMBl70oG"
   },
   "outputs": [],
   "source": [
    "classifier = NaiveBayes(X_train)"
   ]
  },
  {
   "cell_type": "code",
   "execution_count": 9,
   "metadata": {
    "colab": {
     "base_uri": "https://localhost:8080/",
     "height": 238
    },
    "id": "9Jjnuy8C70d3",
    "outputId": "192c4efe-2a6a-4d6b-f0c2-081f5306b346"
   },
   "outputs": [
    {
     "data": {
      "text/html": [
       "<div>\n",
       "<style scoped>\n",
       "    .dataframe tbody tr th:only-of-type {\n",
       "        vertical-align: middle;\n",
       "    }\n",
       "\n",
       "    .dataframe tbody tr th {\n",
       "        vertical-align: top;\n",
       "    }\n",
       "\n",
       "    .dataframe thead th {\n",
       "        text-align: right;\n",
       "    }\n",
       "</style>\n",
       "<table border=\"1\" class=\"dataframe\">\n",
       "  <thead>\n",
       "    <tr style=\"text-align: right;\">\n",
       "      <th></th>\n",
       "      <th></th>\n",
       "      <th>predicted</th>\n",
       "      <th>predicted</th>\n",
       "    </tr>\n",
       "    <tr>\n",
       "      <th>Label</th>\n",
       "      <th>predicted</th>\n",
       "      <th></th>\n",
       "      <th></th>\n",
       "    </tr>\n",
       "  </thead>\n",
       "  <tbody>\n",
       "    <tr>\n",
       "      <th rowspan=\"3\" valign=\"top\">ham</th>\n",
       "      <th>ham</th>\n",
       "      <td>946</td>\n",
       "      <td>0.994742</td>\n",
       "    </tr>\n",
       "    <tr>\n",
       "      <th>spam</th>\n",
       "      <td>4</td>\n",
       "      <td>0.004206</td>\n",
       "    </tr>\n",
       "    <tr>\n",
       "      <th>??</th>\n",
       "      <td>1</td>\n",
       "      <td>0.001052</td>\n",
       "    </tr>\n",
       "    <tr>\n",
       "      <th rowspan=\"2\" valign=\"top\">spam</th>\n",
       "      <th>spam</th>\n",
       "      <td>153</td>\n",
       "      <td>0.932927</td>\n",
       "    </tr>\n",
       "    <tr>\n",
       "      <th>ham</th>\n",
       "      <td>11</td>\n",
       "      <td>0.067073</td>\n",
       "    </tr>\n",
       "  </tbody>\n",
       "</table>\n",
       "</div>"
      ],
      "text/plain": [
       "                 predicted  predicted\n",
       "Label predicted                      \n",
       "ham   ham              946   0.994742\n",
       "      spam               4   0.004206\n",
       "      ??                 1   0.001052\n",
       "spam  spam             153   0.932927\n",
       "      ham               11   0.067073"
      ]
     },
     "execution_count": 9,
     "metadata": {},
     "output_type": "execute_result"
    }
   ],
   "source": [
    "classifier.percentages_eval(X_test, alpha=1)"
   ]
  },
  {
   "cell_type": "markdown",
   "metadata": {
    "id": "6e5yC9nENspg"
   },
   "source": [
    "## TODO:\n",
    "- el **percentages_eval()** funciona correctament. S'ha de provar que funcioni bé els altres dos. S'ha de comprovar amb l'altre notebook, que donin el mateix resultat.\n",
    "- s'ha de ficar comentaris a la part de **eval()**\n",
    "- s'ha de pasar a module i provar de fer import i que funcionin les gràfiques i tot bé.\n",
    "- buscar com fer documentació per el metode perque quan poses el classifier.\"\"\" ja et surti les possibles opcions que hi ha (de metodes) i quins parametres s'han de passar.\n",
    "- fer comprovació dels parametres passats, perquè no peti la classe."
   ]
  },
  {
   "cell_type": "code",
   "execution_count": null,
   "metadata": {
    "id": "G8EwEXxiOqwd"
   },
   "outputs": [],
   "source": []
  }
 ],
 "metadata": {
  "colab": {
   "provenance": []
  },
  "kernelspec": {
   "display_name": "Python 3 (ipykernel)",
   "language": "python",
   "name": "python3"
  },
  "language_info": {
   "codemirror_mode": {
    "name": "ipython",
    "version": 3
   },
   "file_extension": ".py",
   "mimetype": "text/x-python",
   "name": "python",
   "nbconvert_exporter": "python",
   "pygments_lexer": "ipython3",
   "version": "3.11.5"
  }
 },
 "nbformat": 4,
 "nbformat_minor": 1
}
