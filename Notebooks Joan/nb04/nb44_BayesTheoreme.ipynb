{
 "cells": [
  {
   "cell_type": "markdown",
   "id": "5af14b99",
   "metadata": {},
   "source": [
    "### Teorema de Bayes\n",
    "\n",
    "- Distribució Conjunta\n",
    "- Distribució Condicional - Versemblança -\n",
    "- Distribució a priori\n",
    "- Distribució a posteriori"
   ]
  },
  {
   "cell_type": "code",
   "execution_count": 1,
   "id": "e65ee94c",
   "metadata": {},
   "outputs": [],
   "source": [
    "import numpy as np\n",
    "import matplotlib.pyplot as plt\n",
    "import pandas as pd\n",
    "pd.set_option('display.max.columns', None)\n",
    "import seaborn as sns\n",
    "sns.set_theme()"
   ]
  },
  {
   "cell_type": "code",
   "execution_count": 2,
   "id": "e90b1941",
   "metadata": {},
   "outputs": [
    {
     "data": {
      "text/html": [
       "<div>\n",
       "<style scoped>\n",
       "    .dataframe tbody tr th:only-of-type {\n",
       "        vertical-align: middle;\n",
       "    }\n",
       "\n",
       "    .dataframe tbody tr th {\n",
       "        vertical-align: top;\n",
       "    }\n",
       "\n",
       "    .dataframe thead th {\n",
       "        text-align: right;\n",
       "    }\n",
       "</style>\n",
       "<table border=\"1\" class=\"dataframe\">\n",
       "  <thead>\n",
       "    <tr style=\"text-align: right;\">\n",
       "      <th></th>\n",
       "      <th>sepal_length</th>\n",
       "      <th>sepal_width</th>\n",
       "      <th>petal_length</th>\n",
       "      <th>petal_width</th>\n",
       "      <th>species</th>\n",
       "    </tr>\n",
       "  </thead>\n",
       "  <tbody>\n",
       "    <tr>\n",
       "      <th>0</th>\n",
       "      <td>5.1</td>\n",
       "      <td>3.5</td>\n",
       "      <td>1.4</td>\n",
       "      <td>0.2</td>\n",
       "      <td>setosa</td>\n",
       "    </tr>\n",
       "    <tr>\n",
       "      <th>1</th>\n",
       "      <td>4.9</td>\n",
       "      <td>3.0</td>\n",
       "      <td>1.4</td>\n",
       "      <td>0.2</td>\n",
       "      <td>setosa</td>\n",
       "    </tr>\n",
       "    <tr>\n",
       "      <th>2</th>\n",
       "      <td>4.7</td>\n",
       "      <td>3.2</td>\n",
       "      <td>1.3</td>\n",
       "      <td>0.2</td>\n",
       "      <td>setosa</td>\n",
       "    </tr>\n",
       "    <tr>\n",
       "      <th>3</th>\n",
       "      <td>4.6</td>\n",
       "      <td>3.1</td>\n",
       "      <td>1.5</td>\n",
       "      <td>0.2</td>\n",
       "      <td>setosa</td>\n",
       "    </tr>\n",
       "    <tr>\n",
       "      <th>4</th>\n",
       "      <td>5.0</td>\n",
       "      <td>3.6</td>\n",
       "      <td>1.4</td>\n",
       "      <td>0.2</td>\n",
       "      <td>setosa</td>\n",
       "    </tr>\n",
       "  </tbody>\n",
       "</table>\n",
       "</div>"
      ],
      "text/plain": [
       "   sepal_length  sepal_width  petal_length  petal_width species\n",
       "0           5.1          3.5           1.4          0.2  setosa\n",
       "1           4.9          3.0           1.4          0.2  setosa\n",
       "2           4.7          3.2           1.3          0.2  setosa\n",
       "3           4.6          3.1           1.5          0.2  setosa\n",
       "4           5.0          3.6           1.4          0.2  setosa"
      ]
     },
     "execution_count": 2,
     "metadata": {},
     "output_type": "execute_result"
    }
   ],
   "source": [
    "iris = sns.load_dataset(\"iris\")\n",
    "iris.head()"
   ]
  },
  {
   "cell_type": "code",
   "execution_count": 3,
   "id": "07d5340e",
   "metadata": {},
   "outputs": [],
   "source": [
    "from scipy.stats import gaussian_kde"
   ]
  },
  {
   "cell_type": "markdown",
   "id": "0e0fa995",
   "metadata": {},
   "source": [
    "#### Variable independent: X"
   ]
  },
  {
   "cell_type": "markdown",
   "id": "0b916f1d",
   "metadata": {},
   "source": [
    "- X és un vector amb els valors dels atributs (columnes): $\\vec{X}=\\left(x_1, x_2, \\dots, x_m\\right)$\n",
    "- per exemple, la observació 0 és el vector: $\\vec{X_0}=\\left(5.1, 3.5, 1.4, 0.2\\right)$ "
   ]
  },
  {
   "cell_type": "markdown",
   "id": "2fb8eb02",
   "metadata": {},
   "source": [
    "#### Variable dependent: Y"
   ]
  },
  {
   "cell_type": "markdown",
   "id": "449f61a2",
   "metadata": {},
   "source": [
    "- en el cas genèric seria també un vector: $\\vec{Y}=\\left(y_1, y_2, \\dots, y_l\\right)$\n",
    "- en problemes de classificació acostuma a ser una categoria\n",
    "- en aquest cas: $Y\\in\\{\\text{\"setosa\", \"virginica\", \"versicolor\"}\\}$, per exemple: $Y_0=\\text{\"setosa\"}$"
   ]
  },
  {
   "cell_type": "markdown",
   "id": "b4204253",
   "metadata": {},
   "source": [
    "### Joint input distribution: $P\\left(X\\right)$"
   ]
  },
  {
   "cell_type": "markdown",
   "id": "69814698",
   "metadata": {},
   "source": [
    "- és la distribució de la variable independent, un vector amb tots els atributs que tenim en el dataset\n",
    "- en aquest cas serà una distribució conjunta de 4 dimensions\n",
    "- la podem estimar a partir de l'histograma conjunt o amb un KDE si la variable és contínua"
   ]
  },
  {
   "cell_type": "code",
   "execution_count": 4,
   "id": "f0d405b7",
   "metadata": {},
   "outputs": [],
   "source": [
    "joint_pdf = gaussian_kde(iris[['sepal_length', 'sepal_width', 'petal_length', 'petal_width']].transpose())"
   ]
  },
  {
   "cell_type": "markdown",
   "id": "959d3d03",
   "metadata": {},
   "source": [
    "- podem avaluar la densitat per cada un dels exemples"
   ]
  },
  {
   "cell_type": "code",
   "execution_count": 5,
   "id": "fc65cbdf",
   "metadata": {},
   "outputs": [
    {
     "name": "stdout",
     "output_type": "stream",
     "text": [
      "Example is versicolor ... density: 0.2115\n"
     ]
    }
   ],
   "source": [
    "example = iris.iloc[np.random.randint(150)]\n",
    "species, values = example.species, tuple(example[['sepal_length', 'sepal_width', 'petal_length', 'petal_width']])\n",
    "jointpdf = joint_pdf.evaluate(values).item()\n",
    "print('Example is %s ... density: %6.4f' %(example.species, jointpdf))"
   ]
  },
  {
   "cell_type": "markdown",
   "id": "fcaf9e7b",
   "metadata": {},
   "source": [
    "- però de què ens serveix això ??? ... "
   ]
  },
  {
   "cell_type": "markdown",
   "id": "39ece01b",
   "metadata": {},
   "source": [
    "### Conditional distribution: $P\\left(X|Y\\right)$"
   ]
  },
  {
   "cell_type": "code",
   "execution_count": 6,
   "id": "68b6e32e",
   "metadata": {},
   "outputs": [],
   "source": [
    "setosa = iris.loc[iris.species == 'setosa'][['sepal_length', 'sepal_width', 'petal_length', 'petal_width']]"
   ]
  },
  {
   "cell_type": "code",
   "execution_count": 7,
   "id": "ea1d347d",
   "metadata": {},
   "outputs": [],
   "source": [
    "pdf_setosa = gaussian_kde(setosa.transpose(), bw_method = 'scott')"
   ]
  },
  {
   "cell_type": "code",
   "execution_count": 8,
   "id": "8bac82af",
   "metadata": {},
   "outputs": [],
   "source": [
    "virginica = iris.loc[iris.species == 'virginica'][['sepal_length', 'sepal_width', 'petal_length', 'petal_width']]"
   ]
  },
  {
   "cell_type": "code",
   "execution_count": 9,
   "id": "9b5910d5",
   "metadata": {},
   "outputs": [],
   "source": [
    "pdf_virginica = gaussian_kde(virginica.transpose(), bw_method = 'scott')"
   ]
  },
  {
   "cell_type": "code",
   "execution_count": 10,
   "id": "95e99837",
   "metadata": {},
   "outputs": [],
   "source": [
    "versicolor = iris.loc[iris.species == 'versicolor'][['sepal_length', 'sepal_width', 'petal_length', 'petal_width']]"
   ]
  },
  {
   "cell_type": "code",
   "execution_count": 11,
   "id": "654b409b",
   "metadata": {},
   "outputs": [],
   "source": [
    "pdf_versicolor = gaussian_kde(versicolor.transpose(), bw_method = 'scott')"
   ]
  },
  {
   "cell_type": "markdown",
   "id": "2321cd07",
   "metadata": {},
   "source": [
    "### Likelihood function (versemblança)  $\\mathcal{L}\\left(\\theta, X\\right)\\approxeq\\; P\\left(X|Y\\right)$"
   ]
  },
  {
   "cell_type": "code",
   "execution_count": 12,
   "id": "86f30202",
   "metadata": {},
   "outputs": [
    {
     "data": {
      "text/plain": [
       "index               22\n",
       "sepal_length       4.6\n",
       "sepal_width        3.6\n",
       "petal_length       1.0\n",
       "petal_width        0.2\n",
       "species         setosa\n",
       "Name: 22, dtype: object"
      ]
     },
     "execution_count": 12,
     "metadata": {},
     "output_type": "execute_result"
    }
   ],
   "source": [
    "idx = np.random.randint(50)\n",
    "example = iris.loc[iris.species == 'setosa'].reset_index().iloc[idx]\n",
    "example"
   ]
  },
  {
   "cell_type": "code",
   "execution_count": 13,
   "id": "63070402",
   "metadata": {},
   "outputs": [
    {
     "data": {
      "text/plain": [
       "array([2.47801801])"
      ]
     },
     "execution_count": 13,
     "metadata": {},
     "output_type": "execute_result"
    }
   ],
   "source": [
    "pdf_setosa.evaluate(tuple(example[['sepal_length', 'sepal_width', 'petal_length', 'petal_width']]))"
   ]
  },
  {
   "cell_type": "code",
   "execution_count": 14,
   "id": "30a3e611",
   "metadata": {},
   "outputs": [
    {
     "data": {
      "text/plain": [
       "array([9.26615475e-90])"
      ]
     },
     "execution_count": 14,
     "metadata": {},
     "output_type": "execute_result"
    }
   ],
   "source": [
    "pdf_virginica.evaluate(tuple(example[['sepal_length', 'sepal_width', 'petal_length', 'petal_width']]))"
   ]
  },
  {
   "cell_type": "code",
   "execution_count": 15,
   "id": "d9ffdbe4",
   "metadata": {},
   "outputs": [
    {
     "data": {
      "text/plain": [
       "array([4.96047657e-56])"
      ]
     },
     "execution_count": 15,
     "metadata": {},
     "output_type": "execute_result"
    }
   ],
   "source": [
    "pdf_versicolor.evaluate(tuple(example[['sepal_length', 'sepal_width', 'petal_length', 'petal_width']]))"
   ]
  },
  {
   "cell_type": "code",
   "execution_count": 16,
   "id": "e1e9c4bf",
   "metadata": {},
   "outputs": [
    {
     "name": "stdout",
     "output_type": "stream",
     "text": [
      "Example is versicolor ... likelihood: setosa 0.0000, virginica 0.3739, versicolor 0.8493\n"
     ]
    }
   ],
   "source": [
    "example = iris.iloc[np.random.randint(150)]\n",
    "species, values = example.species, tuple(example[['sepal_length', 'sepal_width', 'petal_length', 'petal_width']])\n",
    "pdfSetosa = pdf_setosa.evaluate(values).item()\n",
    "pdfVirginica = pdf_virginica.evaluate(values).item()\n",
    "pdfVersicolor = pdf_versicolor.evaluate(values).item()\n",
    "print('Example is %s ... likelihood: setosa %6.4f, virginica %6.4f, versicolor %6.4f' %(example.species, pdfSetosa, pdfVirginica, pdfVersicolor))\n"
   ]
  },
  {
   "cell_type": "markdown",
   "id": "73954dc4",
   "metadata": {},
   "source": [
    "- però això són densitats, no són probabilitats !!!!"
   ]
  },
  {
   "cell_type": "markdown",
   "id": "a4b1f2d1",
   "metadata": {},
   "source": [
    "### Prior distribution: $P\\left(Y\\right)$"
   ]
  },
  {
   "cell_type": "markdown",
   "id": "495f9f0e",
   "metadata": {},
   "source": [
    "- és la distribució de la variable dependent $Y$\n",
    "- si no en tenim informació l'estimem a partir de la mostra (igual que la de la variable dependent $X$)\n",
    "- però podria ser que en tinguessim informació i si fos així la fariem servir (exemple eleccions)"
   ]
  },
  {
   "cell_type": "code",
   "execution_count": 17,
   "id": "2823143e",
   "metadata": {},
   "outputs": [
    {
     "data": {
      "text/plain": [
       "setosa        0.333333\n",
       "versicolor    0.333333\n",
       "virginica     0.333333\n",
       "Name: species, dtype: float64"
      ]
     },
     "execution_count": 17,
     "metadata": {},
     "output_type": "execute_result"
    }
   ],
   "source": [
    "iris.species.value_counts(normalize = True)"
   ]
  },
  {
   "cell_type": "code",
   "execution_count": 18,
   "id": "36f7ea60",
   "metadata": {},
   "outputs": [],
   "source": [
    "prior = iris.species.value_counts(normalize = True)"
   ]
  },
  {
   "cell_type": "markdown",
   "id": "46af9bfd",
   "metadata": {},
   "source": [
    "### Posterior distribution:  $P\\left(Y|X\\right)$"
   ]
  },
  {
   "cell_type": "markdown",
   "id": "2978b0d7",
   "metadata": {},
   "source": [
    "- és la distribució condicional de la variable dependent $Y$ donat un valor de la variable independent $X$\n",
    "- es relaciona amb la distribució condicional $P\\left(X|Y\\right)$ segons el *Teorema de Bayes*\n",
    "- el **Teorema de Bayes** quantifica com varia la distribució de la variable dependent 𝑌 deguda al fet d'haver observat una certa evidència (un determinat valor de la variable independent 𝑋)"
   ]
  },
  {
   "cell_type": "markdown",
   "id": "22e0f474",
   "metadata": {},
   "source": [
    "### <center>Bayes Theorem</center>"
   ]
  },
  {
   "cell_type": "markdown",
   "id": "2273fe44",
   "metadata": {},
   "source": [
    "$$\n",
    "\\text{if}\\;X,\\,Y\\;\\text{dependent variables}\n",
    "\\\\\n",
    "\\text{ }\n",
    "\\\\\n",
    "P\\left(X, Y\\right) = P\\left(X|Y\\right)\\,P\\left(Y\\right) = P\\left(Y|X\\right)\\,P\\left(X\\right)\n",
    "\\\\\n",
    "\\text{ }\n",
    "\\\\\n",
    "\\text{then}\n",
    "\\\\\n",
    "\\text{ }\n",
    "\\\\\n",
    "P\\left(Y|X\\right) = \\frac{P\\left(Y\\right)\\,P\\left(X|Y\\right)}{P\\left(X\\right)}\n",
    "$$"
   ]
  },
  {
   "cell_type": "markdown",
   "id": "dfd183c0",
   "metadata": {},
   "source": [
    "### Exemple"
   ]
  },
  {
   "cell_type": "markdown",
   "id": "b34aacbf",
   "metadata": {},
   "source": [
    "- donada una observació d'una Iris qualsevol, **i sense cap altra tipus d'informació adicional**, és a dir sense haver mesurat ni pètals ni sèpals, la nostra \"creença\" sobre a quína espècie pertany és la que ens dona la *distribució a priori* $P\\left(Y\\right)$, en aquest cas, d'un 33.3% de probabilitat per cada espècie.\n",
    "- però si mesurem els seus pètals i sèpals i observem els valors:\n",
    "    - sepal length: 5.2\n",
    "    - sepal width: 3.3\n",
    "    - petal length: 1.5\n",
    "    - petal width: 0.3\n",
    "- aleshores, la probabilitat de cada espècie és:"
   ]
  },
  {
   "cell_type": "markdown",
   "id": "5c94b884",
   "metadata": {},
   "source": [
    "$$\n",
    "\\\\\n",
    "P\\left(Y=\\text{'setosa'}\\,|\\,X=\\left(5.2, 3.3, 1.5, 0.3\\right)\\right)=\\frac{P\\left(Y=\\text{'setosa'}\\right)\\,P\\left(X=\\left(5.2, 3.3, 1.5, 0.3\\right)\\,|\\,Y=\\text{'setosa'}\\right)}{P\\left(X=\\left(5.2, 3.3, 1.5, 0.3\\right)\\right)}\n",
    "\\\\\n",
    "\\text{ }\n",
    "\\\\\n",
    "P\\left(Y=\\text{'virginica'}\\,|\\,X=\\left(5.2, 3.3, 1.5, 0.3\\right)\\right)=\\frac{P\\left(Y=\\text{'virginica'}\\right)\\,P\\left(X=\\left(5.2, 3.3, 1.5, 0.3\\right)\\,|\\,Y=\\text{'virginica'}\\right)}{P\\left(X=\\left(5.2, 3.3, 1.5, 0.3\\right)\\right)}\n",
    "\\\\\n",
    "\\text{ }\n",
    "\\\\\n",
    "P\\left(Y=\\text{'versicolor'}\\,|\\,X=\\left(5.2, 3.3, 1.5, 0.3\\right)\\right)=\\frac{P\\left(Y=\\text{'versicolor'}\\right)\\,P\\left(X=\\left(5.2, 3.3, 1.5, 0.3\\right)\\,|\\,Y=\\text{'versicolor'}\\right)}{P\\left(X=\\left(5.2, 3.3, 1.5, 0.3\\right)\\right)}\n",
    "$$"
   ]
  },
  {
   "cell_type": "markdown",
   "id": "af900806",
   "metadata": {},
   "source": [
    "- que substituint per les distribucions que hem estimat de la mostra, dona:"
   ]
  },
  {
   "cell_type": "markdown",
   "id": "fadb6088",
   "metadata": {},
   "source": [
    "$$\n",
    "\\\\\n",
    "P\\left(Y=\\text{'setosa'}\\,|\\,X=\\left(5.2, 3.3, 1.5, 0.3\\right)\\right)=\\frac{0.33\\;\\text{pdf_setosa}\\left(5.2, 3.3, 1.5, 0.3\\right)}{\\text{joint_pdf}\\left(5.2, 3.3, 1.5, 0.3\\right)}\n",
    "\\\\\n",
    "\\text{ }\n",
    "\\\\\n",
    "P\\left(Y=\\text{'virginica'}\\,|\\,X=\\left(5.2, 3.3, 1.5, 0.3\\right)\\right)=\\frac{0.33\\;\\text{pdf_virginica}\\left(5.2, 3.3, 1.5, 0.3\\right)}{\\text{joint_pdf}\\left(5.2, 3.3, 1.5, 0.3\\right)}\n",
    "\\\\\n",
    "\\text{ }\n",
    "\\\\\n",
    "P\\left(Y=\\text{'versicolor'}\\,|\\,X=\\left(5.2, 3.3, 1.5, 0.3\\right)\\right)=\\frac{0.33\\;\\text{pdf_versicolor}\\left(5.2, 3.3, 1.5, 0.3\\right)}{\\text{joint_pdf}\\left(5.2, 3.3, 1.5, 0.3\\right)}\n",
    "$$"
   ]
  },
  {
   "cell_type": "markdown",
   "id": "c20495fe",
   "metadata": {},
   "source": [
    "### Inferència"
   ]
  },
  {
   "cell_type": "markdown",
   "id": "34287975",
   "metadata": {},
   "source": [
    "- en aquestes expressions, el denominador $P\\left(X\\right)$ és sempre comú a totes (és només un factor d'escala), per tant podem obviar-lo i considerar:"
   ]
  },
  {
   "cell_type": "markdown",
   "id": "dfc99dd0",
   "metadata": {},
   "source": [
    "$$\n",
    "P\\left(Y|X\\right) \\propto P\\left(Y\\right)\\,P\\left(X|Y\\right)\n",
    "$$"
   ]
  },
  {
   "cell_type": "markdown",
   "id": "6ceaa109",
   "metadata": {},
   "source": [
    "- aleshores, podem fer inferència sobre $Y$ mirant per quína classe la probabilitat a posteriori és màxima:"
   ]
  },
  {
   "cell_type": "markdown",
   "id": "b283a0a9",
   "metadata": {},
   "source": [
    "$$\n",
    "\\arg\\max_{c\\in Y}{P\\left(c|X\\right) = P\\left(c\\right)\\;P\\left(X|c\\right)}\n",
    "$$"
   ]
  },
  {
   "cell_type": "markdown",
   "id": "89436df1",
   "metadata": {},
   "source": [
    "- per la mostra que tenim de Iris les tres classes són \"a priori\" igual de probables (en la realitat no tindria perquè ser així), o sigui:"
   ]
  },
  {
   "cell_type": "markdown",
   "id": "ba630019",
   "metadata": {},
   "source": [
    "$$\n",
    "\\forall{c\\in Y},\\;P\\left(c\\right) = 0.33\n",
    "$$"
   ]
  },
  {
   "cell_type": "markdown",
   "id": "e764a8bd",
   "metadata": {},
   "source": [
    "- en general, **sempre que les classes siguin equiprobables**, la probabilitat a posteriori és directament proporcional a la versemblança de les dades:"
   ]
  },
  {
   "cell_type": "markdown",
   "id": "c01768c4",
   "metadata": {},
   "source": [
    "$$\n",
    "\\forall{c}\\in Y,\\; P\\left(Y=c|X\\right) \\propto P\\left(X|Y=c\\right)\n",
    "$$"
   ]
  },
  {
   "cell_type": "markdown",
   "id": "88b8d97e",
   "metadata": {},
   "source": [
    "- per les dades observades $\\vec{X}=\\left(5.2, 3.3, 1.5, 0.3\\right)$ la classe més versemblant (o més probable) serà:"
   ]
  },
  {
   "cell_type": "code",
   "execution_count": 19,
   "id": "7422ac7b",
   "metadata": {},
   "outputs": [
    {
     "name": "stdout",
     "output_type": "stream",
     "text": [
      "likelihood: setosa 3.9084, virginica 0.0000, versicolor 0.0000\n"
     ]
    }
   ],
   "source": [
    "values = (5.2, 3.3, 1.5, 0.3)\n",
    "pdfSetosa = pdf_setosa.evaluate(values).item()\n",
    "pdfVirginica = pdf_virginica.evaluate(values).item()\n",
    "pdfVersicolor = pdf_versicolor.evaluate(values).item()\n",
    "print('likelihood: setosa %6.4f, virginica %6.4f, versicolor %6.4f' %(pdfSetosa, pdfVirginica, pdfVersicolor))"
   ]
  },
  {
   "cell_type": "markdown",
   "id": "bed4ce6b",
   "metadata": {},
   "source": [
    "- les probabilitats les podem obtenir normalitzant les versemblances obtingudes (perquè les probabilitats de totes les classes han de sumar 1),"
   ]
  },
  {
   "cell_type": "code",
   "execution_count": 20,
   "id": "fc1e2b53",
   "metadata": {},
   "outputs": [
    {
     "name": "stdout",
     "output_type": "stream",
     "text": [
      "posterior probability: setosa 1.0000, virginica 0.0000, versicolor 0.0000\n"
     ]
    }
   ],
   "source": [
    "sumpdf = pdfSetosa +pdfVirginica +pdfVersicolor\n",
    "print('posterior probability: setosa %6.4f, virginica %6.4f, versicolor %6.4f' %(pdfSetosa/sumpdf, pdfVirginica/sumpdf, pdfVersicolor/sumpdf))"
   ]
  }
 ],
 "metadata": {
  "kernelspec": {
   "display_name": "Python 3 (ipykernel)",
   "language": "python",
   "name": "python3"
  },
  "language_info": {
   "codemirror_mode": {
    "name": "ipython",
    "version": 3
   },
   "file_extension": ".py",
   "mimetype": "text/x-python",
   "name": "python",
   "nbconvert_exporter": "python",
   "pygments_lexer": "ipython3",
   "version": "3.11.5"
  }
 },
 "nbformat": 4,
 "nbformat_minor": 5
}
