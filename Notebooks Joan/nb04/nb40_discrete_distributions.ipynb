{
 "cells": [
  {
   "cell_type": "markdown",
   "id": "5ef54592",
   "metadata": {},
   "source": [
    "### discrete multivariate joint/marginal/conditional probability distributions"
   ]
  },
  {
   "cell_type": "code",
   "execution_count": 1,
   "id": "a9457dc6",
   "metadata": {},
   "outputs": [],
   "source": [
    "import numpy as np\n",
    "import pandas as pd\n",
    "import matplotlib.pyplot as plt\n",
    "import seaborn as sns\n",
    "sns.set_theme() # Setting seaborn style"
   ]
  },
  {
   "cell_type": "markdown",
   "id": "d05fb1f8",
   "metadata": {},
   "source": [
    "#### Import ./modules/nb35.py"
   ]
  },
  {
   "cell_type": "code",
   "execution_count": 2,
   "id": "51c68198",
   "metadata": {},
   "outputs": [],
   "source": [
    "import nb35"
   ]
  },
  {
   "cell_type": "markdown",
   "id": "ec27fd9c",
   "metadata": {},
   "source": [
    "##### generate a dataset"
   ]
  },
  {
   "cell_type": "code",
   "execution_count": 3,
   "id": "d06cf74f",
   "metadata": {},
   "outputs": [
    {
     "data": {
      "text/html": [
       "<div>\n",
       "<style scoped>\n",
       "    .dataframe tbody tr th:only-of-type {\n",
       "        vertical-align: middle;\n",
       "    }\n",
       "\n",
       "    .dataframe tbody tr th {\n",
       "        vertical-align: top;\n",
       "    }\n",
       "\n",
       "    .dataframe thead th {\n",
       "        text-align: right;\n",
       "    }\n",
       "</style>\n",
       "<table border=\"1\" class=\"dataframe\">\n",
       "  <thead>\n",
       "    <tr style=\"text-align: right;\">\n",
       "      <th></th>\n",
       "      <th>C0</th>\n",
       "      <th>C1</th>\n",
       "      <th>C2</th>\n",
       "      <th>D0</th>\n",
       "      <th>D1</th>\n",
       "      <th>D2</th>\n",
       "    </tr>\n",
       "  </thead>\n",
       "  <tbody>\n",
       "    <tr>\n",
       "      <th>0</th>\n",
       "      <td>0.337002</td>\n",
       "      <td>0.396483</td>\n",
       "      <td>0.266515</td>\n",
       "      <td>E</td>\n",
       "      <td>C</td>\n",
       "      <td>A</td>\n",
       "    </tr>\n",
       "    <tr>\n",
       "      <th>1</th>\n",
       "      <td>0.600735</td>\n",
       "      <td>0.199586</td>\n",
       "      <td>0.199679</td>\n",
       "      <td>E</td>\n",
       "      <td>C</td>\n",
       "      <td>A</td>\n",
       "    </tr>\n",
       "    <tr>\n",
       "      <th>2</th>\n",
       "      <td>0.769906</td>\n",
       "      <td>0.169496</td>\n",
       "      <td>0.060598</td>\n",
       "      <td>E</td>\n",
       "      <td>D</td>\n",
       "      <td>A</td>\n",
       "    </tr>\n",
       "    <tr>\n",
       "      <th>3</th>\n",
       "      <td>0.551509</td>\n",
       "      <td>0.292761</td>\n",
       "      <td>0.155730</td>\n",
       "      <td>E</td>\n",
       "      <td>C</td>\n",
       "      <td>B</td>\n",
       "    </tr>\n",
       "    <tr>\n",
       "      <th>4</th>\n",
       "      <td>0.607631</td>\n",
       "      <td>0.277797</td>\n",
       "      <td>0.114573</td>\n",
       "      <td>D</td>\n",
       "      <td>C</td>\n",
       "      <td>B</td>\n",
       "    </tr>\n",
       "  </tbody>\n",
       "</table>\n",
       "</div>"
      ],
      "text/plain": [
       "         C0        C1        C2 D0 D1 D2\n",
       "0  0.337002  0.396483  0.266515  E  C  A\n",
       "1  0.600735  0.199586  0.199679  E  C  A\n",
       "2  0.769906  0.169496  0.060598  E  D  A\n",
       "3  0.551509  0.292761  0.155730  E  C  B\n",
       "4  0.607631  0.277797  0.114573  D  C  B"
      ]
     },
     "execution_count": 3,
     "metadata": {},
     "output_type": "execute_result"
    }
   ],
   "source": [
    "# draw sample of size N\n",
    "data = nb35.dataset_1(N = 100)\n",
    "data.head()"
   ]
  },
  {
   "cell_type": "markdown",
   "id": "1d0140d6",
   "metadata": {},
   "source": [
    "##### compute the contingency table"
   ]
  },
  {
   "cell_type": "code",
   "execution_count": 4,
   "id": "d1d62951",
   "metadata": {},
   "outputs": [
    {
     "data": {
      "text/plain": [
       "array([[ 0.,  0.,  0.,  0.,  1.,  0.,  2.],\n",
       "       [ 0.,  1.,  1.,  5.,  2.,  2.,  0.],\n",
       "       [ 0.,  0.,  6.,  4.,  3.,  1.,  0.],\n",
       "       [ 1.,  9., 19.,  8.,  1.,  0.,  0.],\n",
       "       [ 0.,  4., 19.,  4.,  0.,  0.,  0.],\n",
       "       [ 0.,  5.,  2.,  0.,  0.,  0.,  0.]])"
      ]
     },
     "execution_count": 4,
     "metadata": {},
     "output_type": "execute_result"
    }
   ],
   "source": [
    "X, Y = data['D0'], data['D1']\n",
    "ct = nb35.ContingencyTable2D(X, Y)\n",
    "ct.counts"
   ]
  },
  {
   "cell_type": "code",
   "execution_count": 5,
   "id": "9be7d377",
   "metadata": {},
   "outputs": [
    {
     "data": {
      "text/plain": [
       "(100.0, 6, 7)"
      ]
     },
     "execution_count": 5,
     "metadata": {},
     "output_type": "execute_result"
    }
   ],
   "source": [
    "ct.n, ct.cardX, ct.cardY"
   ]
  },
  {
   "cell_type": "markdown",
   "id": "ba880bf3",
   "metadata": {},
   "source": [
    "### Joint  distributions"
   ]
  },
  {
   "cell_type": "markdown",
   "id": "5a8a1d34",
   "metadata": {},
   "source": [
    "The ***joint distribution*** of multiple variables is a probability distribution that describes the likelihood of different combinations of values for those variables occurring simultaneously. In simpler terms, it provides information about the probabilities associated with specific outcomes for all the variables considered together.\n",
    "\n",
    "Let's consider two random variables, $X$ and $Y$. The joint distribution of $X$ and $Y$, denoted as $P(X, Y)$ or $f(x, y)$, provides the probabilities associated with each possible pair of values $(x, y)$ that $X$ and $Y$ can take on. Mathematically, this joint probability is represented as:\n",
    "\n",
    "$$P\\left(X = x_i, Y = y_j\\right)\\; \\text{or} \\; P\\left(x_i, y_j\\right)$$\n",
    "\n",
    "Here, $x_i$ and $y_j$ represent specific values that $X$ and $Y$ can assume, respectively.\n",
    "\n",
    "Properties:\n",
    "\n",
    "   1. *Non-negativity*: $P\\left(X = x_i, Y = y_j\\right) \\geq 0, \\quad \\forall \\left(x_i, y_j\\right)$\n",
    "  \n",
    "   2. *Normalization*: $\\sum_{i,j}P\\left(X = x_i, Y = y_j\\right) = 1$, meaning that the sum of probabilities for all possible combinations of values equals 1.\n",
    "\n",
    "The concept can be extended to more than two variables. For three variables $\\left(X, Y, Z\\right)$, the joint distribution is denoted as $P\\left(X, Y, Z\\right)$ or $f\\left(x, y, z\\right)$, and it describes the probabilities of all possible combinations of values for $X$, $Y$, and $Z$ occurring simultaneously."
   ]
  },
  {
   "cell_type": "markdown",
   "id": "1e48412d",
   "metadata": {},
   "source": [
    "##### For two categorical variables the joint distribution is given by the normalized contingency table\n",
    "- this is analogous to a multivariate histogram of proportions"
   ]
  },
  {
   "cell_type": "code",
   "execution_count": 6,
   "id": "bafe2ea6",
   "metadata": {},
   "outputs": [
    {
     "data": {
      "text/plain": [
       "(array([[0.  , 0.  , 0.  , 0.  , 0.01, 0.  , 0.02],\n",
       "        [0.  , 0.01, 0.01, 0.05, 0.02, 0.02, 0.  ],\n",
       "        [0.  , 0.  , 0.06, 0.04, 0.03, 0.01, 0.  ],\n",
       "        [0.01, 0.09, 0.19, 0.08, 0.01, 0.  , 0.  ],\n",
       "        [0.  , 0.04, 0.19, 0.04, 0.  , 0.  , 0.  ],\n",
       "        [0.  , 0.05, 0.02, 0.  , 0.  , 0.  , 0.  ]]),\n",
       " 1.0)"
      ]
     },
     "execution_count": 6,
     "metadata": {},
     "output_type": "execute_result"
    }
   ],
   "source": [
    "# normalize\n",
    "xy_joint = ct.counts /ct.n    \n",
    "xy_joint, np.sum(xy_joint)"
   ]
  },
  {
   "cell_type": "markdown",
   "id": "0ae7bbad",
   "metadata": {},
   "source": [
    "##### Visualization of the joint distribution using a 2d histogram"
   ]
  },
  {
   "cell_type": "code",
   "execution_count": 7,
   "id": "ad129c09",
   "metadata": {},
   "outputs": [],
   "source": [
    "#fig, axs = plt.subplots(nrows = 1, ncols = 1, figsize = (6, 5))\n",
    "#axs.hist2d(pd.factorize(data['D1'])[0], pd.factorize(data['D0'])[0], bins = [ct.cardY, ct.cardX], cmap = plt.cm.Blues, density = False, alpha = 0.8)"
   ]
  },
  {
   "cell_type": "markdown",
   "id": "693ccc2c",
   "metadata": {},
   "source": [
    "### Marginal  distributions"
   ]
  },
  {
   "cell_type": "markdown",
   "id": "84c24aa8",
   "metadata": {},
   "source": [
    "The ***marginal distributions*** provide the probabilities of each individual variable without considering the others. Mathematically, the marginal probabilities are represented as:\n",
    "\n",
    "$$P\\left(X = x_i\\right),\\; \\forall x_{i}\\in X;\\quad P\\left(Y = y_j\\right),\\; \\forall y_{i}\\in Y$$\n",
    "\n",
    "Properties:\n",
    "\n",
    "   1. *Non-negativity*: $\\quad P\\left(X = x_i\\right) \\geq 0, \\quad \\forall \\left(x_i\\right)$\n",
    "  \n",
    "   2. *Normalization*: $\\quad \\sum_{i}P\\left(X = x_i\\right) = 1$."
   ]
  },
  {
   "cell_type": "markdown",
   "id": "637105e5",
   "metadata": {},
   "source": [
    "##### The *marginal* distributions are given by the normalized marginal counts in the contingency table\n",
    "- this is analogous to the histogram of proportions for each individual variable"
   ]
  },
  {
   "cell_type": "code",
   "execution_count": 8,
   "id": "8ba0784c",
   "metadata": {},
   "outputs": [
    {
     "data": {
      "text/plain": [
       "(array([ 3., 11., 14., 38., 27.,  7.]),\n",
       " array([ 1., 19., 47., 21.,  7.,  3.,  2.]))"
      ]
     },
     "execution_count": 8,
     "metadata": {},
     "output_type": "execute_result"
    }
   ],
   "source": [
    "# marginal counts\n",
    "ct.mrgX(), ct.mrgY()"
   ]
  },
  {
   "cell_type": "code",
   "execution_count": 9,
   "id": "7a34d233",
   "metadata": {},
   "outputs": [
    {
     "data": {
      "text/plain": [
       "(array([0.03, 0.11, 0.14, 0.38, 0.27, 0.07]), 1.0)"
      ]
     },
     "execution_count": 9,
     "metadata": {},
     "output_type": "execute_result"
    }
   ],
   "source": [
    "# marginal density of X\n",
    "ct.mrgX() /ct.n, np.sum(ct.mrgX() /ct.n)"
   ]
  },
  {
   "cell_type": "code",
   "execution_count": 10,
   "id": "6d94ca8d",
   "metadata": {},
   "outputs": [
    {
     "name": "stdout",
     "output_type": "stream",
     "text": [
      "+++ the marginal distriution P(Y) is: [0.01 0.19 0.47 0.21 0.07 0.03 0.02]\n",
      "+++ the marginal distribution adds up to: 1\n"
     ]
    }
   ],
   "source": [
    "# marginal density of Y\n",
    "print('+++ the marginal distriution P(Y) is: %s' %np.round(ct.mrgY() /ct.n, 2))\n",
    "print('+++ the marginal distribution adds up to: %d' %np.sum(ct.mrgY() /ct.n))"
   ]
  },
  {
   "cell_type": "markdown",
   "id": "98bef84a",
   "metadata": {},
   "source": [
    "##### Visualization of the joint and marginal distributions using seaborn\n",
    "- seaborn.jointplot() depicts the marginal distributions as *proportion histograms* at the corresponding axes."
   ]
  },
  {
   "cell_type": "code",
   "execution_count": 11,
   "id": "c9e7b815",
   "metadata": {},
   "outputs": [
    {
     "data": {
      "image/png": "[encoded data removed]",
      "text/plain": [
       "<Figure size 432x432 with 3 Axes>"
      ]
     },
     "metadata": {
      "needs_background": "light"
     },
     "output_type": "display_data"
    }
   ],
   "source": [
    "sns.jointplot(data = data, x = 'D0', y = 'D1', kind = 'hist', bins = [ct.cardX, ct.cardY]);"
   ]
  },
  {
   "cell_type": "markdown",
   "id": "45f10b30",
   "metadata": {},
   "source": [
    "### Conditional distributions"
   ]
  },
  {
   "cell_type": "markdown",
   "id": "f79cf506",
   "metadata": {},
   "source": [
    "A conditional distribution is a probability distribution that describes the probability of one or more random variables given the knowledge of the values of one or more other variables.\n",
    "\n",
    "For the simplest case of two random variables, the conditional distribution of $Y$ given $X$, denoted as $P\\left(Y | X\\right)$ or $f\\left(y | x\\right)$, represents the probability distribution of $Y$ when the value of $X$ is known to be $x$. \n",
    "\n",
    "Properties:\n",
    "\n",
    "   1. *Non-negativity*: $P\\left(Y = y_j| X = x_i\\right) \\geq 0, \\quad \\forall \\left(x_i, y_j\\right)$\n",
    "  \n",
    "   2. *Normalization*: $\\sum_{j}P\\left(Y = y_j| X = x_i\\right) = 1$.\n",
    "\n",
    "This can be extended to the conditional distribution of more than two variables. For example, the conditional distribution of X given Y and Z is denoted as \\( P(X | Y, Z) \\) or \\( f(x | y, z) \\)."
   ]
  },
  {
   "cell_type": "markdown",
   "id": "22258e96",
   "metadata": {},
   "source": [
    "##### For two categorical variables the conditional distribution is given by the normalized rows/columns of the contingency table\n",
    "- this is analogous to a histogram of proportions for a given class"
   ]
  },
  {
   "cell_type": "code",
   "execution_count": 12,
   "id": "84f457e7",
   "metadata": {},
   "outputs": [
    {
     "name": "stdout",
     "output_type": "stream",
     "text": [
      "+++ the conditional distriution P(Y|X=4) is: [0.   0.09 0.09 0.45 0.18 0.18 0.  ]\n",
      "+++ the conditional distribution adds up to: 1\n"
     ]
    }
   ],
   "source": [
    "# e.g. P(Y | X = 1)\n",
    "y_x1 = ct.counts[1, :] /np.sum(ct.counts[1, :])\n",
    "print('+++ the conditional distriution P(Y|X=4) is: %s' %np.round(y_x1, 2))\n",
    "print('+++ the conditional distribution adds up to: %d' %np.sum(y_x1))"
   ]
  },
  {
   "cell_type": "markdown",
   "id": "58df7ccb",
   "metadata": {},
   "source": [
    "##### The conditional distribution completes the relation between the join and the marginal distributions:\n",
    "\n",
    "$$P\\left(X, Y\\right) = P\\left(X\\right)\\;P\\left(Y|X\\right) = P\\left(Y\\right)\\;P\\left(X|Y\\right)$$"
   ]
  }
 ],
 "metadata": {
  "kernelspec": {
   "display_name": "Python 3 (ipykernel)",
   "language": "python",
   "name": "python3"
  },
  "language_info": {
   "codemirror_mode": {
    "name": "ipython",
    "version": 3
   },
   "file_extension": ".py",
   "mimetype": "text/x-python",
   "name": "python",
   "nbconvert_exporter": "python",
   "pygments_lexer": "ipython3",
   "version": "3.11.5"
  }
 },
 "nbformat": 4,
 "nbformat_minor": 5
}
