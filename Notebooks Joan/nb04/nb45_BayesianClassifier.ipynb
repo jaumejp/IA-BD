{
 "cells": [
  {
   "cell_type": "markdown",
   "id": "5af14b99",
   "metadata": {},
   "source": [
    "### Bayesian Classifier\n",
    "\n",
    "- aval.luació del model\n",
    "- train/test split\n",
    "- types : Gaussian, Multinomial, Bernouilli"
   ]
  },
  {
   "cell_type": "code",
   "execution_count": 1,
   "id": "e65ee94c",
   "metadata": {},
   "outputs": [],
   "source": [
    "import numpy as np\n",
    "import matplotlib.pyplot as plt\n",
    "import pandas as pd\n",
    "pd.set_option('display.max.columns', None)\n",
    "import seaborn as sns\n",
    "sns.set_theme()"
   ]
  },
  {
   "cell_type": "code",
   "execution_count": 2,
   "id": "875179b5",
   "metadata": {},
   "outputs": [],
   "source": [
    "from scipy.stats import gaussian_kde"
   ]
  },
  {
   "cell_type": "markdown",
   "id": "19885b56",
   "metadata": {},
   "source": [
    "#### Bayes Theoreme"
   ]
  },
  {
   "cell_type": "markdown",
   "id": "53498429",
   "metadata": {},
   "source": [
    "$\n",
    "\\text{if}\\;X,\\,Y\\;\\text{dependent variables, then}\n",
    "\\; P\\left(Y|X\\right) = \\frac{P\\left(Y\\right)\\,P\\left(X|Y\\right)}{P\\left(X\\right)}\n",
    "$"
   ]
  },
  {
   "cell_type": "markdown",
   "id": "781d2110",
   "metadata": {},
   "source": [
    "#### Dataset Iris"
   ]
  },
  {
   "cell_type": "code",
   "execution_count": 3,
   "id": "e90b1941",
   "metadata": {},
   "outputs": [
    {
     "data": {
      "text/html": [
       "<div>\n",
       "<style scoped>\n",
       "    .dataframe tbody tr th:only-of-type {\n",
       "        vertical-align: middle;\n",
       "    }\n",
       "\n",
       "    .dataframe tbody tr th {\n",
       "        vertical-align: top;\n",
       "    }\n",
       "\n",
       "    .dataframe thead th {\n",
       "        text-align: right;\n",
       "    }\n",
       "</style>\n",
       "<table border=\"1\" class=\"dataframe\">\n",
       "  <thead>\n",
       "    <tr style=\"text-align: right;\">\n",
       "      <th></th>\n",
       "      <th>sepal_length</th>\n",
       "      <th>sepal_width</th>\n",
       "      <th>petal_length</th>\n",
       "      <th>petal_width</th>\n",
       "      <th>species</th>\n",
       "    </tr>\n",
       "  </thead>\n",
       "  <tbody>\n",
       "    <tr>\n",
       "      <th>0</th>\n",
       "      <td>5.1</td>\n",
       "      <td>3.5</td>\n",
       "      <td>1.4</td>\n",
       "      <td>0.2</td>\n",
       "      <td>setosa</td>\n",
       "    </tr>\n",
       "    <tr>\n",
       "      <th>1</th>\n",
       "      <td>4.9</td>\n",
       "      <td>3.0</td>\n",
       "      <td>1.4</td>\n",
       "      <td>0.2</td>\n",
       "      <td>setosa</td>\n",
       "    </tr>\n",
       "    <tr>\n",
       "      <th>2</th>\n",
       "      <td>4.7</td>\n",
       "      <td>3.2</td>\n",
       "      <td>1.3</td>\n",
       "      <td>0.2</td>\n",
       "      <td>setosa</td>\n",
       "    </tr>\n",
       "    <tr>\n",
       "      <th>3</th>\n",
       "      <td>4.6</td>\n",
       "      <td>3.1</td>\n",
       "      <td>1.5</td>\n",
       "      <td>0.2</td>\n",
       "      <td>setosa</td>\n",
       "    </tr>\n",
       "    <tr>\n",
       "      <th>4</th>\n",
       "      <td>5.0</td>\n",
       "      <td>3.6</td>\n",
       "      <td>1.4</td>\n",
       "      <td>0.2</td>\n",
       "      <td>setosa</td>\n",
       "    </tr>\n",
       "  </tbody>\n",
       "</table>\n",
       "</div>"
      ],
      "text/plain": [
       "   sepal_length  sepal_width  petal_length  petal_width species\n",
       "0           5.1          3.5           1.4          0.2  setosa\n",
       "1           4.9          3.0           1.4          0.2  setosa\n",
       "2           4.7          3.2           1.3          0.2  setosa\n",
       "3           4.6          3.1           1.5          0.2  setosa\n",
       "4           5.0          3.6           1.4          0.2  setosa"
      ]
     },
     "execution_count": 3,
     "metadata": {},
     "output_type": "execute_result"
    }
   ],
   "source": [
    "iris = sns.load_dataset(\"iris\")\n",
    "iris.head()"
   ]
  },
  {
   "cell_type": "markdown",
   "id": "ba7614c2",
   "metadata": {},
   "source": [
    "#### Inference"
   ]
  },
  {
   "cell_type": "markdown",
   "id": "d1873e4b",
   "metadata": {},
   "source": [
    "$\n",
    "\\text{3. for this particular case, }\\;\\forall{c\\in Y},\\;P\\left(c\\right) = 0.33\\; \\text{thus, }\\;P\\left(Y=c|X\\right) \\propto P\\left(X|Y=c\\right)\n",
    "$"
   ]
  },
  {
   "cell_type": "markdown",
   "id": "ae917a68",
   "metadata": {},
   "source": [
    "$\n",
    "\\text{1.}\\;P\\left(X\\right)\\;\\text{can be obviated, then}\\;\n",
    "P\\left(Y|X\\right) \\propto P\\left(Y\\right)\\,P\\left(X\\,|Y\\right)\n",
    "$\n",
    "\n",
    "$\n",
    "\\text{2. max. probability class is }\\;\\arg\\max_{c\\in Y}{P\\left(Y=c\\,|X\\right) \\propto P\\left(Y=c\\right)\\;P\\left(X\\,|Y=c\\right)}\n",
    "$\n",
    "\n",
    "$\n",
    "\\text{3. for this particular case, }\\;\\forall{c\\in Y},\\;P\\left(c\\right) = 0.33\\; \\text{thus, }\\;P\\left(Y=c\\,|X\\right) \\propto P\\left(X\\,|Y=c\\right)\n",
    "$"
   ]
  },
  {
   "cell_type": "markdown",
   "id": "39ece01b",
   "metadata": {},
   "source": [
    "#### Conditional distribution: $P\\left(X|Y\\right)$"
   ]
  },
  {
   "cell_type": "code",
   "execution_count": 4,
   "id": "68b6e32e",
   "metadata": {},
   "outputs": [],
   "source": [
    "setosa = iris.loc[iris.species == 'setosa'][['sepal_length', 'sepal_width', 'petal_length', 'petal_width']]"
   ]
  },
  {
   "cell_type": "code",
   "execution_count": 5,
   "id": "ea1d347d",
   "metadata": {},
   "outputs": [],
   "source": [
    "pdf_setosa = gaussian_kde(setosa.transpose(), bw_method = 'scott')"
   ]
  },
  {
   "cell_type": "code",
   "execution_count": 6,
   "id": "8bac82af",
   "metadata": {},
   "outputs": [],
   "source": [
    "virginica = iris.loc[iris.species == 'virginica'][['sepal_length', 'sepal_width', 'petal_length', 'petal_width']]"
   ]
  },
  {
   "cell_type": "code",
   "execution_count": 7,
   "id": "9b5910d5",
   "metadata": {},
   "outputs": [],
   "source": [
    "pdf_virginica = gaussian_kde(virginica.transpose(), bw_method = 'scott')"
   ]
  },
  {
   "cell_type": "code",
   "execution_count": 8,
   "id": "95e99837",
   "metadata": {},
   "outputs": [],
   "source": [
    "versicolor = iris.loc[iris.species == 'versicolor'][['sepal_length', 'sepal_width', 'petal_length', 'petal_width']]"
   ]
  },
  {
   "cell_type": "code",
   "execution_count": 9,
   "id": "654b409b",
   "metadata": {},
   "outputs": [],
   "source": [
    "pdf_versicolor = gaussian_kde(versicolor.transpose(), bw_method = 'scott')"
   ]
  },
  {
   "cell_type": "markdown",
   "id": "af5b80a9",
   "metadata": {},
   "source": [
    "#### Avaluació del model"
   ]
  },
  {
   "cell_type": "code",
   "execution_count": 10,
   "id": "ab260804",
   "metadata": {},
   "outputs": [],
   "source": [
    "classNames = ['setosa', 'virginica', 'versicolor']\n",
    "def evaluate_lkh(row):\n",
    "    target, values = row.species, tuple(row[['sepal_length', 'sepal_width', 'petal_length', 'petal_width']])\n",
    "    maxLikelihood = np.argmax([pdf_setosa.evaluate(values), pdf_virginica.evaluate(values), pdf_versicolor.evaluate(values)])\n",
    "    return classNames[maxLikelihood]"
   ]
  },
  {
   "cell_type": "code",
   "execution_count": 11,
   "id": "e6ee5a10",
   "metadata": {},
   "outputs": [
    {
     "data": {
      "text/plain": [
       "species     predicted \n",
       "setosa      setosa        50\n",
       "versicolor  versicolor    50\n",
       "virginica   virginica     50\n",
       "Name: predicted, dtype: int64"
      ]
     },
     "execution_count": 11,
     "metadata": {},
     "output_type": "execute_result"
    }
   ],
   "source": [
    "iris['predicted'] = iris.apply(lambda row: evaluate_lkh(row), axis = 1)\n",
    "iris.groupby('species').predicted.value_counts()"
   ]
  },
  {
   "cell_type": "markdown",
   "id": "b1db4713",
   "metadata": {},
   "source": [
    "- El model prediu perfectament el 100% dels exemples.\n",
    "- Obvi! Hem fet una estimació del model amb el 100% dels exemples.\n",
    "- Què passa si dividim el dataset en un set d'entrenament i un set de test ???"
   ]
  },
  {
   "cell_type": "markdown",
   "id": "7455f0a0",
   "metadata": {},
   "source": [
    "### Estimació del model amb train/test"
   ]
  },
  {
   "cell_type": "code",
   "execution_count": 12,
   "id": "07d5340e",
   "metadata": {},
   "outputs": [],
   "source": [
    "from sklearn.model_selection import train_test_split"
   ]
  },
  {
   "cell_type": "markdown",
   "id": "d72b02a3",
   "metadata": {},
   "source": [
    "- variable independent"
   ]
  },
  {
   "cell_type": "code",
   "execution_count": 13,
   "id": "c7b28989",
   "metadata": {},
   "outputs": [],
   "source": [
    "X = iris[['sepal_length', 'sepal_width', 'petal_length', 'petal_width']]"
   ]
  },
  {
   "cell_type": "markdown",
   "id": "011d7f0a",
   "metadata": {},
   "source": [
    "- variable dependent"
   ]
  },
  {
   "cell_type": "code",
   "execution_count": 14,
   "id": "d56e6bb6",
   "metadata": {},
   "outputs": [],
   "source": [
    "y = iris[['species']]"
   ]
  },
  {
   "cell_type": "markdown",
   "id": "612e04e4",
   "metadata": {},
   "source": [
    "- split: train 80%, test 20%"
   ]
  },
  {
   "cell_type": "code",
   "execution_count": 15,
   "id": "ff68fec8",
   "metadata": {},
   "outputs": [],
   "source": [
    "X_train, X_test, y_train, y_test = train_test_split(X, y, test_size = 0.20, random_state = 27)"
   ]
  },
  {
   "cell_type": "markdown",
   "id": "2e02d209",
   "metadata": {},
   "source": [
    "- set de train"
   ]
  },
  {
   "cell_type": "code",
   "execution_count": 16,
   "id": "4aa5d71a",
   "metadata": {},
   "outputs": [
    {
     "data": {
      "text/plain": [
       "species     species   \n",
       "setosa      setosa        43\n",
       "versicolor  versicolor    39\n",
       "virginica   virginica     38\n",
       "Name: species, dtype: int64"
      ]
     },
     "execution_count": 16,
     "metadata": {},
     "output_type": "execute_result"
    }
   ],
   "source": [
    "train = pd.concat((X_train, y_train), axis = 1)\n",
    "train.groupby('species').species.value_counts()"
   ]
  },
  {
   "cell_type": "markdown",
   "id": "acf1d635",
   "metadata": {},
   "source": [
    "#### Reestimem la prior $P\\left(Y\\right)$ (ja no és uniforme !!)\n",
    "- tot i així encara la podriem considerar uniforme (... si estiguéssim convençuts de que és així)"
   ]
  },
  {
   "cell_type": "code",
   "execution_count": 17,
   "id": "1d20a985",
   "metadata": {},
   "outputs": [
    {
     "data": {
      "text/plain": [
       "species   \n",
       "setosa        0.358333\n",
       "versicolor    0.325000\n",
       "virginica     0.316667\n",
       "dtype: float64"
      ]
     },
     "execution_count": 17,
     "metadata": {},
     "output_type": "execute_result"
    }
   ],
   "source": [
    "prior = y_train.value_counts(normalize = True)\n",
    "prior"
   ]
  },
  {
   "cell_type": "markdown",
   "id": "0f03db3c",
   "metadata": {},
   "source": [
    "#### Reestimem les funcions de versemblança (només amb el set de train !!)"
   ]
  },
  {
   "cell_type": "code",
   "execution_count": 18,
   "id": "f6113343",
   "metadata": {},
   "outputs": [],
   "source": [
    "setosa = X_train.loc[y_train.species == 'setosa']\n",
    "lkh_setosa = gaussian_kde(setosa.transpose(), bw_method = 'scott')"
   ]
  },
  {
   "cell_type": "code",
   "execution_count": 19,
   "id": "9bbd2613",
   "metadata": {},
   "outputs": [],
   "source": [
    "virginica = X_train.loc[y_train.species == 'virginica']\n",
    "lkh_virginica = gaussian_kde(virginica.transpose(), bw_method = 'scott')"
   ]
  },
  {
   "cell_type": "code",
   "execution_count": 20,
   "id": "bdb7632a",
   "metadata": {},
   "outputs": [],
   "source": [
    "versicolor = X_train.loc[y_train.species == 'versicolor']\n",
    "lkh_versicolor = gaussian_kde(versicolor.transpose(), bw_method = 'scott')"
   ]
  },
  {
   "cell_type": "markdown",
   "id": "518fdc3f",
   "metadata": {},
   "source": [
    "#### Redefinim la funció d'avaluació per \"posteriors\""
   ]
  },
  {
   "cell_type": "code",
   "execution_count": 21,
   "id": "5fe9665d",
   "metadata": {},
   "outputs": [],
   "source": [
    "classNames = ['setosa', 'virginica', 'versicolor']\n",
    "def evaluate_post(row):\n",
    "    target, values = row.species, tuple(row[['sepal_length', 'sepal_width', 'petal_length', 'petal_width']])\n",
    "    post_setosa = prior['setosa'] *lkh_setosa.evaluate(values)\n",
    "    post_virginica = prior['virginica'] *lkh_virginica.evaluate(values)\n",
    "    post_versicolor = prior['versicolor'] *lkh_versicolor.evaluate(values)\n",
    "    maxPosterior = np.argmax([post_setosa, post_virginica, post_versicolor])\n",
    "    return classNames[maxPosterior]"
   ]
  },
  {
   "cell_type": "markdown",
   "id": "533337e0",
   "metadata": {},
   "source": [
    "#### Reavaluem el model (amb el set de test !!)"
   ]
  },
  {
   "cell_type": "code",
   "execution_count": 22,
   "id": "179643d7",
   "metadata": {},
   "outputs": [
    {
     "data": {
      "text/plain": [
       "virginica     12\n",
       "versicolor    11\n",
       "setosa         7\n",
       "Name: species, dtype: int64"
      ]
     },
     "execution_count": 22,
     "metadata": {},
     "output_type": "execute_result"
    }
   ],
   "source": [
    "test = pd.concat((X_test, y_test), axis = 1)\n",
    "test.species.value_counts()"
   ]
  },
  {
   "cell_type": "code",
   "execution_count": 23,
   "id": "8904fd75",
   "metadata": {},
   "outputs": [
    {
     "data": {
      "text/plain": [
       "species     predicted \n",
       "setosa      setosa         7\n",
       "versicolor  versicolor    11\n",
       "virginica   virginica     11\n",
       "            versicolor     1\n",
       "Name: predicted, dtype: int64"
      ]
     },
     "execution_count": 23,
     "metadata": {},
     "output_type": "execute_result"
    }
   ],
   "source": [
    "test['predicted'] = test.apply(lambda row: evaluate_post(row), axis = 1)\n",
    "test.groupby('species').predicted.value_counts()"
   ]
  }
 ],
 "metadata": {
  "kernelspec": {
   "display_name": "Python 3 (ipykernel)",
   "language": "python",
   "name": "python3"
  },
  "language_info": {
   "codemirror_mode": {
    "name": "ipython",
    "version": 3
   },
   "file_extension": ".py",
   "mimetype": "text/x-python",
   "name": "python",
   "nbconvert_exporter": "python",
   "pygments_lexer": "ipython3",
   "version": "3.11.5"
  }
 },
 "nbformat": 4,
 "nbformat_minor": 5
}
