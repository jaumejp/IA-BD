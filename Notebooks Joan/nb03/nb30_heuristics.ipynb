{
 "cells": [
  {
   "cell_type": "markdown",
   "id": "f8dc90ed",
   "metadata": {},
   "source": [
    "### Heuristics"
   ]
  },
  {
   "cell_type": "markdown",
   "id": "0b9c7879",
   "metadata": {},
   "source": [
    "- A heuristic is a strategy, a practical approach to find the solution to a complex problem or an uncertain situation.\n",
    "- Heuristics are not necessary guaranteed to be optimal or perfect.\n",
    "- Heuristics involve using rules of thumb, educated guesses, past experiences, or common sense to make informed decisions or reach solutions, typically without an exhaustive analysis of all possible alternatives. "
   ]
  },
  {
   "cell_type": "code",
   "execution_count": 1,
   "id": "7f1c0095",
   "metadata": {},
   "outputs": [],
   "source": [
    "import numpy as np\n",
    "import matplotlib.pyplot as plt"
   ]
  },
  {
   "cell_type": "markdown",
   "id": "cbcb2b0e",
   "metadata": {},
   "source": [
    "#### Example. \n",
    "\n",
    "Heuristic to estimate the value of $\\pi=3.141592\\dots$"
   ]
  },
  {
   "cell_type": "markdown",
   "id": "49cec21c",
   "metadata": {},
   "source": [
    "- our heuristic is to compute the relation between the areas of the circle and the square shown in the figure. We have a circle of radius 0.5, enclosed by a 1 × 1 square, both centered at (0, 0). The area of the circle is $\\pi\\,r^2=\\pi/4$ and the area of the square is 1. If we divide the area of the circle, by the area of the square we get $\\pi/4$"
   ]
  },
  {
   "cell_type": "code",
   "execution_count": 2,
   "id": "30e3543c",
   "metadata": {},
   "outputs": [
    {
     "data": {
      "image/png": "[encoded data removed]",
      "text/plain": [
       "<Figure size 432x288 with 1 Axes>"
      ]
     },
     "metadata": {
      "needs_background": "light"
     },
     "output_type": "display_data"
    }
   ],
   "source": [
    "plt.axes()\n",
    "rectangle = plt.Rectangle((-0.5, -0.5), 1, 1, fc = 'gray', alpha = 0.5)\n",
    "plt.gca().add_patch(rectangle)\n",
    "circle = plt.Circle((0, 0), 0.5, fc = 'blue', alpha = 0.5)\n",
    "plt.gca().add_patch(circle)\n",
    "plt.axis('scaled')\n",
    "plt.show()"
   ]
  },
  {
   "cell_type": "markdown",
   "id": "8b02a123",
   "metadata": {},
   "source": [
    "- We generate a large number of uniformly distributed random points in any position within the square. We keep track of the total number of points generated $N_{total}$, and the number of points that fall inside the circle $N_{in}$. The relation $N_{in}/N_{total}$ should be an approximation of the ratio of the areas we calculated above,\n",
    "\n",
    "$$\\frac{N_{in}}{N_{total}}\\approx\\frac{\\pi}{4}$$"
   ]
  },
  {
   "cell_type": "markdown",
   "id": "71a30ae3",
   "metadata": {},
   "source": [
    "- consequently, we can get an approximate value of $\\pi$ as\n",
    "$$\\pi = 4\\,\\frac{N_{in}}{N_{total}}$$"
   ]
  },
  {
   "cell_type": "code",
   "execution_count": 3,
   "id": "66ac090f",
   "metadata": {},
   "outputs": [
    {
     "data": {
      "text/plain": [
       "3.141592653589793"
      ]
     },
     "execution_count": 3,
     "metadata": {},
     "output_type": "execute_result"
    }
   ],
   "source": [
    "np.pi"
   ]
  },
  {
   "cell_type": "code",
   "execution_count": 4,
   "id": "6f7edb6c",
   "metadata": {},
   "outputs": [],
   "source": [
    "n_in, pi2d = 0, []\n",
    "for i in range(1, 2000):\n",
    "    if np.sqrt(np.sum(np.random.rand(2)**2)) <= 1:\n",
    "        n_in += 1\n",
    "    pi2d.append(4 *n_in/i)"
   ]
  },
  {
   "cell_type": "code",
   "execution_count": 5,
   "id": "3a406cc0",
   "metadata": {},
   "outputs": [
    {
     "data": {
      "text/plain": [
       "3.1696"
      ]
     },
     "execution_count": 5,
     "metadata": {},
     "output_type": "execute_result"
    }
   ],
   "source": [
    "np.round(pi2d[-1], 4)"
   ]
  },
  {
   "cell_type": "code",
   "execution_count": 6,
   "id": "2eac83b8",
   "metadata": {},
   "outputs": [
    {
     "data": {
      "image/png": "[encoded data removed]",
      "text/plain": [
       "<Figure size 432x288 with 1 Axes>"
      ]
     },
     "metadata": {
      "needs_background": "light"
     },
     "output_type": "display_data"
    }
   ],
   "source": [
    "plt.plot(pi2d)\n",
    "plt.axhline(y =np.pi, c = 'r');"
   ]
  },
  {
   "cell_type": "markdown",
   "id": "ed2e82a9",
   "metadata": {},
   "source": [
    "##### can we improve our estimation by increasing the number of iterations ?"
   ]
  },
  {
   "cell_type": "code",
   "execution_count": 7,
   "id": "44e1d83f",
   "metadata": {},
   "outputs": [
    {
     "name": "stdout",
     "output_type": "stream",
     "text": [
      "+++ 999000, 3.140657\r"
     ]
    }
   ],
   "source": [
    "#import time\n",
    "n_in, pi = 0, 1\n",
    "for i in range(1, 1000000):\n",
    "    if np.sqrt(np.sum(np.random.rand(2)**2)) <= 1:\n",
    "        n_in += 1\n",
    "    if not i %1000:\n",
    "        pi = 4 *n_in/i\n",
    "        print('+++ %3d, %8.6f' %(i, pi), end = '\\r')\n",
    "        #time.sleep(0.01)"
   ]
  },
  {
   "cell_type": "code",
   "execution_count": 8,
   "id": "5fb9e3a4",
   "metadata": {},
   "outputs": [
    {
     "data": {
      "text/plain": [
       "3.1406566566566565"
      ]
     },
     "execution_count": 8,
     "metadata": {},
     "output_type": "execute_result"
    }
   ],
   "source": [
    "pi"
   ]
  }
 ],
 "metadata": {
  "kernelspec": {
   "display_name": "Python 3",
   "language": "python",
   "name": "python3"
  },
  "language_info": {
   "codemirror_mode": {
    "name": "ipython",
    "version": 3
   },
   "file_extension": ".py",
   "mimetype": "text/x-python",
   "name": "python",
   "nbconvert_exporter": "python",
   "pygments_lexer": "ipython3",
   "version": "3.9.13"
  }
 },
 "nbformat": 4,
 "nbformat_minor": 5
}
