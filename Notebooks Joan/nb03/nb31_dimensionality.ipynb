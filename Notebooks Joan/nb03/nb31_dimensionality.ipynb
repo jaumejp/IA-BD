{
 "cells": [
  {
   "cell_type": "markdown",
   "id": "573d9bf6",
   "metadata": {},
   "source": [
    "### The curse of dimensionality"
   ]
  },
  {
   "cell_type": "markdown",
   "id": "05d9b3d7",
   "metadata": {},
   "source": [
    "- The *curse of dimensionalit* refers to various phenomena that arise when analyzing and organizing data in high-dimensional spaces.\n",
    "\n",
    "- A practical consequence is that the number of samples required to estimate an arbitrary function with a given level of accuracy grows exponentially with respect to the number of input variables (i.e.dimensionality)\n",
    "\n",
    "- As en example, we follow the same heuristic defined inthe previous notebook to obtain an estimate of $\\pi$ for increasing number of dimensions."
   ]
  },
  {
   "cell_type": "code",
   "execution_count": 1,
   "id": "7108339b",
   "metadata": {},
   "outputs": [],
   "source": [
    "import numpy as np\n",
    "import matplotlib.pyplot as plt\n",
    "import seaborn as sns\n",
    "sns.set_theme()"
   ]
  },
  {
   "cell_type": "markdown",
   "id": "f41e4167",
   "metadata": {},
   "source": [
    "#### pi"
   ]
  },
  {
   "cell_type": "code",
   "execution_count": 2,
   "id": "5fb9e3a4",
   "metadata": {},
   "outputs": [
    {
     "data": {
      "text/plain": [
       "3.141592653589793"
      ]
     },
     "execution_count": 2,
     "metadata": {},
     "output_type": "execute_result"
    }
   ],
   "source": [
    "np.pi"
   ]
  },
  {
   "cell_type": "markdown",
   "id": "6f336a34",
   "metadata": {},
   "source": [
    "#### Estimate of $\\pi$ in 2 dimensions\n",
    "\n",
    "- The area of a circle enclosed in a square of side $2\\,r$ is $A_{circle} = \\pi\\,r^2$, while the area of the square is $A_{square}=\\left(2\\,r\\right)^2$.\n",
    "- Thus, in 2D we have:\n",
    "$$\\frac{N_{in}}{N_{total}}\\approx \\frac{\\pi\\,r^2}{4\\,r^2}\\approx \\frac{1}{4}\\pi$$\n",
    "- therefore,\n",
    "$$\\pi\\approx 4\\,\\frac{N_{in}}{N_{total}}$$"
   ]
  },
  {
   "cell_type": "code",
   "execution_count": 3,
   "id": "f4c6536b",
   "metadata": {},
   "outputs": [],
   "source": [
    "n_in, pi2d = 0, []\n",
    "for i in range(1, 2000):\n",
    "    if np.sqrt(np.sum(np.random.rand(2)**2)) <= 1:\n",
    "        n_in += 1\n",
    "    pi2d.append(4 *n_in/i)"
   ]
  },
  {
   "cell_type": "code",
   "execution_count": 4,
   "id": "c47cd12e",
   "metadata": {},
   "outputs": [
    {
     "data": {
      "text/plain": [
       "3.1396"
      ]
     },
     "execution_count": 4,
     "metadata": {},
     "output_type": "execute_result"
    }
   ],
   "source": [
    "np.round(pi2d[-1], 4)"
   ]
  },
  {
   "cell_type": "markdown",
   "id": "85a16bc9",
   "metadata": {},
   "source": [
    "#### Estimate of $\\pi$ in 3 dimensions\n",
    "\n",
    "- The volum of a sphere enclosed in a cube of side $2\\,r$ is $V_{sphere} = 4/3\\,\\pi\\,r^3$, while the volume of the cub is $V_{cube}=\\left(2\\,r\\right)^3$.\n",
    "- Thus, in 3D we have:\n",
    "$$\\frac{N_{in}}{N_{total}}\\approx \\frac{4/3\\,\\pi\\,r^3}{8\\,r^3}\\approx \\frac{1}{6}\\pi$$\n",
    "- therefore,\n",
    "$$\\pi\\approx 6\\,\\frac{N_{in}}{N_{total}}$$"
   ]
  },
  {
   "cell_type": "code",
   "execution_count": 5,
   "id": "4209be1d",
   "metadata": {},
   "outputs": [],
   "source": [
    "n_in, pi3d = 0, []\n",
    "for i in range(1, 2000):\n",
    "    if np.sqrt(np.sum(np.random.rand(3)**2)) <= 1:\n",
    "        n_in += 1\n",
    "    pi3d.append(6 *n_in/i)"
   ]
  },
  {
   "cell_type": "code",
   "execution_count": 6,
   "id": "dbb34592",
   "metadata": {},
   "outputs": [
    {
     "data": {
      "text/plain": [
       "(3.1396, 3.0225)"
      ]
     },
     "execution_count": 6,
     "metadata": {},
     "output_type": "execute_result"
    }
   ],
   "source": [
    "np.round(pi2d[-1], 4), np.round(pi3d[-1],4)"
   ]
  },
  {
   "cell_type": "markdown",
   "id": "beba5673",
   "metadata": {},
   "source": [
    "#### Estimate of $\\pi$ in 4 dimensions\n",
    "\n",
    "- The volum of a hyper-sphere enclosed in a hyper-cube of side $2\\,r$ is $V_{sphere} = 1/2\\,\\pi^2\\,r^4$, while the volume of the cub is $V_{cube}=\\left(2\\,r\\right)^4$.\n",
    "- Thus, in 3D we have:\n",
    "$$\\frac{N_{in}}{N_{total}}\\approx \\frac{1/2\\,\\pi^2\\,r^4}{16\\,r^4}\\approx \\frac{1}{32}\\pi^2$$\n",
    "- therefore,\n",
    "$$\\pi\\approx \\sqrt{32\\,\\frac{N_{in}}{N_{total}}}$$"
   ]
  },
  {
   "cell_type": "code",
   "execution_count": 7,
   "id": "9403a326",
   "metadata": {},
   "outputs": [
    {
     "name": "stdout",
     "output_type": "stream",
     "text": [
      "CPU times: user 40.6 ms, sys: 4.05 ms, total: 44.6 ms\n",
      "Wall time: 40.3 ms\n"
     ]
    }
   ],
   "source": [
    "%%time\n",
    "n_in, pi4d = 0, []\n",
    "for i in range(1, 2000):\n",
    "    if np.sqrt(np.sum(np.random.rand(4)**2)) <= 1:\n",
    "        n_in += 1\n",
    "    pi4d.append(np.sqrt(32 *n_in/i))"
   ]
  },
  {
   "cell_type": "code",
   "execution_count": 8,
   "id": "8a388e74",
   "metadata": {},
   "outputs": [
    {
     "data": {
      "text/plain": [
       "(3.1396, 3.0225, 3.1274)"
      ]
     },
     "execution_count": 8,
     "metadata": {},
     "output_type": "execute_result"
    }
   ],
   "source": [
    "np.round(pi2d[-1], 4), np.round(pi3d[-1], 4), np.round(pi4d[-1], 4)"
   ]
  },
  {
   "cell_type": "markdown",
   "id": "d4266e78",
   "metadata": {},
   "source": [
    "##### Estimate of $\\pi$ in 5 dimensions\n",
    "\n",
    "$$\\pi\\approx \\left(60\\,\\frac{N_{in}}{N_{total}}\\right)^{1/2}$$"
   ]
  },
  {
   "cell_type": "code",
   "execution_count": 9,
   "id": "ec10124c",
   "metadata": {},
   "outputs": [
    {
     "name": "stdout",
     "output_type": "stream",
     "text": [
      "CPU times: user 39.6 ms, sys: 4.34 ms, total: 43.9 ms\n",
      "Wall time: 49.1 ms\n"
     ]
    }
   ],
   "source": [
    "%%time\n",
    "n_in, pi5d = 0, []\n",
    "for i in range(1, 2000):\n",
    "    if np.sqrt(np.sum(np.random.rand(5)**2)) <= 1:\n",
    "        n_in += 1\n",
    "    pi5d.append((60 *n_in/i)**(1/2))"
   ]
  },
  {
   "cell_type": "code",
   "execution_count": 10,
   "id": "c86ad352",
   "metadata": {},
   "outputs": [
    {
     "data": {
      "text/plain": [
       "(3.1396, 3.0225, 3.1274, 3.0846)"
      ]
     },
     "execution_count": 10,
     "metadata": {},
     "output_type": "execute_result"
    }
   ],
   "source": [
    "np.round(pi2d[-1], 4), np.round(pi3d[-1], 4), np.round(pi4d[-1], 4), np.round(pi5d[-1], 4)"
   ]
  },
  {
   "cell_type": "markdown",
   "id": "5f773066",
   "metadata": {},
   "source": [
    "##### Estimate of $\\pi$ in 6 dimensions\n",
    "\n",
    "$$\\pi\\approx \\left(384\\,\\frac{N_{in}}{N_{total}}\\right)^{1/3}$$"
   ]
  },
  {
   "cell_type": "code",
   "execution_count": 11,
   "id": "2ccf8d83",
   "metadata": {},
   "outputs": [
    {
     "name": "stdout",
     "output_type": "stream",
     "text": [
      "CPU times: user 36.4 ms, sys: 3.87 ms, total: 40.3 ms\n",
      "Wall time: 38 ms\n"
     ]
    }
   ],
   "source": [
    "%%time\n",
    "n_in, pi6d = 0, []\n",
    "for i in range(1, 2000):\n",
    "    if np.sqrt(np.sum(np.random.rand(6)**2)) <= 1:\n",
    "        n_in += 1\n",
    "    pi6d.append((384 *n_in/i)**(1/3))"
   ]
  },
  {
   "cell_type": "code",
   "execution_count": 12,
   "id": "e7b71bf3",
   "metadata": {},
   "outputs": [
    {
     "data": {
      "text/plain": [
       "(3.1396, 3.0225, 3.1274, 3.0846, 3.1711)"
      ]
     },
     "execution_count": 12,
     "metadata": {},
     "output_type": "execute_result"
    }
   ],
   "source": [
    "np.round(pi2d[-1], 4), np.round(pi3d[-1], 4), np.round(pi4d[-1], 4), np.round(pi5d[-1], 4), np.round(pi6d[-1], 4)"
   ]
  },
  {
   "cell_type": "markdown",
   "id": "a38225d4",
   "metadata": {},
   "source": [
    "##### Estimate of $\\pi$ in 10 dimensions\n",
    "\n",
    "$$\\pi\\approx 4\\,\\left(120\\,\\frac{N_{in}}{N_{total}}\\right)^{1/5}$$"
   ]
  },
  {
   "cell_type": "code",
   "execution_count": 13,
   "id": "50c6e337",
   "metadata": {},
   "outputs": [],
   "source": [
    "n_in, pi10d = 0, []\n",
    "for i in range(1, 2000):\n",
    "    if np.sqrt(np.sum(np.random.rand(10)**2)) <= 1:\n",
    "        n_in += 1\n",
    "    pi10d.append(4 *(120 *n_in/i)**(1/5))"
   ]
  },
  {
   "cell_type": "code",
   "execution_count": 14,
   "id": "1f1a6329",
   "metadata": {},
   "outputs": [
    {
     "data": {
      "text/plain": [
       "(3.1396, 3.0225, 3.1274, 3.0846, 3.1711, 3.2611)"
      ]
     },
     "execution_count": 14,
     "metadata": {},
     "output_type": "execute_result"
    }
   ],
   "source": [
    "np.round(pi2d[-1], 4), np.round(pi3d[-1], 4), np.round(pi4d[-1], 4), np.round(pi5d[-1], 4), np.round(pi6d[-1], 4), np.round(pi10d[-1], 4)"
   ]
  },
  {
   "cell_type": "markdown",
   "id": "e864e77e",
   "metadata": {},
   "source": [
    "#### visual comparison of the  approximations"
   ]
  },
  {
   "cell_type": "code",
   "execution_count": 15,
   "id": "f3d24c2b",
   "metadata": {},
   "outputs": [
    {
     "data": {
      "image/png": "[encoded data removed]",
      "text/plain": [
       "<Figure size 864x576 with 6 Axes>"
      ]
     },
     "metadata": {
      "needs_background": "light"
     },
     "output_type": "display_data"
    }
   ],
   "source": [
    "fig, axs = plt.subplots(2, 3, figsize = (12, 8), sharex = True, sharey = True)\n",
    "for pixd, axi in zip([pi2d, pi3d, pi4d, pi5d, pi6d, pi10d], axs.flatten()):\n",
    "    axi.plot(pixd)\n",
    "    axi.axhline(y = np.pi, c = 'r');"
   ]
  }
 ],
 "metadata": {
  "kernelspec": {
   "display_name": "Python 3",
   "language": "python",
   "name": "python3"
  },
  "language_info": {
   "codemirror_mode": {
    "name": "ipython",
    "version": 3
   },
   "file_extension": ".py",
   "mimetype": "text/x-python",
   "name": "python",
   "nbconvert_exporter": "python",
   "pygments_lexer": "ipython3",
   "version": "3.9.13"
  }
 },
 "nbformat": 4,
 "nbformat_minor": 5
}
