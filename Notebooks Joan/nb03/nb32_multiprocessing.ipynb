{
 "cells": [
  {
   "cell_type": "markdown",
   "id": "f8dc90ed",
   "metadata": {},
   "source": [
    "### Multi-processing"
   ]
  },
  {
   "cell_type": "markdown",
   "id": "0b9c7879",
   "metadata": {},
   "source": [
    "- Multiprocessing is the utilization of two or more CPUs simultaneously in a single computer system. "
   ]
  },
  {
   "cell_type": "code",
   "execution_count": 1,
   "id": "fade3cdc",
   "metadata": {},
   "outputs": [],
   "source": [
    "import multiprocessing as mp"
   ]
  },
  {
   "cell_type": "markdown",
   "id": "6b11b4c9",
   "metadata": {},
   "source": [
    "##### get number of CPUs"
   ]
  },
  {
   "cell_type": "code",
   "execution_count": 2,
   "id": "8957a890",
   "metadata": {},
   "outputs": [
    {
     "data": {
      "text/plain": [
       "4"
      ]
     },
     "execution_count": 2,
     "metadata": {},
     "output_type": "execute_result"
    }
   ],
   "source": [
    "mp.cpu_count()"
   ]
  },
  {
   "cell_type": "markdown",
   "id": "3f24c09c",
   "metadata": {},
   "source": [
    "##### The Process class:  allows spawning processes (threads) and execute them calling its start() method"
   ]
  },
  {
   "cell_type": "code",
   "execution_count": 3,
   "id": "599e9c48",
   "metadata": {},
   "outputs": [],
   "source": [
    "from multiprocessing import Process\n",
    "import os"
   ]
  },
  {
   "cell_type": "code",
   "execution_count": 4,
   "id": "1704b86b",
   "metadata": {},
   "outputs": [],
   "source": [
    "def myfunc(name):\n",
    "    print('module %s, ppid %s, Hello %s from pid %s  ' %(__name__, os.getppid(), name, os.getpid()))"
   ]
  },
  {
   "cell_type": "code",
   "execution_count": 5,
   "id": "09e3c272",
   "metadata": {},
   "outputs": [
    {
     "name": "stdout",
     "output_type": "stream",
     "text": [
      "module __main__, ppid 86706, Hello CEIABD from pid 86717  \n"
     ]
    }
   ],
   "source": [
    "p = Process(target = myfunc, args = ('CEIABD', ))\n",
    "p.start()\n",
    "p.join()"
   ]
  },
  {
   "cell_type": "markdown",
   "id": "e7531077",
   "metadata": {},
   "source": [
    "##### The Pool class: creating a pool of workers"
   ]
  },
  {
   "cell_type": "code",
   "execution_count": 6,
   "id": "62797b2d",
   "metadata": {},
   "outputs": [],
   "source": [
    "from multiprocessing.pool import Pool"
   ]
  },
  {
   "cell_type": "code",
   "execution_count": 7,
   "id": "fac4981b",
   "metadata": {},
   "outputs": [
    {
     "name": "stdout",
     "output_type": "stream",
     "text": [
      "module __main__, ppid 86706, Hello Abel from pid 86723  module __main__, ppid 86706, Hello Aniol from pid 86727  module __main__, ppid 86706, Hello Grigor from pid 86724  module __main__, ppid 86706, Hello Gaurav from pid 86722  \n",
      "\n",
      "module __main__, ppid 86706, Hello Miquel from pid 86728  \n",
      "module __main__, ppid 86706, Hello Joan from pid 86729  \n",
      "\n",
      "\n",
      "module __main__, ppid 86706, Hello Oriol from pid 86726  module __main__, ppid 86706, Hello Jaume from pid 86725  \n",
      "\n"
     ]
    }
   ],
   "source": [
    "mypool = Pool(processes = 8)\n",
    "mypool.map(myfunc, ['Gaurav', 'Abel', 'Grigor', 'Jaume', 'Oriol', 'Aniol', 'Miquel', 'Joan'])\n",
    "mypool.close()\n",
    "mypool.terminate()"
   ]
  },
  {
   "cell_type": "markdown",
   "id": "2f134b3f",
   "metadata": {},
   "source": [
    "#### pooling the output"
   ]
  },
  {
   "cell_type": "code",
   "execution_count": 8,
   "id": "2988ae67",
   "metadata": {},
   "outputs": [],
   "source": [
    "def worker(name):\n",
    "    return 'module %s, ppid %s, Hello %s from pid %s  ' %(__name__, os.getppid(), name, os.getpid())"
   ]
  },
  {
   "cell_type": "code",
   "execution_count": 9,
   "id": "dcbbf391",
   "metadata": {},
   "outputs": [
    {
     "name": "stdout",
     "output_type": "stream",
     "text": [
      "module __main__, ppid 86706, Hello Gaurav from pid 86765  \n",
      "module __main__, ppid 86706, Hello Abel from pid 86766  \n",
      "module __main__, ppid 86706, Hello Grigor from pid 86767  \n",
      "module __main__, ppid 86706, Hello Jaume from pid 86765  \n",
      "module __main__, ppid 86706, Hello Oriol from pid 86766  \n",
      "module __main__, ppid 86706, Hello Aniol from pid 86765  \n",
      "module __main__, ppid 86706, Hello Miquel from pid 86766  \n",
      "module __main__, ppid 86706, Hello Joan from pid 86765  \n"
     ]
    }
   ],
   "source": [
    "mypool = Pool(processes = mp.cpu_count())\n",
    "outQ = mypool.map(worker, ['Gaurav', 'Abel', 'Grigor', 'Jaume', 'Oriol', 'Aniol', 'Miquel', 'Joan'])\n",
    "mypool.close()\n",
    "mypool.terminate()\n",
    "for q in outQ: print(q)"
   ]
  },
  {
   "cell_type": "markdown",
   "id": "196c933a",
   "metadata": {},
   "source": [
    "- the ***with*** clause: automatic termination of the pool"
   ]
  },
  {
   "cell_type": "code",
   "execution_count": 10,
   "id": "e335145a",
   "metadata": {},
   "outputs": [
    {
     "name": "stdout",
     "output_type": "stream",
     "text": [
      "module __main__, ppid 86706, Hello Gaurav from pid 86772  \n",
      "module __main__, ppid 86706, Hello Abel from pid 86772  \n",
      "module __main__, ppid 86706, Hello Grigor from pid 86774  \n",
      "module __main__, ppid 86706, Hello Jaume from pid 86775  \n",
      "module __main__, ppid 86706, Hello Oriol from pid 86772  \n",
      "module __main__, ppid 86706, Hello Aniol from pid 86774  \n",
      "module __main__, ppid 86706, Hello Miquel from pid 86773  \n",
      "module __main__, ppid 86706, Hello Joan from pid 86773  \n"
     ]
    }
   ],
   "source": [
    "with Pool(processes = mp.cpu_count()) as pool:\n",
    "    outQ = pool.map(worker, ['Gaurav', 'Abel', 'Grigor', 'Jaume', 'Oriol', 'Aniol', 'Miquel', 'Joan'])\n",
    "for q in outQ: print(q)"
   ]
  },
  {
   "cell_type": "markdown",
   "id": "cbcb2b0e",
   "metadata": {},
   "source": [
    "### Example. \n",
    "\n",
    "We use multiprocessing to make multiple estimations of $\\pi$ following the heuristic of the previous notebook."
   ]
  },
  {
   "cell_type": "code",
   "execution_count": 11,
   "id": "7f1c0095",
   "metadata": {},
   "outputs": [],
   "source": [
    "import numpy as np\n",
    "import matplotlib.pyplot as plt\n",
    "import seaborn as sns\n",
    "sns.set_theme()"
   ]
  },
  {
   "cell_type": "markdown",
   "id": "5f522c6f",
   "metadata": {},
   "source": [
    "#### Estimate $\\pi$ in 2D"
   ]
  },
  {
   "cell_type": "code",
   "execution_count": 12,
   "id": "6f7edb6c",
   "metadata": {},
   "outputs": [],
   "source": [
    "def pi2d_(parms):\n",
    "    n_in, pi2d = 0, []\n",
    "    np.random.seed(parms[1])\n",
    "    for i in range(1, parms[0]):\n",
    "        if np.sqrt(np.sum(np.random.rand(2)**2)) <= 1:\n",
    "            n_in += 1\n",
    "        pi2d.append(4 *n_in/i)\n",
    "    return pi2d"
   ]
  },
  {
   "cell_type": "markdown",
   "id": "fe99a49a",
   "metadata": {},
   "source": [
    "##### run 100 independent estimations (5000 iterations/each)"
   ]
  },
  {
   "cell_type": "code",
   "execution_count": 13,
   "id": "7af74801",
   "metadata": {},
   "outputs": [
    {
     "name": "stdout",
     "output_type": "stream",
     "text": [
      "CPU times: user 94.7 ms, sys: 38.9 ms, total: 134 ms\n",
      "Wall time: 2.31 s\n"
     ]
    }
   ],
   "source": [
    "%%time\n",
    "runs, iters = 100, 5000\n",
    "with Pool(processes = mp.cpu_count()) as pool:\n",
    "    outQ2D = pool.map(pi2d_, [(iters, r) for r in np.random.randint(1, 1000, runs)])"
   ]
  },
  {
   "cell_type": "markdown",
   "id": "d4d8c9dc",
   "metadata": {},
   "source": [
    "##### estimated value of pi  after each run"
   ]
  },
  {
   "cell_type": "code",
   "execution_count": 14,
   "id": "918bdf60",
   "metadata": {},
   "outputs": [
    {
     "data": {
      "text/plain": [
       "[3.116623324664933,\n",
       " 3.127025405081016,\n",
       " 3.179035807161432,\n",
       " 3.142228445689138,\n",
       " 3.144628925785157,\n",
       " 3.1558311662332468,\n",
       " 3.1518303660732148,\n",
       " 3.112622524504901,\n",
       " 3.160632126425285,\n",
       " 3.1358271654330867]"
      ]
     },
     "execution_count": 14,
     "metadata": {},
     "output_type": "execute_result"
    }
   ],
   "source": [
    "# show only first 10 estimations\n",
    "[q[-1] for q in outQ2D][:10]"
   ]
  },
  {
   "cell_type": "markdown",
   "id": "c58f08d2",
   "metadata": {},
   "source": [
    "#### Estimate $\\pi$ in 10D"
   ]
  },
  {
   "cell_type": "code",
   "execution_count": 15,
   "id": "b6759d24",
   "metadata": {},
   "outputs": [],
   "source": [
    "def pi10d_(parms):\n",
    "    n_in, pi10d = 0, []\n",
    "    np.random.seed(parms[1])\n",
    "    for i in range(1, parms[0]):\n",
    "        if np.sqrt(np.sum(np.random.rand(10)**2)) <= 1:\n",
    "            n_in += 1\n",
    "        pi10d.append(4 *(120 *n_in/i)**(1/5))\n",
    "    return pi10d"
   ]
  },
  {
   "cell_type": "markdown",
   "id": "5fbd7b55",
   "metadata": {},
   "source": [
    "##### run 100 independent estimations (500000 iterations/each)"
   ]
  },
  {
   "cell_type": "code",
   "execution_count": 16,
   "id": "253a3719",
   "metadata": {},
   "outputs": [
    {
     "name": "stdout",
     "output_type": "stream",
     "text": [
      "CPU times: user 88 ms, sys: 47.3 ms, total: 135 ms\n",
      "Wall time: 2.53 s\n"
     ]
    }
   ],
   "source": [
    "%%time\n",
    "runs, iters = 100, 5000\n",
    "with Pool(processes = mp.cpu_count()) as pool:\n",
    "    outQ10D = pool.map(pi10d_, [(iters, r) for r in np.random.randint(1, 1000, runs)])"
   ]
  },
  {
   "cell_type": "markdown",
   "id": "4b6a558b",
   "metadata": {},
   "source": [
    "##### estimated value of pi  after each run"
   ]
  },
  {
   "cell_type": "code",
   "execution_count": 17,
   "id": "dddb2d02",
   "metadata": {},
   "outputs": [
    {
     "data": {
      "text/plain": [
       "[3.3032664750974194,\n",
       " 3.0069043488092513,\n",
       " 3.0647718516237092,\n",
       " 2.7998787290920326,\n",
       " 3.2609028849752315,\n",
       " 3.118572625618606,\n",
       " 3.2609028849752315,\n",
       " 3.343562128467545,\n",
       " 3.1688981695513694,\n",
       " 3.1688981695513694]"
      ]
     },
     "execution_count": 17,
     "metadata": {},
     "output_type": "execute_result"
    }
   ],
   "source": [
    "# show only first 10 estimations\n",
    "[q[-1] for q in outQ10D][:10]"
   ]
  },
  {
   "cell_type": "markdown",
   "id": "d17632aa",
   "metadata": {},
   "source": [
    "#### Compare the mean and var of 2D and 10D estimations"
   ]
  },
  {
   "cell_type": "code",
   "execution_count": 18,
   "id": "bf2ff6bc",
   "metadata": {},
   "outputs": [],
   "source": [
    "# get each run last estimated value \n",
    "pi2d = [q[-1] for q in outQ2D]\n",
    "pi10d = [q[-1] for q in outQ10D]"
   ]
  },
  {
   "cell_type": "code",
   "execution_count": 20,
   "id": "40ec54e9",
   "metadata": {},
   "outputs": [
    {
     "data": {
      "image/png": "[encoded data removed]",
      "text/plain": [
       "<Figure size 864x360 with 2 Axes>"
      ]
     },
     "metadata": {
      "needs_background": "light"
     },
     "output_type": "display_data"
    }
   ],
   "source": [
    "fig, axs = plt.subplots(1, 2, figsize = (12, 5), sharex = True, sharey = True)\n",
    "# estimated values\n",
    "axs[0].plot(pi2d)\n",
    "axs[1].plot(pi10d)\n",
    "# pi value\n",
    "axs[0].axhline(np.pi, c = 'r', linewidth = 1.0)\n",
    "axs[1].axhline(np.pi, c = 'r', linewidth = 1.0)\n",
    "# mean\n",
    "axs[0].axhline(np.mean(pi2d), c = 'g', linewidth = 1.0)\n",
    "axs[1].axhline(np.mean(pi10d), c = 'g', linewidth = 1.0)\n",
    "# standard deviation\n",
    "lw, up = np.mean(pi2d) -np.std(pi2d), np.mean(pi2d) +np.std(pi2d)\n",
    "axs[0].fill_between(np.arange(len(pi2d)), lw, up, alpha = 0.2)    \n",
    "lw, up = np.mean(pi10d) -np.std(pi10d), np.mean(pi10d) +np.std(pi10d)\n",
    "axs[1].fill_between(np.arange(len(pi10d)), lw, up, alpha = 0.2);    "
   ]
  }
 ],
 "metadata": {
  "kernelspec": {
   "display_name": "Python 3",
   "language": "python",
   "name": "python3"
  },
  "language_info": {
   "codemirror_mode": {
    "name": "ipython",
    "version": 3
   },
   "file_extension": ".py",
   "mimetype": "text/x-python",
   "name": "python",
   "nbconvert_exporter": "python",
   "pygments_lexer": "ipython3",
   "version": "3.9.13"
  }
 },
 "nbformat": 4,
 "nbformat_minor": 5
}
