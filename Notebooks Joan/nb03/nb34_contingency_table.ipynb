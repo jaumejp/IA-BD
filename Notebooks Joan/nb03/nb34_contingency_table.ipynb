{
 "cells": [
  {
   "cell_type": "markdown",
   "id": "5ef54592",
   "metadata": {},
   "source": [
    "### discret distribution: contingency table"
   ]
  },
  {
   "cell_type": "code",
   "execution_count": 1,
   "id": "a9457dc6",
   "metadata": {},
   "outputs": [],
   "source": [
    "import numpy as np\n",
    "import pandas as pd\n",
    "import matplotlib.pyplot as plt\n"
   ]
  },
  {
   "cell_type": "markdown",
   "id": "d05fb1f8",
   "metadata": {},
   "source": [
    "#### Let's consider a dataset with categorical variables"
   ]
  },
  {
   "cell_type": "code",
   "execution_count": 2,
   "id": "d06cf74f",
   "metadata": {},
   "outputs": [
    {
     "data": {
      "text/html": [
       "<div>\n",
       "<style scoped>\n",
       "    .dataframe tbody tr th:only-of-type {\n",
       "        vertical-align: middle;\n",
       "    }\n",
       "\n",
       "    .dataframe tbody tr th {\n",
       "        vertical-align: top;\n",
       "    }\n",
       "\n",
       "    .dataframe thead th {\n",
       "        text-align: right;\n",
       "    }\n",
       "</style>\n",
       "<table border=\"1\" class=\"dataframe\">\n",
       "  <thead>\n",
       "    <tr style=\"text-align: right;\">\n",
       "      <th></th>\n",
       "      <th>X</th>\n",
       "      <th>Y</th>\n",
       "    </tr>\n",
       "  </thead>\n",
       "  <tbody>\n",
       "    <tr>\n",
       "      <th>0</th>\n",
       "      <td>A</td>\n",
       "      <td>d</td>\n",
       "    </tr>\n",
       "    <tr>\n",
       "      <th>1</th>\n",
       "      <td>D</td>\n",
       "      <td>b</td>\n",
       "    </tr>\n",
       "    <tr>\n",
       "      <th>2</th>\n",
       "      <td>E</td>\n",
       "      <td>b</td>\n",
       "    </tr>\n",
       "    <tr>\n",
       "      <th>3</th>\n",
       "      <td>C</td>\n",
       "      <td>c</td>\n",
       "    </tr>\n",
       "    <tr>\n",
       "      <th>4</th>\n",
       "      <td>D</td>\n",
       "      <td>c</td>\n",
       "    </tr>\n",
       "  </tbody>\n",
       "</table>\n",
       "</div>"
      ],
      "text/plain": [
       "   X  Y\n",
       "0  A  d\n",
       "1  D  b\n",
       "2  E  b\n",
       "3  C  c\n",
       "4  D  c"
      ]
     },
     "execution_count": 2,
     "metadata": {},
     "output_type": "execute_result"
    }
   ],
   "source": [
    "# draw sample of size N\n",
    "N = 100\n",
    "data = pd.DataFrame(np.ceil(np.random.default_rng(seed = 1234).dirichlet((10, 5, 3), N)[:, :2] *10).astype('int'), columns = ['X', 'Y'])\n",
    "# map categorical values\n",
    "cats = 'ABCDEFGHIJKLMNOPQRSTUVWXYZ'\n",
    "data.X = data.X.map({x:cats[i] for i, x in enumerate(np.unique(data.X))})\n",
    "data.Y = data.Y.map({y:cats[j].lower() for j, y in enumerate(np.unique(data.Y))})\n",
    "# show\n",
    "data.head()"
   ]
  },
  {
   "cell_type": "markdown",
   "id": "1a461aa5",
   "metadata": {},
   "source": [
    "### Cardinality"
   ]
  },
  {
   "cell_type": "markdown",
   "id": "edfcedf4",
   "metadata": {},
   "source": [
    "- the ***cardinality*** of a categorical variable is the number of outcomes it can take"
   ]
  },
  {
   "cell_type": "code",
   "execution_count": 3,
   "id": "2af50c88",
   "metadata": {},
   "outputs": [
    {
     "data": {
      "text/plain": [
       "\"categories of X: ['A' 'B' 'C' 'D' 'E'], cardinality of X is |X| = 5\""
      ]
     },
     "execution_count": 3,
     "metadata": {},
     "output_type": "execute_result"
    }
   ],
   "source": [
    "cardX = np.unique(data.X).shape[0]\n",
    "'categories of X: %s, cardinality of X is |X| = %1d' %(np.unique(data.X), cardX)"
   ]
  },
  {
   "cell_type": "code",
   "execution_count": 4,
   "id": "cfc84a24",
   "metadata": {},
   "outputs": [
    {
     "data": {
      "text/plain": [
       "\"categories of Y: ['a' 'b' 'c' 'd' 'e' 'f'], cardinality of Y is |Y| = 6\""
      ]
     },
     "execution_count": 4,
     "metadata": {},
     "output_type": "execute_result"
    }
   ],
   "source": [
    "cardY = np.unique(data.Y).shape[0]\n",
    "'categories of Y: %s, cardinality of Y is |Y| = %1d' %(np.unique(data.Y), cardY)"
   ]
  },
  {
   "cell_type": "markdown",
   "id": "c3b39675",
   "metadata": {},
   "source": [
    "### Contingency table"
   ]
  },
  {
   "cell_type": "markdown",
   "id": "d35b13b0",
   "metadata": {},
   "source": [
    "A contingency table displays the frequency or count of observations for each combination of a set of categorical variables. A contingency table is the multivariate version of the histogram of frequencies (or a histogram of frequencies is a 1D contingency table).\n",
    "\n",
    "Here's a basic example of a 2x2 contingency table:\n",
    "\n",
    "```\n",
    "           |      y_1      |      y_2      |    marginal X\n",
    "---------------------------------------------------------------\n",
    "     x_1   |      n11      |      n12      |   n11+n12 = n1.\n",
    "     x_2   |      n21      |      n22      |   n21+n22 = n2.\n",
    "----------------------------------------------------------------\n",
    "marginal Y | n11+n21 = n.1 | n12+n22 = n.2 | n11+n12+n21+n22 = N\n",
    "```\n",
    "\n",
    "In this table:\n",
    "\n",
    "- $x_1$ and $x_2$ represent the possible outcomes of a random variable $X$.\n",
    "- $y_1$ and $y_2$ represent the possible outcomes of a random variable $Y$.\n",
    "- $n_{ij}$ represent the frequencies or counts of join observations of $X=x_i$ and $Y=y_j$.\n",
    "\n",
    "The marginal count in each row $n_{i.}$ represents the total number of observations for $X=x_i$, while the marginal count in each column $n_{.j}$ represents the total number of observations for $Y=y_j$. The count in the bottom right cell $N$ is the total number of observations in the entire dataset."
   ]
  },
  {
   "cell_type": "markdown",
   "id": "b956a44c",
   "metadata": {},
   "source": [
    "\n",
    "### Compute the contingency table: a $\\left(|X|,|Y|\\right)$ matrix"
   ]
  },
  {
   "cell_type": "markdown",
   "id": "bd4cf5b5",
   "metadata": {},
   "source": [
    "##### 1. factorize categorical variables"
   ]
  },
  {
   "cell_type": "code",
   "execution_count": 5,
   "id": "dafd1794",
   "metadata": {},
   "outputs": [
    {
     "data": {
      "text/html": [
       "<div>\n",
       "<style scoped>\n",
       "    .dataframe tbody tr th:only-of-type {\n",
       "        vertical-align: middle;\n",
       "    }\n",
       "\n",
       "    .dataframe tbody tr th {\n",
       "        vertical-align: top;\n",
       "    }\n",
       "\n",
       "    .dataframe thead th {\n",
       "        text-align: right;\n",
       "    }\n",
       "</style>\n",
       "<table border=\"1\" class=\"dataframe\">\n",
       "  <thead>\n",
       "    <tr style=\"text-align: right;\">\n",
       "      <th></th>\n",
       "      <th>X</th>\n",
       "      <th>Y</th>\n",
       "      <th>x</th>\n",
       "      <th>y</th>\n",
       "    </tr>\n",
       "  </thead>\n",
       "  <tbody>\n",
       "    <tr>\n",
       "      <th>0</th>\n",
       "      <td>A</td>\n",
       "      <td>d</td>\n",
       "      <td>0</td>\n",
       "      <td>3</td>\n",
       "    </tr>\n",
       "    <tr>\n",
       "      <th>1</th>\n",
       "      <td>D</td>\n",
       "      <td>b</td>\n",
       "      <td>3</td>\n",
       "      <td>1</td>\n",
       "    </tr>\n",
       "    <tr>\n",
       "      <th>2</th>\n",
       "      <td>E</td>\n",
       "      <td>b</td>\n",
       "      <td>4</td>\n",
       "      <td>1</td>\n",
       "    </tr>\n",
       "    <tr>\n",
       "      <th>3</th>\n",
       "      <td>C</td>\n",
       "      <td>c</td>\n",
       "      <td>2</td>\n",
       "      <td>2</td>\n",
       "    </tr>\n",
       "    <tr>\n",
       "      <th>4</th>\n",
       "      <td>D</td>\n",
       "      <td>c</td>\n",
       "      <td>3</td>\n",
       "      <td>2</td>\n",
       "    </tr>\n",
       "  </tbody>\n",
       "</table>\n",
       "</div>"
      ],
      "text/plain": [
       "   X  Y  x  y\n",
       "0  A  d  0  3\n",
       "1  D  b  3  1\n",
       "2  E  b  4  1\n",
       "3  C  c  2  2\n",
       "4  D  c  3  2"
      ]
     },
     "execution_count": 5,
     "metadata": {},
     "output_type": "execute_result"
    }
   ],
   "source": [
    "data['x'] = data.X.map({x: i for i,x in enumerate(np.unique(data.X.sort_values()))})\n",
    "data['y'] = data.Y.map({y: j for j,y in enumerate(np.unique(data.Y.sort_values()))})\n",
    "data.head()"
   ]
  },
  {
   "cell_type": "markdown",
   "id": "52ca053c",
   "metadata": {},
   "source": [
    "#### 2. initialize a matrix to store the contingency table (add 1 row and 1 col to store the marginal counts)"
   ]
  },
  {
   "cell_type": "code",
   "execution_count": 6,
   "id": "9dab211d",
   "metadata": {},
   "outputs": [
    {
     "data": {
      "text/plain": [
       "array([[0., 0., 0., 0., 0., 0., 0.],\n",
       "       [0., 0., 0., 0., 0., 0., 0.],\n",
       "       [0., 0., 0., 0., 0., 0., 0.],\n",
       "       [0., 0., 0., 0., 0., 0., 0.],\n",
       "       [0., 0., 0., 0., 0., 0., 0.],\n",
       "       [0., 0., 0., 0., 0., 0., 0.]])"
      ]
     },
     "execution_count": 6,
     "metadata": {},
     "output_type": "execute_result"
    }
   ],
   "source": [
    "ct = np.zeros((cardX +1, cardY +1))\n",
    "ct"
   ]
  },
  {
   "cell_type": "markdown",
   "id": "0a10c4af",
   "metadata": {},
   "source": [
    "#### 3. compute the joint counts"
   ]
  },
  {
   "cell_type": "code",
   "execution_count": 7,
   "id": "4f28fb57",
   "metadata": {},
   "outputs": [
    {
     "data": {
      "text/plain": [
       "(array([[ 0.,  0.,  3.,  3.,  1.,  0.,  0.],\n",
       "        [ 0.,  1.,  3., 12.,  7.,  1.,  0.],\n",
       "        [ 1.,  5., 12., 12.,  4.,  0.,  0.],\n",
       "        [ 0.,  9., 17.,  0.,  0.,  0.,  0.],\n",
       "        [ 1.,  5.,  3.,  0.,  0.,  0.,  0.],\n",
       "        [ 0.,  0.,  0.,  0.,  0.,  0.,  0.]]),\n",
       " 100.0)"
      ]
     },
     "execution_count": 7,
     "metadata": {},
     "output_type": "execute_result"
    }
   ],
   "source": [
    "for _, obs in data.iterrows(): ct[obs.x, obs.y] += 1\n",
    "ct, np.sum(ct)"
   ]
  },
  {
   "cell_type": "markdown",
   "id": "6f44de3e",
   "metadata": {},
   "source": [
    "#### 4. compute the marginal counts"
   ]
  },
  {
   "cell_type": "code",
   "execution_count": 8,
   "id": "8ba0784c",
   "metadata": {},
   "outputs": [
    {
     "data": {
      "text/plain": [
       "array([[ 0.,  0.,  3.,  3.,  1.,  0.,  7.],\n",
       "       [ 0.,  1.,  3., 12.,  7.,  1., 24.],\n",
       "       [ 1.,  5., 12., 12.,  4.,  0., 34.],\n",
       "       [ 0.,  9., 17.,  0.,  0.,  0., 26.],\n",
       "       [ 1.,  5.,  3.,  0.,  0.,  0.,  9.],\n",
       "       [ 2., 20., 38., 27., 12.,  1.,  0.]])"
      ]
     },
     "execution_count": 8,
     "metadata": {},
     "output_type": "execute_result"
    }
   ],
   "source": [
    "# compute the marginal X\n",
    "marginal_x = np.sum(ct[:-1, :-1], axis = 1)\n",
    "# compute the marginal Y\n",
    "marginal_y = np.sum(ct[:-1, :-1], axis = 0)\n",
    "# add to contingency table\n",
    "ct[:-1, -1] = marginal_x\n",
    "ct[-1, :-1] = marginal_y\n",
    "# show\n",
    "ct"
   ]
  },
  {
   "cell_type": "markdown",
   "id": "5e9169ce",
   "metadata": {},
   "source": [
    "#### 5. compute the total counts"
   ]
  },
  {
   "cell_type": "code",
   "execution_count": 9,
   "id": "b0dbd782",
   "metadata": {},
   "outputs": [
    {
     "data": {
      "text/plain": [
       "array([[  0.,   0.,   3.,   3.,   1.,   0.,   7.],\n",
       "       [  0.,   1.,   3.,  12.,   7.,   1.,  24.],\n",
       "       [  1.,   5.,  12.,  12.,   4.,   0.,  34.],\n",
       "       [  0.,   9.,  17.,   0.,   0.,   0.,  26.],\n",
       "       [  1.,   5.,   3.,   0.,   0.,   0.,   9.],\n",
       "       [  2.,  20.,  38.,  27.,  12.,   1., 100.]])"
      ]
     },
     "execution_count": 9,
     "metadata": {},
     "output_type": "execute_result"
    }
   ],
   "source": [
    "ct[-1, -1] = np.sum(ct[:-1, :-1])\n",
    "# show\n",
    "ct"
   ]
  },
  {
   "cell_type": "markdown",
   "id": "d78f26ea",
   "metadata": {},
   "source": [
    "#### Define a 2D contingency table class"
   ]
  },
  {
   "cell_type": "code",
   "execution_count": 24,
   "id": "a8fac034",
   "metadata": {},
   "outputs": [],
   "source": [
    "class ContingencyTable2D():\n",
    "    \n",
    "    def __init__(self, X, Y):\n",
    " \n",
    "        # cardinalities\n",
    "        self.cardX = np.unique(X).shape[0]\n",
    "        self.cardY = np.unique(Y).shape[0]\n",
    "    \n",
    "        # factorize\n",
    "        X_ = X.map({x: i for i,x in enumerate(np.unique(X.sort_values()))})\n",
    "        Y_ = Y.map({y: j for j,y in enumerate(np.unique(Y.sort_values()))})\n",
    "        \n",
    "        # joint counts\n",
    "        self.counts = np.zeros((self.cardX, self.cardY))\n",
    "        for x, y in zip(X_, Y_): self.counts[x, y] += 1\n",
    "\n",
    "        #total counts\n",
    "        self.n = np.sum(self.counts)\n",
    "        \n",
    "    def mrgX(self):\n",
    "        return np.sum(self.counts, axis = 1)\n",
    "\n",
    "    def mrgY(self):\n",
    "        return np.sum(self.counts, axis = 0)\n"
   ]
  },
  {
   "cell_type": "code",
   "execution_count": 25,
   "id": "8ffbf894",
   "metadata": {},
   "outputs": [
    {
     "data": {
      "text/plain": [
       "array([[ 0.,  0.,  3.,  3.,  1.,  0.],\n",
       "       [ 0.,  1.,  3., 12.,  7.,  1.],\n",
       "       [ 1.,  5., 12., 12.,  4.,  0.],\n",
       "       [ 0.,  9., 17.,  0.,  0.,  0.],\n",
       "       [ 1.,  5.,  3.,  0.,  0.,  0.]])"
      ]
     },
     "execution_count": 25,
     "metadata": {},
     "output_type": "execute_result"
    }
   ],
   "source": [
    "ct = ContingencyTable2D(data.X, data.Y)\n",
    "ct.counts"
   ]
  },
  {
   "cell_type": "code",
   "execution_count": 26,
   "id": "0c44d8ed",
   "metadata": {},
   "outputs": [
    {
     "data": {
      "text/plain": [
       "array([ 7., 24., 34., 26.,  9.])"
      ]
     },
     "execution_count": 26,
     "metadata": {},
     "output_type": "execute_result"
    }
   ],
   "source": [
    "ct.mrgX()"
   ]
  },
  {
   "cell_type": "code",
   "execution_count": 27,
   "id": "08a4d971",
   "metadata": {},
   "outputs": [
    {
     "data": {
      "text/plain": [
       "array([ 2., 20., 38., 27., 12.,  1.])"
      ]
     },
     "execution_count": 27,
     "metadata": {},
     "output_type": "execute_result"
    }
   ],
   "source": [
    "ct.mrgY()"
   ]
  },
  {
   "cell_type": "code",
   "execution_count": 28,
   "id": "e55129f6",
   "metadata": {},
   "outputs": [
    {
     "data": {
      "text/plain": [
       "100.0"
      ]
     },
     "execution_count": 28,
     "metadata": {},
     "output_type": "execute_result"
    }
   ],
   "source": [
    "ct.n"
   ]
  }
 ],
 "metadata": {
  "kernelspec": {
   "display_name": "Python 3",
   "language": "python",
   "name": "python3"
  },
  "language_info": {
   "codemirror_mode": {
    "name": "ipython",
    "version": 3
   },
   "file_extension": ".py",
   "mimetype": "text/x-python",
   "name": "python",
   "nbconvert_exporter": "python",
   "pygments_lexer": "ipython3",
   "version": "3.9.13"
  }
 },
 "nbformat": 4,
 "nbformat_minor": 5
}
