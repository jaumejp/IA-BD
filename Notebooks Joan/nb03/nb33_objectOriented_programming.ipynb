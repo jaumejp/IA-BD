{
 "cells": [
  {
   "cell_type": "markdown",
   "id": "b02b3748",
   "metadata": {},
   "source": [
    "### Object oriented programming. Definition of classes."
   ]
  },
  {
   "cell_type": "markdown",
   "id": "900cc11f",
   "metadata": {},
   "source": [
    "#### simple example"
   ]
  },
  {
   "cell_type": "code",
   "execution_count": 1,
   "id": "9eb44fe0",
   "metadata": {},
   "outputs": [],
   "source": [
    "import pandas as pd\n",
    "from datetime import date, datetime, timedelta"
   ]
  },
  {
   "cell_type": "code",
   "execution_count": 2,
   "id": "3a021c32",
   "metadata": {},
   "outputs": [
    {
     "data": {
      "text/html": [
       "<div>\n",
       "<style scoped>\n",
       "    .dataframe tbody tr th:only-of-type {\n",
       "        vertical-align: middle;\n",
       "    }\n",
       "\n",
       "    .dataframe tbody tr th {\n",
       "        vertical-align: top;\n",
       "    }\n",
       "\n",
       "    .dataframe thead th {\n",
       "        text-align: right;\n",
       "    }\n",
       "</style>\n",
       "<table border=\"1\" class=\"dataframe\">\n",
       "  <thead>\n",
       "    <tr style=\"text-align: right;\">\n",
       "      <th></th>\n",
       "      <th>company</th>\n",
       "      <th>make</th>\n",
       "      <th>model</th>\n",
       "      <th>version</th>\n",
       "      <th>price</th>\n",
       "      <th>price_financed</th>\n",
       "      <th>fuel</th>\n",
       "      <th>year</th>\n",
       "      <th>kms</th>\n",
       "      <th>power</th>\n",
       "      <th>doors</th>\n",
       "      <th>shift</th>\n",
       "      <th>color</th>\n",
       "      <th>photos</th>\n",
       "      <th>is_professional</th>\n",
       "      <th>dealer</th>\n",
       "      <th>phone</th>\n",
       "      <th>province</th>\n",
       "      <th>publish_date</th>\n",
       "      <th>insert_date</th>\n",
       "    </tr>\n",
       "  </thead>\n",
       "  <tbody>\n",
       "    <tr>\n",
       "      <th>0</th>\n",
       "      <td>9881BCDD5A0AD4733037B3FB25E69C3A</td>\n",
       "      <td>KIA</td>\n",
       "      <td>Carnival</td>\n",
       "      <td>KIA Carnival 2.9 CRDi VGT EX 5p.</td>\n",
       "      <td>4860</td>\n",
       "      <td>4860.0</td>\n",
       "      <td>Diésel</td>\n",
       "      <td>2007</td>\n",
       "      <td>221000</td>\n",
       "      <td>185.0</td>\n",
       "      <td>5.0</td>\n",
       "      <td>Manual</td>\n",
       "      <td>Beige (champagne)</td>\n",
       "      <td>8</td>\n",
       "      <td>True</td>\n",
       "      <td>VM Motor</td>\n",
       "      <td>928493782</td>\n",
       "      <td>Las Palmas</td>\n",
       "      <td>2020-12-22 13:28:36</td>\n",
       "      <td>2020-12-25 00:00:00</td>\n",
       "    </tr>\n",
       "    <tr>\n",
       "      <th>1</th>\n",
       "      <td>9881BCDD5A0AD4733037B3FB25E69C3A</td>\n",
       "      <td>BMW</td>\n",
       "      <td>Serie 5</td>\n",
       "      <td>BMW Serie 5  4p.</td>\n",
       "      <td>1800</td>\n",
       "      <td>NaN</td>\n",
       "      <td>Diésel</td>\n",
       "      <td>2001</td>\n",
       "      <td>205000</td>\n",
       "      <td>NaN</td>\n",
       "      <td>4.0</td>\n",
       "      <td>Manual</td>\n",
       "      <td>Verde</td>\n",
       "      <td>0</td>\n",
       "      <td>False</td>\n",
       "      <td>3F128E570B3A9009D7B52A0523AF43DD</td>\n",
       "      <td>DBB2949B54A306BA299A791B860EEBF6</td>\n",
       "      <td>Tarragona</td>\n",
       "      <td>2020-12-14 07:02:22</td>\n",
       "      <td>2020-12-26 00:00:00</td>\n",
       "    </tr>\n",
       "    <tr>\n",
       "      <th>2</th>\n",
       "      <td>9881BCDD5A0AD4733037B3FB25E69C3A</td>\n",
       "      <td>FIAT</td>\n",
       "      <td>500</td>\n",
       "      <td>FIAT 500 1.2 8v 51kW 69CV Lounge 3p.</td>\n",
       "      <td>6490</td>\n",
       "      <td>6490.0</td>\n",
       "      <td>Gasolina</td>\n",
       "      <td>2017</td>\n",
       "      <td>75000</td>\n",
       "      <td>69.0</td>\n",
       "      <td>3.0</td>\n",
       "      <td>Manual</td>\n",
       "      <td>Negro</td>\n",
       "      <td>7</td>\n",
       "      <td>True</td>\n",
       "      <td>LAS PALMAS MOTOR</td>\n",
       "      <td>653895468</td>\n",
       "      <td>Las Palmas</td>\n",
       "      <td>2020-11-20 18:30:00</td>\n",
       "      <td>2020-12-08 00:00:00</td>\n",
       "    </tr>\n",
       "  </tbody>\n",
       "</table>\n",
       "</div>"
      ],
      "text/plain": [
       "                            company  make     model  \\\n",
       "0  9881BCDD5A0AD4733037B3FB25E69C3A   KIA  Carnival   \n",
       "1  9881BCDD5A0AD4733037B3FB25E69C3A   BMW   Serie 5   \n",
       "2  9881BCDD5A0AD4733037B3FB25E69C3A  FIAT       500   \n",
       "\n",
       "                                version  price  price_financed      fuel  \\\n",
       "0      KIA Carnival 2.9 CRDi VGT EX 5p.   4860          4860.0    Diésel   \n",
       "1                      BMW Serie 5  4p.   1800             NaN    Diésel   \n",
       "2  FIAT 500 1.2 8v 51kW 69CV Lounge 3p.   6490          6490.0  Gasolina   \n",
       "\n",
       "   year     kms  power  doors   shift              color  photos  \\\n",
       "0  2007  221000  185.0    5.0  Manual  Beige (champagne)       8   \n",
       "1  2001  205000    NaN    4.0  Manual              Verde       0   \n",
       "2  2017   75000   69.0    3.0  Manual              Negro       7   \n",
       "\n",
       "   is_professional                            dealer  \\\n",
       "0             True                          VM Motor   \n",
       "1            False  3F128E570B3A9009D7B52A0523AF43DD   \n",
       "2             True                  LAS PALMAS MOTOR   \n",
       "\n",
       "                              phone    province         publish_date  \\\n",
       "0                         928493782  Las Palmas  2020-12-22 13:28:36   \n",
       "1  DBB2949B54A306BA299A791B860EEBF6   Tarragona  2020-12-14 07:02:22   \n",
       "2                         653895468  Las Palmas  2020-11-20 18:30:00   \n",
       "\n",
       "           insert_date  \n",
       "0  2020-12-25 00:00:00  \n",
       "1  2020-12-26 00:00:00  \n",
       "2  2020-12-08 00:00:00  "
      ]
     },
     "execution_count": 2,
     "metadata": {},
     "output_type": "execute_result"
    }
   ],
   "source": [
    "cotxes = pd.read_csv('../../data/cars/venda-cotxes-segona-ma.csv', index_col =False)\n",
    "cotxes.head(3)"
   ]
  },
  {
   "cell_type": "markdown",
   "id": "a60edda0",
   "metadata": {},
   "source": [
    "### Class definition"
   ]
  },
  {
   "cell_type": "code",
   "execution_count": 3,
   "id": "96430af3",
   "metadata": {},
   "outputs": [],
   "source": [
    "class Car():\n",
    "    \n",
    "    def __init__(self, make, model, color, year, price):\n",
    "        \n",
    "        # class attributes\n",
    "        \n",
    "        self.make = make\n",
    "        self.model = model\n",
    "        self.color = color\n",
    "        self.year = year\n",
    "        self.price = price\n"
   ]
  },
  {
   "cell_type": "markdown",
   "id": "467551cd",
   "metadata": {},
   "source": [
    "##### class instantiation"
   ]
  },
  {
   "cell_type": "code",
   "execution_count": 4,
   "id": "d5be4465",
   "metadata": {},
   "outputs": [
    {
     "data": {
      "text/plain": [
       "<__main__.Car at 0x7f0f34f6fe20>"
      ]
     },
     "execution_count": 4,
     "metadata": {},
     "output_type": "execute_result"
    }
   ],
   "source": [
    "mycar = Car('KIA', 'Carnival', 'Beige', 2007, 4860)\n",
    "mycar"
   ]
  },
  {
   "cell_type": "markdown",
   "id": "d3c0fffb",
   "metadata": {},
   "source": [
    "##### check attributes"
   ]
  },
  {
   "cell_type": "code",
   "execution_count": 5,
   "id": "b7edd767",
   "metadata": {},
   "outputs": [
    {
     "data": {
      "text/plain": [
       "'KIA'"
      ]
     },
     "execution_count": 5,
     "metadata": {},
     "output_type": "execute_result"
    }
   ],
   "source": [
    "mycar.make"
   ]
  },
  {
   "cell_type": "code",
   "execution_count": 6,
   "id": "e2553b7e",
   "metadata": {},
   "outputs": [
    {
     "data": {
      "text/plain": [
       "4860"
      ]
     },
     "execution_count": 6,
     "metadata": {},
     "output_type": "execute_result"
    }
   ],
   "source": [
    "mycar.price"
   ]
  },
  {
   "cell_type": "markdown",
   "id": "7db4552b",
   "metadata": {},
   "source": [
    "### Class methods"
   ]
  },
  {
   "cell_type": "code",
   "execution_count": 7,
   "id": "27c94bf6",
   "metadata": {},
   "outputs": [],
   "source": [
    "class Car():\n",
    "    \n",
    "    def __init__(self, make, model, color, year, price):\n",
    "        \n",
    "        # class attributes\n",
    "        \n",
    "        self.make = make\n",
    "        self.model = model\n",
    "        self.color = color\n",
    "        self.year = year\n",
    "        self.price = price\n",
    "        \n",
    "        self.nofee = True\n",
    "        \n",
    "    # class methods\n",
    "    \n",
    "    def years(self):\n",
    "        return 'this car is %3d years old' %(datetime.now().year -self.year)\n",
    "            \n",
    "    def finance(self, months = 12, interest_rate = 5):\n",
    "        if self.nofee:\n",
    "            return 'This car is not financiable'\n",
    "        else:\n",
    "            return 'months: %3d, montly payment: %8.2f€' %(months, self.price *(1 + interest_rate /100) /months)"
   ]
  },
  {
   "cell_type": "markdown",
   "id": "15dd04da",
   "metadata": {},
   "source": [
    "##### define instance of Car()"
   ]
  },
  {
   "cell_type": "code",
   "execution_count": 8,
   "id": "e07e3eb6",
   "metadata": {},
   "outputs": [
    {
     "data": {
      "text/plain": [
       "<__main__.Car at 0x7f0f34f42250>"
      ]
     },
     "execution_count": 8,
     "metadata": {},
     "output_type": "execute_result"
    }
   ],
   "source": [
    "yourcar = Car('BMW', 'Serie 5', 'Verde', 2001, 1800)\n",
    "yourcar"
   ]
  },
  {
   "cell_type": "code",
   "execution_count": 9,
   "id": "87e6378a",
   "metadata": {},
   "outputs": [
    {
     "data": {
      "text/plain": [
       "'this car is  22 years old'"
      ]
     },
     "execution_count": 9,
     "metadata": {},
     "output_type": "execute_result"
    }
   ],
   "source": [
    "yourcar.years()"
   ]
  },
  {
   "cell_type": "markdown",
   "id": "2858f7d0",
   "metadata": {},
   "source": [
    "##### check methods"
   ]
  },
  {
   "cell_type": "code",
   "execution_count": 10,
   "id": "77f79da4",
   "metadata": {},
   "outputs": [
    {
     "data": {
      "text/plain": [
       "'This car is not financiable'"
      ]
     },
     "execution_count": 10,
     "metadata": {},
     "output_type": "execute_result"
    }
   ],
   "source": [
    "yourcar.finance()"
   ]
  },
  {
   "cell_type": "code",
   "execution_count": 11,
   "id": "ee16b668",
   "metadata": {},
   "outputs": [
    {
     "data": {
      "text/plain": [
       "'months:  12, montly payment:   157.50€'"
      ]
     },
     "execution_count": 11,
     "metadata": {},
     "output_type": "execute_result"
    }
   ],
   "source": [
    "yourcar.nofee = False\n",
    "yourcar.finance()"
   ]
  },
  {
   "cell_type": "code",
   "execution_count": 12,
   "id": "f5ee8845",
   "metadata": {},
   "outputs": [
    {
     "data": {
      "text/plain": [
       "'months:  18, montly payment:   107.50€'"
      ]
     },
     "execution_count": 12,
     "metadata": {},
     "output_type": "execute_result"
    }
   ],
   "source": [
    "yourcar.finance(months = 18, interest_rate = 7.5)"
   ]
  },
  {
   "cell_type": "markdown",
   "id": "460bfdc3",
   "metadata": {},
   "source": [
    "### Class inheritance"
   ]
  },
  {
   "cell_type": "code",
   "execution_count": 13,
   "id": "9aebdcca",
   "metadata": {},
   "outputs": [],
   "source": [
    "class BestCar(Car):\n",
    "\n",
    "    def spot_price(self, percentage = 2.5):\n",
    "        return 'Price %8.2f€, Spot price (-%4.2f%%) %8.2f€' %(self.price, percentage, self.price *(1 - percentage /100))"
   ]
  },
  {
   "cell_type": "code",
   "execution_count": 14,
   "id": "0fd01216",
   "metadata": {},
   "outputs": [
    {
     "data": {
      "text/plain": [
       "<__main__.BestCar at 0x7f0f34f42910>"
      ]
     },
     "execution_count": 14,
     "metadata": {},
     "output_type": "execute_result"
    }
   ],
   "source": [
    "hiscar = BestCar('BMW', 'Serie 5', 'Verde', 2001, 1800)\n",
    "hiscar"
   ]
  },
  {
   "cell_type": "markdown",
   "id": "60bacff7",
   "metadata": {},
   "source": [
    "##### BestCar() inherits all methods/attributes defined for its parent class Car()"
   ]
  },
  {
   "cell_type": "code",
   "execution_count": 15,
   "id": "b98dc528",
   "metadata": {},
   "outputs": [
    {
     "data": {
      "text/plain": [
       "'this car is  22 years old'"
      ]
     },
     "execution_count": 15,
     "metadata": {},
     "output_type": "execute_result"
    }
   ],
   "source": [
    "hiscar.years()"
   ]
  },
  {
   "cell_type": "code",
   "execution_count": 16,
   "id": "27462ba1",
   "metadata": {},
   "outputs": [
    {
     "data": {
      "text/plain": [
       "'This car is not financiable'"
      ]
     },
     "execution_count": 16,
     "metadata": {},
     "output_type": "execute_result"
    }
   ],
   "source": [
    "hiscar.finance()"
   ]
  },
  {
   "cell_type": "markdown",
   "id": "5d2600cc",
   "metadata": {},
   "source": [
    "##### check BestCar() specific new methods"
   ]
  },
  {
   "cell_type": "code",
   "execution_count": 17,
   "id": "5a3728b6",
   "metadata": {},
   "outputs": [
    {
     "data": {
      "text/plain": [
       "'Price  1800.00€, Spot price (-2.50%)  1755.00€'"
      ]
     },
     "execution_count": 17,
     "metadata": {},
     "output_type": "execute_result"
    }
   ],
   "source": [
    "hiscar.spot_price()"
   ]
  },
  {
   "cell_type": "markdown",
   "id": "3a798659",
   "metadata": {},
   "source": [
    "### Special methods"
   ]
  },
  {
   "cell_type": "code",
   "execution_count": 18,
   "id": "2d784221",
   "metadata": {},
   "outputs": [],
   "source": [
    "class SuperCar(BestCar):\n",
    "        \n",
    "    # __repr__ method (instance representation)\n",
    "    def __repr__(self):\n",
    "        txt  = 'Company: %s \\n' %self.make\n",
    "        txt += '  model: %s \\n' %self.model\n",
    "        txt += '  color: %s \\n' %self.color\n",
    "        return txt\n",
    "    \n",
    "    # __str__ method (result of print(instance))\n",
    "    def __str__(self):\n",
    "        txt  = 'Company: %s \\n' %self.make\n",
    "        txt += '  model: %s \\n' %self.model\n",
    "        txt += '  color: %s \\n' %self.color\n",
    "        txt += '  price: %8.2f€ \\n' % self.price\n",
    "        return txt\n",
    "    "
   ]
  },
  {
   "cell_type": "markdown",
   "id": "6fe6c355",
   "metadata": {},
   "source": [
    "- ***\\_\\_repr\\_\\_()***, defines how the class is shown"
   ]
  },
  {
   "cell_type": "code",
   "execution_count": 19,
   "id": "b8afb951",
   "metadata": {},
   "outputs": [
    {
     "data": {
      "text/plain": [
       "Company: Fiat \n",
       "  model: 500 \n",
       "  color: Negro "
      ]
     },
     "execution_count": 19,
     "metadata": {},
     "output_type": "execute_result"
    }
   ],
   "source": [
    "mysupercar = SuperCar('Fiat', '500', 'Negro', 2017, 6490)\n",
    "mysupercar"
   ]
  },
  {
   "cell_type": "markdown",
   "id": "5b5fd483",
   "metadata": {},
   "source": [
    "- ***\\_\\_str\\_\\_()***, defines how the clas is printed"
   ]
  },
  {
   "cell_type": "code",
   "execution_count": 20,
   "id": "95dbb546",
   "metadata": {},
   "outputs": [
    {
     "name": "stdout",
     "output_type": "stream",
     "text": [
      "Company: Fiat \n",
      "  model: 500 \n",
      "  color: Negro \n",
      "  price:  6490.00€ \n",
      "\n"
     ]
    }
   ],
   "source": [
    "print(mysupercar)"
   ]
  },
  {
   "cell_type": "markdown",
   "id": "3176e4ef",
   "metadata": {},
   "source": [
    "##### SuperCar() inherits all methods/attributes defined for its parents classes BestCar() and Car()"
   ]
  },
  {
   "cell_type": "code",
   "execution_count": 21,
   "id": "e406c122",
   "metadata": {},
   "outputs": [
    {
     "data": {
      "text/plain": [
       "(Company: Fiat \n",
       "   model: 500 \n",
       "   color: Negro ,\n",
       " 'Price  6490.00€, Spot price (-3.00%)  6295.30€',\n",
       " 'This car is not financiable')"
      ]
     },
     "execution_count": 21,
     "metadata": {},
     "output_type": "execute_result"
    }
   ],
   "source": [
    "mysupercar, mysupercar.spot_price(3.0), mysupercar.finance(months = 18, interest_rate = 6.5)"
   ]
  }
 ],
 "metadata": {
  "kernelspec": {
   "display_name": "Python 3",
   "language": "python",
   "name": "python3"
  },
  "language_info": {
   "codemirror_mode": {
    "name": "ipython",
    "version": 3
   },
   "file_extension": ".py",
   "mimetype": "text/x-python",
   "name": "python",
   "nbconvert_exporter": "python",
   "pygments_lexer": "ipython3",
   "version": "3.9.13"
  }
 },
 "nbformat": 4,
 "nbformat_minor": 5
}
