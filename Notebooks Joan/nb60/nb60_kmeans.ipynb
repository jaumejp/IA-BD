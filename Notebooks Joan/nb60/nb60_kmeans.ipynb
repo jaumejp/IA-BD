{
 "cells": [
  {
   "cell_type": "markdown",
   "id": "a41ef21f",
   "metadata": {},
   "source": [
    "#### Unsupervised Clustering. K-means algorithm."
   ]
  },
  {
   "cell_type": "markdown",
   "id": "7a81c796",
   "metadata": {},
   "source": [
    "#### k-means"
   ]
  },
  {
   "cell_type": "markdown",
   "id": "17c307bd",
   "metadata": {},
   "source": [
    "- unsupervised clustering algorithm\n",
    "- grups objects into k categories based on their attributes (k is unknown, must be guessed)\n",
    "- minimizes the sum of distances (e.g. euclidean) between each object and the cluster centroid"
   ]
  },
  {
   "cell_type": "markdown",
   "id": "3534c859",
   "metadata": {},
   "source": [
    "#### heuristic"
   ]
  },
  {
   "cell_type": "markdown",
   "id": "db3fc71e",
   "metadata": {},
   "source": [
    "- given k clusters $S=\\{s_1, \\dots, s_k\\}$ with centroids $M=\\{\\mu_1, \\dots, \\mu_k\\}$\n",
    "\n",
    "\n",
    "- each observation is assigned to the cluster $s_c$ with the closest centroid,\n",
    "\n",
    "$\n",
    "\\forall\\,x_{i}\\in\\,X\\,,\\;\\text{centroid of}\\,x_{i}\\,\\text{is}\\;\\underset{\\mu_c\\,\\in\\,M}{\\arg\\min}\\,\\|x_i-\\mu_c\\|^2\n",
    "$\n",
    "- minimize the sum of the distances from each observation to its cluster centroid\n",
    "\n",
    "$\n",
    "\\underset{M}{\\min}\\sum_{c=1}^k\\,\\sum_{x_{i}\\in\\,s_c}\\,\\|x_i-\\mu_c\\|^2\n",
    "$"
   ]
  },
  {
   "cell_type": "markdown",
   "id": "9f5d4033",
   "metadata": {},
   "source": [
    "#### algorithm"
   ]
  },
  {
   "cell_type": "markdown",
   "id": "1b3fdf7f",
   "metadata": {},
   "source": [
    "- randomly select k centroids\n",
    "- iterate until convergence or fixed number of iterations\n",
    "    - 1. for each $x_{i}\\in X$:\n",
    "        - find the closest centroid\n",
    "        - assign $x_i$ to that cluster\n",
    "    - 2. for each cluster $s_{c},\\;c=\\{1,\\dots,k\\}$:\n",
    "        - update centroid: $\\mu_c=\\frac{1}{|s_c|}\\sum_{x_i\\in\\,s_c}x_{i}$\n"
   ]
  },
  {
   "cell_type": "markdown",
   "id": "cc7f12c7",
   "metadata": {},
   "source": [
    "#### visualization: \n",
    "https://www.youtube.com/watch?v=9nKfViAfajY"
   ]
  },
  {
   "cell_type": "code",
   "execution_count": null,
   "id": "5ffccae5",
   "metadata": {},
   "outputs": [],
   "source": [
    "import numpy as np\n",
    "import pandas as pd\n",
    "import seaborn as sns\n",
    "#sns.set_theme()"
   ]
  },
  {
   "cell_type": "markdown",
   "id": "538e092b",
   "metadata": {},
   "source": [
    "#### generate synthetic dataset"
   ]
  },
  {
   "cell_type": "code",
   "execution_count": null,
   "id": "014cd4cf",
   "metadata": {},
   "outputs": [],
   "source": [
    "from sklearn.datasets import make_classification"
   ]
  },
  {
   "cell_type": "code",
   "execution_count": null,
   "id": "a8e04639",
   "metadata": {},
   "outputs": [],
   "source": [
    "X, y = make_classification(n_samples = 1000, n_features = 5, n_informative = 3, n_classes = 3, n_clusters_per_class = 1, class_sep = 2.0, n_redundant = 0, random_state = 1234)\n",
    "print(X.shape, y.shape)"
   ]
  },
  {
   "cell_type": "markdown",
   "id": "f55147fe",
   "metadata": {},
   "source": [
    "#### data exploration"
   ]
  },
  {
   "cell_type": "code",
   "execution_count": null,
   "id": "a014fdce",
   "metadata": {},
   "outputs": [],
   "source": [
    "df = pd.DataFrame(X, columns = ['X%d' %j for j in range(X.shape[1])])\n",
    "df['target'] = y\n",
    "df.head()"
   ]
  },
  {
   "cell_type": "code",
   "execution_count": null,
   "id": "2dd27985",
   "metadata": {},
   "outputs": [],
   "source": [
    "df['target'].value_counts()"
   ]
  },
  {
   "cell_type": "code",
   "execution_count": null,
   "id": "09aa6e7e",
   "metadata": {},
   "outputs": [],
   "source": [
    "sns.pairplot(df, hue = 'target', corner = True)"
   ]
  },
  {
   "cell_type": "markdown",
   "id": "d3ce8d05",
   "metadata": {},
   "source": [
    "#### train/test split"
   ]
  },
  {
   "cell_type": "code",
   "execution_count": null,
   "id": "53706949",
   "metadata": {},
   "outputs": [],
   "source": [
    "from sklearn.model_selection import train_test_split"
   ]
  },
  {
   "cell_type": "code",
   "execution_count": null,
   "id": "03155327",
   "metadata": {},
   "outputs": [],
   "source": [
    "Xtrain, Xtest, Ytrain, Ytest = train_test_split(X, y, test_size = 0.2, random_state = 2783)"
   ]
  },
  {
   "cell_type": "markdown",
   "id": "f8a8d96b",
   "metadata": {},
   "source": [
    "#### instantiate kMeans model"
   ]
  },
  {
   "cell_type": "code",
   "execution_count": null,
   "id": "f7a7b4fd",
   "metadata": {},
   "outputs": [],
   "source": [
    "from sklearn.cluster import KMeans "
   ]
  },
  {
   "cell_type": "code",
   "execution_count": null,
   "id": "1a8678ac",
   "metadata": {},
   "outputs": [],
   "source": [
    "km = KMeans(n_clusters = 3)"
   ]
  },
  {
   "cell_type": "code",
   "execution_count": null,
   "id": "5fedf87d",
   "metadata": {},
   "outputs": [],
   "source": [
    "%time km.fit(Xtrain)"
   ]
  },
  {
   "cell_type": "code",
   "execution_count": null,
   "id": "e2530199",
   "metadata": {},
   "outputs": [],
   "source": [
    "Ypred = km.predict(Xtest)"
   ]
  },
  {
   "cell_type": "markdown",
   "id": "9e56ed0f",
   "metadata": {},
   "source": [
    "#### evaluate kMeans model"
   ]
  },
  {
   "cell_type": "code",
   "execution_count": null,
   "id": "bb4cb5fc",
   "metadata": {},
   "outputs": [],
   "source": [
    "from sklearn.metrics import confusion_matrix, ConfusionMatrixDisplay"
   ]
  },
  {
   "cell_type": "code",
   "execution_count": null,
   "id": "ceb21779",
   "metadata": {},
   "outputs": [],
   "source": [
    "cm = confusion_matrix(Ytest, Ypred)"
   ]
  },
  {
   "cell_type": "code",
   "execution_count": null,
   "id": "9a5f2d2b",
   "metadata": {},
   "outputs": [],
   "source": [
    "#ConfusionMatrixDisplay(cm, display_labels = lbls).plot(ax = axs[0], xticks_rotation = 90.0, values_format = '.2f', cmap = 'GnBu')\n",
    "ConfusionMatrixDisplay(cm).plot();"
   ]
  },
  {
   "cell_type": "markdown",
   "id": "f1e6ec69",
   "metadata": {},
   "source": [
    "#### k-means implementation"
   ]
  },
  {
   "cell_type": "code",
   "execution_count": null,
   "id": "d408fa0d",
   "metadata": {},
   "outputs": [],
   "source": [
    "class kamins():\n",
    "    \n",
    "    def __init__(self, k):\n",
    "        \n",
    "        self.k = k\n",
    "        \n",
    "    def fit(self, Xtrain, maxIterations = 100):\n",
    "                \n",
    "        # pick random centrodis\n",
    "        rangeX = Xtrain.max() -Xtrain.min()\n",
    "        self.M = np.array([Xtrain.min() +rangeX *np.random.rand(Xtrain.shape[1]) for k in range(self.k)])\n",
    "\n",
    "        # initialize array for cluster assignement\n",
    "        S = -np.ones(Xtrain.shape[0])\n",
    "        iteration = 0\n",
    "        while iteration < maxIterations:\n",
    "            # compute distances\n",
    "            for i, x in enumerate(Xtrain):\n",
    "                dxM = np.array([np.sum((x -m)**2) for m in self.M])\n",
    "                # assign cluster\n",
    "                S[i] = np.argmin(dxM)\n",
    "            # update centroids\n",
    "            for c in range(self.k):\n",
    "                self.M[c] = np.mean(Xtrain[S == c], axis = 0)\n",
    "            # loop\n",
    "            iteration += 1\n",
    "                    \n",
    "        \n",
    "    def predict(self, Xtest):\n",
    "\n",
    "        S = -np.ones(Xtest.shape[0])\n",
    "        # compute distances\n",
    "        for i, x in enumerate(Xtest):\n",
    "            dxM = np.array([np.sum((x -m)**2) for m in self.M])\n",
    "            # assign cluster\n",
    "            S[i] = np.argmin(dxM)\n",
    "        \n",
    "        # return predictions\n",
    "        return S\n",
    "        "
   ]
  },
  {
   "cell_type": "code",
   "execution_count": null,
   "id": "30accc3d",
   "metadata": {},
   "outputs": [],
   "source": [
    "mykm = kamins(3)"
   ]
  },
  {
   "cell_type": "code",
   "execution_count": null,
   "id": "6579827e",
   "metadata": {},
   "outputs": [],
   "source": [
    "%time mykm.fit(Xtrain, maxIterations = 50)"
   ]
  },
  {
   "cell_type": "code",
   "execution_count": null,
   "id": "bd4b7273",
   "metadata": {},
   "outputs": [],
   "source": [
    "Ypred = mykm.predict(Xtest)"
   ]
  },
  {
   "cell_type": "code",
   "execution_count": null,
   "id": "d90f64bb",
   "metadata": {},
   "outputs": [],
   "source": [
    "cm = confusion_matrix(Ytest, Ypred)\n",
    "ConfusionMatrixDisplay(cm).plot();"
   ]
  }
 ],
 "metadata": {
  "kernelspec": {
   "display_name": "Python 3",
   "language": "python",
   "name": "python3"
  },
  "language_info": {
   "codemirror_mode": {
    "name": "ipython",
    "version": 3
   },
   "file_extension": ".py",
   "mimetype": "text/x-python",
   "name": "python",
   "nbconvert_exporter": "python",
   "pygments_lexer": "ipython3",
   "version": "3.9.13"
  }
 },
 "nbformat": 4,
 "nbformat_minor": 5
}
