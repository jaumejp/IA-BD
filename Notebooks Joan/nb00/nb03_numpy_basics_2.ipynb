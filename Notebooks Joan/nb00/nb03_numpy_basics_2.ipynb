{
 "cells": [
  {
   "cell_type": "markdown",
   "id": "6bec375c",
   "metadata": {},
   "source": [
    "#### Numpy basics 2\n",
    "- most common numpy functions"
   ]
  },
  {
   "cell_type": "code",
   "execution_count": null,
   "id": "cec744ea",
   "metadata": {},
   "outputs": [],
   "source": [
    "import numpy as np"
   ]
  },
  {
   "cell_type": "markdown",
   "id": "833a3cce",
   "metadata": {},
   "source": [
    "#### array generation functions"
   ]
  },
  {
   "cell_type": "code",
   "execution_count": null,
   "id": "0dbdd5fd",
   "metadata": {},
   "outputs": [],
   "source": [
    "# initialize array with zeros\n",
    "np.zeros(10)"
   ]
  },
  {
   "cell_type": "code",
   "execution_count": null,
   "id": "94788f4d",
   "metadata": {},
   "outputs": [],
   "source": [
    "# initialize arrays with ones\n",
    "np.ones(8)"
   ]
  },
  {
   "cell_type": "code",
   "execution_count": null,
   "id": "d9712d22",
   "metadata": {},
   "outputs": [],
   "source": [
    "# range array\n",
    "np.arange(12)"
   ]
  },
  {
   "cell_type": "code",
   "execution_count": null,
   "id": "8dca8a36",
   "metadata": {},
   "outputs": [],
   "source": [
    "# span array\n",
    "np.linspace(-1, 1, 21)"
   ]
  },
  {
   "cell_type": "markdown",
   "id": "ed5b5bc6",
   "metadata": {},
   "source": [
    "#### random integer arrays"
   ]
  },
  {
   "cell_type": "code",
   "execution_count": null,
   "id": "c309a98b",
   "metadata": {},
   "outputs": [],
   "source": [
    "# array of random integers between a given range\n",
    "np.random.randint(1, 6, 10)"
   ]
  },
  {
   "cell_type": "markdown",
   "id": "bf2dca8f",
   "metadata": {},
   "source": [
    "##### Ex. binary array fo size 20"
   ]
  },
  {
   "cell_type": "code",
   "execution_count": null,
   "id": "e8d0eca7",
   "metadata": {},
   "outputs": [],
   "source": []
  },
  {
   "cell_type": "markdown",
   "id": "a65a6035",
   "metadata": {},
   "source": [
    "#### random float arrays"
   ]
  },
  {
   "cell_type": "code",
   "execution_count": null,
   "id": "a4e429f7",
   "metadata": {},
   "outputs": [],
   "source": [
    "# array of random floats in the half-open interval [0, 1) (0 <= x < 1)\n",
    "np.random.rand(4)"
   ]
  },
  {
   "cell_type": "code",
   "execution_count": null,
   "id": "8eb50de2",
   "metadata": {},
   "outputs": [],
   "source": [
    "# array of random numbers such that 0 <= x < 10\n",
    "np.random.rand(10) *10"
   ]
  },
  {
   "cell_type": "code",
   "execution_count": null,
   "id": "87d5e34a",
   "metadata": {},
   "outputs": [],
   "source": [
    "# array of random numbers such that 1 <= x < 10\n",
    "np.random.rand(10) * (10- 1) +1"
   ]
  },
  {
   "cell_type": "markdown",
   "id": "5b29177c",
   "metadata": {},
   "source": [
    "##### Ex. array of random numbers such that 100 <= x < 200 ?"
   ]
  },
  {
   "cell_type": "code",
   "execution_count": null,
   "id": "fac7febb",
   "metadata": {},
   "outputs": [],
   "source": []
  },
  {
   "cell_type": "markdown",
   "id": "b3d9b0bf",
   "metadata": {},
   "source": [
    "#### nd-arrays"
   ]
  },
  {
   "cell_type": "code",
   "execution_count": null,
   "id": "6e45b320",
   "metadata": {},
   "outputs": [],
   "source": [
    "# 2d-array\n",
    "x2d = np.array([[1, 3, 7, 2], [7, 8, 1, 5]])\n",
    "x2d, x2d.shape"
   ]
  },
  {
   "cell_type": "code",
   "execution_count": null,
   "id": "9f742a39",
   "metadata": {},
   "outputs": [],
   "source": [
    "### 3d-array\n",
    "x3d = np.array([[[8, 2, 3], [8, 2, 5], [3, 4, 2]]])\n",
    "x3d, x3d.shape"
   ]
  },
  {
   "cell_type": "code",
   "execution_count": null,
   "id": "f96dee7d",
   "metadata": {},
   "outputs": [],
   "source": [
    "### 3d-array\n",
    "x3d = np.array([[[8, 2, 3], [8, 2, 5], [3, 4, 2]], [[7, 1, 2], [7, 1, 4], [2, 3, 1]]])\n",
    "x3d, x3d.shape"
   ]
  },
  {
   "cell_type": "code",
   "execution_count": null,
   "id": "592b2e6f",
   "metadata": {},
   "outputs": [],
   "source": [
    "### 3d-array\n",
    "x3d = np.array([[[8, 2, 3], [8, 2, 5], [3, 4, 2]], [[7, 1, 2], [7, 1, 4], [2, 3, 1]], [[6, 0, 1], [6, 0, 3], [1, 2, 0]] ])\n",
    "x3d, x3d.shape"
   ]
  },
  {
   "cell_type": "markdown",
   "id": "1c4e4e8c",
   "metadata": {},
   "source": [
    "##### Ex. generate 3d-array of shape (3, 3, 4)"
   ]
  },
  {
   "cell_type": "code",
   "execution_count": null,
   "id": "108f1fa2",
   "metadata": {},
   "outputs": [],
   "source": []
  },
  {
   "cell_type": "markdown",
   "id": "47950bf3",
   "metadata": {},
   "source": [
    "##### Ex. generate 3d-array of shape (3, 4, 3)"
   ]
  },
  {
   "cell_type": "code",
   "execution_count": null,
   "id": "af44b707",
   "metadata": {},
   "outputs": [],
   "source": []
  },
  {
   "cell_type": "markdown",
   "id": "ef135a7e",
   "metadata": {},
   "source": [
    "#### array reshape functions"
   ]
  },
  {
   "cell_type": "code",
   "execution_count": null,
   "id": "86cd0f0a",
   "metadata": {},
   "outputs": [],
   "source": [
    "# 1d array\n",
    "x1d = np.arange(24)\n",
    "x1d, x1d.shape"
   ]
  },
  {
   "cell_type": "code",
   "execution_count": null,
   "id": "85ace3f6",
   "metadata": {},
   "outputs": [],
   "source": [
    "# 2d reshape\n",
    "x2d = np.arange(24).reshape(6, 4)\n",
    "x2d, x2d.shape"
   ]
  },
  {
   "cell_type": "code",
   "execution_count": null,
   "id": "cc1a5d5b",
   "metadata": {},
   "outputs": [],
   "source": [
    "# 3d reshape\n",
    "x3d = np.arange(24).reshape(3, 2, 4)\n",
    "x3d, x3d.shape"
   ]
  },
  {
   "cell_type": "code",
   "execution_count": null,
   "id": "1606c5b8",
   "metadata": {},
   "outputs": [],
   "source": [
    "# reshape view\n",
    "x3d.reshape(2, 2, 6), x3d.shape"
   ]
  },
  {
   "cell_type": "code",
   "execution_count": null,
   "id": "722224a2",
   "metadata": {},
   "outputs": [],
   "source": [
    "# reshape in place\n",
    "x3d.shape = (4, 3, 2)\n",
    "x3d, x3d.shape"
   ]
  },
  {
   "cell_type": "code",
   "execution_count": null,
   "id": "3dd5a558",
   "metadata": {},
   "outputs": [],
   "source": [
    "# flattened view (faster)\n",
    "x3d.ravel(), x3d.shape"
   ]
  },
  {
   "cell_type": "code",
   "execution_count": null,
   "id": "5044d378",
   "metadata": {},
   "outputs": [],
   "source": [
    "# flattened copy (slower)\n",
    "x3d.flatten(), x3d.shape"
   ]
  },
  {
   "cell_type": "markdown",
   "id": "5a4a8d22",
   "metadata": {},
   "source": [
    "#### Conditional functions"
   ]
  },
  {
   "cell_type": "code",
   "execution_count": null,
   "id": "b2933d3c",
   "metadata": {},
   "outputs": [],
   "source": [
    "x = np.random.randint(1, 10, 20)\n",
    "x"
   ]
  },
  {
   "cell_type": "code",
   "execution_count": null,
   "id": "62e82249",
   "metadata": {},
   "outputs": [],
   "source": [
    "x > 5"
   ]
  },
  {
   "cell_type": "code",
   "execution_count": null,
   "id": "a5ff2660",
   "metadata": {},
   "outputs": [],
   "source": [
    "x[x > 5]"
   ]
  },
  {
   "cell_type": "code",
   "execution_count": null,
   "id": "d1f2dd27",
   "metadata": {},
   "outputs": [],
   "source": [
    "# position indexes\n",
    "np.where(x > 5)"
   ]
  },
  {
   "cell_type": "code",
   "execution_count": null,
   "id": "9e98a35b",
   "metadata": {},
   "outputs": [],
   "source": [
    "# position values\n",
    "x[np.where(x > 5)]"
   ]
  },
  {
   "cell_type": "markdown",
   "id": "a2311d8a",
   "metadata": {},
   "source": [
    "#### Conditional functions on two arrays"
   ]
  },
  {
   "cell_type": "code",
   "execution_count": null,
   "id": "bab09f49",
   "metadata": {},
   "outputs": [],
   "source": [
    "y = np.random.randint(1, 10, 20)\n",
    "x, y"
   ]
  },
  {
   "cell_type": "code",
   "execution_count": null,
   "id": "1f5dc3e9",
   "metadata": {},
   "outputs": [],
   "source": [
    "np.where(x < y, x, y)"
   ]
  }
 ],
 "metadata": {
  "kernelspec": {
   "display_name": "Python 3 (ipykernel)",
   "language": "python",
   "name": "python3"
  },
  "language_info": {
   "codemirror_mode": {
    "name": "ipython",
    "version": 3
   },
   "file_extension": ".py",
   "mimetype": "text/x-python",
   "name": "python",
   "nbconvert_exporter": "python",
   "pygments_lexer": "ipython3",
   "version": "3.11.5"
  }
 },
 "nbformat": 4,
 "nbformat_minor": 5
}
