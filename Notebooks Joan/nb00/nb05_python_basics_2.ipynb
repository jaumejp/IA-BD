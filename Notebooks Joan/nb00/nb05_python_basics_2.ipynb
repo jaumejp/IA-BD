{
 "cells": [
  {
   "cell_type": "markdown",
   "id": "cddbe17d",
   "metadata": {},
   "source": [
    "### Python basics 2"
   ]
  },
  {
   "cell_type": "code",
   "execution_count": null,
   "id": "b8e03c47",
   "metadata": {},
   "outputs": [],
   "source": [
    "import numpy as np\n",
    "import matplotlib.pyplot as plt"
   ]
  },
  {
   "cell_type": "code",
   "execution_count": null,
   "id": "5da37f43",
   "metadata": {},
   "outputs": [],
   "source": [
    "x = np.linspace(-2, 2, 21)\n",
    "x"
   ]
  },
  {
   "cell_type": "markdown",
   "id": "1f343374",
   "metadata": {},
   "source": [
    "#### plotting some functions $f(x)$"
   ]
  },
  {
   "cell_type": "code",
   "execution_count": null,
   "id": "c868e551",
   "metadata": {},
   "outputs": [],
   "source": [
    "y1 = x\n",
    "y0 = np.abs(x)\n",
    "y2 = x**2\n",
    "y3 = x**3"
   ]
  },
  {
   "cell_type": "code",
   "execution_count": null,
   "id": "572ef678",
   "metadata": {},
   "outputs": [],
   "source": [
    "fig, axs = plt.subplots(2, 2, figsize = (8, 8))\n",
    "fig.suptitle('functions of x')\n",
    "\n",
    "axs[0, 0].set_title('f(x) = x')\n",
    "axs[0, 0].plot(x, y1)\n",
    "axs[0, 0].axhline(y = 0, color = 'black', linestyle = '--', linewidth = 0.5)\n",
    "axs[0, 0].axvline(x = 0, color = 'black', linestyle = '--', linewidth = 0.5)\n",
    "\n",
    "axs[0, 1].set_title('f(x) = |x|')\n",
    "axs[0, 1].plot(x, y0)\n",
    "axs[0, 1].axhline(y = 0, color = 'black', linestyle = '--', linewidth = 0.5)\n",
    "axs[0, 1].axvline(x = 0, color = 'black', linestyle = '--', linewidth = 0.5)\n",
    "\n",
    "axs[1, 0].set_title('f(x) = x**2')\n",
    "axs[1, 0].plot(x, y2)\n",
    "axs[1, 0].axhline(y = 0, color = 'black', linestyle = '--', linewidth = 0.5)\n",
    "axs[1, 0].axvline(x = 0, color = 'black', linestyle = '--', linewidth = 0.5)\n",
    "\n",
    "axs[1, 1].set_title('f(x) = x**3')\n",
    "axs[1, 1].plot(x, y3)\n",
    "axs[1, 1].axhline(y = 0, color = 'black', linestyle = '--', linewidth = 0.5)\n",
    "axs[1, 1].axvline(x = 0, color = 'black', linestyle = '--', linewidth = 0.5);"
   ]
  },
  {
   "cell_type": "markdown",
   "id": "a10891f1",
   "metadata": {},
   "source": [
    "#### defining functions"
   ]
  },
  {
   "cell_type": "code",
   "execution_count": null,
   "id": "4eabe2a0",
   "metadata": {},
   "outputs": [],
   "source": [
    "def make_plot(x, y, ax, title):\n",
    "    ax.set_title(title)\n",
    "    ax.plot(x, y)\n",
    "    ax.axhline(y = 0, color = 'black', linestyle = '--', linewidth = 0.5)\n",
    "    ax.axvline(x = 0, color = 'black', linestyle = '--', linewidth = 0.5)"
   ]
  },
  {
   "cell_type": "code",
   "execution_count": null,
   "id": "fe2d86fd",
   "metadata": {},
   "outputs": [],
   "source": [
    "fig, axs = plt.subplots(2, 2, figsize = (8, 8))\n",
    "fig.suptitle('functions of x')\n",
    "# use our make_plot() function\n",
    "make_plot(x, y1, axs[0, 0], 'f(x) = x')\n",
    "make_plot(x, y0, axs[0, 1], 'f(x) = |x|')\n",
    "make_plot(x, y2, axs[1, 0], 'f(x) = x**2')\n",
    "make_plot(x, y3, axs[1, 1], 'f(x) = x**3');"
   ]
  },
  {
   "cell_type": "markdown",
   "id": "b681d5e1",
   "metadata": {},
   "source": [
    "#### iterating with zip()"
   ]
  },
  {
   "cell_type": "code",
   "execution_count": null,
   "id": "4c748cd1",
   "metadata": {},
   "outputs": [],
   "source": [
    "fig, axs = plt.subplots(2, 2, figsize = (8, 8))\n",
    "fig.suptitle('functions of x')\n",
    "for y, ax, ttl in zip([y1, y0, y2, y3], axs.ravel(), ['f(x) = x', 'f(x) = |x|', 'f(x) = x**2', 'f(x) = x**3']):\n",
    "    make_plot(x, y, ax, ttl)"
   ]
  },
  {
   "cell_type": "markdown",
   "id": "b778f5f1",
   "metadata": {},
   "source": [
    "#### Ex. Define make_plot2() such that color/linestyle are different for each subplot"
   ]
  },
  {
   "cell_type": "code",
   "execution_count": null,
   "id": "27d2e0ef",
   "metadata": {},
   "outputs": [],
   "source": []
  }
 ],
 "metadata": {
  "kernelspec": {
   "display_name": "Python 3 (ipykernel)",
   "language": "python",
   "name": "python3"
  },
  "language_info": {
   "codemirror_mode": {
    "name": "ipython",
    "version": 3
   },
   "file_extension": ".py",
   "mimetype": "text/x-python",
   "name": "python",
   "nbconvert_exporter": "python",
   "pygments_lexer": "ipython3",
   "version": "3.11.5"
  }
 },
 "nbformat": 4,
 "nbformat_minor": 5
}
