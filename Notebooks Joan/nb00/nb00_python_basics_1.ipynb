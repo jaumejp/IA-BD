{
 "cells": [
  {
   "cell_type": "markdown",
   "id": "2c551f3f",
   "metadata": {},
   "source": [
    "### Python basics"
   ]
  },
  {
   "cell_type": "markdown",
   "id": "d440b109",
   "metadata": {},
   "source": [
    "#### top python features\n",
    "- Easy To Learn and Readable Language.\n",
    "- Interpreted Language.\n",
    "- Dynamically Typed Language.\n",
    "- High-Level Language.\n",
    "- Object Oriented Programming Language.\n",
    "- Open Source And Free.\n",
    "- Large Community Support.\n",
    "- Large Standard Library."
   ]
  },
  {
   "cell_type": "markdown",
   "id": "2eb5b506",
   "metadata": {},
   "source": [
    "##### Variables"
   ]
  },
  {
   "cell_type": "code",
   "execution_count": 41,
   "id": "7b55d759",
   "metadata": {},
   "outputs": [],
   "source": [
    "# integer\n",
    "x = 2765\n",
    "# float\n",
    "y = 45.2345\n",
    "# string\n",
    "a = 'Monday'"
   ]
  },
  {
   "cell_type": "code",
   "execution_count": 2,
   "id": "b4a213cf",
   "metadata": {},
   "outputs": [
    {
     "data": {
      "text/plain": [
       "'sql \\n    sentence'"
      ]
     },
     "execution_count": 2,
     "metadata": {},
     "output_type": "execute_result"
    }
   ],
   "source": [
    "# check values\n",
    "a"
   ]
  },
  {
   "cell_type": "markdown",
   "id": "df3672b1",
   "metadata": {},
   "source": [
    "##### Lists"
   ]
  },
  {
   "cell_type": "code",
   "execution_count": 3,
   "id": "7e7d5221",
   "metadata": {},
   "outputs": [],
   "source": [
    "l = [2, 6, 8, 1, x, y]"
   ]
  },
  {
   "cell_type": "code",
   "execution_count": 4,
   "id": "8fa645fb",
   "metadata": {},
   "outputs": [
    {
     "data": {
      "text/plain": [
       "[2, 6, 8, 1, 2765, 45.2345]"
      ]
     },
     "execution_count": 4,
     "metadata": {},
     "output_type": "execute_result"
    }
   ],
   "source": [
    "l"
   ]
  },
  {
   "cell_type": "code",
   "execution_count": 5,
   "id": "bfd5eb1c",
   "metadata": {},
   "outputs": [
    {
     "data": {
      "text/plain": [
       "6"
      ]
     },
     "execution_count": 5,
     "metadata": {},
     "output_type": "execute_result"
    }
   ],
   "source": [
    "# length of the list\n",
    "len(l)"
   ]
  },
  {
   "cell_type": "code",
   "execution_count": 13,
   "id": "271f00b2",
   "metadata": {},
   "outputs": [
    {
     "data": {
      "text/plain": [
       "[8, 1, 2765]"
      ]
     },
     "execution_count": 13,
     "metadata": {},
     "output_type": "execute_result"
    }
   ],
   "source": [
    "# get an element of a list: indexes start at zero\n",
    "l[2:5]"
   ]
  },
  {
   "cell_type": "code",
   "execution_count": 22,
   "id": "de4195eb",
   "metadata": {},
   "outputs": [
    {
     "data": {
      "text/plain": [
       "[2, 6, 8, 1, 2765, 45.2345, 1111]"
      ]
     },
     "execution_count": 22,
     "metadata": {},
     "output_type": "execute_result"
    }
   ],
   "source": [
    "# add an element to a list\n",
    "l.append(1111)\n",
    "l"
   ]
  },
  {
   "cell_type": "code",
   "execution_count": null,
   "id": "dd51f866",
   "metadata": {},
   "outputs": [],
   "source": [
    "# pop an element of a list"
   ]
  },
  {
   "cell_type": "code",
   "execution_count": 19,
   "id": "3b175f85",
   "metadata": {},
   "outputs": [
    {
     "data": {
      "text/plain": [
       "1111"
      ]
     },
     "execution_count": 19,
     "metadata": {},
     "output_type": "execute_result"
    }
   ],
   "source": [
    "l.pop()"
   ]
  },
  {
   "cell_type": "code",
   "execution_count": 20,
   "id": "8e67bfef",
   "metadata": {},
   "outputs": [
    {
     "data": {
      "text/plain": [
       "[2, 6, 8, 1, 2765, 45.2345]"
      ]
     },
     "execution_count": 20,
     "metadata": {},
     "output_type": "execute_result"
    }
   ],
   "source": [
    "l"
   ]
  },
  {
   "cell_type": "code",
   "execution_count": 21,
   "id": "12025662",
   "metadata": {},
   "outputs": [
    {
     "data": {
      "text/plain": [
       "[2, 6, 8, 1, 2765, 45.2345, 562, 87.345]"
      ]
     },
     "execution_count": 21,
     "metadata": {},
     "output_type": "execute_result"
    }
   ],
   "source": [
    "# concatenate two lists\n",
    "l2 = [562, 87.345]\n",
    "l + l2"
   ]
  },
  {
   "cell_type": "markdown",
   "id": "46b7b3d2",
   "metadata": {},
   "source": [
    "##### Tuples"
   ]
  },
  {
   "cell_type": "code",
   "execution_count": 23,
   "id": "5aba746a",
   "metadata": {},
   "outputs": [
    {
     "data": {
      "text/plain": [
       "(2765, 45.2345)"
      ]
     },
     "execution_count": 23,
     "metadata": {},
     "output_type": "execute_result"
    }
   ],
   "source": [
    "t = (x, y)\n",
    "t"
   ]
  },
  {
   "cell_type": "code",
   "execution_count": 24,
   "id": "28ccce69",
   "metadata": {},
   "outputs": [
    {
     "data": {
      "text/plain": [
       "2"
      ]
     },
     "execution_count": 24,
     "metadata": {},
     "output_type": "execute_result"
    }
   ],
   "source": [
    "# length of a tuple\n",
    "len(t)"
   ]
  },
  {
   "cell_type": "code",
   "execution_count": 25,
   "id": "d016dbb8",
   "metadata": {},
   "outputs": [
    {
     "data": {
      "text/plain": [
       "2765"
      ]
     },
     "execution_count": 25,
     "metadata": {},
     "output_type": "execute_result"
    }
   ],
   "source": [
    "# get an element of a tuple\n",
    "t[0]"
   ]
  },
  {
   "cell_type": "code",
   "execution_count": 26,
   "id": "daf00a8b",
   "metadata": {},
   "outputs": [
    {
     "ename": "TypeError",
     "evalue": "'tuple' object does not support item assignment",
     "output_type": "error",
     "traceback": [
      "\u001b[0;31m---------------------------------------------------------------------------\u001b[0m",
      "\u001b[0;31mTypeError\u001b[0m                                 Traceback (most recent call last)",
      "Cell \u001b[0;32mIn[26], line 2\u001b[0m\n\u001b[1;32m      1\u001b[0m \u001b[38;5;66;03m# tuples are immutable: can't change/add/pop elements\u001b[39;00m\n\u001b[0;32m----> 2\u001b[0m t[\u001b[38;5;241m1\u001b[39m] \u001b[38;5;241m=\u001b[39m x\n",
      "\u001b[0;31mTypeError\u001b[0m: 'tuple' object does not support item assignment"
     ]
    }
   ],
   "source": [
    "# tuples are immutable: can't change/add/pop elements\n",
    "t[1] = x"
   ]
  },
  {
   "cell_type": "code",
   "execution_count": 29,
   "id": "6e6c6b6e",
   "metadata": {},
   "outputs": [
    {
     "data": {
      "text/plain": [
       "(2765, 45.2345, 2765, 45.2345, 2765, 45.2345, 2765, 45.2345)"
      ]
     },
     "execution_count": 29,
     "metadata": {},
     "output_type": "execute_result"
    }
   ],
   "source": [
    "# but we can concatenate tuples\n",
    "t = t + t\n",
    "t"
   ]
  },
  {
   "cell_type": "markdown",
   "id": "d52a9f12",
   "metadata": {},
   "source": [
    "##### strings"
   ]
  },
  {
   "cell_type": "code",
   "execution_count": 30,
   "id": "99db6466",
   "metadata": {},
   "outputs": [
    {
     "data": {
      "text/plain": [
       "17"
      ]
     },
     "execution_count": 30,
     "metadata": {},
     "output_type": "execute_result"
    }
   ],
   "source": [
    "# length of a string: number of characters\n",
    "len(a)"
   ]
  },
  {
   "cell_type": "code",
   "execution_count": null,
   "id": "7bceda3c",
   "metadata": {},
   "outputs": [],
   "source": [
    "# get the character at a given position\n",
    "a[3]"
   ]
  },
  {
   "cell_type": "code",
   "execution_count": 31,
   "id": "a343f12d",
   "metadata": {},
   "outputs": [
    {
     "data": {
      "text/plain": [
       "'sql \\n    sentenceTuesday'"
      ]
     },
     "execution_count": 31,
     "metadata": {},
     "output_type": "execute_result"
    }
   ],
   "source": [
    "# concatenate strings\n",
    "a + 'Tuesday'"
   ]
  },
  {
   "cell_type": "markdown",
   "id": "e647945f",
   "metadata": {},
   "source": [
    "#### iterate"
   ]
  },
  {
   "cell_type": "code",
   "execution_count": 36,
   "id": "a7e9a49b",
   "metadata": {},
   "outputs": [
    {
     "name": "stdout",
     "output_type": "stream",
     "text": [
      "2\n",
      "6\n",
      "8\n",
      "1\n",
      "2765\n",
      "45.2345\n",
      "1111\n"
     ]
    },
    {
     "data": {
      "text/plain": [
       "(1111, 3)"
      ]
     },
     "execution_count": 36,
     "metadata": {},
     "output_type": "execute_result"
    }
   ],
   "source": [
    "# iterate over a list\n",
    "for element in l:\n",
    "    x = 3\n",
    "    print(element)\n",
    "(element, x)"
   ]
  },
  {
   "cell_type": "code",
   "execution_count": 37,
   "id": "698e0fa5",
   "metadata": {},
   "outputs": [
    {
     "data": {
      "text/plain": [
       "(1111, 3)"
      ]
     },
     "execution_count": 37,
     "metadata": {},
     "output_type": "execute_result"
    }
   ],
   "source": [
    "(element, x)"
   ]
  },
  {
   "cell_type": "code",
   "execution_count": 38,
   "id": "9f7a7f86",
   "metadata": {},
   "outputs": [
    {
     "name": "stdout",
     "output_type": "stream",
     "text": [
      "2765\n",
      "45.2345\n",
      "2765\n",
      "45.2345\n",
      "2765\n",
      "45.2345\n",
      "2765\n",
      "45.2345\n"
     ]
    }
   ],
   "source": [
    "# iterate over a tuple\n",
    "for element in t: print(element)"
   ]
  },
  {
   "cell_type": "code",
   "execution_count": 43,
   "id": "34307d65",
   "metadata": {},
   "outputs": [
    {
     "name": "stdout",
     "output_type": "stream",
     "text": [
      "M\n",
      "o\n",
      "n\n",
      "d\n",
      "a\n",
      "y\n"
     ]
    }
   ],
   "source": [
    "# iterate over a string\n",
    "for character in a: print(character)"
   ]
  },
  {
   "cell_type": "code",
   "execution_count": 44,
   "id": "f0cfe9cd",
   "metadata": {},
   "outputs": [
    {
     "name": "stdout",
     "output_type": "stream",
     "text": [
      "Monday\n"
     ]
    }
   ],
   "source": [
    "print(a)"
   ]
  },
  {
   "cell_type": "markdown",
   "id": "c0b0eb25",
   "metadata": {},
   "source": [
    "##### Range"
   ]
  },
  {
   "cell_type": "code",
   "execution_count": 45,
   "id": "e24d4ebc",
   "metadata": {},
   "outputs": [
    {
     "data": {
      "text/plain": [
       "range(0, 7)"
      ]
     },
     "execution_count": 45,
     "metadata": {},
     "output_type": "execute_result"
    }
   ],
   "source": [
    "range(len(l))"
   ]
  },
  {
   "cell_type": "code",
   "execution_count": 46,
   "id": "ec645bec",
   "metadata": {},
   "outputs": [
    {
     "name": "stdout",
     "output_type": "stream",
     "text": [
      "2\n",
      "6\n",
      "8\n",
      "1\n",
      "2765\n",
      "45.2345\n",
      "1111\n"
     ]
    }
   ],
   "source": [
    "for e in l: print(e)"
   ]
  },
  {
   "cell_type": "code",
   "execution_count": 47,
   "id": "1cb6ec26",
   "metadata": {},
   "outputs": [
    {
     "name": "stdout",
     "output_type": "stream",
     "text": [
      "0 2\n",
      "1 6\n",
      "2 8\n",
      "3 1\n",
      "4 2765\n",
      "5 45.2345\n",
      "6 1111\n"
     ]
    }
   ],
   "source": [
    "# iterate using position indexes\n",
    "for i in range(len(l)):\n",
    "    print(i, l[i])"
   ]
  },
  {
   "cell_type": "markdown",
   "id": "9a854ed3",
   "metadata": {},
   "source": [
    "#### comprehensive list"
   ]
  },
  {
   "cell_type": "code",
   "execution_count": 48,
   "id": "c595ead0",
   "metadata": {},
   "outputs": [
    {
     "data": {
      "text/plain": [
       "[0, 1, 2, 3, 4, 5, 6]"
      ]
     },
     "execution_count": 48,
     "metadata": {},
     "output_type": "execute_result"
    }
   ],
   "source": [
    "[i for i in range(len(l))]"
   ]
  },
  {
   "cell_type": "markdown",
   "id": "7c23ffcc",
   "metadata": {},
   "source": [
    "#### list of lists"
   ]
  },
  {
   "cell_type": "code",
   "execution_count": 50,
   "id": "e6867bdb",
   "metadata": {},
   "outputs": [],
   "source": [
    "l3 = [['a', 'b', 'c'], [3, 7, 8]]"
   ]
  },
  {
   "cell_type": "code",
   "execution_count": 53,
   "id": "2a78f360",
   "metadata": {},
   "outputs": [
    {
     "data": {
      "text/plain": [
       "(2, 3, 3)"
      ]
     },
     "execution_count": 53,
     "metadata": {},
     "output_type": "execute_result"
    }
   ],
   "source": [
    "len(l3), len(l3[0]), len(l3[1])"
   ]
  },
  {
   "cell_type": "code",
   "execution_count": 55,
   "id": "72f50142",
   "metadata": {},
   "outputs": [
    {
     "data": {
      "text/plain": [
       "7"
      ]
     },
     "execution_count": 55,
     "metadata": {},
     "output_type": "execute_result"
    }
   ],
   "source": [
    "l3[1][1]"
   ]
  }
 ],
 "metadata": {
  "kernelspec": {
   "display_name": "Python 3 (ipykernel)",
   "language": "python",
   "name": "python3"
  },
  "language_info": {
   "codemirror_mode": {
    "name": "ipython",
    "version": 3
   },
   "file_extension": ".py",
   "mimetype": "text/x-python",
   "name": "python",
   "nbconvert_exporter": "python",
   "pygments_lexer": "ipython3",
   "version": "3.11.5"
  }
 },
 "nbformat": 4,
 "nbformat_minor": 5
}
