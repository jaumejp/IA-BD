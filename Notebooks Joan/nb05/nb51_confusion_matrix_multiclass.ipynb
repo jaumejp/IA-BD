{
 "cells": [
  {
   "cell_type": "markdown",
   "id": "a41ef21f",
   "metadata": {},
   "source": [
    "### Multiclass model evaluation. "
   ]
  },
  {
   "cell_type": "code",
   "execution_count": 1,
   "id": "2c0e08a3",
   "metadata": {},
   "outputs": [],
   "source": [
    "import numpy as np\n",
    "import pandas as pd\n",
    "from sklearn.model_selection import train_test_split"
   ]
  },
  {
   "cell_type": "code",
   "execution_count": 2,
   "id": "ecc9e3c5",
   "metadata": {},
   "outputs": [
    {
     "data": {
      "text/plain": [
       "(416809, 2)"
      ]
     },
     "execution_count": 2,
     "metadata": {},
     "output_type": "execute_result"
    }
   ],
   "source": [
    "df = pd.read_pickle('../../data/emotion/merged_training.pkl')\n",
    "df.shape"
   ]
  },
  {
   "cell_type": "code",
   "execution_count": 3,
   "id": "0e6151c7",
   "metadata": {},
   "outputs": [
    {
     "data": {
      "text/html": [
       "<div>\n",
       "<style scoped>\n",
       "    .dataframe tbody tr th:only-of-type {\n",
       "        vertical-align: middle;\n",
       "    }\n",
       "\n",
       "    .dataframe tbody tr th {\n",
       "        vertical-align: top;\n",
       "    }\n",
       "\n",
       "    .dataframe thead th {\n",
       "        text-align: right;\n",
       "    }\n",
       "</style>\n",
       "<table border=\"1\" class=\"dataframe\">\n",
       "  <thead>\n",
       "    <tr style=\"text-align: right;\">\n",
       "      <th></th>\n",
       "      <th>text</th>\n",
       "      <th>emotions</th>\n",
       "    </tr>\n",
       "  </thead>\n",
       "  <tbody>\n",
       "    <tr>\n",
       "      <th>27383</th>\n",
       "      <td>i feel awful about it too because it s my job ...</td>\n",
       "      <td>sadness</td>\n",
       "    </tr>\n",
       "    <tr>\n",
       "      <th>110083</th>\n",
       "      <td>im alone i feel awful</td>\n",
       "      <td>sadness</td>\n",
       "    </tr>\n",
       "    <tr>\n",
       "      <th>140764</th>\n",
       "      <td>ive probably mentioned this before but i reall...</td>\n",
       "      <td>joy</td>\n",
       "    </tr>\n",
       "    <tr>\n",
       "      <th>100071</th>\n",
       "      <td>i was feeling a little low few days back</td>\n",
       "      <td>sadness</td>\n",
       "    </tr>\n",
       "    <tr>\n",
       "      <th>2837</th>\n",
       "      <td>i beleive that i am much more sensitive to oth...</td>\n",
       "      <td>love</td>\n",
       "    </tr>\n",
       "  </tbody>\n",
       "</table>\n",
       "</div>"
      ],
      "text/plain": [
       "                                                     text emotions\n",
       "27383   i feel awful about it too because it s my job ...  sadness\n",
       "110083                              im alone i feel awful  sadness\n",
       "140764  ive probably mentioned this before but i reall...      joy\n",
       "100071           i was feeling a little low few days back  sadness\n",
       "2837    i beleive that i am much more sensitive to oth...     love"
      ]
     },
     "execution_count": 3,
     "metadata": {},
     "output_type": "execute_result"
    }
   ],
   "source": [
    "df.head()"
   ]
  },
  {
   "cell_type": "code",
   "execution_count": 4,
   "id": "054bdb86",
   "metadata": {},
   "outputs": [
    {
     "data": {
      "text/plain": [
       "((333447, 2), (83362, 2))"
      ]
     },
     "execution_count": 4,
     "metadata": {},
     "output_type": "execute_result"
    }
   ],
   "source": [
    "X_train, X_test = train_test_split(df, test_size = 0.2, random_state = 1234)\n",
    "X_train.shape, X_test.shape"
   ]
  },
  {
   "cell_type": "code",
   "execution_count": 5,
   "id": "ae9cfa14",
   "metadata": {},
   "outputs": [],
   "source": [
    "from nbc import NBCtext"
   ]
  },
  {
   "cell_type": "code",
   "execution_count": 6,
   "id": "4a99f9ca",
   "metadata": {},
   "outputs": [],
   "source": [
    "_nbc = NBCtext()"
   ]
  },
  {
   "cell_type": "code",
   "execution_count": 7,
   "id": "62e5e148",
   "metadata": {},
   "outputs": [
    {
     "name": "stdout",
     "output_type": "stream",
     "text": [
      "CPU times: user 1min 3s, sys: 227 ms, total: 1min 3s\n",
      "Wall time: 1min 3s\n"
     ]
    }
   ],
   "source": [
    "%%time\n",
    "_nbc.fit(X_train)"
   ]
  },
  {
   "cell_type": "code",
   "execution_count": 8,
   "id": "47c72db9",
   "metadata": {},
   "outputs": [],
   "source": [
    "X_test['predict'] = X_test.text.apply(lambda x: _nbc.predict(x, alpha = 1, soft = False))"
   ]
  },
  {
   "cell_type": "markdown",
   "id": "294d1d66",
   "metadata": {},
   "source": [
    "### Confusion Matrix for multiclass classification"
   ]
  },
  {
   "cell_type": "code",
   "execution_count": 9,
   "id": "e0d2aa1a",
   "metadata": {},
   "outputs": [],
   "source": [
    "import matplotlib.pyplot as plt\n",
    "import seaborn as sns\n",
    "from sklearn.metrics import ConfusionMatrixDisplay"
   ]
  },
  {
   "cell_type": "code",
   "execution_count": 10,
   "id": "5779565c",
   "metadata": {},
   "outputs": [],
   "source": [
    "sns.set_theme(context = 'notebook', style = \"white\", font_scale = 1.0)"
   ]
  },
  {
   "cell_type": "code",
   "execution_count": 11,
   "id": "44cf3a49",
   "metadata": {},
   "outputs": [
    {
     "data": {
      "image/png": "[encoded data removed]",
      "text/plain": [
       "<Figure size 1080x432 with 3 Axes>"
      ]
     },
     "metadata": {
      "needs_background": "light"
     },
     "output_type": "display_data"
    }
   ],
   "source": [
    "_, axs = plt.subplots(1, 3, figsize = (15, 6), sharey = True)\n",
    "for i, norm in enumerate([None, 'true', 'pred']):\n",
    "    ConfusionMatrixDisplay.from_predictions(\n",
    "        X_test.emotions,\n",
    "        X_test.predict,\n",
    "        normalize = norm,\n",
    "        values_format = '.2f' if norm is not None else '.0f',\n",
    "        ax = axs[i],\n",
    "        colorbar = False,\n",
    "        cmap = 'GnBu',\n",
    "        xticks_rotation = 90)\n",
    "plt.tight_layout();"
   ]
  },
  {
   "cell_type": "markdown",
   "id": "48ccebae",
   "metadata": {},
   "source": [
    "###  Performance measures for multiclass classification"
   ]
  },
  {
   "cell_type": "code",
   "execution_count": 12,
   "id": "0d7041bc",
   "metadata": {},
   "outputs": [
    {
     "data": {
      "text/plain": [
       "0.8554857129147573"
      ]
     },
     "execution_count": 12,
     "metadata": {},
     "output_type": "execute_result"
    }
   ],
   "source": [
    "from sklearn.metrics import accuracy_score\n",
    "accuracy_score(X_test.emotions, X_test.predict)"
   ]
  },
  {
   "cell_type": "code",
   "execution_count": 13,
   "id": "bbe354f0",
   "metadata": {},
   "outputs": [],
   "source": [
    "from sklearn.metrics import precision_recall_fscore_support as prfs"
   ]
  },
  {
   "cell_type": "markdown",
   "id": "0e61c05a",
   "metadata": {},
   "source": [
    "#### performance measures by class"
   ]
  },
  {
   "cell_type": "code",
   "execution_count": 15,
   "id": "aa3e5ead",
   "metadata": {},
   "outputs": [
    {
     "data": {
      "text/html": [
       "<div>\n",
       "<style scoped>\n",
       "    .dataframe tbody tr th:only-of-type {\n",
       "        vertical-align: middle;\n",
       "    }\n",
       "\n",
       "    .dataframe tbody tr th {\n",
       "        vertical-align: top;\n",
       "    }\n",
       "\n",
       "    .dataframe thead th {\n",
       "        text-align: right;\n",
       "    }\n",
       "</style>\n",
       "<table border=\"1\" class=\"dataframe\">\n",
       "  <thead>\n",
       "    <tr style=\"text-align: right;\">\n",
       "      <th></th>\n",
       "      <th>??</th>\n",
       "      <th>anger</th>\n",
       "      <th>fear</th>\n",
       "      <th>joy</th>\n",
       "      <th>love</th>\n",
       "      <th>sadness</th>\n",
       "      <th>surprise</th>\n",
       "    </tr>\n",
       "  </thead>\n",
       "  <tbody>\n",
       "    <tr>\n",
       "      <th>precision</th>\n",
       "      <td>0.0</td>\n",
       "      <td>0.899079</td>\n",
       "      <td>0.838197</td>\n",
       "      <td>0.842682</td>\n",
       "      <td>0.808991</td>\n",
       "      <td>0.868323</td>\n",
       "      <td>0.845771</td>\n",
       "    </tr>\n",
       "    <tr>\n",
       "      <th>recall</th>\n",
       "      <td>0.0</td>\n",
       "      <td>0.838335</td>\n",
       "      <td>0.805230</td>\n",
       "      <td>0.926959</td>\n",
       "      <td>0.600975</td>\n",
       "      <td>0.937097</td>\n",
       "      <td>0.341938</td>\n",
       "    </tr>\n",
       "    <tr>\n",
       "      <th>f_score</th>\n",
       "      <td>0.0</td>\n",
       "      <td>0.867645</td>\n",
       "      <td>0.821383</td>\n",
       "      <td>0.882814</td>\n",
       "      <td>0.689638</td>\n",
       "      <td>0.901400</td>\n",
       "      <td>0.486990</td>\n",
       "    </tr>\n",
       "    <tr>\n",
       "      <th>support</th>\n",
       "      <td>0.0</td>\n",
       "      <td>11530.000000</td>\n",
       "      <td>9560.000000</td>\n",
       "      <td>27957.000000</td>\n",
       "      <td>6977.000000</td>\n",
       "      <td>24355.000000</td>\n",
       "      <td>2983.000000</td>\n",
       "    </tr>\n",
       "  </tbody>\n",
       "</table>\n",
       "</div>"
      ],
      "text/plain": [
       "            ??         anger         fear           joy         love  \\\n",
       "precision  0.0      0.899079     0.838197      0.842682     0.808991   \n",
       "recall     0.0      0.838335     0.805230      0.926959     0.600975   \n",
       "f_score    0.0      0.867645     0.821383      0.882814     0.689638   \n",
       "support    0.0  11530.000000  9560.000000  27957.000000  6977.000000   \n",
       "\n",
       "                sadness     surprise  \n",
       "precision      0.868323     0.845771  \n",
       "recall         0.937097     0.341938  \n",
       "f_score        0.901400     0.486990  \n",
       "support    24355.000000  2983.000000  "
      ]
     },
     "execution_count": 15,
     "metadata": {},
     "output_type": "execute_result"
    }
   ],
   "source": [
    "pd.DataFrame(prfs(X_test.emotions, X_test.predict, zero_division = 0), columns = np.sort(X_test.predict.unique()), index = ['precision', 'recall', 'f_score', 'support'])"
   ]
  },
  {
   "cell_type": "markdown",
   "id": "2a1920c1",
   "metadata": {},
   "source": [
    "##### averaged performance measures"
   ]
  },
  {
   "cell_type": "code",
   "execution_count": 17,
   "id": "e1be3b1c",
   "metadata": {},
   "outputs": [
    {
     "data": {
      "text/html": [
       "<div>\n",
       "<style scoped>\n",
       "    .dataframe tbody tr th:only-of-type {\n",
       "        vertical-align: middle;\n",
       "    }\n",
       "\n",
       "    .dataframe tbody tr th {\n",
       "        vertical-align: top;\n",
       "    }\n",
       "\n",
       "    .dataframe thead th {\n",
       "        text-align: right;\n",
       "    }\n",
       "</style>\n",
       "<table border=\"1\" class=\"dataframe\">\n",
       "  <thead>\n",
       "    <tr style=\"text-align: right;\">\n",
       "      <th></th>\n",
       "      <th>precision</th>\n",
       "      <th>recall</th>\n",
       "      <th>f-score</th>\n",
       "    </tr>\n",
       "  </thead>\n",
       "  <tbody>\n",
       "    <tr>\n",
       "      <th>macro</th>\n",
       "      <td>0.729006</td>\n",
       "      <td>0.635791</td>\n",
       "      <td>0.664267</td>\n",
       "    </tr>\n",
       "    <tr>\n",
       "      <th>micro</th>\n",
       "      <td>0.855486</td>\n",
       "      <td>0.855486</td>\n",
       "      <td>0.855486</td>\n",
       "    </tr>\n",
       "    <tr>\n",
       "      <th>weighted</th>\n",
       "      <td>0.854750</td>\n",
       "      <td>0.855486</td>\n",
       "      <td>0.848769</td>\n",
       "    </tr>\n",
       "  </tbody>\n",
       "</table>\n",
       "</div>"
      ],
      "text/plain": [
       "          precision    recall   f-score\n",
       "macro      0.729006  0.635791  0.664267\n",
       "micro      0.855486  0.855486  0.855486\n",
       "weighted   0.854750  0.855486  0.848769"
      ]
     },
     "execution_count": 17,
     "metadata": {},
     "output_type": "execute_result"
    }
   ],
   "source": [
    "avrgs = ['macro', 'micro', 'weighted']\n",
    "pd.DataFrame([prfs(X_test.emotions, X_test.predict, average = mode, zero_division = 0)[:3] for mode in avrgs], columns = ['precision', 'recall', 'f-score'], index = avrgs)"
   ]
  }
 ],
 "metadata": {
  "kernelspec": {
   "display_name": "Python 3",
   "language": "python",
   "name": "python3"
  },
  "language_info": {
   "codemirror_mode": {
    "name": "ipython",
    "version": 3
   },
   "file_extension": ".py",
   "mimetype": "text/x-python",
   "name": "python",
   "nbconvert_exporter": "python",
   "pygments_lexer": "ipython3",
   "version": "3.9.13"
  }
 },
 "nbformat": 4,
 "nbformat_minor": 5
}
