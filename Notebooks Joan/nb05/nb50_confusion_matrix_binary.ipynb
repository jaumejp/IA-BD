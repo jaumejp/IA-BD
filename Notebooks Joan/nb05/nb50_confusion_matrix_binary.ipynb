{
 "cells": [
  {
   "cell_type": "markdown",
   "id": "a41ef21f",
   "metadata": {},
   "source": [
    "### Model evaluation. Confusion matrix and performance measures"
   ]
  },
  {
   "cell_type": "code",
   "execution_count": 1,
   "id": "2c0e08a3",
   "metadata": {},
   "outputs": [],
   "source": [
    "import pandas as pd\n",
    "from sklearn.model_selection import train_test_split"
   ]
  },
  {
   "cell_type": "code",
   "execution_count": 2,
   "id": "ecc9e3c5",
   "metadata": {},
   "outputs": [],
   "source": [
    "df = pd.read_csv('../../data/sms/SMSSpamCollection', header=None, sep='\\t', names=['Label', 'SMS'])"
   ]
  },
  {
   "cell_type": "code",
   "execution_count": 3,
   "id": "0e6151c7",
   "metadata": {},
   "outputs": [
    {
     "data": {
      "text/html": [
       "<div>\n",
       "<style scoped>\n",
       "    .dataframe tbody tr th:only-of-type {\n",
       "        vertical-align: middle;\n",
       "    }\n",
       "\n",
       "    .dataframe tbody tr th {\n",
       "        vertical-align: top;\n",
       "    }\n",
       "\n",
       "    .dataframe thead th {\n",
       "        text-align: right;\n",
       "    }\n",
       "</style>\n",
       "<table border=\"1\" class=\"dataframe\">\n",
       "  <thead>\n",
       "    <tr style=\"text-align: right;\">\n",
       "      <th></th>\n",
       "      <th>Label</th>\n",
       "      <th>SMS</th>\n",
       "    </tr>\n",
       "  </thead>\n",
       "  <tbody>\n",
       "    <tr>\n",
       "      <th>0</th>\n",
       "      <td>ham</td>\n",
       "      <td>Go until jurong point, crazy.. Available only ...</td>\n",
       "    </tr>\n",
       "    <tr>\n",
       "      <th>1</th>\n",
       "      <td>ham</td>\n",
       "      <td>Ok lar... Joking wif u oni...</td>\n",
       "    </tr>\n",
       "    <tr>\n",
       "      <th>2</th>\n",
       "      <td>spam</td>\n",
       "      <td>Free entry in 2 a wkly comp to win FA Cup fina...</td>\n",
       "    </tr>\n",
       "    <tr>\n",
       "      <th>3</th>\n",
       "      <td>ham</td>\n",
       "      <td>U dun say so early hor... U c already then say...</td>\n",
       "    </tr>\n",
       "    <tr>\n",
       "      <th>4</th>\n",
       "      <td>ham</td>\n",
       "      <td>Nah I don't think he goes to usf, he lives aro...</td>\n",
       "    </tr>\n",
       "  </tbody>\n",
       "</table>\n",
       "</div>"
      ],
      "text/plain": [
       "  Label                                                SMS\n",
       "0   ham  Go until jurong point, crazy.. Available only ...\n",
       "1   ham                      Ok lar... Joking wif u oni...\n",
       "2  spam  Free entry in 2 a wkly comp to win FA Cup fina...\n",
       "3   ham  U dun say so early hor... U c already then say...\n",
       "4   ham  Nah I don't think he goes to usf, he lives aro..."
      ]
     },
     "execution_count": 3,
     "metadata": {},
     "output_type": "execute_result"
    }
   ],
   "source": [
    "df.head()"
   ]
  },
  {
   "cell_type": "code",
   "execution_count": 4,
   "id": "054bdb86",
   "metadata": {},
   "outputs": [
    {
     "data": {
      "text/plain": [
       "((4457, 2), (1115, 2))"
      ]
     },
     "execution_count": 4,
     "metadata": {},
     "output_type": "execute_result"
    }
   ],
   "source": [
    "X_train, X_test = train_test_split(df, test_size = 0.2, random_state = 1234)\n",
    "X_train.shape, X_test.shape"
   ]
  },
  {
   "cell_type": "code",
   "execution_count": 5,
   "id": "ae9cfa14",
   "metadata": {},
   "outputs": [],
   "source": [
    "from nbc import NBCtext"
   ]
  },
  {
   "cell_type": "code",
   "execution_count": 6,
   "id": "4a99f9ca",
   "metadata": {},
   "outputs": [],
   "source": [
    "_nbc = NBCtext()"
   ]
  },
  {
   "cell_type": "code",
   "execution_count": 7,
   "id": "62e5e148",
   "metadata": {},
   "outputs": [],
   "source": [
    "_nbc.fit(X_train[['SMS', 'Label']])"
   ]
  },
  {
   "cell_type": "code",
   "execution_count": 8,
   "id": "47c72db9",
   "metadata": {},
   "outputs": [],
   "source": [
    "X_test['predict'] = X_test.SMS.apply(lambda x: _nbc.predict(x, alpha = 1, soft = False))"
   ]
  },
  {
   "cell_type": "code",
   "execution_count": 9,
   "id": "d5a3e358",
   "metadata": {},
   "outputs": [
    {
     "data": {
      "text/html": [
       "<div>\n",
       "<style scoped>\n",
       "    .dataframe tbody tr th:only-of-type {\n",
       "        vertical-align: middle;\n",
       "    }\n",
       "\n",
       "    .dataframe tbody tr th {\n",
       "        vertical-align: top;\n",
       "    }\n",
       "\n",
       "    .dataframe thead th {\n",
       "        text-align: right;\n",
       "    }\n",
       "</style>\n",
       "<table border=\"1\" class=\"dataframe\">\n",
       "  <thead>\n",
       "    <tr style=\"text-align: right;\">\n",
       "      <th></th>\n",
       "      <th></th>\n",
       "      <th>predict</th>\n",
       "      <th>predict</th>\n",
       "    </tr>\n",
       "    <tr>\n",
       "      <th>Label</th>\n",
       "      <th>predict</th>\n",
       "      <th></th>\n",
       "      <th></th>\n",
       "    </tr>\n",
       "  </thead>\n",
       "  <tbody>\n",
       "    <tr>\n",
       "      <th rowspan=\"2\" valign=\"top\">ham</th>\n",
       "      <th>ham</th>\n",
       "      <td>957</td>\n",
       "      <td>0.994802</td>\n",
       "    </tr>\n",
       "    <tr>\n",
       "      <th>spam</th>\n",
       "      <td>5</td>\n",
       "      <td>0.005198</td>\n",
       "    </tr>\n",
       "    <tr>\n",
       "      <th rowspan=\"2\" valign=\"top\">spam</th>\n",
       "      <th>spam</th>\n",
       "      <td>141</td>\n",
       "      <td>0.921569</td>\n",
       "    </tr>\n",
       "    <tr>\n",
       "      <th>ham</th>\n",
       "      <td>12</td>\n",
       "      <td>0.078431</td>\n",
       "    </tr>\n",
       "  </tbody>\n",
       "</table>\n",
       "</div>"
      ],
      "text/plain": [
       "               predict   predict\n",
       "Label predict                   \n",
       "ham   ham          957  0.994802\n",
       "      spam           5  0.005198\n",
       "spam  spam         141  0.921569\n",
       "      ham           12  0.078431"
      ]
     },
     "execution_count": 9,
     "metadata": {},
     "output_type": "execute_result"
    }
   ],
   "source": [
    "pd.concat((X_test.groupby('Label').predict.value_counts(), X_test.groupby('Label').predict.value_counts(normalize = True)), axis = 1)"
   ]
  },
  {
   "cell_type": "markdown",
   "id": "294d1d66",
   "metadata": {},
   "source": [
    "### Confusion Matrix for binary classification"
   ]
  },
  {
   "attachments": {
    "image.png": {
     "image/png": "[encoded data removed]"
    }
   },
   "cell_type": "markdown",
   "id": "692e1d42",
   "metadata": {},
   "source": [
    "<div>\n",
    "<img src=\"attachment:image.png\" align=\"left\" width=\"400\"/>\n",
    "</div>\n"
   ]
  },
  {
   "cell_type": "code",
   "execution_count": 10,
   "id": "e0d2aa1a",
   "metadata": {},
   "outputs": [],
   "source": [
    "import matplotlib.pyplot as plt\n",
    "import seaborn as sns\n",
    "from sklearn.metrics import ConfusionMatrixDisplay"
   ]
  },
  {
   "cell_type": "code",
   "execution_count": 11,
   "id": "14f2b499",
   "metadata": {},
   "outputs": [
    {
     "data": {
      "text/plain": [
       "<sklearn.metrics._plot.confusion_matrix.ConfusionMatrixDisplay at 0x7f329ccec520>"
      ]
     },
     "execution_count": 11,
     "metadata": {},
     "output_type": "execute_result"
    },
    {
     "data": {
      "image/png": "[encoded data removed]",
      "text/plain": [
       "<Figure size 432x288 with 2 Axes>"
      ]
     },
     "metadata": {
      "needs_background": "light"
     },
     "output_type": "display_data"
    }
   ],
   "source": [
    "ConfusionMatrixDisplay.from_predictions(X_test.Label, X_test.predict)"
   ]
  },
  {
   "cell_type": "markdown",
   "id": "50434325",
   "metadata": {},
   "source": [
    "#### improved confusion matrix visualization"
   ]
  },
  {
   "cell_type": "code",
   "execution_count": 12,
   "id": "5779565c",
   "metadata": {},
   "outputs": [],
   "source": [
    "sns.set_theme(context = 'notebook', style = \"white\", font_scale = 1.0)"
   ]
  },
  {
   "cell_type": "code",
   "execution_count": 13,
   "id": "44cf3a49",
   "metadata": {},
   "outputs": [
    {
     "data": {
      "image/png": "[encoded data removed]",
      "text/plain": [
       "<Figure size 288x288 with 1 Axes>"
      ]
     },
     "metadata": {},
     "output_type": "display_data"
    }
   ],
   "source": [
    "_, axs = plt.subplots(1, 1, figsize = (4, 4))\n",
    "ConfusionMatrixDisplay.from_predictions(\n",
    "    X_test.Label,\n",
    "    X_test.predict,\n",
    "    ax = axs,\n",
    "    colorbar = False,\n",
    "    cmap = 'GnBu');"
   ]
  },
  {
   "cell_type": "markdown",
   "id": "48ccebae",
   "metadata": {},
   "source": [
    "###  Performance measures for binary classification"
   ]
  },
  {
   "cell_type": "markdown",
   "id": "261e6548",
   "metadata": {},
   "source": [
    "- **Accuracy**: proportion of correctly predicted examples,\n",
    "\n",
    "$$Acc=\\frac{TP+TN}{P+N}=\\frac{TP+TN}{TP+FN+FP+TN}$$"
   ]
  },
  {
   "cell_type": "code",
   "execution_count": 14,
   "id": "604758bd",
   "metadata": {},
   "outputs": [
    {
     "data": {
      "text/plain": [
       "0.9847533632286996"
      ]
     },
     "execution_count": 14,
     "metadata": {},
     "output_type": "execute_result"
    }
   ],
   "source": [
    "X_test[X_test.Label == X_test.predict].Label.count() /X_test.shape[0]"
   ]
  },
  {
   "cell_type": "code",
   "execution_count": 15,
   "id": "0d7041bc",
   "metadata": {},
   "outputs": [
    {
     "data": {
      "text/plain": [
       "0.9847533632286996"
      ]
     },
     "execution_count": 15,
     "metadata": {},
     "output_type": "execute_result"
    }
   ],
   "source": [
    "from sklearn.metrics import accuracy_score\n",
    "accuracy_score(X_test.Label, X_test.predict)"
   ]
  },
  {
   "cell_type": "markdown",
   "id": "88e4c4fd",
   "metadata": {},
   "source": [
    "- **Recall**: fraction of positive examples correctly predicted as positives (it is a measure of *quantity*, also called **sensitivity** or **true positive rate**)\n",
    "\n",
    "$$Recall=\\frac{TP}{P}=\\frac{TP}{TP+FN}$$"
   ]
  },
  {
   "cell_type": "markdown",
   "id": "2980fe23",
   "metadata": {},
   "source": [
    "- **Precision**: fraction of predicted positive examples wich are actually positive (it is a measure of *quality* of the prediction)\n",
    "\n",
    "$$Precision=\\frac{TP}{PP}=\\frac{TP}{TP+FP}$$"
   ]
  },
  {
   "cell_type": "markdown",
   "id": "bf2ef995",
   "metadata": {},
   "source": [
    "- **$F_1$ score**: An average measure of performance taking into account both, *Recall* and *Precision* (harmonic mean of *Recall* and *Precision*, ex. the harmonic mean is zero whenever $Precision=0$ or $Recall=0$ while a classifier with $Precision=1$ and $Recall=0$ has an arithmetic mean of 0.5). \n",
    "\n",
    "$$F_1=\\frac{2\\,Recall\\,Precision}{Recall+Precision}=\\frac{2\\,TP}{2\\,TP+FP+FN}$$"
   ]
  },
  {
   "cell_type": "code",
   "execution_count": 16,
   "id": "bbe354f0",
   "metadata": {},
   "outputs": [],
   "source": [
    "from sklearn.metrics import precision_recall_fscore_support as prf"
   ]
  },
  {
   "cell_type": "code",
   "execution_count": 17,
   "id": "aa3e5ead",
   "metadata": {},
   "outputs": [
    {
     "data": {
      "text/plain": [
       "(array([0.9876161 , 0.96575342]),\n",
       " array([0.99480249, 0.92156863]),\n",
       " array([0.99119627, 0.94314381]),\n",
       " array([962, 153]))"
      ]
     },
     "execution_count": 17,
     "metadata": {},
     "output_type": "execute_result"
    }
   ],
   "source": [
    "prf(X_test.Label, X_test.predict)"
   ]
  },
  {
   "cell_type": "markdown",
   "id": "2a1920c1",
   "metadata": {},
   "source": [
    "##### Averaged performance measures"
   ]
  },
  {
   "cell_type": "markdown",
   "id": "f4fbffb1",
   "metadata": {},
   "source": [
    "- **macro-average**\n",
    "\n",
    "performance metrics are computed independently for each class and averaged afterwards (hence all classes have the same weight in the average)"
   ]
  },
  {
   "cell_type": "code",
   "execution_count": 18,
   "id": "20d78065",
   "metadata": {},
   "outputs": [
    {
     "name": "stdout",
     "output_type": "stream",
     "text": [
      "+++ average performance measures\n",
      "Precision  0.9767\n",
      "Recall     0.9582\n",
      "f_score    0.9672\n",
      "Suppport   None\n"
     ]
    }
   ],
   "source": [
    "prc, rcl, f1, sup = prf(X_test.Label, X_test.predict, average = 'macro')\n",
    "print('+++ average performance measures')\n",
    "print('Precision  %6.4f' %prc)\n",
    "print('Recall     %6.4f' %rcl)\n",
    "print('f_score    %6.4f' %f1)\n",
    "print('Suppport   %s' %sup)"
   ]
  },
  {
   "cell_type": "markdown",
   "id": "2cdbe25a",
   "metadata": {},
   "source": [
    "- **micro-average**\n",
    "\n",
    "performance metrics are computed by aggregating the contributions of all classes (hence preferable in case of class imbalance), in this case *recall*, *precision* and *$F_1$score* are all equal, i.e.\n",
    "\n",
    "$$\\text{microRecall}=\\frac{\\sum_c\\,TP_c}{\\sum_c\\,P_c}\\;\\equiv\\;\\text{microPrecision}=\\frac{\\sum_c\\,TP_c}{\\sum_c\\,PP_c}\\;\\equiv\\;\\text{micro}F_1$$"
   ]
  },
  {
   "cell_type": "markdown",
   "id": "5021ee33",
   "metadata": {},
   "source": [
    "- **weighted-average**\n",
    "\n",
    "performance metrics are computed by weighting the contributions of all classes (also preferable in case of class imbalance), e.g.\n",
    "\n",
    "$$\\text{microRecall}=\\sum_c\\frac{n_c}{n}\\,\\frac{TP_c}{P_c}\\,,\\; \\text{microPrecision}=\\sum_c\\frac{n_c}{n}\\,\\frac{TP_c}{PP_c}$$"
   ]
  },
  {
   "cell_type": "code",
   "execution_count": 19,
   "id": "e1be3b1c",
   "metadata": {},
   "outputs": [
    {
     "data": {
      "text/html": [
       "<div>\n",
       "<style scoped>\n",
       "    .dataframe tbody tr th:only-of-type {\n",
       "        vertical-align: middle;\n",
       "    }\n",
       "\n",
       "    .dataframe tbody tr th {\n",
       "        vertical-align: top;\n",
       "    }\n",
       "\n",
       "    .dataframe thead th {\n",
       "        text-align: right;\n",
       "    }\n",
       "</style>\n",
       "<table border=\"1\" class=\"dataframe\">\n",
       "  <thead>\n",
       "    <tr style=\"text-align: right;\">\n",
       "      <th></th>\n",
       "      <th>precision</th>\n",
       "      <th>recall</th>\n",
       "      <th>f-score</th>\n",
       "    </tr>\n",
       "  </thead>\n",
       "  <tbody>\n",
       "    <tr>\n",
       "      <th>macro</th>\n",
       "      <td>0.976685</td>\n",
       "      <td>0.958186</td>\n",
       "      <td>0.967170</td>\n",
       "    </tr>\n",
       "    <tr>\n",
       "      <th>micro</th>\n",
       "      <td>0.984753</td>\n",
       "      <td>0.984753</td>\n",
       "      <td>0.984753</td>\n",
       "    </tr>\n",
       "    <tr>\n",
       "      <th>weighted</th>\n",
       "      <td>0.984616</td>\n",
       "      <td>0.984753</td>\n",
       "      <td>0.984603</td>\n",
       "    </tr>\n",
       "  </tbody>\n",
       "</table>\n",
       "</div>"
      ],
      "text/plain": [
       "          precision    recall   f-score\n",
       "macro      0.976685  0.958186  0.967170\n",
       "micro      0.984753  0.984753  0.984753\n",
       "weighted   0.984616  0.984753  0.984603"
      ]
     },
     "execution_count": 19,
     "metadata": {},
     "output_type": "execute_result"
    }
   ],
   "source": [
    "avrgs = ['macro', 'micro', 'weighted']\n",
    "pd.DataFrame([prf(X_test.Label, X_test.predict, average = mode)[:3] for mode in avrgs], columns = ['precision', 'recall', 'f-score'], index = avrgs)"
   ]
  }
 ],
 "metadata": {
  "kernelspec": {
   "display_name": "Python 3",
   "language": "python",
   "name": "python3"
  },
  "language_info": {
   "codemirror_mode": {
    "name": "ipython",
    "version": 3
   },
   "file_extension": ".py",
   "mimetype": "text/x-python",
   "name": "python",
   "nbconvert_exporter": "python",
   "pygments_lexer": "ipython3",
   "version": "3.9.13"
  }
 },
 "nbformat": 4,
 "nbformat_minor": 5
}
