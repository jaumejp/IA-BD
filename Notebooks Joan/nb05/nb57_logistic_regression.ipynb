{
 "cells": [
  {
   "cell_type": "markdown",
   "id": "25208131",
   "metadata": {},
   "source": [
    "### Logistic regression"
   ]
  },
  {
   "cell_type": "markdown",
   "id": "1d8d99d1",
   "metadata": {},
   "source": [
    "#### the sigmoid function\n",
    "\n",
    "- the ***sigmoid function*** is defined as: $f\\left(x\\right)=\\frac{1}{1 +\\,\\exp{\\left(-x\\right)}}$\n",
    "\n",
    "\n",
    "- the sigmoid function maps real values in the interval $(-\\infty,\\,+\\infty)$ to the interval $\\left(0, 1\\right)$\n",
    "\n",
    "    - $\\text{for}\\; x=-\\infty\\; \\text{we have,}\\; \\exp{-\\left(-\\infty\\right)}= \\exp{\\left(+\\infty\\right)}=\\infty\\,\\Rightarrow f\\left(-\\infty\\right)=\\frac{1}{1 +\\infty}=\\frac{1}{\\infty}=0$\n",
    "    \n",
    "    - $\\text{for}; x=+\\infty\\; \\text{we have,}\\; \\exp{-\\left(+\\infty\\right)}= \\exp{\\left(-\\infty\\right)}=\\frac{1}{\\exp\\left(+\\infty\\right)}=\\frac{1}{\\infty}=0\\Rightarrow f\\left(+\\infty\\right)=\\frac{1}{1 +0}=1$\n",
    "    \n",
    "    \n",
    "- with this mapping we can convert a numerical regression $x\\in\\left(-\\infty, +\\infty\\right)$ into a probability $f\\left(x\\right)\\in\\left(0, 1\\right)$\n",
    "\n",
    "- therefore we can use logistic regression to solve a classification problem"
   ]
  },
  {
   "cell_type": "code",
   "execution_count": 1,
   "id": "46dcc1bf",
   "metadata": {},
   "outputs": [],
   "source": [
    "import numpy as np\n",
    "import matplotlib.pyplot as plt\n",
    "import seaborn as sns\n",
    "sns.set_theme()"
   ]
  },
  {
   "cell_type": "code",
   "execution_count": 2,
   "id": "dcf201b1",
   "metadata": {},
   "outputs": [],
   "source": [
    "x = np.linspace(-5, 5, 10000)"
   ]
  },
  {
   "cell_type": "code",
   "execution_count": 3,
   "id": "e21973de",
   "metadata": {},
   "outputs": [],
   "source": [
    "y = 1 /(1 + np.exp(-x))"
   ]
  },
  {
   "cell_type": "code",
   "execution_count": 4,
   "id": "0d4662ec",
   "metadata": {},
   "outputs": [
    {
     "data": {
      "text/plain": [
       "<matplotlib.lines.Line2D at 0x7f6947b9bdc0>"
      ]
     },
     "execution_count": 4,
     "metadata": {},
     "output_type": "execute_result"
    },
    {
     "data": {
      "image/png": "[encoded data removed]",
      "text/plain": [
       "<Figure size 432x288 with 1 Axes>"
      ]
     },
     "metadata": {
      "needs_background": "light"
     },
     "output_type": "display_data"
    }
   ],
   "source": [
    "plt.plot(x, y)\n",
    "plt.axhline(0, c = 'r', linestyle = '--')\n",
    "plt.axhline(0.5, c = 'r', linestyle = '--')\n",
    "plt.axhline(1, c = 'r', linestyle = '--')\n",
    "plt.axvline(0, c = 'k', linestyle = '--')"
   ]
  },
  {
   "cell_type": "markdown",
   "id": "ac963954",
   "metadata": {},
   "source": [
    "#### example:\n",
    "- predicting if a person would buy a life insurance based on his age"
   ]
  },
  {
   "cell_type": "code",
   "execution_count": 5,
   "id": "d14c48f5",
   "metadata": {},
   "outputs": [],
   "source": [
    "import pandas as pd\n",
    "from sklearn.linear_model import LogisticRegression"
   ]
  },
  {
   "cell_type": "code",
   "execution_count": 6,
   "id": "4f9a05cf",
   "metadata": {},
   "outputs": [
    {
     "data": {
      "text/html": [
       "<div>\n",
       "<style scoped>\n",
       "    .dataframe tbody tr th:only-of-type {\n",
       "        vertical-align: middle;\n",
       "    }\n",
       "\n",
       "    .dataframe tbody tr th {\n",
       "        vertical-align: top;\n",
       "    }\n",
       "\n",
       "    .dataframe thead th {\n",
       "        text-align: right;\n",
       "    }\n",
       "</style>\n",
       "<table border=\"1\" class=\"dataframe\">\n",
       "  <thead>\n",
       "    <tr style=\"text-align: right;\">\n",
       "      <th></th>\n",
       "      <th>age</th>\n",
       "      <th>bought_insurance</th>\n",
       "    </tr>\n",
       "  </thead>\n",
       "  <tbody>\n",
       "    <tr>\n",
       "      <th>0</th>\n",
       "      <td>22</td>\n",
       "      <td>0</td>\n",
       "    </tr>\n",
       "    <tr>\n",
       "      <th>1</th>\n",
       "      <td>25</td>\n",
       "      <td>0</td>\n",
       "    </tr>\n",
       "    <tr>\n",
       "      <th>2</th>\n",
       "      <td>47</td>\n",
       "      <td>1</td>\n",
       "    </tr>\n",
       "    <tr>\n",
       "      <th>3</th>\n",
       "      <td>52</td>\n",
       "      <td>0</td>\n",
       "    </tr>\n",
       "    <tr>\n",
       "      <th>4</th>\n",
       "      <td>46</td>\n",
       "      <td>1</td>\n",
       "    </tr>\n",
       "  </tbody>\n",
       "</table>\n",
       "</div>"
      ],
      "text/plain": [
       "   age  bought_insurance\n",
       "0   22                 0\n",
       "1   25                 0\n",
       "2   47                 1\n",
       "3   52                 0\n",
       "4   46                 1"
      ]
     },
     "execution_count": 6,
     "metadata": {},
     "output_type": "execute_result"
    }
   ],
   "source": [
    "df = pd.read_csv('../../data/regression/insurance_data.csv')\n",
    "df.head()"
   ]
  },
  {
   "cell_type": "code",
   "execution_count": 7,
   "id": "5b3f5049",
   "metadata": {},
   "outputs": [
    {
     "data": {
      "image/png": "[encoded data removed]",
      "text/plain": [
       "<Figure size 432x288 with 1 Axes>"
      ]
     },
     "metadata": {
      "needs_background": "light"
     },
     "output_type": "display_data"
    }
   ],
   "source": [
    "_, axs = plt.subplots(1, 1, figsize = (6, 4))\n",
    "axs.scatter(df.age, df.bought_insurance, marker = '+', s = 50, color = 'b')\n",
    "plt.axhline(0, c = 'r', linestyle = '--', linewidth = 0.7)\n",
    "plt.axhline(0.5, c = 'r', linestyle = '--', linewidth = 0.7)\n",
    "plt.axhline(1, c = 'r', linestyle = '--', linewidth = 0.7)\n",
    "axs.set_xlabel('age');"
   ]
  },
  {
   "cell_type": "markdown",
   "id": "4d7f75c5",
   "metadata": {},
   "source": [
    "#### build the model\n",
    "\n",
    "- internally, the logistic regression performs two steps:\n",
    "\n",
    "    - first, it builds a linear regression model like $y_{linear}=\\beta_0+\\beta_1\\,x_{linear}$\n",
    "    \n",
    "    - second, it maps the result $y_{linear}$ into the interval $\\left(0, 1\\right)$ by making,\n",
    "    \n",
    "    $y_{logistic}=\\frac{1}{1 +\\exp\\left(-y_{linear}\\right)}=\\frac{1}{1 +\\exp{\\left(-\\left(\\beta_0+\\beta_1\\,x_{linear}\\right)\\right)}}$"
   ]
  },
  {
   "cell_type": "code",
   "execution_count": 8,
   "id": "87f3d286",
   "metadata": {},
   "outputs": [],
   "source": [
    "# independent variable\n",
    "X = df.age.to_numpy().reshape(-1, 1)\n",
    "# dependent variable\n",
    "y = df.bought_insurance"
   ]
  },
  {
   "cell_type": "code",
   "execution_count": 9,
   "id": "154095ea",
   "metadata": {},
   "outputs": [],
   "source": [
    "model = LogisticRegression().fit(X, y)"
   ]
  },
  {
   "cell_type": "code",
   "execution_count": 10,
   "id": "d30a6251",
   "metadata": {},
   "outputs": [
    {
     "name": "stdout",
     "output_type": "stream",
     "text": [
      "β1: 0.13547\n",
      "β0: -5.26280\n",
      "R^2: 0.8888888888888888\n"
     ]
    }
   ],
   "source": [
    "# Coeficient\n",
    "print('\\u03B21: %.5f' % model.coef_)\n",
    "# Intercept (x = 0)\n",
    "print('\\u03B20: %.5f' % model.intercept_)\n",
    "# error\n",
    "print('R^2:', model.score(X, y))"
   ]
  },
  {
   "cell_type": "markdown",
   "id": "7c7fa910",
   "metadata": {},
   "source": [
    "- now we can make predict the probability of bying a life inssurance for any value of age"
   ]
  },
  {
   "cell_type": "code",
   "execution_count": 11,
   "id": "e877b774",
   "metadata": {},
   "outputs": [
    {
     "data": {
      "text/plain": [
       "array([1])"
      ]
     },
     "execution_count": 11,
     "metadata": {},
     "output_type": "execute_result"
    }
   ],
   "source": [
    "model.predict(np.array([[65]]))"
   ]
  },
  {
   "cell_type": "markdown",
   "id": "0137f2a0",
   "metadata": {},
   "source": [
    "- we can get a visualization of the model by making predictions for the whole range of the independent variable (age)"
   ]
  },
  {
   "cell_type": "code",
   "execution_count": 12,
   "id": "8b7373d6",
   "metadata": {},
   "outputs": [
    {
     "data": {
      "text/plain": [
       "<matplotlib.lines.Line2D at 0x7f69467bdc40>"
      ]
     },
     "execution_count": 12,
     "metadata": {},
     "output_type": "execute_result"
    },
    {
     "data": {
      "image/png": "[encoded data removed]",
      "text/plain": [
       "<Figure size 432x360 with 1 Axes>"
      ]
     },
     "metadata": {
      "needs_background": "light"
     },
     "output_type": "display_data"
    }
   ],
   "source": [
    "X = np.linspace(0, 100, 101).reshape(-1, 1)\n",
    "Y = model.predict(X)\n",
    "#\n",
    "_, axs = plt.subplots(1, 1, figsize = (6, 5))\n",
    "axs.plot(X, Y)\n",
    "axs.axhline(0, c = 'r', linestyle = '--')\n",
    "axs.axhline(0.5, c = 'r', linestyle = '--')\n",
    "axs.axhline(1, c = 'r', linestyle = '--')"
   ]
  },
  {
   "cell_type": "markdown",
   "id": "fec97704",
   "metadata": {},
   "source": [
    "- the inflection point is the value of age at which the probability is 0.5"
   ]
  },
  {
   "cell_type": "code",
   "execution_count": 13,
   "id": "859fbf1c",
   "metadata": {},
   "outputs": [
    {
     "data": {
      "text/plain": [
       "array([0, 0, 0, 0, 0, 0, 0, 0, 0, 0, 0, 0, 0, 0, 0, 0, 0, 0, 0, 0, 0, 0,\n",
       "       0, 0, 0, 0, 0, 0, 0, 0, 0, 0, 0, 0, 0, 0, 0, 0, 0, 1, 1, 1, 1, 1,\n",
       "       1, 1, 1, 1, 1, 1, 1, 1, 1, 1, 1, 1, 1, 1, 1, 1, 1, 1, 1, 1, 1, 1,\n",
       "       1, 1, 1, 1, 1, 1, 1, 1, 1, 1, 1, 1, 1, 1, 1, 1, 1, 1, 1, 1, 1, 1,\n",
       "       1, 1, 1, 1, 1, 1, 1, 1, 1, 1, 1, 1, 1])"
      ]
     },
     "execution_count": 13,
     "metadata": {},
     "output_type": "execute_result"
    }
   ],
   "source": [
    "X = np.linspace(0, 100, 101).reshape(-1, 1)\n",
    "Y = model.predict(X)\n",
    "Y"
   ]
  },
  {
   "cell_type": "code",
   "execution_count": 14,
   "id": "ebdaee75",
   "metadata": {},
   "outputs": [
    {
     "name": "stdout",
     "output_type": "stream",
     "text": [
      "the inflection point is at age 38.84 for which the probability is 0.0000\n"
     ]
    }
   ],
   "source": [
    "# the probability changes abruptly from o to 1\n",
    "# let's use higher precision to find the inflection point\n",
    "X = np.linspace(0, 100, 10000).reshape(-1, 1)\n",
    "Y = model.predict(X)\n",
    "inflection = np.where(Y <= 0.5)[0][-1]\n",
    "print('the inflection point is at age %5.2f for which the probability is %6.4f' %(X[inflection], Y[inflection]))"
   ]
  }
 ],
 "metadata": {
  "kernelspec": {
   "display_name": "Python 3",
   "language": "python",
   "name": "python3"
  },
  "language_info": {
   "codemirror_mode": {
    "name": "ipython",
    "version": 3
   },
   "file_extension": ".py",
   "mimetype": "text/x-python",
   "name": "python",
   "nbconvert_exporter": "python",
   "pygments_lexer": "ipython3",
   "version": "3.9.13"
  }
 },
 "nbformat": 4,
 "nbformat_minor": 5
}
