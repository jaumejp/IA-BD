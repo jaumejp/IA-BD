{
 "cells": [
  {
   "cell_type": "markdown",
   "id": "fb62ebb0",
   "metadata": {},
   "source": [
    "### Polynomial regression. Example"
   ]
  },
  {
   "cell_type": "code",
   "execution_count": 1,
   "id": "d3f391aa",
   "metadata": {},
   "outputs": [],
   "source": [
    "import pandas as pd\n",
    "import numpy as np\n",
    "import matplotlib.pyplot as plt\n",
    "import seaborn as sns\n",
    "sns.set_theme()"
   ]
  },
  {
   "cell_type": "markdown",
   "id": "57181ec7",
   "metadata": {},
   "source": [
    "#### house prices dataset\n",
    "\n",
    "- make a regression model to predict the price of the houses based on some predictor variables"
   ]
  },
  {
   "cell_type": "code",
   "execution_count": 2,
   "id": "8441aa6d",
   "metadata": {},
   "outputs": [],
   "source": [
    "df = pd.read_csv('../../data/housing/housing_prices.csv')"
   ]
  },
  {
   "cell_type": "code",
   "execution_count": 3,
   "id": "3f05acec",
   "metadata": {},
   "outputs": [
    {
     "data": {
      "text/html": [
       "<div>\n",
       "<style scoped>\n",
       "    .dataframe tbody tr th:only-of-type {\n",
       "        vertical-align: middle;\n",
       "    }\n",
       "\n",
       "    .dataframe tbody tr th {\n",
       "        vertical-align: top;\n",
       "    }\n",
       "\n",
       "    .dataframe thead th {\n",
       "        text-align: right;\n",
       "    }\n",
       "</style>\n",
       "<table border=\"1\" class=\"dataframe\">\n",
       "  <thead>\n",
       "    <tr style=\"text-align: right;\">\n",
       "      <th></th>\n",
       "      <th>price</th>\n",
       "      <th>area</th>\n",
       "      <th>bedrooms</th>\n",
       "      <th>bathrooms</th>\n",
       "      <th>stories</th>\n",
       "      <th>mainroad</th>\n",
       "      <th>guestroom</th>\n",
       "      <th>basement</th>\n",
       "      <th>hotwaterheating</th>\n",
       "      <th>airconditioning</th>\n",
       "      <th>parking</th>\n",
       "      <th>prefarea</th>\n",
       "      <th>semi-furnished</th>\n",
       "      <th>unfurnished</th>\n",
       "      <th>areaperbedroom</th>\n",
       "      <th>bbratio</th>\n",
       "    </tr>\n",
       "  </thead>\n",
       "  <tbody>\n",
       "    <tr>\n",
       "      <th>0</th>\n",
       "      <td>5250000</td>\n",
       "      <td>5500</td>\n",
       "      <td>3</td>\n",
       "      <td>2</td>\n",
       "      <td>1</td>\n",
       "      <td>1</td>\n",
       "      <td>0</td>\n",
       "      <td>1</td>\n",
       "      <td>0</td>\n",
       "      <td>0</td>\n",
       "      <td>0</td>\n",
       "      <td>0</td>\n",
       "      <td>1</td>\n",
       "      <td>0</td>\n",
       "      <td>1833.333333</td>\n",
       "      <td>0.666667</td>\n",
       "    </tr>\n",
       "    <tr>\n",
       "      <th>1</th>\n",
       "      <td>4480000</td>\n",
       "      <td>4040</td>\n",
       "      <td>3</td>\n",
       "      <td>1</td>\n",
       "      <td>2</td>\n",
       "      <td>1</td>\n",
       "      <td>0</td>\n",
       "      <td>0</td>\n",
       "      <td>0</td>\n",
       "      <td>0</td>\n",
       "      <td>1</td>\n",
       "      <td>0</td>\n",
       "      <td>1</td>\n",
       "      <td>0</td>\n",
       "      <td>1346.666667</td>\n",
       "      <td>0.333333</td>\n",
       "    </tr>\n",
       "    <tr>\n",
       "      <th>2</th>\n",
       "      <td>3570000</td>\n",
       "      <td>3640</td>\n",
       "      <td>2</td>\n",
       "      <td>1</td>\n",
       "      <td>1</td>\n",
       "      <td>1</td>\n",
       "      <td>0</td>\n",
       "      <td>0</td>\n",
       "      <td>0</td>\n",
       "      <td>0</td>\n",
       "      <td>0</td>\n",
       "      <td>0</td>\n",
       "      <td>0</td>\n",
       "      <td>1</td>\n",
       "      <td>1820.000000</td>\n",
       "      <td>0.500000</td>\n",
       "    </tr>\n",
       "    <tr>\n",
       "      <th>3</th>\n",
       "      <td>2870000</td>\n",
       "      <td>3040</td>\n",
       "      <td>2</td>\n",
       "      <td>1</td>\n",
       "      <td>1</td>\n",
       "      <td>0</td>\n",
       "      <td>0</td>\n",
       "      <td>0</td>\n",
       "      <td>0</td>\n",
       "      <td>0</td>\n",
       "      <td>0</td>\n",
       "      <td>0</td>\n",
       "      <td>0</td>\n",
       "      <td>1</td>\n",
       "      <td>1520.000000</td>\n",
       "      <td>0.500000</td>\n",
       "    </tr>\n",
       "    <tr>\n",
       "      <th>4</th>\n",
       "      <td>3570000</td>\n",
       "      <td>4500</td>\n",
       "      <td>2</td>\n",
       "      <td>1</td>\n",
       "      <td>1</td>\n",
       "      <td>0</td>\n",
       "      <td>0</td>\n",
       "      <td>0</td>\n",
       "      <td>0</td>\n",
       "      <td>0</td>\n",
       "      <td>0</td>\n",
       "      <td>0</td>\n",
       "      <td>0</td>\n",
       "      <td>0</td>\n",
       "      <td>2250.000000</td>\n",
       "      <td>0.500000</td>\n",
       "    </tr>\n",
       "  </tbody>\n",
       "</table>\n",
       "</div>"
      ],
      "text/plain": [
       "     price  area  bedrooms  bathrooms  stories  mainroad  guestroom  basement  \\\n",
       "0  5250000  5500         3          2        1         1          0         1   \n",
       "1  4480000  4040         3          1        2         1          0         0   \n",
       "2  3570000  3640         2          1        1         1          0         0   \n",
       "3  2870000  3040         2          1        1         0          0         0   \n",
       "4  3570000  4500         2          1        1         0          0         0   \n",
       "\n",
       "   hotwaterheating  airconditioning  parking  prefarea  semi-furnished  \\\n",
       "0                0                0        0         0               1   \n",
       "1                0                0        1         0               1   \n",
       "2                0                0        0         0               0   \n",
       "3                0                0        0         0               0   \n",
       "4                0                0        0         0               0   \n",
       "\n",
       "   unfurnished  areaperbedroom   bbratio  \n",
       "0            0     1833.333333  0.666667  \n",
       "1            0     1346.666667  0.333333  \n",
       "2            1     1820.000000  0.500000  \n",
       "3            1     1520.000000  0.500000  \n",
       "4            0     2250.000000  0.500000  "
      ]
     },
     "execution_count": 3,
     "metadata": {},
     "output_type": "execute_result"
    }
   ],
   "source": [
    "df.head()"
   ]
  },
  {
   "cell_type": "code",
   "execution_count": 4,
   "id": "fe559048",
   "metadata": {},
   "outputs": [
    {
     "data": {
      "text/html": [
       "<div>\n",
       "<style scoped>\n",
       "    .dataframe tbody tr th:only-of-type {\n",
       "        vertical-align: middle;\n",
       "    }\n",
       "\n",
       "    .dataframe tbody tr th {\n",
       "        vertical-align: top;\n",
       "    }\n",
       "\n",
       "    .dataframe thead th {\n",
       "        text-align: right;\n",
       "    }\n",
       "</style>\n",
       "<table border=\"1\" class=\"dataframe\">\n",
       "  <thead>\n",
       "    <tr style=\"text-align: right;\">\n",
       "      <th></th>\n",
       "      <th>price</th>\n",
       "      <th>area</th>\n",
       "      <th>bedrooms</th>\n",
       "      <th>bathrooms</th>\n",
       "      <th>stories</th>\n",
       "      <th>mainroad</th>\n",
       "      <th>guestroom</th>\n",
       "      <th>basement</th>\n",
       "      <th>hotwaterheating</th>\n",
       "      <th>airconditioning</th>\n",
       "      <th>parking</th>\n",
       "      <th>prefarea</th>\n",
       "      <th>semi-furnished</th>\n",
       "      <th>unfurnished</th>\n",
       "      <th>areaperbedroom</th>\n",
       "      <th>bbratio</th>\n",
       "    </tr>\n",
       "  </thead>\n",
       "  <tbody>\n",
       "    <tr>\n",
       "      <th>count</th>\n",
       "      <td>5.450000e+02</td>\n",
       "      <td>545.000000</td>\n",
       "      <td>545.000000</td>\n",
       "      <td>545.000000</td>\n",
       "      <td>545.000000</td>\n",
       "      <td>545.000000</td>\n",
       "      <td>545.000000</td>\n",
       "      <td>545.000000</td>\n",
       "      <td>545.000000</td>\n",
       "      <td>545.000000</td>\n",
       "      <td>545.000000</td>\n",
       "      <td>545.000000</td>\n",
       "      <td>545.000000</td>\n",
       "      <td>545.000000</td>\n",
       "      <td>545.000000</td>\n",
       "      <td>545.000000</td>\n",
       "    </tr>\n",
       "    <tr>\n",
       "      <th>mean</th>\n",
       "      <td>4.766729e+06</td>\n",
       "      <td>5150.541284</td>\n",
       "      <td>2.965138</td>\n",
       "      <td>1.286239</td>\n",
       "      <td>1.805505</td>\n",
       "      <td>0.858716</td>\n",
       "      <td>0.177982</td>\n",
       "      <td>0.350459</td>\n",
       "      <td>0.045872</td>\n",
       "      <td>0.315596</td>\n",
       "      <td>0.693578</td>\n",
       "      <td>0.234862</td>\n",
       "      <td>0.416514</td>\n",
       "      <td>0.326606</td>\n",
       "      <td>1819.852599</td>\n",
       "      <td>0.446361</td>\n",
       "    </tr>\n",
       "    <tr>\n",
       "      <th>std</th>\n",
       "      <td>1.870440e+06</td>\n",
       "      <td>2170.141023</td>\n",
       "      <td>0.738064</td>\n",
       "      <td>0.502470</td>\n",
       "      <td>0.867492</td>\n",
       "      <td>0.348635</td>\n",
       "      <td>0.382849</td>\n",
       "      <td>0.477552</td>\n",
       "      <td>0.209399</td>\n",
       "      <td>0.465180</td>\n",
       "      <td>0.861586</td>\n",
       "      <td>0.424302</td>\n",
       "      <td>0.493434</td>\n",
       "      <td>0.469402</td>\n",
       "      <td>839.091825</td>\n",
       "      <td>0.159492</td>\n",
       "    </tr>\n",
       "    <tr>\n",
       "      <th>min</th>\n",
       "      <td>1.750000e+06</td>\n",
       "      <td>1650.000000</td>\n",
       "      <td>1.000000</td>\n",
       "      <td>1.000000</td>\n",
       "      <td>1.000000</td>\n",
       "      <td>0.000000</td>\n",
       "      <td>0.000000</td>\n",
       "      <td>0.000000</td>\n",
       "      <td>0.000000</td>\n",
       "      <td>0.000000</td>\n",
       "      <td>0.000000</td>\n",
       "      <td>0.000000</td>\n",
       "      <td>0.000000</td>\n",
       "      <td>0.000000</td>\n",
       "      <td>381.000000</td>\n",
       "      <td>0.166667</td>\n",
       "    </tr>\n",
       "    <tr>\n",
       "      <th>25%</th>\n",
       "      <td>3.430000e+06</td>\n",
       "      <td>3600.000000</td>\n",
       "      <td>2.000000</td>\n",
       "      <td>1.000000</td>\n",
       "      <td>1.000000</td>\n",
       "      <td>1.000000</td>\n",
       "      <td>0.000000</td>\n",
       "      <td>0.000000</td>\n",
       "      <td>0.000000</td>\n",
       "      <td>0.000000</td>\n",
       "      <td>0.000000</td>\n",
       "      <td>0.000000</td>\n",
       "      <td>0.000000</td>\n",
       "      <td>0.000000</td>\n",
       "      <td>1237.500000</td>\n",
       "      <td>0.333333</td>\n",
       "    </tr>\n",
       "    <tr>\n",
       "      <th>50%</th>\n",
       "      <td>4.340000e+06</td>\n",
       "      <td>4600.000000</td>\n",
       "      <td>3.000000</td>\n",
       "      <td>1.000000</td>\n",
       "      <td>2.000000</td>\n",
       "      <td>1.000000</td>\n",
       "      <td>0.000000</td>\n",
       "      <td>0.000000</td>\n",
       "      <td>0.000000</td>\n",
       "      <td>0.000000</td>\n",
       "      <td>0.000000</td>\n",
       "      <td>0.000000</td>\n",
       "      <td>0.000000</td>\n",
       "      <td>0.000000</td>\n",
       "      <td>1666.666667</td>\n",
       "      <td>0.400000</td>\n",
       "    </tr>\n",
       "    <tr>\n",
       "      <th>75%</th>\n",
       "      <td>5.740000e+06</td>\n",
       "      <td>6360.000000</td>\n",
       "      <td>3.000000</td>\n",
       "      <td>2.000000</td>\n",
       "      <td>2.000000</td>\n",
       "      <td>1.000000</td>\n",
       "      <td>0.000000</td>\n",
       "      <td>1.000000</td>\n",
       "      <td>0.000000</td>\n",
       "      <td>1.000000</td>\n",
       "      <td>1.000000</td>\n",
       "      <td>0.000000</td>\n",
       "      <td>1.000000</td>\n",
       "      <td>1.000000</td>\n",
       "      <td>2183.333333</td>\n",
       "      <td>0.500000</td>\n",
       "    </tr>\n",
       "    <tr>\n",
       "      <th>max</th>\n",
       "      <td>1.330000e+07</td>\n",
       "      <td>16200.000000</td>\n",
       "      <td>6.000000</td>\n",
       "      <td>4.000000</td>\n",
       "      <td>4.000000</td>\n",
       "      <td>1.000000</td>\n",
       "      <td>1.000000</td>\n",
       "      <td>1.000000</td>\n",
       "      <td>1.000000</td>\n",
       "      <td>1.000000</td>\n",
       "      <td>3.000000</td>\n",
       "      <td>1.000000</td>\n",
       "      <td>1.000000</td>\n",
       "      <td>1.000000</td>\n",
       "      <td>6600.000000</td>\n",
       "      <td>1.000000</td>\n",
       "    </tr>\n",
       "  </tbody>\n",
       "</table>\n",
       "</div>"
      ],
      "text/plain": [
       "              price          area    bedrooms   bathrooms     stories  \\\n",
       "count  5.450000e+02    545.000000  545.000000  545.000000  545.000000   \n",
       "mean   4.766729e+06   5150.541284    2.965138    1.286239    1.805505   \n",
       "std    1.870440e+06   2170.141023    0.738064    0.502470    0.867492   \n",
       "min    1.750000e+06   1650.000000    1.000000    1.000000    1.000000   \n",
       "25%    3.430000e+06   3600.000000    2.000000    1.000000    1.000000   \n",
       "50%    4.340000e+06   4600.000000    3.000000    1.000000    2.000000   \n",
       "75%    5.740000e+06   6360.000000    3.000000    2.000000    2.000000   \n",
       "max    1.330000e+07  16200.000000    6.000000    4.000000    4.000000   \n",
       "\n",
       "         mainroad   guestroom    basement  hotwaterheating  airconditioning  \\\n",
       "count  545.000000  545.000000  545.000000       545.000000       545.000000   \n",
       "mean     0.858716    0.177982    0.350459         0.045872         0.315596   \n",
       "std      0.348635    0.382849    0.477552         0.209399         0.465180   \n",
       "min      0.000000    0.000000    0.000000         0.000000         0.000000   \n",
       "25%      1.000000    0.000000    0.000000         0.000000         0.000000   \n",
       "50%      1.000000    0.000000    0.000000         0.000000         0.000000   \n",
       "75%      1.000000    0.000000    1.000000         0.000000         1.000000   \n",
       "max      1.000000    1.000000    1.000000         1.000000         1.000000   \n",
       "\n",
       "          parking    prefarea  semi-furnished  unfurnished  areaperbedroom  \\\n",
       "count  545.000000  545.000000      545.000000   545.000000      545.000000   \n",
       "mean     0.693578    0.234862        0.416514     0.326606     1819.852599   \n",
       "std      0.861586    0.424302        0.493434     0.469402      839.091825   \n",
       "min      0.000000    0.000000        0.000000     0.000000      381.000000   \n",
       "25%      0.000000    0.000000        0.000000     0.000000     1237.500000   \n",
       "50%      0.000000    0.000000        0.000000     0.000000     1666.666667   \n",
       "75%      1.000000    0.000000        1.000000     1.000000     2183.333333   \n",
       "max      3.000000    1.000000        1.000000     1.000000     6600.000000   \n",
       "\n",
       "          bbratio  \n",
       "count  545.000000  \n",
       "mean     0.446361  \n",
       "std      0.159492  \n",
       "min      0.166667  \n",
       "25%      0.333333  \n",
       "50%      0.400000  \n",
       "75%      0.500000  \n",
       "max      1.000000  "
      ]
     },
     "execution_count": 4,
     "metadata": {},
     "output_type": "execute_result"
    }
   ],
   "source": [
    "df.describe()"
   ]
  },
  {
   "cell_type": "markdown",
   "id": "df497c36",
   "metadata": {},
   "source": [
    "### Regression: should we consider a liner or a polynomial regression model ?"
   ]
  },
  {
   "cell_type": "code",
   "execution_count": 5,
   "id": "e6f0b090",
   "metadata": {},
   "outputs": [],
   "source": [
    "from sklearn.model_selection import train_test_split\n",
    "from sklearn.preprocessing import PolynomialFeatures\n",
    "from sklearn.linear_model import LinearRegression\n",
    "from sklearn.pipeline import make_pipeline\n",
    "from sklearn.metrics import mean_squared_error, r2_score"
   ]
  },
  {
   "cell_type": "markdown",
   "id": "82e3943c",
   "metadata": {},
   "source": [
    "- if we sort the dataset by *price* and we plot it we can see that prices do not scale linearly\n",
    "- thus consider a ***polynomial regression***"
   ]
  },
  {
   "cell_type": "code",
   "execution_count": 6,
   "id": "27bc00e6",
   "metadata": {},
   "outputs": [
    {
     "data": {
      "image/png": "[encoded data removed]",
      "text/plain": [
       "<Figure size 360x216 with 1 Axes>"
      ]
     },
     "metadata": {
      "needs_background": "light"
     },
     "output_type": "display_data"
    }
   ],
   "source": [
    "_, axs = plt.subplots(1, 1, figsize = (5, 3))\n",
    "sns.lineplot(ax = axs, data = df[['price']].sort_values(by = 'price', ignore_index = True));"
   ]
  },
  {
   "cell_type": "markdown",
   "id": "39689937",
   "metadata": {},
   "source": [
    "#### predictors (independent variables)"
   ]
  },
  {
   "cell_type": "code",
   "execution_count": 7,
   "id": "7a65ae56",
   "metadata": {},
   "outputs": [
    {
     "data": {
      "text/plain": [
       "Index(['area', 'bedrooms', 'bathrooms', 'stories', 'mainroad', 'guestroom',\n",
       "       'basement', 'hotwaterheating', 'airconditioning', 'parking', 'prefarea',\n",
       "       'semi-furnished', 'unfurnished', 'areaperbedroom', 'bbratio'],\n",
       "      dtype='object')"
      ]
     },
     "execution_count": 7,
     "metadata": {},
     "output_type": "execute_result"
    }
   ],
   "source": [
    "predictors = df.columns[1:]\n",
    "predictors"
   ]
  },
  {
   "cell_type": "markdown",
   "id": "9917d919",
   "metadata": {},
   "source": [
    "#### train/test split"
   ]
  },
  {
   "cell_type": "code",
   "execution_count": 8,
   "id": "945e8545",
   "metadata": {},
   "outputs": [],
   "source": [
    "X_train, X_test = train_test_split(df, test_size = 0.2, random_state = 4467)"
   ]
  },
  {
   "cell_type": "markdown",
   "id": "3abb1bc8",
   "metadata": {},
   "source": [
    "#### polynomial regression (degree = 2)"
   ]
  },
  {
   "cell_type": "code",
   "execution_count": 9,
   "id": "40fbf9d5",
   "metadata": {},
   "outputs": [
    {
     "data": {
      "text/html": [
       "<style>#sk-container-id-1 {color: black;background-color: white;}#sk-container-id-1 pre{padding: 0;}#sk-container-id-1 div.sk-toggleable {background-color: white;}#sk-container-id-1 label.sk-toggleable__label {cursor: pointer;display: block;width: 100%;margin-bottom: 0;padding: 0.3em;box-sizing: border-box;text-align: center;}#sk-container-id-1 label.sk-toggleable__label-arrow:before {content: \"▸\";float: left;margin-right: 0.25em;color: #696969;}#sk-container-id-1 label.sk-toggleable__label-arrow:hover:before {color: black;}#sk-container-id-1 div.sk-estimator:hover label.sk-toggleable__label-arrow:before {color: black;}#sk-container-id-1 div.sk-toggleable__content {max-height: 0;max-width: 0;overflow: hidden;text-align: left;background-color: #f0f8ff;}#sk-container-id-1 div.sk-toggleable__content pre {margin: 0.2em;color: black;border-radius: 0.25em;background-color: #f0f8ff;}#sk-container-id-1 input.sk-toggleable__control:checked~div.sk-toggleable__content {max-height: 200px;max-width: 100%;overflow: auto;}#sk-container-id-1 input.sk-toggleable__control:checked~label.sk-toggleable__label-arrow:before {content: \"▾\";}#sk-container-id-1 div.sk-estimator input.sk-toggleable__control:checked~label.sk-toggleable__label {background-color: #d4ebff;}#sk-container-id-1 div.sk-label input.sk-toggleable__control:checked~label.sk-toggleable__label {background-color: #d4ebff;}#sk-container-id-1 input.sk-hidden--visually {border: 0;clip: rect(1px 1px 1px 1px);clip: rect(1px, 1px, 1px, 1px);height: 1px;margin: -1px;overflow: hidden;padding: 0;position: absolute;width: 1px;}#sk-container-id-1 div.sk-estimator {font-family: monospace;background-color: #f0f8ff;border: 1px dotted black;border-radius: 0.25em;box-sizing: border-box;margin-bottom: 0.5em;}#sk-container-id-1 div.sk-estimator:hover {background-color: #d4ebff;}#sk-container-id-1 div.sk-parallel-item::after {content: \"\";width: 100%;border-bottom: 1px solid gray;flex-grow: 1;}#sk-container-id-1 div.sk-label:hover label.sk-toggleable__label {background-color: #d4ebff;}#sk-container-id-1 div.sk-serial::before {content: \"\";position: absolute;border-left: 1px solid gray;box-sizing: border-box;top: 0;bottom: 0;left: 50%;z-index: 0;}#sk-container-id-1 div.sk-serial {display: flex;flex-direction: column;align-items: center;background-color: white;padding-right: 0.2em;padding-left: 0.2em;position: relative;}#sk-container-id-1 div.sk-item {position: relative;z-index: 1;}#sk-container-id-1 div.sk-parallel {display: flex;align-items: stretch;justify-content: center;background-color: white;position: relative;}#sk-container-id-1 div.sk-item::before, #sk-container-id-1 div.sk-parallel-item::before {content: \"\";position: absolute;border-left: 1px solid gray;box-sizing: border-box;top: 0;bottom: 0;left: 50%;z-index: -1;}#sk-container-id-1 div.sk-parallel-item {display: flex;flex-direction: column;z-index: 1;position: relative;background-color: white;}#sk-container-id-1 div.sk-parallel-item:first-child::after {align-self: flex-end;width: 50%;}#sk-container-id-1 div.sk-parallel-item:last-child::after {align-self: flex-start;width: 50%;}#sk-container-id-1 div.sk-parallel-item:only-child::after {width: 0;}#sk-container-id-1 div.sk-dashed-wrapped {border: 1px dashed gray;margin: 0 0.4em 0.5em 0.4em;box-sizing: border-box;padding-bottom: 0.4em;background-color: white;}#sk-container-id-1 div.sk-label label {font-family: monospace;font-weight: bold;display: inline-block;line-height: 1.2em;}#sk-container-id-1 div.sk-label-container {text-align: center;}#sk-container-id-1 div.sk-container {/* jupyter's `normalize.less` sets `[hidden] { display: none; }` but bootstrap.min.css set `[hidden] { display: none !important; }` so we also need the `!important` here to be able to override the default hidden behavior on the sphinx rendered scikit-learn.org. See: https://github.com/scikit-learn/scikit-learn/issues/21755 */display: inline-block !important;position: relative;}#sk-container-id-1 div.sk-text-repr-fallback {display: none;}</style><div id=\"sk-container-id-1\" class=\"sk-top-container\"><div class=\"sk-text-repr-fallback\"><pre>Pipeline(steps=[(&#x27;polynomialfeatures&#x27;, PolynomialFeatures(include_bias=False)),\n",
       "                (&#x27;linearregression&#x27;, LinearRegression())])</pre><b>In a Jupyter environment, please rerun this cell to show the HTML representation or trust the notebook. <br />On GitHub, the HTML representation is unable to render, please try loading this page with nbviewer.org.</b></div><div class=\"sk-container\" hidden><div class=\"sk-item sk-dashed-wrapped\"><div class=\"sk-label-container\"><div class=\"sk-label sk-toggleable\"><input class=\"sk-toggleable__control sk-hidden--visually\" id=\"sk-estimator-id-1\" type=\"checkbox\" ><label for=\"sk-estimator-id-1\" class=\"sk-toggleable__label sk-toggleable__label-arrow\">Pipeline</label><div class=\"sk-toggleable__content\"><pre>Pipeline(steps=[(&#x27;polynomialfeatures&#x27;, PolynomialFeatures(include_bias=False)),\n",
       "                (&#x27;linearregression&#x27;, LinearRegression())])</pre></div></div></div><div class=\"sk-serial\"><div class=\"sk-item\"><div class=\"sk-estimator sk-toggleable\"><input class=\"sk-toggleable__control sk-hidden--visually\" id=\"sk-estimator-id-2\" type=\"checkbox\" ><label for=\"sk-estimator-id-2\" class=\"sk-toggleable__label sk-toggleable__label-arrow\">PolynomialFeatures</label><div class=\"sk-toggleable__content\"><pre>PolynomialFeatures(include_bias=False)</pre></div></div></div><div class=\"sk-item\"><div class=\"sk-estimator sk-toggleable\"><input class=\"sk-toggleable__control sk-hidden--visually\" id=\"sk-estimator-id-3\" type=\"checkbox\" ><label for=\"sk-estimator-id-3\" class=\"sk-toggleable__label sk-toggleable__label-arrow\">LinearRegression</label><div class=\"sk-toggleable__content\"><pre>LinearRegression()</pre></div></div></div></div></div></div></div>"
      ],
      "text/plain": [
       "Pipeline(steps=[('polynomialfeatures', PolynomialFeatures(include_bias=False)),\n",
       "                ('linearregression', LinearRegression())])"
      ]
     },
     "execution_count": 9,
     "metadata": {},
     "output_type": "execute_result"
    }
   ],
   "source": [
    "d2_pipeline = make_pipeline(PolynomialFeatures(degree = 2, include_bias = False), LinearRegression())\n",
    "d2_pipeline.fit(X_train[predictors], X_train['price'].to_numpy().reshape(-1, 1))"
   ]
  },
  {
   "cell_type": "markdown",
   "id": "9bdc6526",
   "metadata": {},
   "source": [
    "- model coeficients"
   ]
  },
  {
   "cell_type": "code",
   "execution_count": 10,
   "id": "365555cb",
   "metadata": {},
   "outputs": [
    {
     "data": {
      "text/plain": [
       "((1, 135),\n",
       " array([2090692.01235535]),\n",
       " array([[ 2.66106460e+03, -1.08097780e+06, -6.58712009e+06,\n",
       "         -2.93105124e+05,  3.67978443e+05, -3.91629423e+06,\n",
       "          1.20685375e+06,  1.04085262e+07,  2.73941917e+06,\n",
       "         -9.35724612e+05, -1.04270273e+06,  3.50264582e+05,\n",
       "          2.52137901e+06, -8.92167359e+03,  2.66256102e+07,\n",
       "          1.02810065e-01, -6.77291750e+02,  1.21103073e+03,\n",
       "         -8.18667395e+02,  6.97905271e+02, -6.87496292e+02,\n",
       "         -7.07289973e+01, -7.00724207e+02, -5.99386109e+01,\n",
       "         -6.58919303e+01,  4.59622864e+02, -8.59984409e+01,\n",
       "         -2.95784270e+02, -7.71655512e-01, -3.18347393e+03,\n",
       "          2.70025074e+05,  1.65599309e+06,  1.11226606e+05,\n",
       "         -3.32208619e+04,  2.69436023e+06, -6.88477443e+05,\n",
       "         -6.43272390e+06, -1.60507581e+06,  2.38535118e+05,\n",
       "         -1.38400783e+05, -2.87377307e+05, -1.91147480e+06,\n",
       "          2.66138575e+03, -6.58711956e+06, -5.71861101e+06,\n",
       "          2.24217054e+06, -2.00461849e+06, -3.80597470e+06,\n",
       "          1.45696592e+06,  1.62493857e+07,  3.78617518e+06,\n",
       "          2.95676936e+05, -1.01083043e+06,  6.61522330e+05,\n",
       "          5.67853993e+06, -3.18347313e+03,  3.29210977e+07,\n",
       "          1.82158239e+05, -1.27304933e+05, -1.38496467e+05,\n",
       "          2.36088432e+05,  2.28666827e+05,  9.01586226e+04,\n",
       "          1.11319566e+05,  3.37165543e+05, -1.48734322e+04,\n",
       "          6.85357204e+04,  2.46622533e+03, -8.24126496e+06,\n",
       "          3.67978452e+05,  2.41209560e+05, -3.31091629e+05,\n",
       "          3.31048167e+06, -1.15933840e+05,  3.14281127e+05,\n",
       "          1.60183784e+06,  2.07255658e+05, -2.98409306e+05,\n",
       "         -1.95009796e+03,  5.60742653e+06, -3.91629423e+06,\n",
       "          1.52012861e+05, -4.51394487e+05,  5.50278924e+05,\n",
       "          2.06200118e+05, -2.41003519e+05, -2.91489865e+05,\n",
       "          8.13708951e+04,  1.61350561e+03,  1.22242466e+07,\n",
       "          1.20685375e+06,  1.42393601e+06, -2.82537769e+05,\n",
       "          9.61350068e+04,  4.57562353e+05,  6.51942454e+03,\n",
       "          4.38132720e+05,  5.21045653e+02, -6.53128009e+06,\n",
       "          1.04085262e+07, -4.89936221e+06,  1.54042368e+05,\n",
       "          1.05583728e+06, -1.65608760e+05,  1.03226513e+06,\n",
       "          1.07375608e+03, -5.53041737e+07,  2.73941918e+06,\n",
       "          2.39657163e+05, -8.66891390e+04, -2.80631502e+05,\n",
       "         -1.01929678e+05,  2.58131634e+02, -1.13465401e+07,\n",
       "         -2.82412909e+05,  1.96175350e+05, -1.32767930e+05,\n",
       "         -3.93928543e+04,  2.86471816e+02, -3.40132888e+05,\n",
       "         -1.04270273e+06,  2.18458208e+05, -6.69365279e+04,\n",
       "         -1.30800900e+03,  4.35687440e+06,  3.50264583e+05,\n",
       "          0.00000000e+00,  2.22981776e+02, -1.28825957e+06,\n",
       "          2.52137900e+06,  8.87220583e+02, -1.60315304e+07,\n",
       "          1.19544863e+00,  8.77945149e+03, -4.41225798e+07]]))"
      ]
     },
     "execution_count": 10,
     "metadata": {},
     "output_type": "execute_result"
    }
   ],
   "source": [
    "d2_model = d2_pipeline.steps[1][1]\n",
    "d2_model.coef_.shape, d2_model.intercept_, d2_model.coef_"
   ]
  },
  {
   "cell_type": "code",
   "execution_count": 11,
   "id": "e79b9cab",
   "metadata": {},
   "outputs": [],
   "source": [
    "X_train['predicted'] = d2_pipeline.predict(X_train[predictors])\n",
    "X_test['predicted'] = d2_pipeline.predict(X_test[predictors])"
   ]
  },
  {
   "cell_type": "markdown",
   "id": "a9b9f740",
   "metadata": {},
   "source": [
    "#### plot predicted values"
   ]
  },
  {
   "cell_type": "code",
   "execution_count": 12,
   "id": "893295ae",
   "metadata": {},
   "outputs": [
    {
     "data": {
      "image/png": "[encoded data removed]",
      "text/plain": [
       "<Figure size 1080x360 with 2 Axes>"
      ]
     },
     "metadata": {
      "needs_background": "light"
     },
     "output_type": "display_data"
    }
   ],
   "source": [
    "fig, axs = plt.subplots(1, 2, figsize = (15, 5))\n",
    "sns.lineplot(ax = axs[0], data = X_train[['price', 'predicted']].sort_values(by = 'price', ignore_index = True))\n",
    "axs[0].set_title('train set')\n",
    "sns.lineplot(ax = axs[1], data = X_test[['price', 'predicted']].sort_values(by = 'price', ignore_index = True))\n",
    "axs[1].set_title('train set');"
   ]
  },
  {
   "cell_type": "code",
   "execution_count": 13,
   "id": "3b379204",
   "metadata": {},
   "outputs": [
    {
     "name": "stdout",
     "output_type": "stream",
     "text": [
      "RMSE_train 818978.04$\n",
      "RSQR_train 0.8114\n"
     ]
    }
   ],
   "source": [
    "# error on train set\n",
    "print('RMSE_train %.2f$' %np.sqrt(mean_squared_error(X_train['price'], X_train['predicted'])))\n",
    "print('RSQR_train %.4f' %r2_score(X_train['price'], X_train['predicted']))"
   ]
  },
  {
   "cell_type": "code",
   "execution_count": 14,
   "id": "792e4573",
   "metadata": {},
   "outputs": [
    {
     "name": "stdout",
     "output_type": "stream",
     "text": [
      "RMSE_test 1155986.40$\n",
      "RSQR_test 0.5819\n"
     ]
    }
   ],
   "source": [
    "# error on test set\n",
    "print('RMSE_test %.2f$' %np.sqrt(mean_squared_error(X_test['price'], X_test['predicted'])))\n",
    "print('RSQR_test %.4f' %r2_score(X_test['price'], X_test['predicted']))"
   ]
  },
  {
   "cell_type": "markdown",
   "id": "0a5f004d",
   "metadata": {},
   "source": [
    "#### polynomial regression (degree = 3)"
   ]
  },
  {
   "cell_type": "code",
   "execution_count": 15,
   "id": "ada76232",
   "metadata": {},
   "outputs": [
    {
     "data": {
      "text/html": [
       "<style>#sk-container-id-2 {color: black;background-color: white;}#sk-container-id-2 pre{padding: 0;}#sk-container-id-2 div.sk-toggleable {background-color: white;}#sk-container-id-2 label.sk-toggleable__label {cursor: pointer;display: block;width: 100%;margin-bottom: 0;padding: 0.3em;box-sizing: border-box;text-align: center;}#sk-container-id-2 label.sk-toggleable__label-arrow:before {content: \"▸\";float: left;margin-right: 0.25em;color: #696969;}#sk-container-id-2 label.sk-toggleable__label-arrow:hover:before {color: black;}#sk-container-id-2 div.sk-estimator:hover label.sk-toggleable__label-arrow:before {color: black;}#sk-container-id-2 div.sk-toggleable__content {max-height: 0;max-width: 0;overflow: hidden;text-align: left;background-color: #f0f8ff;}#sk-container-id-2 div.sk-toggleable__content pre {margin: 0.2em;color: black;border-radius: 0.25em;background-color: #f0f8ff;}#sk-container-id-2 input.sk-toggleable__control:checked~div.sk-toggleable__content {max-height: 200px;max-width: 100%;overflow: auto;}#sk-container-id-2 input.sk-toggleable__control:checked~label.sk-toggleable__label-arrow:before {content: \"▾\";}#sk-container-id-2 div.sk-estimator input.sk-toggleable__control:checked~label.sk-toggleable__label {background-color: #d4ebff;}#sk-container-id-2 div.sk-label input.sk-toggleable__control:checked~label.sk-toggleable__label {background-color: #d4ebff;}#sk-container-id-2 input.sk-hidden--visually {border: 0;clip: rect(1px 1px 1px 1px);clip: rect(1px, 1px, 1px, 1px);height: 1px;margin: -1px;overflow: hidden;padding: 0;position: absolute;width: 1px;}#sk-container-id-2 div.sk-estimator {font-family: monospace;background-color: #f0f8ff;border: 1px dotted black;border-radius: 0.25em;box-sizing: border-box;margin-bottom: 0.5em;}#sk-container-id-2 div.sk-estimator:hover {background-color: #d4ebff;}#sk-container-id-2 div.sk-parallel-item::after {content: \"\";width: 100%;border-bottom: 1px solid gray;flex-grow: 1;}#sk-container-id-2 div.sk-label:hover label.sk-toggleable__label {background-color: #d4ebff;}#sk-container-id-2 div.sk-serial::before {content: \"\";position: absolute;border-left: 1px solid gray;box-sizing: border-box;top: 0;bottom: 0;left: 50%;z-index: 0;}#sk-container-id-2 div.sk-serial {display: flex;flex-direction: column;align-items: center;background-color: white;padding-right: 0.2em;padding-left: 0.2em;position: relative;}#sk-container-id-2 div.sk-item {position: relative;z-index: 1;}#sk-container-id-2 div.sk-parallel {display: flex;align-items: stretch;justify-content: center;background-color: white;position: relative;}#sk-container-id-2 div.sk-item::before, #sk-container-id-2 div.sk-parallel-item::before {content: \"\";position: absolute;border-left: 1px solid gray;box-sizing: border-box;top: 0;bottom: 0;left: 50%;z-index: -1;}#sk-container-id-2 div.sk-parallel-item {display: flex;flex-direction: column;z-index: 1;position: relative;background-color: white;}#sk-container-id-2 div.sk-parallel-item:first-child::after {align-self: flex-end;width: 50%;}#sk-container-id-2 div.sk-parallel-item:last-child::after {align-self: flex-start;width: 50%;}#sk-container-id-2 div.sk-parallel-item:only-child::after {width: 0;}#sk-container-id-2 div.sk-dashed-wrapped {border: 1px dashed gray;margin: 0 0.4em 0.5em 0.4em;box-sizing: border-box;padding-bottom: 0.4em;background-color: white;}#sk-container-id-2 div.sk-label label {font-family: monospace;font-weight: bold;display: inline-block;line-height: 1.2em;}#sk-container-id-2 div.sk-label-container {text-align: center;}#sk-container-id-2 div.sk-container {/* jupyter's `normalize.less` sets `[hidden] { display: none; }` but bootstrap.min.css set `[hidden] { display: none !important; }` so we also need the `!important` here to be able to override the default hidden behavior on the sphinx rendered scikit-learn.org. See: https://github.com/scikit-learn/scikit-learn/issues/21755 */display: inline-block !important;position: relative;}#sk-container-id-2 div.sk-text-repr-fallback {display: none;}</style><div id=\"sk-container-id-2\" class=\"sk-top-container\"><div class=\"sk-text-repr-fallback\"><pre>Pipeline(steps=[(&#x27;polynomialfeatures&#x27;,\n",
       "                 PolynomialFeatures(degree=3, include_bias=False)),\n",
       "                (&#x27;linearregression&#x27;, LinearRegression())])</pre><b>In a Jupyter environment, please rerun this cell to show the HTML representation or trust the notebook. <br />On GitHub, the HTML representation is unable to render, please try loading this page with nbviewer.org.</b></div><div class=\"sk-container\" hidden><div class=\"sk-item sk-dashed-wrapped\"><div class=\"sk-label-container\"><div class=\"sk-label sk-toggleable\"><input class=\"sk-toggleable__control sk-hidden--visually\" id=\"sk-estimator-id-4\" type=\"checkbox\" ><label for=\"sk-estimator-id-4\" class=\"sk-toggleable__label sk-toggleable__label-arrow\">Pipeline</label><div class=\"sk-toggleable__content\"><pre>Pipeline(steps=[(&#x27;polynomialfeatures&#x27;,\n",
       "                 PolynomialFeatures(degree=3, include_bias=False)),\n",
       "                (&#x27;linearregression&#x27;, LinearRegression())])</pre></div></div></div><div class=\"sk-serial\"><div class=\"sk-item\"><div class=\"sk-estimator sk-toggleable\"><input class=\"sk-toggleable__control sk-hidden--visually\" id=\"sk-estimator-id-5\" type=\"checkbox\" ><label for=\"sk-estimator-id-5\" class=\"sk-toggleable__label sk-toggleable__label-arrow\">PolynomialFeatures</label><div class=\"sk-toggleable__content\"><pre>PolynomialFeatures(degree=3, include_bias=False)</pre></div></div></div><div class=\"sk-item\"><div class=\"sk-estimator sk-toggleable\"><input class=\"sk-toggleable__control sk-hidden--visually\" id=\"sk-estimator-id-6\" type=\"checkbox\" ><label for=\"sk-estimator-id-6\" class=\"sk-toggleable__label sk-toggleable__label-arrow\">LinearRegression</label><div class=\"sk-toggleable__content\"><pre>LinearRegression()</pre></div></div></div></div></div></div></div>"
      ],
      "text/plain": [
       "Pipeline(steps=[('polynomialfeatures',\n",
       "                 PolynomialFeatures(degree=3, include_bias=False)),\n",
       "                ('linearregression', LinearRegression())])"
      ]
     },
     "execution_count": 15,
     "metadata": {},
     "output_type": "execute_result"
    }
   ],
   "source": [
    "pipeline = make_pipeline(PolynomialFeatures(degree = 3, include_bias = False), LinearRegression())\n",
    "pipeline.fit(X_train[predictors], X_train['price'])"
   ]
  },
  {
   "cell_type": "markdown",
   "id": "d47666d0",
   "metadata": {},
   "source": [
    "- model coeficients"
   ]
  },
  {
   "cell_type": "code",
   "execution_count": 16,
   "id": "afb5af6f",
   "metadata": {
    "scrolled": true
   },
   "outputs": [
    {
     "data": {
      "text/plain": [
       "(-73489019.50994281,\n",
       " array([-4.68075618e+06,  1.96199274e+07,  2.90834176e+07, -3.58999703e+07,\n",
       "        -1.00463810e+07,  3.10924983e+06, -1.67861390e+07, -2.25363544e+05,\n",
       "        -7.91683044e+06,  1.81216277e+06,  6.30111604e+05, -1.17444071e+07,\n",
       "         3.10277413e+06,  4.53942607e+06,  6.38677853e+06,  1.52776890e+06,\n",
       "         1.87038331e+06, -8.09189788e+05,  9.65506956e+05,  2.02903215e+06,\n",
       "         1.29012044e+06,  3.02853202e+05,  2.06488397e+05,  1.08301876e+06,\n",
       "        -4.96012141e+05, -5.33483751e+05,  2.49619373e+05, -4.56297013e+05,\n",
       "        -4.05499351e+05,  1.81404792e+06,  1.82114932e+07,  2.85241490e+07,\n",
       "        -2.63430745e+07,  1.10298736e+07,  1.51551331e+06, -2.62070924e+07,\n",
       "        -1.90341777e+05,  5.35459836e+06,  6.57993576e+06, -2.00176425e+06,\n",
       "        -2.20399868e+07,  3.57311304e+07,  1.66289013e+06,  1.60090241e+07,\n",
       "         2.65924329e+07, -1.31963470e+06,  8.66436324e+06,  8.00434010e+06,\n",
       "         7.72707503e+06, -6.53659809e+04,  2.98684326e+05, -3.01001317e+06,\n",
       "         2.08379282e+06,  6.71290835e+06, -2.56365533e+06,  3.78081410e+06,\n",
       "         1.50329989e+07, -4.00254158e+07, -1.59874979e+07, -7.36417170e+06,\n",
       "         6.15209673e+06, -3.35126970e+04, -1.29020164e+07, -3.23665958e+06,\n",
       "        -6.65466578e+06,  1.71485355e+07, -3.97468845e+07, -2.61106508e+06,\n",
       "        -9.31742772e+06, -9.32270789e+06, -2.78782830e+06,  2.95016316e+06,\n",
       "         1.17425553e+05,  2.43492586e+07, -6.20321068e+06, -1.79291139e+06,\n",
       "         2.80914526e+07, -3.82838560e+07, -2.70749991e+04, -2.33288251e+06,\n",
       "         3.40744926e+06, -6.08793490e+06,  1.36835115e+02, -2.05249002e+06,\n",
       "         1.89459063e+06,  3.09120245e+06,  1.49933157e+07,  7.20793537e+06,\n",
       "        -1.95542658e+06,  4.57624301e+06, -1.65669153e+07,  2.57245560e+04,\n",
       "         2.02762238e+07, -4.11711529e+07,  5.50456328e+06,  8.99061020e+06,\n",
       "        -1.51892246e+07, -3.12128308e+05,  3.57331692e+06, -2.77245496e+05,\n",
       "        -4.87647239e+00,  1.56890472e+05,  4.69602712e+04, -4.89427431e+04,\n",
       "        -3.94531600e+05, -6.56972626e+04, -2.17696336e+04, -8.26180084e+06,\n",
       "         1.92897709e+06,  4.23910088e+05,  4.99966573e+05,  7.66798548e+06,\n",
       "        -5.14646424e+05,  2.33711214e+06, -2.78100215e+07, -2.41693633e+07,\n",
       "         6.41475767e+06,  2.72558858e+07,  1.40893892e+05, -4.28257581e+05,\n",
       "         7.36702772e+05, -4.57238429e+06,  1.24406344e+07,  1.41545723e+06,\n",
       "         7.15276180e+05, -1.19937338e+07, -4.35001905e+00, -1.28282260e+06,\n",
       "         1.37910179e+06,  2.95023494e+06,  6.38271325e+05, -1.13248038e+07,\n",
       "        -8.48396155e+02, -1.13047419e+07,  6.00308062e+06,  7.70004918e-02,\n",
       "         5.44759794e+01, -5.14582109e+02,  2.25038836e+01, -3.20143284e+01,\n",
       "        -2.19637051e+01,  1.90805957e+01, -6.17978794e+01,  2.35680224e+00,\n",
       "         2.53032930e+01, -2.42046432e+00,  3.92797725e+01,  3.18234710e+01,\n",
       "        -7.07650490e-01,  2.45193844e+03, -3.45538456e+04,  3.39052448e+05,\n",
       "        -2.59808976e+05, -6.79374931e+03, -2.53689430e+05, -1.13370288e+05,\n",
       "        -3.85581064e+03, -1.11419805e+05, -1.71367478e+04,  3.55290522e+05,\n",
       "        -2.31810527e+05,  1.09032956e+05, -1.52820943e+06, -1.02617175e+06,\n",
       "        -3.20742383e+04,  4.18406147e+05,  1.68080817e+05,  5.57832219e+05,\n",
       "         1.40280087e+05,  9.13015638e+04,  2.78703803e+05, -5.79884039e+04,\n",
       "        -7.53777177e+05,  3.41901090e+05, -2.91182379e+05,  1.96444398e+03,\n",
       "        -2.03576507e+05, -4.53194819e+03, -1.79397341e+04,  1.96422775e+04,\n",
       "         2.08676644e+03,  6.33313333e+03, -1.41596234e+04,  1.35345790e+04,\n",
       "        -1.23974063e+03,  2.26591531e+02, -1.12680079e+04, -9.15617397e+01,\n",
       "        -1.46878733e+06, -1.00008801e+06,  6.43535826e+02,  8.57223856e+03,\n",
       "        -9.16331528e+04,  1.64202275e+04,  1.47336877e+04, -4.88117033e+05,\n",
       "         2.76935787e+03, -3.61686213e+04,  1.73522041e+02, -3.52802888e+05,\n",
       "         4.22963518e+05, -6.51187090e+03,  1.09576932e+05, -1.70510066e+03,\n",
       "         1.69441996e+03,  6.14826201e+03,  8.17780399e+03, -1.91602094e+04,\n",
       "         8.12574856e+01, -2.18542015e+06,  1.13470860e+05,  9.52709759e+03,\n",
       "         8.59471690e+03, -1.52264141e+04, -3.73040803e+03,  1.71610605e+04,\n",
       "        -5.66885526e+03, -7.87813893e+01, -4.10572310e+05, -6.36489018e+04,\n",
       "         3.42274939e+02, -2.05510935e+04,  1.57748818e+03, -1.49311861e+04,\n",
       "         6.81569992e+04,  2.83931921e+02, -1.23731030e+05, -2.01465198e+05,\n",
       "        -6.39015966e+03,  8.33655755e+02,  8.19459982e+03,  7.52735769e+03,\n",
       "        -1.53390542e+01, -8.03816372e+05,  1.01371093e+03, -1.07489583e+04,\n",
       "        -1.50257480e+03,  1.63644969e+03, -1.24781718e+02,  1.87987837e+05,\n",
       "        -7.42677529e+05, -8.23093015e+03, -3.59213863e+02,  1.53844992e+01,\n",
       "         2.60632449e+06,  6.50068738e+05, -2.29516532e-04, -1.92023274e+02,\n",
       "        -1.27580768e+06, -1.42473945e+05, -1.54359559e+02,  9.31366954e+05,\n",
       "         2.07522377e+00, -5.69661278e+03,  1.30523791e+06, -2.50605777e+06,\n",
       "        -3.93523946e+07,  1.49076045e+07, -3.08666706e+06, -1.13013066e+07,\n",
       "         2.32501789e+07, -2.50031393e+06,  2.00057865e+07,  8.16871457e+06,\n",
       "         8.41283131e+05,  8.33008206e+06, -2.43955824e+07, -1.27209067e+06,\n",
       "         2.86166494e+07, -4.06920754e+06,  4.93163405e+06, -2.19255873e+07,\n",
       "         1.26444825e+07,  1.65616264e+07, -1.98350530e+05, -8.47085530e+07,\n",
       "        -2.82614790e+07,  1.71507746e+07,  3.94568469e+07,  6.32920184e+06,\n",
       "        -1.02616745e+06,  2.69151979e+07,  7.46011367e+06,  1.16195997e+07,\n",
       "        -3.11886644e+07,  1.76028090e+07, -1.02178875e+05,  8.53141413e+06,\n",
       "        -1.71993850e+06,  5.31824499e+05, -1.49995633e+07,  2.37497704e+07,\n",
       "         6.93509994e+05, -1.11926766e+06,  1.18525273e+07, -1.84072822e+07,\n",
       "        -1.73761959e+07,  3.50402319e+05, -3.09779454e+07, -9.73664807e+06,\n",
       "        -9.43884900e+06, -8.46084378e+06,  3.75308219e+07, -1.00007186e+06,\n",
       "         6.80542134e+06,  2.11025182e+06, -2.70353009e+07,  1.18706289e+03,\n",
       "        -1.26333183e+06,  8.30075880e+06, -2.76638306e+07, -3.52454068e+07,\n",
       "         2.70951361e+07,  4.22849271e+05,  8.59604739e+06, -2.65213077e+07,\n",
       "         7.82282926e+04, -2.18960586e+07,  1.90535654e+07,  1.44185900e+07,\n",
       "        -1.73016801e+07,  4.62235169e+06,  1.13455038e+05,  7.72700400e+06,\n",
       "        -8.32755346e+05,  4.51897403e-01,  4.69818605e+05,  1.40875124e+05,\n",
       "        -1.49071356e+05, -1.18275419e+06, -6.36489036e+04, -6.57864374e+04,\n",
       "         5.43451206e+06,  2.73841767e+06, -4.30510922e+06, -1.35127406e+07,\n",
       "        -2.82274401e+07, -2.01509047e+05,  2.97677206e+05,  6.33475191e+06,\n",
       "         1.82128616e+07,  4.19308115e+05, -1.41887270e+07,  4.95226714e+05,\n",
       "        -3.01000372e+06, -1.84999961e+06,  1.47154085e+07,  5.72635185e+06,\n",
       "        -7.42666567e+05,  2.08390023e+06, -2.17753407e+07, -8.20774585e-05,\n",
       "         6.49974153e+05,  6.71402154e+06,  3.34590445e+07, -1.42481551e+05,\n",
       "        -2.56389040e+06,  4.06611533e+05,  3.78068314e+06,  1.50330989e+07,\n",
       "         8.02330980e+06,  3.00597247e+06, -1.73556376e+07,  3.09427297e+07,\n",
       "        -5.27784493e+06,  3.58056847e+05,  3.88338337e+07,  2.37063610e+07,\n",
       "        -1.80913725e+07, -3.91377244e+07, -1.62977899e+06, -2.03578733e+05,\n",
       "         1.41887926e+07, -7.19027045e+05, -8.63496496e+06, -3.34652635e+06,\n",
       "        -3.19865593e+07,  1.57618736e+05,  1.47729309e+07, -5.30192333e+06,\n",
       "        -1.65910561e+06,  1.03002626e+07,  3.27374151e+06, -1.46879820e+06,\n",
       "         1.50432194e+06,  6.80542134e+06, -1.09229260e+06, -7.95584968e+05,\n",
       "         3.28409677e+05, -4.36567607e+07,  2.97004695e+07, -5.91805169e+06,\n",
       "        -4.13596797e+07,  4.64255069e+07, -3.52798405e+05,  5.31855882e+06,\n",
       "         8.59604739e+06, -5.02320770e+06,  1.34534644e+03,  1.49896318e+07,\n",
       "        -2.75809587e+07,  5.41997006e+07,  2.87308973e+07, -2.15053434e+07,\n",
       "        -2.18541215e+06,  1.28876885e+07,  7.72700400e+06,  2.70570485e+04,\n",
       "         2.17555738e+07,  1.74310591e+07, -5.11035262e+07,  8.88457420e+05,\n",
       "         6.07298078e+06, -4.10556300e+05,  6.83960691e+06, -6.57864471e+04,\n",
       "         1.50486897e-01,  8.14983817e+05, -1.43155060e+05,  3.94613189e+05,\n",
       "        -3.94107624e+05, -1.23731009e+05,  1.19458979e+05,  2.97677206e+05,\n",
       "         4.45098582e+07,  2.33458076e+07,  5.58972311e+06,  6.75733351e+07,\n",
       "        -8.03817053e+05,  3.41098441e+07, -1.79154548e+07,  1.46240508e+07,\n",
       "         2.12957773e+07,  3.57082170e+07,  1.88000416e+05,  1.26184429e+07,\n",
       "         2.08390023e+06,  7.69575835e+06,  5.60306949e+06,  2.60632301e+06,\n",
       "        -5.24075897e+06,  6.71402154e+06,  0.00000000e+00, -1.27577018e+06,\n",
       "        -1.14763601e+07, -2.56389040e+06,  9.31364408e+05, -9.22495447e+06,\n",
       "        -6.56650868e+03,  1.30523260e+06,  7.09873913e+06,  1.00023237e+06,\n",
       "         1.57991860e+07,  1.50479814e+07, -2.65231801e+07, -9.43919380e+03,\n",
       "        -3.97187052e+06, -5.93065118e+04,  1.21943441e+07, -1.32365700e+06,\n",
       "         6.37609107e+05,  1.55606270e+04, -1.50232750e+07, -1.59874242e+07,\n",
       "        -1.83340639e+07,  1.33733124e+07,  4.03964085e+04,  7.86014308e+06,\n",
       "         6.21452989e+06, -1.46563299e+07, -5.54031029e+06, -2.40795374e+05,\n",
       "         1.65562731e+04, -7.59057433e+06, -7.36414428e+06,  3.64260040e+07,\n",
       "         8.81288815e+02, -1.24157661e+07,  3.18438178e+06,  2.32630701e+07,\n",
       "        -9.95806717e+06, -2.23695461e+07, -3.59766245e+04,  5.63671073e+06,\n",
       "         6.15210216e+06,  5.23488073e+04,  2.45389477e+06,  2.10357940e+06,\n",
       "        -1.01958940e+06, -1.95594541e+06,  1.08537529e+07,  1.49809100e+04,\n",
       "         5.65545290e+06, -3.33346793e+04,  4.51407649e-01,  1.53694927e+05,\n",
       "        -9.61965347e+04, -6.03566372e+04, -7.32781340e+04, -2.75566320e+04,\n",
       "         5.29201730e+04, -1.29019904e+07, -2.82277226e+06, -1.64854879e+07,\n",
       "        -5.54943085e+06, -7.47052313e+06,  3.97092728e+04,  2.90128014e+07,\n",
       "        -4.56812660e+05,  1.95871993e+06, -1.03164406e+06, -1.69842115e+06,\n",
       "        -3.25079220e+04, -5.38624076e+06, -6.65437801e+06, -9.75592726e+06,\n",
       "        -2.27082994e+07,  2.42772241e+03,  7.21739833e+05,  1.71485751e+07,\n",
       "         0.00000000e+00,  7.18985735e+03,  2.93395714e+06, -3.97463453e+07,\n",
       "         4.33706517e+04, -2.98130675e+07,  6.51603441e+01,  5.06791886e+06,\n",
       "        -3.48940549e+06, -9.32270707e+06, -2.78793584e+06,  2.95014428e+06,\n",
       "         1.17521381e+05,  2.43492168e+07, -6.20329490e+06, -1.79290973e+06,\n",
       "         2.80914612e+07, -3.82837470e+07, -2.71139334e+04, -2.33251681e+06,\n",
       "        -2.78793584e+06, -1.10030896e+07,  1.52887069e+02, -3.47484531e+06,\n",
       "        -2.87846370e+06,  3.09125313e+06,  2.39750700e+07, -4.61695388e+06,\n",
       "         4.70288690e+04,  1.64581907e+06,  2.95014428e+06,  2.54927702e+04,\n",
       "         1.89378113e+06, -3.28480174e+05,  3.20833555e+04,  1.54459064e+07,\n",
       "         1.78660590e+06, -2.66069926e+04,  6.50061056e+06,  1.17521381e+05,\n",
       "         1.50462844e-01, -1.63365806e+05,  4.69583747e+04, -4.85796890e+04,\n",
       "        -1.37977871e+02,  2.89322517e+05,  1.09782327e+05,  2.43492168e+07,\n",
       "        -1.06619278e+07,  3.36662766e+06,  2.15039204e+07,  1.98368533e+07,\n",
       "        -3.27752725e+04,  1.00224063e+07,  8.95523588e+06, -2.41693619e+07,\n",
       "        -1.77681777e+07, -1.39553010e+07, -3.93448756e+04,  1.20687687e+07,\n",
       "        -1.79290973e+06, -4.57238264e+06,  9.91101767e+06,  1.50030440e+06,\n",
       "        -1.95204056e+06,  2.80914612e+07,  0.00000000e+00, -1.45730090e+04,\n",
       "         4.76034436e+05, -3.82837470e+07,  7.07855397e+04, -1.30393495e+07,\n",
       "        -2.32888759e+02,  9.21944050e+05,  4.41097880e+05,  3.40747691e+06,\n",
       "        -6.08785708e+06,  1.52887069e+02, -2.05254004e+06,  1.89464378e+06,\n",
       "         3.09125313e+06,  1.49933200e+07,  7.20800724e+06, -1.95543481e+06,\n",
       "         4.57683737e+06, -6.08785708e+06, -1.11457067e+02,  1.59109465e+07,\n",
       "         1.67920425e+07, -8.02648067e+06,  2.77623773e+07,  3.71670238e+07,\n",
       "         2.55352419e+04,  2.40720392e+06,  1.52887069e+02,  0.00000000e+00,\n",
       "         1.19245938e+03,  0.00000000e+00,  1.52887069e+02,  0.00000000e+00,\n",
       "        -3.41223170e+05,  2.88377123e+02, -2.05254004e+06,  5.32553204e+06,\n",
       "        -2.68375560e+07,  2.19947591e+07,  1.32314107e+06,  6.13449992e+03,\n",
       "         1.97400897e+06,  9.30678698e+06, -5.79816768e+06, -2.05341944e+07,\n",
       "         7.81371797e+06, -6.74493477e+03, -1.82955932e+07,  3.09125313e+06,\n",
       "         3.01163890e+06, -1.62158053e+07, -3.25816261e+04,  2.26843495e+07,\n",
       "         1.49933200e+07,  0.00000000e+00, -2.38385345e+04,  2.27537200e+07,\n",
       "         7.20800724e+06,  2.45884289e+04, -5.31988140e+06, -9.19817768e+01,\n",
       "         7.84364836e+06,  5.25649538e+06, -1.65668747e+07,  2.56976116e+04,\n",
       "         2.02761251e+07, -4.11711653e+07,  5.50441876e+06,  8.99065548e+06,\n",
       "        -1.51892257e+07, -3.12117033e+05,  3.57331038e+06,  2.56976116e+04,\n",
       "         0.00000000e+00, -3.47177829e+05,  0.00000000e+00, -3.74048104e+05,\n",
       "         4.31316915e+02, -2.62251996e+04,  8.81985572e+03,  2.02761251e+07,\n",
       "        -4.97374586e+06,  1.09869231e+07, -1.09293755e+07, -1.06993161e+07,\n",
       "        -3.74071590e+04,  1.37391557e+07,  6.37683835e+05,  1.02136938e+06,\n",
       "         7.45432122e+06,  5.26359252e+06,  4.41580444e+04, -5.93369532e+06,\n",
       "         5.50441876e+06, -6.80296928e+06,  1.77123547e+07,  1.50220622e+04,\n",
       "        -1.71291735e+07,  8.99065548e+06,  0.00000000e+00, -4.67360505e+04,\n",
       "         2.25459470e+07, -1.51892257e+07,  2.01673225e+04, -1.84038543e+06,\n",
       "         7.70969983e+01,  1.13694806e+06,  4.65311961e+06, -2.77244034e+05,\n",
       "         1.50462844e-01,  1.56894390e+05,  4.69583747e+04, -4.89441417e+04,\n",
       "        -3.94538941e+05, -6.56962618e+04, -2.17681919e+04,  1.50462844e-01,\n",
       "         0.00000000e+00,  1.50462844e-01,  1.50462844e-01,  0.00000000e+00,\n",
       "         1.14104715e+02,  5.01615941e-02, -4.11904638e+05,  4.69582242e+04,\n",
       "        -3.29328894e+05,  3.19984239e+05,  5.49659718e+04,  2.71709627e+05,\n",
       "         4.69583747e+04,  2.37071809e+05,  0.00000000e+00,  5.25790814e+02,\n",
       "        -4.77183532e+04, -4.89441417e+04,  0.00000000e+00,  4.63742086e+04,\n",
       "         1.31872213e+05, -3.94538941e+05, -1.95373420e+05, -1.31484226e+05,\n",
       "        -3.19626264e+02, -9.96821685e+04,  3.98824690e+04, -8.26174976e+06,\n",
       "         1.92897869e+06,  4.23908695e+05,  4.99961150e+05,  7.66798395e+06,\n",
       "        -5.14648646e+05,  2.33711690e+06, -1.00881885e+05,  5.67841933e+06,\n",
       "        -1.12244603e+06, -8.35008731e+05,  1.24848779e+04, -7.68965869e+07,\n",
       "         4.23908695e+05,  8.83442172e+06,  6.87754535e+06, -6.60074630e+03,\n",
       "         4.22369408e+06,  4.99961150e+05,  0.00000000e+00, -2.80254408e+04,\n",
       "         7.50444345e+07,  7.66798395e+06, -2.39521229e+04, -3.52623884e+07,\n",
       "         2.14037356e+01,  2.32984822e+06,  1.42162035e+07,  2.90488200e+05,\n",
       "        -5.13561944e+05, -5.07945371e+05,  2.84892841e+06, -2.17082955e+03,\n",
       "         4.95338087e+07, -2.41693619e+07, -4.63304199e+05, -1.59205652e+07,\n",
       "         3.75949209e+04, -1.82562679e+07,  6.41475058e+06,  0.00000000e+00,\n",
       "         6.28166156e+03, -5.10454628e+07,  2.72558858e+07, -2.46942680e+03,\n",
       "        -1.09125433e+08,  1.48831717e+02, -6.41715256e+05,  4.80965386e+06,\n",
       "         7.36706735e+05, -4.57238264e+06,  1.24406341e+07,  1.41545846e+06,\n",
       "         7.15276745e+05, -4.57238264e+06,  0.00000000e+00,  1.64304045e+04,\n",
       "        -1.29453693e+06,  1.24406341e+07, -1.05613863e+04,  9.87057944e+06,\n",
       "        -2.65847571e+01, -8.84440853e+06, -1.08647562e+06, -1.19937355e+07,\n",
       "         0.00000000e+00, -1.28282249e+06,  1.37910178e+06,  0.00000000e+00,\n",
       "         0.00000000e+00,  0.00000000e+00,  2.26527227e+02,  4.52713918e+06,\n",
       "        -3.06215391e+06,  2.95023293e+06,  6.38270108e+05, -1.13248037e+07,\n",
       "         1.80096897e+02, -3.04654040e+06, -9.89444238e+06, -1.93586311e+00,\n",
       "         1.09638171e+04, -3.88403901e+06,  2.69645279e+06]))"
      ]
     },
     "execution_count": 16,
     "metadata": {},
     "output_type": "execute_result"
    }
   ],
   "source": [
    "model = pipeline.steps[1][1]\n",
    "model.intercept_, model.coef_"
   ]
  },
  {
   "cell_type": "code",
   "execution_count": 17,
   "id": "df59bf6d",
   "metadata": {},
   "outputs": [],
   "source": [
    "X_train['predicted'] = pipeline.predict(X_train[predictors])\n",
    "X_test['predicted'] = pipeline.predict(X_test[predictors])"
   ]
  },
  {
   "cell_type": "markdown",
   "id": "ea69d975",
   "metadata": {},
   "source": [
    "#### plot predicted values"
   ]
  },
  {
   "cell_type": "code",
   "execution_count": 18,
   "id": "3b039cc0",
   "metadata": {},
   "outputs": [
    {
     "data": {
      "text/plain": [
       "Text(0.5, 1.0, 'test set')"
      ]
     },
     "execution_count": 18,
     "metadata": {},
     "output_type": "execute_result"
    },
    {
     "data": {
      "image/png": "[encoded data removed]",
      "text/plain": [
       "<Figure size 864x288 with 2 Axes>"
      ]
     },
     "metadata": {
      "needs_background": "light"
     },
     "output_type": "display_data"
    }
   ],
   "source": [
    "fig, axs = plt.subplots(1, 2, figsize = (12, 4))\n",
    "sns.lineplot(ax = axs[0], data = X_train[['price', 'predicted']].sort_values(by = 'price', ignore_index = True))\n",
    "axs[0].set_title('train set')\n",
    "sns.lineplot(ax = axs[1], data = X_test[['price', 'predicted']].sort_values(by = 'price', ignore_index = True))\n",
    "axs[1].set_title('test set')"
   ]
  },
  {
   "cell_type": "markdown",
   "id": "58291075",
   "metadata": {},
   "source": [
    "### +++ overfitting !!! +++"
   ]
  },
  {
   "cell_type": "code",
   "execution_count": 19,
   "id": "149bcafe",
   "metadata": {},
   "outputs": [
    {
     "name": "stdout",
     "output_type": "stream",
     "text": [
      "RMSE_train 161960.68$\n",
      "RSQR_train 0.9926\n"
     ]
    }
   ],
   "source": [
    "# error on train set\n",
    "print('RMSE_train %.2f$' %np.sqrt(mean_squared_error(X_train['price'], X_train['predicted'])))\n",
    "print('RSQR_train %.4f' %r2_score(X_train['price'], X_train['predicted']))"
   ]
  },
  {
   "cell_type": "markdown",
   "id": "e682dcb5",
   "metadata": {},
   "source": [
    "- with the training set the error with a 3 degree polynomial is lower then the error with a 2 degree polynomial (818978.04$), but ..."
   ]
  },
  {
   "cell_type": "code",
   "execution_count": 20,
   "id": "2693f3da",
   "metadata": {},
   "outputs": [
    {
     "name": "stdout",
     "output_type": "stream",
     "text": [
      "RMSE_test 501799471.43$\n",
      "RSQR_test -78782.9087\n"
     ]
    }
   ],
   "source": [
    "# error on test set\n",
    "print('RMSE_test %.2f$' %np.sqrt(mean_squared_error(X_test['price'], X_test['predicted'])))\n",
    "print('RSQR_test %.4f' %r2_score(X_test['price'], X_test['predicted']))"
   ]
  },
  {
   "cell_type": "markdown",
   "id": "8b1f5a2b",
   "metadata": {},
   "source": [
    "- ***with the test set the error is huge !!!***"
   ]
  },
  {
   "cell_type": "markdown",
   "id": "9eb0d4a7",
   "metadata": {},
   "source": [
    "##### visualize the magnitude of the error"
   ]
  },
  {
   "cell_type": "code",
   "execution_count": 21,
   "id": "d87a7e97",
   "metadata": {},
   "outputs": [
    {
     "data": {
      "text/plain": [
       "Text(0.5, 1.0, 'test set_lowerror')"
      ]
     },
     "execution_count": 21,
     "metadata": {},
     "output_type": "execute_result"
    },
    {
     "data": {
      "image/png": "[encoded data removed]",
      "text/plain": [
       "<Figure size 432x288 with 1 Axes>"
      ]
     },
     "metadata": {
      "needs_background": "light"
     },
     "output_type": "display_data"
    }
   ],
   "source": [
    "# discard test data with error > RMSE /1000\n",
    "mse = mean_squared_error(X_test['price'], X_test['predicted'])\n",
    "X_lowerr = X_test.loc[(X_test.price -X_test.predicted)**2 < mse /1000]\n",
    "sns.lineplot(data = X_lowerr[['price', 'predicted']].sort_values(by = 'price', ignore_index = True))\n",
    "axs[1].set_title('test set_lowerror')"
   ]
  }
 ],
 "metadata": {
  "kernelspec": {
   "display_name": "Python 3",
   "language": "python",
   "name": "python3"
  },
  "language_info": {
   "codemirror_mode": {
    "name": "ipython",
    "version": 3
   },
   "file_extension": ".py",
   "mimetype": "text/x-python",
   "name": "python",
   "nbconvert_exporter": "python",
   "pygments_lexer": "ipython3",
   "version": "3.9.13"
  }
 },
 "nbformat": 4,
 "nbformat_minor": 5
}
