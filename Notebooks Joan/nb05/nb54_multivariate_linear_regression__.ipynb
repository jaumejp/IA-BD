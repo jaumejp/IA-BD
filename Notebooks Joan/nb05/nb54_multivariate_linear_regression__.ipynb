{
 "cells": [
  {
   "cell_type": "markdown",
   "id": "02ac03af",
   "metadata": {},
   "source": [
    "### Multivariate Linear Regression"
   ]
  },
  {
   "cell_type": "code",
   "execution_count": 1,
   "id": "6982dafd",
   "metadata": {},
   "outputs": [],
   "source": [
    "import numpy as np\n",
    "import pandas as pd\n",
    "import matplotlib.pyplot as plt\n",
    "import seaborn as sns\n",
    "sns.set_theme()"
   ]
  },
  {
   "cell_type": "code",
   "execution_count": 2,
   "id": "b4ae342c",
   "metadata": {},
   "outputs": [],
   "source": [
    "from sklearn.model_selection import train_test_split\n",
    "from sklearn.linear_model import LinearRegression\n",
    "from sklearn.metrics import mean_squared_error, r2_score"
   ]
  },
  {
   "cell_type": "markdown",
   "id": "f1048bf6",
   "metadata": {},
   "source": [
    "#### Example: bivariate dataset\n",
    "\n",
    "- ice_cream sales as a function of temperature and humidity"
   ]
  },
  {
   "cell_type": "code",
   "execution_count": 3,
   "id": "83b67827",
   "metadata": {},
   "outputs": [
    {
     "data": {
      "text/plain": [
       "(44, 1.037191424, 1.271543234)"
      ]
     },
     "execution_count": 3,
     "metadata": {},
     "output_type": "execute_result"
    }
   ],
   "source": [
    "# coeficients\n",
    "b0 = 44 #np.random.randint(40, 50)\n",
    "b1 = 1.037191424 # np.abs(np.random.normal(0.5, 1.2))\n",
    "b2 = 1.271543234 # np.abs(np.random.normal(1, 1.2))\n",
    "# variables\n",
    "def value():\n",
    "    e0 = np.random.normal(0, 1)\n",
    "    t = np.random.normal(27, 4)\n",
    "    h = np.random.normal(50, 5)\n",
    "    v = b0 + e0 + b1 *t + b2 *h\n",
    "    return (t, h, v)\n",
    "b0, b1, b2"
   ]
  },
  {
   "cell_type": "code",
   "execution_count": 4,
   "id": "c738fc87",
   "metadata": {},
   "outputs": [],
   "source": [
    "ice_cream = pd.DataFrame([value() for i in range(400)], columns = ['temperature', 'humidity', 'sales'])"
   ]
  }
 ],
 "metadata": {
  "kernelspec": {
   "display_name": "Python 3 (ipykernel)",
   "language": "python",
   "name": "python3"
  },
  "language_info": {
   "codemirror_mode": {
    "name": "ipython",
    "version": 3
   },
   "file_extension": ".py",
   "mimetype": "text/x-python",
   "name": "python",
   "nbconvert_exporter": "python",
   "pygments_lexer": "ipython3",
   "version": "3.11.5"
  }
 },
 "nbformat": 4,
 "nbformat_minor": 5
}
