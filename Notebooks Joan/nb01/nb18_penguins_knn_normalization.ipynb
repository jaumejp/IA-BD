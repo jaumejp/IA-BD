{
 "cells": [
  {
   "cell_type": "markdown",
   "id": "c1b4c78f",
   "metadata": {},
   "source": [
    "### Penguins dataset: KNN with normalization"
   ]
  },
  {
   "cell_type": "code",
   "execution_count": 1,
   "id": "5388da75",
   "metadata": {},
   "outputs": [],
   "source": [
    "import numpy as np\n",
    "import pandas as pd\n",
    "import matplotlib.pyplot as plt\n",
    "from sklearn.model_selection import train_test_split"
   ]
  },
  {
   "cell_type": "code",
   "execution_count": 2,
   "id": "cf73df28",
   "metadata": {},
   "outputs": [],
   "source": [
    "import seaborn as sns\n",
    "df = sns.load_dataset(\"penguins\")"
   ]
  },
  {
   "cell_type": "code",
   "execution_count": 3,
   "id": "56d919ed",
   "metadata": {},
   "outputs": [
    {
     "name": "stdout",
     "output_type": "stream",
     "text": [
      "<class 'pandas.core.frame.DataFrame'>\n",
      "RangeIndex: 344 entries, 0 to 343\n",
      "Data columns (total 7 columns):\n",
      " #   Column             Non-Null Count  Dtype  \n",
      "---  ------             --------------  -----  \n",
      " 0   species            344 non-null    object \n",
      " 1   island             344 non-null    object \n",
      " 2   bill_length_mm     342 non-null    float64\n",
      " 3   bill_depth_mm      342 non-null    float64\n",
      " 4   flipper_length_mm  342 non-null    float64\n",
      " 5   body_mass_g        342 non-null    float64\n",
      " 6   sex                333 non-null    object \n",
      "dtypes: float64(4), object(3)\n",
      "memory usage: 18.9+ KB\n"
     ]
    }
   ],
   "source": [
    "df.info()"
   ]
  },
  {
   "cell_type": "markdown",
   "id": "71369a1e",
   "metadata": {},
   "source": [
    "#### prepare dataset"
   ]
  },
  {
   "cell_type": "code",
   "execution_count": 4,
   "id": "6b3ecc7a",
   "metadata": {},
   "outputs": [],
   "source": [
    "# drop NaNs\n",
    "df.drop(df[df.iloc[:, :-1].isna().any(axis = 1)].index, axis = 0, inplace = True)"
   ]
  },
  {
   "cell_type": "markdown",
   "id": "32cbba09",
   "metadata": {},
   "source": [
    "### normalize numerical features"
   ]
  },
  {
   "cell_type": "code",
   "execution_count": 5,
   "id": "b9859c0e",
   "metadata": {},
   "outputs": [
    {
     "data": {
      "text/html": [
       "<div>\n",
       "<style scoped>\n",
       "    .dataframe tbody tr th:only-of-type {\n",
       "        vertical-align: middle;\n",
       "    }\n",
       "\n",
       "    .dataframe tbody tr th {\n",
       "        vertical-align: top;\n",
       "    }\n",
       "\n",
       "    .dataframe thead th {\n",
       "        text-align: right;\n",
       "    }\n",
       "</style>\n",
       "<table border=\"1\" class=\"dataframe\">\n",
       "  <thead>\n",
       "    <tr style=\"text-align: right;\">\n",
       "      <th></th>\n",
       "      <th>species</th>\n",
       "      <th>island</th>\n",
       "      <th>bill_length_mm</th>\n",
       "      <th>bill_depth_mm</th>\n",
       "      <th>flipper_length_mm</th>\n",
       "      <th>body_mass_g</th>\n",
       "      <th>sex</th>\n",
       "    </tr>\n",
       "  </thead>\n",
       "  <tbody>\n",
       "    <tr>\n",
       "      <th>0</th>\n",
       "      <td>Adelie</td>\n",
       "      <td>Torgersen</td>\n",
       "      <td>0.254545</td>\n",
       "      <td>0.666667</td>\n",
       "      <td>0.152542</td>\n",
       "      <td>0.291667</td>\n",
       "      <td>Male</td>\n",
       "    </tr>\n",
       "    <tr>\n",
       "      <th>1</th>\n",
       "      <td>Adelie</td>\n",
       "      <td>Torgersen</td>\n",
       "      <td>0.269091</td>\n",
       "      <td>0.511905</td>\n",
       "      <td>0.237288</td>\n",
       "      <td>0.305556</td>\n",
       "      <td>Female</td>\n",
       "    </tr>\n",
       "    <tr>\n",
       "      <th>2</th>\n",
       "      <td>Adelie</td>\n",
       "      <td>Torgersen</td>\n",
       "      <td>0.298182</td>\n",
       "      <td>0.583333</td>\n",
       "      <td>0.389831</td>\n",
       "      <td>0.152778</td>\n",
       "      <td>Female</td>\n",
       "    </tr>\n",
       "  </tbody>\n",
       "</table>\n",
       "</div>"
      ],
      "text/plain": [
       "  species     island  bill_length_mm  bill_depth_mm  flipper_length_mm  \\\n",
       "0  Adelie  Torgersen        0.254545       0.666667           0.152542   \n",
       "1  Adelie  Torgersen        0.269091       0.511905           0.237288   \n",
       "2  Adelie  Torgersen        0.298182       0.583333           0.389831   \n",
       "\n",
       "   body_mass_g     sex  \n",
       "0     0.291667    Male  \n",
       "1     0.305556  Female  \n",
       "2     0.152778  Female  "
      ]
     },
     "execution_count": 5,
     "metadata": {},
     "output_type": "execute_result"
    }
   ],
   "source": [
    "df = df.apply(lambda col: col if col.dtype != 'float' else (col -col.min()) /(col.max() -col.min()))\n",
    "df.head(3)"
   ]
  },
  {
   "cell_type": "markdown",
   "id": "e528cabd",
   "metadata": {},
   "source": [
    "#### infer sex for rows where sex is NaN"
   ]
  },
  {
   "cell_type": "code",
   "execution_count": 6,
   "id": "a3309875",
   "metadata": {},
   "outputs": [
    {
     "data": {
      "text/html": [
       "<div>\n",
       "<style scoped>\n",
       "    .dataframe tbody tr th:only-of-type {\n",
       "        vertical-align: middle;\n",
       "    }\n",
       "\n",
       "    .dataframe tbody tr th {\n",
       "        vertical-align: top;\n",
       "    }\n",
       "\n",
       "    .dataframe thead th {\n",
       "        text-align: right;\n",
       "    }\n",
       "</style>\n",
       "<table border=\"1\" class=\"dataframe\">\n",
       "  <thead>\n",
       "    <tr style=\"text-align: right;\">\n",
       "      <th></th>\n",
       "      <th>bill_length_mm</th>\n",
       "      <th>bill_depth_mm</th>\n",
       "      <th>flipper_length_mm</th>\n",
       "      <th>body_mass_g</th>\n",
       "      <th>sex</th>\n",
       "      <th>species_Adelie</th>\n",
       "      <th>species_Chinstrap</th>\n",
       "      <th>species_Gentoo</th>\n",
       "      <th>island_Biscoe</th>\n",
       "      <th>island_Dream</th>\n",
       "      <th>island_Torgersen</th>\n",
       "    </tr>\n",
       "  </thead>\n",
       "  <tbody>\n",
       "    <tr>\n",
       "      <th>0</th>\n",
       "      <td>0.254545</td>\n",
       "      <td>0.666667</td>\n",
       "      <td>0.152542</td>\n",
       "      <td>0.291667</td>\n",
       "      <td>Male</td>\n",
       "      <td>1</td>\n",
       "      <td>0</td>\n",
       "      <td>0</td>\n",
       "      <td>0</td>\n",
       "      <td>0</td>\n",
       "      <td>1</td>\n",
       "    </tr>\n",
       "    <tr>\n",
       "      <th>1</th>\n",
       "      <td>0.269091</td>\n",
       "      <td>0.511905</td>\n",
       "      <td>0.237288</td>\n",
       "      <td>0.305556</td>\n",
       "      <td>Female</td>\n",
       "      <td>1</td>\n",
       "      <td>0</td>\n",
       "      <td>0</td>\n",
       "      <td>0</td>\n",
       "      <td>0</td>\n",
       "      <td>1</td>\n",
       "    </tr>\n",
       "    <tr>\n",
       "      <th>2</th>\n",
       "      <td>0.298182</td>\n",
       "      <td>0.583333</td>\n",
       "      <td>0.389831</td>\n",
       "      <td>0.152778</td>\n",
       "      <td>Female</td>\n",
       "      <td>1</td>\n",
       "      <td>0</td>\n",
       "      <td>0</td>\n",
       "      <td>0</td>\n",
       "      <td>0</td>\n",
       "      <td>1</td>\n",
       "    </tr>\n",
       "  </tbody>\n",
       "</table>\n",
       "</div>"
      ],
      "text/plain": [
       "   bill_length_mm  bill_depth_mm  flipper_length_mm  body_mass_g     sex  \\\n",
       "0        0.254545       0.666667           0.152542     0.291667    Male   \n",
       "1        0.269091       0.511905           0.237288     0.305556  Female   \n",
       "2        0.298182       0.583333           0.389831     0.152778  Female   \n",
       "\n",
       "   species_Adelie  species_Chinstrap  species_Gentoo  island_Biscoe  \\\n",
       "0               1                  0               0              0   \n",
       "1               1                  0               0              0   \n",
       "2               1                  0               0              0   \n",
       "\n",
       "   island_Dream  island_Torgersen  \n",
       "0             0                 1  \n",
       "1             0                 1  \n",
       "2             0                 1  "
      ]
     },
     "execution_count": 6,
     "metadata": {},
     "output_type": "execute_result"
    }
   ],
   "source": [
    "# get dummies dataframe\n",
    "df_dumm = pd.get_dummies(df, columns = ['species', 'island'])\n",
    "df_dumm.head(3)"
   ]
  },
  {
   "cell_type": "code",
   "execution_count": 7,
   "id": "e3628b15",
   "metadata": {},
   "outputs": [],
   "source": [
    "# reference dataframe\n",
    "X_train = df_dumm[df_dumm.sex.notna()].reset_index(drop = True)\n",
    "# reference matrix, remove non-numerical columns (i.e. 'sex')\n",
    "X = X_train.loc[:, df_dumm.dtypes != 'object'].to_numpy()"
   ]
  },
  {
   "cell_type": "code",
   "execution_count": 8,
   "id": "eecacca1",
   "metadata": {},
   "outputs": [],
   "source": [
    "# inference function\n",
    "def inferSex_(row):\n",
    "    x = row.to_numpy()\n",
    "    nnx = np.argmin(np.sum((x -X)**2, axis = 1))\n",
    "    return X_train.sex.loc[nnx]"
   ]
  },
  {
   "cell_type": "code",
   "execution_count": 9,
   "id": "b939aa57",
   "metadata": {},
   "outputs": [],
   "source": [
    "df['sex_'] = df_dumm.loc[:, df_dumm.dtypes != 'object'].apply(inferSex_, axis = 1)"
   ]
  },
  {
   "cell_type": "code",
   "execution_count": 10,
   "id": "fce20dfb",
   "metadata": {},
   "outputs": [
    {
     "data": {
      "text/html": [
       "<div>\n",
       "<style scoped>\n",
       "    .dataframe tbody tr th:only-of-type {\n",
       "        vertical-align: middle;\n",
       "    }\n",
       "\n",
       "    .dataframe tbody tr th {\n",
       "        vertical-align: top;\n",
       "    }\n",
       "\n",
       "    .dataframe thead th {\n",
       "        text-align: right;\n",
       "    }\n",
       "</style>\n",
       "<table border=\"1\" class=\"dataframe\">\n",
       "  <thead>\n",
       "    <tr style=\"text-align: right;\">\n",
       "      <th></th>\n",
       "      <th>species</th>\n",
       "      <th>island</th>\n",
       "      <th>bill_length_mm</th>\n",
       "      <th>bill_depth_mm</th>\n",
       "      <th>flipper_length_mm</th>\n",
       "      <th>body_mass_g</th>\n",
       "      <th>sex</th>\n",
       "      <th>sex_</th>\n",
       "    </tr>\n",
       "  </thead>\n",
       "  <tbody>\n",
       "    <tr>\n",
       "      <th>8</th>\n",
       "      <td>Adelie</td>\n",
       "      <td>Torgersen</td>\n",
       "      <td>0.072727</td>\n",
       "      <td>0.595238</td>\n",
       "      <td>0.355932</td>\n",
       "      <td>0.215278</td>\n",
       "      <td>NaN</td>\n",
       "      <td>Female</td>\n",
       "    </tr>\n",
       "    <tr>\n",
       "      <th>9</th>\n",
       "      <td>Adelie</td>\n",
       "      <td>Torgersen</td>\n",
       "      <td>0.360000</td>\n",
       "      <td>0.845238</td>\n",
       "      <td>0.305085</td>\n",
       "      <td>0.430556</td>\n",
       "      <td>NaN</td>\n",
       "      <td>Male</td>\n",
       "    </tr>\n",
       "    <tr>\n",
       "      <th>10</th>\n",
       "      <td>Adelie</td>\n",
       "      <td>Torgersen</td>\n",
       "      <td>0.207273</td>\n",
       "      <td>0.476190</td>\n",
       "      <td>0.237288</td>\n",
       "      <td>0.166667</td>\n",
       "      <td>NaN</td>\n",
       "      <td>Female</td>\n",
       "    </tr>\n",
       "    <tr>\n",
       "      <th>11</th>\n",
       "      <td>Adelie</td>\n",
       "      <td>Torgersen</td>\n",
       "      <td>0.207273</td>\n",
       "      <td>0.500000</td>\n",
       "      <td>0.135593</td>\n",
       "      <td>0.277778</td>\n",
       "      <td>NaN</td>\n",
       "      <td>Female</td>\n",
       "    </tr>\n",
       "    <tr>\n",
       "      <th>47</th>\n",
       "      <td>Adelie</td>\n",
       "      <td>Dream</td>\n",
       "      <td>0.196364</td>\n",
       "      <td>0.690476</td>\n",
       "      <td>0.118644</td>\n",
       "      <td>0.076389</td>\n",
       "      <td>NaN</td>\n",
       "      <td>Female</td>\n",
       "    </tr>\n",
       "    <tr>\n",
       "      <th>246</th>\n",
       "      <td>Gentoo</td>\n",
       "      <td>Biscoe</td>\n",
       "      <td>0.450909</td>\n",
       "      <td>0.142857</td>\n",
       "      <td>0.745763</td>\n",
       "      <td>0.388889</td>\n",
       "      <td>NaN</td>\n",
       "      <td>Female</td>\n",
       "    </tr>\n",
       "    <tr>\n",
       "      <th>286</th>\n",
       "      <td>Gentoo</td>\n",
       "      <td>Biscoe</td>\n",
       "      <td>0.512727</td>\n",
       "      <td>0.154762</td>\n",
       "      <td>0.711864</td>\n",
       "      <td>0.541667</td>\n",
       "      <td>NaN</td>\n",
       "      <td>Female</td>\n",
       "    </tr>\n",
       "    <tr>\n",
       "      <th>324</th>\n",
       "      <td>Gentoo</td>\n",
       "      <td>Biscoe</td>\n",
       "      <td>0.552727</td>\n",
       "      <td>0.083333</td>\n",
       "      <td>0.745763</td>\n",
       "      <td>0.562500</td>\n",
       "      <td>NaN</td>\n",
       "      <td>Female</td>\n",
       "    </tr>\n",
       "    <tr>\n",
       "      <th>336</th>\n",
       "      <td>Gentoo</td>\n",
       "      <td>Biscoe</td>\n",
       "      <td>0.450909</td>\n",
       "      <td>0.309524</td>\n",
       "      <td>0.762712</td>\n",
       "      <td>0.604167</td>\n",
       "      <td>NaN</td>\n",
       "      <td>Male</td>\n",
       "    </tr>\n",
       "  </tbody>\n",
       "</table>\n",
       "</div>"
      ],
      "text/plain": [
       "    species     island  bill_length_mm  bill_depth_mm  flipper_length_mm  \\\n",
       "8    Adelie  Torgersen        0.072727       0.595238           0.355932   \n",
       "9    Adelie  Torgersen        0.360000       0.845238           0.305085   \n",
       "10   Adelie  Torgersen        0.207273       0.476190           0.237288   \n",
       "11   Adelie  Torgersen        0.207273       0.500000           0.135593   \n",
       "47   Adelie      Dream        0.196364       0.690476           0.118644   \n",
       "246  Gentoo     Biscoe        0.450909       0.142857           0.745763   \n",
       "286  Gentoo     Biscoe        0.512727       0.154762           0.711864   \n",
       "324  Gentoo     Biscoe        0.552727       0.083333           0.745763   \n",
       "336  Gentoo     Biscoe        0.450909       0.309524           0.762712   \n",
       "\n",
       "     body_mass_g  sex    sex_  \n",
       "8       0.215278  NaN  Female  \n",
       "9       0.430556  NaN    Male  \n",
       "10      0.166667  NaN  Female  \n",
       "11      0.277778  NaN  Female  \n",
       "47      0.076389  NaN  Female  \n",
       "246     0.388889  NaN  Female  \n",
       "286     0.541667  NaN  Female  \n",
       "324     0.562500  NaN  Female  \n",
       "336     0.604167  NaN    Male  "
      ]
     },
     "execution_count": 10,
     "metadata": {},
     "output_type": "execute_result"
    }
   ],
   "source": [
    "df.loc[df.sex != df.sex_]"
   ]
  },
  {
   "cell_type": "markdown",
   "id": "ebe66080",
   "metadata": {},
   "source": [
    "###  make inference using all available information"
   ]
  },
  {
   "cell_type": "markdown",
   "id": "e2f58fae",
   "metadata": {},
   "source": [
    "#### train/test split"
   ]
  },
  {
   "cell_type": "code",
   "execution_count": 11,
   "id": "b829bf6e",
   "metadata": {},
   "outputs": [],
   "source": [
    "Y_train, Y_test = train_test_split(df.drop('sex', axis = 1), test_size = 0.2, random_state = 2873)"
   ]
  },
  {
   "cell_type": "markdown",
   "id": "c855336f",
   "metadata": {},
   "source": [
    "#### define inference function"
   ]
  },
  {
   "cell_type": "code",
   "execution_count": 12,
   "id": "19728094",
   "metadata": {},
   "outputs": [],
   "source": [
    "def infer_(row, Y, predict, k = 5):\n",
    "    y = row.to_numpy(dtype = 'float')\n",
    "    Y_train['d2x'] = np.sqrt(np.sum((y -Y)**2, axis = 1))\n",
    "    return Y_train.sort_values(by = 'd2x')[:k][predict].value_counts().index[0]"
   ]
  },
  {
   "cell_type": "markdown",
   "id": "1490109a",
   "metadata": {},
   "source": [
    "#### classify"
   ]
  },
  {
   "cell_type": "code",
   "execution_count": 13,
   "id": "204971c8",
   "metadata": {},
   "outputs": [
    {
     "data": {
      "text/plain": [
       "species    predicted\n",
       "Adelie     Adelie       35\n",
       "Chinstrap  Chinstrap     9\n",
       "Gentoo     Gentoo       25\n",
       "Name: predicted, dtype: int64"
      ]
     },
     "execution_count": 13,
     "metadata": {},
     "output_type": "execute_result"
    }
   ],
   "source": [
    "# select attribute to predict\n",
    "predict = 'species'\n",
    "# reference matrix\n",
    "Y = pd.get_dummies(Y_train.drop(predict, axis = 1)).to_numpy()\n",
    "# test data frame\n",
    "test = pd.get_dummies(Y_test.drop(predict, axis = 1))\n",
    "# run inference function over the test set\n",
    "Y_test['predicted'] = test.apply(lambda row: infer_(row, Y, predict, k = 5), axis = 1)\n",
    "# show result\n",
    "Y_test.groupby(predict).predicted.value_counts()"
   ]
  },
  {
   "cell_type": "code",
   "execution_count": 14,
   "id": "49df7f4b",
   "metadata": {},
   "outputs": [],
   "source": [
    "# clean previous prediction\n",
    "Y_train.drop('d2x', axis = 1, inplace = True)\n",
    "Y_test.drop('predicted', axis = 1, inplace = True)"
   ]
  },
  {
   "cell_type": "code",
   "execution_count": 15,
   "id": "ca7200d2",
   "metadata": {},
   "outputs": [
    {
     "data": {
      "text/plain": [
       "island     predicted\n",
       "Biscoe     Biscoe       26\n",
       "           Torgersen     6\n",
       "           Dream         4\n",
       "Dream      Dream        15\n",
       "           Biscoe        4\n",
       "           Torgersen     1\n",
       "Torgersen  Torgersen     6\n",
       "           Dream         5\n",
       "           Biscoe        2\n",
       "Name: predicted, dtype: int64"
      ]
     },
     "execution_count": 15,
     "metadata": {},
     "output_type": "execute_result"
    }
   ],
   "source": [
    "# select attribute to predict\n",
    "predict = 'island'\n",
    "# reference matrix\n",
    "Y = pd.get_dummies(Y_train.drop(predict, axis = 1)).to_numpy()\n",
    "# test data frame\n",
    "test = pd.get_dummies(Y_test.drop(predict, axis = 1))\n",
    "# run inference function over the test set\n",
    "Y_test['predicted'] = test.apply(lambda row: infer_(row, Y, predict, k = 5), axis = 1)\n",
    "# show result\n",
    "Y_test.groupby(predict).predicted.value_counts()"
   ]
  },
  {
   "cell_type": "code",
   "execution_count": 16,
   "id": "f041730e",
   "metadata": {},
   "outputs": [],
   "source": [
    "# clean previous prediction\n",
    "Y_train.drop('d2x', axis = 1, inplace = True)\n",
    "Y_test.drop('predicted', axis = 1, inplace = True)"
   ]
  },
  {
   "cell_type": "code",
   "execution_count": 17,
   "id": "e1875dcd",
   "metadata": {},
   "outputs": [
    {
     "data": {
      "text/plain": [
       "sex_    predicted\n",
       "Female  Female       27\n",
       "        Male          4\n",
       "Male    Male         35\n",
       "        Female        3\n",
       "Name: predicted, dtype: int64"
      ]
     },
     "execution_count": 17,
     "metadata": {},
     "output_type": "execute_result"
    }
   ],
   "source": [
    "# select attribute to predict\n",
    "predict = 'sex_'\n",
    "# reference matrix\n",
    "Y = pd.get_dummies(Y_train.drop(predict, axis = 1)).to_numpy()\n",
    "# test data frame\n",
    "test = pd.get_dummies(Y_test.drop(predict, axis = 1))\n",
    "# run inference function over the test set\n",
    "Y_test['predicted'] = test.apply(lambda row: infer_(row, Y, predict, k = 5), axis = 1)\n",
    "# show result\n",
    "Y_test.groupby(predict).predicted.value_counts()"
   ]
  }
 ],
 "metadata": {
  "kernelspec": {
   "display_name": "Python 3 (ipykernel)",
   "language": "python",
   "name": "python3"
  },
  "language_info": {
   "codemirror_mode": {
    "name": "ipython",
    "version": 3
   },
   "file_extension": ".py",
   "mimetype": "text/x-python",
   "name": "python",
   "nbconvert_exporter": "python",
   "pygments_lexer": "ipython3",
   "version": "3.11.5"
  }
 },
 "nbformat": 4,
 "nbformat_minor": 5
}
