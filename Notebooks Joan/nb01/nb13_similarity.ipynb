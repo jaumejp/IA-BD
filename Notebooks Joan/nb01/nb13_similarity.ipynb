{
 "cells": [
  {
   "cell_type": "markdown",
   "id": "11fccd1f",
   "metadata": {},
   "source": [
    "### Similarity and Nearest Neighbor (NN)"
   ]
  },
  {
   "cell_type": "code",
   "execution_count": 1,
   "id": "cb5064e2",
   "metadata": {},
   "outputs": [],
   "source": [
    "import numpy as np\n",
    "import pandas as pd\n",
    "import matplotlib.pyplot as plt\n",
    "import seaborn as sns"
   ]
  },
  {
   "cell_type": "code",
   "execution_count": 2,
   "id": "7134f80e",
   "metadata": {},
   "outputs": [
    {
     "data": {
      "text/html": [
       "<div>\n",
       "<style scoped>\n",
       "    .dataframe tbody tr th:only-of-type {\n",
       "        vertical-align: middle;\n",
       "    }\n",
       "\n",
       "    .dataframe tbody tr th {\n",
       "        vertical-align: top;\n",
       "    }\n",
       "\n",
       "    .dataframe thead th {\n",
       "        text-align: right;\n",
       "    }\n",
       "</style>\n",
       "<table border=\"1\" class=\"dataframe\">\n",
       "  <thead>\n",
       "    <tr style=\"text-align: right;\">\n",
       "      <th></th>\n",
       "      <th>sepal_length</th>\n",
       "      <th>sepal_width</th>\n",
       "      <th>petal_length</th>\n",
       "      <th>petal_width</th>\n",
       "      <th>species</th>\n",
       "    </tr>\n",
       "  </thead>\n",
       "  <tbody>\n",
       "    <tr>\n",
       "      <th>0</th>\n",
       "      <td>5.1</td>\n",
       "      <td>3.5</td>\n",
       "      <td>1.4</td>\n",
       "      <td>0.2</td>\n",
       "      <td>setosa</td>\n",
       "    </tr>\n",
       "    <tr>\n",
       "      <th>1</th>\n",
       "      <td>4.9</td>\n",
       "      <td>3.0</td>\n",
       "      <td>1.4</td>\n",
       "      <td>0.2</td>\n",
       "      <td>setosa</td>\n",
       "    </tr>\n",
       "    <tr>\n",
       "      <th>2</th>\n",
       "      <td>4.7</td>\n",
       "      <td>3.2</td>\n",
       "      <td>1.3</td>\n",
       "      <td>0.2</td>\n",
       "      <td>setosa</td>\n",
       "    </tr>\n",
       "  </tbody>\n",
       "</table>\n",
       "</div>"
      ],
      "text/plain": [
       "   sepal_length  sepal_width  petal_length  petal_width species\n",
       "0           5.1          3.5           1.4          0.2  setosa\n",
       "1           4.9          3.0           1.4          0.2  setosa\n",
       "2           4.7          3.2           1.3          0.2  setosa"
      ]
     },
     "execution_count": 2,
     "metadata": {},
     "output_type": "execute_result"
    }
   ],
   "source": [
    "iris = sns.load_dataset('iris')\n",
    "iris.head(3)"
   ]
  },
  {
   "cell_type": "markdown",
   "id": "237bd718",
   "metadata": {},
   "source": [
    "### Similarity\n",
    "\n",
    "***The distance between two vectors is a measure of how similar are the corresponding data points.***\n",
    "- this is the basis for the nearest neighbors based algorithms"
   ]
  },
  {
   "cell_type": "markdown",
   "id": "0cc90722",
   "metadata": {},
   "source": [
    " - let's pick two datapoints from the iris dataset"
   ]
  },
  {
   "cell_type": "code",
   "execution_count": 3,
   "id": "7b1be7f9",
   "metadata": {},
   "outputs": [
    {
     "data": {
      "text/html": [
       "<div>\n",
       "<style scoped>\n",
       "    .dataframe tbody tr th:only-of-type {\n",
       "        vertical-align: middle;\n",
       "    }\n",
       "\n",
       "    .dataframe tbody tr th {\n",
       "        vertical-align: top;\n",
       "    }\n",
       "\n",
       "    .dataframe thead th {\n",
       "        text-align: right;\n",
       "    }\n",
       "</style>\n",
       "<table border=\"1\" class=\"dataframe\">\n",
       "  <thead>\n",
       "    <tr style=\"text-align: right;\">\n",
       "      <th></th>\n",
       "      <th>sepal_length</th>\n",
       "      <th>sepal_width</th>\n",
       "      <th>petal_length</th>\n",
       "      <th>petal_width</th>\n",
       "      <th>species</th>\n",
       "    </tr>\n",
       "  </thead>\n",
       "  <tbody>\n",
       "    <tr>\n",
       "      <th>15</th>\n",
       "      <td>5.7</td>\n",
       "      <td>4.4</td>\n",
       "      <td>1.5</td>\n",
       "      <td>0.4</td>\n",
       "      <td>setosa</td>\n",
       "    </tr>\n",
       "    <tr>\n",
       "      <th>106</th>\n",
       "      <td>4.9</td>\n",
       "      <td>2.5</td>\n",
       "      <td>4.5</td>\n",
       "      <td>1.7</td>\n",
       "      <td>virginica</td>\n",
       "    </tr>\n",
       "  </tbody>\n",
       "</table>\n",
       "</div>"
      ],
      "text/plain": [
       "     sepal_length  sepal_width  petal_length  petal_width    species\n",
       "15            5.7          4.4           1.5          0.4     setosa\n",
       "106           4.9          2.5           4.5          1.7  virginica"
      ]
     },
     "execution_count": 3,
     "metadata": {},
     "output_type": "execute_result"
    }
   ],
   "source": [
    "iris.iloc[[15, 106]]"
   ]
  },
  {
   "cell_type": "markdown",
   "id": "5904d8e1",
   "metadata": {},
   "source": [
    "- these two datapoints are represented by two 4-dimensional vectors"
   ]
  },
  {
   "cell_type": "code",
   "execution_count": 4,
   "id": "bfc1f22a",
   "metadata": {},
   "outputs": [
    {
     "data": {
      "text/plain": [
       "array([[5.7, 4.4, 1.5, 0.4],\n",
       "       [4.9, 2.5, 4.5, 1.7]])"
      ]
     },
     "execution_count": 4,
     "metadata": {},
     "output_type": "execute_result"
    }
   ],
   "source": [
    "U = iris.iloc[15, :-1].to_numpy(dtype = 'float')\n",
    "V = iris.iloc[106, :-1].to_numpy(dtype = 'float')\n",
    "np.array([U, V])"
   ]
  },
  {
   "cell_type": "markdown",
   "id": "099c7532",
   "metadata": {},
   "source": [
    "#### example 1. \n",
    "find the most similar datapoint to $\\vec{U}=$ iris.iloc[15]"
   ]
  },
  {
   "cell_type": "code",
   "execution_count": 5,
   "id": "23f7ba31",
   "metadata": {},
   "outputs": [],
   "source": [
    "# build the vector matrix of the iris dataset\n",
    "I = iris.iloc[:, :-1].to_numpy(dtype = 'float')"
   ]
  },
  {
   "cell_type": "code",
   "execution_count": 6,
   "id": "52cc6dba",
   "metadata": {},
   "outputs": [],
   "source": [
    "# find distance of all vetors to U\n",
    "distances_to_U = np.sqrt(np.sum((U -I)**2, axis = 1))"
   ]
  },
  {
   "cell_type": "code",
   "execution_count": 7,
   "id": "f1248bea",
   "metadata": {},
   "outputs": [
    {
     "name": "stdout",
     "output_type": "stream",
     "text": [
      "the closest datapoint is 15 at a distance of 0.0000\n",
      "vector U    : [5.7 4.4 1.5 0.4]\n",
      "vector I[15]: [5.7 4.4 1.5 0.4 'setosa']\n",
      "obviously, the closest datapoint to U is itself\n"
     ]
    }
   ],
   "source": [
    "# find closest datapoint\n",
    "closest_to_U = np.argmin(distances_to_U)\n",
    "print('the closest datapoint is %d at a distance of %6.4f' %(closest_to_U, distances_to_U[closest_to_U]))\n",
    "print('vector U    : %s' %U)\n",
    "print('vector I[%d]: %s' %(closest_to_U, iris.iloc[closest_to_U].to_numpy()))\n",
    "print('obviously, the closest datapoint to U is itself')"
   ]
  },
  {
   "cell_type": "markdown",
   "id": "1bd658b6",
   "metadata": {},
   "source": [
    "#### example 2. \n",
    "find the most similar datapoint to $\\vec{U}=$ iris.iloc[15], excluding itself"
   ]
  },
  {
   "cell_type": "code",
   "execution_count": 8,
   "id": "f4c4a3eb",
   "metadata": {},
   "outputs": [],
   "source": [
    "# build the vector matrix of the iris dataset excluding datapoint 15\n",
    "J = iris.drop(15, axis = 0).iloc[:, :-1].to_numpy(dtype = 'float')"
   ]
  },
  {
   "cell_type": "code",
   "execution_count": 9,
   "id": "d5853c88",
   "metadata": {},
   "outputs": [],
   "source": [
    "# find distance of all vetors to U\n",
    "d2U = np.sqrt(np.sum((U -J)**2, axis = 1))"
   ]
  },
  {
   "cell_type": "code",
   "execution_count": 10,
   "id": "98fa3991",
   "metadata": {},
   "outputs": [
    {
     "name": "stdout",
     "output_type": "stream",
     "text": [
      "nearest neighbor of U is datapoint 15 at a distance of 0.6164\n",
      "vector U    : [5.7 4.4 1.5 0.4]\n",
      "vector J[15]: [5.4 3.9 1.3 0.4]\n",
      "nearest neighbor of U belongs to class ... setosa\n"
     ]
    }
   ],
   "source": [
    "# find the nearest neighbor\n",
    "nnU = np.argmin(distances_to_U)\n",
    "NNU = iris.drop(15, axis = 0).iloc[nnU].to_numpy()\n",
    "print('nearest neighbor of U is datapoint %d at a distance of %6.4f' %(nnU, d2U[nnU]))\n",
    "print('vector U    : %s' %U)\n",
    "print('vector J[%d]: %s' %(nnU, NNU[ :-1]))\n",
    "print('nearest neighbor of U belongs to class ... %s' %NNU[-1])"
   ]
  },
  {
   "cell_type": "markdown",
   "id": "2e7b67c1",
   "metadata": {},
   "source": [
    "#### example 3. \n",
    "find the most similar datapoint to a new random observation"
   ]
  },
  {
   "cell_type": "code",
   "execution_count": 11,
   "id": "0c86343c",
   "metadata": {},
   "outputs": [],
   "source": [
    "# get new random vetor\n",
    "def new_vector(series):\n",
    "    if series.dtype == 'float64':\n",
    "        return series.min() +np.random.rand() *(series.max() -series.min())"
   ]
  },
  {
   "cell_type": "code",
   "execution_count": 12,
   "id": "219c5482",
   "metadata": {},
   "outputs": [
    {
     "data": {
      "text/plain": [
       "sepal_length    6.346408\n",
       "sepal_width     4.310430\n",
       "petal_length    4.061999\n",
       "petal_width     1.008278\n",
       "species              NaN\n",
       "dtype: float64"
      ]
     },
     "execution_count": 12,
     "metadata": {},
     "output_type": "execute_result"
    }
   ],
   "source": [
    "# define new random observation\n",
    "iris.apply(new_vector, axis = 0)"
   ]
  },
  {
   "cell_type": "code",
   "execution_count": 13,
   "id": "1f5a8f64",
   "metadata": {},
   "outputs": [
    {
     "name": "stdout",
     "output_type": "stream",
     "text": [
      "vector X    : [4.7 3.2 4.8 0.7]\n",
      "NNX is I[84]: [5.4 3.0 4.5 1.5]\n",
      "NNX belongs to class ... versicolor\n"
     ]
    }
   ],
   "source": [
    "# get new observation\n",
    "X = iris.apply(new_vector, axis = 0)[:-1].to_numpy()\n",
    "# find the nearest neighbor to unknown observation\n",
    "nnX = np.argmin(np.sqrt(np.sum((X -I)**2, axis = 1)))\n",
    "NNX = iris.iloc[nnX]\n",
    "print('vector X    : %s' %np.round(X, 1))\n",
    "print('NNX is I[%d]: %s' %(nnX, iris.iloc[nnX].to_numpy()[:-1]))\n",
    "print('NNX belongs to class ... %s' %NNX[-1])"
   ]
  }
 ],
 "metadata": {
  "kernelspec": {
   "display_name": "Python 3",
   "language": "python",
   "name": "python3"
  },
  "language_info": {
   "codemirror_mode": {
    "name": "ipython",
    "version": 3
   },
   "file_extension": ".py",
   "mimetype": "text/x-python",
   "name": "python",
   "nbconvert_exporter": "python",
   "pygments_lexer": "ipython3",
   "version": "3.9.13"
  }
 },
 "nbformat": 4,
 "nbformat_minor": 5
}
