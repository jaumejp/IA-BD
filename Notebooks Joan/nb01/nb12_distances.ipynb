{
 "cells": [
  {
   "cell_type": "markdown",
   "id": "11fccd1f",
   "metadata": {},
   "source": [
    "### Operating with vectors. Distances"
   ]
  },
  {
   "cell_type": "markdown",
   "id": "257e5c72",
   "metadata": {},
   "source": [
    "- operating with vectors:\n",
    "    - adition\n",
    "    - subtraction\n",
    "- distances\n",
    "    - Euclidean (L2 norm)\n",
    "    - Manhattan (L1 norm)"
   ]
  },
  {
   "cell_type": "code",
   "execution_count": 1,
   "id": "cb5064e2",
   "metadata": {},
   "outputs": [],
   "source": [
    "import numpy as np\n",
    "import matplotlib.pyplot as plt\n",
    "import seaborn as sns"
   ]
  },
  {
   "cell_type": "code",
   "execution_count": 2,
   "id": "7134f80e",
   "metadata": {},
   "outputs": [],
   "source": [
    "iris = sns.load_dataset('iris')"
   ]
  },
  {
   "cell_type": "markdown",
   "id": "7405ac1a",
   "metadata": {},
   "source": [
    "#### let's pick two datapoints from the iris dataset"
   ]
  },
  {
   "cell_type": "code",
   "execution_count": 3,
   "id": "7b1be7f9",
   "metadata": {},
   "outputs": [
    {
     "data": {
      "text/html": [
       "<div>\n",
       "<style scoped>\n",
       "    .dataframe tbody tr th:only-of-type {\n",
       "        vertical-align: middle;\n",
       "    }\n",
       "\n",
       "    .dataframe tbody tr th {\n",
       "        vertical-align: top;\n",
       "    }\n",
       "\n",
       "    .dataframe thead th {\n",
       "        text-align: right;\n",
       "    }\n",
       "</style>\n",
       "<table border=\"1\" class=\"dataframe\">\n",
       "  <thead>\n",
       "    <tr style=\"text-align: right;\">\n",
       "      <th></th>\n",
       "      <th>sepal_length</th>\n",
       "      <th>sepal_width</th>\n",
       "      <th>petal_length</th>\n",
       "      <th>petal_width</th>\n",
       "      <th>species</th>\n",
       "    </tr>\n",
       "  </thead>\n",
       "  <tbody>\n",
       "    <tr>\n",
       "      <th>15</th>\n",
       "      <td>5.7</td>\n",
       "      <td>4.4</td>\n",
       "      <td>1.5</td>\n",
       "      <td>0.4</td>\n",
       "      <td>setosa</td>\n",
       "    </tr>\n",
       "    <tr>\n",
       "      <th>106</th>\n",
       "      <td>4.9</td>\n",
       "      <td>2.5</td>\n",
       "      <td>4.5</td>\n",
       "      <td>1.7</td>\n",
       "      <td>virginica</td>\n",
       "    </tr>\n",
       "  </tbody>\n",
       "</table>\n",
       "</div>"
      ],
      "text/plain": [
       "     sepal_length  sepal_width  petal_length  petal_width    species\n",
       "15            5.7          4.4           1.5          0.4     setosa\n",
       "106           4.9          2.5           4.5          1.7  virginica"
      ]
     },
     "execution_count": 3,
     "metadata": {},
     "output_type": "execute_result"
    }
   ],
   "source": [
    "iris.iloc[[15, 106]]"
   ]
  },
  {
   "cell_type": "markdown",
   "id": "6a477d7e",
   "metadata": {},
   "source": [
    "#### these two datapoints are represented by two 4-dimensional vectors"
   ]
  },
  {
   "cell_type": "code",
   "execution_count": 4,
   "id": "bfc1f22a",
   "metadata": {},
   "outputs": [
    {
     "data": {
      "text/plain": [
       "array([[5.7, 4.4, 1.5, 0.4],\n",
       "       [4.9, 2.5, 4.5, 1.7]])"
      ]
     },
     "execution_count": 4,
     "metadata": {},
     "output_type": "execute_result"
    }
   ],
   "source": [
    "U = iris.iloc[15, :-1].to_numpy(dtype = 'float')\n",
    "V = iris.iloc[106, :-1].to_numpy(dtype = 'float')\n",
    "np.array([U, V])"
   ]
  },
  {
   "cell_type": "markdown",
   "id": "7a41b1fb",
   "metadata": {},
   "source": [
    "- we can also consider any lower dimensional vectors of these two datapoints, for instance considering only attributes sepal_length and petal_width (i.e. components 0 and 3)"
   ]
  },
  {
   "cell_type": "code",
   "execution_count": 5,
   "id": "d9e3551c",
   "metadata": {},
   "outputs": [
    {
     "data": {
      "text/plain": [
       "array([[5.7, 0.4],\n",
       "       [4.9, 1.7]])"
      ]
     },
     "execution_count": 5,
     "metadata": {},
     "output_type": "execute_result"
    }
   ],
   "source": [
    "components = [0, 3]\n",
    "u = U[components]\n",
    "v = V[components]\n",
    "np.array([u, v])"
   ]
  },
  {
   "cell_type": "markdown",
   "id": "71bd30a3",
   "metadata": {},
   "source": [
    "### vector addition"
   ]
  },
  {
   "cell_type": "markdown",
   "id": "f5e2c387",
   "metadata": {},
   "source": [
    "- the addition of two vectors $\\vec{u}$ and $\\vec{v}$ is another vector with components given by the *component-wise* addition of $\\vec{u}$ and $\\vec{v}$\n",
    "\n",
    "$$\\vec{u} = (u_1, u_2),\\\\ \\vec{v} = (v_1, v_2),\\\\ \\vec{u} - \\vec{v} = (u_1 + v_1, u_2 + v_2)$$"
   ]
  },
  {
   "cell_type": "code",
   "execution_count": 6,
   "id": "6eeb51dc",
   "metadata": {},
   "outputs": [
    {
     "data": {
      "text/plain": [
       "array([10.6,  2.1])"
      ]
     },
     "execution_count": 6,
     "metadata": {},
     "output_type": "execute_result"
    }
   ],
   "source": [
    "a = u +v\n",
    "a"
   ]
  },
  {
   "cell_type": "code",
   "execution_count": 7,
   "id": "8152ddd8",
   "metadata": {},
   "outputs": [
    {
     "data": {
      "text/plain": [
       "array([[ 5.7,  0.4],\n",
       "       [ 4.9,  1.7],\n",
       "       [10.6,  2.1]])"
      ]
     },
     "execution_count": 7,
     "metadata": {},
     "output_type": "execute_result"
    }
   ],
   "source": [
    "ma = np.round(np.vstack((u, v, a)), 1)\n",
    "ma"
   ]
  },
  {
   "cell_type": "code",
   "execution_count": 8,
   "id": "46904010",
   "metadata": {},
   "outputs": [
    {
     "data": {
      "text/plain": [
       "array([[ 5.7,  4.4,  1.5,  0.4],\n",
       "       [ 4.9,  2.5,  4.5,  1.7],\n",
       "       [10.6,  6.9,  6. ,  2.1]])"
      ]
     },
     "execution_count": 8,
     "metadata": {},
     "output_type": "execute_result"
    }
   ],
   "source": [
    "# with all 4 components\n",
    "np.round(np.vstack((U, V, U +V)), 1)"
   ]
  },
  {
   "cell_type": "markdown",
   "id": "2ad9bf01",
   "metadata": {},
   "source": [
    "##### visualization of the vector addition"
   ]
  },
  {
   "cell_type": "code",
   "execution_count": 9,
   "id": "d8c929b3",
   "metadata": {},
   "outputs": [
    {
     "data": {
      "image/png": "[encoded data removed]",
      "text/plain": [
       "<Figure size 400x400 with 1 Axes>"
      ]
     },
     "metadata": {},
     "output_type": "display_data"
    }
   ],
   "source": [
    "fig = plt.figure(figsize = (4, 4))\n",
    "axs = fig.add_subplot()\n",
    "# control axes\n",
    "axs.set_xlim(0, ma[:, 0].max() *1.1)\n",
    "axs.set_ylim(0, ma[:, 1].max() *1.1)\n",
    "axs.set_xlabel('sepal_length')\n",
    "axs.set_ylabel('petal_width')\n",
    "# plot u\n",
    "axs.plot([0, u[0]], [0, u[1]])\n",
    "axs.scatter(u[0], u[1], marker = 'o', s = 100, alpha = 0.7)\n",
    "# plot v starting from head of u\n",
    "axs.plot([u[0], (u[0] +v[0])], [u[1], u[1] +v[1]])\n",
    "axs.scatter((u[0] +v[0]), (u[1] +v[1]), marker = 'o', s = 100, alpha = 0.7)\n",
    "# plot a = u +v\n",
    "axs.arrow(0, 0, a[0], a[1], head_width = 0.1);"
   ]
  },
  {
   "cell_type": "markdown",
   "id": "e900ca57",
   "metadata": {},
   "source": [
    "### vector subtraction"
   ]
  },
  {
   "cell_type": "markdown",
   "id": "a1dee1ba",
   "metadata": {},
   "source": [
    "- the subtraction of two vectors $\\vec{u}$ and $\\vec{v}$ is another vector with components given by the *component-wise* subtraction of $\\vec{u}$ and $\\vec{v}$\n",
    "\n",
    "$$\\vec{u} = (u_1, u_2),\\\\ \\vec{v} = (v_1, v_2),\\\\ \\vec{u} - \\vec{v} = (u_1 - v_1, u_2 - v_2)$$"
   ]
  },
  {
   "cell_type": "code",
   "execution_count": 10,
   "id": "e4bc2e6e",
   "metadata": {},
   "outputs": [
    {
     "data": {
      "text/plain": [
       "array([ 0.8, -1.3])"
      ]
     },
     "execution_count": 10,
     "metadata": {},
     "output_type": "execute_result"
    }
   ],
   "source": [
    "b = u -v\n",
    "b"
   ]
  },
  {
   "cell_type": "code",
   "execution_count": 11,
   "id": "d594b262",
   "metadata": {},
   "outputs": [
    {
     "data": {
      "text/plain": [
       "array([[ 5.7,  0.4],\n",
       "       [ 4.9,  1.7],\n",
       "       [ 0.8, -1.3]])"
      ]
     },
     "execution_count": 11,
     "metadata": {},
     "output_type": "execute_result"
    }
   ],
   "source": [
    "mb = np.round(np.vstack((u, v, b)), 1)\n",
    "mb"
   ]
  },
  {
   "cell_type": "code",
   "execution_count": 12,
   "id": "384d5d6d",
   "metadata": {},
   "outputs": [
    {
     "data": {
      "text/plain": [
       "array([[ 5.7,  4.4,  1.5,  0.4],\n",
       "       [ 4.9,  2.5,  4.5,  1.7],\n",
       "       [ 0.8,  1.9, -3. , -1.3]])"
      ]
     },
     "execution_count": 12,
     "metadata": {},
     "output_type": "execute_result"
    }
   ],
   "source": [
    "# with all 4 components\n",
    "np.round(np.vstack((U, V, U -V)), 1)"
   ]
  },
  {
   "cell_type": "markdown",
   "id": "14bafecd",
   "metadata": {},
   "source": [
    "##### visualization of the vector subtraction"
   ]
  },
  {
   "cell_type": "code",
   "execution_count": 13,
   "id": "2c44693c",
   "metadata": {},
   "outputs": [
    {
     "data": {
      "image/png": "[encoded data removed]",
      "text/plain": [
       "<Figure size 400x400 with 1 Axes>"
      ]
     },
     "metadata": {},
     "output_type": "display_data"
    }
   ],
   "source": [
    "fig = plt.figure(figsize = (4, 4))\n",
    "axs = fig.add_subplot()\n",
    "# control axes\n",
    "axs.set_xlim(0, mb[:, 0].max() *1.1)\n",
    "axs.set_ylim(0, mb[:, 1].max() *1.1)\n",
    "axs.set_xlabel('sepal_length')\n",
    "axs.set_ylabel('petal_width')\n",
    "# plot u\n",
    "axs.plot([0, u[0]], [0, u[1]])\n",
    "axs.scatter(u[0], u[1], marker = 'o', s = 100, alpha = 0.7)\n",
    "# plot v\n",
    "axs.plot([0, v[0]], [0, v[1]])\n",
    "axs.scatter(v[0], v[1], marker = 'o', s = 100, alpha = 0.7)\n",
    "# plot b = u -v from head of v\n",
    "axs.arrow(v[0], v[1], b[0], b[1], head_width = 0.1);"
   ]
  },
  {
   "cell_type": "markdown",
   "id": "7c4824b3",
   "metadata": {},
   "source": [
    "### Euclidean distance (L2 norm)"
   ]
  },
  {
   "cell_type": "markdown",
   "id": "d46a748e",
   "metadata": {},
   "source": [
    "- the Euclidean distance between $\\vec{u}$ and $\\vec{v}$ is the ***L2 norm*** of the difference vector $\\vec{u} -\\vec{v}$\n",
    "\n",
    "$$\\forall \\vec{u}, \\vec{v} \\in \\mathcal{R}^m,\\quad d\\left(u, v\\right) = ||\\vec{u} -\\vec{v}|| = \\left(\\sum_{j=1}^m \\left(u_j - v_j\\right)^2\\right)^{1/2}$$\n",
    "\n",
    "- consequently,\n",
    "\n",
    "$$d\\left(u, v\\right) = d\\left(v, u\\right)$$"
   ]
  },
  {
   "cell_type": "code",
   "execution_count": 14,
   "id": "4ab6ac87",
   "metadata": {},
   "outputs": [
    {
     "data": {
      "text/plain": [
       "1.5264337522473745"
      ]
     },
     "execution_count": 14,
     "metadata": {},
     "output_type": "execute_result"
    }
   ],
   "source": [
    "b = u -v\n",
    "d_uv = np.sqrt(np.sum(b**2))\n",
    "d_uv"
   ]
  },
  {
   "cell_type": "code",
   "execution_count": 15,
   "id": "2805512f",
   "metadata": {},
   "outputs": [
    {
     "data": {
      "text/plain": [
       "1.5264337522473745"
      ]
     },
     "execution_count": 15,
     "metadata": {},
     "output_type": "execute_result"
    }
   ],
   "source": [
    "d_vu = np.sqrt(np.sum((v -u)**2))\n",
    "d_vu"
   ]
  },
  {
   "cell_type": "code",
   "execution_count": 16,
   "id": "7ee898ea",
   "metadata": {},
   "outputs": [
    {
     "data": {
      "text/plain": [
       "(3.8652296180175374, 3.8652296180175374)"
      ]
     },
     "execution_count": 16,
     "metadata": {},
     "output_type": "execute_result"
    }
   ],
   "source": [
    "# with all 4 components\n",
    "np.sqrt(np.sum((U -V)**2)), np.sqrt(np.sum((V -U)**2))"
   ]
  },
  {
   "cell_type": "markdown",
   "id": "4b72844c",
   "metadata": {},
   "source": [
    "### Manhattan distance (L1 norm)"
   ]
  },
  {
   "cell_type": "markdown",
   "id": "836fd49a",
   "metadata": {},
   "source": [
    "- the Manhattan distance between $\\vec{u}$ and $\\vec{v}$ is the ***L1 norm*** of the difference vector $\\vec{u} -\\vec{v}$\n",
    "\n",
    "$$\\forall \\vec{u}, \\vec{v} \\in \\mathcal{R}^m,\\quad d_m\\left(u, v\\right) = |\\vec{u} -\\vec{v}| = \\sum_{j=1}^m |u_j - v_j|$$\n",
    "\n",
    "- consequently,\n",
    "\n",
    "$$d_m\\left(u, v\\right) = d_m\\left(v, u\\right)$$"
   ]
  },
  {
   "cell_type": "code",
   "execution_count": 17,
   "id": "30a1865b",
   "metadata": {},
   "outputs": [
    {
     "data": {
      "text/plain": [
       "2.0999999999999996"
      ]
     },
     "execution_count": 17,
     "metadata": {},
     "output_type": "execute_result"
    }
   ],
   "source": [
    "d_uv = np.sum(np.abs(u -v))\n",
    "d_uv"
   ]
  },
  {
   "cell_type": "code",
   "execution_count": 18,
   "id": "8a1a1bc4",
   "metadata": {},
   "outputs": [
    {
     "data": {
      "text/plain": [
       "2.0999999999999996"
      ]
     },
     "execution_count": 18,
     "metadata": {},
     "output_type": "execute_result"
    }
   ],
   "source": [
    "d_vu = np.sum(np.abs(v -u))\n",
    "d_vu"
   ]
  },
  {
   "cell_type": "code",
   "execution_count": 19,
   "id": "5b764271",
   "metadata": {},
   "outputs": [
    {
     "data": {
      "text/plain": [
       "(7.0, 7.0)"
      ]
     },
     "execution_count": 19,
     "metadata": {},
     "output_type": "execute_result"
    }
   ],
   "source": [
    "# with all 4 components\n",
    "np.sum(np.abs(U -V)), np.sum(np.abs(V -U))"
   ]
  }
 ],
 "metadata": {
  "kernelspec": {
   "display_name": "Python 3",
   "language": "python",
   "name": "python3"
  },
  "language_info": {
   "codemirror_mode": {
    "name": "ipython",
    "version": 3
   },
   "file_extension": ".py",
   "mimetype": "text/x-python",
   "name": "python",
   "nbconvert_exporter": "python",
   "pygments_lexer": "ipython3",
   "version": "3.9.13"
  }
 },
 "nbformat": 4,
 "nbformat_minor": 5
}
