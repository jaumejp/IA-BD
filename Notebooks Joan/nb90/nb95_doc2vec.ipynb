{
 "cells": [
  {
   "cell_type": "markdown",
   "id": "ab09bebf",
   "metadata": {},
   "source": [
    "### Document embedding"
   ]
  },
  {
   "cell_type": "code",
   "execution_count": 1,
   "id": "6991f6db",
   "metadata": {},
   "outputs": [],
   "source": [
    "import pandas as pd"
   ]
  },
  {
   "cell_type": "markdown",
   "id": "48041726",
   "metadata": {},
   "source": [
    "#### load supermarket dataset"
   ]
  },
  {
   "cell_type": "code",
   "execution_count": 2,
   "id": "11e16e15",
   "metadata": {},
   "outputs": [
    {
     "name": "stdout",
     "output_type": "stream",
     "text": [
      "<class 'pandas.core.frame.DataFrame'>\n",
      "RangeIndex: 457 entries, 0 to 456\n",
      "Data columns (total 14 columns):\n",
      " #   Column       Non-Null Count  Dtype  \n",
      "---  ------       --------------  -----  \n",
      " 0   category_id  457 non-null    object \n",
      " 1   internal_id  457 non-null    int64  \n",
      " 2   description  457 non-null    object \n",
      " 3   format       452 non-null    object \n",
      " 4   weight       299 non-null    object \n",
      " 5   brand        457 non-null    object \n",
      " 6   units        457 non-null    int64  \n",
      " 7   image_loc    457 non-null    object \n",
      " 8   price_date   457 non-null    object \n",
      " 9   price        457 non-null    float64\n",
      " 10  pricebase    330 non-null    float64\n",
      " 11  promotion    395 non-null    object \n",
      " 12  source_id    457 non-null    int64  \n",
      " 13  source_name  457 non-null    object \n",
      "dtypes: float64(2), int64(3), object(9)\n",
      "memory usage: 50.1+ KB\n"
     ]
    }
   ],
   "source": [
    "df = pd.read_csv('./short_raw_supermarket.csv')\n",
    "df.info()"
   ]
  },
  {
   "cell_type": "code",
   "execution_count": 3,
   "id": "9decd72c",
   "metadata": {},
   "outputs": [],
   "source": [
    "col_names = df.columns[[2, 3, 4, 5, 6, 8, 9, 13]]"
   ]
  },
  {
   "cell_type": "code",
   "execution_count": 4,
   "id": "62c81d68",
   "metadata": {},
   "outputs": [
    {
     "data": {
      "text/html": [
       "<div>\n",
       "<style scoped>\n",
       "    .dataframe tbody tr th:only-of-type {\n",
       "        vertical-align: middle;\n",
       "    }\n",
       "\n",
       "    .dataframe tbody tr th {\n",
       "        vertical-align: top;\n",
       "    }\n",
       "\n",
       "    .dataframe thead th {\n",
       "        text-align: right;\n",
       "    }\n",
       "</style>\n",
       "<table border=\"1\" class=\"dataframe\">\n",
       "  <thead>\n",
       "    <tr style=\"text-align: right;\">\n",
       "      <th></th>\n",
       "      <th>description</th>\n",
       "      <th>format</th>\n",
       "      <th>weight</th>\n",
       "      <th>brand</th>\n",
       "      <th>units</th>\n",
       "      <th>price_date</th>\n",
       "      <th>price</th>\n",
       "      <th>source_name</th>\n",
       "    </tr>\n",
       "  </thead>\n",
       "  <tbody>\n",
       "    <tr>\n",
       "      <th>0</th>\n",
       "      <td>FONT VELLA AGUA MINERAL NATURAL BOTELLA 33 CL</td>\n",
       "      <td>33 CL</td>\n",
       "      <td>8 L</td>\n",
       "      <td>FONT VELLA</td>\n",
       "      <td>1</td>\n",
       "      <td>2023-03-12</td>\n",
       "      <td>0.95</td>\n",
       "      <td>DIA</td>\n",
       "    </tr>\n",
       "    <tr>\n",
       "      <th>1</th>\n",
       "      <td>LANJARON AGUA MINERAL NATURAL BOTELLA TAPÓN SP...</td>\n",
       "      <td>33 CL</td>\n",
       "      <td>330ML</td>\n",
       "      <td>LANJARON</td>\n",
       "      <td>1</td>\n",
       "      <td>2023-03-12</td>\n",
       "      <td>0.65</td>\n",
       "      <td>DIA</td>\n",
       "    </tr>\n",
       "    <tr>\n",
       "      <th>2</th>\n",
       "      <td>AGUA MINERAL NATURAL KIDS ZOO LANJARON, BOTELL...</td>\n",
       "      <td>33 CL</td>\n",
       "      <td>NaN</td>\n",
       "      <td>LANJARON</td>\n",
       "      <td>1</td>\n",
       "      <td>2023-03-12</td>\n",
       "      <td>0.75</td>\n",
       "      <td>CAPRABO</td>\n",
       "    </tr>\n",
       "    <tr>\n",
       "      <th>3</th>\n",
       "      <td>FONTAREL ZERO SODIO AGUA MINERAL NATURAL SIN G...</td>\n",
       "      <td>1,50 L</td>\n",
       "      <td>NaN</td>\n",
       "      <td>FONTAREL</td>\n",
       "      <td>1</td>\n",
       "      <td>2023-03-20</td>\n",
       "      <td>0.65</td>\n",
       "      <td>ECI</td>\n",
       "    </tr>\n",
       "    <tr>\n",
       "      <th>4</th>\n",
       "      <td>PERRIER AGUA MINERAL CON GAS BOTELLA 50 CL</td>\n",
       "      <td>50 CL</td>\n",
       "      <td>1 L</td>\n",
       "      <td>PERRIER</td>\n",
       "      <td>1</td>\n",
       "      <td>2023-03-12</td>\n",
       "      <td>1.13</td>\n",
       "      <td>DIA</td>\n",
       "    </tr>\n",
       "    <tr>\n",
       "      <th>...</th>\n",
       "      <td>...</td>\n",
       "      <td>...</td>\n",
       "      <td>...</td>\n",
       "      <td>...</td>\n",
       "      <td>...</td>\n",
       "      <td>...</td>\n",
       "      <td>...</td>\n",
       "      <td>...</td>\n",
       "    </tr>\n",
       "    <tr>\n",
       "      <th>452</th>\n",
       "      <td>ACEITE LABIAL GINSENG 2 ESSENCE, PACK 1 UD</td>\n",
       "      <td>G 2</td>\n",
       "      <td>NaN</td>\n",
       "      <td>ESSENCE</td>\n",
       "      <td>1</td>\n",
       "      <td>2023-03-08</td>\n",
       "      <td>2.99</td>\n",
       "      <td>EROSKI</td>\n",
       "    </tr>\n",
       "    <tr>\n",
       "      <th>453</th>\n",
       "      <td>BARRA DE LABIOS COLOR SENSATIONAL 211 MAYBELLI...</td>\n",
       "      <td>4,2 G</td>\n",
       "      <td>NaN</td>\n",
       "      <td>MAYBELLINE</td>\n",
       "      <td>1</td>\n",
       "      <td>2023-03-08</td>\n",
       "      <td>5.99</td>\n",
       "      <td>EROSKI</td>\n",
       "    </tr>\n",
       "    <tr>\n",
       "      <th>454</th>\n",
       "      <td>AGUA DE COLONIA AGUA FRESCA ALVAREZ GÓMEZ, SPR...</td>\n",
       "      <td>BOTELLA</td>\n",
       "      <td>750 ML</td>\n",
       "      <td>ALVAREZ GÓMEZ</td>\n",
       "      <td>1</td>\n",
       "      <td>2023-03-12</td>\n",
       "      <td>6.89</td>\n",
       "      <td>CAPRABO</td>\n",
       "    </tr>\n",
       "    <tr>\n",
       "      <th>455</th>\n",
       "      <td>HERVIDOR DE AGUA TAURUS VINTAGE RED, CAPACIDAD...</td>\n",
       "      <td>50 CL</td>\n",
       "      <td>5 L</td>\n",
       "      <td>TAURUS  VINTAGE RED</td>\n",
       "      <td>1</td>\n",
       "      <td>2023-03-12</td>\n",
       "      <td>29.90</td>\n",
       "      <td>ALCAMPO</td>\n",
       "    </tr>\n",
       "    <tr>\n",
       "      <th>456</th>\n",
       "      <td>ACEITE EN CREMA OLIVA MÍTICA 200 ML</td>\n",
       "      <td>BANDEJA</td>\n",
       "      <td>80 G (50 G ESCURRIDO)</td>\n",
       "      <td>ORIG.REMEDIS</td>\n",
       "      <td>1</td>\n",
       "      <td>2023-03-23</td>\n",
       "      <td>3.00</td>\n",
       "      <td>CONSUM</td>\n",
       "    </tr>\n",
       "  </tbody>\n",
       "</table>\n",
       "<p>457 rows × 8 columns</p>\n",
       "</div>"
      ],
      "text/plain": [
       "                                           description   format  \\\n",
       "0        FONT VELLA AGUA MINERAL NATURAL BOTELLA 33 CL    33 CL   \n",
       "1    LANJARON AGUA MINERAL NATURAL BOTELLA TAPÓN SP...    33 CL   \n",
       "2    AGUA MINERAL NATURAL KIDS ZOO LANJARON, BOTELL...    33 CL   \n",
       "3    FONTAREL ZERO SODIO AGUA MINERAL NATURAL SIN G...   1,50 L   \n",
       "4           PERRIER AGUA MINERAL CON GAS BOTELLA 50 CL    50 CL   \n",
       "..                                                 ...      ...   \n",
       "452         ACEITE LABIAL GINSENG 2 ESSENCE, PACK 1 UD      G 2   \n",
       "453  BARRA DE LABIOS COLOR SENSATIONAL 211 MAYBELLI...    4,2 G   \n",
       "454  AGUA DE COLONIA AGUA FRESCA ALVAREZ GÓMEZ, SPR...  BOTELLA   \n",
       "455  HERVIDOR DE AGUA TAURUS VINTAGE RED, CAPACIDAD...    50 CL   \n",
       "456                ACEITE EN CREMA OLIVA MÍTICA 200 ML  BANDEJA   \n",
       "\n",
       "                    weight                brand  units  price_date  price  \\\n",
       "0                      8 L           FONT VELLA      1  2023-03-12   0.95   \n",
       "1                    330ML             LANJARON      1  2023-03-12   0.65   \n",
       "2                      NaN             LANJARON      1  2023-03-12   0.75   \n",
       "3                      NaN             FONTAREL      1  2023-03-20   0.65   \n",
       "4                      1 L              PERRIER      1  2023-03-12   1.13   \n",
       "..                     ...                  ...    ...         ...    ...   \n",
       "452                    NaN              ESSENCE      1  2023-03-08   2.99   \n",
       "453                    NaN           MAYBELLINE      1  2023-03-08   5.99   \n",
       "454                 750 ML        ALVAREZ GÓMEZ      1  2023-03-12   6.89   \n",
       "455                    5 L  TAURUS  VINTAGE RED      1  2023-03-12  29.90   \n",
       "456  80 G (50 G ESCURRIDO)         ORIG.REMEDIS      1  2023-03-23   3.00   \n",
       "\n",
       "    source_name  \n",
       "0           DIA  \n",
       "1           DIA  \n",
       "2       CAPRABO  \n",
       "3           ECI  \n",
       "4           DIA  \n",
       "..          ...  \n",
       "452      EROSKI  \n",
       "453      EROSKI  \n",
       "454     CAPRABO  \n",
       "455     ALCAMPO  \n",
       "456      CONSUM  \n",
       "\n",
       "[457 rows x 8 columns]"
      ]
     },
     "execution_count": 4,
     "metadata": {},
     "output_type": "execute_result"
    }
   ],
   "source": [
    "df[col_names]"
   ]
  },
  {
   "cell_type": "code",
   "execution_count": 5,
   "id": "4c34d0c8",
   "metadata": {},
   "outputs": [],
   "source": [
    "df['description'] = df.description.astype('str')"
   ]
  },
  {
   "cell_type": "markdown",
   "id": "02a5bbbc",
   "metadata": {},
   "source": [
    "#### preprocess data"
   ]
  },
  {
   "cell_type": "code",
   "execution_count": 6,
   "id": "d637ff1b",
   "metadata": {},
   "outputs": [],
   "source": [
    "from gensim.utils import simple_preprocess"
   ]
  },
  {
   "cell_type": "code",
   "execution_count": 7,
   "id": "ddec0431",
   "metadata": {},
   "outputs": [
    {
     "data": {
      "text/plain": [
       "0      [font, vella, agua, mineral, natural, botella,...\n",
       "1      [lanjaron, agua, mineral, natural, botella, ta...\n",
       "2      [agua, mineral, natural, kids, zoo, lanjaron, ...\n",
       "3      [fontarel, zero, sodio, agua, mineral, natural...\n",
       "4        [perrier, agua, mineral, con, gas, botella, cl]\n",
       "                             ...                        \n",
       "452         [aceite, labial, ginseng, essence, pack, ud]\n",
       "453    [barra, de, labios, color, sensational, maybel...\n",
       "454    [agua, de, colonia, agua, fresca, alvarez, góm...\n",
       "455    [hervidor, de, agua, taurus, vintage, red, cap...\n",
       "456               [aceite, en, crema, oliva, mítica, ml]\n",
       "Name: description, Length: 457, dtype: object"
      ]
     },
     "execution_count": 7,
     "metadata": {},
     "output_type": "execute_result"
    }
   ],
   "source": [
    "preprocessed_data = df.description.apply(simple_preprocess)\n",
    "preprocessed_data"
   ]
  },
  {
   "cell_type": "markdown",
   "id": "3c2ce62d",
   "metadata": {},
   "source": [
    "#### tag documents"
   ]
  },
  {
   "cell_type": "code",
   "execution_count": 8,
   "id": "c625b99f",
   "metadata": {},
   "outputs": [],
   "source": [
    "from gensim.models.doc2vec import TaggedDocument"
   ]
  },
  {
   "cell_type": "code",
   "execution_count": 9,
   "id": "8c6c2d12",
   "metadata": {},
   "outputs": [
    {
     "data": {
      "text/plain": [
       "TaggedDocument(words=['font', 'vella', 'agua', 'mineral', 'natural', 'botella', 'cl'], tags=['0'])"
      ]
     },
     "execution_count": 9,
     "metadata": {},
     "output_type": "execute_result"
    }
   ],
   "source": [
    "tagged_data = [TaggedDocument(words = words, tags = [str(i)]) for i, words in enumerate(preprocessed_data)]\n",
    "tagged_data[0]"
   ]
  },
  {
   "cell_type": "markdown",
   "id": "f72b727c",
   "metadata": {},
   "source": [
    "#### Doc2Vec model"
   ]
  },
  {
   "cell_type": "code",
   "execution_count": 10,
   "id": "49ba10ce",
   "metadata": {},
   "outputs": [],
   "source": [
    "from gensim.models.doc2vec import Doc2Vec"
   ]
  },
  {
   "cell_type": "code",
   "execution_count": 11,
   "id": "21d1ac9d",
   "metadata": {},
   "outputs": [
    {
     "data": {
      "text/plain": [
       "<gensim.models.doc2vec.Doc2Vec at 0x7f6cbef68430>"
      ]
     },
     "execution_count": 11,
     "metadata": {},
     "output_type": "execute_result"
    }
   ],
   "source": [
    "d2v = Doc2Vec(dm = 0, vector_size = 10, window = 20, alpha = 0.025, workers =4)\n",
    "d2v"
   ]
  },
  {
   "cell_type": "markdown",
   "id": "3081a138",
   "metadata": {},
   "source": [
    "- dm: training algorithm (0: PV-DBOW, 1: PV-DM)\n",
    "- vector_size: dimension of the feature vectors\n",
    "- window: max. distance between related words in a sentence\n",
    "- alpha: learning rate\n",
    "- min_count: ignore words with frequency lower than this\n",
    "- max_vocab_size: unique words (10M words~ 1GB, prune infrequent words if not enough memory)"
   ]
  },
  {
   "cell_type": "code",
   "execution_count": 12,
   "id": "73225ff7",
   "metadata": {},
   "outputs": [
    {
     "data": {
      "text/plain": [
       "(10, 20, 0.025, 4, False)"
      ]
     },
     "execution_count": 12,
     "metadata": {},
     "output_type": "execute_result"
    }
   ],
   "source": [
    "d2v.vector_size, d2v.window, d2v.alpha, d2v.workers, d2v.dm"
   ]
  },
  {
   "cell_type": "markdown",
   "id": "24949ade",
   "metadata": {},
   "source": [
    "#### build document corpus"
   ]
  },
  {
   "cell_type": "code",
   "execution_count": 13,
   "id": "77afd756",
   "metadata": {},
   "outputs": [],
   "source": [
    "d2v.build_vocab(tagged_data)"
   ]
  },
  {
   "cell_type": "code",
   "execution_count": 14,
   "id": "252d942b",
   "metadata": {},
   "outputs": [
    {
     "data": {
      "text/plain": [
       "(457, 3432)"
      ]
     },
     "execution_count": 14,
     "metadata": {},
     "output_type": "execute_result"
    }
   ],
   "source": [
    "d2v.corpus_count, d2v.corpus_total_words"
   ]
  },
  {
   "cell_type": "markdown",
   "id": "be7b3037",
   "metadata": {},
   "source": [
    "#### train model"
   ]
  },
  {
   "cell_type": "code",
   "execution_count": 15,
   "id": "bd56a8ed",
   "metadata": {},
   "outputs": [
    {
     "name": "stdout",
     "output_type": "stream",
     "text": [
      "CPU times: user 616 ms, sys: 12.4 ms, total: 629 ms\n",
      "Wall time: 622 ms\n"
     ]
    }
   ],
   "source": [
    "%%time\n",
    "d2v.train(tagged_data, total_examples =d2v.corpus_count, epochs = 50)"
   ]
  },
  {
   "cell_type": "markdown",
   "id": "79e37a7a",
   "metadata": {},
   "source": [
    "#### word vectors and document vectors"
   ]
  },
  {
   "cell_type": "code",
   "execution_count": 16,
   "id": "16f8eb56",
   "metadata": {},
   "outputs": [
    {
     "data": {
      "text/plain": [
       "(<gensim.models.keyedvectors.KeyedVectors at 0x7f6cbef682b0>,\n",
       " <gensim.models.keyedvectors.KeyedVectors at 0x7f6cbef68310>)"
      ]
     },
     "execution_count": 16,
     "metadata": {},
     "output_type": "execute_result"
    }
   ],
   "source": [
    "d2v.wv, d2v.dv"
   ]
  },
  {
   "cell_type": "code",
   "execution_count": 17,
   "id": "0a53cbf6",
   "metadata": {},
   "outputs": [
    {
     "data": {
      "text/plain": [
       "(145, 457)"
      ]
     },
     "execution_count": 17,
     "metadata": {},
     "output_type": "execute_result"
    }
   ],
   "source": [
    "len(d2v.wv), len(d2v.dv)"
   ]
  },
  {
   "cell_type": "code",
   "execution_count": 18,
   "id": "2d72d47a",
   "metadata": {},
   "outputs": [
    {
     "data": {
      "text/plain": [
       "(array([-0.0960355 ,  0.05007293, -0.08759586, -0.04391825, -0.000351  ,\n",
       "        -0.00296181, -0.0766124 ,  0.09614743,  0.04982058,  0.09233143],\n",
       "       dtype=float32),\n",
       " array([ 0.37936682,  0.32132193, -0.19728471,  0.14251503,  0.0678161 ,\n",
       "         0.06681497, -0.21811473, -0.6779954 , -0.4435215 ,  0.23385447],\n",
       "       dtype=float32))"
      ]
     },
     "execution_count": 18,
     "metadata": {},
     "output_type": "execute_result"
    }
   ],
   "source": [
    "d2v.wv['botella'], d2v.dv['0']"
   ]
  },
  {
   "cell_type": "markdown",
   "id": "a5ea6f66",
   "metadata": {},
   "source": [
    "#### inference"
   ]
  },
  {
   "cell_type": "code",
   "execution_count": 19,
   "id": "189811b4",
   "metadata": {},
   "outputs": [
    {
     "data": {
      "text/plain": [
       "array([ 0.39481533,  0.4397277 , -0.13165095,  0.05953737, -0.01857865,\n",
       "        0.09581095, -0.09298267, -0.7296168 , -0.31638792,  0.20975013],\n",
       "      dtype=float32)"
      ]
     },
     "execution_count": 19,
     "metadata": {},
     "output_type": "execute_result"
    }
   ],
   "source": [
    "d2v.infer_vector(preprocessed_data[0])"
   ]
  },
  {
   "cell_type": "markdown",
   "id": "377234c6",
   "metadata": {},
   "source": [
    "#### retrieve similar sentences"
   ]
  },
  {
   "cell_type": "code",
   "execution_count": 20,
   "id": "a157d5d5",
   "metadata": {},
   "outputs": [
    {
     "data": {
      "text/plain": [
       "(['agua', 'mineral', 'carrefour', 'con', 'limón', 'pomelo'],\n",
       " [('3', 0.9950123429298401),\n",
       "  ('255', 0.9940841794013977),\n",
       "  ('198', 0.9902231097221375),\n",
       "  ('81', 0.9894995093345642),\n",
       "  ('18', 0.9886177182197571)])"
      ]
     },
     "execution_count": 20,
     "metadata": {},
     "output_type": "execute_result"
    }
   ],
   "source": [
    "query = d2v.infer_vector(['agua', 'mineral', 'carrefour', 'con', 'limón', 'pomelo'])\n",
    "mss = d2v.dv.most_similar(query, topn =5)\n",
    "preprocessed_data[10], mss"
   ]
  },
  {
   "cell_type": "code",
   "execution_count": 21,
   "id": "9153f7ee",
   "metadata": {},
   "outputs": [
    {
     "data": {
      "text/html": [
       "<div>\n",
       "<style scoped>\n",
       "    .dataframe tbody tr th:only-of-type {\n",
       "        vertical-align: middle;\n",
       "    }\n",
       "\n",
       "    .dataframe tbody tr th {\n",
       "        vertical-align: top;\n",
       "    }\n",
       "\n",
       "    .dataframe thead th {\n",
       "        text-align: right;\n",
       "    }\n",
       "</style>\n",
       "<table border=\"1\" class=\"dataframe\">\n",
       "  <thead>\n",
       "    <tr style=\"text-align: right;\">\n",
       "      <th></th>\n",
       "      <th>category_id</th>\n",
       "      <th>internal_id</th>\n",
       "      <th>description</th>\n",
       "      <th>format</th>\n",
       "      <th>weight</th>\n",
       "      <th>brand</th>\n",
       "      <th>units</th>\n",
       "      <th>image_loc</th>\n",
       "      <th>price_date</th>\n",
       "      <th>price</th>\n",
       "      <th>pricebase</th>\n",
       "      <th>promotion</th>\n",
       "      <th>source_id</th>\n",
       "      <th>source_name</th>\n",
       "    </tr>\n",
       "  </thead>\n",
       "  <tbody>\n",
       "    <tr>\n",
       "      <th>3</th>\n",
       "      <td>B00-01-30</td>\n",
       "      <td>60913</td>\n",
       "      <td>FONTAREL ZERO SODIO AGUA MINERAL NATURAL SIN G...</td>\n",
       "      <td>1,50 L</td>\n",
       "      <td>NaN</td>\n",
       "      <td>FONTAREL</td>\n",
       "      <td>1</td>\n",
       "      <td>https://scrape.codeworks.es/imgs/10/0011863000...</td>\n",
       "      <td>2023-03-20</td>\n",
       "      <td>0.65</td>\n",
       "      <td>NaN</td>\n",
       "      <td>5€ DE DESCUENTO POR COMPRA SUPERIOR A 20€. INT...</td>\n",
       "      <td>10</td>\n",
       "      <td>ECI</td>\n",
       "    </tr>\n",
       "    <tr>\n",
       "      <th>255</th>\n",
       "      <td>D40-41-02</td>\n",
       "      <td>13036</td>\n",
       "      <td>NESCAFÉ CLASSIC NATURAL - CAFÉ SOLUBLE 100G</td>\n",
       "      <td>100 G</td>\n",
       "      <td>200 G</td>\n",
       "      <td>NESCAFÉ</td>\n",
       "      <td>1</td>\n",
       "      <td>https://scrape.codeworks.es/imgs/7/156906_3.jpg</td>\n",
       "      <td>2023-03-12</td>\n",
       "      <td>4.30</td>\n",
       "      <td>7.89</td>\n",
       "      <td>70% DESCUENTO EN LA 2ª UNIDAD</td>\n",
       "      <td>7</td>\n",
       "      <td>CAPRABO</td>\n",
       "    </tr>\n",
       "    <tr>\n",
       "      <th>198</th>\n",
       "      <td>D30-20-02</td>\n",
       "      <td>9693</td>\n",
       "      <td>ACEITE DE GIRASOL Y SOJA CON OMEGA 3 LA ESPAÑO...</td>\n",
       "      <td>1 L</td>\n",
       "      <td>1000ML</td>\n",
       "      <td>LA ESPAÑOLA</td>\n",
       "      <td>1</td>\n",
       "      <td>https://scrape.codeworks.es/imgs/6/89524459274...</td>\n",
       "      <td>2023-03-14</td>\n",
       "      <td>4.33</td>\n",
       "      <td>NaN</td>\n",
       "      <td>NaN</td>\n",
       "      <td>6</td>\n",
       "      <td>ALCAMPO</td>\n",
       "    </tr>\n",
       "    <tr>\n",
       "      <th>81</th>\n",
       "      <td>B90-00-10</td>\n",
       "      <td>3358</td>\n",
       "      <td>ZUMO DE MANZANA DON SIMON BRICK DE 1 L.</td>\n",
       "      <td>1 L</td>\n",
       "      <td>600ML</td>\n",
       "      <td>DON SIMON</td>\n",
       "      <td>1</td>\n",
       "      <td>https://scrape.codeworks.es/imgs/6/88695537664...</td>\n",
       "      <td>2023-03-12</td>\n",
       "      <td>1.44</td>\n",
       "      <td>2.29</td>\n",
       "      <td>OFERTA VÁLIDA HASTA EL 09/04/2023</td>\n",
       "      <td>6</td>\n",
       "      <td>ALCAMPO</td>\n",
       "    </tr>\n",
       "    <tr>\n",
       "      <th>18</th>\n",
       "      <td>B00-03-12</td>\n",
       "      <td>70351</td>\n",
       "      <td>AGUA MINERAL CON GAS PERRIER SABOR MELOCOTÓN 5...</td>\n",
       "      <td>50 CL</td>\n",
       "      <td>NaN</td>\n",
       "      <td>PERRIER</td>\n",
       "      <td>1</td>\n",
       "      <td>https://scrape.codeworks.es/imgs/2/288883_00_1...</td>\n",
       "      <td>2023-05-15</td>\n",
       "      <td>0.95</td>\n",
       "      <td>NaN</td>\n",
       "      <td>NaN</td>\n",
       "      <td>2</td>\n",
       "      <td>CARREFOUR\\n</td>\n",
       "    </tr>\n",
       "  </tbody>\n",
       "</table>\n",
       "</div>"
      ],
      "text/plain": [
       "    category_id  internal_id  \\\n",
       "3     B00-01-30        60913   \n",
       "255   D40-41-02        13036   \n",
       "198   D30-20-02         9693   \n",
       "81    B90-00-10         3358   \n",
       "18    B00-03-12        70351   \n",
       "\n",
       "                                           description  format  weight  \\\n",
       "3    FONTAREL ZERO SODIO AGUA MINERAL NATURAL SIN G...  1,50 L     NaN   \n",
       "255        NESCAFÉ CLASSIC NATURAL - CAFÉ SOLUBLE 100G   100 G   200 G   \n",
       "198  ACEITE DE GIRASOL Y SOJA CON OMEGA 3 LA ESPAÑO...     1 L  1000ML   \n",
       "81             ZUMO DE MANZANA DON SIMON BRICK DE 1 L.     1 L   600ML   \n",
       "18   AGUA MINERAL CON GAS PERRIER SABOR MELOCOTÓN 5...   50 CL     NaN   \n",
       "\n",
       "           brand  units                                          image_loc  \\\n",
       "3       FONTAREL      1  https://scrape.codeworks.es/imgs/10/0011863000...   \n",
       "255      NESCAFÉ      1    https://scrape.codeworks.es/imgs/7/156906_3.jpg   \n",
       "198  LA ESPAÑOLA      1  https://scrape.codeworks.es/imgs/6/89524459274...   \n",
       "81     DON SIMON      1  https://scrape.codeworks.es/imgs/6/88695537664...   \n",
       "18       PERRIER      1  https://scrape.codeworks.es/imgs/2/288883_00_1...   \n",
       "\n",
       "     price_date  price  pricebase  \\\n",
       "3    2023-03-20   0.65        NaN   \n",
       "255  2023-03-12   4.30       7.89   \n",
       "198  2023-03-14   4.33        NaN   \n",
       "81   2023-03-12   1.44       2.29   \n",
       "18   2023-05-15   0.95        NaN   \n",
       "\n",
       "                                             promotion  source_id  source_name  \n",
       "3    5€ DE DESCUENTO POR COMPRA SUPERIOR A 20€. INT...         10          ECI  \n",
       "255                      70% DESCUENTO EN LA 2ª UNIDAD          7      CAPRABO  \n",
       "198                                                NaN          6      ALCAMPO  \n",
       "81                   OFERTA VÁLIDA HASTA EL 09/04/2023          6      ALCAMPO  \n",
       "18                                                 NaN          2  CARREFOUR\\n  "
      ]
     },
     "execution_count": 21,
     "metadata": {},
     "output_type": "execute_result"
    }
   ],
   "source": [
    "df.iloc[[int(index) for index, similarity in mss], ]"
   ]
  },
  {
   "cell_type": "markdown",
   "id": "dae2226b",
   "metadata": {},
   "source": [
    "#### check"
   ]
  },
  {
   "cell_type": "code",
   "execution_count": 22,
   "id": "9d4573df",
   "metadata": {},
   "outputs": [
    {
     "data": {
      "text/plain": [
       "(['agua', 'mineral', 'carrefour', 'con', 'limón', 'pomelo'],\n",
       " array([ 0.35393962,  0.32939717, -0.11443932,  0.09357431, -0.02630672,\n",
       "         0.0212159 , -0.13578933, -0.4613815 , -0.23472516,  0.221645  ],\n",
       "       dtype=float32))"
      ]
     },
     "execution_count": 22,
     "metadata": {},
     "output_type": "execute_result"
    }
   ],
   "source": [
    "i = 10\n",
    "preprocessed_data[i], d2v.dv[i]"
   ]
  },
  {
   "cell_type": "code",
   "execution_count": 23,
   "id": "64e6396a",
   "metadata": {},
   "outputs": [
    {
     "data": {
      "text/plain": [
       "[('10', 0.9999999403953552)]"
      ]
     },
     "execution_count": 23,
     "metadata": {},
     "output_type": "execute_result"
    }
   ],
   "source": [
    "query = d2v.dv[i]\n",
    "d2v.dv.most_similar(query, topn = 1)"
   ]
  },
  {
   "cell_type": "code",
   "execution_count": 24,
   "id": "2aafea5b",
   "metadata": {},
   "outputs": [
    {
     "data": {
      "text/plain": [
       "array([ 0.41957334,  0.3971932 , -0.04735447, -0.03832476,  0.00390296,\n",
       "        0.07548583, -0.12911806, -0.56673425, -0.26900694,  0.21374774],\n",
       "      dtype=float32)"
      ]
     },
     "execution_count": 24,
     "metadata": {},
     "output_type": "execute_result"
    }
   ],
   "source": [
    "query = d2v.infer_vector(['agua', 'mineral', 'carrefour', 'con', 'limón', 'pomelo'])\n",
    "query"
   ]
  },
  {
   "cell_type": "code",
   "execution_count": 25,
   "id": "a90688b1",
   "metadata": {},
   "outputs": [
    {
     "data": {
      "text/plain": [
       "[('255', 0.9953171610832214)]"
      ]
     },
     "execution_count": 25,
     "metadata": {},
     "output_type": "execute_result"
    }
   ],
   "source": [
    "d2v.dv.most_similar(query, topn = 1)"
   ]
  }
 ],
 "metadata": {
  "kernelspec": {
   "display_name": "Python 3 (ipykernel)",
   "language": "python",
   "name": "python3"
  },
  "language_info": {
   "codemirror_mode": {
    "name": "ipython",
    "version": 3
   },
   "file_extension": ".py",
   "mimetype": "text/x-python",
   "name": "python",
   "nbconvert_exporter": "python",
   "pygments_lexer": "ipython3",
   "version": "3.10.14"
  }
 },
 "nbformat": 4,
 "nbformat_minor": 5
}
