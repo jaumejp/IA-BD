{
 "cells": [
  {
   "cell_type": "markdown",
   "id": "a41f84d3",
   "metadata": {},
   "source": [
    "### Word embeddings\n",
    "Word2Vec Google 2013 C implementation\n",
    "\n",
    "\"show me your friends and I'll tell you who you are\""
   ]
  },
  {
   "cell_type": "code",
   "execution_count": 1,
   "id": "d383d799",
   "metadata": {},
   "outputs": [],
   "source": [
    "import pandas as pd"
   ]
  },
  {
   "cell_type": "markdown",
   "id": "82ec9fb9",
   "metadata": {},
   "source": [
    "#### Load Simpsons dataset"
   ]
  },
  {
   "cell_type": "code",
   "execution_count": 2,
   "id": "c8625b0a",
   "metadata": {},
   "outputs": [
    {
     "name": "stderr",
     "output_type": "stream",
     "text": [
      "/tmp/ipykernel_37786/47603918.py:1: DtypeWarning: Columns (4,5,6) have mixed types. Specify dtype option on import or set low_memory=False.\n",
      "  df = pd.read_csv('../../../data/simpsons/simpsons_script_lines.csv')\n"
     ]
    }
   ],
   "source": [
    "df = pd.read_csv('../../../data/simpsons/simpsons_script_lines.csv')"
   ]
  },
  {
   "cell_type": "code",
   "execution_count": 3,
   "id": "210718f7",
   "metadata": {},
   "outputs": [
    {
     "data": {
      "text/html": [
       "<div>\n",
       "<style scoped>\n",
       "    .dataframe tbody tr th:only-of-type {\n",
       "        vertical-align: middle;\n",
       "    }\n",
       "\n",
       "    .dataframe tbody tr th {\n",
       "        vertical-align: top;\n",
       "    }\n",
       "\n",
       "    .dataframe thead th {\n",
       "        text-align: right;\n",
       "    }\n",
       "</style>\n",
       "<table border=\"1\" class=\"dataframe\">\n",
       "  <thead>\n",
       "    <tr style=\"text-align: right;\">\n",
       "      <th></th>\n",
       "      <th>raw_character_text</th>\n",
       "      <th>spoken_words</th>\n",
       "    </tr>\n",
       "  </thead>\n",
       "  <tbody>\n",
       "    <tr>\n",
       "      <th>0</th>\n",
       "      <td>Miss Hoover</td>\n",
       "      <td>No, actually, it was a little of both. Sometim...</td>\n",
       "    </tr>\n",
       "    <tr>\n",
       "      <th>1</th>\n",
       "      <td>Lisa Simpson</td>\n",
       "      <td>Where's Mr. Bergstrom?</td>\n",
       "    </tr>\n",
       "    <tr>\n",
       "      <th>2</th>\n",
       "      <td>Miss Hoover</td>\n",
       "      <td>I don't know. Although I'd sure like to talk t...</td>\n",
       "    </tr>\n",
       "    <tr>\n",
       "      <th>3</th>\n",
       "      <td>Lisa Simpson</td>\n",
       "      <td>That life is worth living.</td>\n",
       "    </tr>\n",
       "    <tr>\n",
       "      <th>4</th>\n",
       "      <td>Edna Krabappel-Flanders</td>\n",
       "      <td>The polls will be open from now until the end ...</td>\n",
       "    </tr>\n",
       "  </tbody>\n",
       "</table>\n",
       "</div>"
      ],
      "text/plain": [
       "        raw_character_text                                       spoken_words\n",
       "0              Miss Hoover  No, actually, it was a little of both. Sometim...\n",
       "1             Lisa Simpson                             Where's Mr. Bergstrom?\n",
       "2              Miss Hoover  I don't know. Although I'd sure like to talk t...\n",
       "3             Lisa Simpson                         That life is worth living.\n",
       "4  Edna Krabappel-Flanders  The polls will be open from now until the end ..."
      ]
     },
     "execution_count": 3,
     "metadata": {},
     "output_type": "execute_result"
    }
   ],
   "source": [
    "df[['raw_character_text', 'spoken_words']].head()"
   ]
  },
  {
   "cell_type": "markdown",
   "id": "6def18a2",
   "metadata": {},
   "source": [
    "- make sure all text documents are type 'str'"
   ]
  },
  {
   "cell_type": "code",
   "execution_count": 4,
   "id": "e65b8464",
   "metadata": {},
   "outputs": [],
   "source": [
    "df['spoken_words'] = df.spoken_words.astype('str')"
   ]
  },
  {
   "cell_type": "markdown",
   "id": "1ef40b6e",
   "metadata": {},
   "source": [
    "#### Data preprocessing (tokenization)"
   ]
  },
  {
   "cell_type": "code",
   "execution_count": 5,
   "id": "174d7eda",
   "metadata": {},
   "outputs": [],
   "source": [
    "from gensim.utils import simple_preprocess, tokenize"
   ]
  },
  {
   "cell_type": "code",
   "execution_count": 6,
   "id": "a2f04e4d",
   "metadata": {},
   "outputs": [
    {
     "data": {
      "text/plain": [
       "0    [no, actually, it, was, little, of, both, some...\n",
       "1                               [where, mr, bergstrom]\n",
       "2    [don, know, although, sure, like, to, talk, to...\n",
       "Name: spoken_words, dtype: object"
      ]
     },
     "execution_count": 6,
     "metadata": {},
     "output_type": "execute_result"
    }
   ],
   "source": [
    "preprocessed_data = df.spoken_words.apply(simple_preprocess)\n",
    "preprocessed_data.head(3)"
   ]
  },
  {
   "cell_type": "markdown",
   "id": "1e859dba",
   "metadata": {},
   "source": [
    "#### Word2Vec model"
   ]
  },
  {
   "cell_type": "code",
   "execution_count": 7,
   "id": "c5002b23",
   "metadata": {},
   "outputs": [],
   "source": [
    "from gensim.models.word2vec import Word2Vec"
   ]
  },
  {
   "cell_type": "code",
   "execution_count": 8,
   "id": "4921f6c3",
   "metadata": {},
   "outputs": [],
   "source": [
    "w2v = Word2Vec(min_count = 20, window = 2, sample = 6e-5, alpha = 0.03, negative = 20, workers = 4)"
   ]
  },
  {
   "cell_type": "markdown",
   "id": "35edf46c",
   "metadata": {},
   "source": [
    "- vector_size: dimension of the word vectors\n",
    "- window: max. distance between related words within a sentence\n",
    "- min_count: ignore words with frequency lower than this\n",
    "- alpha: learning rate\n",
    "- max_vocab_size: unique words (10M words~ 1GB, prune infrequent words if not enough memory)"
   ]
  },
  {
   "cell_type": "markdown",
   "id": "60d8a4ad",
   "metadata": {},
   "source": [
    "#### build vocabulary corpus"
   ]
  },
  {
   "cell_type": "code",
   "execution_count": 9,
   "id": "58dc318c",
   "metadata": {},
   "outputs": [],
   "source": [
    "w2v.build_vocab(preprocessed_data, progress_per = 1000)"
   ]
  },
  {
   "cell_type": "markdown",
   "id": "6e699b21",
   "metadata": {},
   "source": [
    "#### train model"
   ]
  },
  {
   "cell_type": "code",
   "execution_count": 10,
   "id": "1cec42f3",
   "metadata": {},
   "outputs": [
    {
     "name": "stdout",
     "output_type": "stream",
     "text": [
      "CPU times: user 1min 2s, sys: 262 ms, total: 1min 2s\n",
      "Wall time: 18.7 s\n"
     ]
    },
    {
     "data": {
      "text/plain": [
       "(12159262, 38288880)"
      ]
     },
     "execution_count": 10,
     "metadata": {},
     "output_type": "execute_result"
    }
   ],
   "source": [
    "%%time\n",
    "w2v.train(preprocessed_data, total_examples = w2v.corpus_count, epochs = 30)"
   ]
  },
  {
   "cell_type": "markdown",
   "id": "69029ad3",
   "metadata": {},
   "source": [
    "#### embedded word vetor"
   ]
  },
  {
   "cell_type": "code",
   "execution_count": 11,
   "id": "425ee809",
   "metadata": {},
   "outputs": [
    {
     "data": {
      "text/plain": [
       "<gensim.models.keyedvectors.KeyedVectors at 0x7ff3a48e39d0>"
      ]
     },
     "execution_count": 11,
     "metadata": {},
     "output_type": "execute_result"
    }
   ],
   "source": [
    "w2v.wv"
   ]
  },
  {
   "cell_type": "code",
   "execution_count": 12,
   "id": "8cac15ab",
   "metadata": {},
   "outputs": [
    {
     "data": {
      "text/plain": [
       "(array([ 0.17007735,  0.05130703,  0.2449152 , -0.34791893, -0.34790993,\n",
       "        -0.1582444 ,  0.27166662,  0.24572502, -0.18833262, -0.07470448,\n",
       "         0.32395992, -0.3827506 , -0.30402797,  0.5117364 , -0.25202638,\n",
       "        -0.18041186, -0.23169003,  0.07758235,  0.30381194, -0.3615166 ,\n",
       "         0.4894907 ,  0.1689966 ,  0.5835631 , -0.2762664 , -0.15182684,\n",
       "         0.05075058, -0.4095239 , -0.34264362, -0.36777773,  0.09464496,\n",
       "        -0.37031403,  0.02066873,  0.05076038,  0.02864877, -0.21446376,\n",
       "        -0.0954689 , -0.01066179, -0.03046482,  0.1248414 , -0.73715675,\n",
       "        -0.00761789,  0.2902718 ,  0.02610861,  0.53760153,  0.16781178,\n",
       "        -0.40810835,  0.17140816, -0.14743644,  0.20496991,  0.42047876,\n",
       "         0.16198042, -0.08699372,  0.0990838 , -0.11170958, -0.27884436,\n",
       "         0.06706273,  0.4690118 ,  0.04659254,  0.7466157 ,  0.3043252 ,\n",
       "        -0.18438147,  0.16471702,  0.51746774, -0.18928978, -0.0459165 ,\n",
       "        -0.23764385,  0.24147789,  0.75318056, -0.13663551, -0.23321414,\n",
       "        -0.41838515,  0.29110694, -0.40510356, -0.28937384,  0.06720734,\n",
       "         0.32461363, -0.5243475 , -0.10227901, -0.04316999, -0.10171955,\n",
       "         0.42258018,  0.20795266, -0.28481346,  0.00716437, -0.37126443,\n",
       "        -0.4575633 ,  0.13479891,  0.10481256,  0.22138272,  0.1611934 ,\n",
       "        -0.08670305, -0.07179222, -0.15171604,  0.03145483,  0.17582615,\n",
       "         0.22112384,  0.25379276,  0.18219286,  0.07115454,  0.13521177],\n",
       "       dtype=float32),\n",
       " array([ 6.43102050e-01,  4.82433438e-02,  8.64365771e-02, -1.09172359e-01,\n",
       "        -5.43704450e-01, -5.28558731e-01, -4.05715972e-01,  6.61919042e-02,\n",
       "        -2.04959795e-01,  2.63989598e-01,  4.10622716e-01, -5.81909381e-02,\n",
       "        -3.76607120e-01,  3.46739888e-02, -3.63317900e-04, -8.44354779e-02,\n",
       "        -1.35671586e-01,  4.85973507e-01,  3.17990124e-01, -3.79698843e-01,\n",
       "         2.92128265e-01,  2.73669571e-01,  5.75299561e-01, -3.62275928e-01,\n",
       "        -2.78406560e-01, -1.55145228e-01, -5.63962758e-01,  7.65463710e-03,\n",
       "        -5.42572498e-01,  8.28830376e-02,  1.46857664e-01,  4.11153644e-01,\n",
       "        -6.28841519e-02,  1.24568149e-01, -9.68863070e-02,  1.81024760e-01,\n",
       "         7.87920058e-02, -2.29362220e-01,  1.28009364e-01, -3.99047911e-01,\n",
       "        -1.99200600e-01,  2.27838159e-01, -1.89880431e-01,  4.86017108e-01,\n",
       "        -1.85317304e-02, -4.80503410e-01,  2.89183110e-01, -1.10696204e-01,\n",
       "        -1.79227486e-01, -1.00673782e-02,  2.64281541e-01,  1.81233093e-01,\n",
       "        -2.33740717e-01,  1.74497724e-01, -2.11749040e-02, -7.64455786e-03,\n",
       "         5.50836742e-01, -4.74711895e-01,  5.62949598e-01,  2.43304089e-01,\n",
       "         3.79442155e-01,  1.69037163e-01,  1.51667610e-01, -6.01973057e-01,\n",
       "         2.42783353e-02, -2.86391854e-01,  2.09014535e-01,  5.67396402e-01,\n",
       "        -4.87434685e-01, -3.28894287e-01, -1.80623129e-01,  4.55680937e-01,\n",
       "        -1.04656987e-01, -2.38310441e-01,  1.19422689e-01,  8.75970870e-02,\n",
       "         8.06517899e-02, -4.05354887e-01,  2.45869860e-01, -7.64837563e-02,\n",
       "         1.13459183e-02, -1.40640765e-01,  3.77439782e-02,  1.37980223e-01,\n",
       "        -1.96014225e-01, -3.49188775e-01,  2.58939918e-02,  2.49948427e-01,\n",
       "         8.92710090e-02, -1.37885869e-01,  9.91514772e-02, -1.71427894e-02,\n",
       "        -1.67043090e-01,  1.78693086e-02, -1.78689957e-01,  2.09979132e-01,\n",
       "         2.72485465e-01,  3.64001483e-01,  6.58827543e-01,  1.71752840e-01],\n",
       "       dtype=float32))"
      ]
     },
     "execution_count": 12,
     "metadata": {},
     "output_type": "execute_result"
    }
   ],
   "source": [
    "w2v.wv['homer'], w2v.wv['bart']"
   ]
  },
  {
   "cell_type": "markdown",
   "id": "e9e1f27a",
   "metadata": {},
   "source": [
    "#### word similarity (closeness in the embeddig space)"
   ]
  },
  {
   "cell_type": "code",
   "execution_count": 13,
   "id": "99f38fb8",
   "metadata": {},
   "outputs": [
    {
     "data": {
      "text/plain": [
       "0.61756635"
      ]
     },
     "execution_count": 13,
     "metadata": {},
     "output_type": "execute_result"
    }
   ],
   "source": [
    "w2v.wv.similarity('homer', 'bart')"
   ]
  },
  {
   "cell_type": "markdown",
   "id": "99ce99e9",
   "metadata": {},
   "source": [
    "#### find most similar"
   ]
  },
  {
   "cell_type": "code",
   "execution_count": 14,
   "id": "e885bf7b",
   "metadata": {},
   "outputs": [
    {
     "data": {
      "text/plain": [
       "[('marge', 0.7098295092582703),\n",
       " ('bart', 0.6175663471221924),\n",
       " ('lisa', 0.5872983336448669),\n",
       " ('homie', 0.5258287191390991),\n",
       " ('mr', 0.5219753384590149),\n",
       " ('becky', 0.509057879447937),\n",
       " ('you', 0.5053243041038513),\n",
       " ('simpson', 0.4968818426132202),\n",
       " ('abe', 0.45856770873069763),\n",
       " ('son', 0.45351937413215637)]"
      ]
     },
     "execution_count": 14,
     "metadata": {},
     "output_type": "execute_result"
    }
   ],
   "source": [
    "w2v.wv.most_similar(positive = ['homer'])"
   ]
  },
  {
   "cell_type": "markdown",
   "id": "633e2d0f",
   "metadata": {},
   "source": [
    "#### odd-one-out (find most dissimilar within list)"
   ]
  },
  {
   "cell_type": "code",
   "execution_count": 15,
   "id": "2b18c243",
   "metadata": {},
   "outputs": [
    {
     "data": {
      "text/plain": [
       "'nelson'"
      ]
     },
     "execution_count": 15,
     "metadata": {},
     "output_type": "execute_result"
    }
   ],
   "source": [
    "w2v.wv.doesnt_match(['nelson', 'bart', 'milhouse'])"
   ]
  },
  {
   "cell_type": "markdown",
   "id": "a79130a1",
   "metadata": {},
   "source": [
    "#### analogy difference\n",
    "\n",
    "- which word is to 'woman' as 'homer' is to 'marge' ?"
   ]
  },
  {
   "cell_type": "code",
   "execution_count": 17,
   "id": "dfe68e80",
   "metadata": {},
   "outputs": [
    {
     "data": {
      "text/plain": [
       "[('man', 0.5492452383041382),\n",
       " ('guy', 0.5060333609580994),\n",
       " ('person', 0.4851493239402771)]"
      ]
     },
     "execution_count": 17,
     "metadata": {},
     "output_type": "execute_result"
    }
   ],
   "source": [
    "w2v.wv.most_similar(positive = [\"woman\", \"homer\"], negative = [\"marge\"], topn = 3)"
   ]
  },
  {
   "cell_type": "markdown",
   "id": "340a96de",
   "metadata": {},
   "source": [
    "- which word is to 'woman' as 'bart' is to 'man'?"
   ]
  },
  {
   "cell_type": "code",
   "execution_count": 18,
   "id": "854ab736",
   "metadata": {},
   "outputs": [
    {
     "data": {
      "text/plain": [
       "[('lisa', 0.6292288303375244),\n",
       " ('mom', 0.5806299448013306),\n",
       " ('maggie', 0.5580624938011169)]"
      ]
     },
     "execution_count": 18,
     "metadata": {},
     "output_type": "execute_result"
    }
   ],
   "source": [
    "w2v.wv.most_similar(positive = [\"woman\", \"bart\"], negative = [\"man\"], topn = 3)"
   ]
  }
 ],
 "metadata": {
  "kernelspec": {
   "display_name": "Python 3 (ipykernel)",
   "language": "python",
   "name": "python3"
  },
  "language_info": {
   "codemirror_mode": {
    "name": "ipython",
    "version": 3
   },
   "file_extension": ".py",
   "mimetype": "text/x-python",
   "name": "python",
   "nbconvert_exporter": "python",
   "pygments_lexer": "ipython3",
   "version": "3.10.14"
  }
 },
 "nbformat": 4,
 "nbformat_minor": 5
}
