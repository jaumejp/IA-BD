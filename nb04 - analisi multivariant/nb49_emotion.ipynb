{
 "cells": [
  {
   "cell_type": "markdown",
   "id": "dba2ecda",
   "metadata": {},
   "source": [
    "# Fer primer el Notebook 50"
   ]
  },
  {
   "cell_type": "markdown",
   "id": "575149f1",
   "metadata": {},
   "source": [
    "- Tenir amb compte si tenim un model que classifica binariament (P/N)\n",
    "- Un que classifica amb més classes (aquest)"
   ]
  },
  {
   "cell_type": "markdown",
   "id": "62b7b7ea",
   "metadata": {},
   "source": [
    "### Naive Bayes Classifier for Sentiment Analysis. Emotions dataset."
   ]
  },
  {
   "cell_type": "markdown",
   "id": "032e3a9c",
   "metadata": {},
   "source": [
    "##### dair-ia/emotion dataset"
   ]
  },
  {
   "cell_type": "markdown",
   "id": "fd405887",
   "metadata": {},
   "source": [
    "https://www.icloud.com/iclouddrive/084E9TMZ_lykn3QhU-kIX1DDQ#merged_training"
   ]
  },
  {
   "cell_type": "raw",
   "id": "da1f6f05",
   "metadata": {},
   "source": [
    "@inproceedings{saravia-etal-2018-carer,\n",
    "    title = \"{CARER}: Contextualized Affect Representations for Emotion Recognition\",\n",
    "    author = \"Saravia, Elvis  and\n",
    "      Liu, Hsien-Chi Toby  and\n",
    "      Huang, Yen-Hao  and\n",
    "      Wu, Junlin  and\n",
    "      Chen, Yi-Shin\",\n",
    "    booktitle = \"Proceedings of the 2018 Conference on Empirical Methods in Natural Language Processing\",\n",
    "    month = oct # \"-\" # nov,\n",
    "    year = \"2018\",\n",
    "    address = \"Brussels, Belgium\",\n",
    "    publisher = \"Association for Computational Linguistics\",\n",
    "    url = \"https://www.aclweb.org/anthology/D18-1404\",\n",
    "    doi = \"10.18653/v1/D18-1404\",\n",
    "    pages = \"3687--3697\",\n",
    "}"
   ]
  },
  {
   "cell_type": "code",
   "execution_count": 1,
   "id": "f45c471f",
   "metadata": {},
   "outputs": [],
   "source": [
    "import pandas as pd\n",
    "from sklearn.model_selection import train_test_split"
   ]
  },
  {
   "cell_type": "code",
   "execution_count": 2,
   "id": "d45df503",
   "metadata": {},
   "outputs": [
    {
     "data": {
      "text/plain": [
       "(416809, 2)"
      ]
     },
     "execution_count": 2,
     "metadata": {},
     "output_type": "execute_result"
    }
   ],
   "source": [
    "df = pd.read_pickle('../Dades/emotion/merged_training.pkl')\n",
    "df.shape"
   ]
  },
  {
   "cell_type": "code",
   "execution_count": 3,
   "id": "ebe1fe84",
   "metadata": {},
   "outputs": [
    {
     "data": {
      "text/html": [
       "<div>\n",
       "<style scoped>\n",
       "    .dataframe tbody tr th:only-of-type {\n",
       "        vertical-align: middle;\n",
       "    }\n",
       "\n",
       "    .dataframe tbody tr th {\n",
       "        vertical-align: top;\n",
       "    }\n",
       "\n",
       "    .dataframe thead th {\n",
       "        text-align: right;\n",
       "    }\n",
       "</style>\n",
       "<table border=\"1\" class=\"dataframe\">\n",
       "  <thead>\n",
       "    <tr style=\"text-align: right;\">\n",
       "      <th></th>\n",
       "      <th>text</th>\n",
       "      <th>emotions</th>\n",
       "    </tr>\n",
       "  </thead>\n",
       "  <tbody>\n",
       "    <tr>\n",
       "      <th>27383</th>\n",
       "      <td>i feel awful about it too because it s my job ...</td>\n",
       "      <td>sadness</td>\n",
       "    </tr>\n",
       "    <tr>\n",
       "      <th>110083</th>\n",
       "      <td>im alone i feel awful</td>\n",
       "      <td>sadness</td>\n",
       "    </tr>\n",
       "    <tr>\n",
       "      <th>140764</th>\n",
       "      <td>ive probably mentioned this before but i reall...</td>\n",
       "      <td>joy</td>\n",
       "    </tr>\n",
       "    <tr>\n",
       "      <th>100071</th>\n",
       "      <td>i was feeling a little low few days back</td>\n",
       "      <td>sadness</td>\n",
       "    </tr>\n",
       "    <tr>\n",
       "      <th>2837</th>\n",
       "      <td>i beleive that i am much more sensitive to oth...</td>\n",
       "      <td>love</td>\n",
       "    </tr>\n",
       "  </tbody>\n",
       "</table>\n",
       "</div>"
      ],
      "text/plain": [
       "                                                     text emotions\n",
       "27383   i feel awful about it too because it s my job ...  sadness\n",
       "110083                              im alone i feel awful  sadness\n",
       "140764  ive probably mentioned this before but i reall...      joy\n",
       "100071           i was feeling a little low few days back  sadness\n",
       "2837    i beleive that i am much more sensitive to oth...     love"
      ]
     },
     "execution_count": 3,
     "metadata": {},
     "output_type": "execute_result"
    }
   ],
   "source": [
    "df.head()"
   ]
  },
  {
   "cell_type": "code",
   "execution_count": 4,
   "id": "5ad3bd68",
   "metadata": {},
   "outputs": [
    {
     "data": {
      "text/plain": [
       "joy         141067\n",
       "sadness     121187\n",
       "anger        57317\n",
       "fear         47712\n",
       "love         34554\n",
       "surprise     14972\n",
       "Name: emotions, dtype: int64"
      ]
     },
     "execution_count": 4,
     "metadata": {},
     "output_type": "execute_result"
    }
   ],
   "source": [
    "df.emotions.value_counts()"
   ]
  },
  {
   "cell_type": "markdown",
   "id": "8b1e25b5",
   "metadata": {},
   "source": [
    "Tenim diferents etiquetes per definir els comentaris `text/emotions`"
   ]
  },
  {
   "cell_type": "code",
   "execution_count": 5,
   "id": "be653428",
   "metadata": {},
   "outputs": [
    {
     "data": {
      "text/plain": [
       "((333447, 2), (83362, 2))"
      ]
     },
     "execution_count": 5,
     "metadata": {},
     "output_type": "execute_result"
    }
   ],
   "source": [
    "X_train, X_test = train_test_split(df, test_size = 0.2)\n",
    "X_train.shape, X_test.shape"
   ]
  },
  {
   "cell_type": "code",
   "execution_count": 12,
   "id": "1b8d9af1",
   "metadata": {},
   "outputs": [],
   "source": [
    "from nbc import NBCtext"
   ]
  },
  {
   "cell_type": "code",
   "execution_count": 15,
   "id": "31154ac1",
   "metadata": {},
   "outputs": [],
   "source": [
    "mynbc = NBCtext()"
   ]
  },
  {
   "cell_type": "code",
   "execution_count": 16,
   "id": "9ca86fdd",
   "metadata": {},
   "outputs": [
    {
     "name": "stdout",
     "output_type": "stream",
     "text": [
      "CPU times: total: 52 s\n",
      "Wall time: 52.6 s\n"
     ]
    }
   ],
   "source": [
    "%%time\n",
    "mynbc.fit(X_train)"
   ]
  },
  {
   "cell_type": "code",
   "execution_count": 18,
   "id": "46c1c358",
   "metadata": {},
   "outputs": [
    {
     "name": "stdout",
     "output_type": "stream",
     "text": [
      "CPU times: total: 7.41 s\n",
      "Wall time: 7.44 s\n"
     ]
    }
   ],
   "source": [
    "%%time\n",
    "X_test['predict'] = X_test.text.apply(lambda x: mynbc.predict(x, alpha = 1, soft = False))"
   ]
  },
  {
   "cell_type": "code",
   "execution_count": 19,
   "id": "0221097b",
   "metadata": {},
   "outputs": [
    {
     "data": {
      "text/html": [
       "<div>\n",
       "<style scoped>\n",
       "    .dataframe tbody tr th:only-of-type {\n",
       "        vertical-align: middle;\n",
       "    }\n",
       "\n",
       "    .dataframe tbody tr th {\n",
       "        vertical-align: top;\n",
       "    }\n",
       "\n",
       "    .dataframe thead th {\n",
       "        text-align: right;\n",
       "    }\n",
       "</style>\n",
       "<table border=\"1\" class=\"dataframe\">\n",
       "  <thead>\n",
       "    <tr style=\"text-align: right;\">\n",
       "      <th></th>\n",
       "      <th></th>\n",
       "      <th>predict</th>\n",
       "      <th>predict</th>\n",
       "    </tr>\n",
       "    <tr>\n",
       "      <th>emotions</th>\n",
       "      <th>predict</th>\n",
       "      <th></th>\n",
       "      <th></th>\n",
       "    </tr>\n",
       "  </thead>\n",
       "  <tbody>\n",
       "    <tr>\n",
       "      <th rowspan=\"7\" valign=\"top\">anger</th>\n",
       "      <th>anger</th>\n",
       "      <td>9699</td>\n",
       "      <td>0.841562</td>\n",
       "    </tr>\n",
       "    <tr>\n",
       "      <th>sadness</th>\n",
       "      <td>982</td>\n",
       "      <td>0.085206</td>\n",
       "    </tr>\n",
       "    <tr>\n",
       "      <th>joy</th>\n",
       "      <td>477</td>\n",
       "      <td>0.041388</td>\n",
       "    </tr>\n",
       "    <tr>\n",
       "      <th>fear</th>\n",
       "      <td>296</td>\n",
       "      <td>0.025683</td>\n",
       "    </tr>\n",
       "    <tr>\n",
       "      <th>love</th>\n",
       "      <td>61</td>\n",
       "      <td>0.005293</td>\n",
       "    </tr>\n",
       "    <tr>\n",
       "      <th>surprise</th>\n",
       "      <td>9</td>\n",
       "      <td>0.000781</td>\n",
       "    </tr>\n",
       "    <tr>\n",
       "      <th>??</th>\n",
       "      <td>1</td>\n",
       "      <td>0.000087</td>\n",
       "    </tr>\n",
       "    <tr>\n",
       "      <th rowspan=\"6\" valign=\"top\">fear</th>\n",
       "      <th>fear</th>\n",
       "      <td>7692</td>\n",
       "      <td>0.803510</td>\n",
       "    </tr>\n",
       "    <tr>\n",
       "      <th>sadness</th>\n",
       "      <td>910</td>\n",
       "      <td>0.095059</td>\n",
       "    </tr>\n",
       "    <tr>\n",
       "      <th>joy</th>\n",
       "      <td>465</td>\n",
       "      <td>0.048574</td>\n",
       "    </tr>\n",
       "    <tr>\n",
       "      <th>anger</th>\n",
       "      <td>377</td>\n",
       "      <td>0.039382</td>\n",
       "    </tr>\n",
       "    <tr>\n",
       "      <th>surprise</th>\n",
       "      <td>92</td>\n",
       "      <td>0.009610</td>\n",
       "    </tr>\n",
       "    <tr>\n",
       "      <th>love</th>\n",
       "      <td>37</td>\n",
       "      <td>0.003865</td>\n",
       "    </tr>\n",
       "    <tr>\n",
       "      <th rowspan=\"6\" valign=\"top\">joy</th>\n",
       "      <th>joy</th>\n",
       "      <td>26038</td>\n",
       "      <td>0.926487</td>\n",
       "    </tr>\n",
       "    <tr>\n",
       "      <th>sadness</th>\n",
       "      <td>881</td>\n",
       "      <td>0.031348</td>\n",
       "    </tr>\n",
       "    <tr>\n",
       "      <th>love</th>\n",
       "      <td>818</td>\n",
       "      <td>0.029106</td>\n",
       "    </tr>\n",
       "    <tr>\n",
       "      <th>fear</th>\n",
       "      <td>178</td>\n",
       "      <td>0.006334</td>\n",
       "    </tr>\n",
       "    <tr>\n",
       "      <th>anger</th>\n",
       "      <td>167</td>\n",
       "      <td>0.005942</td>\n",
       "    </tr>\n",
       "    <tr>\n",
       "      <th>surprise</th>\n",
       "      <td>22</td>\n",
       "      <td>0.000783</td>\n",
       "    </tr>\n",
       "    <tr>\n",
       "      <th rowspan=\"6\" valign=\"top\">love</th>\n",
       "      <th>love</th>\n",
       "      <td>4297</td>\n",
       "      <td>0.613069</td>\n",
       "    </tr>\n",
       "    <tr>\n",
       "      <th>joy</th>\n",
       "      <td>2231</td>\n",
       "      <td>0.318305</td>\n",
       "    </tr>\n",
       "    <tr>\n",
       "      <th>sadness</th>\n",
       "      <td>369</td>\n",
       "      <td>0.052647</td>\n",
       "    </tr>\n",
       "    <tr>\n",
       "      <th>anger</th>\n",
       "      <td>66</td>\n",
       "      <td>0.009416</td>\n",
       "    </tr>\n",
       "    <tr>\n",
       "      <th>fear</th>\n",
       "      <td>43</td>\n",
       "      <td>0.006135</td>\n",
       "    </tr>\n",
       "    <tr>\n",
       "      <th>surprise</th>\n",
       "      <td>3</td>\n",
       "      <td>0.000428</td>\n",
       "    </tr>\n",
       "    <tr>\n",
       "      <th rowspan=\"6\" valign=\"top\">sadness</th>\n",
       "      <th>sadness</th>\n",
       "      <td>22762</td>\n",
       "      <td>0.939685</td>\n",
       "    </tr>\n",
       "    <tr>\n",
       "      <th>joy</th>\n",
       "      <td>685</td>\n",
       "      <td>0.028279</td>\n",
       "    </tr>\n",
       "    <tr>\n",
       "      <th>anger</th>\n",
       "      <td>388</td>\n",
       "      <td>0.016018</td>\n",
       "    </tr>\n",
       "    <tr>\n",
       "      <th>fear</th>\n",
       "      <td>274</td>\n",
       "      <td>0.011312</td>\n",
       "    </tr>\n",
       "    <tr>\n",
       "      <th>love</th>\n",
       "      <td>90</td>\n",
       "      <td>0.003715</td>\n",
       "    </tr>\n",
       "    <tr>\n",
       "      <th>surprise</th>\n",
       "      <td>24</td>\n",
       "      <td>0.000991</td>\n",
       "    </tr>\n",
       "    <tr>\n",
       "      <th rowspan=\"6\" valign=\"top\">surprise</th>\n",
       "      <th>surprise</th>\n",
       "      <td>1022</td>\n",
       "      <td>0.349044</td>\n",
       "    </tr>\n",
       "    <tr>\n",
       "      <th>joy</th>\n",
       "      <td>836</td>\n",
       "      <td>0.285519</td>\n",
       "    </tr>\n",
       "    <tr>\n",
       "      <th>fear</th>\n",
       "      <td>617</td>\n",
       "      <td>0.210724</td>\n",
       "    </tr>\n",
       "    <tr>\n",
       "      <th>sadness</th>\n",
       "      <td>380</td>\n",
       "      <td>0.129781</td>\n",
       "    </tr>\n",
       "    <tr>\n",
       "      <th>anger</th>\n",
       "      <td>44</td>\n",
       "      <td>0.015027</td>\n",
       "    </tr>\n",
       "    <tr>\n",
       "      <th>love</th>\n",
       "      <td>29</td>\n",
       "      <td>0.009904</td>\n",
       "    </tr>\n",
       "  </tbody>\n",
       "</table>\n",
       "</div>"
      ],
      "text/plain": [
       "                   predict   predict\n",
       "emotions predict                    \n",
       "anger    anger        9699  0.841562\n",
       "         sadness       982  0.085206\n",
       "         joy           477  0.041388\n",
       "         fear          296  0.025683\n",
       "         love           61  0.005293\n",
       "         surprise        9  0.000781\n",
       "         ??              1  0.000087\n",
       "fear     fear         7692  0.803510\n",
       "         sadness       910  0.095059\n",
       "         joy           465  0.048574\n",
       "         anger         377  0.039382\n",
       "         surprise       92  0.009610\n",
       "         love           37  0.003865\n",
       "joy      joy         26038  0.926487\n",
       "         sadness       881  0.031348\n",
       "         love          818  0.029106\n",
       "         fear          178  0.006334\n",
       "         anger         167  0.005942\n",
       "         surprise       22  0.000783\n",
       "love     love         4297  0.613069\n",
       "         joy          2231  0.318305\n",
       "         sadness       369  0.052647\n",
       "         anger          66  0.009416\n",
       "         fear           43  0.006135\n",
       "         surprise        3  0.000428\n",
       "sadness  sadness     22762  0.939685\n",
       "         joy           685  0.028279\n",
       "         anger         388  0.016018\n",
       "         fear          274  0.011312\n",
       "         love           90  0.003715\n",
       "         surprise       24  0.000991\n",
       "surprise surprise     1022  0.349044\n",
       "         joy           836  0.285519\n",
       "         fear          617  0.210724\n",
       "         sadness       380  0.129781\n",
       "         anger          44  0.015027\n",
       "         love           29  0.009904"
      ]
     },
     "execution_count": 19,
     "metadata": {},
     "output_type": "execute_result"
    }
   ],
   "source": [
    "pd.concat((X_test.groupby('emotions').predict.value_counts(), X_test.groupby('emotions').predict.value_counts(normalize = True)), axis = 1)"
   ]
  }
 ],
 "metadata": {
  "kernelspec": {
   "display_name": "Python 3 (ipykernel)",
   "language": "python",
   "name": "python3"
  },
  "language_info": {
   "codemirror_mode": {
    "name": "ipython",
    "version": 3
   },
   "file_extension": ".py",
   "mimetype": "text/x-python",
   "name": "python",
   "nbconvert_exporter": "python",
   "pygments_lexer": "ipython3",
   "version": "3.11.5"
  }
 },
 "nbformat": 4,
 "nbformat_minor": 5
}
