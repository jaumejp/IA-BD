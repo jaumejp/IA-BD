{
 "cells": [
  {
   "cell_type": "markdown",
   "id": "d6cd52d7",
   "metadata": {},
   "source": [
    "### navie bayes: \n",
    "\n",
    "és descomposar les variables dependents entre si en comptes de fer l'histograma\n",
    "de totes les variables juntes, fer-les per separat i multiplicar les probabilitats"
   ]
  },
  {
   "cell_type": "code",
   "execution_count": 1,
   "id": "f8c14815",
   "metadata": {},
   "outputs": [],
   "source": [
    "import pandas as pd\n",
    "import numpy as np\n",
    "import seaborn as sns\n",
    "import matplotlib.pyplot as plt"
   ]
  },
  {
   "cell_type": "code",
   "execution_count": 2,
   "id": "b9bdae98",
   "metadata": {},
   "outputs": [],
   "source": [
    "# diccionari per saber si es discreta o continua 1 continua i 0 discreta\n",
    "# num es el que volem predir (target)\n",
    "\n",
    "X = {\n",
    "    'age': 1, \n",
    "    'sex': 0,\n",
    "    'cp': 0,\n",
    "    'trestbps': 1,\n",
    "    'chol': 1,\n",
    "    'fbs': 0,\n",
    "    'restecg': 0,\n",
    "    'thalach': 1,\n",
    "    'exang': 0,\n",
    "    'oldpeak': 1,\n",
    "    'slope': 0,\n",
    "    'ca': 0,\n",
    "    'thal': 0,    \n",
    "}\n",
    "\n",
    "Y = ['target']"
   ]
  },
  {
   "cell_type": "code",
   "execution_count": 3,
   "id": "c2c829fa",
   "metadata": {},
   "outputs": [],
   "source": [
    "cols = [x for x in X.keys()] + Y"
   ]
  },
  {
   "cell_type": "code",
   "execution_count": 4,
   "id": "57f9b501",
   "metadata": {},
   "outputs": [],
   "source": [
    "df = pd.read_csv(\"../Dades/cleveland/processed.cleveland.data\", names = cols)"
   ]
  },
  {
   "cell_type": "code",
   "execution_count": 5,
   "id": "a01ab8b0",
   "metadata": {},
   "outputs": [
    {
     "data": {
      "text/html": [
       "<div>\n",
       "<style scoped>\n",
       "    .dataframe tbody tr th:only-of-type {\n",
       "        vertical-align: middle;\n",
       "    }\n",
       "\n",
       "    .dataframe tbody tr th {\n",
       "        vertical-align: top;\n",
       "    }\n",
       "\n",
       "    .dataframe thead th {\n",
       "        text-align: right;\n",
       "    }\n",
       "</style>\n",
       "<table border=\"1\" class=\"dataframe\">\n",
       "  <thead>\n",
       "    <tr style=\"text-align: right;\">\n",
       "      <th></th>\n",
       "      <th>age</th>\n",
       "      <th>sex</th>\n",
       "      <th>cp</th>\n",
       "      <th>trestbps</th>\n",
       "      <th>chol</th>\n",
       "      <th>fbs</th>\n",
       "      <th>restecg</th>\n",
       "      <th>thalach</th>\n",
       "      <th>exang</th>\n",
       "      <th>oldpeak</th>\n",
       "      <th>slope</th>\n",
       "      <th>ca</th>\n",
       "      <th>thal</th>\n",
       "      <th>target</th>\n",
       "    </tr>\n",
       "  </thead>\n",
       "  <tbody>\n",
       "    <tr>\n",
       "      <th>0</th>\n",
       "      <td>63.0</td>\n",
       "      <td>1.0</td>\n",
       "      <td>1.0</td>\n",
       "      <td>145.0</td>\n",
       "      <td>233.0</td>\n",
       "      <td>1.0</td>\n",
       "      <td>2.0</td>\n",
       "      <td>150.0</td>\n",
       "      <td>0.0</td>\n",
       "      <td>2.3</td>\n",
       "      <td>3.0</td>\n",
       "      <td>0.0</td>\n",
       "      <td>6.0</td>\n",
       "      <td>0</td>\n",
       "    </tr>\n",
       "    <tr>\n",
       "      <th>1</th>\n",
       "      <td>67.0</td>\n",
       "      <td>1.0</td>\n",
       "      <td>4.0</td>\n",
       "      <td>160.0</td>\n",
       "      <td>286.0</td>\n",
       "      <td>0.0</td>\n",
       "      <td>2.0</td>\n",
       "      <td>108.0</td>\n",
       "      <td>1.0</td>\n",
       "      <td>1.5</td>\n",
       "      <td>2.0</td>\n",
       "      <td>3.0</td>\n",
       "      <td>3.0</td>\n",
       "      <td>2</td>\n",
       "    </tr>\n",
       "    <tr>\n",
       "      <th>2</th>\n",
       "      <td>67.0</td>\n",
       "      <td>1.0</td>\n",
       "      <td>4.0</td>\n",
       "      <td>120.0</td>\n",
       "      <td>229.0</td>\n",
       "      <td>0.0</td>\n",
       "      <td>2.0</td>\n",
       "      <td>129.0</td>\n",
       "      <td>1.0</td>\n",
       "      <td>2.6</td>\n",
       "      <td>2.0</td>\n",
       "      <td>2.0</td>\n",
       "      <td>7.0</td>\n",
       "      <td>1</td>\n",
       "    </tr>\n",
       "    <tr>\n",
       "      <th>3</th>\n",
       "      <td>37.0</td>\n",
       "      <td>1.0</td>\n",
       "      <td>3.0</td>\n",
       "      <td>130.0</td>\n",
       "      <td>250.0</td>\n",
       "      <td>0.0</td>\n",
       "      <td>0.0</td>\n",
       "      <td>187.0</td>\n",
       "      <td>0.0</td>\n",
       "      <td>3.5</td>\n",
       "      <td>3.0</td>\n",
       "      <td>0.0</td>\n",
       "      <td>3.0</td>\n",
       "      <td>0</td>\n",
       "    </tr>\n",
       "    <tr>\n",
       "      <th>4</th>\n",
       "      <td>41.0</td>\n",
       "      <td>0.0</td>\n",
       "      <td>2.0</td>\n",
       "      <td>130.0</td>\n",
       "      <td>204.0</td>\n",
       "      <td>0.0</td>\n",
       "      <td>2.0</td>\n",
       "      <td>172.0</td>\n",
       "      <td>0.0</td>\n",
       "      <td>1.4</td>\n",
       "      <td>1.0</td>\n",
       "      <td>0.0</td>\n",
       "      <td>3.0</td>\n",
       "      <td>0</td>\n",
       "    </tr>\n",
       "    <tr>\n",
       "      <th>...</th>\n",
       "      <td>...</td>\n",
       "      <td>...</td>\n",
       "      <td>...</td>\n",
       "      <td>...</td>\n",
       "      <td>...</td>\n",
       "      <td>...</td>\n",
       "      <td>...</td>\n",
       "      <td>...</td>\n",
       "      <td>...</td>\n",
       "      <td>...</td>\n",
       "      <td>...</td>\n",
       "      <td>...</td>\n",
       "      <td>...</td>\n",
       "      <td>...</td>\n",
       "    </tr>\n",
       "    <tr>\n",
       "      <th>298</th>\n",
       "      <td>45.0</td>\n",
       "      <td>1.0</td>\n",
       "      <td>1.0</td>\n",
       "      <td>110.0</td>\n",
       "      <td>264.0</td>\n",
       "      <td>0.0</td>\n",
       "      <td>0.0</td>\n",
       "      <td>132.0</td>\n",
       "      <td>0.0</td>\n",
       "      <td>1.2</td>\n",
       "      <td>2.0</td>\n",
       "      <td>0.0</td>\n",
       "      <td>7.0</td>\n",
       "      <td>1</td>\n",
       "    </tr>\n",
       "    <tr>\n",
       "      <th>299</th>\n",
       "      <td>68.0</td>\n",
       "      <td>1.0</td>\n",
       "      <td>4.0</td>\n",
       "      <td>144.0</td>\n",
       "      <td>193.0</td>\n",
       "      <td>1.0</td>\n",
       "      <td>0.0</td>\n",
       "      <td>141.0</td>\n",
       "      <td>0.0</td>\n",
       "      <td>3.4</td>\n",
       "      <td>2.0</td>\n",
       "      <td>2.0</td>\n",
       "      <td>7.0</td>\n",
       "      <td>2</td>\n",
       "    </tr>\n",
       "    <tr>\n",
       "      <th>300</th>\n",
       "      <td>57.0</td>\n",
       "      <td>1.0</td>\n",
       "      <td>4.0</td>\n",
       "      <td>130.0</td>\n",
       "      <td>131.0</td>\n",
       "      <td>0.0</td>\n",
       "      <td>0.0</td>\n",
       "      <td>115.0</td>\n",
       "      <td>1.0</td>\n",
       "      <td>1.2</td>\n",
       "      <td>2.0</td>\n",
       "      <td>1.0</td>\n",
       "      <td>7.0</td>\n",
       "      <td>3</td>\n",
       "    </tr>\n",
       "    <tr>\n",
       "      <th>301</th>\n",
       "      <td>57.0</td>\n",
       "      <td>0.0</td>\n",
       "      <td>2.0</td>\n",
       "      <td>130.0</td>\n",
       "      <td>236.0</td>\n",
       "      <td>0.0</td>\n",
       "      <td>2.0</td>\n",
       "      <td>174.0</td>\n",
       "      <td>0.0</td>\n",
       "      <td>0.0</td>\n",
       "      <td>2.0</td>\n",
       "      <td>1.0</td>\n",
       "      <td>3.0</td>\n",
       "      <td>1</td>\n",
       "    </tr>\n",
       "    <tr>\n",
       "      <th>302</th>\n",
       "      <td>38.0</td>\n",
       "      <td>1.0</td>\n",
       "      <td>3.0</td>\n",
       "      <td>138.0</td>\n",
       "      <td>175.0</td>\n",
       "      <td>0.0</td>\n",
       "      <td>0.0</td>\n",
       "      <td>173.0</td>\n",
       "      <td>0.0</td>\n",
       "      <td>0.0</td>\n",
       "      <td>1.0</td>\n",
       "      <td>?</td>\n",
       "      <td>3.0</td>\n",
       "      <td>0</td>\n",
       "    </tr>\n",
       "  </tbody>\n",
       "</table>\n",
       "<p>303 rows × 14 columns</p>\n",
       "</div>"
      ],
      "text/plain": [
       "      age  sex   cp  trestbps   chol  fbs  restecg  thalach  exang  oldpeak  \\\n",
       "0    63.0  1.0  1.0     145.0  233.0  1.0      2.0    150.0    0.0      2.3   \n",
       "1    67.0  1.0  4.0     160.0  286.0  0.0      2.0    108.0    1.0      1.5   \n",
       "2    67.0  1.0  4.0     120.0  229.0  0.0      2.0    129.0    1.0      2.6   \n",
       "3    37.0  1.0  3.0     130.0  250.0  0.0      0.0    187.0    0.0      3.5   \n",
       "4    41.0  0.0  2.0     130.0  204.0  0.0      2.0    172.0    0.0      1.4   \n",
       "..    ...  ...  ...       ...    ...  ...      ...      ...    ...      ...   \n",
       "298  45.0  1.0  1.0     110.0  264.0  0.0      0.0    132.0    0.0      1.2   \n",
       "299  68.0  1.0  4.0     144.0  193.0  1.0      0.0    141.0    0.0      3.4   \n",
       "300  57.0  1.0  4.0     130.0  131.0  0.0      0.0    115.0    1.0      1.2   \n",
       "301  57.0  0.0  2.0     130.0  236.0  0.0      2.0    174.0    0.0      0.0   \n",
       "302  38.0  1.0  3.0     138.0  175.0  0.0      0.0    173.0    0.0      0.0   \n",
       "\n",
       "     slope   ca thal  target  \n",
       "0      3.0  0.0  6.0       0  \n",
       "1      2.0  3.0  3.0       2  \n",
       "2      2.0  2.0  7.0       1  \n",
       "3      3.0  0.0  3.0       0  \n",
       "4      1.0  0.0  3.0       0  \n",
       "..     ...  ...  ...     ...  \n",
       "298    2.0  0.0  7.0       1  \n",
       "299    2.0  2.0  7.0       2  \n",
       "300    2.0  1.0  7.0       3  \n",
       "301    2.0  1.0  3.0       1  \n",
       "302    1.0    ?  3.0       0  \n",
       "\n",
       "[303 rows x 14 columns]"
      ]
     },
     "execution_count": 5,
     "metadata": {},
     "output_type": "execute_result"
    }
   ],
   "source": [
    "df"
   ]
  },
  {
   "cell_type": "markdown",
   "id": "1c853c61",
   "metadata": {},
   "source": [
    "# Data exploration"
   ]
  },
  {
   "cell_type": "code",
   "execution_count": 6,
   "id": "a5a3927d",
   "metadata": {},
   "outputs": [
    {
     "data": {
      "text/plain": [
       "0    164\n",
       "1     55\n",
       "2     36\n",
       "3     35\n",
       "4     13\n",
       "Name: target, dtype: int64"
      ]
     },
     "execution_count": 6,
     "metadata": {},
     "output_type": "execute_result"
    }
   ],
   "source": [
    "df.target.value_counts()"
   ]
  },
  {
   "cell_type": "code",
   "execution_count": 7,
   "id": "4e0457c4",
   "metadata": {},
   "outputs": [
    {
     "data": {
      "text/plain": [
       "0    0.541254\n",
       "1    0.181518\n",
       "2    0.118812\n",
       "3    0.115512\n",
       "4    0.042904\n",
       "Name: target, dtype: float64"
      ]
     },
     "execution_count": 7,
     "metadata": {},
     "output_type": "execute_result"
    }
   ],
   "source": [
    "df.target.value_counts(normalize = True)"
   ]
  },
  {
   "cell_type": "code",
   "execution_count": 8,
   "id": "931ea537",
   "metadata": {},
   "outputs": [],
   "source": [
    "# convertir target amb binaria sans / malalt\n",
    "df['target'] = df['target'].apply(lambda x: x > 0)"
   ]
  },
  {
   "cell_type": "markdown",
   "id": "557c709c",
   "metadata": {},
   "source": [
    "### Variable es soroll si el histograma és pla (tots els valors tenen la mateixa probabilitat de sortir)\n",
    "- Per això nomès en tenim 14. ja han fet la selecció de variables. \n",
    "- Variable amb soroll no afecta al model bayesia (és tonteria posar-lo).\n",
    "- Hem de definir si una variable té valor predictiu o no (aquestes no).\n",
    "- Si es una analitica que costa X diners, no cal fer-la, no té correlació.\n",
    "- Com que es proporcional, estem multiplicant per el mateix en cada comparació."
   ]
  },
  {
   "cell_type": "code",
   "execution_count": 9,
   "id": "41806d6a",
   "metadata": {},
   "outputs": [
    {
     "data": {
      "text/html": [
       "<div>\n",
       "<style scoped>\n",
       "    .dataframe tbody tr th:only-of-type {\n",
       "        vertical-align: middle;\n",
       "    }\n",
       "\n",
       "    .dataframe tbody tr th {\n",
       "        vertical-align: top;\n",
       "    }\n",
       "\n",
       "    .dataframe thead th {\n",
       "        text-align: right;\n",
       "    }\n",
       "</style>\n",
       "<table border=\"1\" class=\"dataframe\">\n",
       "  <thead>\n",
       "    <tr style=\"text-align: right;\">\n",
       "      <th></th>\n",
       "      <th>age</th>\n",
       "      <th>sex</th>\n",
       "      <th>cp</th>\n",
       "      <th>trestbps</th>\n",
       "      <th>chol</th>\n",
       "      <th>fbs</th>\n",
       "      <th>restecg</th>\n",
       "      <th>thalach</th>\n",
       "      <th>exang</th>\n",
       "      <th>oldpeak</th>\n",
       "      <th>slope</th>\n",
       "      <th>ca</th>\n",
       "      <th>thal</th>\n",
       "      <th>target</th>\n",
       "    </tr>\n",
       "  </thead>\n",
       "  <tbody>\n",
       "    <tr>\n",
       "      <th>0</th>\n",
       "      <td>63.0</td>\n",
       "      <td>1.0</td>\n",
       "      <td>1.0</td>\n",
       "      <td>145.0</td>\n",
       "      <td>233.0</td>\n",
       "      <td>1.0</td>\n",
       "      <td>2.0</td>\n",
       "      <td>150.0</td>\n",
       "      <td>0.0</td>\n",
       "      <td>2.3</td>\n",
       "      <td>3.0</td>\n",
       "      <td>0.0</td>\n",
       "      <td>6.0</td>\n",
       "      <td>False</td>\n",
       "    </tr>\n",
       "    <tr>\n",
       "      <th>1</th>\n",
       "      <td>67.0</td>\n",
       "      <td>1.0</td>\n",
       "      <td>4.0</td>\n",
       "      <td>160.0</td>\n",
       "      <td>286.0</td>\n",
       "      <td>0.0</td>\n",
       "      <td>2.0</td>\n",
       "      <td>108.0</td>\n",
       "      <td>1.0</td>\n",
       "      <td>1.5</td>\n",
       "      <td>2.0</td>\n",
       "      <td>3.0</td>\n",
       "      <td>3.0</td>\n",
       "      <td>True</td>\n",
       "    </tr>\n",
       "  </tbody>\n",
       "</table>\n",
       "</div>"
      ],
      "text/plain": [
       "    age  sex   cp  trestbps   chol  fbs  restecg  thalach  exang  oldpeak  \\\n",
       "0  63.0  1.0  1.0     145.0  233.0  1.0      2.0    150.0    0.0      2.3   \n",
       "1  67.0  1.0  4.0     160.0  286.0  0.0      2.0    108.0    1.0      1.5   \n",
       "\n",
       "   slope   ca thal  target  \n",
       "0    3.0  0.0  6.0   False  \n",
       "1    2.0  3.0  3.0    True  "
      ]
     },
     "execution_count": 9,
     "metadata": {},
     "output_type": "execute_result"
    }
   ],
   "source": [
    "# Canvi de target a true false\n",
    "df.head(2)"
   ]
  },
  {
   "cell_type": "code",
   "execution_count": 10,
   "id": "24f48165",
   "metadata": {},
   "outputs": [
    {
     "data": {
      "text/plain": [
       "target  target\n",
       "False   False     164\n",
       "True    True      139\n",
       "Name: target, dtype: int64"
      ]
     },
     "execution_count": 10,
     "metadata": {},
     "output_type": "execute_result"
    }
   ],
   "source": [
    "df.groupby('target').target.value_counts()"
   ]
  },
  {
   "cell_type": "markdown",
   "id": "90e0e005",
   "metadata": {},
   "source": [
    "### La variable target l'hem arreglat. \n",
    "- Ara mirem si cada variable té potencial predictiu.\n",
    "- Fem un histograma per cada variable i posant el sa/malat amb colors"
   ]
  },
  {
   "cell_type": "code",
   "execution_count": 11,
   "id": "56a92a36",
   "metadata": {},
   "outputs": [
    {
     "data": {
      "image/png": "[encoded data removed]",
      "text/plain": [
       "<Figure size 1500x1200 with 15 Axes>"
      ]
     },
     "metadata": {},
     "output_type": "display_data"
    }
   ],
   "source": [
    "fig, axs = plt.subplots(3,5, figsize = (15,12), sharey = True)\n",
    "for axi, Xj in zip(axs.flatten()[:-1], X):\n",
    "    sns.histplot(ax = axi, data = df, x = Xj, hue = 'target')"
   ]
  },
  {
   "cell_type": "markdown",
   "id": "c64fce3d",
   "metadata": {},
   "source": [
    "### Interperetació de les dades\n",
    "- De dones amb sex, n'hi ha menys de malaltes &rarr; els homes tenen més proporcio de malalts. \n",
    "- 0 són dones &rarr; taronja són malaltes i blaves sanes.\n",
    "- Veiem directament com les proporcions hi han més malalts en homes.\n",
    "\n",
    "### sex és una variable amb potencial predictiu\n",
    "- Si fessim una funció de likelihood\n",
    "- P(x|y) &rarr; x = home/dona &rarr; y = malalt/sa\n",
    "- Suposem dones 25 malaltes i 75 sanes i 90 homes sans i 110 malalts\n",
    "- P(x=home | y=malalt) = 110 / 110 + 25 = 110 / 135 = 0.81 \n",
    "- P(x=home | y=sa) \n",
    "- P(x=dona | y=malalt) &rarr; és la resta del primer\n",
    "- P(x=dona | y=sa)\n",
    "- Tenim dues distribucions condicionals perquè els dos que tenen comentaris van junts. \n",
    "- Com es distribueix homes/dones respecte els malalts &rarr; mirem tots els malalts i mirem la % de homes i dones que hi ha. \n",
    "- ---\n",
    "- P(x=home | y=sa) = 0.54\n",
    "- P(x=dona | y=sa) = 0.56\n",
    "- P(x=home | y=malalt) = 0.81\n",
    "- P(x=dona | y=malalt) = 0.19\n",
    "- Si està malalt és més versemblant que sigui un home\n",
    "- No, la % de que estigui malalt si és un home (ho fem al revés)\n",
    "- Entres a la consulta i estàs malalt &rarr; 80% de ser home\n",
    "- No! si entra un home 80% d'estar malalt.\n",
    "- Probabilitat d'estar malalt quan observem un cojunt de coses però per calcular això, fem la pregunta inversa per cada una de les coses.\n",
    "- Partim de distribució a priori, però diguem a resulta que és home, això modifica la meva creença del que volem saber. \n",
    "- **Pacient 0.10 malalt i 0.90 sa (malaltia que afecta la població) &rarr; veiem que es un home llavors multipliquem per 0.81 i ho anem fent per totes les altres variables.** \n",
    "- Va un home: \n",
    "- P(y=malalt) = 0.10 * 0.81\n",
    "- P(y=sa) = 0.90 * 0.54\n",
    "- ---\n",
    "- thalach (variable continua) &rarr; la cosa es complica, hem de fer les pdf\n",
    "- els sans n'hi ha més\n",
    "- Això són les funcions de versemblança \n",
    "- Ens mostra el talah donat que son malalts P(x|y)\n",
    "- Aquestes condicionals són les de versemblança\n",
    "- Les categoriques no es veu tant clar, però es el mateix, s'han de relacionar igual homes sans/malalts i no homes/dones en la mateixa barra.\n",
    "- ---\n",
    "- Els ? tenen pinta de missing values\n",
    "- Els qeu no hi ha res es normal per la matriu"
   ]
  },
  {
   "cell_type": "code",
   "execution_count": 12,
   "id": "ebd30415",
   "metadata": {},
   "outputs": [
    {
     "data": {
      "text/html": [
       "<div>\n",
       "<style scoped>\n",
       "    .dataframe tbody tr th:only-of-type {\n",
       "        vertical-align: middle;\n",
       "    }\n",
       "\n",
       "    .dataframe tbody tr th {\n",
       "        vertical-align: top;\n",
       "    }\n",
       "\n",
       "    .dataframe thead th {\n",
       "        text-align: right;\n",
       "    }\n",
       "</style>\n",
       "<table border=\"1\" class=\"dataframe\">\n",
       "  <thead>\n",
       "    <tr style=\"text-align: right;\">\n",
       "      <th></th>\n",
       "      <th>age</th>\n",
       "      <th>sex</th>\n",
       "      <th>cp</th>\n",
       "      <th>trestbps</th>\n",
       "      <th>chol</th>\n",
       "      <th>fbs</th>\n",
       "      <th>restecg</th>\n",
       "      <th>thalach</th>\n",
       "      <th>exang</th>\n",
       "      <th>oldpeak</th>\n",
       "      <th>slope</th>\n",
       "    </tr>\n",
       "  </thead>\n",
       "  <tbody>\n",
       "    <tr>\n",
       "      <th>count</th>\n",
       "      <td>303.000000</td>\n",
       "      <td>303.000000</td>\n",
       "      <td>303.000000</td>\n",
       "      <td>303.000000</td>\n",
       "      <td>303.000000</td>\n",
       "      <td>303.000000</td>\n",
       "      <td>303.000000</td>\n",
       "      <td>303.000000</td>\n",
       "      <td>303.000000</td>\n",
       "      <td>303.000000</td>\n",
       "      <td>303.000000</td>\n",
       "    </tr>\n",
       "    <tr>\n",
       "      <th>mean</th>\n",
       "      <td>54.438944</td>\n",
       "      <td>0.679868</td>\n",
       "      <td>3.158416</td>\n",
       "      <td>131.689769</td>\n",
       "      <td>246.693069</td>\n",
       "      <td>0.148515</td>\n",
       "      <td>0.990099</td>\n",
       "      <td>149.607261</td>\n",
       "      <td>0.326733</td>\n",
       "      <td>1.039604</td>\n",
       "      <td>1.600660</td>\n",
       "    </tr>\n",
       "    <tr>\n",
       "      <th>std</th>\n",
       "      <td>9.038662</td>\n",
       "      <td>0.467299</td>\n",
       "      <td>0.960126</td>\n",
       "      <td>17.599748</td>\n",
       "      <td>51.776918</td>\n",
       "      <td>0.356198</td>\n",
       "      <td>0.994971</td>\n",
       "      <td>22.875003</td>\n",
       "      <td>0.469794</td>\n",
       "      <td>1.161075</td>\n",
       "      <td>0.616226</td>\n",
       "    </tr>\n",
       "    <tr>\n",
       "      <th>min</th>\n",
       "      <td>29.000000</td>\n",
       "      <td>0.000000</td>\n",
       "      <td>1.000000</td>\n",
       "      <td>94.000000</td>\n",
       "      <td>126.000000</td>\n",
       "      <td>0.000000</td>\n",
       "      <td>0.000000</td>\n",
       "      <td>71.000000</td>\n",
       "      <td>0.000000</td>\n",
       "      <td>0.000000</td>\n",
       "      <td>1.000000</td>\n",
       "    </tr>\n",
       "    <tr>\n",
       "      <th>25%</th>\n",
       "      <td>48.000000</td>\n",
       "      <td>0.000000</td>\n",
       "      <td>3.000000</td>\n",
       "      <td>120.000000</td>\n",
       "      <td>211.000000</td>\n",
       "      <td>0.000000</td>\n",
       "      <td>0.000000</td>\n",
       "      <td>133.500000</td>\n",
       "      <td>0.000000</td>\n",
       "      <td>0.000000</td>\n",
       "      <td>1.000000</td>\n",
       "    </tr>\n",
       "    <tr>\n",
       "      <th>50%</th>\n",
       "      <td>56.000000</td>\n",
       "      <td>1.000000</td>\n",
       "      <td>3.000000</td>\n",
       "      <td>130.000000</td>\n",
       "      <td>241.000000</td>\n",
       "      <td>0.000000</td>\n",
       "      <td>1.000000</td>\n",
       "      <td>153.000000</td>\n",
       "      <td>0.000000</td>\n",
       "      <td>0.800000</td>\n",
       "      <td>2.000000</td>\n",
       "    </tr>\n",
       "    <tr>\n",
       "      <th>75%</th>\n",
       "      <td>61.000000</td>\n",
       "      <td>1.000000</td>\n",
       "      <td>4.000000</td>\n",
       "      <td>140.000000</td>\n",
       "      <td>275.000000</td>\n",
       "      <td>0.000000</td>\n",
       "      <td>2.000000</td>\n",
       "      <td>166.000000</td>\n",
       "      <td>1.000000</td>\n",
       "      <td>1.600000</td>\n",
       "      <td>2.000000</td>\n",
       "    </tr>\n",
       "    <tr>\n",
       "      <th>max</th>\n",
       "      <td>77.000000</td>\n",
       "      <td>1.000000</td>\n",
       "      <td>4.000000</td>\n",
       "      <td>200.000000</td>\n",
       "      <td>564.000000</td>\n",
       "      <td>1.000000</td>\n",
       "      <td>2.000000</td>\n",
       "      <td>202.000000</td>\n",
       "      <td>1.000000</td>\n",
       "      <td>6.200000</td>\n",
       "      <td>3.000000</td>\n",
       "    </tr>\n",
       "  </tbody>\n",
       "</table>\n",
       "</div>"
      ],
      "text/plain": [
       "              age         sex          cp    trestbps        chol         fbs  \\\n",
       "count  303.000000  303.000000  303.000000  303.000000  303.000000  303.000000   \n",
       "mean    54.438944    0.679868    3.158416  131.689769  246.693069    0.148515   \n",
       "std      9.038662    0.467299    0.960126   17.599748   51.776918    0.356198   \n",
       "min     29.000000    0.000000    1.000000   94.000000  126.000000    0.000000   \n",
       "25%     48.000000    0.000000    3.000000  120.000000  211.000000    0.000000   \n",
       "50%     56.000000    1.000000    3.000000  130.000000  241.000000    0.000000   \n",
       "75%     61.000000    1.000000    4.000000  140.000000  275.000000    0.000000   \n",
       "max     77.000000    1.000000    4.000000  200.000000  564.000000    1.000000   \n",
       "\n",
       "          restecg     thalach       exang     oldpeak       slope  \n",
       "count  303.000000  303.000000  303.000000  303.000000  303.000000  \n",
       "mean     0.990099  149.607261    0.326733    1.039604    1.600660  \n",
       "std      0.994971   22.875003    0.469794    1.161075    0.616226  \n",
       "min      0.000000   71.000000    0.000000    0.000000    1.000000  \n",
       "25%      0.000000  133.500000    0.000000    0.000000    1.000000  \n",
       "50%      1.000000  153.000000    0.000000    0.800000    2.000000  \n",
       "75%      2.000000  166.000000    1.000000    1.600000    2.000000  \n",
       "max      2.000000  202.000000    1.000000    6.200000    3.000000  "
      ]
     },
     "execution_count": 12,
     "metadata": {},
     "output_type": "execute_result"
    }
   ],
   "source": [
    "df.describe()"
   ]
  },
  {
   "cell_type": "code",
   "execution_count": 13,
   "id": "c8f9732b",
   "metadata": {},
   "outputs": [
    {
     "name": "stdout",
     "output_type": "stream",
     "text": [
      "<class 'pandas.core.frame.DataFrame'>\n",
      "RangeIndex: 303 entries, 0 to 302\n",
      "Data columns (total 14 columns):\n",
      " #   Column    Non-Null Count  Dtype  \n",
      "---  ------    --------------  -----  \n",
      " 0   age       303 non-null    float64\n",
      " 1   sex       303 non-null    float64\n",
      " 2   cp        303 non-null    float64\n",
      " 3   trestbps  303 non-null    float64\n",
      " 4   chol      303 non-null    float64\n",
      " 5   fbs       303 non-null    float64\n",
      " 6   restecg   303 non-null    float64\n",
      " 7   thalach   303 non-null    float64\n",
      " 8   exang     303 non-null    float64\n",
      " 9   oldpeak   303 non-null    float64\n",
      " 10  slope     303 non-null    float64\n",
      " 11  ca        303 non-null    object \n",
      " 12  thal      303 non-null    object \n",
      " 13  target    303 non-null    bool   \n",
      "dtypes: bool(1), float64(11), object(2)\n",
      "memory usage: 31.2+ KB\n"
     ]
    }
   ],
   "source": [
    "df.info()"
   ]
  },
  {
   "cell_type": "code",
   "execution_count": 14,
   "id": "f384f6dc",
   "metadata": {},
   "outputs": [
    {
     "data": {
      "text/plain": [
       "ca   target\n",
       "0.0  False     130\n",
       "     True       46\n",
       "1.0  True       44\n",
       "     False      21\n",
       "2.0  True       31\n",
       "     False       7\n",
       "3.0  True       17\n",
       "     False       3\n",
       "?    False       3\n",
       "     True        1\n",
       "Name: target, dtype: int64"
      ]
     },
     "execution_count": 14,
     "metadata": {},
     "output_type": "execute_result"
    }
   ],
   "source": [
    "df.groupby('ca').target.value_counts()"
   ]
  },
  {
   "cell_type": "code",
   "execution_count": 15,
   "id": "d9a71b55",
   "metadata": {},
   "outputs": [
    {
     "data": {
      "text/plain": [
       "ca  target\n",
       "0   False     130\n",
       "    True       46\n",
       "1   True       44\n",
       "    False      21\n",
       "2   True       31\n",
       "    False       7\n",
       "3   True       17\n",
       "    False       3\n",
       "4   False       3\n",
       "    True        1\n",
       "Name: target, dtype: int64"
      ]
     },
     "execution_count": 15,
     "metadata": {},
     "output_type": "execute_result"
    }
   ],
   "source": [
    "# Convertim els ? en 4\n",
    "df['ca'] = df.ca.apply(lambda x: ['0.0', '1.0', '2.0', '3.0', '?'].index(x))\n",
    "df.groupby('ca').target.value_counts()"
   ]
  },
  {
   "cell_type": "code",
   "execution_count": 16,
   "id": "967d9896",
   "metadata": {},
   "outputs": [
    {
     "data": {
      "text/plain": [
       "thal  target\n",
       "3.0   False     129\n",
       "      True       37\n",
       "6.0   True       12\n",
       "      False       6\n",
       "7.0   True       89\n",
       "      False      28\n",
       "?     False       1\n",
       "      True        1\n",
       "Name: target, dtype: int64"
      ]
     },
     "execution_count": 16,
     "metadata": {},
     "output_type": "execute_result"
    }
   ],
   "source": [
    "df.groupby('thal').target.value_counts()"
   ]
  },
  {
   "cell_type": "code",
   "execution_count": 17,
   "id": "fdc6f605",
   "metadata": {},
   "outputs": [
    {
     "data": {
      "text/plain": [
       "thal  target\n",
       "0     False     129\n",
       "      True       37\n",
       "1     True       12\n",
       "      False       6\n",
       "2     True       89\n",
       "      False      28\n",
       "3     False       1\n",
       "      True        1\n",
       "Name: target, dtype: int64"
      ]
     },
     "execution_count": 17,
     "metadata": {},
     "output_type": "execute_result"
    }
   ],
   "source": [
    "# Factoritzem aquesta variable: \n",
    "df['thal'] = df.thal.apply(lambda x: ['3.0', '6.0', '7.0', '?'].index(x))\n",
    "df.groupby('thal').target.value_counts()"
   ]
  },
  {
   "cell_type": "markdown",
   "id": "89912b02",
   "metadata": {},
   "source": [
    "El que implica el mappeig es que hem categoritzat aquesta info. Ho hem de canviar al diccionari. No tenim una relació d'ordre entre els numeros. Algo més gran que una altre no vol dir res.\n",
    "<br/>\n",
    "<br/>\n",
    "No cal que ho fem això. Com que estudiem el valor de la x independentment de les altres. Una distribució la estimem amb alguns registres menys. \n",
    "<br />\n",
    "<br/>\n",
    "Per aquells registres en concret no podem fer inferencia."
   ]
  },
  {
   "cell_type": "code",
   "execution_count": 18,
   "id": "994eb0f7",
   "metadata": {},
   "outputs": [],
   "source": [
    "# X['thal'] = 0\n",
    "# Ja ho teniem bé. "
   ]
  },
  {
   "cell_type": "code",
   "execution_count": 19,
   "id": "2a7fe9bc",
   "metadata": {},
   "outputs": [
    {
     "data": {
      "image/png": "[encoded data removed]",
      "text/plain": [
       "<Figure size 640x480 with 2 Axes>"
      ]
     },
     "metadata": {},
     "output_type": "display_data"
    }
   ],
   "source": [
    "fig, axs = plt.subplots(1,2)"
   ]
  },
  {
   "cell_type": "markdown",
   "id": "e2c690b4",
   "metadata": {},
   "source": [
    "Likelihood functions"
   ]
  },
  {
   "cell_type": "code",
   "execution_count": 20,
   "id": "0abb993e",
   "metadata": {},
   "outputs": [],
   "source": [
    "from scipy.stats import gaussian_kde"
   ]
  },
  {
   "cell_type": "markdown",
   "id": "1f9c81dc",
   "metadata": {},
   "source": [
    "### Continuous variables"
   ]
  },
  {
   "cell_type": "code",
   "execution_count": 21,
   "id": "5e6ffddc",
   "metadata": {},
   "outputs": [],
   "source": [
    "lkh0_age = gaussian_kde(df.age.loc[df.target == False].transpose(), bw_method = 'scott')\n",
    "lkh1_age = gaussian_kde(df.age.loc[df.target == True].transpose(), bw_method = 'scott')"
   ]
  },
  {
   "cell_type": "markdown",
   "id": "5dcc5e9f",
   "metadata": {},
   "source": [
    "### Discrete variables"
   ]
  },
  {
   "cell_type": "code",
   "execution_count": 22,
   "id": "14f649a6",
   "metadata": {},
   "outputs": [
    {
     "data": {
      "text/plain": [
       "(target  sex\n",
       " False   0.0    0.439024\n",
       "         1.0    0.560976\n",
       " Name: sex, dtype: float64,\n",
       " target  sex\n",
       " True    0.0    0.179856\n",
       "         1.0    0.820144\n",
       " Name: sex, dtype: float64)"
      ]
     },
     "execution_count": 22,
     "metadata": {},
     "output_type": "execute_result"
    }
   ],
   "source": [
    "# Tenir amb compte que el value_counts, sempre retorna el que és més gran al primer. \n",
    "lkh0_sex = df.loc[df.target == False].groupby('target').sex.value_counts(normalize = True).sort_index()\n",
    "lkh1_sex = df.loc[df.target == True].groupby('target').sex.value_counts(normalize = True).sort_index()\n",
    "lkh0_sex, lkh1_sex"
   ]
  },
  {
   "cell_type": "markdown",
   "id": "3cb8d481",
   "metadata": {},
   "source": [
    "És el mateix que abans amb el 0.81 de home/dona d'abans"
   ]
  },
  {
   "cell_type": "markdown",
   "id": "d5db5141",
   "metadata": {},
   "source": [
    "### Laplacian smoothing"
   ]
  },
  {
   "cell_type": "code",
   "execution_count": 23,
   "id": "3292e42e",
   "metadata": {},
   "outputs": [],
   "source": [
    "# Per un altre dia"
   ]
  },
  {
   "cell_type": "markdown",
   "id": "c59af1e1",
   "metadata": {},
   "source": [
    "Ara passem a la part de PIA (programació de intel·ligencia artificial). Fins ara era generar el model (cosa conceptual). Com si tinguessim 300 variables."
   ]
  },
  {
   "cell_type": "markdown",
   "id": "8670158d",
   "metadata": {},
   "source": [
    "Diccionari on guardem tota la informació (si es variable continua/discreta, categories (home sa x, blau sa x, etc, totes les possibilitats), kde per sans/malalts). Això ho podríem fer amb una classe també."
   ]
  },
  {
   "cell_type": "code",
   "execution_count": 24,
   "id": "4af1799b",
   "metadata": {},
   "outputs": [
    {
     "data": {
      "text/plain": [
       "{'age': {'dtype': 1, 'cats': [], 'lkh0': None, 'lkh1': None},\n",
       " 'sex': {'dtype': 0, 'cats': [], 'lkh0': None, 'lkh1': None},\n",
       " 'cp': {'dtype': 0, 'cats': [], 'lkh0': None, 'lkh1': None},\n",
       " 'trestbps': {'dtype': 1, 'cats': [], 'lkh0': None, 'lkh1': None},\n",
       " 'chol': {'dtype': 1, 'cats': [], 'lkh0': None, 'lkh1': None},\n",
       " 'fbs': {'dtype': 0, 'cats': [], 'lkh0': None, 'lkh1': None},\n",
       " 'restecg': {'dtype': 0, 'cats': [], 'lkh0': None, 'lkh1': None},\n",
       " 'thalach': {'dtype': 1, 'cats': [], 'lkh0': None, 'lkh1': None},\n",
       " 'exang': {'dtype': 0, 'cats': [], 'lkh0': None, 'lkh1': None},\n",
       " 'oldpeak': {'dtype': 1, 'cats': [], 'lkh0': None, 'lkh1': None},\n",
       " 'slope': {'dtype': 0, 'cats': [], 'lkh0': None, 'lkh1': None},\n",
       " 'ca': {'dtype': 0, 'cats': [], 'lkh0': None, 'lkh1': None},\n",
       " 'thal': {'dtype': 0, 'cats': [], 'lkh0': None, 'lkh1': None}}"
      ]
     },
     "execution_count": 24,
     "metadata": {},
     "output_type": "execute_result"
    }
   ],
   "source": [
    "lkhDict = {Xj: {'dtype': dt, 'cats': [], 'lkh0': None, 'lkh1': None} for Xj, dt in X.items()}\n",
    "lkhDict"
   ]
  },
  {
   "cell_type": "markdown",
   "id": "af09f15e",
   "metadata": {},
   "source": [
    "Per cada variable contemplo les dues possibilitats. Si es variable continua, farem un gaussian. "
   ]
  },
  {
   "cell_type": "code",
   "execution_count": 25,
   "id": "09b643db",
   "metadata": {},
   "outputs": [],
   "source": [
    "# alpha = 1\n",
    "for Xj in X:\n",
    "    if lkhDict[Xj]['dtype'] == 1:\n",
    "        # No cal el transpose perquè és una sola columna\n",
    "        lkhDict[Xj]['lkh0'] = gaussian_kde(df[Xj].loc[df.target == False], bw_method = 'scott')\n",
    "        lkhDict[Xj]['lkh1'] = gaussian_kde(df[Xj].loc[df.target == True], bw_method = 'scott')\n",
    "    else:\n",
    "        # Per cada un mirem quants valors té i ho normalitzem dividint per el total\n",
    "        lkhDict[Xj]['lkh0'] = df[Xj].loc[df.target == False].value_counts(normalize = True).sort_index().to_numpy()\n",
    "        lkhDict[Xj]['lkh1'] = df[Xj].loc[df.target == True].value_counts(normalize = True).sort_index().to_numpy()\n"
   ]
  },
  {
   "cell_type": "code",
   "execution_count": 26,
   "id": "b1bd09ee",
   "metadata": {},
   "outputs": [
    {
     "name": "stdout",
     "output_type": "stream",
     "text": [
      "--- age continuous\n",
      "--- lkh_0 <scipy.stats._kde.gaussian_kde object at 0x0000024CA0F32BD0>\n",
      "--- lkh_1 <scipy.stats._kde.gaussian_kde object at 0x0000024CA14E55D0>\n",
      "--- sex discrete\n",
      "--- lkh_0 [0.43902439 0.56097561]\n",
      "--- lkh_1 [0.17985612 0.82014388]\n",
      "--- cp discrete\n",
      "--- lkh_0 [0.09756098 0.25       0.41463415 0.23780488]\n",
      "--- lkh_1 [0.05035971 0.0647482  0.1294964  0.75539568]\n",
      "--- trestbps continuous\n",
      "--- lkh_0 <scipy.stats._kde.gaussian_kde object at 0x0000024CA0F4F090>\n",
      "--- lkh_1 <scipy.stats._kde.gaussian_kde object at 0x0000024CA0F4DAD0>\n",
      "--- chol continuous\n",
      "--- lkh_0 <scipy.stats._kde.gaussian_kde object at 0x0000024CA0F4EF10>\n",
      "--- lkh_1 <scipy.stats._kde.gaussian_kde object at 0x0000024CA0F4D350>\n",
      "--- fbs discrete\n",
      "--- lkh_0 [0.8597561 0.1402439]\n",
      "--- lkh_1 [0.84172662 0.15827338]\n",
      "--- restecg discrete\n",
      "--- lkh_0 [0.57926829 0.00609756 0.41463415]\n",
      "--- lkh_1 [0.4028777  0.02158273 0.57553957]\n",
      "--- thalach continuous\n",
      "--- lkh_0 <scipy.stats._kde.gaussian_kde object at 0x0000024CA0F4D890>\n",
      "--- lkh_1 <scipy.stats._kde.gaussian_kde object at 0x0000024CA0F4EC10>\n",
      "--- exang discrete\n",
      "--- lkh_0 [0.8597561 0.1402439]\n",
      "--- lkh_1 [0.45323741 0.54676259]\n",
      "--- oldpeak continuous\n",
      "--- lkh_0 <scipy.stats._kde.gaussian_kde object at 0x0000024CA0F4FF90>\n",
      "--- lkh_1 <scipy.stats._kde.gaussian_kde object at 0x0000024CA15B8350>\n",
      "--- slope discrete\n",
      "--- lkh_0 [0.64634146 0.29878049 0.05487805]\n",
      "--- lkh_1 [0.25899281 0.65467626 0.08633094]\n",
      "--- ca discrete\n",
      "--- lkh_0 [0.79268293 0.12804878 0.04268293 0.01829268 0.01829268]\n",
      "--- lkh_1 [0.33093525 0.31654676 0.22302158 0.12230216 0.00719424]\n",
      "--- thal discrete\n",
      "--- lkh_0 [0.78658537 0.03658537 0.17073171 0.00609756]\n",
      "--- lkh_1 [0.26618705 0.08633094 0.64028777 0.00719424]\n"
     ]
    }
   ],
   "source": [
    "for Xj in lkhDict:\n",
    "    print('--- %s %s' %(Xj, 'continuous' if X[Xj] else 'discrete'))\n",
    "    print('--- lkh_0 %s' %lkhDict[Xj]['lkh0'])\n",
    "    print('--- lkh_1 %s' %lkhDict[Xj]['lkh1'])"
   ]
  },
  {
   "cell_type": "markdown",
   "id": "86b4fb1a",
   "metadata": {},
   "source": [
    "Sumen 1 en horitzontal i no en vertical, per tant hem d'evaluar per les dues funcions, perque estem evaluant el % de que sigui home/dona"
   ]
  },
  {
   "cell_type": "markdown",
   "id": "ecaeae44",
   "metadata": {},
   "source": [
    "#### prior"
   ]
  },
  {
   "cell_type": "code",
   "execution_count": 27,
   "id": "1ab62b8f",
   "metadata": {},
   "outputs": [
    {
     "name": "stdout",
     "output_type": "stream",
     "text": [
      "--- heart disease\n",
      "--- False 0.5413\n",
      "--- True 0.4587\n"
     ]
    }
   ],
   "source": [
    "prior0, prior1 = df.target.value_counts(normalize = True).sort_index()\n",
    "print('--- heart disease')\n",
    "print('--- False %6.4f' %prior0)\n",
    "print('--- True %6.4f' %prior1)"
   ]
  },
  {
   "cell_type": "markdown",
   "id": "3f08e059",
   "metadata": {},
   "source": [
    "#### posterior\n",
    "funcio d'evaluació, prob d'una serie de valors (dades d'un pacient) propies del model i que ens evalui (diagnostiqui) si te la malaltia o no la té."
   ]
  },
  {
   "cell_type": "code",
   "execution_count": 28,
   "id": "1cc03b13",
   "metadata": {},
   "outputs": [],
   "source": [
    "def evaluate_post(row):\n",
    "    # encara no hem evaluat cap dada, són iguals\n",
    "    post0, post1 = prior0, prior1\n",
    "    \n",
    "    # Per cada dada, multipliquem el seu valor\n",
    "    for Xj in lkhDict:\n",
    "        dt, lkh0, lkh1 = lkhDict[Xj]['dtype'], lkhDict[Xj]['lkh0'], lkhDict[Xj]['lkh1']\n",
    "        if dt == 1:\n",
    "            # Donat que es sa, sabem l'altre\n",
    "            post0 *= lkh0.evaluate(row[Xj])[0]\n",
    "            post1 *= lkh1.evaluate(row[Xj])[0]\n",
    "        else:\n",
    "            post0 *= lkh0[int(row[Xj])]\n",
    "            post1 *= lkh1[int(row[Xj])]\n",
    "        return post1 > post0"
   ]
  },
  {
   "cell_type": "code",
   "execution_count": 29,
   "id": "e87cf89b",
   "metadata": {},
   "outputs": [],
   "source": [
    "df['predicted'] = df.apply(lambda row: evaluate_post(row), axis = 1)"
   ]
  },
  {
   "cell_type": "code",
   "execution_count": 30,
   "id": "061e6063",
   "metadata": {},
   "outputs": [
    {
     "data": {
      "text/plain": [
       "target  predicted\n",
       "False   False        105\n",
       "        True          59\n",
       "True    True          91\n",
       "        False         48\n",
       "Name: predicted, dtype: int64"
      ]
     },
     "execution_count": 30,
     "metadata": {},
     "output_type": "execute_result"
    }
   ],
   "source": [
    "df.groupby('target').predicted.value_counts()"
   ]
  }
 ],
 "metadata": {
  "kernelspec": {
   "display_name": "Python 3 (ipykernel)",
   "language": "python",
   "name": "python3"
  },
  "language_info": {
   "codemirror_mode": {
    "name": "ipython",
    "version": 3
   },
   "file_extension": ".py",
   "mimetype": "text/x-python",
   "name": "python",
   "nbconvert_exporter": "python",
   "pygments_lexer": "ipython3",
   "version": "3.11.5"
  }
 },
 "nbformat": 4,
 "nbformat_minor": 5
}
