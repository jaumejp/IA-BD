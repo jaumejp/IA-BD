{
 "cells": [
  {
   "cell_type": "markdown",
   "id": "169070cc",
   "metadata": {},
   "source": [
    "### A la carpeta de exercicis/medical_cleveland_analysis hi ha el que vam fer a classe amb les meves notes i apunts."
   ]
  },
  {
   "cell_type": "markdown",
   "id": "513c85c0",
   "metadata": {},
   "source": [
    "### Funció de versemblança:\n",
    "\n",
    "- Separar per sans i malalts i mirar per una variable quins ho estan o no. \n",
    "    - Com de versemblan és que estiguis malalt amb 50 anys? malalts als 50 (n) dividit per el total de sans (n + totes les altres edats). \n",
    "    - Com de versemblan és que estiguis malalt si ets un home? &rarr; Fem el mateix.\n",
    "    - Totes aquestes probabilitats es van multiplicant per saber la probabilitat final (loop/funció que hi ha al final).\n",
    "- És la distribució condicional."
   ]
  },
  {
   "cell_type": "markdown",
   "id": "df54b8a5",
   "metadata": {},
   "source": [
    "### Naive Bayes Classifier\n",
    "\n",
    "- Hem vist que en el cas del dataset Iris el Bayessian Classifier és molt robust.\n",
    "- Però hi ha molts casos en que un classificador bayessià pot ser inviable:\n",
    "    - $X$ conté a la vegada atributs continus i discrets (categòrics, ordinals);\n",
    "    - $X$ està format per un número elevat d'atributs (alguns d'ells amb vàries categories);\n",
    "    - les dues coses a la vegada.\n",
    "- En qualsevol d'aquests casos la dimensió de la distribució $P\\left(X|Y\\right)$ és tan elevada que caldrien moltíssims exemples per tenir una bona representació del domini i de com es distribueix la probabilitat cojuntament.\n",
    "- El Naive Bayes Classifier soluciona exactament això.\n",
    "- La solució és molt \"naïf\" (d'aquí el nom) ja que consisteix en assumir que els atributs d'entrada són independents entre ells, es a dir:\n",
    "\n",
    "$$\n",
    "\\text{donat}\\; X=\\{X^1, X^2, \\dots, X^m\\},\\; \\text{assumim que}\\;P\\left(X|Y\\right) = P\\left(X^1|Y\\right)\\,P\\left(X^2|Y\\right)\\,\\dots\\,P\\left(X^m|Y\\right) = \\prod_{j=1}^{m}\\,P\\left(X^j|Y\\right)\n",
    "$$\n",
    "\n",
    "- Sota aquesta assumpció no cal calcular la distribució condicional conjunta $P\\left(X|Y\\right)$ sino que calcularem la distribució condicional de cada atribut respecte a la classe $P\\left(X^j|Y\\right)$ (funcions de versemblança independents)\n",
    "- Amb això, la distribució a posteriori (Teorema de Bayes) queda:\n",
    "\n",
    "$$\n",
    "P\\left(Y|X\\right)\\approxeq\\,P\\left(Y\\right)\\;\\prod_{j=1}^m\\,P\\left(X^j|Y\\right)\n",
    "$$"
   ]
  },
  {
   "cell_type": "code",
   "execution_count": 1,
   "id": "f194cf29",
   "metadata": {},
   "outputs": [],
   "source": [
    "import numpy as np\n",
    "import matplotlib.pyplot as plt\n",
    "import pandas as pd\n",
    "import seaborn as sns\n",
    "sns.set_theme()"
   ]
  },
  {
   "cell_type": "markdown",
   "id": "5a102dd8",
   "metadata": {},
   "source": [
    "#### Exemple: Heart-Disease dataset"
   ]
  },
  {
   "cell_type": "markdown",
   "id": "e9be14e5",
   "metadata": {},
   "source": [
    "- Description (14 attributes):\n",
    "\n",
    "\n",
    "    - 01. 3  (age)       age in years\n",
    "    - 02. 4  (sex)       (1 = male; 0 = female)\n",
    "    - 03. 9  (cp)        chest pain type\n",
    "                            - 1: typical angina\n",
    "                            - 2: atypical angina\n",
    "                            - 3: non-anginal pain\n",
    "                            - 4: asymptomatic\n",
    "    - 04. 10 (restbps)   resting blood pressure (in mm Hg on admission to the hospital)\n",
    "    - 05. 12 (chol)      serum cholestoral in mg/dl\n",
    "    - 06. 16 (fbs)       (fasting blood sugar > 120 mg/dl)  (1 = true; 0 = false)\n",
    "    - 07. 19 (restecg)   resting electrocardiographic results\n",
    "                            - 0: normal\n",
    "                            - 1: having ST-T wave abnormality (T wave inversions and/or ST\n",
    "                            elevation or depression of > 0.05 mV)\n",
    "                            - 2: showing probable or definite left ventricular hypertrophy\n",
    "                            by Estes' criteria\n",
    "    - 08. 32 (thalach)   maximum heart rate achieved\n",
    "    - 09. 38 (exang)     exercise induced angina (1 = yes; 0 = no)\n",
    "    - 10. 40 (oldpeak)   ST depression induced by exercise relative to rest \n",
    "    - 11. 41 (slope)     the slope of the peak exercise ST segment:\n",
    "                            - 1: upsloping\n",
    "                            - 2: flat\n",
    "                            - 3: downsloping\n",
    "    - 12. 44 (ca)        number of major vessels (0-3) colored by flourosopy \n",
    "    - 13. 51 (thal)      3 = normal; 6 = fixed defect; 7 = reversable defect \n",
    "    - 14. 58 (num)       diagnosis of heart disease (angiographic disease status, the predicted attribute)\n",
    "                            - 0: < 50% diameter narrowing\n",
    "                            - 1: > 50% diameter narrowing \n"
   ]
  },
  {
   "cell_type": "markdown",
   "id": "7cd6c01d",
   "metadata": {},
   "source": [
    "##### name and type of the variables"
   ]
  },
  {
   "cell_type": "code",
   "execution_count": 2,
   "id": "756ac75a",
   "metadata": {},
   "outputs": [],
   "source": [
    "# 0: discrete\n",
    "# 1: continuos\n",
    "X = {'age': 1,\n",
    "     'sex': 0,\n",
    "     'cp': 0,\n",
    "     'restbps': 1,\n",
    "     'chol': 1,\n",
    "     'fbs': 0,\n",
    "     'restecg': 0,\n",
    "     'thalach': 1,\n",
    "     'exang': 0,\n",
    "     'oldpeak': 1,\n",
    "     'slope': 0,\n",
    "     'ca': 0,\n",
    "     'thal': 0}\n",
    "Y = ['target']"
   ]
  },
  {
   "cell_type": "code",
   "execution_count": 3,
   "id": "125229b9",
   "metadata": {},
   "outputs": [],
   "source": [
    "df = pd.read_csv('../Dades/cleveland/processed.cleveland.data', names  = [x for x in X.keys()] +Y)"
   ]
  },
  {
   "cell_type": "code",
   "execution_count": 4,
   "id": "9a6bc85b",
   "metadata": {},
   "outputs": [
    {
     "data": {
      "text/html": [
       "<div>\n",
       "<style scoped>\n",
       "    .dataframe tbody tr th:only-of-type {\n",
       "        vertical-align: middle;\n",
       "    }\n",
       "\n",
       "    .dataframe tbody tr th {\n",
       "        vertical-align: top;\n",
       "    }\n",
       "\n",
       "    .dataframe thead th {\n",
       "        text-align: right;\n",
       "    }\n",
       "</style>\n",
       "<table border=\"1\" class=\"dataframe\">\n",
       "  <thead>\n",
       "    <tr style=\"text-align: right;\">\n",
       "      <th></th>\n",
       "      <th>age</th>\n",
       "      <th>sex</th>\n",
       "      <th>cp</th>\n",
       "      <th>restbps</th>\n",
       "      <th>chol</th>\n",
       "      <th>fbs</th>\n",
       "      <th>restecg</th>\n",
       "      <th>thalach</th>\n",
       "      <th>exang</th>\n",
       "      <th>oldpeak</th>\n",
       "      <th>slope</th>\n",
       "      <th>ca</th>\n",
       "      <th>thal</th>\n",
       "      <th>target</th>\n",
       "    </tr>\n",
       "  </thead>\n",
       "  <tbody>\n",
       "    <tr>\n",
       "      <th>0</th>\n",
       "      <td>63.0</td>\n",
       "      <td>1.0</td>\n",
       "      <td>1.0</td>\n",
       "      <td>145.0</td>\n",
       "      <td>233.0</td>\n",
       "      <td>1.0</td>\n",
       "      <td>2.0</td>\n",
       "      <td>150.0</td>\n",
       "      <td>0.0</td>\n",
       "      <td>2.3</td>\n",
       "      <td>3.0</td>\n",
       "      <td>0.0</td>\n",
       "      <td>6.0</td>\n",
       "      <td>0</td>\n",
       "    </tr>\n",
       "    <tr>\n",
       "      <th>1</th>\n",
       "      <td>67.0</td>\n",
       "      <td>1.0</td>\n",
       "      <td>4.0</td>\n",
       "      <td>160.0</td>\n",
       "      <td>286.0</td>\n",
       "      <td>0.0</td>\n",
       "      <td>2.0</td>\n",
       "      <td>108.0</td>\n",
       "      <td>1.0</td>\n",
       "      <td>1.5</td>\n",
       "      <td>2.0</td>\n",
       "      <td>3.0</td>\n",
       "      <td>3.0</td>\n",
       "      <td>2</td>\n",
       "    </tr>\n",
       "    <tr>\n",
       "      <th>2</th>\n",
       "      <td>67.0</td>\n",
       "      <td>1.0</td>\n",
       "      <td>4.0</td>\n",
       "      <td>120.0</td>\n",
       "      <td>229.0</td>\n",
       "      <td>0.0</td>\n",
       "      <td>2.0</td>\n",
       "      <td>129.0</td>\n",
       "      <td>1.0</td>\n",
       "      <td>2.6</td>\n",
       "      <td>2.0</td>\n",
       "      <td>2.0</td>\n",
       "      <td>7.0</td>\n",
       "      <td>1</td>\n",
       "    </tr>\n",
       "    <tr>\n",
       "      <th>3</th>\n",
       "      <td>37.0</td>\n",
       "      <td>1.0</td>\n",
       "      <td>3.0</td>\n",
       "      <td>130.0</td>\n",
       "      <td>250.0</td>\n",
       "      <td>0.0</td>\n",
       "      <td>0.0</td>\n",
       "      <td>187.0</td>\n",
       "      <td>0.0</td>\n",
       "      <td>3.5</td>\n",
       "      <td>3.0</td>\n",
       "      <td>0.0</td>\n",
       "      <td>3.0</td>\n",
       "      <td>0</td>\n",
       "    </tr>\n",
       "    <tr>\n",
       "      <th>4</th>\n",
       "      <td>41.0</td>\n",
       "      <td>0.0</td>\n",
       "      <td>2.0</td>\n",
       "      <td>130.0</td>\n",
       "      <td>204.0</td>\n",
       "      <td>0.0</td>\n",
       "      <td>2.0</td>\n",
       "      <td>172.0</td>\n",
       "      <td>0.0</td>\n",
       "      <td>1.4</td>\n",
       "      <td>1.0</td>\n",
       "      <td>0.0</td>\n",
       "      <td>3.0</td>\n",
       "      <td>0</td>\n",
       "    </tr>\n",
       "  </tbody>\n",
       "</table>\n",
       "</div>"
      ],
      "text/plain": [
       "    age  sex   cp  restbps   chol  fbs  restecg  thalach  exang  oldpeak  \\\n",
       "0  63.0  1.0  1.0    145.0  233.0  1.0      2.0    150.0    0.0      2.3   \n",
       "1  67.0  1.0  4.0    160.0  286.0  0.0      2.0    108.0    1.0      1.5   \n",
       "2  67.0  1.0  4.0    120.0  229.0  0.0      2.0    129.0    1.0      2.6   \n",
       "3  37.0  1.0  3.0    130.0  250.0  0.0      0.0    187.0    0.0      3.5   \n",
       "4  41.0  0.0  2.0    130.0  204.0  0.0      2.0    172.0    0.0      1.4   \n",
       "\n",
       "   slope   ca thal  target  \n",
       "0    3.0  0.0  6.0       0  \n",
       "1    2.0  3.0  3.0       2  \n",
       "2    2.0  2.0  7.0       1  \n",
       "3    3.0  0.0  3.0       0  \n",
       "4    1.0  0.0  3.0       0  "
      ]
     },
     "execution_count": 4,
     "metadata": {},
     "output_type": "execute_result"
    }
   ],
   "source": [
    "df.head()"
   ]
  },
  {
   "cell_type": "markdown",
   "id": "cef7a0bb",
   "metadata": {},
   "source": [
    "#### Data exploration"
   ]
  },
  {
   "cell_type": "markdown",
   "id": "44c23108",
   "metadata": {},
   "source": [
    "##### dependent variable (target)"
   ]
  },
  {
   "cell_type": "markdown",
   "id": "aff30ea0",
   "metadata": {},
   "source": [
    "- 0: no disease; 1-4: disease severity level"
   ]
  },
  {
   "cell_type": "code",
   "execution_count": 5,
   "id": "8f86f78d",
   "metadata": {},
   "outputs": [
    {
     "data": {
      "text/plain": [
       "0    0.541254\n",
       "1    0.181518\n",
       "2    0.118812\n",
       "3    0.115512\n",
       "4    0.042904\n",
       "Name: target, dtype: float64"
      ]
     },
     "execution_count": 5,
     "metadata": {},
     "output_type": "execute_result"
    }
   ],
   "source": [
    "df.target.value_counts(normalize = True)"
   ]
  },
  {
   "cell_type": "markdown",
   "id": "5f1e6219",
   "metadata": {},
   "source": [
    "- reduce to a binary variable (no_disease/disease)"
   ]
  },
  {
   "cell_type": "code",
   "execution_count": 6,
   "id": "9a5ed4df",
   "metadata": {},
   "outputs": [],
   "source": [
    "df['target'] = df['target'].apply(lambda x: x > 0)"
   ]
  },
  {
   "cell_type": "code",
   "execution_count": 7,
   "id": "6e1f6ae4",
   "metadata": {},
   "outputs": [
    {
     "data": {
      "text/plain": [
       "target  target\n",
       "False   False     164\n",
       "True    True      139\n",
       "Name: target, dtype: int64"
      ]
     },
     "execution_count": 7,
     "metadata": {},
     "output_type": "execute_result"
    }
   ],
   "source": [
    "df.groupby('target').target.value_counts()"
   ]
  },
  {
   "cell_type": "markdown",
   "id": "d9dfeac6",
   "metadata": {},
   "source": [
    "##### independent variables (attributes)"
   ]
  },
  {
   "cell_type": "code",
   "execution_count": 8,
   "id": "1941bdd7",
   "metadata": {},
   "outputs": [
    {
     "data": {
      "image/png": "[encoded data removed]",
      "text/plain": [
       "<Figure size 1500x1200 with 15 Axes>"
      ]
     },
     "metadata": {},
     "output_type": "display_data"
    }
   ],
   "source": [
    "fig, axs = plt.subplots(3, 5, figsize = (15, 12), sharey = True)\n",
    "for axi, Xj in zip(axs.flatten()[:-1], X):\n",
    "    sns.histplot(ax = axi, data = df, x = Xj, hue = 'target')"
   ]
  },
  {
   "cell_type": "code",
   "execution_count": 9,
   "id": "da974588",
   "metadata": {},
   "outputs": [
    {
     "data": {
      "text/html": [
       "<div>\n",
       "<style scoped>\n",
       "    .dataframe tbody tr th:only-of-type {\n",
       "        vertical-align: middle;\n",
       "    }\n",
       "\n",
       "    .dataframe tbody tr th {\n",
       "        vertical-align: top;\n",
       "    }\n",
       "\n",
       "    .dataframe thead th {\n",
       "        text-align: right;\n",
       "    }\n",
       "</style>\n",
       "<table border=\"1\" class=\"dataframe\">\n",
       "  <thead>\n",
       "    <tr style=\"text-align: right;\">\n",
       "      <th></th>\n",
       "      <th>age</th>\n",
       "      <th>sex</th>\n",
       "      <th>cp</th>\n",
       "      <th>restbps</th>\n",
       "      <th>chol</th>\n",
       "      <th>fbs</th>\n",
       "      <th>restecg</th>\n",
       "      <th>thalach</th>\n",
       "      <th>exang</th>\n",
       "      <th>oldpeak</th>\n",
       "      <th>slope</th>\n",
       "    </tr>\n",
       "  </thead>\n",
       "  <tbody>\n",
       "    <tr>\n",
       "      <th>count</th>\n",
       "      <td>303.000000</td>\n",
       "      <td>303.000000</td>\n",
       "      <td>303.000000</td>\n",
       "      <td>303.000000</td>\n",
       "      <td>303.000000</td>\n",
       "      <td>303.000000</td>\n",
       "      <td>303.000000</td>\n",
       "      <td>303.000000</td>\n",
       "      <td>303.000000</td>\n",
       "      <td>303.000000</td>\n",
       "      <td>303.000000</td>\n",
       "    </tr>\n",
       "    <tr>\n",
       "      <th>mean</th>\n",
       "      <td>54.438944</td>\n",
       "      <td>0.679868</td>\n",
       "      <td>3.158416</td>\n",
       "      <td>131.689769</td>\n",
       "      <td>246.693069</td>\n",
       "      <td>0.148515</td>\n",
       "      <td>0.990099</td>\n",
       "      <td>149.607261</td>\n",
       "      <td>0.326733</td>\n",
       "      <td>1.039604</td>\n",
       "      <td>1.600660</td>\n",
       "    </tr>\n",
       "    <tr>\n",
       "      <th>std</th>\n",
       "      <td>9.038662</td>\n",
       "      <td>0.467299</td>\n",
       "      <td>0.960126</td>\n",
       "      <td>17.599748</td>\n",
       "      <td>51.776918</td>\n",
       "      <td>0.356198</td>\n",
       "      <td>0.994971</td>\n",
       "      <td>22.875003</td>\n",
       "      <td>0.469794</td>\n",
       "      <td>1.161075</td>\n",
       "      <td>0.616226</td>\n",
       "    </tr>\n",
       "    <tr>\n",
       "      <th>min</th>\n",
       "      <td>29.000000</td>\n",
       "      <td>0.000000</td>\n",
       "      <td>1.000000</td>\n",
       "      <td>94.000000</td>\n",
       "      <td>126.000000</td>\n",
       "      <td>0.000000</td>\n",
       "      <td>0.000000</td>\n",
       "      <td>71.000000</td>\n",
       "      <td>0.000000</td>\n",
       "      <td>0.000000</td>\n",
       "      <td>1.000000</td>\n",
       "    </tr>\n",
       "    <tr>\n",
       "      <th>25%</th>\n",
       "      <td>48.000000</td>\n",
       "      <td>0.000000</td>\n",
       "      <td>3.000000</td>\n",
       "      <td>120.000000</td>\n",
       "      <td>211.000000</td>\n",
       "      <td>0.000000</td>\n",
       "      <td>0.000000</td>\n",
       "      <td>133.500000</td>\n",
       "      <td>0.000000</td>\n",
       "      <td>0.000000</td>\n",
       "      <td>1.000000</td>\n",
       "    </tr>\n",
       "    <tr>\n",
       "      <th>50%</th>\n",
       "      <td>56.000000</td>\n",
       "      <td>1.000000</td>\n",
       "      <td>3.000000</td>\n",
       "      <td>130.000000</td>\n",
       "      <td>241.000000</td>\n",
       "      <td>0.000000</td>\n",
       "      <td>1.000000</td>\n",
       "      <td>153.000000</td>\n",
       "      <td>0.000000</td>\n",
       "      <td>0.800000</td>\n",
       "      <td>2.000000</td>\n",
       "    </tr>\n",
       "    <tr>\n",
       "      <th>75%</th>\n",
       "      <td>61.000000</td>\n",
       "      <td>1.000000</td>\n",
       "      <td>4.000000</td>\n",
       "      <td>140.000000</td>\n",
       "      <td>275.000000</td>\n",
       "      <td>0.000000</td>\n",
       "      <td>2.000000</td>\n",
       "      <td>166.000000</td>\n",
       "      <td>1.000000</td>\n",
       "      <td>1.600000</td>\n",
       "      <td>2.000000</td>\n",
       "    </tr>\n",
       "    <tr>\n",
       "      <th>max</th>\n",
       "      <td>77.000000</td>\n",
       "      <td>1.000000</td>\n",
       "      <td>4.000000</td>\n",
       "      <td>200.000000</td>\n",
       "      <td>564.000000</td>\n",
       "      <td>1.000000</td>\n",
       "      <td>2.000000</td>\n",
       "      <td>202.000000</td>\n",
       "      <td>1.000000</td>\n",
       "      <td>6.200000</td>\n",
       "      <td>3.000000</td>\n",
       "    </tr>\n",
       "  </tbody>\n",
       "</table>\n",
       "</div>"
      ],
      "text/plain": [
       "              age         sex          cp     restbps        chol         fbs  \\\n",
       "count  303.000000  303.000000  303.000000  303.000000  303.000000  303.000000   \n",
       "mean    54.438944    0.679868    3.158416  131.689769  246.693069    0.148515   \n",
       "std      9.038662    0.467299    0.960126   17.599748   51.776918    0.356198   \n",
       "min     29.000000    0.000000    1.000000   94.000000  126.000000    0.000000   \n",
       "25%     48.000000    0.000000    3.000000  120.000000  211.000000    0.000000   \n",
       "50%     56.000000    1.000000    3.000000  130.000000  241.000000    0.000000   \n",
       "75%     61.000000    1.000000    4.000000  140.000000  275.000000    0.000000   \n",
       "max     77.000000    1.000000    4.000000  200.000000  564.000000    1.000000   \n",
       "\n",
       "          restecg     thalach       exang     oldpeak       slope  \n",
       "count  303.000000  303.000000  303.000000  303.000000  303.000000  \n",
       "mean     0.990099  149.607261    0.326733    1.039604    1.600660  \n",
       "std      0.994971   22.875003    0.469794    1.161075    0.616226  \n",
       "min      0.000000   71.000000    0.000000    0.000000    1.000000  \n",
       "25%      0.000000  133.500000    0.000000    0.000000    1.000000  \n",
       "50%      1.000000  153.000000    0.000000    0.800000    2.000000  \n",
       "75%      2.000000  166.000000    1.000000    1.600000    2.000000  \n",
       "max      2.000000  202.000000    1.000000    6.200000    3.000000  "
      ]
     },
     "execution_count": 9,
     "metadata": {},
     "output_type": "execute_result"
    }
   ],
   "source": [
    "df.describe()"
   ]
  },
  {
   "cell_type": "code",
   "execution_count": 10,
   "id": "4fe80d03",
   "metadata": {},
   "outputs": [
    {
     "name": "stdout",
     "output_type": "stream",
     "text": [
      "<class 'pandas.core.frame.DataFrame'>\n",
      "RangeIndex: 303 entries, 0 to 302\n",
      "Data columns (total 14 columns):\n",
      " #   Column   Non-Null Count  Dtype  \n",
      "---  ------   --------------  -----  \n",
      " 0   age      303 non-null    float64\n",
      " 1   sex      303 non-null    float64\n",
      " 2   cp       303 non-null    float64\n",
      " 3   restbps  303 non-null    float64\n",
      " 4   chol     303 non-null    float64\n",
      " 5   fbs      303 non-null    float64\n",
      " 6   restecg  303 non-null    float64\n",
      " 7   thalach  303 non-null    float64\n",
      " 8   exang    303 non-null    float64\n",
      " 9   oldpeak  303 non-null    float64\n",
      " 10  slope    303 non-null    float64\n",
      " 11  ca       303 non-null    object \n",
      " 12  thal     303 non-null    object \n",
      " 13  target   303 non-null    bool   \n",
      "dtypes: bool(1), float64(11), object(2)\n",
      "memory usage: 31.2+ KB\n"
     ]
    }
   ],
   "source": [
    "df.info()"
   ]
  },
  {
   "cell_type": "markdown",
   "id": "9131dc1d",
   "metadata": {},
   "source": [
    "##### replace undefined values '?' in attributes 'ca' and 'thal'"
   ]
  },
  {
   "cell_type": "code",
   "execution_count": 11,
   "id": "9aead978",
   "metadata": {},
   "outputs": [
    {
     "data": {
      "text/plain": [
       "ca   target\n",
       "0.0  False     130\n",
       "     True       46\n",
       "1.0  True       44\n",
       "     False      21\n",
       "2.0  True       31\n",
       "     False       7\n",
       "3.0  True       17\n",
       "     False       3\n",
       "?    False       3\n",
       "     True        1\n",
       "Name: target, dtype: int64"
      ]
     },
     "execution_count": 11,
     "metadata": {},
     "output_type": "execute_result"
    }
   ],
   "source": [
    "df.groupby('ca').target.value_counts()"
   ]
  },
  {
   "cell_type": "code",
   "execution_count": 12,
   "id": "d92f0d97",
   "metadata": {},
   "outputs": [
    {
     "data": {
      "text/plain": [
       "ca  target\n",
       "0   False     130\n",
       "    True       46\n",
       "1   True       44\n",
       "    False      21\n",
       "2   True       31\n",
       "    False       7\n",
       "3   True       17\n",
       "    False       3\n",
       "4   False       3\n",
       "    True        1\n",
       "Name: target, dtype: int64"
      ]
     },
     "execution_count": 12,
     "metadata": {},
     "output_type": "execute_result"
    }
   ],
   "source": [
    "df['ca'] = df.ca.apply(lambda x: ['0.0', '1.0', '2.0', '3.0', '?'].index(x))\n",
    "df.groupby('ca').target.value_counts()"
   ]
  },
  {
   "cell_type": "code",
   "execution_count": 13,
   "id": "05bb49d9",
   "metadata": {},
   "outputs": [
    {
     "data": {
      "text/plain": [
       "thal  target\n",
       "3.0   False     129\n",
       "      True       37\n",
       "6.0   True       12\n",
       "      False       6\n",
       "7.0   True       89\n",
       "      False      28\n",
       "?     False       1\n",
       "      True        1\n",
       "Name: target, dtype: int64"
      ]
     },
     "execution_count": 13,
     "metadata": {},
     "output_type": "execute_result"
    }
   ],
   "source": [
    "df.groupby('thal').target.value_counts()"
   ]
  },
  {
   "cell_type": "code",
   "execution_count": 14,
   "id": "810a61d4",
   "metadata": {},
   "outputs": [
    {
     "data": {
      "text/plain": [
       "thal  target\n",
       "0     False     129\n",
       "      True       37\n",
       "1     True       12\n",
       "      False       6\n",
       "2     True       89\n",
       "      False      28\n",
       "3     False       1\n",
       "      True        1\n",
       "Name: target, dtype: int64"
      ]
     },
     "execution_count": 14,
     "metadata": {},
     "output_type": "execute_result"
    }
   ],
   "source": [
    "df['thal'] = df.thal.apply(lambda x: ['3.0', '6.0', '7.0', '?'].index(x))\n",
    "df.groupby('thal').target.value_counts()"
   ]
  },
  {
   "cell_type": "code",
   "execution_count": 15,
   "id": "19d7078f",
   "metadata": {},
   "outputs": [
    {
     "data": {
      "image/png": "[encoded data removed]",
      "text/plain": [
       "<Figure size 800x400 with 2 Axes>"
      ]
     },
     "metadata": {},
     "output_type": "display_data"
    }
   ],
   "source": [
    "fig, axs = plt.subplots(1, 2, figsize = (8, 4))\n",
    "for axi, Xj in zip(axs.flatten(), ['ca', 'thal']):\n",
    "    sns.histplot(ax = axi, data = df, x = Xj, hue = 'target')"
   ]
  },
  {
   "cell_type": "markdown",
   "id": "e5e895f6",
   "metadata": {},
   "source": [
    "#### Likelihood functions  $\\;\\mathcal{L^{j}}\\left(\\theta, X^{j}\\right)\\,\\equiv\\,P\\left(X^j|Y\\right)$"
   ]
  },
  {
   "cell_type": "code",
   "execution_count": 16,
   "id": "36ea06f4",
   "metadata": {},
   "outputs": [],
   "source": [
    "from scipy.stats import gaussian_kde"
   ]
  },
  {
   "cell_type": "markdown",
   "id": "7be61a95",
   "metadata": {},
   "source": [
    "##### likelihood function for discrete variables"
   ]
  },
  {
   "cell_type": "code",
   "execution_count": 17,
   "id": "1697ad68",
   "metadata": {},
   "outputs": [
    {
     "data": {
      "text/plain": [
       "(0.0    0.439024\n",
       " 1.0    0.560976\n",
       " Name: sex, dtype: float64,\n",
       " 0.0    0.179856\n",
       " 1.0    0.820144\n",
       " Name: sex, dtype: float64)"
      ]
     },
     "execution_count": 17,
     "metadata": {},
     "output_type": "execute_result"
    }
   ],
   "source": [
    "lkh0_sex = df.loc[df.target == False].sex.value_counts(normalize = True).sort_index()\n",
    "lkh1_sex = df.loc[df.target == True].sex.value_counts(normalize = True).sort_index()\n",
    "lkh0_sex, lkh1_sex"
   ]
  },
  {
   "cell_type": "markdown",
   "id": "9ffdb7d9",
   "metadata": {},
   "source": [
    "##### exemple"
   ]
  },
  {
   "cell_type": "markdown",
   "id": "26ca3a5a",
   "metadata": {},
   "source": [
    "- com de versemblant (creïble) és trobar un home entre els malalts ??? (proporció d'homes entre els malalts)\n",
    "- $P\\left(X[\\text{sex}]=\\text{home}\\,|Y=\\text{malalt}\\right)$"
   ]
  },
  {
   "cell_type": "code",
   "execution_count": 18,
   "id": "13fcd572",
   "metadata": {},
   "outputs": [
    {
     "data": {
      "text/plain": [
       "0.8201438848920863"
      ]
     },
     "execution_count": 18,
     "metadata": {},
     "output_type": "execute_result"
    }
   ],
   "source": [
    "lkh1_sex[1]"
   ]
  },
  {
   "cell_type": "markdown",
   "id": "82c727f1",
   "metadata": {},
   "source": [
    "- com de versemblant és trobar una dona entre els malalts ???\n",
    "- $P\\left(X[\\text{sex}]=\\text{dona}\\,|Y=\\text{malalt}\\right)$"
   ]
  },
  {
   "cell_type": "code",
   "execution_count": 19,
   "id": "9ea3357a",
   "metadata": {},
   "outputs": [
    {
     "data": {
      "text/plain": [
       "0.17985611510791366"
      ]
     },
     "execution_count": 19,
     "metadata": {},
     "output_type": "execute_result"
    }
   ],
   "source": [
    "lkh1_sex[0]"
   ]
  },
  {
   "cell_type": "markdown",
   "id": "746b3c63",
   "metadata": {},
   "source": [
    "##### likelihood function for continuous variables"
   ]
  },
  {
   "cell_type": "code",
   "execution_count": 20,
   "id": "ff3f3602",
   "metadata": {},
   "outputs": [],
   "source": [
    "lkh0_age = gaussian_kde(df.age.loc[df.target == False], bw_method = 'scott')\n",
    "lkh1_age = gaussian_kde(df.age.loc[df.target == True], bw_method = 'scott')"
   ]
  },
  {
   "cell_type": "markdown",
   "id": "04943f11",
   "metadata": {},
   "source": [
    "##### exemple\n",
    "- com de versemblant (creïble) és trobar una persona de 31 anys entre els malalts ???\n",
    "- $P\\left(X[\\text{age}]=31\\,|Y=\\text{malalt}\\right)$"
   ]
  },
  {
   "cell_type": "code",
   "execution_count": 21,
   "id": "dc467adb",
   "metadata": {},
   "outputs": [
    {
     "data": {
      "text/plain": [
       "array([0.00088631])"
      ]
     },
     "execution_count": 21,
     "metadata": {},
     "output_type": "execute_result"
    }
   ],
   "source": [
    "lkh1_age.evaluate(31)"
   ]
  },
  {
   "cell_type": "markdown",
   "id": "f4f8890c",
   "metadata": {},
   "source": [
    "##### iterative computation of all likelihood functions"
   ]
  },
  {
   "cell_type": "code",
   "execution_count": 22,
   "id": "aa62e894",
   "metadata": {},
   "outputs": [],
   "source": [
    "lkhDict = {Xj: {'dtype': dt, 'lkh0': None, 'lkh1': None} for Xj, dt in X.items()}"
   ]
  },
  {
   "cell_type": "code",
   "execution_count": 23,
   "id": "25dcaca3",
   "metadata": {},
   "outputs": [],
   "source": [
    "for Xj in X:\n",
    "    if lkhDict[Xj]['dtype'] == 1:\n",
    "        lkhDict[Xj]['lkh0'] = gaussian_kde(df[Xj].loc[df.target == False], bw_method = 'scott')\n",
    "        lkhDict[Xj]['lkh1'] = gaussian_kde(df[Xj].loc[df.target == True], bw_method = 'scott')        \n",
    "    else:\n",
    "        lkhDict[Xj]['lkh0'] = {idx: val.item() for idx, val in df[Xj].loc[df.target == False].value_counts(normalize = True).to_frame().iterrows()}\n",
    "        lkhDict[Xj]['lkh1'] = {idx: val.item() for idx, val in df[Xj].loc[df.target == True].value_counts(normalize = True).to_frame().iterrows()}"
   ]
  },
  {
   "cell_type": "code",
   "execution_count": 24,
   "id": "892a8cd5",
   "metadata": {},
   "outputs": [
    {
     "name": "stdout",
     "output_type": "stream",
     "text": [
      "--- age continuous\n",
      "... lkh_0 <scipy.stats._kde.gaussian_kde object at 0x000001679566CE50>\n",
      "... lkh_1 <scipy.stats._kde.gaussian_kde object at 0x0000016795613950>\n",
      "--- sex discrete\n",
      "... lkh_0 {1.0: 0.5609756097560976, 0.0: 0.43902439024390244}\n",
      "... lkh_1 {1.0: 0.8201438848920863, 0.0: 0.17985611510791366}\n",
      "--- cp discrete\n",
      "... lkh_0 {3.0: 0.4146341463414634, 2.0: 0.25, 4.0: 0.23780487804878048, 1.0: 0.0975609756097561}\n",
      "... lkh_1 {4.0: 0.7553956834532374, 3.0: 0.12949640287769784, 2.0: 0.06474820143884892, 1.0: 0.050359712230215826}\n",
      "--- restbps continuous\n",
      "... lkh_0 <scipy.stats._kde.gaussian_kde object at 0x000001679567FF50>\n",
      "... lkh_1 <scipy.stats._kde.gaussian_kde object at 0x000001679567C5D0>\n",
      "--- chol continuous\n",
      "... lkh_0 <scipy.stats._kde.gaussian_kde object at 0x000001679567CD10>\n",
      "... lkh_1 <scipy.stats._kde.gaussian_kde object at 0x000001679567E010>\n",
      "--- fbs discrete\n",
      "... lkh_0 {0.0: 0.8597560975609756, 1.0: 0.1402439024390244}\n",
      "... lkh_1 {0.0: 0.841726618705036, 1.0: 0.15827338129496402}\n",
      "--- restecg discrete\n",
      "... lkh_0 {0.0: 0.5792682926829268, 2.0: 0.4146341463414634, 1.0: 0.006097560975609756}\n",
      "... lkh_1 {2.0: 0.5755395683453237, 0.0: 0.4028776978417266, 1.0: 0.02158273381294964}\n",
      "--- thalach continuous\n",
      "... lkh_0 <scipy.stats._kde.gaussian_kde object at 0x000001679567EF90>\n",
      "... lkh_1 <scipy.stats._kde.gaussian_kde object at 0x000001679567EDD0>\n",
      "--- exang discrete\n",
      "... lkh_0 {0.0: 0.8597560975609756, 1.0: 0.1402439024390244}\n",
      "... lkh_1 {1.0: 0.5467625899280576, 0.0: 0.45323741007194246}\n",
      "--- oldpeak continuous\n",
      "... lkh_0 <scipy.stats._kde.gaussian_kde object at 0x0000016795684750>\n",
      "... lkh_1 <scipy.stats._kde.gaussian_kde object at 0x0000016795684490>\n",
      "--- slope discrete\n",
      "... lkh_0 {1.0: 0.6463414634146342, 2.0: 0.29878048780487804, 3.0: 0.054878048780487805}\n",
      "... lkh_1 {2.0: 0.6546762589928058, 1.0: 0.2589928057553957, 3.0: 0.08633093525179857}\n",
      "--- ca discrete\n",
      "... lkh_0 {0: 0.7926829268292683, 1: 0.12804878048780488, 2: 0.042682926829268296, 3: 0.018292682926829267, 4: 0.018292682926829267}\n",
      "... lkh_1 {0: 0.33093525179856115, 1: 0.31654676258992803, 2: 0.22302158273381295, 3: 0.1223021582733813, 4: 0.007194244604316547}\n",
      "--- thal discrete\n",
      "... lkh_0 {0: 0.7865853658536586, 2: 0.17073170731707318, 1: 0.036585365853658534, 3: 0.006097560975609756}\n",
      "... lkh_1 {2: 0.6402877697841727, 0: 0.26618705035971224, 1: 0.08633093525179857, 3: 0.007194244604316547}\n"
     ]
    }
   ],
   "source": [
    "for Xj in lkhDict:\n",
    "    print('--- %s %s' %(Xj, 'continuous' if X[Xj] else 'discrete'))\n",
    "    print('... lkh_0 %s' %lkhDict[Xj]['lkh0'])\n",
    "    print('... lkh_1 %s' %lkhDict[Xj]['lkh1'])"
   ]
  },
  {
   "cell_type": "markdown",
   "id": "cfee9f3c",
   "metadata": {},
   "source": [
    "#### prior"
   ]
  },
  {
   "cell_type": "code",
   "execution_count": 25,
   "id": "ed579b26",
   "metadata": {},
   "outputs": [
    {
     "name": "stdout",
     "output_type": "stream",
     "text": [
      "--- heart_disease\n",
      "... False 0.5413\n",
      "... True  0.4587\n"
     ]
    }
   ],
   "source": [
    "prior0, prior1 = df.target.value_counts(normalize = True).sort_index()\n",
    "print('--- heart_disease')\n",
    "print('... False %6.4f' %prior0)\n",
    "print('... True  %6.4f' %prior1)"
   ]
  },
  {
   "cell_type": "markdown",
   "id": "0d4680ff",
   "metadata": {},
   "source": [
    "#### posterior"
   ]
  },
  {
   "cell_type": "code",
   "execution_count": 26,
   "id": "2a2c3f08",
   "metadata": {},
   "outputs": [],
   "source": [
    "def evaluate_post(row):\n",
    "    post0, post1 = prior0, prior1\n",
    "    for Xj in lkhDict:\n",
    "        dt, lkh0, lkh1 = lkhDict[Xj]['dtype'], lkhDict[Xj]['lkh0'], lkhDict[Xj]['lkh1']\n",
    "        if dt == 1:\n",
    "            post0 *= lkh0.evaluate(row[Xj])[0]\n",
    "            post1 *= lkh1.evaluate(row[Xj])[0]\n",
    "        else:\n",
    "            post0 *= lkh0[row[Xj]]\n",
    "            post1 *= lkh1[row[Xj]]\n",
    "    return post1 > post0"
   ]
  },
  {
   "cell_type": "markdown",
   "id": "6eff7faa",
   "metadata": {},
   "source": [
    "#### evaluate"
   ]
  },
  {
   "cell_type": "code",
   "execution_count": 27,
   "id": "6494c2b9",
   "metadata": {},
   "outputs": [],
   "source": [
    "df['predicted'] = df.apply(lambda row: evaluate_post(row), axis = 1)"
   ]
  },
  {
   "cell_type": "code",
   "execution_count": 28,
   "id": "c09cf7e5",
   "metadata": {
    "scrolled": false
   },
   "outputs": [
    {
     "data": {
      "text/plain": [
       "target  predicted\n",
       "False   False        145\n",
       "        True          19\n",
       "True    True         117\n",
       "        False         22\n",
       "Name: predicted, dtype: int64"
      ]
     },
     "execution_count": 28,
     "metadata": {},
     "output_type": "execute_result"
    }
   ],
   "source": [
    "df.groupby('target').predicted.value_counts()"
   ]
  },
  {
   "cell_type": "code",
   "execution_count": 29,
   "id": "5d72cd05",
   "metadata": {
    "scrolled": false
   },
   "outputs": [
    {
     "data": {
      "text/plain": [
       "target  predicted\n",
       "False   False        0.884146\n",
       "        True         0.115854\n",
       "True    True         0.841727\n",
       "        False        0.158273\n",
       "Name: predicted, dtype: float64"
      ]
     },
     "execution_count": 29,
     "metadata": {},
     "output_type": "execute_result"
    }
   ],
   "source": [
    "df.groupby('target').predicted.value_counts(normalize = True)"
   ]
  },
  {
   "cell_type": "code",
   "execution_count": 30,
   "id": "8750f037",
   "metadata": {},
   "outputs": [
    {
     "data": {
      "text/html": [
       "<div>\n",
       "<style scoped>\n",
       "    .dataframe tbody tr th:only-of-type {\n",
       "        vertical-align: middle;\n",
       "    }\n",
       "\n",
       "    .dataframe tbody tr th {\n",
       "        vertical-align: top;\n",
       "    }\n",
       "\n",
       "    .dataframe thead th {\n",
       "        text-align: right;\n",
       "    }\n",
       "</style>\n",
       "<table border=\"1\" class=\"dataframe\">\n",
       "  <thead>\n",
       "    <tr style=\"text-align: right;\">\n",
       "      <th></th>\n",
       "      <th></th>\n",
       "      <th>predicted</th>\n",
       "      <th>predicted</th>\n",
       "    </tr>\n",
       "    <tr>\n",
       "      <th>target</th>\n",
       "      <th>predicted</th>\n",
       "      <th></th>\n",
       "      <th></th>\n",
       "    </tr>\n",
       "  </thead>\n",
       "  <tbody>\n",
       "    <tr>\n",
       "      <th rowspan=\"2\" valign=\"top\">False</th>\n",
       "      <th>False</th>\n",
       "      <td>145</td>\n",
       "      <td>0.884146</td>\n",
       "    </tr>\n",
       "    <tr>\n",
       "      <th>True</th>\n",
       "      <td>19</td>\n",
       "      <td>0.115854</td>\n",
       "    </tr>\n",
       "    <tr>\n",
       "      <th rowspan=\"2\" valign=\"top\">True</th>\n",
       "      <th>True</th>\n",
       "      <td>117</td>\n",
       "      <td>0.841727</td>\n",
       "    </tr>\n",
       "    <tr>\n",
       "      <th>False</th>\n",
       "      <td>22</td>\n",
       "      <td>0.158273</td>\n",
       "    </tr>\n",
       "  </tbody>\n",
       "</table>\n",
       "</div>"
      ],
      "text/plain": [
       "                  predicted  predicted\n",
       "target predicted                      \n",
       "False  False            145   0.884146\n",
       "       True              19   0.115854\n",
       "True   True             117   0.841727\n",
       "       False             22   0.158273"
      ]
     },
     "execution_count": 30,
     "metadata": {},
     "output_type": "execute_result"
    }
   ],
   "source": [
    "pd.concat((df.groupby('target').predicted.value_counts(), df.groupby('target').predicted.value_counts(normalize = True)), axis = 1)"
   ]
  }
 ],
 "metadata": {
  "kernelspec": {
   "display_name": "Python 3 (ipykernel)",
   "language": "python",
   "name": "python3"
  },
  "language_info": {
   "codemirror_mode": {
    "name": "ipython",
    "version": 3
   },
   "file_extension": ".py",
   "mimetype": "text/x-python",
   "name": "python",
   "nbconvert_exporter": "python",
   "pygments_lexer": "ipython3",
   "version": "3.11.5"
  }
 },
 "nbformat": 4,
 "nbformat_minor": 5
}
