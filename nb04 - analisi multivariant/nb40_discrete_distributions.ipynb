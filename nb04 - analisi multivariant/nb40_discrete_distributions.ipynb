{
 "cells": [
  {
   "cell_type": "markdown",
   "id": "5ef54592",
   "metadata": {},
   "source": [
    "### discrete joint/marginal/conditional probability distributions"
   ]
  },
  {
   "cell_type": "code",
   "execution_count": 1,
   "id": "a9457dc6",
   "metadata": {},
   "outputs": [],
   "source": [
    "import numpy as np\n",
    "import pandas as pd\n",
    "import matplotlib.pyplot as plt\n",
    "import seaborn as sns\n",
    "sns.set_theme() # Setting seaborn style"
   ]
  },
  {
   "cell_type": "markdown",
   "id": "d05fb1f8",
   "metadata": {},
   "source": [
    "#### Import ./modules/nb35.py"
   ]
  },
  {
   "cell_type": "code",
   "execution_count": 2,
   "id": "7e9e29d5",
   "metadata": {},
   "outputs": [
    {
     "data": {
      "text/plain": [
       "['C:\\\\Users\\\\jaume\\\\Notebooks\\\\nb04 - analisi multivariant',\n",
       " 'C:\\\\Users\\\\jaume\\\\miniconda3\\\\envs\\\\entorn_1_Jaume\\\\python311.zip',\n",
       " 'C:\\\\Users\\\\jaume\\\\miniconda3\\\\envs\\\\entorn_1_Jaume\\\\DLLs',\n",
       " 'C:\\\\Users\\\\jaume\\\\miniconda3\\\\envs\\\\entorn_1_Jaume\\\\Lib',\n",
       " 'C:\\\\Users\\\\jaume\\\\miniconda3\\\\envs\\\\entorn_1_Jaume',\n",
       " '',\n",
       " 'C:\\\\Users\\\\jaume\\\\miniconda3\\\\envs\\\\entorn_1_Jaume\\\\Lib\\\\site-packages',\n",
       " 'C:\\\\Users\\\\jaume\\\\Notebooks\\\\modules',\n",
       " 'C:\\\\Users\\\\jaume\\\\miniconda3\\\\envs\\\\entorn_1_Jaume\\\\Lib\\\\site-packages\\\\win32',\n",
       " 'C:\\\\Users\\\\jaume\\\\miniconda3\\\\envs\\\\entorn_1_Jaume\\\\Lib\\\\site-packages\\\\win32\\\\lib',\n",
       " 'C:\\\\Users\\\\jaume\\\\miniconda3\\\\envs\\\\entorn_1_Jaume\\\\Lib\\\\site-packages\\\\Pythonwin']"
      ]
     },
     "execution_count": 2,
     "metadata": {},
     "output_type": "execute_result"
    }
   ],
   "source": [
    "import sys\n",
    "sys.path \n",
    "# Totes les carpetes on aquest kernel pot anar a buscar moduls, no tenim el nb35, podriem afegir el path aquí. \n",
    "# També en plan cutre es pot posar el fitxer nb25.py a dins la carpeta Lib"
   ]
  },
  {
   "cell_type": "code",
   "execution_count": 3,
   "id": "b6290031",
   "metadata": {},
   "outputs": [],
   "source": [
    "# Si tenim un entorn virtual i un lloc on hi han els scripts\n",
    "# A l'entorn, hi podem afegir un fitxer \"site_packages/conda.pth\"\n",
    "# L'editem i li posem el path dels moduls\n",
    "\n",
    "# Anem a: \n",
    "# C:\\Users\\jaume\\miniconda3\\envs\\entorn_1_Jaume\\Lib\\site-packages\n",
    "\n",
    "# Creem el fitxer: \n",
    "# conda.pth\n",
    "\n",
    "# Posem la ruta d'on creem els nostres moduls: \n",
    "# C:\\Users\\jaume\\Notebooks\\modules"
   ]
  },
  {
   "cell_type": "code",
   "execution_count": 4,
   "id": "51c68198",
   "metadata": {},
   "outputs": [],
   "source": [
    "import nb35"
   ]
  },
  {
   "cell_type": "markdown",
   "id": "ec27fd9c",
   "metadata": {},
   "source": [
    "##### generate a dataset"
   ]
  },
  {
   "cell_type": "code",
   "execution_count": 5,
   "id": "d06cf74f",
   "metadata": {},
   "outputs": [
    {
     "data": {
      "text/html": [
       "<div>\n",
       "<style scoped>\n",
       "    .dataframe tbody tr th:only-of-type {\n",
       "        vertical-align: middle;\n",
       "    }\n",
       "\n",
       "    .dataframe tbody tr th {\n",
       "        vertical-align: top;\n",
       "    }\n",
       "\n",
       "    .dataframe thead th {\n",
       "        text-align: right;\n",
       "    }\n",
       "</style>\n",
       "<table border=\"1\" class=\"dataframe\">\n",
       "  <thead>\n",
       "    <tr style=\"text-align: right;\">\n",
       "      <th></th>\n",
       "      <th>C0</th>\n",
       "      <th>C1</th>\n",
       "      <th>C2</th>\n",
       "      <th>D0</th>\n",
       "      <th>D1</th>\n",
       "      <th>D2</th>\n",
       "    </tr>\n",
       "  </thead>\n",
       "  <tbody>\n",
       "    <tr>\n",
       "      <th>0</th>\n",
       "      <td>0.337002</td>\n",
       "      <td>0.396483</td>\n",
       "      <td>0.266515</td>\n",
       "      <td>E</td>\n",
       "      <td>C</td>\n",
       "      <td>A</td>\n",
       "    </tr>\n",
       "    <tr>\n",
       "      <th>1</th>\n",
       "      <td>0.600735</td>\n",
       "      <td>0.199586</td>\n",
       "      <td>0.199679</td>\n",
       "      <td>E</td>\n",
       "      <td>C</td>\n",
       "      <td>A</td>\n",
       "    </tr>\n",
       "    <tr>\n",
       "      <th>2</th>\n",
       "      <td>0.769906</td>\n",
       "      <td>0.169496</td>\n",
       "      <td>0.060598</td>\n",
       "      <td>E</td>\n",
       "      <td>D</td>\n",
       "      <td>A</td>\n",
       "    </tr>\n",
       "    <tr>\n",
       "      <th>3</th>\n",
       "      <td>0.551509</td>\n",
       "      <td>0.292761</td>\n",
       "      <td>0.155730</td>\n",
       "      <td>E</td>\n",
       "      <td>C</td>\n",
       "      <td>B</td>\n",
       "    </tr>\n",
       "    <tr>\n",
       "      <th>4</th>\n",
       "      <td>0.607631</td>\n",
       "      <td>0.277797</td>\n",
       "      <td>0.114573</td>\n",
       "      <td>D</td>\n",
       "      <td>C</td>\n",
       "      <td>B</td>\n",
       "    </tr>\n",
       "  </tbody>\n",
       "</table>\n",
       "</div>"
      ],
      "text/plain": [
       "         C0        C1        C2 D0 D1 D2\n",
       "0  0.337002  0.396483  0.266515  E  C  A\n",
       "1  0.600735  0.199586  0.199679  E  C  A\n",
       "2  0.769906  0.169496  0.060598  E  D  A\n",
       "3  0.551509  0.292761  0.155730  E  C  B\n",
       "4  0.607631  0.277797  0.114573  D  C  B"
      ]
     },
     "execution_count": 5,
     "metadata": {},
     "output_type": "execute_result"
    }
   ],
   "source": [
    "# draw sample of size N\n",
    "data = nb35.dataset_1(N = 100)\n",
    "data.head()"
   ]
  },
  {
   "cell_type": "markdown",
   "id": "1d0140d6",
   "metadata": {},
   "source": [
    "##### compute the contingency table"
   ]
  },
  {
   "cell_type": "code",
   "execution_count": 6,
   "id": "3794849d",
   "metadata": {},
   "outputs": [],
   "source": [
    "X, Y = data['D0'], data['D1']\n",
    "ct = nb35.ContingencyTable2D(X, Y)"
   ]
  },
  {
   "cell_type": "code",
   "execution_count": 7,
   "id": "ecad54a8",
   "metadata": {},
   "outputs": [
    {
     "data": {
      "text/plain": [
       "100.0"
      ]
     },
     "execution_count": 7,
     "metadata": {},
     "output_type": "execute_result"
    }
   ],
   "source": [
    "# Total d'observacions\n",
    "ct.n # Tal com hem especificat a la línia 5"
   ]
  },
  {
   "cell_type": "markdown",
   "id": "9b861531",
   "metadata": {},
   "source": [
    "Suma per un eix o per un altre, descripció univariant. Independentment dels valors que prengui l'altre. <br/>\n",
    "Les sumes sumen el máxim."
   ]
  },
  {
   "cell_type": "code",
   "execution_count": 8,
   "id": "3e551921",
   "metadata": {},
   "outputs": [
    {
     "data": {
      "text/plain": [
       "array([ 1., 19., 47., 21.,  7.,  3.,  2.])"
      ]
     },
     "execution_count": 8,
     "metadata": {},
     "output_type": "execute_result"
    }
   ],
   "source": [
    "ct.mrgY()"
   ]
  },
  {
   "cell_type": "code",
   "execution_count": 9,
   "id": "7c0ac6c1",
   "metadata": {},
   "outputs": [
    {
     "data": {
      "text/plain": [
       "array([ 3., 11., 14., 38., 27.,  7.])"
      ]
     },
     "execution_count": 9,
     "metadata": {},
     "output_type": "execute_result"
    }
   ],
   "source": [
    "ct.mrgX()"
   ]
  },
  {
   "cell_type": "code",
   "execution_count": 10,
   "id": "d1d62951",
   "metadata": {},
   "outputs": [
    {
     "data": {
      "text/plain": [
       "array([[ 0.,  0.,  0.,  0.,  1.,  0.,  2.],\n",
       "       [ 0.,  1.,  1.,  5.,  2.,  2.,  0.],\n",
       "       [ 0.,  0.,  6.,  4.,  3.,  1.,  0.],\n",
       "       [ 1.,  9., 19.,  8.,  1.,  0.,  0.],\n",
       "       [ 0.,  4., 19.,  4.,  0.,  0.,  0.],\n",
       "       [ 0.,  5.,  2.,  0.,  0.,  0.,  0.]])"
      ]
     },
     "execution_count": 10,
     "metadata": {},
     "output_type": "execute_result"
    }
   ],
   "source": [
    "ct.counts"
   ]
  },
  {
   "cell_type": "markdown",
   "id": "a1ae97b1",
   "metadata": {},
   "source": [
    "El 2 de dalt a la dreta, en aquell dataframe hi ha dues files en les quals la X pren el valor A (primera fila) i la Y pren el valor G. Hi ha dues files en les quals la columna D0 pren el valor A i D1 pren el valor G.\n",
    "\n",
    "Les files son valors de X\n",
    "\n",
    "Les columnes valors de Y\n",
    "\n",
    "Tal que: "
   ]
  },
  {
   "cell_type": "code",
   "execution_count": 11,
   "id": "17a7c1d9",
   "metadata": {},
   "outputs": [
    {
     "data": {
      "text/plain": [
       "array(['A', 'B', 'C', 'D', 'E', 'F'], dtype=object)"
      ]
     },
     "execution_count": 11,
     "metadata": {},
     "output_type": "execute_result"
    }
   ],
   "source": [
    "# Valors de X\n",
    "np.sort(data.D0.unique())"
   ]
  },
  {
   "cell_type": "code",
   "execution_count": 12,
   "id": "73e229cb",
   "metadata": {},
   "outputs": [
    {
     "data": {
      "text/plain": [
       "array(['A', 'B', 'C', 'D', 'E', 'F', 'G'], dtype=object)"
      ]
     },
     "execution_count": 12,
     "metadata": {},
     "output_type": "execute_result"
    }
   ],
   "source": [
    "# Valors de Y\n",
    "np.sort(data.D1.unique())"
   ]
  },
  {
   "cell_type": "code",
   "execution_count": 13,
   "id": "0660c258",
   "metadata": {},
   "outputs": [
    {
     "data": {
      "text/html": [
       "<div>\n",
       "<style scoped>\n",
       "    .dataframe tbody tr th:only-of-type {\n",
       "        vertical-align: middle;\n",
       "    }\n",
       "\n",
       "    .dataframe tbody tr th {\n",
       "        vertical-align: top;\n",
       "    }\n",
       "\n",
       "    .dataframe thead th {\n",
       "        text-align: right;\n",
       "    }\n",
       "</style>\n",
       "<table border=\"1\" class=\"dataframe\">\n",
       "  <thead>\n",
       "    <tr style=\"text-align: right;\">\n",
       "      <th></th>\n",
       "      <th>C0</th>\n",
       "      <th>C1</th>\n",
       "      <th>C2</th>\n",
       "      <th>D0</th>\n",
       "      <th>D1</th>\n",
       "      <th>D2</th>\n",
       "    </tr>\n",
       "  </thead>\n",
       "  <tbody>\n",
       "    <tr>\n",
       "      <th>6</th>\n",
       "      <td>0.518998</td>\n",
       "      <td>0.173786</td>\n",
       "      <td>0.307216</td>\n",
       "      <td>A</td>\n",
       "      <td>G</td>\n",
       "      <td>B</td>\n",
       "    </tr>\n",
       "    <tr>\n",
       "      <th>74</th>\n",
       "      <td>0.421079</td>\n",
       "      <td>0.253531</td>\n",
       "      <td>0.325390</td>\n",
       "      <td>A</td>\n",
       "      <td>G</td>\n",
       "      <td>B</td>\n",
       "    </tr>\n",
       "  </tbody>\n",
       "</table>\n",
       "</div>"
      ],
      "text/plain": [
       "          C0        C1        C2 D0 D1 D2\n",
       "6   0.518998  0.173786  0.307216  A  G  B\n",
       "74  0.421079  0.253531  0.325390  A  G  B"
      ]
     },
     "execution_count": 13,
     "metadata": {},
     "output_type": "execute_result"
    }
   ],
   "source": [
    "data.loc[(data.D0 == 'A') & (data.D1 == 'G')]"
   ]
  },
  {
   "cell_type": "code",
   "execution_count": 14,
   "id": "12f69e6d",
   "metadata": {},
   "outputs": [],
   "source": [
    "# data.loc[(data.D0 == 'D') & (data.D1 == 'C')]\n",
    "# Surten 19 registres"
   ]
  },
  {
   "cell_type": "markdown",
   "id": "f0aae35b",
   "metadata": {},
   "source": [
    "X = Data.D0 &rarr; factoritzem <br/>\n",
    "A - 0<br/>\n",
    "B - 1<br/>\n",
    "C - 2<br/>\n",
    "D - 3<br/>\n",
    "E - 4<br/>\n",
    "F - 5<br/>\n",
    "\n",
    "Ho interpretem com els index de la matriu\n",
    "\n",
    "Y = Data.D1<br/>\n",
    "A - 0 <br/>\n",
    "B - 1<br/>\n",
    "...<br/>\n",
    "\n",
    "El que fem es quan surten aquests valors, anem al index corresponent i sumem 1. \n",
    "\n",
    "Hem d'imaginar les etiquetes a sobre i al costat de la matriu."
   ]
  },
  {
   "cell_type": "markdown",
   "id": "2f41d506",
   "metadata": {},
   "source": [
    "---"
   ]
  },
  {
   "cell_type": "markdown",
   "id": "195c35c4",
   "metadata": {},
   "source": [
    "Si tenim anys, poblacio, ciutat i busquem un patro, hauríem de fer els comptes conjunts (que es repeteixin les tres). El perfil me'l descriuen totes (o les variables que volguem)."
   ]
  },
  {
   "cell_type": "code",
   "execution_count": 15,
   "id": "9be7d377",
   "metadata": {},
   "outputs": [
    {
     "data": {
      "text/plain": [
       "(100.0, 6, 7)"
      ]
     },
     "execution_count": 15,
     "metadata": {},
     "output_type": "execute_result"
    }
   ],
   "source": [
    "ct.n, ct.cardX, ct.cardY"
   ]
  },
  {
   "cell_type": "markdown",
   "id": "ba880bf3",
   "metadata": {},
   "source": [
    "### Joint  distributions"
   ]
  },
  {
   "cell_type": "markdown",
   "id": "5a8a1d34",
   "metadata": {},
   "source": [
    "The ***joint distribution*** of multiple variables is a probability distribution that describes the likelihood of different combinations of values for those variables occurring simultaneously. In simpler terms, it provides information about the probabilities associated with specific outcomes for all the variables considered together.\n",
    "\n",
    "Let's consider two random variables, $X$ and $Y$. The joint distribution of $X$ and $Y$, denoted as $P(X, Y)$ or $f(x, y)$, provides the probabilities associated with each possible pair of values $(x, y)$ that $X$ and $Y$ can take on. Mathematically, this joint probability is represented as:\n",
    "\n",
    "$$P\\left(X = x_i, Y = y_j\\right)\\; \\text{or} \\; P\\left(x_i, y_j\\right)$$\n",
    "\n",
    "Here, $x_i$ and $y_j$ represent specific values that $X$ and $Y$ can assume, respectively.\n",
    "\n",
    "Properties:\n",
    "\n",
    "   1. *Non-negativity*: $P\\left(X = x_i, Y = y_j\\right) \\geq 0, \\quad \\forall \\left(x_i, y_j\\right)$\n",
    "  \n",
    "   2. *Normalization*: $\\sum_{i,j}P\\left(X = x_i, Y = y_j\\right) = 1$, meaning that the sum of probabilities for all possible combinations of values equals 1.\n",
    "\n",
    "The concept can be extended to more than two variables. For three variables $\\left(X, Y, Z\\right)$, the joint distribution is denoted as $P\\left(X, Y, Z\\right)$ or $f\\left(x, y, z\\right)$, and it describes the probabilities of all possible combinations of values for $X$, $Y$, and $Z$ occurring simultaneously."
   ]
  },
  {
   "cell_type": "markdown",
   "id": "7b025daf",
   "metadata": {},
   "source": [
    "- Distribució conjunta, com es distribueixen tots els valors.\n",
    "- En una funció de distribució conjunta que descriu la probabilitat de que observem dos valors junts (a la vegada). És una probabilitat ha de ser més gran que 0 i no negativa. \n",
    "- Si les sumem totes (veure totes les possibles combinacions). Sumen 1. "
   ]
  },
  {
   "cell_type": "markdown",
   "id": "1e48412d",
   "metadata": {},
   "source": [
    "##### For two categorical variables the joint distribution is given by the normalized contingency table\n",
    "- this is analogous to a multivariate histogram of proportions"
   ]
  },
  {
   "cell_type": "code",
   "execution_count": 31,
   "id": "bafe2ea6",
   "metadata": {
    "scrolled": false
   },
   "outputs": [
    {
     "data": {
      "text/plain": [
       "(array([[0.  , 0.  , 0.  , 0.  , 0.01, 0.  , 0.02],\n",
       "        [0.  , 0.01, 0.01, 0.05, 0.02, 0.02, 0.  ],\n",
       "        [0.  , 0.  , 0.06, 0.04, 0.03, 0.01, 0.  ],\n",
       "        [0.01, 0.09, 0.19, 0.08, 0.01, 0.  , 0.  ],\n",
       "        [0.  , 0.04, 0.19, 0.04, 0.  , 0.  , 0.  ],\n",
       "        [0.  , 0.05, 0.02, 0.  , 0.  , 0.  , 0.  ]]),\n",
       " 1.0)"
      ]
     },
     "execution_count": 31,
     "metadata": {},
     "output_type": "execute_result"
    }
   ],
   "source": [
    "# normalize\n",
    "xy_joint = ct.counts /ct.n # Sería com l'histograma de proporcions (probabilitats)   \n",
    "xy_joint, np.sum(xy_joint)"
   ]
  },
  {
   "cell_type": "code",
   "execution_count": 17,
   "id": "0e66604e",
   "metadata": {},
   "outputs": [
    {
     "data": {
      "text/plain": [
       "(array([[0.00035088, 0.        , 0.        , 0.        , 0.        ,\n",
       "         0.        , 0.        ],\n",
       "        [0.0045614 , 0.00315789, 0.        , 0.        , 0.        ,\n",
       "         0.        , 0.        ],\n",
       "        [0.00842105, 0.06736842, 0.0277193 , 0.        , 0.        ,\n",
       "         0.        , 0.        ],\n",
       "        [0.00385965, 0.0954386 , 0.13684211, 0.02631579, 0.        ,\n",
       "         0.        , 0.        ],\n",
       "        [0.00210526, 0.0477193 , 0.13754386, 0.11192982, 0.01859649,\n",
       "         0.        , 0.        ],\n",
       "        [0.00070175, 0.01192982, 0.05789474, 0.08807018, 0.05508772,\n",
       "         0.00385965, 0.        ],\n",
       "        [0.        , 0.00280702, 0.01263158, 0.02210526, 0.02491228,\n",
       "         0.01473684, 0.00210526],\n",
       "        [0.        , 0.        , 0.        , 0.00245614, 0.00350877,\n",
       "         0.00350877, 0.00140351],\n",
       "        [0.        , 0.        , 0.        , 0.        , 0.00035088,\n",
       "         0.        , 0.        ]]),\n",
       " 1.0)"
      ]
     },
     "execution_count": 17,
     "metadata": {},
     "output_type": "execute_result"
    }
   ],
   "source": [
    "data_2 = nb35.dataset_1(N = 2850)\n",
    "X_2, Y_2 = data_2['D0'], data_2['D1']\n",
    "ct_2 = nb35.ContingencyTable2D(X_2, Y_2)\n",
    "xy_joint_2 = ct_2.counts /ct_2.n\n",
    "xy_joint_2[::-1], np.sum(xy_joint_2)"
   ]
  },
  {
   "cell_type": "markdown",
   "id": "0ae7bbad",
   "metadata": {},
   "source": [
    "##### Visualization of the joint distribution using a 2d histogram"
   ]
  },
  {
   "cell_type": "code",
   "execution_count": 24,
   "id": "ad129c09",
   "metadata": {},
   "outputs": [],
   "source": [
    "# No acaba de funcionar\n",
    "#fig, axs = plt.subplots(nrows = 1, ncols = 1, figsize = (6, 5))\n",
    "#axs.hist2d(pd.factorize(data['D1'])[0], pd.factorize(data['D0'])[0], bins = [ct.cardY, ct.cardX], cmap = plt.cm.Blues, density = False, alpha = 0.8)\n",
    "\n",
    "# histograma amb tres dimensions, histograma de les combinacions"
   ]
  },
  {
   "cell_type": "markdown",
   "id": "693ccc2c",
   "metadata": {},
   "source": [
    "### Marginal  distributions"
   ]
  },
  {
   "cell_type": "markdown",
   "id": "84c24aa8",
   "metadata": {},
   "source": [
    "The ***marginal distributions*** provide the probabilities of each individual variable without considering the others. Mathematically, the marginal probabilities are represented as:\n",
    "\n",
    "$$P\\left(X = x_i\\right),\\; \\forall x_{i}\\in X;\\quad P\\left(Y = y_j\\right),\\; \\forall y_{i}\\in Y$$\n",
    "\n",
    "Properties:\n",
    "\n",
    "   1. *Non-negativity*: $\\quad P\\left(X = x_i\\right) \\geq 0, \\quad \\forall \\left(x_i\\right)$\n",
    "  \n",
    "   2. *Normalization*: $\\quad \\sum_{i}P\\left(X = x_i\\right) = 1$."
   ]
  },
  {
   "cell_type": "markdown",
   "id": "ca5427e9",
   "metadata": {},
   "source": [
    "La que hem vist sempre."
   ]
  },
  {
   "cell_type": "markdown",
   "id": "637105e5",
   "metadata": {},
   "source": [
    "##### The *marginal* distributions are given by the normalized marginal counts in the contingency table\n",
    "- this is analogous to the histogram of proportions for each individual variable"
   ]
  },
  {
   "cell_type": "code",
   "execution_count": 19,
   "id": "8ba0784c",
   "metadata": {},
   "outputs": [
    {
     "data": {
      "text/plain": [
       "(array([ 3., 11., 14., 38., 27.,  7.]),\n",
       " array([ 1., 19., 47., 21.,  7.,  3.,  2.]))"
      ]
     },
     "execution_count": 19,
     "metadata": {},
     "output_type": "execute_result"
    }
   ],
   "source": [
    "# marginal counts\n",
    "ct.mrgX(), ct.mrgY()"
   ]
  },
  {
   "cell_type": "code",
   "execution_count": 20,
   "id": "7a34d233",
   "metadata": {},
   "outputs": [
    {
     "data": {
      "text/plain": [
       "(array([0.03, 0.11, 0.14, 0.38, 0.27, 0.07]), 1.0)"
      ]
     },
     "execution_count": 20,
     "metadata": {},
     "output_type": "execute_result"
    }
   ],
   "source": [
    "# marginal density of X\n",
    "# Per discret density and proportion és el mateix\n",
    "ct.mrgX() /ct.n, np.sum(ct.mrgX() /ct.n)"
   ]
  },
  {
   "cell_type": "code",
   "execution_count": 21,
   "id": "6d94ca8d",
   "metadata": {},
   "outputs": [
    {
     "data": {
      "text/plain": [
       "(array([0.01, 0.19, 0.47, 0.21, 0.07, 0.03, 0.02]), 1.0)"
      ]
     },
     "execution_count": 21,
     "metadata": {},
     "output_type": "execute_result"
    }
   ],
   "source": [
    "# marginal distribution of Y -> Li canviem el nom de density per això.\n",
    "ct.mrgY() /ct.n, np.sum(ct.mrgY() /ct.n)"
   ]
  },
  {
   "cell_type": "markdown",
   "id": "98bef84a",
   "metadata": {},
   "source": [
    "##### Visualization of the joint and marginal distributions using seaborn\n",
    "- seaborn.jointplot() depicts the marginal distributions as *proportion histograms* at the corresponding axes."
   ]
  },
  {
   "cell_type": "code",
   "execution_count": 22,
   "id": "c9e7b815",
   "metadata": {},
   "outputs": [
    {
     "data": {
      "image/png": "[encoded data removed]",
      "text/plain": [
       "<Figure size 600x600 with 3 Axes>"
      ]
     },
     "metadata": {},
     "output_type": "display_data"
    }
   ],
   "source": [
    "# Els ordena per freqüències o ho fa per ordre que es troba al dataset?¿?\n",
    "sns.jointplot(data = data, x = 'D0', y = 'D1', kind = 'hist', bins = [ct.cardX, ct.cardY]);"
   ]
  },
  {
   "cell_type": "markdown",
   "id": "45f10b30",
   "metadata": {},
   "source": [
    "### Conditional distributions"
   ]
  },
  {
   "cell_type": "markdown",
   "id": "f79cf506",
   "metadata": {},
   "source": [
    "A conditional distribution is a probability distribution that describes the probability of one or more random variables given the knowledge of the values of one or more other variables.\n",
    "\n",
    "For the simplest case of two random variables, the conditional distribution of $Y$ given $X$, denoted as $P\\left(Y | X\\right)$ or $f\\left(y | x\\right)$, represents the probability distribution of $Y$ when the value of $X$ is known to be $x$. \n",
    "\n",
    "Properties:\n",
    "\n",
    "   1. *Non-negativity*: $P\\left(Y = y_j| X = x_i\\right) \\geq 0, \\quad \\forall \\left(x_i, y_j\\right)$\n",
    "  \n",
    "   2. *Normalization*: $\\sum_{j}P\\left(Y = y_j| X = x_i\\right) = 1$.\n",
    "\n",
    "This can be extended to the conditional distribution of more than two variables. For example, the conditional distribution of X given Y and Z is denoted as \\( P(X | Y, Z) \\) or \\( f(x | y, z) \\)."
   ]
  },
  {
   "cell_type": "markdown",
   "id": "22258e96",
   "metadata": {},
   "source": [
    "##### For two categorical variables the conditional distribution is given by the normalized rows/columns of the contingency table\n",
    "- this is analogous to a histogram of proportions for a given class"
   ]
  },
  {
   "cell_type": "markdown",
   "id": "f8e029fa",
   "metadata": {},
   "source": [
    "Condicionem una de les variables, si la x val tant, com es distribueix la y?<br/>\n",
    "Per normalitzar, hem de dividir per la suma d'aquella fila (el total que en tenim per aquell valor)"
   ]
  },
  {
   "cell_type": "code",
   "execution_count": 23,
   "id": "84f457e7",
   "metadata": {},
   "outputs": [
    {
     "data": {
      "text/plain": [
       "(array([0.        , 0.09090909, 0.09090909, 0.45454545, 0.18181818,\n",
       "        0.18181818, 0.        ]),\n",
       " 1.0)"
      ]
     },
     "execution_count": 23,
     "metadata": {},
     "output_type": "execute_result"
    }
   ],
   "source": [
    "# e.g. P(Y | X = 1)\n",
    "yGx1 = ct.counts[1, :] /np.sum(ct.counts[1, :])\n",
    "yGx1, np.sum(yGx1)"
   ]
  },
  {
   "cell_type": "code",
   "execution_count": 32,
   "id": "8fcc7919",
   "metadata": {},
   "outputs": [
    {
     "data": {
      "text/plain": [
       "(array([0.        , 0.        , 0.42857143, 0.28571429, 0.21428571,\n",
       "        0.07142857, 0.        ]),\n",
       " 0.9999999999999999)"
      ]
     },
     "execution_count": 32,
     "metadata": {},
     "output_type": "execute_result"
    }
   ],
   "source": [
    "# e.g. P(Y | X = 2)\n",
    "yGx1 = ct.counts[2, :] /np.sum(ct.counts[2, :])\n",
    "yGx1, np.sum(yGx1)"
   ]
  },
  {
   "cell_type": "code",
   "execution_count": 33,
   "id": "957f160e",
   "metadata": {},
   "outputs": [
    {
     "data": {
      "text/plain": [
       "(array([0.        , 0.0212766 , 0.12765957, 0.40425532, 0.40425532,\n",
       "        0.04255319]),\n",
       " 0.9999999999999999)"
      ]
     },
     "execution_count": 33,
     "metadata": {},
     "output_type": "execute_result"
    }
   ],
   "source": [
    "# e.g. P(X | Y = 2)\n",
    "yGx1 = ct.counts[:, 2] /np.sum(ct.counts[:, 2])\n",
    "yGx1, np.sum(yGx1)"
   ]
  },
  {
   "cell_type": "markdown",
   "id": "58df7ccb",
   "metadata": {},
   "source": [
    "**The conditional distribution completes the relation between the join and the marginal distributions:**\n",
    "\n",
    "$$P\\left(X, Y\\right) = P\\left(X\\right)\\;P\\left(Y|X\\right) = P\\left(Y\\right)\\;P\\left(X|Y\\right)$$"
   ]
  },
  {
   "cell_type": "markdown",
   "id": "31f46c08",
   "metadata": {},
   "source": [
    "- P(X,Y) és distribució conjunta de x i y\n",
    "- P(X) és la marginal de x\n",
    "- P(X|Y) és la condicional de Y|X"
   ]
  },
  {
   "cell_type": "markdown",
   "id": "119b923d",
   "metadata": {},
   "source": [
    "### Flipada final:\n",
    "Aquestes tres distribucions, compleixen una relació entre elles. <br/>\n",
    "La distribució conjunta és igual a el producte de la marginal de una de les variables per la condicional de l'altre.\n",
    "\n",
    "Això es el teorema de bayes (no exactament)."
   ]
  }
 ],
 "metadata": {
  "kernelspec": {
   "display_name": "Python 3 (ipykernel)",
   "language": "python",
   "name": "python3"
  },
  "language_info": {
   "codemirror_mode": {
    "name": "ipython",
    "version": 3
   },
   "file_extension": ".py",
   "mimetype": "text/x-python",
   "name": "python",
   "nbconvert_exporter": "python",
   "pygments_lexer": "ipython3",
   "version": "3.11.5"
  }
 },
 "nbformat": 4,
 "nbformat_minor": 5
}
