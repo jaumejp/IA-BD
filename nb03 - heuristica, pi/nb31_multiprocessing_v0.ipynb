{
 "cells": [
  {
   "cell_type": "markdown",
   "id": "f8dc90ed",
   "metadata": {},
   "source": [
    "### Multi-processing"
   ]
  },
  {
   "cell_type": "markdown",
   "id": "0b9c7879",
   "metadata": {},
   "source": [
    "- Multiprocessing is the utilization of two or more CPUs simultaneously in a single computer system. "
   ]
  },
  {
   "cell_type": "code",
   "execution_count": 16,
   "id": "fade3cdc",
   "metadata": {},
   "outputs": [],
   "source": [
    "import multiprocessing as mp\n",
    "import numpy as np"
   ]
  },
  {
   "cell_type": "markdown",
   "id": "6b11b4c9",
   "metadata": {},
   "source": [
    "##### get number of CPUs"
   ]
  },
  {
   "cell_type": "code",
   "execution_count": 2,
   "id": "8957a890",
   "metadata": {},
   "outputs": [
    {
     "data": {
      "text/plain": [
       "4"
      ]
     },
     "execution_count": 2,
     "metadata": {},
     "output_type": "execute_result"
    }
   ],
   "source": [
    "mp.cpu_count()"
   ]
  },
  {
   "cell_type": "markdown",
   "id": "3f24c09c",
   "metadata": {},
   "source": [
    "##### The Process class:  allows spawning processes (threads) and execute them calling its start() method"
   ]
  },
  {
   "cell_type": "code",
   "execution_count": 3,
   "id": "599e9c48",
   "metadata": {},
   "outputs": [],
   "source": [
    "from multiprocessing import Process\n",
    "import os"
   ]
  },
  {
   "cell_type": "code",
   "execution_count": 4,
   "id": "1704b86b",
   "metadata": {},
   "outputs": [],
   "source": [
    "def myfunc(name):\n",
    "    print('module %s, ppid %s, Hello %s from pid %s  ' %(__name__, os.getppid(), name, os.getpid()))"
   ]
  },
  {
   "cell_type": "code",
   "execution_count": 5,
   "id": "09e3c272",
   "metadata": {},
   "outputs": [
    {
     "name": "stdout",
     "output_type": "stream",
     "text": [
      "module __main__, ppid 1864, Hello CEIABD from pid 12112  \n"
     ]
    }
   ],
   "source": [
    "# p = Process(target = myfunc, args = ('CEIABD',))\n",
    "p = Process(myfunc('CEIABD'))\n",
    "p.start()\n",
    "p.join()"
   ]
  },
  {
   "cell_type": "markdown",
   "id": "e7531077",
   "metadata": {},
   "source": [
    "##### The Pool class: creating a pool of workers"
   ]
  },
  {
   "cell_type": "code",
   "execution_count": 9,
   "id": "62797b2d",
   "metadata": {},
   "outputs": [],
   "source": [
    "from multiprocessing import Pool"
   ]
  },
  {
   "cell_type": "code",
   "execution_count": 7,
   "id": "fac4981b",
   "metadata": {},
   "outputs": [],
   "source": [
    "mypool = Pool(processes = 8)\n",
    "mypool.map(myfunc, ['Gaurav', 'Abel', 'Grigor', 'Jaume', 'Oriol', 'Aniol', 'Miquel', 'Joan'])\n",
    "mypool.close()\n",
    "mypool.terminate()"
   ]
  },
  {
   "cell_type": "markdown",
   "id": "2f134b3f",
   "metadata": {},
   "source": [
    "#### pooling the output"
   ]
  },
  {
   "cell_type": "code",
   "execution_count": null,
   "id": "2988ae67",
   "metadata": {},
   "outputs": [],
   "source": [
    "def worker(name):\n",
    "    return 'module %s, ppid %s, Hello %s from pid %s  ' %(__name__, os.getppid(), name, os.getpid())"
   ]
  },
  {
   "cell_type": "code",
   "execution_count": null,
   "id": "dcbbf391",
   "metadata": {},
   "outputs": [],
   "source": [
    "mypool = Pool(processes = mp.cpu_count())\n",
    "outQ = mypool.map(worker, ['Gaurav', 'Abel', 'Grigor', 'Jaume', 'Oriol', 'Aniol', 'Miquel', 'Joan'])\n",
    "mypool.close()\n",
    "mypool.terminate()\n",
    "for q in outQ: print(q)"
   ]
  },
  {
   "cell_type": "markdown",
   "id": "196c933a",
   "metadata": {},
   "source": [
    "- the ***with*** clause: automatic termination of the pool"
   ]
  },
  {
   "cell_type": "code",
   "execution_count": null,
   "id": "e335145a",
   "metadata": {},
   "outputs": [],
   "source": [
    "with Pool(processes = mp.cpu_count()) as pool:\n",
    "    outQ = pool.map(worker, ['Gaurav', 'Abel', 'Grigor', 'Jaume', 'Oriol', 'Aniol', 'Miquel', 'Joan'])\n",
    "for q in outQ: print(q)"
   ]
  },
  {
   "cell_type": "markdown",
   "id": "cbcb2b0e",
   "metadata": {},
   "source": [
    "### Example. \n",
    "\n",
    "We use multiprocessing to make multiple estimations of $\\pi$ following the heuristic of the previous notebook."
   ]
  },
  {
   "cell_type": "code",
   "execution_count": null,
   "id": "7f1c0095",
   "metadata": {},
   "outputs": [],
   "source": [
    "import numpy as np\n",
    "import matplotlib.pyplot as plt"
   ]
  },
  {
   "cell_type": "code",
   "execution_count": null,
   "id": "6f7edb6c",
   "metadata": {},
   "outputs": [],
   "source": [
    "def pi2d_(params):\n",
    "    n_in, pi2d = 0, []\n",
    "    np.random.seed(params[1])\n",
    "    for i in range(1, params[0]):\n",
    "        if np.sqrt(np.sum(np.random.rand(2)**2)) <= 1:\n",
    "            n_in += 1\n",
    "        pi2d.append(4 *n_in/i)\n",
    "    return pi2d"
   ]
  },
  {
   "cell_type": "code",
   "execution_count": null,
   "id": "7af74801",
   "metadata": {},
   "outputs": [],
   "source": [
    "with Pool(processes = mp.cpu_count()) as pool:\n",
    "    outQ = pool.map(pi2d_, [(2000, r) for r in np.random.randint(1, 1000, 10)])"
   ]
  },
  {
   "cell_type": "code",
   "execution_count": 14,
   "id": "5d5fc665",
   "metadata": {},
   "outputs": [
    {
     "data": {
      "text/plain": [
       "[2000, 2000, 2000, 2000, 2000, 2000, 2000, 2000, 2000, 2000]"
      ]
     },
     "execution_count": 14,
     "metadata": {},
     "output_type": "execute_result"
    }
   ],
   "source": [
    "[2000] *10"
   ]
  },
  {
   "cell_type": "code",
   "execution_count": null,
   "id": "918bdf60",
   "metadata": {},
   "outputs": [],
   "source": [
    "[q[-1] for q in outQ]"
   ]
  },
  {
   "cell_type": "markdown",
   "id": "fa6f59c5",
   "metadata": {},
   "source": [
    "- surten tots iguals perquè estem fent servir el generador de números aleatoris, aquest parteix d'un seed. Aquesta llavo, la crea el main i després es crean els procesos. "
   ]
  },
  {
   "cell_type": "markdown",
   "id": "e1cb38c1",
   "metadata": {},
   "source": [
    "### 1.Demostrar que com més dimensions fem servir per estimar pi, més gran és la variança dels valors estimats.\n",
    "### 2. Entre 2 i 3, examinar fins a quantes iteracions s'ha de pujar perquè la variança sigui semblant. (estarem en el mateix interval de confiança per la estimació de pi)"
   ]
  },
  {
   "cell_type": "code",
   "execution_count": null,
   "id": "bc3720e4",
   "metadata": {},
   "outputs": [],
   "source": [
    "def pi2d_(params):\n",
    "    n_in = 0 # Això no\n",
    "    np.random.seed(params[1])\n",
    "    for i in range(1, params[0]):\n",
    "        if np.sqrt(np.sum(np.random.rand(2)**2)) <= 1:\n",
    "            n_in += 1\n",
    "        pi = 4 *n_in/i\n",
    "    return pi"
   ]
  },
  {
   "cell_type": "code",
   "execution_count": null,
   "id": "efb12e8e",
   "metadata": {},
   "outputs": [],
   "source": [
    "with Pool(processes = mp.cpu_count()) as pool:\n",
    "    outQ = pool.map(pi2d_, [(2000, r) for r in np.random.randint(1, 1000, 10)])"
   ]
  }
 ],
 "metadata": {
  "kernelspec": {
   "display_name": "Python 3 (ipykernel)",
   "language": "python",
   "name": "python3"
  },
  "language_info": {
   "codemirror_mode": {
    "name": "ipython",
    "version": 3
   },
   "file_extension": ".py",
   "mimetype": "text/x-python",
   "name": "python",
   "nbconvert_exporter": "python",
   "pygments_lexer": "ipython3",
   "version": "3.11.5"
  }
 },
 "nbformat": 4,
 "nbformat_minor": 5
}
