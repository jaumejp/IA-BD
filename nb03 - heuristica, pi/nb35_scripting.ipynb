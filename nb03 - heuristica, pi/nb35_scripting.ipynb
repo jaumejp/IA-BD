{
 "cells": [
  {
   "cell_type": "markdown",
   "id": "5ef54592",
   "metadata": {},
   "source": [
    "### python scripts"
   ]
  },
  {
   "cell_type": "markdown",
   "id": "e5f5c7d0",
   "metadata": {},
   "source": [
    "- scripts are code files to be executed\n",
    "- we can use scripts also to define our own ***python modules*** with functions or classes that we can afterwards import in other scripts or notebooks"
   ]
  },
  {
   "cell_type": "code",
   "execution_count": 1,
   "id": "a9457dc6",
   "metadata": {},
   "outputs": [],
   "source": [
    "import numpy as np\n",
    "import pandas as pd"
   ]
  },
  {
   "cell_type": "markdown",
   "id": "d05fb1f8",
   "metadata": {},
   "source": [
    "#### define a function that generates a dataset to use in our notebooks"
   ]
  },
  {
   "cell_type": "code",
   "execution_count": 2,
   "id": "d06cf74f",
   "metadata": {},
   "outputs": [],
   "source": [
    "def dataset_1(N = 100, m = (10, 5, 3)):\n",
    "    # draw N samples of 3 continuous variables from a Dirichlet distribution\n",
    "    data_C = pd.DataFrame(np.random.default_rng(seed = 1234).dirichlet(m, N), columns = ['C%d' %j for j in range(len(m))])\n",
    "    # draw N samples of m discrete variables from a Dirichlet distribution\n",
    "    data_D = pd.DataFrame((np.random.default_rng(seed = 8672).dirichlet(m, N) *10).astype('int'), columns = ['D%d' %j for j in range(len(m))])\n",
    "    # map categorical values\n",
    "    cats = 'ABCDEFGHIJKLMNOPQRSTUVWXYZ'\n",
    "    for j in range(len(m)):\n",
    "        data_D['D%d' %j] = data_D['D%d' %j].map({x:cats[i] for i, x in enumerate(np.unique(data_D['D%d' %j]))})\n",
    "    return pd.concat((data_C, data_D), axis = 1)"
   ]
  },
  {
   "cell_type": "markdown",
   "id": "519798a1",
   "metadata": {},
   "source": [
    "df = dataset_1()\n",
    "df.head()"
   ]
  },
  {
   "cell_type": "markdown",
   "id": "d78f26ea",
   "metadata": {},
   "source": [
    "#### Define a 2D contingency table class"
   ]
  },
  {
   "cell_type": "code",
   "execution_count": 4,
   "id": "a8fac034",
   "metadata": {},
   "outputs": [],
   "source": [
    "class ContingencyTable2D():\n",
    "    \n",
    "    def __init__(self, X, Y):\n",
    " \n",
    "        # cardinalities\n",
    "        self.cardX = np.unique(X).shape[0]\n",
    "        self.cardY = np.unique(Y).shape[0]\n",
    "    \n",
    "        # factorize\n",
    "        X_ = X.map({x: i for i,x in enumerate(np.unique(X.sort_values()))})\n",
    "        Y_ = Y.map({y: j for j,y in enumerate(np.unique(Y.sort_values()))})\n",
    "        \n",
    "        # joint counts\n",
    "        self.counts = np.zeros((self.cardX, self.cardY))\n",
    "        for x, y in zip(X_, Y_): self.counts[x, y] += 1\n",
    "\n",
    "        #total counts\n",
    "        self.n = np.sum(self.counts)\n",
    "        \n",
    "    def mrgX(self):\n",
    "        return np.sum(self.counts, axis = 1)\n",
    "\n",
    "    def mrgY(self):\n",
    "        return np.sum(self.counts, axis = 0)\n"
   ]
  },
  {
   "cell_type": "markdown",
   "id": "4d00bfb9",
   "metadata": {},
   "source": [
    "ct = ContingencyTable2D(df.D0, df.D1)\n",
    "ct.counts"
   ]
  },
  {
   "cell_type": "markdown",
   "id": "ec89d93c",
   "metadata": {},
   "source": [
    "ct.mrgX()"
   ]
  },
  {
   "cell_type": "markdown",
   "id": "cc64553e",
   "metadata": {},
   "source": [
    "ct.mrgY()"
   ]
  },
  {
   "cell_type": "markdown",
   "id": "4dfb9fa4",
   "metadata": {},
   "source": [
    "ct.n"
   ]
  }
 ],
 "metadata": {
  "kernelspec": {
   "display_name": "Python 3 (ipykernel)",
   "language": "python",
   "name": "python3"
  },
  "language_info": {
   "codemirror_mode": {
    "name": "ipython",
    "version": 3
   },
   "file_extension": ".py",
   "mimetype": "text/x-python",
   "name": "python",
   "nbconvert_exporter": "python",
   "pygments_lexer": "ipython3",
   "version": "3.11.5"
  }
 },
 "nbformat": 4,
 "nbformat_minor": 5
}
