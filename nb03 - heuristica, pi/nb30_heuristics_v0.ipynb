{
 "cells": [
  {
   "cell_type": "markdown",
   "id": "f8dc90ed",
   "metadata": {},
   "source": [
    "### Heuristics"
   ]
  },
  {
   "cell_type": "markdown",
   "id": "0b9c7879",
   "metadata": {},
   "source": [
    "- A heuristic is a strategy, a practical approach to find the solution to a complex problem or an uncertain situation.\n",
    "- Heuristics are not necessary guaranteed to be optimal or perfect.\n",
    "- Heuristics involve using rules of thumb, educated guesses, past experiences, or common sense to make informed decisions or reach solutions, typically without an exhaustive analysis of all possible alternatives. "
   ]
  },
  {
   "cell_type": "code",
   "execution_count": 1,
   "id": "7f1c0095",
   "metadata": {},
   "outputs": [],
   "source": [
    "import numpy as np\n",
    "import matplotlib.pyplot as plt"
   ]
  },
  {
   "cell_type": "markdown",
   "id": "cbcb2b0e",
   "metadata": {},
   "source": [
    "#### Example. \n",
    "\n",
    "Heuristic to estimate the value of $\\pi=3.141592\\dots$"
   ]
  },
  {
   "cell_type": "markdown",
   "id": "49cec21c",
   "metadata": {},
   "source": [
    "- our heuristic is to compute the relation between the areas of the circle and the square shown in the figure. We have a circle of radius 0.5, enclosed by a 1 × 1 square, both centered at (0, 0). The area of the circle is $\\pi\\,r^2=\\pi/4$ and the area of the square is 1. If we divide the area of the circle, by the area of the square we get $\\pi/4$"
   ]
  },
  {
   "cell_type": "code",
   "execution_count": 2,
   "id": "30e3543c",
   "metadata": {},
   "outputs": [
    {
     "data": {
      "image/png": "[encoded data removed]",
      "text/plain": [
       "<Figure size 432x288 with 1 Axes>"
      ]
     },
     "metadata": {
      "needs_background": "light"
     },
     "output_type": "display_data"
    }
   ],
   "source": [
    "plt.axes()\n",
    "rectangle = plt.Rectangle((-0.5, -0.5), 1, 1, fc = 'gray', alpha = 0.5)\n",
    "plt.gca().add_patch(rectangle)\n",
    "circle = plt.Circle((0, 0), 0.5, fc = 'blue', alpha = 0.5)\n",
    "plt.gca().add_patch(circle)\n",
    "plt.axis('scaled')\n",
    "plt.show()"
   ]
  },
  {
   "cell_type": "markdown",
   "id": "8b02a123",
   "metadata": {},
   "source": [
    "- We generate a large number of uniformly distributed random points in any position within the square. We keep track of the total number of points generated $N_{total}$, and the number of points that fall inside the circle $N_{in}$. The relation $N_{in}/N_{total}$ should be an approximation of the ratio of the areas we calculated above,\n",
    "\n",
    "$$\\frac{N_{in}}{N_{total}}\\approx\\frac{\\pi}{4}$$"
   ]
  },
  {
   "cell_type": "markdown",
   "id": "71a30ae3",
   "metadata": {},
   "source": [
    "- consequently, we can get an approximate value of $\\pi$ as\n",
    "$$\\pi = 4\\,\\frac{N_{in}}{N_{total}}$$"
   ]
  },
  {
   "cell_type": "code",
   "execution_count": 3,
   "id": "66ac090f",
   "metadata": {},
   "outputs": [
    {
     "data": {
      "text/plain": [
       "3.141592653589793"
      ]
     },
     "execution_count": 3,
     "metadata": {},
     "output_type": "execute_result"
    }
   ],
   "source": [
    "np.pi"
   ]
  },
  {
   "cell_type": "code",
   "execution_count": 4,
   "id": "6f7edb6c",
   "metadata": {},
   "outputs": [],
   "source": [
    "n_in, pi2d = 0, []\n",
    "for i in range(1, 2000):\n",
    "    if np.sqrt(np.sum(np.random.rand(2)**2)) <= 1:\n",
    "        n_in += 1\n",
    "    pi2d.append(4 *n_in/i)"
   ]
  },
  {
   "cell_type": "code",
   "execution_count": 5,
   "id": "3a406cc0",
   "metadata": {},
   "outputs": [
    {
     "data": {
      "text/plain": [
       "3.1856"
      ]
     },
     "execution_count": 5,
     "metadata": {},
     "output_type": "execute_result"
    }
   ],
   "source": [
    "np.round(pi2d[-1], 4)"
   ]
  },
  {
   "cell_type": "code",
   "execution_count": 6,
   "id": "2eac83b8",
   "metadata": {},
   "outputs": [
    {
     "data": {
      "image/png": "[encoded data removed]",
      "text/plain": [
       "<Figure size 432x288 with 1 Axes>"
      ]
     },
     "metadata": {
      "needs_background": "light"
     },
     "output_type": "display_data"
    }
   ],
   "source": [
    "plt.plot(pi2d)\n",
    "plt.axhline(y =np.pi, c = 'r');"
   ]
  },
  {
   "cell_type": "markdown",
   "id": "ed2e82a9",
   "metadata": {},
   "source": [
    "##### can we improve our estimation by increasing the number of iterations ?"
   ]
  },
  {
   "cell_type": "code",
   "execution_count": 7,
   "id": "44e1d83f",
   "metadata": {},
   "outputs": [
    {
     "name": "stdout",
     "output_type": "stream",
     "text": [
      "+++ 999000, 3.139992\r"
     ]
    }
   ],
   "source": [
    "#import time\n",
    "n_in, pi = 0, 1\n",
    "for i in range(1, 1000000):\n",
    "    if np.sqrt(np.sum(np.random.rand(2)**2)) <= 1:\n",
    "        n_in += 1\n",
    "    if not i %1000:\n",
    "        pi = 4 *n_in/i\n",
    "        print('+++ %3d, %8.6f' %(i, pi), end = '\\r')\n",
    "        #time.sleep(0.01)"
   ]
  },
  {
   "cell_type": "code",
   "execution_count": 8,
   "id": "5fb9e3a4",
   "metadata": {},
   "outputs": [
    {
     "data": {
      "text/plain": [
       "3.139991991991992"
      ]
     },
     "execution_count": 8,
     "metadata": {},
     "output_type": "execute_result"
    }
   ],
   "source": [
    "pi"
   ]
  },
  {
   "cell_type": "markdown",
   "id": "573d9bf6",
   "metadata": {},
   "source": [
    "### The curse of dimensionality"
   ]
  },
  {
   "cell_type": "markdown",
   "id": "05d9b3d7",
   "metadata": {},
   "source": [
    "- The *curse of dimensionalit* refers to various phenomena that arise when analyzing and organizing data in high-dimensional spaces.\n",
    "\n",
    "- A practical consequence is that the number of samples required to estimate an arbitrary function with a given level of accuracy grows exponentially with respect to the number of input variables (i.e.dimensionality)\n",
    "\n",
    "- As en example, we follow the same heuristic defined above to obtain an estimate of $\\pi$ for increasing number of dimensions."
   ]
  },
  {
   "cell_type": "markdown",
   "id": "1ae9d9df",
   "metadata": {},
   "source": [
    "- Les dades que necessitem per cobrir una dimensió més. És molt més elevat, si per cubrir un cuadrat necessitem x*x, per cobrir-ho a per 3d necessitarem x * x * x. Augmenta exponencialment.\n",
    "- Com més alta sigui la dimensionalitat de les dades, més registres necessitem per cobrir tots els casos. "
   ]
  },
  {
   "cell_type": "markdown",
   "id": "85a16bc9",
   "metadata": {},
   "source": [
    "#### Estimate of $\\pi$ in 3 dimensions\n",
    "\n",
    "- The volum of a sphere enclosed in a cube of side $2\\,r$ is $V_{sphere} = 4/3\\,\\pi\\,r^3$, while the volume of the cub is $V_{cube}=\\left(2\\,r\\right)^3$.\n",
    "- Thus, in 3D we have:\n",
    "$$\\frac{N_{in}}{N_{total}}\\approx \\frac{4/3\\,\\pi\\,r^3}{8\\,r^3}\\approx \\frac{1}{6}\\pi$$\n",
    "- therefore,\n",
    "$$\\pi\\approx 6\\,\\frac{N_{in}}{N_{total}}$$"
   ]
  },
  {
   "cell_type": "code",
   "execution_count": 9,
   "id": "4209be1d",
   "metadata": {},
   "outputs": [],
   "source": [
    "n_in, pi3d = 0, []\n",
    "for i in range(1, 2000):\n",
    "    if np.sqrt(np.sum(np.random.rand(3)**2)) <= 1:\n",
    "        n_in += 1\n",
    "    pi3d.append(6 *n_in/i)"
   ]
  },
  {
   "cell_type": "code",
   "execution_count": 10,
   "id": "dbb34592",
   "metadata": {},
   "outputs": [
    {
     "data": {
      "text/plain": [
       "(3.1856, 3.1936)"
      ]
     },
     "execution_count": 10,
     "metadata": {},
     "output_type": "execute_result"
    }
   ],
   "source": [
    "np.round(pi2d[-1], 4), np.round(pi3d[-1],4)"
   ]
  },
  {
   "cell_type": "markdown",
   "id": "beba5673",
   "metadata": {},
   "source": [
    "#### Estimate of $\\pi$ in 4 dimensions\n",
    "\n",
    "- The volum of a hyper-sphere enclosed in a hyper-cube of side $2\\,r$ is $V_{sphere} = 1/2\\,\\pi^2\\,r^4$, while the volume of the cub is $V_{cube}=\\left(2\\,r\\right)^4$.\n",
    "- Thus, in 3D we have:\n",
    "$$\\frac{N_{in}}{N_{total}}\\approx \\frac{1/2\\,\\pi^2\\,r^4}{16\\,r^4}\\approx \\frac{1}{32}\\pi^2$$\n",
    "- therefore,\n",
    "$$\\pi\\approx \\sqrt{32\\,\\frac{N_{in}}{N_{total}}}$$"
   ]
  },
  {
   "cell_type": "code",
   "execution_count": 11,
   "id": "9403a326",
   "metadata": {},
   "outputs": [
    {
     "name": "stdout",
     "output_type": "stream",
     "text": [
      "CPU times: user 27.3 ms, sys: 15.8 ms, total: 43.1 ms\n",
      "Wall time: 39 ms\n"
     ]
    }
   ],
   "source": [
    "%%time\n",
    "n_in, pi4d = 0, []\n",
    "for i in range(1, 2000):\n",
    "    if np.sqrt(np.sum(np.random.rand(4)**2)) <= 1:\n",
    "        n_in += 1\n",
    "    pi4d.append(np.sqrt(32 *n_in/i))"
   ]
  },
  {
   "cell_type": "code",
   "execution_count": 12,
   "id": "8a388e74",
   "metadata": {},
   "outputs": [
    {
     "data": {
      "text/plain": [
       "(3.1856, 3.1936, 3.0706)"
      ]
     },
     "execution_count": 12,
     "metadata": {},
     "output_type": "execute_result"
    }
   ],
   "source": [
    "np.round(pi2d[-1], 4), np.round(pi3d[-1], 4), np.round(pi4d[-1], 4)"
   ]
  },
  {
   "cell_type": "markdown",
   "id": "d4266e78",
   "metadata": {},
   "source": [
    "##### Estimate of $\\pi$ in 5 dimensions\n",
    "\n",
    "$$\\pi\\approx \\left(60\\,\\frac{N_{in}}{N_{total}}\\right)^{1/2}$$"
   ]
  },
  {
   "cell_type": "code",
   "execution_count": 13,
   "id": "ec10124c",
   "metadata": {},
   "outputs": [
    {
     "name": "stdout",
     "output_type": "stream",
     "text": [
      "CPU times: user 37.6 ms, sys: 68 µs, total: 37.6 ms\n",
      "Wall time: 40.8 ms\n"
     ]
    }
   ],
   "source": [
    "%%time\n",
    "n_in, pi5d = 0, []\n",
    "for i in range(1, 2000):\n",
    "    if np.sqrt(np.sum(np.random.rand(5)**2)) <= 1:\n",
    "        n_in += 1\n",
    "    pi5d.append((60 *n_in/i)**(1/2))"
   ]
  },
  {
   "cell_type": "code",
   "execution_count": 14,
   "id": "c86ad352",
   "metadata": {},
   "outputs": [
    {
     "data": {
      "text/plain": [
       "(3.1856, 3.1936, 3.0706, 3.0943)"
      ]
     },
     "execution_count": 14,
     "metadata": {},
     "output_type": "execute_result"
    }
   ],
   "source": [
    "np.round(pi2d[-1], 4), np.round(pi3d[-1], 4), np.round(pi4d[-1], 4), np.round(pi5d[-1], 4)"
   ]
  },
  {
   "cell_type": "markdown",
   "id": "5f773066",
   "metadata": {},
   "source": [
    "##### Estimate of $\\pi$ in 6 dimensions\n",
    "\n",
    "$$\\pi\\approx \\left(384\\,\\frac{N_{in}}{N_{total}}\\right)^{1/3}$$"
   ]
  },
  {
   "cell_type": "code",
   "execution_count": 15,
   "id": "2ccf8d83",
   "metadata": {},
   "outputs": [
    {
     "name": "stdout",
     "output_type": "stream",
     "text": [
      "CPU times: user 38.1 ms, sys: 3.34 ms, total: 41.4 ms\n",
      "Wall time: 39.4 ms\n"
     ]
    }
   ],
   "source": [
    "%%time\n",
    "n_in, pi6d = 0, []\n",
    "for i in range(1, 2000):\n",
    "    if np.sqrt(np.sum(np.random.rand(6)**2)) <= 1:\n",
    "        n_in += 1\n",
    "    pi6d.append((384 *n_in/i)**(1/3))"
   ]
  },
  {
   "cell_type": "code",
   "execution_count": 16,
   "id": "e7b71bf3",
   "metadata": {},
   "outputs": [
    {
     "data": {
      "text/plain": [
       "(3.1856, 3.1936, 3.0706, 3.0943, 3.2877)"
      ]
     },
     "execution_count": 16,
     "metadata": {},
     "output_type": "execute_result"
    }
   ],
   "source": [
    "np.round(pi2d[-1], 4), np.round(pi3d[-1], 4), np.round(pi4d[-1], 4), np.round(pi5d[-1], 4), np.round(pi6d[-1], 4)"
   ]
  },
  {
   "cell_type": "markdown",
   "id": "c4924959",
   "metadata": {},
   "source": [
    "- No sembla que se'n va molt del valor que estem intentant estimar. \n",
    "- Perquè nomès fem 1 estimació. \n",
    "- Més que mirar si el valor que estimem s'aproxima a pi. Mirarem si donades n estimacions. si fem no 1, sino 100 vegades. quina variabilitat hi ha entre els valors que estimem. \n",
    "- Hauríem de veure si amb 2d fem una estimació més acurada, tots els 100 valors s'han d'apropar i com + dimensions, la variabilitat serà més gran. (ha de tenir més/menys variança). &rarr; mirar al notebook 31. "
   ]
  }
 ],
 "metadata": {
  "kernelspec": {
   "display_name": "Python 3 (ipykernel)",
   "language": "python",
   "name": "python3"
  },
  "language_info": {
   "codemirror_mode": {
    "name": "ipython",
    "version": 3
   },
   "file_extension": ".py",
   "mimetype": "text/x-python",
   "name": "python",
   "nbconvert_exporter": "python",
   "pygments_lexer": "ipython3",
   "version": "3.11.5"
  }
 },
 "nbformat": 4,
 "nbformat_minor": 5
}
