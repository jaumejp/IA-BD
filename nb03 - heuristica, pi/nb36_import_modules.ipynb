{
 "cells": [
  {
   "cell_type": "markdown",
   "id": "0f3291e2",
   "metadata": {},
   "source": [
    "### Import our own modules"
   ]
  },
  {
   "cell_type": "code",
   "execution_count": 1,
   "id": "7e43e967",
   "metadata": {},
   "outputs": [
    {
     "ename": "ModuleNotFoundError",
     "evalue": "No module named 'nb35'",
     "output_type": "error",
     "traceback": [
      "\u001b[0;31m---------------------------------------------------------------------------\u001b[0m",
      "\u001b[0;31mModuleNotFoundError\u001b[0m                       Traceback (most recent call last)",
      "Cell \u001b[0;32mIn[1], line 1\u001b[0m\n\u001b[0;32m----> 1\u001b[0m \u001b[38;5;28;01mimport\u001b[39;00m \u001b[38;5;21;01mnb35\u001b[39;00m\n",
      "\u001b[0;31mModuleNotFoundError\u001b[0m: No module named 'nb35'"
     ]
    }
   ],
   "source": [
    "import nb35"
   ]
  },
  {
   "cell_type": "markdown",
   "id": "dd8c4186",
   "metadata": {},
   "source": [
    "##### modules need to be reachable through the python path "
   ]
  },
  {
   "cell_type": "code",
   "execution_count": 2,
   "id": "97bb3291",
   "metadata": {},
   "outputs": [],
   "source": [
    "import sys"
   ]
  },
  {
   "cell_type": "code",
   "execution_count": 3,
   "id": "c8349140",
   "metadata": {},
   "outputs": [
    {
     "data": {
      "text/plain": [
       "['/home/jgarriga/pia/_2324/ipynb',\n",
       " '/home/jgarriga/miniconda3/envs/pia/lib/python311.zip',\n",
       " '/home/jgarriga/miniconda3/envs/pia/lib/python3.11',\n",
       " '/home/jgarriga/miniconda3/envs/pia/lib/python3.11/lib-dynload',\n",
       " '',\n",
       " '/home/jgarriga/miniconda3/envs/pia/lib/python3.11/site-packages']"
      ]
     },
     "execution_count": 3,
     "metadata": {},
     "output_type": "execute_result"
    }
   ],
   "source": [
    "sys.path"
   ]
  },
  {
   "cell_type": "markdown",
   "id": "7d3ad263",
   "metadata": {},
   "source": [
    "##### add the path to sys.path"
   ]
  },
  {
   "cell_type": "code",
   "execution_count": 4,
   "id": "d75b0280",
   "metadata": {},
   "outputs": [],
   "source": [
    "sys.path.append('/home/jgarriga/pia/_2324/modules')"
   ]
  },
  {
   "cell_type": "code",
   "execution_count": 5,
   "id": "86e51e2b",
   "metadata": {},
   "outputs": [
    {
     "data": {
      "text/plain": [
       "['/home/jgarriga/pia/_2324/ipynb',\n",
       " '/home/jgarriga/miniconda3/envs/pia/lib/python311.zip',\n",
       " '/home/jgarriga/miniconda3/envs/pia/lib/python3.11',\n",
       " '/home/jgarriga/miniconda3/envs/pia/lib/python3.11/lib-dynload',\n",
       " '',\n",
       " '/home/jgarriga/miniconda3/envs/pia/lib/python3.11/site-packages',\n",
       " '/home/jgarriga/pia/_2324/modules']"
      ]
     },
     "execution_count": 5,
     "metadata": {},
     "output_type": "execute_result"
    }
   ],
   "source": [
    "sys.path"
   ]
  },
  {
   "cell_type": "markdown",
   "id": "94bc9c40",
   "metadata": {},
   "source": [
    "##### now we can import the module"
   ]
  },
  {
   "cell_type": "code",
   "execution_count": 6,
   "id": "0b43d779",
   "metadata": {},
   "outputs": [],
   "source": [
    "import nb35"
   ]
  },
  {
   "cell_type": "markdown",
   "id": "04ea0f0f",
   "metadata": {},
   "source": [
    "##### all vars, functions and classes defined in the module are now accessible "
   ]
  },
  {
   "cell_type": "markdown",
   "id": "ffece743",
   "metadata": {},
   "source": [
    "- create an example dataset with categorical vars"
   ]
  },
  {
   "cell_type": "code",
   "execution_count": 7,
   "id": "db4ddc67",
   "metadata": {},
   "outputs": [
    {
     "data": {
      "text/html": [
       "<div>\n",
       "<style scoped>\n",
       "    .dataframe tbody tr th:only-of-type {\n",
       "        vertical-align: middle;\n",
       "    }\n",
       "\n",
       "    .dataframe tbody tr th {\n",
       "        vertical-align: top;\n",
       "    }\n",
       "\n",
       "    .dataframe thead th {\n",
       "        text-align: right;\n",
       "    }\n",
       "</style>\n",
       "<table border=\"1\" class=\"dataframe\">\n",
       "  <thead>\n",
       "    <tr style=\"text-align: right;\">\n",
       "      <th></th>\n",
       "      <th>C0</th>\n",
       "      <th>C1</th>\n",
       "      <th>C2</th>\n",
       "      <th>D0</th>\n",
       "      <th>D1</th>\n",
       "      <th>D2</th>\n",
       "    </tr>\n",
       "  </thead>\n",
       "  <tbody>\n",
       "    <tr>\n",
       "      <th>0</th>\n",
       "      <td>0.337002</td>\n",
       "      <td>0.396483</td>\n",
       "      <td>0.266515</td>\n",
       "      <td>E</td>\n",
       "      <td>C</td>\n",
       "      <td>A</td>\n",
       "    </tr>\n",
       "    <tr>\n",
       "      <th>1</th>\n",
       "      <td>0.600735</td>\n",
       "      <td>0.199586</td>\n",
       "      <td>0.199679</td>\n",
       "      <td>E</td>\n",
       "      <td>C</td>\n",
       "      <td>A</td>\n",
       "    </tr>\n",
       "    <tr>\n",
       "      <th>2</th>\n",
       "      <td>0.769906</td>\n",
       "      <td>0.169496</td>\n",
       "      <td>0.060598</td>\n",
       "      <td>E</td>\n",
       "      <td>D</td>\n",
       "      <td>A</td>\n",
       "    </tr>\n",
       "    <tr>\n",
       "      <th>3</th>\n",
       "      <td>0.551509</td>\n",
       "      <td>0.292761</td>\n",
       "      <td>0.155730</td>\n",
       "      <td>E</td>\n",
       "      <td>C</td>\n",
       "      <td>B</td>\n",
       "    </tr>\n",
       "    <tr>\n",
       "      <th>4</th>\n",
       "      <td>0.607631</td>\n",
       "      <td>0.277797</td>\n",
       "      <td>0.114573</td>\n",
       "      <td>D</td>\n",
       "      <td>C</td>\n",
       "      <td>B</td>\n",
       "    </tr>\n",
       "  </tbody>\n",
       "</table>\n",
       "</div>"
      ],
      "text/plain": [
       "         C0        C1        C2 D0 D1 D2\n",
       "0  0.337002  0.396483  0.266515  E  C  A\n",
       "1  0.600735  0.199586  0.199679  E  C  A\n",
       "2  0.769906  0.169496  0.060598  E  D  A\n",
       "3  0.551509  0.292761  0.155730  E  C  B\n",
       "4  0.607631  0.277797  0.114573  D  C  B"
      ]
     },
     "execution_count": 7,
     "metadata": {},
     "output_type": "execute_result"
    }
   ],
   "source": [
    "df = nb35.dataset_1()\n",
    "df.head()"
   ]
  },
  {
   "cell_type": "markdown",
   "id": "fc2ed03c",
   "metadata": {},
   "source": [
    "- compute the contingency table"
   ]
  },
  {
   "cell_type": "code",
   "execution_count": 8,
   "id": "f39a88de",
   "metadata": {},
   "outputs": [],
   "source": [
    "ct = nb35.ContingencyTable2D(df.D1, df.D2)"
   ]
  },
  {
   "cell_type": "code",
   "execution_count": 9,
   "id": "1d4031e8",
   "metadata": {},
   "outputs": [
    {
     "data": {
      "text/plain": [
       "array([[ 0.,  0.,  0.,  1.,  0.],\n",
       "       [ 3.,  4.,  9.,  2.,  1.],\n",
       "       [11., 25.,  7.,  4.,  0.],\n",
       "       [ 5.,  9.,  4.,  3.,  0.],\n",
       "       [ 2.,  3.,  2.,  0.,  0.],\n",
       "       [ 1.,  2.,  0.,  0.,  0.],\n",
       "       [ 0.,  2.,  0.,  0.,  0.]])"
      ]
     },
     "execution_count": 9,
     "metadata": {},
     "output_type": "execute_result"
    }
   ],
   "source": [
    "ct.counts"
   ]
  },
  {
   "cell_type": "code",
   "execution_count": 10,
   "id": "4d0e8f3b",
   "metadata": {},
   "outputs": [
    {
     "data": {
      "text/plain": [
       "array([ 1., 19., 47., 21.,  7.,  3.,  2.])"
      ]
     },
     "execution_count": 10,
     "metadata": {},
     "output_type": "execute_result"
    }
   ],
   "source": [
    "ct.mrgX()"
   ]
  },
  {
   "cell_type": "code",
   "execution_count": 11,
   "id": "8cb984ed",
   "metadata": {},
   "outputs": [
    {
     "data": {
      "text/plain": [
       "array([22., 45., 22., 10.,  1.])"
      ]
     },
     "execution_count": 11,
     "metadata": {},
     "output_type": "execute_result"
    }
   ],
   "source": [
    "ct.mrgY()"
   ]
  }
 ],
 "metadata": {
  "kernelspec": {
   "display_name": "Python 3 (ipykernel)",
   "language": "python",
   "name": "python3"
  },
  "language_info": {
   "codemirror_mode": {
    "name": "ipython",
    "version": 3
   },
   "file_extension": ".py",
   "mimetype": "text/x-python",
   "name": "python",
   "nbconvert_exporter": "python",
   "pygments_lexer": "ipython3",
   "version": "3.11.5"
  }
 },
 "nbformat": 4,
 "nbformat_minor": 5
}
