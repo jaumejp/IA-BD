{
 "cells": [
  {
   "cell_type": "markdown",
   "id": "1f870f7d",
   "metadata": {},
   "source": [
    "# Metodes dels Strings de Python"
   ]
  },
  {
   "cell_type": "markdown",
   "id": "265d11d6",
   "metadata": {},
   "source": [
    "### Split\n",
    "\n",
    "Serveix per separar un string a partir d'un cert caràcter."
   ]
  },
  {
   "cell_type": "code",
   "execution_count": 44,
   "id": "d0539ccf",
   "metadata": {},
   "outputs": [
    {
     "data": {
      "text/plain": [
       "['1', '19', '48']"
      ]
     },
     "execution_count": 44,
     "metadata": {},
     "output_type": "execute_result"
    }
   ],
   "source": [
    "time = \"1:19:48\"\n",
    "parts = time.split(\":\")\n",
    "parts"
   ]
  },
  {
   "cell_type": "markdown",
   "id": "405eb434",
   "metadata": {},
   "source": [
    "### Replace\n",
    "Canvia la cadena de caràcters de dins d'un string per la indicada."
   ]
  },
  {
   "cell_type": "code",
   "execution_count": 11,
   "id": "7571b2a5",
   "metadata": {},
   "outputs": [
    {
     "data": {
      "text/plain": [
       "'Python is lovely'"
      ]
     },
     "execution_count": 11,
     "metadata": {},
     "output_type": "execute_result"
    }
   ],
   "source": [
    "message = \"JavaScript is lovely\"\n",
    "message.replace(\"JavaScript\", \"Python\")"
   ]
  },
  {
   "cell_type": "markdown",
   "id": "c25fe225",
   "metadata": {},
   "source": [
    "Podem agregar un paràmetre opcional per determinar quants cops volem executar la funció. Sino ho farà per tots"
   ]
  },
  {
   "cell_type": "code",
   "execution_count": 28,
   "id": "651f0afe",
   "metadata": {},
   "outputs": [
    {
     "data": {
      "text/plain": [
       "'Python is lovely????'"
      ]
     },
     "execution_count": 28,
     "metadata": {},
     "output_type": "execute_result"
    }
   ],
   "source": [
    "message = \"Python is lovely!!!!\"\n",
    "message.replace(\"!\", \"?\")"
   ]
  },
  {
   "cell_type": "code",
   "execution_count": 30,
   "id": "c3be44df",
   "metadata": {},
   "outputs": [
    {
     "data": {
      "text/plain": [
       "'Python is lovely???!'"
      ]
     },
     "execution_count": 30,
     "metadata": {},
     "output_type": "execute_result"
    }
   ],
   "source": [
    "message = \"Python is lovely!!!!\"\n",
    "message.replace(\"!\", \"?\", 3)"
   ]
  },
  {
   "cell_type": "markdown",
   "id": "82ed1303",
   "metadata": {},
   "source": [
    "### Upper\n",
    "Return a case-normalized version of the string"
   ]
  },
  {
   "cell_type": "code",
   "execution_count": 20,
   "id": "4175bebc",
   "metadata": {},
   "outputs": [
    {
     "data": {
      "text/plain": [
       "('Trey', 'TREY')"
      ]
     },
     "execution_count": 20,
     "metadata": {},
     "output_type": "execute_result"
    }
   ],
   "source": [
    "name = \"Trey\"\n",
    "upper_name = name.upper()\n",
    "\n",
    "name, upper_name"
   ]
  },
  {
   "cell_type": "markdown",
   "id": "a6f14960",
   "metadata": {},
   "source": [
    "### Lower\n",
    "Serveix per passar el string a minúscula"
   ]
  },
  {
   "cell_type": "code",
   "execution_count": 32,
   "id": "057fd8dd",
   "metadata": {},
   "outputs": [
    {
     "data": {
      "text/plain": [
       "('Trey', 'trey')"
      ]
     },
     "execution_count": 32,
     "metadata": {},
     "output_type": "execute_result"
    }
   ],
   "source": [
    "name = \"Trey\"\n",
    "lower_name = name.lower()\n",
    "\n",
    "name, lower_name"
   ]
  },
  {
   "cell_type": "markdown",
   "id": "bbb3be7a",
   "metadata": {},
   "source": [
    "### Capitalize\n",
    "Serveix per posar la primera lletra del string amb majuscula."
   ]
  },
  {
   "cell_type": "code",
   "execution_count": 34,
   "id": "91901c2b",
   "metadata": {},
   "outputs": [
    {
     "data": {
      "text/plain": [
       "('trey', 'Trey')"
      ]
     },
     "execution_count": 34,
     "metadata": {},
     "output_type": "execute_result"
    }
   ],
   "source": [
    "name = \"trey\"\n",
    "cap_name = name.capitalize()\n",
    "\n",
    "name, cap_name"
   ]
  },
  {
   "cell_type": "markdown",
   "id": "8ce3e262",
   "metadata": {},
   "source": [
    "# Mètodes de les llistes amb Python"
   ]
  },
  {
   "cell_type": "markdown",
   "id": "dfbc8c85",
   "metadata": {},
   "source": [
    "### Sort\n",
    "Serveix per ordenar la llista."
   ]
  },
  {
   "cell_type": "code",
   "execution_count": 54,
   "id": "073bb68c",
   "metadata": {},
   "outputs": [
    {
     "data": {
      "text/plain": [
       "[1, 2, 3]"
      ]
     },
     "execution_count": 54,
     "metadata": {},
     "output_type": "execute_result"
    }
   ],
   "source": [
    "l = [3,2,1]\n",
    "l.sort()\n",
    "l"
   ]
  },
  {
   "cell_type": "markdown",
   "id": "e985d48b",
   "metadata": {},
   "source": [
    "### Append i Insert\n",
    "- Append, serveix per afegir un element al final de la llista\n",
    "- Insert, afegeix un element a un index en concret"
   ]
  },
  {
   "cell_type": "code",
   "execution_count": 45,
   "id": "4cc9f376",
   "metadata": {},
   "outputs": [
    {
     "name": "stdout",
     "output_type": "stream",
     "text": [
      "[1, 2, 3]\n"
     ]
    },
    {
     "data": {
      "text/plain": [
       "[1, 2, 3, 4]"
      ]
     },
     "execution_count": 45,
     "metadata": {},
     "output_type": "execute_result"
    }
   ],
   "source": [
    "l = [1,2,3]\n",
    "print(l)\n",
    "\n",
    "l.append(4)\n",
    "l"
   ]
  },
  {
   "cell_type": "code",
   "execution_count": 46,
   "id": "e3d5dd07",
   "metadata": {},
   "outputs": [
    {
     "data": {
      "text/plain": [
       "[0, 1, 2, 3, 4]"
      ]
     },
     "execution_count": 46,
     "metadata": {},
     "output_type": "execute_result"
    }
   ],
   "source": [
    "l.insert(0, 0)\n",
    "l"
   ]
  },
  {
   "cell_type": "markdown",
   "id": "9862d71d",
   "metadata": {},
   "source": [
    "### Pop i Remove\n",
    "- Pop, serveix per eliminar un en un index en concret\n",
    "- Remove serveix per eliminar un cert valor, si no especifiquem, borrarà l'últim."
   ]
  },
  {
   "cell_type": "code",
   "execution_count": 38,
   "id": "6ea74687",
   "metadata": {},
   "outputs": [
    {
     "data": {
      "text/plain": [
       "[1, 2, 3]"
      ]
     },
     "execution_count": 38,
     "metadata": {},
     "output_type": "execute_result"
    }
   ],
   "source": [
    "l.pop()\n",
    "l"
   ]
  },
  {
   "cell_type": "code",
   "execution_count": 39,
   "id": "b8f4f89c",
   "metadata": {},
   "outputs": [
    {
     "data": {
      "text/plain": [
       "[2, 3]"
      ]
     },
     "execution_count": 39,
     "metadata": {},
     "output_type": "execute_result"
    }
   ],
   "source": [
    "l.pop(0)\n",
    "l"
   ]
  },
  {
   "cell_type": "code",
   "execution_count": 40,
   "id": "c09e9ae7",
   "metadata": {},
   "outputs": [
    {
     "data": {
      "text/plain": [
       "[3]"
      ]
     },
     "execution_count": 40,
     "metadata": {},
     "output_type": "execute_result"
    }
   ],
   "source": [
    "l.remove(2)\n",
    "l"
   ]
  },
  {
   "cell_type": "markdown",
   "id": "4324fed1",
   "metadata": {},
   "source": [
    "### index\n",
    "Serveix per buscar quin index té un element"
   ]
  },
  {
   "cell_type": "code",
   "execution_count": 49,
   "id": "10dbeac6",
   "metadata": {},
   "outputs": [
    {
     "data": {
      "text/plain": [
       "3"
      ]
     },
     "execution_count": 49,
     "metadata": {},
     "output_type": "execute_result"
    }
   ],
   "source": [
    "l.index(3)"
   ]
  }
 ],
 "metadata": {
  "kernelspec": {
   "display_name": "Python 3 (ipykernel)",
   "language": "python",
   "name": "python3"
  },
  "language_info": {
   "codemirror_mode": {
    "name": "ipython",
    "version": 3
   },
   "file_extension": ".py",
   "mimetype": "text/x-python",
   "name": "python",
   "nbconvert_exporter": "python",
   "pygments_lexer": "ipython3",
   "version": "3.11.5"
  }
 },
 "nbformat": 4,
 "nbformat_minor": 5
}
