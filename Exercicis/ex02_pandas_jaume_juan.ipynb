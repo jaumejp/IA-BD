{
 "cells": [
  {
   "cell_type": "markdown",
   "metadata": {},
   "source": [
    "# Exercicis - Pandas  <img align=\"right\"  width=\"185\" height=\"75\"  src=\"../Notebooks/imgs/pandas-logo.png\" alt=\"pandas_logo\"/>\n",
    "\n",
    "Exercicis relacionats en lla llibreria [Pandas](https://pandas.pydata.org/) per el tractament de dades\n",
    "\n",
    "\n",
    "\n"
   ]
  },
  {
   "cell_type": "markdown",
   "metadata": {},
   "source": [
    "## Exercici 1\n",
    "Crea un DataFrame anomenat `fruites` seguint la següent estructura\n",
    "\n",
    "|   | Pomes | Peres |\n",
    "|---|-------|-------|\n",
    "| 0 | 21    | 22    |"
   ]
  },
  {
   "cell_type": "code",
   "execution_count": 1,
   "metadata": {},
   "outputs": [],
   "source": [
    "import pandas as pd\n",
    "import numpy as np"
   ]
  },
  {
   "cell_type": "code",
   "execution_count": 2,
   "metadata": {},
   "outputs": [
    {
     "data": {
      "text/html": [
       "<div>\n",
       "<style scoped>\n",
       "    .dataframe tbody tr th:only-of-type {\n",
       "        vertical-align: middle;\n",
       "    }\n",
       "\n",
       "    .dataframe tbody tr th {\n",
       "        vertical-align: top;\n",
       "    }\n",
       "\n",
       "    .dataframe thead th {\n",
       "        text-align: right;\n",
       "    }\n",
       "</style>\n",
       "<table border=\"1\" class=\"dataframe\">\n",
       "  <thead>\n",
       "    <tr style=\"text-align: right;\">\n",
       "      <th></th>\n",
       "      <th>Pomes</th>\n",
       "      <th>Peres</th>\n",
       "    </tr>\n",
       "  </thead>\n",
       "  <tbody>\n",
       "    <tr>\n",
       "      <th>0</th>\n",
       "      <td>21</td>\n",
       "      <td>22</td>\n",
       "    </tr>\n",
       "    <tr>\n",
       "      <th>1</th>\n",
       "      <td>22</td>\n",
       "      <td>23</td>\n",
       "    </tr>\n",
       "    <tr>\n",
       "      <th>2</th>\n",
       "      <td>23</td>\n",
       "      <td>24</td>\n",
       "    </tr>\n",
       "    <tr>\n",
       "      <th>3</th>\n",
       "      <td>24</td>\n",
       "      <td>25</td>\n",
       "    </tr>\n",
       "  </tbody>\n",
       "</table>\n",
       "</div>"
      ],
      "text/plain": [
       "   Pomes  Peres\n",
       "0     21     22\n",
       "1     22     23\n",
       "2     23     24\n",
       "3     24     25"
      ]
     },
     "execution_count": 2,
     "metadata": {},
     "output_type": "execute_result"
    }
   ],
   "source": [
    "fruites = pd.DataFrame({'Pomes': [i for i in range(21, 25)],\n",
    "                    'Peres': [i for i in range(22, 26)]\n",
    "                    });\n",
    "fruites"
   ]
  },
  {
   "cell_type": "markdown",
   "metadata": {},
   "source": [
    "## Exercici 2\n",
    "Crea un DataFrame anomenat `vendes_fruites` seguin la següent estructura\n",
    "\n",
    "|      | Pomes | Peres |\n",
    "|------|-------|-------|\n",
    "| 2017 | 21    | 22    |\n",
    "| 2018 | 42    | 15    |"
   ]
  },
  {
   "cell_type": "code",
   "execution_count": 3,
   "metadata": {},
   "outputs": [
    {
     "data": {
      "text/html": [
       "<div>\n",
       "<style scoped>\n",
       "    .dataframe tbody tr th:only-of-type {\n",
       "        vertical-align: middle;\n",
       "    }\n",
       "\n",
       "    .dataframe tbody tr th {\n",
       "        vertical-align: top;\n",
       "    }\n",
       "\n",
       "    .dataframe thead th {\n",
       "        text-align: right;\n",
       "    }\n",
       "</style>\n",
       "<table border=\"1\" class=\"dataframe\">\n",
       "  <thead>\n",
       "    <tr style=\"text-align: right;\">\n",
       "      <th></th>\n",
       "      <th>Pomes</th>\n",
       "      <th>Peres</th>\n",
       "    </tr>\n",
       "  </thead>\n",
       "  <tbody>\n",
       "    <tr>\n",
       "      <th>2017</th>\n",
       "      <td>48</td>\n",
       "      <td>46</td>\n",
       "    </tr>\n",
       "    <tr>\n",
       "      <th>2018</th>\n",
       "      <td>33</td>\n",
       "      <td>88</td>\n",
       "    </tr>\n",
       "    <tr>\n",
       "      <th>2019</th>\n",
       "      <td>17</td>\n",
       "      <td>77</td>\n",
       "    </tr>\n",
       "    <tr>\n",
       "      <th>2020</th>\n",
       "      <td>42</td>\n",
       "      <td>35</td>\n",
       "    </tr>\n",
       "  </tbody>\n",
       "</table>\n",
       "</div>"
      ],
      "text/plain": [
       "      Pomes  Peres\n",
       "2017     48     46\n",
       "2018     33     88\n",
       "2019     17     77\n",
       "2020     42     35"
      ]
     },
     "execution_count": 3,
     "metadata": {},
     "output_type": "execute_result"
    }
   ],
   "source": [
    "number_of_rows = 4\n",
    "\n",
    "index = [i for i in range(2017, 2017 + number_of_rows)]\n",
    "\n",
    "fruites = {\n",
    "    'Pomes': np.random.randint(1, 100, number_of_rows),\n",
    "    'Peres': np.random.randint(1, 100, number_of_rows)\n",
    "}\n",
    "\n",
    "vendes_fruites = pd.DataFrame(fruites, index)\n",
    "\n",
    "vendes_fruites\n"
   ]
  },
  {
   "cell_type": "markdown",
   "metadata": {},
   "source": [
    "## Exercici 3\n",
    "\n",
    "Crea una dataframe `ingredients` mitjançant Series seguin la següent estructura\n",
    "\n",
    "```\n",
    "Flour     4 cups\n",
    "Milk       1 cup\n",
    "Eggs     2 large\n",
    "Spam       1 can\n",
    "Name: Dinner, dtype: object\n",
    "```"
   ]
  },
  {
   "cell_type": "markdown",
   "metadata": {},
   "source": [
    "Crear data series:\n",
    "```python\n",
    "# 1\n",
    "ingredients = pd.Series({\n",
    "    'Flour': '4 cups',\n",
    "    'Milk': '1 cup',\n",
    "    'Eggs': '2 large',\n",
    "    'Spam': '1 can'\n",
    "}, name = 'Dinner')\n",
    "\n",
    "# 2\n",
    "ingredients = pd.Series(['4 cups', '1 cup', '2 large', '1 can'], index=['Flour', 'Milk', 'Eggs', 'Spam'], name='Dinner')\n",
    "```"
   ]
  },
  {
   "cell_type": "code",
   "execution_count": 4,
   "metadata": {},
   "outputs": [
    {
     "data": {
      "text/html": [
       "<div>\n",
       "<style scoped>\n",
       "    .dataframe tbody tr th:only-of-type {\n",
       "        vertical-align: middle;\n",
       "    }\n",
       "\n",
       "    .dataframe tbody tr th {\n",
       "        vertical-align: top;\n",
       "    }\n",
       "\n",
       "    .dataframe thead th {\n",
       "        text-align: right;\n",
       "    }\n",
       "</style>\n",
       "<table border=\"1\" class=\"dataframe\">\n",
       "  <thead>\n",
       "    <tr style=\"text-align: right;\">\n",
       "      <th></th>\n",
       "      <th>ingredients</th>\n",
       "      <th>qty</th>\n",
       "      <th>unit</th>\n",
       "    </tr>\n",
       "  </thead>\n",
       "  <tbody>\n",
       "    <tr>\n",
       "      <th>0</th>\n",
       "      <td>Flour</td>\n",
       "      <td>4</td>\n",
       "      <td>cups</td>\n",
       "    </tr>\n",
       "    <tr>\n",
       "      <th>1</th>\n",
       "      <td>Milk</td>\n",
       "      <td>1</td>\n",
       "      <td>cup</td>\n",
       "    </tr>\n",
       "    <tr>\n",
       "      <th>2</th>\n",
       "      <td>Eggs</td>\n",
       "      <td>2</td>\n",
       "      <td>large</td>\n",
       "    </tr>\n",
       "    <tr>\n",
       "      <th>3</th>\n",
       "      <td>Spam</td>\n",
       "      <td>1</td>\n",
       "      <td>can</td>\n",
       "    </tr>\n",
       "  </tbody>\n",
       "</table>\n",
       "</div>"
      ],
      "text/plain": [
       "  ingredients qty   unit\n",
       "0       Flour   4   cups\n",
       "1        Milk   1    cup\n",
       "2        Eggs   2  large\n",
       "3        Spam   1    can"
      ]
     },
     "execution_count": 4,
     "metadata": {},
     "output_type": "execute_result"
    }
   ],
   "source": [
    "ingredients = pd.Series(['Flour', 'Milk', 'Eggs', 'Spam'], name = 'ingredients')\n",
    "qty = pd.Series(['4', '1', '2', '1'], name = 'qty')\n",
    "unit = pd.Series(['cups', 'cup', 'large', 'can'], name = 'unit')\n",
    "\n",
    "dinner_dataframe = pd.concat((ingredients, qty, unit), axis = 1)\n",
    "\n",
    "dinner_dataframe"
   ]
  },
  {
   "cell_type": "markdown",
   "metadata": {},
   "source": [
    "# Exercici 4\n",
    "Salva el DataFrame en un fitxer CSV"
   ]
  },
  {
   "cell_type": "code",
   "execution_count": 5,
   "metadata": {},
   "outputs": [],
   "source": [
    "dinner_dataframe.to_csv('prova_export.csv', index = False)"
   ]
  },
  {
   "cell_type": "markdown",
   "metadata": {},
   "source": [
    "# Exercici 5\n",
    "Llegeix el següent conjunt de dades CSV de valoracions de vins dins d'un DataFrame anomenat `reviews`\n",
    "\n",
    "Origen de dades: dataset/wine-reviews/winemag-data_first150k.csv"
   ]
  },
  {
   "cell_type": "code",
   "execution_count": 6,
   "metadata": {},
   "outputs": [
    {
     "data": {
      "text/html": [
       "<div>\n",
       "<style scoped>\n",
       "    .dataframe tbody tr th:only-of-type {\n",
       "        vertical-align: middle;\n",
       "    }\n",
       "\n",
       "    .dataframe tbody tr th {\n",
       "        vertical-align: top;\n",
       "    }\n",
       "\n",
       "    .dataframe thead th {\n",
       "        text-align: right;\n",
       "    }\n",
       "</style>\n",
       "<table border=\"1\" class=\"dataframe\">\n",
       "  <thead>\n",
       "    <tr style=\"text-align: right;\">\n",
       "      <th></th>\n",
       "      <th>Unnamed: 0</th>\n",
       "      <th>country</th>\n",
       "      <th>description</th>\n",
       "      <th>designation</th>\n",
       "      <th>points</th>\n",
       "      <th>price</th>\n",
       "      <th>province</th>\n",
       "      <th>region_1</th>\n",
       "      <th>region_2</th>\n",
       "      <th>variety</th>\n",
       "      <th>winery</th>\n",
       "    </tr>\n",
       "  </thead>\n",
       "  <tbody>\n",
       "    <tr>\n",
       "      <th>0</th>\n",
       "      <td>0</td>\n",
       "      <td>US</td>\n",
       "      <td>This tremendous 100% varietal wine hails from ...</td>\n",
       "      <td>Martha's Vineyard</td>\n",
       "      <td>96</td>\n",
       "      <td>235.0</td>\n",
       "      <td>California</td>\n",
       "      <td>Napa Valley</td>\n",
       "      <td>Napa</td>\n",
       "      <td>Cabernet Sauvignon</td>\n",
       "      <td>Heitz</td>\n",
       "    </tr>\n",
       "    <tr>\n",
       "      <th>1</th>\n",
       "      <td>1</td>\n",
       "      <td>Spain</td>\n",
       "      <td>Ripe aromas of fig, blackberry and cassis are ...</td>\n",
       "      <td>Carodorum Selección Especial Reserva</td>\n",
       "      <td>96</td>\n",
       "      <td>110.0</td>\n",
       "      <td>Northern Spain</td>\n",
       "      <td>Toro</td>\n",
       "      <td>NaN</td>\n",
       "      <td>Tinta de Toro</td>\n",
       "      <td>Bodega Carmen Rodríguez</td>\n",
       "    </tr>\n",
       "    <tr>\n",
       "      <th>2</th>\n",
       "      <td>2</td>\n",
       "      <td>US</td>\n",
       "      <td>Mac Watson honors the memory of a wine once ma...</td>\n",
       "      <td>Special Selected Late Harvest</td>\n",
       "      <td>96</td>\n",
       "      <td>90.0</td>\n",
       "      <td>California</td>\n",
       "      <td>Knights Valley</td>\n",
       "      <td>Sonoma</td>\n",
       "      <td>Sauvignon Blanc</td>\n",
       "      <td>Macauley</td>\n",
       "    </tr>\n",
       "  </tbody>\n",
       "</table>\n",
       "</div>"
      ],
      "text/plain": [
       "   Unnamed: 0 country                                        description  \\\n",
       "0           0      US  This tremendous 100% varietal wine hails from ...   \n",
       "1           1   Spain  Ripe aromas of fig, blackberry and cassis are ...   \n",
       "2           2      US  Mac Watson honors the memory of a wine once ma...   \n",
       "\n",
       "                            designation  points  price        province  \\\n",
       "0                     Martha's Vineyard      96  235.0      California   \n",
       "1  Carodorum Selección Especial Reserva      96  110.0  Northern Spain   \n",
       "2         Special Selected Late Harvest      96   90.0      California   \n",
       "\n",
       "         region_1 region_2             variety                   winery  \n",
       "0     Napa Valley     Napa  Cabernet Sauvignon                    Heitz  \n",
       "1            Toro      NaN       Tinta de Toro  Bodega Carmen Rodríguez  \n",
       "2  Knights Valley   Sonoma     Sauvignon Blanc                 Macauley  "
      ]
     },
     "execution_count": 6,
     "metadata": {},
     "output_type": "execute_result"
    }
   ],
   "source": [
    "valoracions = pd.read_csv('../../Notebooks/Dades/winemag-data_first150k.csv')\n",
    "valoracions.head(3)"
   ]
  },
  {
   "cell_type": "markdown",
   "metadata": {},
   "source": [
    "# Exercici 6\n",
    "\n",
    "Selecciona la columna `description` de les valoracions i guard-ho a la variable `desc`"
   ]
  },
  {
   "cell_type": "code",
   "execution_count": 7,
   "metadata": {},
   "outputs": [
    {
     "data": {
      "text/plain": [
       "0         This tremendous 100% varietal wine hails from ...\n",
       "1         Ripe aromas of fig, blackberry and cassis are ...\n",
       "2         Mac Watson honors the memory of a wine once ma...\n",
       "3         This spent 20 months in 30% new French oak, an...\n",
       "4         This is the top wine from La Bégude, named aft...\n",
       "                                ...                        \n",
       "150925    Many people feel Fiano represents southern Ita...\n",
       "150926    Offers an intriguing nose with ginger, lime an...\n",
       "150927    This classic example comes from a cru vineyard...\n",
       "150928    A perfect salmon shade, with scents of peaches...\n",
       "150929    More Pinot Grigios should taste like this. A r...\n",
       "Name: description, Length: 150930, dtype: object"
      ]
     },
     "execution_count": 7,
     "metadata": {},
     "output_type": "execute_result"
    }
   ],
   "source": [
    "desc = valoracions.loc[:,\"description\"]\n",
    "desc"
   ]
  },
  {
   "cell_type": "markdown",
   "metadata": {},
   "source": [
    "# Exercici 7\n",
    "Seleciona el primer valor de la columna `description` de les valoracions. Assigna el resultat a la variable `primera_descripcio`"
   ]
  },
  {
   "cell_type": "code",
   "execution_count": 8,
   "metadata": {},
   "outputs": [
    {
     "data": {
      "text/plain": [
       "'This tremendous 100% varietal wine hails from Oakville and was aged over three years in oak. Juicy red-cherry fruit and a compelling hint of caramel greet the palate, framed by elegant, fine tannins and a subtle minty tone in the background. Balanced and rewarding from start to finish, it has years ahead of it to develop further nuance. Enjoy 2022–2030.'"
      ]
     },
     "execution_count": 8,
     "metadata": {},
     "output_type": "execute_result"
    }
   ],
   "source": [
    "primera_descripcio = desc[0]\n",
    "primera_descripcio"
   ]
  },
  {
   "cell_type": "markdown",
   "metadata": {},
   "source": [
    "# Exercici 8\n",
    "Selecciona la primera fila / primer registre de les valoracions, assigna-ho a la variable `primera_fila`"
   ]
  },
  {
   "cell_type": "code",
   "execution_count": 9,
   "metadata": {},
   "outputs": [
    {
     "data": {
      "text/plain": [
       "Unnamed: 0                                                     0\n",
       "country                                                       US\n",
       "description    This tremendous 100% varietal wine hails from ...\n",
       "designation                                    Martha's Vineyard\n",
       "points                                                        96\n",
       "price                                                      235.0\n",
       "province                                              California\n",
       "region_1                                             Napa Valley\n",
       "region_2                                                    Napa\n",
       "variety                                       Cabernet Sauvignon\n",
       "winery                                                     Heitz\n",
       "Name: 0, dtype: object"
      ]
     },
     "execution_count": 9,
     "metadata": {},
     "output_type": "execute_result"
    }
   ],
   "source": [
    "primera_fila = valoracions.iloc[0]\n",
    "primera_fila"
   ]
  },
  {
   "cell_type": "markdown",
   "metadata": {},
   "source": [
    "# Exercici 9\n",
    "Selecciona els 10 primers valors de la columna `description` de les valoracions, assigna el resultat a la variable `primeres_descripcions`."
   ]
  },
  {
   "cell_type": "code",
   "execution_count": 10,
   "metadata": {},
   "outputs": [
    {
     "data": {
      "text/plain": [
       "0    This tremendous 100% varietal wine hails from ...\n",
       "1    Ripe aromas of fig, blackberry and cassis are ...\n",
       "2    Mac Watson honors the memory of a wine once ma...\n",
       "3    This spent 20 months in 30% new French oak, an...\n",
       "4    This is the top wine from La Bégude, named aft...\n",
       "5    Deep, dense and pure from the opening bell, th...\n",
       "6    Slightly gritty black-fruit aromas include a s...\n",
       "7    Lush cedary black-fruit aromas are luxe and of...\n",
       "8    This re-named vineyard was formerly bottled as...\n",
       "9    The producer sources from two blocks of the vi...\n",
       "Name: description, dtype: object"
      ]
     },
     "execution_count": 10,
     "metadata": {},
     "output_type": "execute_result"
    }
   ],
   "source": [
    "primeres_descripcions = valoracions.loc[:9,\"description\"]\n",
    "primeres_descripcions"
   ]
  },
  {
   "cell_type": "markdown",
   "metadata": {},
   "source": [
    "# Exercici 10\n",
    "Selecciona els registres dels següents índexs: 1, 2, 3, 5, i 8, assigna el resultats a la variable sample_reviews.\n",
    "\n",
    "![](https://i.imgur.com/sHZvI1O.png)"
   ]
  },
  {
   "cell_type": "code",
   "execution_count": 11,
   "metadata": {},
   "outputs": [
    {
     "data": {
      "text/html": [
       "<div>\n",
       "<style scoped>\n",
       "    .dataframe tbody tr th:only-of-type {\n",
       "        vertical-align: middle;\n",
       "    }\n",
       "\n",
       "    .dataframe tbody tr th {\n",
       "        vertical-align: top;\n",
       "    }\n",
       "\n",
       "    .dataframe thead th {\n",
       "        text-align: right;\n",
       "    }\n",
       "</style>\n",
       "<table border=\"1\" class=\"dataframe\">\n",
       "  <thead>\n",
       "    <tr style=\"text-align: right;\">\n",
       "      <th></th>\n",
       "      <th>Unnamed: 0</th>\n",
       "      <th>country</th>\n",
       "      <th>description</th>\n",
       "      <th>designation</th>\n",
       "      <th>points</th>\n",
       "      <th>price</th>\n",
       "      <th>province</th>\n",
       "      <th>region_1</th>\n",
       "      <th>region_2</th>\n",
       "      <th>variety</th>\n",
       "      <th>winery</th>\n",
       "    </tr>\n",
       "  </thead>\n",
       "  <tbody>\n",
       "    <tr>\n",
       "      <th>1</th>\n",
       "      <td>1</td>\n",
       "      <td>Spain</td>\n",
       "      <td>Ripe aromas of fig, blackberry and cassis are ...</td>\n",
       "      <td>Carodorum Selección Especial Reserva</td>\n",
       "      <td>96</td>\n",
       "      <td>110.0</td>\n",
       "      <td>Northern Spain</td>\n",
       "      <td>Toro</td>\n",
       "      <td>NaN</td>\n",
       "      <td>Tinta de Toro</td>\n",
       "      <td>Bodega Carmen Rodríguez</td>\n",
       "    </tr>\n",
       "    <tr>\n",
       "      <th>2</th>\n",
       "      <td>2</td>\n",
       "      <td>US</td>\n",
       "      <td>Mac Watson honors the memory of a wine once ma...</td>\n",
       "      <td>Special Selected Late Harvest</td>\n",
       "      <td>96</td>\n",
       "      <td>90.0</td>\n",
       "      <td>California</td>\n",
       "      <td>Knights Valley</td>\n",
       "      <td>Sonoma</td>\n",
       "      <td>Sauvignon Blanc</td>\n",
       "      <td>Macauley</td>\n",
       "    </tr>\n",
       "    <tr>\n",
       "      <th>3</th>\n",
       "      <td>3</td>\n",
       "      <td>US</td>\n",
       "      <td>This spent 20 months in 30% new French oak, an...</td>\n",
       "      <td>Reserve</td>\n",
       "      <td>96</td>\n",
       "      <td>65.0</td>\n",
       "      <td>Oregon</td>\n",
       "      <td>Willamette Valley</td>\n",
       "      <td>Willamette Valley</td>\n",
       "      <td>Pinot Noir</td>\n",
       "      <td>Ponzi</td>\n",
       "    </tr>\n",
       "    <tr>\n",
       "      <th>5</th>\n",
       "      <td>5</td>\n",
       "      <td>Spain</td>\n",
       "      <td>Deep, dense and pure from the opening bell, th...</td>\n",
       "      <td>Numanthia</td>\n",
       "      <td>95</td>\n",
       "      <td>73.0</td>\n",
       "      <td>Northern Spain</td>\n",
       "      <td>Toro</td>\n",
       "      <td>NaN</td>\n",
       "      <td>Tinta de Toro</td>\n",
       "      <td>Numanthia</td>\n",
       "    </tr>\n",
       "    <tr>\n",
       "      <th>8</th>\n",
       "      <td>8</td>\n",
       "      <td>US</td>\n",
       "      <td>This re-named vineyard was formerly bottled as...</td>\n",
       "      <td>Silice</td>\n",
       "      <td>95</td>\n",
       "      <td>65.0</td>\n",
       "      <td>Oregon</td>\n",
       "      <td>Chehalem Mountains</td>\n",
       "      <td>Willamette Valley</td>\n",
       "      <td>Pinot Noir</td>\n",
       "      <td>Bergström</td>\n",
       "    </tr>\n",
       "  </tbody>\n",
       "</table>\n",
       "</div>"
      ],
      "text/plain": [
       "   Unnamed: 0 country                                        description  \\\n",
       "1           1   Spain  Ripe aromas of fig, blackberry and cassis are ...   \n",
       "2           2      US  Mac Watson honors the memory of a wine once ma...   \n",
       "3           3      US  This spent 20 months in 30% new French oak, an...   \n",
       "5           5   Spain  Deep, dense and pure from the opening bell, th...   \n",
       "8           8      US  This re-named vineyard was formerly bottled as...   \n",
       "\n",
       "                            designation  points  price        province  \\\n",
       "1  Carodorum Selección Especial Reserva      96  110.0  Northern Spain   \n",
       "2         Special Selected Late Harvest      96   90.0      California   \n",
       "3                               Reserve      96   65.0          Oregon   \n",
       "5                             Numanthia      95   73.0  Northern Spain   \n",
       "8                                Silice      95   65.0          Oregon   \n",
       "\n",
       "             region_1           region_2          variety  \\\n",
       "1                Toro                NaN    Tinta de Toro   \n",
       "2      Knights Valley             Sonoma  Sauvignon Blanc   \n",
       "3   Willamette Valley  Willamette Valley       Pinot Noir   \n",
       "5                Toro                NaN    Tinta de Toro   \n",
       "8  Chehalem Mountains  Willamette Valley       Pinot Noir   \n",
       "\n",
       "                    winery  \n",
       "1  Bodega Carmen Rodríguez  \n",
       "2                 Macauley  \n",
       "3                    Ponzi  \n",
       "5                Numanthia  \n",
       "8                Bergström  "
      ]
     },
     "execution_count": 11,
     "metadata": {},
     "output_type": "execute_result"
    }
   ],
   "source": [
    "sample_reviews = valoracions.iloc[[1,2,3,5,8], :]\n",
    "sample_reviews"
   ]
  },
  {
   "cell_type": "markdown",
   "metadata": {},
   "source": [
    "# Exercici 11\n",
    "Crea una variable `df` que contingui les columnes `country, province, region_1, and region_2` dels registres amb índexs 0, 1, 10, and 100. Hauria de ser un resultat com aquest:\n",
    "\n",
    "![](https://i.imgur.com/FUCGiKP.png)"
   ]
  },
  {
   "cell_type": "code",
   "execution_count": 12,
   "metadata": {},
   "outputs": [
    {
     "data": {
      "text/html": [
       "<div>\n",
       "<style scoped>\n",
       "    .dataframe tbody tr th:only-of-type {\n",
       "        vertical-align: middle;\n",
       "    }\n",
       "\n",
       "    .dataframe tbody tr th {\n",
       "        vertical-align: top;\n",
       "    }\n",
       "\n",
       "    .dataframe thead th {\n",
       "        text-align: right;\n",
       "    }\n",
       "</style>\n",
       "<table border=\"1\" class=\"dataframe\">\n",
       "  <thead>\n",
       "    <tr style=\"text-align: right;\">\n",
       "      <th></th>\n",
       "      <th>country</th>\n",
       "      <th>province</th>\n",
       "      <th>region_1</th>\n",
       "      <th>region_2</th>\n",
       "    </tr>\n",
       "  </thead>\n",
       "  <tbody>\n",
       "    <tr>\n",
       "      <th>0</th>\n",
       "      <td>US</td>\n",
       "      <td>California</td>\n",
       "      <td>Napa Valley</td>\n",
       "      <td>Napa</td>\n",
       "    </tr>\n",
       "    <tr>\n",
       "      <th>1</th>\n",
       "      <td>Spain</td>\n",
       "      <td>Northern Spain</td>\n",
       "      <td>Toro</td>\n",
       "      <td>NaN</td>\n",
       "    </tr>\n",
       "    <tr>\n",
       "      <th>10</th>\n",
       "      <td>Italy</td>\n",
       "      <td>Northeastern Italy</td>\n",
       "      <td>Collio</td>\n",
       "      <td>NaN</td>\n",
       "    </tr>\n",
       "    <tr>\n",
       "      <th>100</th>\n",
       "      <td>US</td>\n",
       "      <td>California</td>\n",
       "      <td>South Coast</td>\n",
       "      <td>South Coast</td>\n",
       "    </tr>\n",
       "  </tbody>\n",
       "</table>\n",
       "</div>"
      ],
      "text/plain": [
       "    country            province     region_1     region_2\n",
       "0        US          California  Napa Valley         Napa\n",
       "1     Spain      Northern Spain         Toro          NaN\n",
       "10    Italy  Northeastern Italy       Collio          NaN\n",
       "100      US          California  South Coast  South Coast"
      ]
     },
     "execution_count": 12,
     "metadata": {},
     "output_type": "execute_result"
    }
   ],
   "source": [
    "df = valoracions.loc[[0,1,10,100], ['country', 'province', 'region_1', 'region_2']]\n",
    "df"
   ]
  },
  {
   "cell_type": "markdown",
   "metadata": {},
   "source": [
    "# Exercici 12\n",
    "Crea una variable `df` que contingui les columnes `country` i `variety` dels primers 100 registres. \n",
    "\n",
    "Utilitza `loc` o `iloc`. Quan treballeu en la resposta a aquesta pregunta i a les diverses que segueixen, recpordeu que:\n",
    "\n",
    "> Compte amb l'ús de `iloc`. En aquest cas, `df.iloc[0:1000]` retornarà 1000 entrades, mentre que `df.loc[0:1000]` en retornarà 1001! Per obtenir 1000 elements amb `loc`, haureu d'anar un més avall i demanar `df.loc[0:999]`."
   ]
  },
  {
   "cell_type": "code",
   "execution_count": 13,
   "metadata": {},
   "outputs": [
    {
     "data": {
      "text/html": [
       "<div>\n",
       "<style scoped>\n",
       "    .dataframe tbody tr th:only-of-type {\n",
       "        vertical-align: middle;\n",
       "    }\n",
       "\n",
       "    .dataframe tbody tr th {\n",
       "        vertical-align: top;\n",
       "    }\n",
       "\n",
       "    .dataframe thead th {\n",
       "        text-align: right;\n",
       "    }\n",
       "</style>\n",
       "<table border=\"1\" class=\"dataframe\">\n",
       "  <thead>\n",
       "    <tr style=\"text-align: right;\">\n",
       "      <th></th>\n",
       "      <th>country</th>\n",
       "      <th>variety</th>\n",
       "    </tr>\n",
       "  </thead>\n",
       "  <tbody>\n",
       "    <tr>\n",
       "      <th>0</th>\n",
       "      <td>US</td>\n",
       "      <td>Cabernet Sauvignon</td>\n",
       "    </tr>\n",
       "    <tr>\n",
       "      <th>1</th>\n",
       "      <td>Spain</td>\n",
       "      <td>Tinta de Toro</td>\n",
       "    </tr>\n",
       "    <tr>\n",
       "      <th>2</th>\n",
       "      <td>US</td>\n",
       "      <td>Sauvignon Blanc</td>\n",
       "    </tr>\n",
       "    <tr>\n",
       "      <th>3</th>\n",
       "      <td>US</td>\n",
       "      <td>Pinot Noir</td>\n",
       "    </tr>\n",
       "    <tr>\n",
       "      <th>4</th>\n",
       "      <td>France</td>\n",
       "      <td>Provence red blend</td>\n",
       "    </tr>\n",
       "    <tr>\n",
       "      <th>...</th>\n",
       "      <td>...</td>\n",
       "      <td>...</td>\n",
       "    </tr>\n",
       "    <tr>\n",
       "      <th>94</th>\n",
       "      <td>Portugal</td>\n",
       "      <td>Portuguese Red</td>\n",
       "    </tr>\n",
       "    <tr>\n",
       "      <th>95</th>\n",
       "      <td>France</td>\n",
       "      <td>Malbec-Merlot</td>\n",
       "    </tr>\n",
       "    <tr>\n",
       "      <th>96</th>\n",
       "      <td>US</td>\n",
       "      <td>Chardonnay</td>\n",
       "    </tr>\n",
       "    <tr>\n",
       "      <th>97</th>\n",
       "      <td>US</td>\n",
       "      <td>Cabernet Sauvignon</td>\n",
       "    </tr>\n",
       "    <tr>\n",
       "      <th>98</th>\n",
       "      <td>France</td>\n",
       "      <td>Merlot-Malbec</td>\n",
       "    </tr>\n",
       "  </tbody>\n",
       "</table>\n",
       "<p>99 rows × 2 columns</p>\n",
       "</div>"
      ],
      "text/plain": [
       "     country             variety\n",
       "0         US  Cabernet Sauvignon\n",
       "1      Spain       Tinta de Toro\n",
       "2         US     Sauvignon Blanc\n",
       "3         US          Pinot Noir\n",
       "4     France  Provence red blend\n",
       "..       ...                 ...\n",
       "94  Portugal      Portuguese Red\n",
       "95    France       Malbec-Merlot\n",
       "96        US          Chardonnay\n",
       "97        US  Cabernet Sauvignon\n",
       "98    France       Merlot-Malbec\n",
       "\n",
       "[99 rows x 2 columns]"
      ]
     },
     "execution_count": 13,
     "metadata": {},
     "output_type": "execute_result"
    }
   ],
   "source": [
    "df = valoracions.loc[0:99, ['country', 'variety']]\n",
    "df = valoracions.iloc[0:99, [1,9]]\n",
    "df"
   ]
  },
  {
   "cell_type": "markdown",
   "metadata": {},
   "source": [
    "# Exercici 13\n",
    "Crea un DataFrame anomenat vins_italians que contingui les valoracions dels vins d'Itàlia\n"
   ]
  },
  {
   "cell_type": "code",
   "execution_count": 14,
   "metadata": {},
   "outputs": [
    {
     "data": {
      "text/html": [
       "<div>\n",
       "<style scoped>\n",
       "    .dataframe tbody tr th:only-of-type {\n",
       "        vertical-align: middle;\n",
       "    }\n",
       "\n",
       "    .dataframe tbody tr th {\n",
       "        vertical-align: top;\n",
       "    }\n",
       "\n",
       "    .dataframe thead th {\n",
       "        text-align: right;\n",
       "    }\n",
       "</style>\n",
       "<table border=\"1\" class=\"dataframe\">\n",
       "  <thead>\n",
       "    <tr style=\"text-align: right;\">\n",
       "      <th></th>\n",
       "      <th>Unnamed: 0</th>\n",
       "      <th>country</th>\n",
       "      <th>description</th>\n",
       "      <th>designation</th>\n",
       "      <th>points</th>\n",
       "      <th>price</th>\n",
       "      <th>province</th>\n",
       "      <th>region_1</th>\n",
       "      <th>region_2</th>\n",
       "      <th>variety</th>\n",
       "      <th>winery</th>\n",
       "    </tr>\n",
       "  </thead>\n",
       "  <tbody>\n",
       "    <tr>\n",
       "      <th>29814</th>\n",
       "      <td>29814</td>\n",
       "      <td>Italy</td>\n",
       "      <td>Fresh, bright and aromatic, this easygoing Mos...</td>\n",
       "      <td>NaN</td>\n",
       "      <td>85</td>\n",
       "      <td>10.0</td>\n",
       "      <td>Italy Other</td>\n",
       "      <td>Italy</td>\n",
       "      <td>NaN</td>\n",
       "      <td>Moscato</td>\n",
       "      <td>Gionelli</td>\n",
       "    </tr>\n",
       "    <tr>\n",
       "      <th>32227</th>\n",
       "      <td>32227</td>\n",
       "      <td>Italy</td>\n",
       "      <td>Described as medium-sweet on the label, this l...</td>\n",
       "      <td>NaN</td>\n",
       "      <td>83</td>\n",
       "      <td>10.0</td>\n",
       "      <td>Italy Other</td>\n",
       "      <td>Italy</td>\n",
       "      <td>NaN</td>\n",
       "      <td>White Blend</td>\n",
       "      <td>Canti</td>\n",
       "    </tr>\n",
       "    <tr>\n",
       "      <th>33052</th>\n",
       "      <td>33052</td>\n",
       "      <td>Italy</td>\n",
       "      <td>Made from partially fermented grape must, this...</td>\n",
       "      <td>Rosso e Dolce</td>\n",
       "      <td>80</td>\n",
       "      <td>11.0</td>\n",
       "      <td>Italy Other</td>\n",
       "      <td>Italy</td>\n",
       "      <td>NaN</td>\n",
       "      <td>Brachetto</td>\n",
       "      <td>Stella Mia</td>\n",
       "    </tr>\n",
       "  </tbody>\n",
       "</table>\n",
       "</div>"
      ],
      "text/plain": [
       "       Unnamed: 0 country                                        description  \\\n",
       "29814       29814   Italy  Fresh, bright and aromatic, this easygoing Mos...   \n",
       "32227       32227   Italy  Described as medium-sweet on the label, this l...   \n",
       "33052       33052   Italy  Made from partially fermented grape must, this...   \n",
       "\n",
       "         designation  points  price     province region_1 region_2  \\\n",
       "29814            NaN      85   10.0  Italy Other    Italy      NaN   \n",
       "32227            NaN      83   10.0  Italy Other    Italy      NaN   \n",
       "33052  Rosso e Dolce      80   11.0  Italy Other    Italy      NaN   \n",
       "\n",
       "           variety      winery  \n",
       "29814      Moscato    Gionelli  \n",
       "32227  White Blend       Canti  \n",
       "33052    Brachetto  Stella Mia  "
      ]
     },
     "execution_count": 14,
     "metadata": {},
     "output_type": "execute_result"
    }
   ],
   "source": [
    "vins_italians = valoracions.loc[valoracions['region_1'] == 'Italy']\n",
    "vins_italians.head(3)"
   ]
  },
  {
   "cell_type": "markdown",
   "metadata": {},
   "source": [
    "# Exercici 14\n",
    "Crea un DataFrame `top_oceania_wines` que contingui totes les valoracions de com a mínim amb un 95 de puntuació dels vins d'Australia (Australia) i Nova Zelanda (New Zeeland)."
   ]
  },
  {
   "cell_type": "code",
   "execution_count": 15,
   "metadata": {},
   "outputs": [
    {
     "data": {
      "text/html": [
       "<div>\n",
       "<style scoped>\n",
       "    .dataframe tbody tr th:only-of-type {\n",
       "        vertical-align: middle;\n",
       "    }\n",
       "\n",
       "    .dataframe tbody tr th {\n",
       "        vertical-align: top;\n",
       "    }\n",
       "\n",
       "    .dataframe thead th {\n",
       "        text-align: right;\n",
       "    }\n",
       "</style>\n",
       "<table border=\"1\" class=\"dataframe\">\n",
       "  <thead>\n",
       "    <tr style=\"text-align: right;\">\n",
       "      <th></th>\n",
       "      <th>Unnamed: 0</th>\n",
       "      <th>country</th>\n",
       "      <th>description</th>\n",
       "      <th>designation</th>\n",
       "      <th>points</th>\n",
       "      <th>price</th>\n",
       "      <th>province</th>\n",
       "      <th>region_1</th>\n",
       "      <th>region_2</th>\n",
       "      <th>variety</th>\n",
       "      <th>winery</th>\n",
       "    </tr>\n",
       "  </thead>\n",
       "  <tbody>\n",
       "  </tbody>\n",
       "</table>\n",
       "</div>"
      ],
      "text/plain": [
       "Empty DataFrame\n",
       "Columns: [Unnamed: 0, country, description, designation, points, price, province, region_1, region_2, variety, winery]\n",
       "Index: []"
      ]
     },
     "execution_count": 15,
     "metadata": {},
     "output_type": "execute_result"
    }
   ],
   "source": [
    "top_oceania_wines = valoracions.loc[(valoracions['points'] >= 95) & ((valoracions['region_1'] == 'New Zeeland') | (valoracions['region_1'] == 'Australia'))]\n",
    "top_oceania_wines"
   ]
  },
  {
   "cell_type": "markdown",
   "metadata": {},
   "source": [
    "# Exercici 15"
   ]
  },
  {
   "cell_type": "markdown",
   "metadata": {},
   "source": [
    "---------------------\n",
    "\n",
    "A partir d'aquest exercici utilitza el dataset `dataset/wine-reviews/winemag-data-130k-v2.csv`\n",
    "\n",
    "---------------------"
   ]
  },
  {
   "cell_type": "code",
   "execution_count": 16,
   "metadata": {},
   "outputs": [
    {
     "data": {
      "text/html": [
       "<div>\n",
       "<style scoped>\n",
       "    .dataframe tbody tr th:only-of-type {\n",
       "        vertical-align: middle;\n",
       "    }\n",
       "\n",
       "    .dataframe tbody tr th {\n",
       "        vertical-align: top;\n",
       "    }\n",
       "\n",
       "    .dataframe thead th {\n",
       "        text-align: right;\n",
       "    }\n",
       "</style>\n",
       "<table border=\"1\" class=\"dataframe\">\n",
       "  <thead>\n",
       "    <tr style=\"text-align: right;\">\n",
       "      <th></th>\n",
       "      <th>Unnamed: 0</th>\n",
       "      <th>country</th>\n",
       "      <th>description</th>\n",
       "      <th>designation</th>\n",
       "      <th>points</th>\n",
       "      <th>price</th>\n",
       "      <th>province</th>\n",
       "      <th>region_1</th>\n",
       "      <th>region_2</th>\n",
       "      <th>taster_name</th>\n",
       "      <th>taster_twitter_handle</th>\n",
       "      <th>title</th>\n",
       "      <th>variety</th>\n",
       "      <th>winery</th>\n",
       "    </tr>\n",
       "  </thead>\n",
       "  <tbody>\n",
       "    <tr>\n",
       "      <th>0</th>\n",
       "      <td>0</td>\n",
       "      <td>Italy</td>\n",
       "      <td>Aromas include tropical fruit, broom, brimston...</td>\n",
       "      <td>Vulkà Bianco</td>\n",
       "      <td>87</td>\n",
       "      <td>NaN</td>\n",
       "      <td>Sicily &amp; Sardinia</td>\n",
       "      <td>Etna</td>\n",
       "      <td>NaN</td>\n",
       "      <td>Kerin O’Keefe</td>\n",
       "      <td>@kerinokeefe</td>\n",
       "      <td>Nicosia 2013 Vulkà Bianco  (Etna)</td>\n",
       "      <td>White Blend</td>\n",
       "      <td>Nicosia</td>\n",
       "    </tr>\n",
       "    <tr>\n",
       "      <th>1</th>\n",
       "      <td>1</td>\n",
       "      <td>Portugal</td>\n",
       "      <td>This is ripe and fruity, a wine that is smooth...</td>\n",
       "      <td>Avidagos</td>\n",
       "      <td>87</td>\n",
       "      <td>15.0</td>\n",
       "      <td>Douro</td>\n",
       "      <td>NaN</td>\n",
       "      <td>NaN</td>\n",
       "      <td>Roger Voss</td>\n",
       "      <td>@vossroger</td>\n",
       "      <td>Quinta dos Avidagos 2011 Avidagos Red (Douro)</td>\n",
       "      <td>Portuguese Red</td>\n",
       "      <td>Quinta dos Avidagos</td>\n",
       "    </tr>\n",
       "    <tr>\n",
       "      <th>2</th>\n",
       "      <td>2</td>\n",
       "      <td>US</td>\n",
       "      <td>Tart and snappy, the flavors of lime flesh and...</td>\n",
       "      <td>NaN</td>\n",
       "      <td>87</td>\n",
       "      <td>14.0</td>\n",
       "      <td>Oregon</td>\n",
       "      <td>Willamette Valley</td>\n",
       "      <td>Willamette Valley</td>\n",
       "      <td>Paul Gregutt</td>\n",
       "      <td>@paulgwine</td>\n",
       "      <td>Rainstorm 2013 Pinot Gris (Willamette Valley)</td>\n",
       "      <td>Pinot Gris</td>\n",
       "      <td>Rainstorm</td>\n",
       "    </tr>\n",
       "  </tbody>\n",
       "</table>\n",
       "</div>"
      ],
      "text/plain": [
       "   Unnamed: 0   country                                        description  \\\n",
       "0           0     Italy  Aromas include tropical fruit, broom, brimston...   \n",
       "1           1  Portugal  This is ripe and fruity, a wine that is smooth...   \n",
       "2           2        US  Tart and snappy, the flavors of lime flesh and...   \n",
       "\n",
       "    designation  points  price           province           region_1  \\\n",
       "0  Vulkà Bianco      87    NaN  Sicily & Sardinia               Etna   \n",
       "1      Avidagos      87   15.0              Douro                NaN   \n",
       "2           NaN      87   14.0             Oregon  Willamette Valley   \n",
       "\n",
       "            region_2    taster_name taster_twitter_handle  \\\n",
       "0                NaN  Kerin O’Keefe          @kerinokeefe   \n",
       "1                NaN     Roger Voss            @vossroger   \n",
       "2  Willamette Valley   Paul Gregutt           @paulgwine    \n",
       "\n",
       "                                           title         variety  \\\n",
       "0              Nicosia 2013 Vulkà Bianco  (Etna)     White Blend   \n",
       "1  Quinta dos Avidagos 2011 Avidagos Red (Douro)  Portuguese Red   \n",
       "2  Rainstorm 2013 Pinot Gris (Willamette Valley)      Pinot Gris   \n",
       "\n",
       "                winery  \n",
       "0              Nicosia  \n",
       "1  Quinta dos Avidagos  \n",
       "2            Rainstorm  "
      ]
     },
     "execution_count": 16,
     "metadata": {},
     "output_type": "execute_result"
    }
   ],
   "source": [
    "df = pd.read_csv('../../Notebooks/Dades/winemag-data-130k-v2.csv')\n",
    "df.head(3)"
   ]
  },
  {
   "cell_type": "markdown",
   "metadata": {},
   "source": [
    "Crea una \"Sèrie\" a on líndex sigui el compte de twitter i els valors quantes ressenyes ha escrit."
   ]
  },
  {
   "cell_type": "code",
   "execution_count": 17,
   "metadata": {},
   "outputs": [
    {
     "data": {
      "text/plain": [
       "@vossroger          25514\n",
       "@wineschach         15134\n",
       "@kerinokeefe        10776\n",
       "@vboone              9537\n",
       "@paulgwine           9532\n",
       "@mattkettmann        6332\n",
       "@JoeCz               5147\n",
       "@wawinereport        4966\n",
       "@gordone_cellars     4177\n",
       "@AnneInVino          3685\n",
       "@laurbuzz            1835\n",
       "@suskostrzewa        1085\n",
       "@worldwineguys       1005\n",
       "@bkfiona               27\n",
       "@winewchristina         6\n",
       "Name: Twitter, dtype: int64"
      ]
     },
     "execution_count": 17,
     "metadata": {},
     "output_type": "execute_result"
    }
   ],
   "source": [
    "serie = pd.Series(df['taster_twitter_handle'].value_counts(), name='Twitter')\n",
    "serie"
   ]
  },
  {
   "cell_type": "markdown",
   "metadata": {},
   "source": [
    "# Exercici 16\n",
    "\n",
    "Quin és el millor vi que puc comprar per una quantitat determinada de diners? \n",
    "\n",
    "Crea una sèrie a on l'índex sigui els preus del vi i els valors siguin el nombre màxim de punts que es va donar en un vi per aquest preu.\n",
    "\n",
    "Ordena els valors per preu, de manera ascendent (de manera que 4,0 dòlars estiguin a la part superior i 3300,0 dòlars a la part inferior)."
   ]
  },
  {
   "cell_type": "code",
   "execution_count": 18,
   "metadata": {},
   "outputs": [
    {
     "data": {
      "text/html": [
       "<div>\n",
       "<style scoped>\n",
       "    .dataframe tbody tr th:only-of-type {\n",
       "        vertical-align: middle;\n",
       "    }\n",
       "\n",
       "    .dataframe tbody tr th {\n",
       "        vertical-align: top;\n",
       "    }\n",
       "\n",
       "    .dataframe thead th {\n",
       "        text-align: right;\n",
       "    }\n",
       "</style>\n",
       "<table border=\"1\" class=\"dataframe\">\n",
       "  <thead>\n",
       "    <tr style=\"text-align: right;\">\n",
       "      <th></th>\n",
       "      <th>Unnamed: 0</th>\n",
       "      <th>country</th>\n",
       "      <th>description</th>\n",
       "      <th>designation</th>\n",
       "      <th>points</th>\n",
       "      <th>price</th>\n",
       "      <th>province</th>\n",
       "      <th>region_1</th>\n",
       "      <th>region_2</th>\n",
       "      <th>taster_name</th>\n",
       "      <th>taster_twitter_handle</th>\n",
       "      <th>title</th>\n",
       "      <th>variety</th>\n",
       "      <th>winery</th>\n",
       "    </tr>\n",
       "  </thead>\n",
       "  <tbody>\n",
       "    <tr>\n",
       "      <th>80290</th>\n",
       "      <td>80290</td>\n",
       "      <td>France</td>\n",
       "      <td>This ripe wine shows plenty of blackberry frui...</td>\n",
       "      <td>NaN</td>\n",
       "      <td>88</td>\n",
       "      <td>3300.0</td>\n",
       "      <td>Bordeaux</td>\n",
       "      <td>Médoc</td>\n",
       "      <td>NaN</td>\n",
       "      <td>Roger Voss</td>\n",
       "      <td>@vossroger</td>\n",
       "      <td>Château les Ormes Sorbet 2013  Médoc</td>\n",
       "      <td>Bordeaux-style Red Blend</td>\n",
       "      <td>Château les Ormes Sorbet</td>\n",
       "    </tr>\n",
       "  </tbody>\n",
       "</table>\n",
       "</div>"
      ],
      "text/plain": [
       "       Unnamed: 0 country                                        description  \\\n",
       "80290       80290  France  This ripe wine shows plenty of blackberry frui...   \n",
       "\n",
       "      designation  points   price  province region_1 region_2 taster_name  \\\n",
       "80290         NaN      88  3300.0  Bordeaux    Médoc      NaN  Roger Voss   \n",
       "\n",
       "      taster_twitter_handle                                 title  \\\n",
       "80290            @vossroger  Château les Ormes Sorbet 2013  Médoc   \n",
       "\n",
       "                        variety                    winery  \n",
       "80290  Bordeaux-style Red Blend  Château les Ormes Sorbet  "
      ]
     },
     "execution_count": 18,
     "metadata": {},
     "output_type": "execute_result"
    }
   ],
   "source": [
    "millor = df.loc[df['price'] == df.price.max()]\n",
    "millor"
   ]
  },
  {
   "cell_type": "code",
   "execution_count": 19,
   "metadata": {},
   "outputs": [
    {
     "data": {
      "text/plain": [
       "price\n",
       "4.0       86\n",
       "5.0       87\n",
       "6.0       88\n",
       "7.0       91\n",
       "8.0       91\n",
       "          ..\n",
       "1900.0    98\n",
       "2000.0    97\n",
       "2013.0    91\n",
       "2500.0    96\n",
       "3300.0    88\n",
       "Name: points, Length: 390, dtype: int64"
      ]
     },
     "execution_count": 19,
     "metadata": {},
     "output_type": "execute_result"
    }
   ],
   "source": [
    "serie_2 = df.groupby('price').points.max()\n",
    "\n",
    "# serie_2 = df.groupby(['price', 'description']).points.max()\n",
    "\n",
    "serie_2"
   ]
  },
  {
   "cell_type": "code",
   "execution_count": 20,
   "metadata": {},
   "outputs": [
    {
     "data": {
      "text/plain": [
       "price\n",
       "4.0       86\n",
       "5.0       87\n",
       "6.0       88\n",
       "7.0       91\n",
       "8.0       91\n",
       "          ..\n",
       "1900.0    98\n",
       "2000.0    97\n",
       "2013.0    91\n",
       "2500.0    96\n",
       "3300.0    88\n",
       "Name: points, Length: 390, dtype: int64"
      ]
     },
     "execution_count": 20,
     "metadata": {},
     "output_type": "execute_result"
    }
   ],
   "source": [
    "serie_2.sort_index(ascending = True)"
   ]
  },
  {
   "cell_type": "markdown",
   "metadata": {},
   "source": [
    "# Exercici 17\n",
    "\n",
    "Quins són els preus mínims i màxims per a cada varietat de vi?\n",
    "\n",
    "De cada varietat de vi volem saber el preu mínim i màxim ."
   ]
  },
  {
   "cell_type": "code",
   "execution_count": 21,
   "metadata": {},
   "outputs": [
    {
     "data": {
      "text/html": [
       "<div>\n",
       "<style scoped>\n",
       "    .dataframe tbody tr th:only-of-type {\n",
       "        vertical-align: middle;\n",
       "    }\n",
       "\n",
       "    .dataframe tbody tr th {\n",
       "        vertical-align: top;\n",
       "    }\n",
       "\n",
       "    .dataframe thead th {\n",
       "        text-align: right;\n",
       "    }\n",
       "</style>\n",
       "<table border=\"1\" class=\"dataframe\">\n",
       "  <thead>\n",
       "    <tr style=\"text-align: right;\">\n",
       "      <th></th>\n",
       "      <th>min</th>\n",
       "      <th>max</th>\n",
       "    </tr>\n",
       "    <tr>\n",
       "      <th>variety</th>\n",
       "      <th></th>\n",
       "      <th></th>\n",
       "    </tr>\n",
       "  </thead>\n",
       "  <tbody>\n",
       "    <tr>\n",
       "      <th>Abouriou</th>\n",
       "      <td>15.0</td>\n",
       "      <td>75.0</td>\n",
       "    </tr>\n",
       "    <tr>\n",
       "      <th>Agiorgitiko</th>\n",
       "      <td>10.0</td>\n",
       "      <td>66.0</td>\n",
       "    </tr>\n",
       "    <tr>\n",
       "      <th>Aglianico</th>\n",
       "      <td>6.0</td>\n",
       "      <td>180.0</td>\n",
       "    </tr>\n",
       "    <tr>\n",
       "      <th>Aidani</th>\n",
       "      <td>27.0</td>\n",
       "      <td>27.0</td>\n",
       "    </tr>\n",
       "    <tr>\n",
       "      <th>Airen</th>\n",
       "      <td>8.0</td>\n",
       "      <td>10.0</td>\n",
       "    </tr>\n",
       "    <tr>\n",
       "      <th>...</th>\n",
       "      <td>...</td>\n",
       "      <td>...</td>\n",
       "    </tr>\n",
       "    <tr>\n",
       "      <th>Zinfandel</th>\n",
       "      <td>5.0</td>\n",
       "      <td>100.0</td>\n",
       "    </tr>\n",
       "    <tr>\n",
       "      <th>Zlahtina</th>\n",
       "      <td>13.0</td>\n",
       "      <td>16.0</td>\n",
       "    </tr>\n",
       "    <tr>\n",
       "      <th>Zweigelt</th>\n",
       "      <td>9.0</td>\n",
       "      <td>70.0</td>\n",
       "    </tr>\n",
       "    <tr>\n",
       "      <th>Çalkarası</th>\n",
       "      <td>19.0</td>\n",
       "      <td>19.0</td>\n",
       "    </tr>\n",
       "    <tr>\n",
       "      <th>Žilavka</th>\n",
       "      <td>15.0</td>\n",
       "      <td>15.0</td>\n",
       "    </tr>\n",
       "  </tbody>\n",
       "</table>\n",
       "<p>707 rows × 2 columns</p>\n",
       "</div>"
      ],
      "text/plain": [
       "              min    max\n",
       "variety                 \n",
       "Abouriou     15.0   75.0\n",
       "Agiorgitiko  10.0   66.0\n",
       "Aglianico     6.0  180.0\n",
       "Aidani       27.0   27.0\n",
       "Airen         8.0   10.0\n",
       "...           ...    ...\n",
       "Zinfandel     5.0  100.0\n",
       "Zlahtina     13.0   16.0\n",
       "Zweigelt      9.0   70.0\n",
       "Çalkarası    19.0   19.0\n",
       "Žilavka      15.0   15.0\n",
       "\n",
       "[707 rows x 2 columns]"
      ]
     },
     "execution_count": 21,
     "metadata": {},
     "output_type": "execute_result"
    }
   ],
   "source": [
    "preus_varietats = df.groupby('variety').price.agg([min, max])\n",
    "preus_varietats"
   ]
  },
  {
   "cell_type": "markdown",
   "metadata": {},
   "source": [
    "# Exercici 18\n",
    "\n",
    "Quines són les varietats de vi més cares? \n",
    "\n",
    "Guarda en una variable `ordre_varietats` que contingui una còpia de les dades de la pregunta anterior on les varietats s'ordenen en ordre descendent en funció del preu mínim i després del preu màxim.\n"
   ]
  },
  {
   "cell_type": "code",
   "execution_count": 25,
   "metadata": {},
   "outputs": [
    {
     "data": {
      "text/html": [
       "<div>\n",
       "<style scoped>\n",
       "    .dataframe tbody tr th:only-of-type {\n",
       "        vertical-align: middle;\n",
       "    }\n",
       "\n",
       "    .dataframe tbody tr th {\n",
       "        vertical-align: top;\n",
       "    }\n",
       "\n",
       "    .dataframe thead th {\n",
       "        text-align: right;\n",
       "    }\n",
       "</style>\n",
       "<table border=\"1\" class=\"dataframe\">\n",
       "  <thead>\n",
       "    <tr style=\"text-align: right;\">\n",
       "      <th></th>\n",
       "      <th>min</th>\n",
       "      <th>max</th>\n",
       "    </tr>\n",
       "    <tr>\n",
       "      <th>variety</th>\n",
       "      <th></th>\n",
       "      <th></th>\n",
       "    </tr>\n",
       "  </thead>\n",
       "  <tbody>\n",
       "    <tr>\n",
       "      <th>Merlot</th>\n",
       "      <td>4.0</td>\n",
       "      <td>625.0</td>\n",
       "    </tr>\n",
       "    <tr>\n",
       "      <th>Syrah</th>\n",
       "      <td>4.0</td>\n",
       "      <td>750.0</td>\n",
       "    </tr>\n",
       "    <tr>\n",
       "      <th>Tempranillo</th>\n",
       "      <td>4.0</td>\n",
       "      <td>600.0</td>\n",
       "    </tr>\n",
       "    <tr>\n",
       "      <th>White Blend</th>\n",
       "      <td>4.0</td>\n",
       "      <td>375.0</td>\n",
       "    </tr>\n",
       "    <tr>\n",
       "      <th>Malbec-Syrah</th>\n",
       "      <td>4.0</td>\n",
       "      <td>78.0</td>\n",
       "    </tr>\n",
       "    <tr>\n",
       "      <th>...</th>\n",
       "      <td>...</td>\n",
       "      <td>...</td>\n",
       "    </tr>\n",
       "    <tr>\n",
       "      <th>Roscetto</th>\n",
       "      <td>NaN</td>\n",
       "      <td>NaN</td>\n",
       "    </tr>\n",
       "    <tr>\n",
       "      <th>Sauvignon Blanc-Sauvignon Gris</th>\n",
       "      <td>NaN</td>\n",
       "      <td>NaN</td>\n",
       "    </tr>\n",
       "    <tr>\n",
       "      <th>Tempranillo-Malbec</th>\n",
       "      <td>NaN</td>\n",
       "      <td>NaN</td>\n",
       "    </tr>\n",
       "    <tr>\n",
       "      <th>Vital</th>\n",
       "      <td>NaN</td>\n",
       "      <td>NaN</td>\n",
       "    </tr>\n",
       "    <tr>\n",
       "      <th>Zelen</th>\n",
       "      <td>NaN</td>\n",
       "      <td>NaN</td>\n",
       "    </tr>\n",
       "  </tbody>\n",
       "</table>\n",
       "<p>707 rows × 2 columns</p>\n",
       "</div>"
      ],
      "text/plain": [
       "                                min    max\n",
       "variety                                   \n",
       "Merlot                          4.0  625.0\n",
       "Syrah                           4.0  750.0\n",
       "Tempranillo                     4.0  600.0\n",
       "White Blend                     4.0  375.0\n",
       "Malbec-Syrah                    4.0   78.0\n",
       "...                             ...    ...\n",
       "Roscetto                        NaN    NaN\n",
       "Sauvignon Blanc-Sauvignon Gris  NaN    NaN\n",
       "Tempranillo-Malbec              NaN    NaN\n",
       "Vital                           NaN    NaN\n",
       "Zelen                           NaN    NaN\n",
       "\n",
       "[707 rows x 2 columns]"
      ]
     },
     "execution_count": 25,
     "metadata": {},
     "output_type": "execute_result"
    }
   ],
   "source": [
    "ordre_varietats = preus_varietats.sort_values(by='min', ascending=True)\n",
    "ordre_varietats"
   ]
  },
  {
   "cell_type": "markdown",
   "metadata": {},
   "source": [
    "# Exercici 19\n",
    "\n",
    "Mostra de cada `reviewer` utilitzant el camp `taster_name` la mitjana de puntuació que fa."
   ]
  },
  {
   "cell_type": "code",
   "execution_count": 30,
   "metadata": {},
   "outputs": [
    {
     "data": {
      "text/plain": [
       "taster_name\n",
       "Alexander Peartree    85.855422\n",
       "Anna Lee C. Iijima    88.415629\n",
       "Anne Krebiehl MW      90.562551\n",
       "Carrie Dykes          86.395683\n",
       "Christina Pickard     87.833333\n",
       "Fiona Adams           86.888889\n",
       "Jeff Jenssen          88.319756\n",
       "Jim Gordon            88.626287\n",
       "Joe Czerwinski        88.536235\n",
       "Kerin O’Keefe         88.867947\n",
       "Lauren Buzzeo         87.739510\n",
       "Matt Kettmann         90.008686\n",
       "Michael Schachner     86.907493\n",
       "Mike DeSimone         89.101167\n",
       "Paul Gregutt          89.082564\n",
       "Roger Voss            88.708003\n",
       "Sean P. Sullivan      88.755739\n",
       "Susan Kostrzewa       86.609217\n",
       "Virginie Boone        89.213379\n",
       "Name: points, dtype: float64"
      ]
     },
     "execution_count": 30,
     "metadata": {},
     "output_type": "execute_result"
    }
   ],
   "source": [
    "reviwers_avg = df.groupby(['taster_name'])['points'].mean()\n",
    "reviwers_avg"
   ]
  },
  {
   "cell_type": "markdown",
   "metadata": {},
   "source": [
    "\n",
    "Hi ha diferències significatives entre puntuacions dels diferents `reviewers`. Utilitza el mètode `describe()` del conjunt resultat de l'exercici."
   ]
  },
  {
   "cell_type": "markdown",
   "metadata": {},
   "source": [
    "# Exercici 20\n",
    "\n",
    "Quina combinació de països i varietats és més habitual? \n",
    "Crea una sèrie amb MultiIndex de parells {país, varietat} juntament amb la quantitat de reviews. \n",
    "Per exemple, un *pinot noir* produït als EUA hauria de correspondre a {\"US\", \"Pinot Noir\"}. \n",
    "Ordena el resultat en ordre descendent en funció del recompte de vins."
   ]
  },
  {
   "cell_type": "code",
   "execution_count": 41,
   "metadata": {},
   "outputs": [
    {
     "data": {
      "text/plain": [
       "country  variety                 \n",
       "US       Pinot Noir                  9885\n",
       "         Cabernet Sauvignon          7315\n",
       "         Chardonnay                  6801\n",
       "France   Bordeaux-style Red Blend    4725\n",
       "Italy    Red Blend                   3624\n",
       "                                     ... \n",
       "Mexico   Cinsault                       1\n",
       "         Grenache                       1\n",
       "         Merlot                         1\n",
       "         Rosado                         1\n",
       "Uruguay  White Blend                    1\n",
       "Length: 1612, dtype: int64"
      ]
     },
     "execution_count": 41,
     "metadata": {},
     "output_type": "execute_result"
    }
   ],
   "source": [
    "df.groupby(['country', 'variety']).size().sort_values(ascending = False)\n",
    "df.value_counts(['country', 'variety'])"
   ]
  },
  {
   "cell_type": "markdown",
   "metadata": {},
   "source": [
    "# Exercici 21\n",
    "\n",
    "Quin és el tipus de dades del camp `points` del dataset? guarda el resultat a una variable anomenada dtype"
   ]
  },
  {
   "cell_type": "code",
   "execution_count": 42,
   "metadata": {},
   "outputs": [
    {
     "data": {
      "text/plain": [
       "dtype('int64')"
      ]
     },
     "execution_count": 42,
     "metadata": {},
     "output_type": "execute_result"
    }
   ],
   "source": [
    "dtype = df.points.dtype\n",
    "dtype"
   ]
  },
  {
   "cell_type": "markdown",
   "metadata": {},
   "source": [
    "# Exercici 22\n",
    "\n",
    "Converteix la columna `points` a strings. El tipus de dades string en Python és `str`."
   ]
  },
  {
   "cell_type": "code",
   "execution_count": 45,
   "metadata": {},
   "outputs": [
    {
     "data": {
      "text/plain": [
       "dtype('O')"
      ]
     },
     "execution_count": 45,
     "metadata": {},
     "output_type": "execute_result"
    }
   ],
   "source": [
    "df.points = df.points.astype(str)\n",
    "df.points.dtype"
   ]
  },
  {
   "cell_type": "markdown",
   "metadata": {},
   "source": [
    "# Exercici 23\n",
    "\n",
    "Alguns valors de la columna `price`són nul·les. Quantes reviews dins del dataset no en sabem el preu?"
   ]
  },
  {
   "cell_type": "code",
   "execution_count": 47,
   "metadata": {},
   "outputs": [
    {
     "data": {
      "text/plain": [
       "8996"
      ]
     },
     "execution_count": 47,
     "metadata": {},
     "output_type": "execute_result"
    }
   ],
   "source": [
    "df['price'].isna().sum()"
   ]
  },
  {
   "cell_type": "markdown",
   "metadata": {},
   "source": [
    "# Exercici 24\n",
    "\n",
    "Quines són les regions productores de vi més habituals? \n",
    "Crea una Sèrie que contabilitzi el nombre de vegades que apareix cada valor del camp `region_1`. En aquest camp hi falten dades. Substitueix els valors que falten per \"Desconegut\" i ordena de forma descendent.\n"
   ]
  },
  {
   "cell_type": "code",
   "execution_count": 50,
   "metadata": {},
   "outputs": [
    {
     "data": {
      "text/plain": [
       "0                   Etna\n",
       "1             Desconegut\n",
       "2      Willamette Valley\n",
       "3    Lake Michigan Shore\n",
       "4      Willamette Valley\n",
       "5                Navarra\n",
       "6               Vittoria\n",
       "7                 Alsace\n",
       "8             Desconegut\n",
       "9                 Alsace\n",
       "Name: region_1, dtype: object"
      ]
     },
     "execution_count": 50,
     "metadata": {},
     "output_type": "execute_result"
    }
   ],
   "source": [
    "df.region_1 = df.region_1.fillna('Desconegut')\n",
    "df.region_1.head(10)"
   ]
  },
  {
   "cell_type": "code",
   "execution_count": 51,
   "metadata": {},
   "outputs": [
    {
     "data": {
      "text/plain": [
       "Desconegut                 21247\n",
       "Napa Valley                 4480\n",
       "Columbia Valley (WA)        4124\n",
       "Russian River Valley        3091\n",
       "California                  2629\n",
       "                           ...  \n",
       "Lamezia                        1\n",
       "Trentino Superiore             1\n",
       "Grave del Friuli               1\n",
       "Vin Santo di Carmignano        1\n",
       "Paestum                        1\n",
       "Name: region_1, Length: 1230, dtype: int64"
      ]
     },
     "execution_count": 51,
     "metadata": {},
     "output_type": "execute_result"
    }
   ],
   "source": [
    "more_appeared = df.region_1.value_counts()\n",
    "more_appeared"
   ]
  },
  {
   "cell_type": "markdown",
   "metadata": {},
   "source": [
    "# Exercici 25\n",
    "\n",
    "`region_1` i `region_2` són noms força poc informatius per a les columnes regionals del conjunt de dades. Canvia el nom d'aquestes columnes per **regió** i **regional** respectivament."
   ]
  },
  {
   "cell_type": "code",
   "execution_count": 53,
   "metadata": {},
   "outputs": [
    {
     "data": {
      "text/html": [
       "<div>\n",
       "<style scoped>\n",
       "    .dataframe tbody tr th:only-of-type {\n",
       "        vertical-align: middle;\n",
       "    }\n",
       "\n",
       "    .dataframe tbody tr th {\n",
       "        vertical-align: top;\n",
       "    }\n",
       "\n",
       "    .dataframe thead th {\n",
       "        text-align: right;\n",
       "    }\n",
       "</style>\n",
       "<table border=\"1\" class=\"dataframe\">\n",
       "  <thead>\n",
       "    <tr style=\"text-align: right;\">\n",
       "      <th></th>\n",
       "      <th>Unnamed: 0</th>\n",
       "      <th>country</th>\n",
       "      <th>description</th>\n",
       "      <th>designation</th>\n",
       "      <th>points</th>\n",
       "      <th>price</th>\n",
       "      <th>province</th>\n",
       "      <th>regió</th>\n",
       "      <th>regional</th>\n",
       "      <th>taster_name</th>\n",
       "      <th>taster_twitter_handle</th>\n",
       "      <th>title</th>\n",
       "      <th>variety</th>\n",
       "      <th>winery</th>\n",
       "    </tr>\n",
       "  </thead>\n",
       "  <tbody>\n",
       "    <tr>\n",
       "      <th>0</th>\n",
       "      <td>0</td>\n",
       "      <td>Italy</td>\n",
       "      <td>Aromas include tropical fruit, broom, brimston...</td>\n",
       "      <td>Vulkà Bianco</td>\n",
       "      <td>87</td>\n",
       "      <td>NaN</td>\n",
       "      <td>Sicily &amp; Sardinia</td>\n",
       "      <td>Etna</td>\n",
       "      <td>NaN</td>\n",
       "      <td>Kerin O’Keefe</td>\n",
       "      <td>@kerinokeefe</td>\n",
       "      <td>Nicosia 2013 Vulkà Bianco  (Etna)</td>\n",
       "      <td>White Blend</td>\n",
       "      <td>Nicosia</td>\n",
       "    </tr>\n",
       "  </tbody>\n",
       "</table>\n",
       "</div>"
      ],
      "text/plain": [
       "   Unnamed: 0 country                                        description  \\\n",
       "0           0   Italy  Aromas include tropical fruit, broom, brimston...   \n",
       "\n",
       "    designation points  price           province regió regional  \\\n",
       "0  Vulkà Bianco     87    NaN  Sicily & Sardinia  Etna      NaN   \n",
       "\n",
       "     taster_name taster_twitter_handle                              title  \\\n",
       "0  Kerin O’Keefe          @kerinokeefe  Nicosia 2013 Vulkà Bianco  (Etna)   \n",
       "\n",
       "       variety   winery  \n",
       "0  White Blend  Nicosia  "
      ]
     },
     "execution_count": 53,
     "metadata": {},
     "output_type": "execute_result"
    }
   ],
   "source": [
    "df.rename(columns = {'region_1':'regió', 'region_2': 'regional'}, inplace = True)\n",
    "df.head(1)"
   ]
  }
 ],
 "metadata": {
  "interpreter": {
   "hash": "1baa965d5efe3ac65b79dfc60c0d706280b1da80fedb7760faf2759126c4f253"
  },
  "kernelspec": {
   "display_name": "Python 3 (ipykernel)",
   "language": "python",
   "name": "python3"
  },
  "language_info": {
   "codemirror_mode": {
    "name": "ipython",
    "version": 3
   },
   "file_extension": ".py",
   "mimetype": "text/x-python",
   "name": "python",
   "nbconvert_exporter": "python",
   "pygments_lexer": "ipython3",
   "version": "3.11.5"
  }
 },
 "nbformat": 4,
 "nbformat_minor": 2
}
