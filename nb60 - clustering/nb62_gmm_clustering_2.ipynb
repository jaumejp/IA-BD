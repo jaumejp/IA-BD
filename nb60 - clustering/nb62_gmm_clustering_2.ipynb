{
 "cells": [
  {
   "cell_type": "markdown",
   "id": "a41ef21f",
   "metadata": {},
   "source": [
    "#### Unsupervised Clustering. Expectation-Maximization Clustering (EMC) algorithm."
   ]
  },
  {
   "cell_type": "markdown",
   "id": "7a81c796",
   "metadata": {},
   "source": [
    "#### EMC"
   ]
  },
  {
   "cell_type": "markdown",
   "id": "17c307bd",
   "metadata": {},
   "source": [
    "- unsupervised clustering algorithm\n",
    "- grups objects into k categories assuming an underlying probability distribution"
   ]
  },
  {
   "cell_type": "markdown",
   "id": "3534c859",
   "metadata": {},
   "source": [
    "#### heuristic"
   ]
  },
  {
   "cell_type": "markdown",
   "id": "4df35277",
   "metadata": {},
   "source": [
    "- maximize the log-likelihood of the probability distribution parameters"
   ]
  },
  {
   "cell_type": "markdown",
   "id": "9f5d4033",
   "metadata": {},
   "source": [
    "#### algorithm"
   ]
  },
  {
   "cell_type": "code",
   "execution_count": null,
   "id": "5ffccae5",
   "metadata": {},
   "outputs": [],
   "source": [
    "import numpy as np\n",
    "import pandas as pd\n",
    "\n",
    "import matplotlib.pyplot as plt\n",
    "import seaborn as sns\n",
    "#sns.set_theme()"
   ]
  },
  {
   "cell_type": "markdown",
   "id": "538e092b",
   "metadata": {},
   "source": [
    "#### generate synthetic dataset"
   ]
  },
  {
   "cell_type": "code",
   "execution_count": null,
   "id": "cd18c90c",
   "metadata": {},
   "outputs": [],
   "source": [
    "from sklearn.datasets import make_classification, make_regression"
   ]
  },
  {
   "cell_type": "code",
   "execution_count": null,
   "id": "a8e04639",
   "metadata": {},
   "outputs": [],
   "source": [
    "X, y = make_classification(n_samples=1000, n_features=5, n_informative = 3, n_classes = 3, n_clusters_per_class = 1, class_sep = 2.0, n_redundant = 0, random_state = 2783)\n",
    "print(X.shape, y.shape)"
   ]
  },
  {
   "cell_type": "markdown",
   "id": "d3ce8d05",
   "metadata": {},
   "source": [
    "#### train/test split"
   ]
  },
  {
   "cell_type": "code",
   "execution_count": null,
   "id": "53706949",
   "metadata": {},
   "outputs": [],
   "source": [
    "from sklearn.model_selection import train_test_split"
   ]
  },
  {
   "cell_type": "code",
   "execution_count": null,
   "id": "03155327",
   "metadata": {},
   "outputs": [],
   "source": [
    "Xtrain, Xtest, Ytrain, Ytest = train_test_split(X, y, test_size = 0.2)"
   ]
  },
  {
   "cell_type": "markdown",
   "id": "f8a8d96b",
   "metadata": {},
   "source": [
    "#### instantiate Gaussian-mixture model (GMM)"
   ]
  },
  {
   "cell_type": "code",
   "execution_count": null,
   "id": "014cd4cf",
   "metadata": {},
   "outputs": [],
   "source": [
    "from sklearn.mixture import GaussianMixture"
   ]
  },
  {
   "cell_type": "code",
   "execution_count": null,
   "id": "3937ea02",
   "metadata": {},
   "outputs": [],
   "source": [
    "gm = GaussianMixture(n_components = 3, random_state = 0).fit(Xtrain)"
   ]
  },
  {
   "cell_type": "code",
   "execution_count": null,
   "id": "0e3acc30",
   "metadata": {},
   "outputs": [],
   "source": [
    "gm.means_"
   ]
  },
  {
   "cell_type": "code",
   "execution_count": null,
   "id": "e2530199",
   "metadata": {},
   "outputs": [],
   "source": [
    "Ypred = gm.predict(Xtest)"
   ]
  },
  {
   "cell_type": "markdown",
   "id": "9e56ed0f",
   "metadata": {},
   "source": [
    "#### evaluate GMM"
   ]
  },
  {
   "cell_type": "code",
   "execution_count": null,
   "id": "bb4cb5fc",
   "metadata": {},
   "outputs": [],
   "source": [
    "from sklearn.metrics import confusion_matrix, ConfusionMatrixDisplay"
   ]
  },
  {
   "cell_type": "code",
   "execution_count": null,
   "id": "ceb21779",
   "metadata": {},
   "outputs": [],
   "source": [
    "cm = confusion_matrix(Ytest, Ypred)"
   ]
  },
  {
   "cell_type": "code",
   "execution_count": null,
   "id": "9a5f2d2b",
   "metadata": {},
   "outputs": [],
   "source": [
    "#ConfusionMatrixDisplay(cm, display_labels = lbls).plot(ax = axs[0], xticks_rotation = 90.0, values_format = '.2f', cmap = 'GnBu')\n",
    "ConfusionMatrixDisplay(cm).plot()"
   ]
  },
  {
   "cell_type": "markdown",
   "id": "7c438f02",
   "metadata": {},
   "source": [
    "#### sample data from the GMM"
   ]
  },
  {
   "cell_type": "code",
   "execution_count": null,
   "id": "f27caf38",
   "metadata": {},
   "outputs": [],
   "source": [
    "gmX = gm.sample(1000)\n",
    "type(gmX), len(gmX)"
   ]
  },
  {
   "cell_type": "code",
   "execution_count": null,
   "id": "05ff6821",
   "metadata": {},
   "outputs": [],
   "source": [
    "gmX[0].shape, gmX[1].shape"
   ]
  },
  {
   "cell_type": "markdown",
   "id": "621e20f2",
   "metadata": {},
   "source": [
    "#### GMM data exploration"
   ]
  },
  {
   "cell_type": "code",
   "execution_count": null,
   "id": "5123c554",
   "metadata": {},
   "outputs": [],
   "source": [
    "df_gm = pd.DataFrame(gmX[0], columns = ['X%d' %j for j in range(gmX[0].shape[1])])\n",
    "df_gm['target'] = gmX[1]\n",
    "df_gm.head()"
   ]
  },
  {
   "cell_type": "code",
   "execution_count": null,
   "id": "dd8189b0",
   "metadata": {},
   "outputs": [],
   "source": [
    "df_gm[df_gm.columns[:-1]].describe()"
   ]
  },
  {
   "cell_type": "code",
   "execution_count": null,
   "id": "f43549ad",
   "metadata": {},
   "outputs": [],
   "source": [
    "df_gm['target'].value_counts()"
   ]
  },
  {
   "cell_type": "code",
   "execution_count": null,
   "id": "09aa6e7e",
   "metadata": {},
   "outputs": [],
   "source": [
    "sns.pairplot(df_gm, hue = 'target', corner = True)"
   ]
  },
  {
   "cell_type": "markdown",
   "id": "f1e6ec69",
   "metadata": {},
   "source": [
    "#### GMM implementation"
   ]
  },
  {
   "cell_type": "code",
   "execution_count": null,
   "id": "6aee9ee4",
   "metadata": {},
   "outputs": [],
   "source": [
    "from scipy.stats import multivariate_normal as mvn"
   ]
  },
  {
   "cell_type": "code",
   "execution_count": null,
   "id": "d408fa0d",
   "metadata": {},
   "outputs": [],
   "source": [
    "class mygmm():\n",
    "    \n",
    "    def __init__(self, k):\n",
    "        \n",
    "        self.k = k\n",
    "        \n",
    "    def fit(self, Xtrain, maxIterations = 100):\n",
    "                \n",
    "        rangeX = Xtrain.max() -Xtrain.min()\n",
    "        \n",
    "        # pick random parameters (mean, sdv) for each gaussian component\n",
    "        # class prior\n",
    "        self.P = np.random.rand(self.k)\n",
    "        self.P /= np.sum(self.P)\n",
    "        # Gaussian means\n",
    "        self.M = np.array([Xtrain.min() +rangeX *np.random.rand(Xtrain.shape[1]) for k in range(self.k)])\n",
    "        # Gaussian covariance matrices \n",
    "        # - diagonal covariance, independent features\n",
    "        #self.S = [np.diag(np.diag(np.random.rand(X.shape[1]**2).reshape(X.shape[1], X.shape[1]))) for k in range(self.k)]\n",
    "        # - full covariance matrix\n",
    "        self.S = np.random.rand(X.shape[1]**2 *self.k).reshape(self.k, X.shape[1], X.shape[1])\n",
    "        self.S = [np.sqrt(np.dot(S, S.T)) for S in self.S]\n",
    "\n",
    "        self.loglkl = np.zeros(maxIterations)\n",
    "        iteration = 0\n",
    "        while iteration < maxIterations:\n",
    "            # E-step\n",
    "            W = np.zeros(Xtrain.shape[0] *self.k).reshape(Xtrain.shape[0], self.k)\n",
    "            for i, x in enumerate(Xtrain):\n",
    "                wi = [p *mvn.pdf(x, mean = m, cov = s) for p, m, s in zip(self.P, self.M, self.S)]\n",
    "                wi /= np.sum(wi)\n",
    "                # save weights\n",
    "                W[i] = wi\n",
    "            # M-step\n",
    "            # 1. update prior\n",
    "            self.P = np.mean(W, axis = 0)\n",
    "            self.P /= np.sum(self.P)\n",
    "            # 2. update means\n",
    "            for c in range(self.k):\n",
    "                self.M[c] = np.sum(np.dot(W[:, c].T, Xtrain), axis = 0) /np.sum(W[:, c])\n",
    "            # 3. update covariance matrix\n",
    "            for c in range(self.k):\n",
    "                for i in range(Xtrain.shape[1]):\n",
    "                    for j in range(Xtrain.shape[1]):\n",
    "                        self.S[c][i,j] = np.sum(W[:, c] *(Xtrain[:, i] -self.M[c][i]) *(Xtrain[:, j] -self.M[c][j])) /np.sum(W[:, c])\n",
    "            # compute loglikelihood\n",
    "            self.loglkl[iteration] = np.sum(np.max(W, axis = 0)) /Xtrain.shape[0]\n",
    "            print('+++ iteration %d %8.6f\\r' %(iteration, self.loglkl[iteration]), end = '')\n",
    "            iteration += 1\n",
    "                    \n",
    "    def plot(self):\n",
    "        plt.plot(self.loglkl)\n",
    "        plt.show()\n",
    "        \n",
    "    def predict(self, Xtest):\n",
    "\n",
    "        S = -np.ones(Xtest.shape[0])\n",
    "        # compute densities\n",
    "        for i, x in enumerate(Xtest):\n",
    "            wi = [p *mvn.pdf(x, mean = m, cov = s) for p, m, s in zip(self.P, self.M, self.S)]\n",
    "            wi /= np.sum(wi)\n",
    "            # assign cluster\n",
    "            S[i] = np.argmax(wi)\n",
    "        \n",
    "        # return predictions\n",
    "        return S\n",
    "        "
   ]
  },
  {
   "cell_type": "code",
   "execution_count": null,
   "id": "30accc3d",
   "metadata": {},
   "outputs": [],
   "source": [
    "self = mygmm(3)"
   ]
  },
  {
   "cell_type": "code",
   "execution_count": null,
   "id": "2e014171",
   "metadata": {},
   "outputs": [],
   "source": [
    "rangeX = Xtrain.max() -Xtrain.min()\n",
    "\n",
    "# pick random parameters (mean, sdv) for each gaussian component\n",
    "# class prior\n",
    "self.P = np.random.rand(self.k)\n",
    "self.P /= np.sum(self.P)\n",
    "# Gaussian means\n",
    "self.M = np.array([Xtrain.min() +rangeX *np.random.rand(Xtrain.shape[1]) for k in range(self.k)])\n",
    "# Gaussian covariance matrices \n",
    "# - diagonal covariance, independent features\n",
    "#self.S = [np.diag(np.diag(np.random.rand(X.shape[1]**2).reshape(X.shape[1], X.shape[1]))) for k in range(self.k)]\n",
    "# - full covariance matrix\n",
    "self.S = np.random.rand(X.shape[1]**2 *self.k).reshape(self.k, X.shape[1], X.shape[1])\n",
    "self.S = [np.dot(S, S.T) for S in self.S]\n"
   ]
  },
  {
   "cell_type": "code",
   "execution_count": null,
   "id": "ba79304b",
   "metadata": {},
   "outputs": [],
   "source": [
    "self.S[0]"
   ]
  },
  {
   "cell_type": "code",
   "execution_count": null,
   "id": "57d89ed4",
   "metadata": {},
   "outputs": [],
   "source": [
    "x = Xtrain[np.random.randint(Xtrain.shape[0])]\n",
    "wi = [p *mvn.pdf(x, mean = m, cov = s) for p, m, s in zip(self.P, self.M, self.S)]\n",
    "wi /np.sum(wi)"
   ]
  },
  {
   "cell_type": "code",
   "execution_count": null,
   "id": "6579827e",
   "metadata": {},
   "outputs": [],
   "source": [
    "%time _mygmm.fit(Xtrain, maxIterations = 50)"
   ]
  },
  {
   "cell_type": "code",
   "execution_count": null,
   "id": "51042c7c",
   "metadata": {},
   "outputs": [],
   "source": [
    "_mygmm.plot()"
   ]
  },
  {
   "cell_type": "code",
   "execution_count": null,
   "id": "bd4b7273",
   "metadata": {},
   "outputs": [],
   "source": [
    "Ypred = _mygmm.predict(Xtest)"
   ]
  },
  {
   "cell_type": "code",
   "execution_count": null,
   "id": "d90f64bb",
   "metadata": {},
   "outputs": [],
   "source": [
    "cm = confusion_matrix(Ytest, Ypred)\n",
    "ConfusionMatrixDisplay(cm).plot()"
   ]
  }
 ],
 "metadata": {
  "kernelspec": {
   "display_name": "Python 3 (ipykernel)",
   "language": "python",
   "name": "python3"
  },
  "language_info": {
   "codemirror_mode": {
    "name": "ipython",
    "version": 3
   },
   "file_extension": ".py",
   "mimetype": "text/x-python",
   "name": "python",
   "nbconvert_exporter": "python",
   "pygments_lexer": "ipython3",
   "version": "3.11.5"
  }
 },
 "nbformat": 4,
 "nbformat_minor": 5
}
